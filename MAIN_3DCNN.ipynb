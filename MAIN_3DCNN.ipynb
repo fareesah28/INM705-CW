{
 "cells": [
  {
   "cell_type": "markdown",
   "metadata": {
    "id": "4EiGo6aEQFhb"
   },
   "source": [
    "**Before running the following, please *download* the file from the following link and *upload it to your Google Drive*:**\n",
    "\n",
    "https://drive.google.com/file/d/145OHbfMAaot25bgx2tDRsiIXvOKLvezi/view?usp=sharing\n"
   ]
  },
  {
   "cell_type": "code",
   "execution_count": null,
   "metadata": {
    "id": "sAzTtPH3T5cp"
   },
   "outputs": [],
   "source": [
    "# RUN JUST ONCE ON COLAB\n",
    "!pip install torch torchvision torchaudio\n",
    "!pip install transformers\n",
    "!pip install scikit-learn\n",
    "!pip install pandas\n",
    "!pip install wandb\n",
    "!pip install opencv-python-headless"
   ]
  },
  {
   "cell_type": "markdown",
   "metadata": {
    "id": "eWSwu37rkwao"
   },
   "source": [
    "## Mount + Unzip\n"
   ]
  },
  {
   "cell_type": "code",
   "execution_count": 1,
   "metadata": {
    "colab": {
     "base_uri": "https://localhost:8080/"
    },
    "id": "-t4k5fXsitWa",
    "outputId": "a5875ca0-350f-4988-d077-33616eb438e9"
   },
   "outputs": [
    {
     "name": "stdout",
     "output_type": "stream",
     "text": [
      "Mounted at /content/drive\n"
     ]
    }
   ],
   "source": [
    "from google.colab import drive\n",
    "drive.mount('/content/drive')"
   ]
  },
  {
   "cell_type": "code",
   "execution_count": 2,
   "metadata": {
    "id": "Xy1urj7Tk-4H"
   },
   "outputs": [],
   "source": [
    "import zipfile\n",
    "with zipfile.ZipFile(\"/content/drive/MyDrive/data_trimmed_clean.zip\", 'r') as zip_ref:\n",
    "    zip_ref.extractall(\"/content\")"
   ]
  },
  {
   "cell_type": "markdown",
   "metadata": {
    "id": "HhD1gSOVlBL3"
   },
   "source": [
    "## Restructure Dataset"
   ]
  },
  {
   "cell_type": "code",
   "execution_count": 3,
   "metadata": {
    "id": "yb7PGfIolvTK"
   },
   "outputs": [],
   "source": [
    "import os, shutil\n",
    "from collections import defaultdict\n",
    "\n",
    "def extract_video_id(filename): # extract the video ID from a frame filename\n",
    "    parts = filename.rsplit(\"_\", 1)\n",
    "    return parts[0] if len(parts) == 2 else filename.split(\"_frame\")[0]\n",
    "\n",
    "def restructure_dataset(src_dir, dst_dir): # restructure dataset by grouping frames into folders per video\n",
    "    os.makedirs(dst_dir, exist_ok=True) # create the destination directory\n",
    "    # iterate over each class folder in the source directory\n",
    "    for class_name in os.listdir(src_dir):\n",
    "        class_path = os.path.join(src_dir, class_name)\n",
    "        if not os.path.isdir(class_path): continue\n",
    "        video_frame_dict = defaultdict(list) # store frames grouped by video ID\n",
    "        # iterate over all frame files in the class folder\n",
    "        for fname in os.listdir(class_path):\n",
    "            if fname.endswith(\".png\"):\n",
    "                vid = extract_video_id(fname)\n",
    "                video_frame_dict[vid].append(fname)\n",
    "        # for each video, create its own folder and copy frames into it\n",
    "        for vid, frames in video_frame_dict.items():\n",
    "            out_folder = os.path.join(dst_dir, class_name, vid)\n",
    "            os.makedirs(out_folder, exist_ok=True)\n",
    "            for f in frames:\n",
    "                shutil.copy2(os.path.join(class_path, f), os.path.join(out_folder, f))\n",
    "\n",
    "# run restructure\n",
    "restructure_dataset(\"/content/data_trimmed/Train\", \"/content/data_trimmed_restructured/Train\")\n",
    "restructure_dataset(\"/content/data_trimmed/Test\", \"/content/data_trimmed_restructured/Test\")"
   ]
  },
  {
   "cell_type": "markdown",
   "metadata": {
    "id": "sUxuB1rYmH6Y"
   },
   "source": [
    "## Data Loading & Pre-processing + Configs"
   ]
  },
  {
   "cell_type": "markdown",
   "metadata": {
    "id": "_G9-A5muU3v2"
   },
   "source": [
    "1. For the class `VideoDatasetSingle`:\n",
    "\n",
    "* PyTorch Dataset for loading a **single sequence** per video.\n",
    "\n",
    "  - Each video is represented by its first `sequence_length` frames.\n",
    "  - Frames are processed using DINOv2's image processor.\n",
    "\n",
    "* Args:\n",
    "  - base_dir (str): Root directory containing videos organized by class.\n",
    "  - label_encoder (LabelEncoder): Encoder to transform class names into numeric labels.\n",
    "  - sequence_length (int): Number of frames per sequence.\n",
    "  - image_size (int): Resize frames to this size (we don't use this currently since resizing is handled inside processor).\n",
    "\n",
    "2. For the class `VideoDatasetMulti`:\n",
    "\n",
    "* PyTorch Dataset for loading **multiple sequences** per video (this uses stride-based sampling).\n",
    "\n",
    "  - Extracts sequences of `sequence_length` frames with a stride.\n",
    "  - Caps the number of sequences per video to 10 (to avoid excessive data - done for feasibility).\n",
    "\n",
    "* Args:\n",
    "  - base_dir (str): Root directory containing videos organized by class.\n",
    "  - label_encoder (LabelEncoder): Encoder to transform class names into numeric labels.\n",
    "  - sequence_length (int): Number of frames per sequence.\n",
    "  - image_size (int): Resize frames to this size (currently unused).\n",
    "  - stride (int): Number of frames to move forward when creating sequences.\n",
    "\n",
    "3. For the class `VideoDataset3D`:\n",
    "\n",
    "* Wrapper Dataset used for converting frame sequences from (T, C, H, W) to (C, T, H, W). This is is a requirement of 3D CNNs, where channels (C) come first.\n",
    "* Args:\n",
    "  - base_dataset (Dataset): Any dataset returning (T, C, H, W) frames and labels."
   ]
  },
  {
   "cell_type": "code",
   "execution_count": 4,
   "metadata": {
    "id": "lMP8hN9-mLrZ"
   },
   "outputs": [],
   "source": [
    "import torch\n",
    "from torch.utils.data import Dataset, DataLoader\n",
    "from transformers import AutoImageProcessor\n",
    "from PIL import Image\n",
    "from sklearn.preprocessing import LabelEncoder\n",
    "from glob import glob\n",
    "import os\n",
    "import torch\n",
    "import torch.nn as nn\n",
    "import torch.nn.functional as F\n",
    "from torch.utils.data import Dataset, DataLoader\n",
    "from torchvision import transforms\n",
    "import os\n",
    "import random\n",
    "import wandb\n",
    "\n",
    "# define class names and initialise label encoder\n",
    "CLASS_NAMES = ['Arrest','Arson','Assault','Burglary','Explosion','Fighting','NormalVideos','Shooting']\n",
    "label_encoder = LabelEncoder()\n",
    "label_encoder.fit(CLASS_NAMES) # fit label encoder with class names\n",
    "\n",
    "from torch.utils.data import Dataset\n",
    "from transformers import AutoImageProcessor\n",
    "from glob import glob\n",
    "from PIL import Image\n",
    "import torch\n",
    "import os\n",
    "\n",
    "class VideoDatasetSingle(Dataset): # one sequence per video – takes first `sequence_length` frames\n",
    "    def __init__(self, base_dir, label_encoder, sequence_length=16, image_size=224): # seq length 16\n",
    "        self.sequence_length = sequence_length\n",
    "        self.image_size = image_size\n",
    "        self.samples = [] # list to store tuples of (frame_paths, label)\n",
    "        self.processor = AutoImageProcessor.from_pretrained('facebook/dinov2-base')\n",
    "\n",
    "        # iterate through each class and video folder\n",
    "        for class_name in os.listdir(base_dir):\n",
    "            class_path = os.path.join(base_dir, class_name)\n",
    "            if not os.path.isdir(class_path): continue\n",
    "            for video_folder in os.listdir(class_path):\n",
    "                video_path = os.path.join(class_path, video_folder)\n",
    "                frame_paths = sorted(glob(os.path.join(video_path, '*.png')))\n",
    "                # only consider videos with at least `sequence_length` frames\n",
    "                if len(frame_paths) >= sequence_length:\n",
    "                    label = label_encoder.transform([class_name])[0]\n",
    "                    clip = frame_paths[:sequence_length] # takes first sequence_length frames\n",
    "                    self.samples.append((clip, label))\n",
    "\n",
    "    def __len__(self):\n",
    "        return len(self.samples)\n",
    "\n",
    "    def __getitem__(self, idx):\n",
    "        paths, label = self.samples[idx]\n",
    "        imgs = [Image.open(p).convert(\"RGB\").resize((224, 224)) for p in paths]\n",
    "        processed = self.processor(images=imgs, return_tensors=\"pt\")\n",
    "        return processed['pixel_values'].squeeze(0).permute(1, 0, 2, 3), torch.tensor(label) # output shape of (T, C, H, W) after permuting\n",
    "\n",
    "\n",
    "class VideoDatasetMulti(Dataset): # multiple sequences per video – extracted with stride and capped at first 10 sequences per video for feasibility\n",
    "    def __init__(self, base_dir, label_encoder, sequence_length=16, image_size=224, stride=12):  # seq length 16, stride 12\n",
    "        self.sequence_length = sequence_length\n",
    "        self.image_size = image_size\n",
    "        self.samples = []\n",
    "        self.processor = AutoImageProcessor.from_pretrained('facebook/dinov2-base')\n",
    "\n",
    "        for class_name in os.listdir(base_dir):\n",
    "            class_path = os.path.join(base_dir, class_name)\n",
    "            if not os.path.isdir(class_path): continue\n",
    "            for video_folder in os.listdir(class_path):\n",
    "                video_path = os.path.join(class_path, video_folder)\n",
    "                frame_paths = sorted(glob(os.path.join(video_path, '*.png')))\n",
    "                label = label_encoder.transform([class_name])[0]\n",
    "\n",
    "                # extract sequences with stride\n",
    "                sequences = []\n",
    "                for i in range(0, len(frame_paths) - sequence_length + 1, stride):\n",
    "                    clip = frame_paths[i:i + sequence_length]\n",
    "                    if len(clip) == sequence_length:\n",
    "                        sequences.append((clip, label))\n",
    "\n",
    "                # cap to first 10 sequences per video\n",
    "                sequences = sequences[:10]\n",
    "                self.samples.extend(sequences)\n",
    "\n",
    "        print(f\"Total samples collected: {len(self.samples)}\")\n",
    "\n",
    "    def __len__(self):\n",
    "        return len(self.samples)\n",
    "\n",
    "    def __getitem__(self, idx):\n",
    "        paths, label = self.samples[idx]\n",
    "        imgs = [Image.open(p).convert(\"RGB\").resize((224, 224)) for p in paths]\n",
    "        processed = self.processor(images=imgs, return_tensors=\"pt\")\n",
    "        return processed['pixel_values'].squeeze(0).permute(1, 0, 2, 3), torch.tensor(label) # output shape of (T, C, H, W) after permuting\n",
    "\n",
    "class VideoDataset3D(Dataset): # used as wrapper for any video dataset to convert shape to (C, T, H, W) for 3D CNN requirements\n",
    "    def __init__(self, base_dataset):\n",
    "        self.base_dataset = base_dataset\n",
    "\n",
    "    def __len__(self):\n",
    "        return len(self.base_dataset)\n",
    "\n",
    "    def __getitem__(self, idx):\n",
    "        pixel_values, label = self.base_dataset[idx]  # get (T, C, H, W)\n",
    "        pixel_values = pixel_values.permute(1, 0, 2, 3)  # convert to (C, T, H, W)\n",
    "        return pixel_values, label"
   ]
  },
  {
   "cell_type": "code",
   "execution_count": 5,
   "metadata": {
    "colab": {
     "base_uri": "https://localhost:8080/",
     "height": 194,
     "referenced_widgets": [
      "30308b2b3d0b4562b1a04cf3ee7cb878",
      "951eb1177c544dd29b56b8b135ab9a18",
      "7aa42947d17e4b8f9cfdf2b80964f723",
      "7676e95bdcfc49a3b3ced91e8bfbaa04",
      "29e64a819f2f49028e3a45a416d5f76a",
      "f63287f607524c1d934d7cdc2a477d83",
      "4fa94660c0004f07a718913ff40844ff",
      "12fd2175e5c34a018e435ffc60962057",
      "1440346eef3a4e06bdce756cd1f7812f",
      "52192a7fabe54b9680877a0b81ad55ca",
      "130c86486b194550be79a917febcbb75"
     ]
    },
    "id": "b5tthCHpmOiN",
    "outputId": "98af692d-460d-40f9-a7fa-2855d2e89a89"
   },
   "outputs": [
    {
     "name": "stderr",
     "output_type": "stream",
     "text": [
      "/usr/local/lib/python3.11/dist-packages/huggingface_hub/utils/_auth.py:94: UserWarning: \n",
      "The secret `HF_TOKEN` does not exist in your Colab secrets.\n",
      "To authenticate with the Hugging Face Hub, create a token in your settings tab (https://huggingface.co/settings/tokens), set it as secret in your Google Colab and restart your session.\n",
      "You will be able to reuse this secret in all of your notebooks.\n",
      "Please note that authentication is recommended but still optional to access public models or datasets.\n",
      "  warnings.warn(\n"
     ]
    },
    {
     "data": {
      "application/vnd.jupyter.widget-view+json": {
       "model_id": "30308b2b3d0b4562b1a04cf3ee7cb878",
       "version_major": 2,
       "version_minor": 0
      },
      "text/plain": [
       "preprocessor_config.json:   0%|          | 0.00/436 [00:00<?, ?B/s]"
      ]
     },
     "metadata": {},
     "output_type": "display_data"
    },
    {
     "name": "stderr",
     "output_type": "stream",
     "text": [
      "Using a slow image processor as `use_fast` is unset and a slow processor was saved with this model. `use_fast=True` will be the default behavior in v4.52, even if the model was saved with a slow processor. This will result in minor differences in outputs. You'll still be able to use a slow processor with `use_fast=False`.\n"
     ]
    }
   ],
   "source": [
    "from sklearn.preprocessing import LabelEncoder\n",
    "\n",
    "SEQUENCE_LENGTH = 16\n",
    "IMG_SIZE = 224\n",
    "BATCH_SIZE = 4\n",
    "NUM_CLASSES = 8\n",
    "DEVICE = 'cuda' if torch.cuda.is_available() else 'cpu'\n",
    "use_multi_sequence = False  # change to 'True' to switch dataset type (we will only change to 'True' for the final run at the end)\n",
    "\n",
    "def create_dataset(path, multi=True):\n",
    "    base_class = VideoDatasetMulti if multi else VideoDatasetSingle # choose dataset class based on 'multi' flag\n",
    "    base_dataset = base_class(path, label_encoder, sequence_length=SEQUENCE_LENGTH, image_size=IMG_SIZE) # initialise the base dataset (multi or single sequence)\n",
    "    return VideoDataset3D(base_dataset) # wrap\n",
    "\n",
    "# full dataset, single seq per vid\n",
    "train_path = \"/content/data_trimmed_restructured/Train\"\n",
    "test_path = \"/content/data_trimmed_restructured/Test\"\n",
    "\n",
    "train_dataset = create_dataset(train_path, multi=use_multi_sequence)\n",
    "test_dataset = create_dataset(test_path, multi=use_multi_sequence)\n",
    "\n",
    "train_loader = DataLoader(train_dataset, batch_size=BATCH_SIZE, shuffle=True, num_workers=2)\n",
    "test_loader = DataLoader(test_dataset, batch_size=BATCH_SIZE, shuffle=False, num_workers=2)"
   ]
  },
  {
   "cell_type": "markdown",
   "metadata": {
    "id": "kJzEp8xiyMtw"
   },
   "source": [
    "## Phase 1: Initial Model Setup"
   ]
  },
  {
   "cell_type": "markdown",
   "metadata": {
    "id": "DNLycgxBE1QP"
   },
   "source": [
    "* Simple 3D CNN (3 conv blocks + global avg pool + FC): `Simple3dCNN`\n",
    "* Optimizer: Adam\n",
    "* Loss: CrossEntropy\n",
    "* Dataset: Full, single sequence per video (for faster iteration)\n",
    "* 15 epochs\n"
   ]
  },
  {
   "cell_type": "code",
   "execution_count": 6,
   "metadata": {
    "id": "vx5HIumYzJef"
   },
   "outputs": [],
   "source": [
    "import torch\n",
    "import torch.nn as nn\n",
    "import torch.nn.functional as F\n",
    "from torch.utils.data import DataLoader\n",
    "from sklearn.metrics import accuracy_score, roc_auc_score\n",
    "import wandb\n",
    "\n",
    "class Simple3DCNN(nn.Module):\n",
    "    def __init__(self, num_classes=8):\n",
    "        super().__init__()\n",
    "        self.model = nn.Sequential(\n",
    "            # first 3d conv block\n",
    "            nn.Conv3d(3, 32, kernel_size=(3, 5, 5), stride=1, padding=(1, 2, 2)), # channels 3 t0 32\n",
    "            nn.BatchNorm3d(32), # batch norm\n",
    "            nn.ReLU(), # activation\n",
    "            nn.MaxPool3d((1, 2, 2)), # pooling only in spatial dimensions (H, W), not time (T)\n",
    "\n",
    "            # second 3d conv block\n",
    "            nn.Conv3d(32, 64, kernel_size=(3, 3, 3), stride=1, padding=1), # chanels 32 to 64\n",
    "            nn.BatchNorm3d(64),\n",
    "            nn.ReLU(),\n",
    "            nn.MaxPool3d((2, 2, 2)), # pooling across time and space\n",
    "\n",
    "            # third 3d conv block\n",
    "            nn.Conv3d(64, 128, kernel_size=(3, 3, 3), stride=1, padding=1), # channels 64 to 128\n",
    "            nn.BatchNorm3d(128),\n",
    "            nn.ReLU(),\n",
    "            nn.AdaptiveAvgPool3d((1, 1, 1)), # global average pooling across T, H, W  with output: (batch_size, 128, 1, 1, 1)\n",
    "        )\n",
    "        # fully connected layer for classification\n",
    "        self.fc = nn.Linear(128, num_classes) # input: 128 features from pooled output\n",
    "\n",
    "    def forward(self, x):\n",
    "        x = self.model(x) # pass input through conv layers\n",
    "        x = x.view(x.size(0), -1) # flatten\n",
    "        return self.fc(x) # final classiifcation layer"
   ]
  },
  {
   "cell_type": "code",
   "execution_count": 7,
   "metadata": {
    "id": "knNgckFZnjWr"
   },
   "outputs": [],
   "source": [
    "# evaluation function\n",
    "def evaluate(model, loader, criterion, split='Test', return_metrics=False):\n",
    "    model.eval()\n",
    "    total_loss = 0.0\n",
    "    total_preds, total_probs, total_labels = [], [], []\n",
    "\n",
    "    with torch.no_grad(): # disable gradient computation\n",
    "        for x, y in loader:\n",
    "            x, y = x.to(DEVICE), y.to(DEVICE)\n",
    "\n",
    "            # permute input to match model's expected shape\n",
    "            x = x.permute(0, 2, 1, 3, 4)  # [B, T, 3, H, W] to [B, 3, T, H, W] for 3D CNN\n",
    "\n",
    "            logits = model(x)\n",
    "            probs = F.softmax(logits, dim=1) # convert logits to probabilities\n",
    "            loss = criterion(logits, y)\n",
    "\n",
    "            # accumulate loss and predictions\n",
    "            total_loss += loss.item()\n",
    "            total_probs.append(probs.cpu())\n",
    "            total_preds.append(torch.argmax(probs, dim=1).cpu())\n",
    "            total_labels.append(y.cpu())\n",
    "\n",
    "    # batches into full-length tensors\n",
    "    y_true = torch.cat(total_labels).numpy()\n",
    "    y_pred = torch.cat(total_preds).numpy()\n",
    "    y_probs = torch.cat(total_probs).numpy()\n",
    "\n",
    "    acc = accuracy_score(y_true, y_pred)\n",
    "    try:\n",
    "        auc = roc_auc_score(y_true, y_probs, multi_class='ovr', average='macro')\n",
    "    except ValueError:\n",
    "        auc = 0.0\n",
    "\n",
    "    avg_loss = total_loss / len(loader)\n",
    "\n",
    "    if return_metrics:\n",
    "        return avg_loss, acc, auc\n",
    "    else:\n",
    "        print(f\"{split} Loss: {avg_loss:.4f} | Accuracy: {acc:.4f} | AUC: {auc:.4f}\")"
   ]
  },
  {
   "cell_type": "code",
   "execution_count": null,
   "metadata": {
    "colab": {
     "base_uri": "https://localhost:8080/",
     "height": 1000
    },
    "id": "JzYvAMaz0GuL",
    "outputId": "9d2507b4-e893-4e88-8b02-0b1658f1b5b9"
   },
   "outputs": [
    {
     "data": {
      "text/html": [],
      "text/plain": [
       "<IPython.core.display.HTML object>"
      ]
     },
     "metadata": {},
     "output_type": "display_data"
    },
    {
     "data": {
      "text/html": [
       " View run <strong style=\"color:#cdcd00\">simple3dcnn-baseline</strong> at: <a href='https://wandb.ai/fareesahhussain-city-university-of-london/3dcnn-phase1/runs/o5xrpno4' target=\"_blank\">https://wandb.ai/fareesahhussain-city-university-of-london/3dcnn-phase1/runs/o5xrpno4</a><br> View project at: <a href='https://wandb.ai/fareesahhussain-city-university-of-london/3dcnn-phase1' target=\"_blank\">https://wandb.ai/fareesahhussain-city-university-of-london/3dcnn-phase1</a><br>Synced 5 W&B file(s), 0 media file(s), 0 artifact file(s) and 0 other file(s)"
      ],
      "text/plain": [
       "<IPython.core.display.HTML object>"
      ]
     },
     "metadata": {},
     "output_type": "display_data"
    },
    {
     "data": {
      "text/html": [
       "Find logs at: <code>./wandb/run-20250421_202032-o5xrpno4/logs</code>"
      ],
      "text/plain": [
       "<IPython.core.display.HTML object>"
      ]
     },
     "metadata": {},
     "output_type": "display_data"
    },
    {
     "data": {
      "text/html": [
       "Tracking run with wandb version 0.19.9"
      ],
      "text/plain": [
       "<IPython.core.display.HTML object>"
      ]
     },
     "metadata": {},
     "output_type": "display_data"
    },
    {
     "data": {
      "text/html": [
       "Run data is saved locally in <code>/content/wandb/run-20250421_202249-eojb1ahg</code>"
      ],
      "text/plain": [
       "<IPython.core.display.HTML object>"
      ]
     },
     "metadata": {},
     "output_type": "display_data"
    },
    {
     "data": {
      "text/html": [
       "Syncing run <strong><a href='https://wandb.ai/fareesahhussain-city-university-of-london/3dcnn-phase1/runs/eojb1ahg' target=\"_blank\">simple3dcnn-baseline</a></strong> to <a href='https://wandb.ai/fareesahhussain-city-university-of-london/3dcnn-phase1' target=\"_blank\">Weights & Biases</a> (<a href='https://wandb.me/developer-guide' target=\"_blank\">docs</a>)<br>"
      ],
      "text/plain": [
       "<IPython.core.display.HTML object>"
      ]
     },
     "metadata": {},
     "output_type": "display_data"
    },
    {
     "data": {
      "text/html": [
       " View project at <a href='https://wandb.ai/fareesahhussain-city-university-of-london/3dcnn-phase1' target=\"_blank\">https://wandb.ai/fareesahhussain-city-university-of-london/3dcnn-phase1</a>"
      ],
      "text/plain": [
       "<IPython.core.display.HTML object>"
      ]
     },
     "metadata": {},
     "output_type": "display_data"
    },
    {
     "data": {
      "text/html": [
       " View run at <a href='https://wandb.ai/fareesahhussain-city-university-of-london/3dcnn-phase1/runs/eojb1ahg' target=\"_blank\">https://wandb.ai/fareesahhussain-city-university-of-london/3dcnn-phase1/runs/eojb1ahg</a>"
      ],
      "text/plain": [
       "<IPython.core.display.HTML object>"
      ]
     },
     "metadata": {},
     "output_type": "display_data"
    },
    {
     "name": "stdout",
     "output_type": "stream",
     "text": [
      "\n",
      "Epoch 1\n",
      "Train → Loss: 1.8922 | Acc: 0.3462 | AUC: 0.6682\n",
      "Test  → Loss: 2.0284 | Acc: 0.2308 | AUC: 0.5935\n",
      "\n",
      "Epoch 2\n",
      "Train → Loss: 1.8660 | Acc: 0.3531 | AUC: 0.6644\n",
      "Test  → Loss: 1.9466 | Acc: 0.3077 | AUC: 0.6314\n",
      "\n",
      "Epoch 3\n",
      "Train → Loss: 1.8110 | Acc: 0.3741 | AUC: 0.6994\n",
      "Test  → Loss: 1.9394 | Acc: 0.2923 | AUC: 0.6284\n",
      "\n",
      "Epoch 4\n",
      "Train → Loss: 1.7728 | Acc: 0.3636 | AUC: 0.7073\n",
      "Test  → Loss: 1.9418 | Acc: 0.3077 | AUC: 0.6330\n",
      "\n",
      "Epoch 5\n",
      "Train → Loss: 1.7466 | Acc: 0.3951 | AUC: 0.7257\n",
      "Test  → Loss: 1.9630 | Acc: 0.3231 | AUC: 0.6305\n",
      "\n",
      "Epoch 6\n",
      "Train → Loss: 1.8084 | Acc: 0.3881 | AUC: 0.7267\n",
      "Test  → Loss: 1.9369 | Acc: 0.2769 | AUC: 0.6290\n",
      "\n",
      "Epoch 7\n",
      "Train → Loss: 1.7893 | Acc: 0.3741 | AUC: 0.7261\n",
      "Test  → Loss: 1.9841 | Acc: 0.2923 | AUC: 0.6241\n",
      "\n",
      "Epoch 8\n",
      "Train → Loss: 1.7259 | Acc: 0.4126 | AUC: 0.7191\n",
      "Test  → Loss: 1.9767 | Acc: 0.3077 | AUC: 0.6367\n",
      "\n",
      "Epoch 9\n",
      "Train → Loss: 1.7306 | Acc: 0.4021 | AUC: 0.7359\n",
      "Test  → Loss: 1.9961 | Acc: 0.2462 | AUC: 0.6324\n",
      "\n",
      "Epoch 10\n",
      "Train → Loss: 1.7139 | Acc: 0.4266 | AUC: 0.7372\n",
      "Test  → Loss: 1.9896 | Acc: 0.2923 | AUC: 0.6386\n",
      "\n",
      "Epoch 11\n",
      "Train → Loss: 1.7245 | Acc: 0.4231 | AUC: 0.7456\n",
      "Test  → Loss: 1.9603 | Acc: 0.3077 | AUC: 0.6245\n",
      "\n",
      "Epoch 12\n",
      "Train → Loss: 1.6766 | Acc: 0.4161 | AUC: 0.7501\n",
      "Test  → Loss: 1.9912 | Acc: 0.3231 | AUC: 0.6261\n",
      "\n",
      "Epoch 13\n",
      "Train → Loss: 1.6845 | Acc: 0.3741 | AUC: 0.7618\n",
      "Test  → Loss: 1.9741 | Acc: 0.2769 | AUC: 0.6392\n",
      "\n",
      "Epoch 14\n",
      "Train → Loss: 1.7222 | Acc: 0.4196 | AUC: 0.7387\n",
      "Test  → Loss: 2.0267 | Acc: 0.3077 | AUC: 0.6452\n",
      "\n",
      "Epoch 15\n",
      "Train → Loss: 1.6906 | Acc: 0.4126 | AUC: 0.7423\n",
      "Test  → Loss: 2.0400 | Acc: 0.2769 | AUC: 0.6457\n"
     ]
    }
   ],
   "source": [
    "# initialise model, loss function, and optimiser\n",
    "model = Simple3DCNN(num_classes=NUM_CLASSES).to(DEVICE)\n",
    "criterion = nn.CrossEntropyLoss()\n",
    "optimizer = torch.optim.Adam(model.parameters(), lr=1e-4)\n",
    "\n",
    "# init wandb\n",
    "wandb.init(project=\"3dcnn-phase1\", name=\"simple3dcnn-baseline\")\n",
    "wandb.config.update({\n",
    "    \"architecture\": \"Simple3DCNN\",\n",
    "    \"optimizer\": \"Adam\",\n",
    "    \"learning_rate\": 1e-4,\n",
    "    \"loss\": \"CrossEntropyLoss\",\n",
    "    \"batch_size\": train_loader.batch_size,\n",
    "    \"device\": DEVICE\n",
    "})\n",
    "\n",
    "# training loop\n",
    "EPOCHS = 15\n",
    "for epoch in range(EPOCHS):\n",
    "    model.train()\n",
    "    running_loss = 0.0\n",
    "\n",
    "    for x, y in train_loader:\n",
    "        x, y = x.to(DEVICE), y.to(DEVICE)\n",
    "        optimizer.zero_grad()\n",
    "        logits = model(x.permute(0, 2, 1, 3, 4))\n",
    "        loss = criterion(logits, y)\n",
    "        loss.backward()\n",
    "        optimizer.step()\n",
    "        running_loss += loss.item()\n",
    "\n",
    "    avg_train_loss = running_loss / len(train_loader)\n",
    "    # evaluate on training and test sets\n",
    "    train_loss, train_acc, train_auc = evaluate(model, train_loader, criterion, split='Train', return_metrics=True)\n",
    "    test_loss, test_acc, test_auc = evaluate(model, test_loader, criterion, split='Test', return_metrics=True)\n",
    "\n",
    "    # log to wandb\n",
    "    wandb.log({\n",
    "        \"epoch\": epoch + 1,\n",
    "        \"train_loss\": train_loss,\n",
    "        \"train_accuracy\": train_acc,\n",
    "        \"train_auc\": train_auc,\n",
    "        \"test_loss\": test_loss,\n",
    "        \"test_accuracy\": test_acc,\n",
    "        \"test_auc\": test_auc\n",
    "    })\n",
    "\n",
    "    # print metrics for current epoch\n",
    "    print(f\"\\nEpoch {epoch+1}\")\n",
    "    print(f\"Train → Loss: {train_loss:.4f} | Acc: {train_acc:.4f} | AUC: {train_auc:.4f}\")\n",
    "    print(f\"Test  → Loss: {test_loss:.4f} | Acc: {test_acc:.4f} | AUC: {test_auc:.4f}\")"
   ]
  },
  {
   "cell_type": "markdown",
   "metadata": {
    "id": "TvCjGYIKBjay"
   },
   "source": [
    "* Phase 1 (Simple 3D CNN baseline) results:\n",
    "  - **Train AUC** improved steadily (0.67 to 0.74)\n",
    "  - **Test AUC** remained stable (~0.63–0.64), showing limited generalisation\n",
    "  - **Train loss** decreased (1.89 to 1.69), but **test loss** stayed high (~2.0)\n"
   ]
  },
  {
   "cell_type": "markdown",
   "metadata": {
    "id": "kvzYyfY-5giD"
   },
   "source": [
    "## Phase 2: Base model with AdamW, weight decay, and learning rate scheduler"
   ]
  },
  {
   "cell_type": "markdown",
   "metadata": {
    "id": "vpIHn_oxE-MU"
   },
   "source": [
    "* Same model from Phase 1: `SimpleCDCNN`\n",
    "* Optimiser: AdamW with weight decay\n",
    "* Scheduler: StepLR\n",
    "* Dataset: Full, single sequence per video (for faster iteration)\n",
    "* 15 epochs"
   ]
  },
  {
   "cell_type": "code",
   "execution_count": null,
   "metadata": {
    "colab": {
     "base_uri": "https://localhost:8080/",
     "height": 1000
    },
    "id": "IY5LdQmF5p1j",
    "outputId": "0e5b8842-7469-4863-b283-9a29360cb157"
   },
   "outputs": [
    {
     "data": {
      "text/html": [],
      "text/plain": [
       "<IPython.core.display.HTML object>"
      ]
     },
     "metadata": {},
     "output_type": "display_data"
    },
    {
     "data": {
      "text/html": [
       " View run <strong style=\"color:#cdcd00\">phase2-single-seq-full</strong> at: <a href='https://wandb.ai/fareesahhussain-city-university-of-london/3d-cnn-phase2/runs/kvgu5o2f' target=\"_blank\">https://wandb.ai/fareesahhussain-city-university-of-london/3d-cnn-phase2/runs/kvgu5o2f</a><br> View project at: <a href='https://wandb.ai/fareesahhussain-city-university-of-london/3d-cnn-phase2' target=\"_blank\">https://wandb.ai/fareesahhussain-city-university-of-london/3d-cnn-phase2</a><br>Synced 5 W&B file(s), 0 media file(s), 0 artifact file(s) and 0 other file(s)"
      ],
      "text/plain": [
       "<IPython.core.display.HTML object>"
      ]
     },
     "metadata": {},
     "output_type": "display_data"
    },
    {
     "data": {
      "text/html": [
       "Find logs at: <code>./wandb/run-20250421_202858-kvgu5o2f/logs</code>"
      ],
      "text/plain": [
       "<IPython.core.display.HTML object>"
      ]
     },
     "metadata": {},
     "output_type": "display_data"
    },
    {
     "data": {
      "text/html": [
       "Tracking run with wandb version 0.19.9"
      ],
      "text/plain": [
       "<IPython.core.display.HTML object>"
      ]
     },
     "metadata": {},
     "output_type": "display_data"
    },
    {
     "data": {
      "text/html": [
       "Run data is saved locally in <code>/content/wandb/run-20250421_203008-tw4mo1f3</code>"
      ],
      "text/plain": [
       "<IPython.core.display.HTML object>"
      ]
     },
     "metadata": {},
     "output_type": "display_data"
    },
    {
     "data": {
      "text/html": [
       "Syncing run <strong><a href='https://wandb.ai/fareesahhussain-city-university-of-london/3d-cnn-phase2/runs/tw4mo1f3' target=\"_blank\">phase2-single-seq-full</a></strong> to <a href='https://wandb.ai/fareesahhussain-city-university-of-london/3d-cnn-phase2' target=\"_blank\">Weights & Biases</a> (<a href='https://wandb.me/developer-guide' target=\"_blank\">docs</a>)<br>"
      ],
      "text/plain": [
       "<IPython.core.display.HTML object>"
      ]
     },
     "metadata": {},
     "output_type": "display_data"
    },
    {
     "data": {
      "text/html": [
       " View project at <a href='https://wandb.ai/fareesahhussain-city-university-of-london/3d-cnn-phase2' target=\"_blank\">https://wandb.ai/fareesahhussain-city-university-of-london/3d-cnn-phase2</a>"
      ],
      "text/plain": [
       "<IPython.core.display.HTML object>"
      ]
     },
     "metadata": {},
     "output_type": "display_data"
    },
    {
     "data": {
      "text/html": [
       " View run at <a href='https://wandb.ai/fareesahhussain-city-university-of-london/3d-cnn-phase2/runs/tw4mo1f3' target=\"_blank\">https://wandb.ai/fareesahhussain-city-university-of-london/3d-cnn-phase2/runs/tw4mo1f3</a>"
      ],
      "text/plain": [
       "<IPython.core.display.HTML object>"
      ]
     },
     "metadata": {},
     "output_type": "display_data"
    },
    {
     "name": "stdout",
     "output_type": "stream",
     "text": [
      "\n",
      "Epoch 1\n",
      "Train → Loss: 1.9199 | Acc: 0.3252 | AUC: 0.6700\n",
      "Test  → Loss: 2.0497 | Acc: 0.2308 | AUC: 0.5822\n",
      "\n",
      "Epoch 2\n",
      "Train → Loss: 1.8026 | Acc: 0.3566 | AUC: 0.7111\n",
      "Test  → Loss: 1.9851 | Acc: 0.3077 | AUC: 0.6112\n",
      "\n",
      "Epoch 3\n",
      "Train → Loss: 1.7898 | Acc: 0.3636 | AUC: 0.7132\n",
      "Test  → Loss: 1.9625 | Acc: 0.3385 | AUC: 0.6063\n",
      "\n",
      "Epoch 4\n",
      "Train → Loss: 1.8295 | Acc: 0.3357 | AUC: 0.6746\n",
      "Test  → Loss: 2.0562 | Acc: 0.2769 | AUC: 0.6092\n",
      "\n",
      "Epoch 5\n",
      "Train → Loss: 1.7592 | Acc: 0.3741 | AUC: 0.7212\n",
      "Test  → Loss: 2.0010 | Acc: 0.3231 | AUC: 0.6084\n",
      "\n",
      "Epoch 6\n",
      "Train → Loss: 1.7527 | Acc: 0.3776 | AUC: 0.7295\n",
      "Test  → Loss: 2.0291 | Acc: 0.2769 | AUC: 0.6338\n",
      "\n",
      "Epoch 7\n",
      "Train → Loss: 1.7258 | Acc: 0.3811 | AUC: 0.7445\n",
      "Test  → Loss: 1.9944 | Acc: 0.3077 | AUC: 0.6323\n",
      "\n",
      "Epoch 8\n",
      "Train → Loss: 1.6967 | Acc: 0.3951 | AUC: 0.7475\n",
      "Test  → Loss: 1.9895 | Acc: 0.3077 | AUC: 0.6278\n",
      "\n",
      "Epoch 9\n",
      "Train → Loss: 1.7317 | Acc: 0.3776 | AUC: 0.7315\n",
      "Test  → Loss: 1.9815 | Acc: 0.3077 | AUC: 0.6444\n",
      "\n",
      "Epoch 10\n",
      "Train → Loss: 1.6719 | Acc: 0.4056 | AUC: 0.7603\n",
      "Test  → Loss: 1.9742 | Acc: 0.3231 | AUC: 0.6251\n",
      "\n",
      "Epoch 11\n",
      "Train → Loss: 1.6571 | Acc: 0.4126 | AUC: 0.7704\n",
      "Test  → Loss: 1.9826 | Acc: 0.3077 | AUC: 0.6307\n",
      "\n",
      "Epoch 12\n",
      "Train → Loss: 1.6739 | Acc: 0.4336 | AUC: 0.7734\n",
      "Test  → Loss: 1.9738 | Acc: 0.3231 | AUC: 0.6188\n",
      "\n",
      "Epoch 13\n",
      "Train → Loss: 1.6372 | Acc: 0.4336 | AUC: 0.7752\n",
      "Test  → Loss: 1.9748 | Acc: 0.3231 | AUC: 0.6263\n",
      "\n",
      "Epoch 14\n",
      "Train → Loss: 1.6453 | Acc: 0.4371 | AUC: 0.7835\n",
      "Test  → Loss: 1.9547 | Acc: 0.3385 | AUC: 0.6327\n",
      "\n",
      "Epoch 15\n",
      "Train → Loss: 1.6236 | Acc: 0.4371 | AUC: 0.7806\n",
      "Test  → Loss: 1.9873 | Acc: 0.2923 | AUC: 0.6302\n"
     ]
    }
   ],
   "source": [
    "from torch.optim import AdamW\n",
    "from torch.optim.lr_scheduler import StepLR\n",
    "\n",
    "model = Simple3DCNN(num_classes=NUM_CLASSES).to(DEVICE)\n",
    "criterion = nn.CrossEntropyLoss()\n",
    "optimizer = AdamW(model.parameters(), lr=1e-4, weight_decay=1e-4) # change to AdamW with weight decay\n",
    "scheduler = StepLR(optimizer, step_size=10, gamma=0.5) # add scheduler\n",
    "\n",
    "# init wandb\n",
    "wandb.init(project=\"3d-cnn-phase2\", name=\"phase2-single-seq-full\", config={\n",
    "    \"model\": \"Simple3DCNN\",\n",
    "    \"optimizer\": \"AdamW\",\n",
    "    \"lr\": 1e-4,\n",
    "    \"weight_decay\": 1e-4,\n",
    "    \"scheduler\": \"StepLR (step=10, gamma=0.5)\",\n",
    "    \"epochs\": 15,\n",
    "    \"batch_size\": BATCH_SIZE,\n",
    "    \"sequence_type\": \"single\",\n",
    "    \"dataset\": \"full\"\n",
    "})\n",
    "\n",
    "# training loop\n",
    "EPOCHS = 15\n",
    "for epoch in range(EPOCHS):\n",
    "    model.train()\n",
    "    running_loss = 0.0\n",
    "    for x, y in train_loader:\n",
    "        x, y = x.to(DEVICE), y.to(DEVICE)\n",
    "        optimizer.zero_grad()\n",
    "        logits = model(x.permute(0, 2, 1, 3, 4))\n",
    "        loss = criterion(logits, y)\n",
    "        loss.backward()\n",
    "        optimizer.step()\n",
    "        running_loss += loss.item()\n",
    "\n",
    "    avg_train_loss = running_loss / len(train_loader)\n",
    "    train_loss, train_acc, train_auc = evaluate(model, train_loader, criterion, split='Train', return_metrics=True)\n",
    "    test_loss, test_acc, test_auc = evaluate(model, test_loader, criterion, split='Test', return_metrics=True)\n",
    "\n",
    "    # log\n",
    "    wandb.log({\n",
    "        \"epoch\": epoch + 1,\n",
    "        \"train_loss\": train_loss,\n",
    "        \"train_accuracy\": train_acc,\n",
    "        \"train_auc\": train_auc,\n",
    "        \"test_loss\": test_loss,\n",
    "        \"test_accuracy\": test_acc,\n",
    "        \"test_auc\": test_auc,\n",
    "        \"lr\": scheduler.get_last_lr()[0]\n",
    "    })\n",
    "\n",
    "    # print metrics for current epoch\n",
    "    print(f\"\\nEpoch {epoch+1}\")\n",
    "    print(f\"Train → Loss: {train_loss:.4f} | Acc: {train_acc:.4f} | AUC: {train_auc:.4f}\")\n",
    "    print(f\"Test  → Loss: {test_loss:.4f} | Acc: {test_acc:.4f} | AUC: {test_auc:.4f}\")\n",
    "\n",
    "    scheduler.step()"
   ]
  },
  {
   "cell_type": "markdown",
   "metadata": {
    "id": "1NapRNVdCU1j"
   },
   "source": [
    "* Phase 2 results:\n",
    "  - **Train AUC** improved from **0.67 to 0.78**, showing better class separation\n",
    "  - **Test AUC** stayed around **0.63–0.64**, similar to Phase 1, with minor fluctuation\n",
    "  - **Train loss** decreased (1.92 to 1.62), but **test loss** remained high (~1.95–2.0)\n",
    "  - Slightly better **train AUC** but no significant improvement in generalisation\n"
   ]
  },
  {
   "cell_type": "markdown",
   "metadata": {
    "id": "ssxOgHEzFLF6"
   },
   "source": [
    "## Phase 3: Added Conv layer"
   ]
  },
  {
   "cell_type": "markdown",
   "metadata": {
    "id": "TtEBTovEbGkG"
   },
   "source": [
    "* Simple 3D CNN (4 conv blocks + global avg pool + FC): `Simple3DCNNPhase3`\n",
    "* Added extra conv block: 128 to 256 channels\n",
    "* Optimiser: AdamW\n",
    "* Loss: CrossEntropy\n",
    "* Dataset: Full, single sequence per video\n",
    "* 15 epochs"
   ]
  },
  {
   "cell_type": "code",
   "execution_count": 8,
   "metadata": {
    "id": "bRjrgbl2FnQ_"
   },
   "outputs": [],
   "source": [
    "import torch\n",
    "import torch.nn as nn\n",
    "\n",
    "class Simple3DCNNPhase3(nn.Module):\n",
    "    def __init__(self, num_classes=8, dropout=None):\n",
    "        super().__init__()\n",
    "        layers = [\n",
    "            nn.Conv3d(3, 32, kernel_size=(3, 5, 5), stride=1, padding=(1, 2, 2)), # channels 3 to 32\n",
    "            nn.BatchNorm3d(32), # batch norm\n",
    "            nn.ReLU(), # activation\n",
    "            nn.MaxPool3d((1, 2, 2)), # pooling only in spatial diemnsions\n",
    "\n",
    "            nn.Conv3d(32, 64, kernel_size=(3, 3, 3), stride=1, padding=1), # channels 33 to 64\n",
    "            nn.BatchNorm3d(64), # batch norm\n",
    "            nn.ReLU(), # activation\n",
    "            nn.MaxPool3d((2, 2, 2)), # pooling across time and space\n",
    "\n",
    "            nn.Conv3d(64, 128, kernel_size=(3, 3, 3), stride=1, padding=1), # channels 64 to 128\n",
    "            nn.BatchNorm3d(128), # batch norm\n",
    "            nn.ReLU(), # activation\n",
    "            nn.MaxPool3d((2, 2, 2)),\n",
    "\n",
    "            # extra conv block\n",
    "            nn.Conv3d(128, 256, kernel_size=(3, 3, 3), stride=1, padding=1), # channels 128 to 256\n",
    "            nn.BatchNorm3d(256), # batch norm\n",
    "            nn.ReLU(), # activation\n",
    "        ]\n",
    "        # optional dropout (using in grid search phase)\n",
    "        if dropout:\n",
    "            layers.append(nn.Dropout3d(p=dropout))\n",
    "\n",
    "        layers.append(nn.AdaptiveAvgPool3d((1, 1, 1)))\n",
    "        self.model = nn.Sequential(*layers)\n",
    "        self.fc = nn.Linear(256, num_classes)\n",
    "\n",
    "    def forward(self, x):\n",
    "        x = self.model(x)  # shape (B, 256, 1, 1, 1)\n",
    "        x = x.view(x.size(0), -1)  # flatten to (B, 256)\n",
    "        return self.fc(x)"
   ]
  },
  {
   "cell_type": "code",
   "execution_count": null,
   "metadata": {
    "colab": {
     "base_uri": "https://localhost:8080/",
     "height": 1000
    },
    "id": "txK58yWWF-oQ",
    "outputId": "4109cce6-1d94-4705-8ab3-83761befbcaf"
   },
   "outputs": [
    {
     "data": {
      "text/html": [],
      "text/plain": [
       "<IPython.core.display.HTML object>"
      ]
     },
     "metadata": {},
     "output_type": "display_data"
    },
    {
     "data": {
      "text/html": [
       "<br>    <style><br>        .wandb-row {<br>            display: flex;<br>            flex-direction: row;<br>            flex-wrap: wrap;<br>            justify-content: flex-start;<br>            width: 100%;<br>        }<br>        .wandb-col {<br>            display: flex;<br>            flex-direction: column;<br>            flex-basis: 100%;<br>            flex: 1;<br>            padding: 10px;<br>        }<br>    </style><br><div class=\"wandb-row\"><div class=\"wandb-col\"><h3>Run history:</h3><br/><table class=\"wandb\"><tr><td>epoch</td><td>▁▁▂▃▃▃▄▅▅▅▆▇▇▇█</td></tr><tr><td>lr</td><td>██████████▁▁▁▁▁</td></tr><tr><td>test_accuracy</td><td>▁▆█▄▇▄▆▆▆▇▆▇▇█▅</td></tr><tr><td>test_auc</td><td>▁▄▄▄▄▇▇▆█▆▆▅▆▇▆</td></tr><tr><td>test_loss</td><td>█▃▂█▄▆▄▃▃▂▃▂▂▁▃</td></tr><tr><td>train_accuracy</td><td>▁▃▃▂▄▄▅▅▄▆▆████</td></tr><tr><td>train_auc</td><td>▁▄▄▁▄▅▆▆▅▇▇▇▇██</td></tr><tr><td>train_loss</td><td>█▅▅▆▄▄▃▃▄▂▂▂▁▂▁</td></tr></table><br/></div><div class=\"wandb-col\"><h3>Run summary:</h3><br/><table class=\"wandb\"><tr><td>epoch</td><td>15</td></tr><tr><td>lr</td><td>5e-05</td></tr><tr><td>test_accuracy</td><td>0.29231</td></tr><tr><td>test_auc</td><td>0.63017</td></tr><tr><td>test_loss</td><td>1.98735</td></tr><tr><td>train_accuracy</td><td>0.43706</td></tr><tr><td>train_auc</td><td>0.7806</td></tr><tr><td>train_loss</td><td>1.62363</td></tr></table><br/></div></div>"
      ],
      "text/plain": [
       "<IPython.core.display.HTML object>"
      ]
     },
     "metadata": {},
     "output_type": "display_data"
    },
    {
     "data": {
      "text/html": [
       " View run <strong style=\"color:#cdcd00\">phase2-single-seq-full</strong> at: <a href='https://wandb.ai/fareesahhussain-city-university-of-london/3d-cnn-phase2/runs/tw4mo1f3' target=\"_blank\">https://wandb.ai/fareesahhussain-city-university-of-london/3d-cnn-phase2/runs/tw4mo1f3</a><br> View project at: <a href='https://wandb.ai/fareesahhussain-city-university-of-london/3d-cnn-phase2' target=\"_blank\">https://wandb.ai/fareesahhussain-city-university-of-london/3d-cnn-phase2</a><br>Synced 5 W&B file(s), 0 media file(s), 0 artifact file(s) and 0 other file(s)"
      ],
      "text/plain": [
       "<IPython.core.display.HTML object>"
      ]
     },
     "metadata": {},
     "output_type": "display_data"
    },
    {
     "data": {
      "text/html": [
       "Find logs at: <code>./wandb/run-20250421_203008-tw4mo1f3/logs</code>"
      ],
      "text/plain": [
       "<IPython.core.display.HTML object>"
      ]
     },
     "metadata": {},
     "output_type": "display_data"
    },
    {
     "data": {
      "text/html": [
       "Tracking run with wandb version 0.19.9"
      ],
      "text/plain": [
       "<IPython.core.display.HTML object>"
      ]
     },
     "metadata": {},
     "output_type": "display_data"
    },
    {
     "data": {
      "text/html": [
       "Run data is saved locally in <code>/content/wandb/run-20250421_204428-m62a10za</code>"
      ],
      "text/plain": [
       "<IPython.core.display.HTML object>"
      ]
     },
     "metadata": {},
     "output_type": "display_data"
    },
    {
     "data": {
      "text/html": [
       "Syncing run <strong><a href='https://wandb.ai/fareesahhussain-city-university-of-london/3dcnn-phase3/runs/m62a10za' target=\"_blank\">phase3-extra-conv</a></strong> to <a href='https://wandb.ai/fareesahhussain-city-university-of-london/3dcnn-phase3' target=\"_blank\">Weights & Biases</a> (<a href='https://wandb.me/developer-guide' target=\"_blank\">docs</a>)<br>"
      ],
      "text/plain": [
       "<IPython.core.display.HTML object>"
      ]
     },
     "metadata": {},
     "output_type": "display_data"
    },
    {
     "data": {
      "text/html": [
       " View project at <a href='https://wandb.ai/fareesahhussain-city-university-of-london/3dcnn-phase3' target=\"_blank\">https://wandb.ai/fareesahhussain-city-university-of-london/3dcnn-phase3</a>"
      ],
      "text/plain": [
       "<IPython.core.display.HTML object>"
      ]
     },
     "metadata": {},
     "output_type": "display_data"
    },
    {
     "data": {
      "text/html": [
       " View run at <a href='https://wandb.ai/fareesahhussain-city-university-of-london/3dcnn-phase3/runs/m62a10za' target=\"_blank\">https://wandb.ai/fareesahhussain-city-university-of-london/3dcnn-phase3/runs/m62a10za</a>"
      ],
      "text/plain": [
       "<IPython.core.display.HTML object>"
      ]
     },
     "metadata": {},
     "output_type": "display_data"
    },
    {
     "name": "stdout",
     "output_type": "stream",
     "text": [
      "\n",
      "Epoch 1\n",
      "Train → Loss: 1.8836 | Acc: 0.3462 | AUC: 0.6775\n",
      "Test  → Loss: 2.0515 | Acc: 0.2308 | AUC: 0.6006\n",
      "\n",
      "Epoch 2\n",
      "Train → Loss: 1.8030 | Acc: 0.3287 | AUC: 0.6928\n",
      "Test  → Loss: 2.0253 | Acc: 0.2154 | AUC: 0.5900\n",
      "\n",
      "Epoch 3\n",
      "Train → Loss: 1.7203 | Acc: 0.3846 | AUC: 0.7339\n",
      "Test  → Loss: 2.0430 | Acc: 0.3231 | AUC: 0.6309\n",
      "\n",
      "Epoch 4\n",
      "Train → Loss: 1.7407 | Acc: 0.3427 | AUC: 0.7345\n",
      "Test  → Loss: 2.1026 | Acc: 0.2923 | AUC: 0.6167\n",
      "\n",
      "Epoch 5\n",
      "Train → Loss: 1.7221 | Acc: 0.3846 | AUC: 0.7324\n",
      "Test  → Loss: 2.0567 | Acc: 0.3385 | AUC: 0.6316\n",
      "\n",
      "Epoch 6\n",
      "Train → Loss: 1.6295 | Acc: 0.4371 | AUC: 0.7612\n",
      "Test  → Loss: 2.0172 | Acc: 0.2769 | AUC: 0.6341\n",
      "\n",
      "Epoch 7\n",
      "Train → Loss: 1.6201 | Acc: 0.4336 | AUC: 0.7786\n",
      "Test  → Loss: 1.9558 | Acc: 0.2769 | AUC: 0.6390\n",
      "\n",
      "Epoch 8\n",
      "Train → Loss: 1.6247 | Acc: 0.4231 | AUC: 0.7723\n",
      "Test  → Loss: 2.0037 | Acc: 0.2769 | AUC: 0.6430\n",
      "\n",
      "Epoch 9\n",
      "Train → Loss: 1.5841 | Acc: 0.4161 | AUC: 0.7846\n",
      "Test  → Loss: 2.1543 | Acc: 0.2769 | AUC: 0.6257\n",
      "\n",
      "Epoch 10\n",
      "Train → Loss: 1.5689 | Acc: 0.4545 | AUC: 0.7898\n",
      "Test  → Loss: 2.1006 | Acc: 0.2923 | AUC: 0.6089\n",
      "\n",
      "Epoch 11\n",
      "Train → Loss: 1.5153 | Acc: 0.4930 | AUC: 0.8125\n",
      "Test  → Loss: 2.0189 | Acc: 0.2923 | AUC: 0.6117\n",
      "\n",
      "Epoch 12\n",
      "Train → Loss: 1.5470 | Acc: 0.4755 | AUC: 0.8165\n",
      "Test  → Loss: 2.0434 | Acc: 0.2769 | AUC: 0.6043\n",
      "\n",
      "Epoch 13\n",
      "Train → Loss: 1.4985 | Acc: 0.5175 | AUC: 0.8148\n",
      "Test  → Loss: 2.0888 | Acc: 0.2769 | AUC: 0.6294\n",
      "\n",
      "Epoch 14\n",
      "Train → Loss: 1.5003 | Acc: 0.4930 | AUC: 0.8227\n",
      "Test  → Loss: 2.0250 | Acc: 0.3077 | AUC: 0.6219\n",
      "\n",
      "Epoch 15\n",
      "Train → Loss: 1.4622 | Acc: 0.5000 | AUC: 0.8303\n",
      "Test  → Loss: 2.0458 | Acc: 0.2923 | AUC: 0.6163\n"
     ]
    }
   ],
   "source": [
    "# initialise new model\n",
    "model = Simple3DCNNPhase3(num_classes=NUM_CLASSES, dropout=None).to(DEVICE)\n",
    "criterion = nn.CrossEntropyLoss()\n",
    "optimizer = AdamW(model.parameters(), lr=1e-4, weight_decay=1e-4)\n",
    "scheduler = StepLR(optimizer, step_size=10, gamma=0.5)\n",
    "\n",
    "wandb.init(project=\"3dcnn-phase3\", name=\"phase3-extra-conv\", config={\n",
    "    \"architecture\": \"Simple3DCNNPhase3\",\n",
    "    \"dropout\": None,\n",
    "    \"optimizer\": \"AdamW\",\n",
    "    \"learning_rate\": 1e-4,\n",
    "    \"weight_decay\": 1e-4,\n",
    "    \"scheduler\": \"StepLR (step=10, gamma=0.5)\",\n",
    "    \"epochs\": 15,\n",
    "    \"batch_size\": train_loader.batch_size,\n",
    "    \"dataset\": \"full-single-sequence\"\n",
    "})\n",
    "\n",
    "# training loop\n",
    "EPOCHS = 15\n",
    "for epoch in range(EPOCHS):\n",
    "    model.train()\n",
    "    running_loss = 0.0\n",
    "\n",
    "    for x, y in train_loader:\n",
    "        x, y = x.to(DEVICE), y.to(DEVICE)\n",
    "        optimizer.zero_grad()\n",
    "        logits = model(x.permute(0, 2, 1, 3, 4))  # (B, 3, T, H, W)\n",
    "        loss = criterion(logits, y)\n",
    "        loss.backward()\n",
    "        optimizer.step()\n",
    "        running_loss += loss.item()\n",
    "\n",
    "    avg_train_loss = running_loss / len(train_loader)\n",
    "    train_loss, train_acc, train_auc = evaluate(model, train_loader, criterion, split='Train', return_metrics=True)\n",
    "    test_loss, test_acc, test_auc = evaluate(model, test_loader, criterion, split='Test', return_metrics=True)\n",
    "\n",
    "    # log\n",
    "    wandb.log({\n",
    "        \"epoch\": epoch + 1,\n",
    "        \"train_loss\": train_loss,\n",
    "        \"train_accuracy\": train_acc,\n",
    "        \"train_auc\": train_auc,\n",
    "        \"test_loss\": test_loss,\n",
    "        \"test_accuracy\": test_acc,\n",
    "        \"test_auc\": test_auc,\n",
    "        \"lr\": scheduler.get_last_lr()[0]\n",
    "    })\n",
    "\n",
    "    # print metrics for current epoch\n",
    "    print(f\"\\nEpoch {epoch+1}\")\n",
    "    print(f\"Train → Loss: {train_loss:.4f} | Acc: {train_acc:.4f} | AUC: {train_auc:.4f}\")\n",
    "    print(f\"Test  → Loss: {test_loss:.4f} | Acc: {test_acc:.4f} | AUC: {test_auc:.4f}\")\n",
    "    scheduler.step()"
   ]
  },
  {
   "cell_type": "markdown",
   "metadata": {
    "id": "ltKfRVyhCvFk"
   },
   "source": [
    "* Phase 3 (added extra conv block) results:\n",
    "  - **Train AUC** improved further (**0.68 to 0.83**) with lower **train loss** (1.88 to 1.46)\n",
    "  - **Test AUC** fluctuated (~0.60–0.64)\n",
    "  - **Test loss** stayed high (~2.0–2.1)\n"
   ]
  },
  {
   "cell_type": "markdown",
   "metadata": {
    "id": "apneslBHIKI-"
   },
   "source": [
    "## Phase 4: Class-balanced Loss"
   ]
  },
  {
   "cell_type": "markdown",
   "metadata": {
    "id": "9vaAdE2teGd4"
   },
   "source": [
    "* Applied class-balanced loss (inverse class frequency weighting)\n",
    "* Computed class weights from training set label distribution\n",
    "* Updated CrossEntropyLoss with class weights\n",
    "* Model: `Simple3DCNNPhase3` (4 conv blocks)\n",
    "* Optimiser: AdamW with weight decay\n",
    "* Dataset: Full, single sequence per video\n",
    "* 15 epochs\n"
   ]
  },
  {
   "cell_type": "code",
   "execution_count": 9,
   "metadata": {
    "colab": {
     "base_uri": "https://localhost:8080/"
    },
    "id": "V_L7dGKHIJc4",
    "outputId": "6fe18666-7921-421b-b49c-e4d4399f9398"
   },
   "outputs": [
    {
     "name": "stdout",
     "output_type": "stream",
     "text": [
      "Class Counts: tensor([30., 20., 34., 40., 20., 35., 80., 27.])\n",
      "Class Weights: tensor([1.0031, 1.5046, 0.8851, 0.7523, 1.5046, 0.8598, 0.3761, 1.1145])\n"
     ]
    }
   ],
   "source": [
    "from collections import Counter\n",
    "import torch\n",
    "\n",
    "labels = [int(label) for _, label in train_dataset] # extract labels from training dataset\n",
    "label_counts = Counter(labels)\n",
    "\n",
    "# convert class counts to tensors\n",
    "class_counts = torch.tensor([label_counts.get(i, 0) for i in range(NUM_CLASSES)], dtype=torch.float)\n",
    "print(\"Class Counts:\", class_counts)\n",
    "\n",
    "class_weights = 1.0 / (class_counts + 1e-6) # inverse of class counts; avoid division by 0\n",
    "class_weights = class_weights / class_weights.sum() * NUM_CLASSES # normalise\n",
    "print(\"Class Weights:\", class_weights)"
   ]
  },
  {
   "cell_type": "code",
   "execution_count": null,
   "metadata": {
    "colab": {
     "base_uri": "https://localhost:8080/",
     "height": 1000
    },
    "id": "g6gfNCKRKLnI",
    "outputId": "4b4d50f8-4fc6-4a0c-bbad-ea89c7ee7096"
   },
   "outputs": [
    {
     "data": {
      "text/html": [],
      "text/plain": [
       "<IPython.core.display.HTML object>"
      ]
     },
     "metadata": {},
     "output_type": "display_data"
    },
    {
     "data": {
      "text/html": [
       " View run <strong style=\"color:#cdcd00\">silvery-water-1</strong> at: <a href='https://wandb.ai/fareesahhussain-city-university-of-london/3dcnn-phase4/runs/mm82zm6m' target=\"_blank\">https://wandb.ai/fareesahhussain-city-university-of-london/3dcnn-phase4/runs/mm82zm6m</a><br> View project at: <a href='https://wandb.ai/fareesahhussain-city-university-of-london/3dcnn-phase4' target=\"_blank\">https://wandb.ai/fareesahhussain-city-university-of-london/3dcnn-phase4</a><br>Synced 5 W&B file(s), 0 media file(s), 0 artifact file(s) and 0 other file(s)"
      ],
      "text/plain": [
       "<IPython.core.display.HTML object>"
      ]
     },
     "metadata": {},
     "output_type": "display_data"
    },
    {
     "data": {
      "text/html": [
       "Find logs at: <code>./wandb/run-20250421_211356-mm82zm6m/logs</code>"
      ],
      "text/plain": [
       "<IPython.core.display.HTML object>"
      ]
     },
     "metadata": {},
     "output_type": "display_data"
    },
    {
     "data": {
      "text/html": [
       "Tracking run with wandb version 0.19.9"
      ],
      "text/plain": [
       "<IPython.core.display.HTML object>"
      ]
     },
     "metadata": {},
     "output_type": "display_data"
    },
    {
     "data": {
      "text/html": [
       "Run data is saved locally in <code>/content/wandb/run-20250421_211442-8uu1szaw</code>"
      ],
      "text/plain": [
       "<IPython.core.display.HTML object>"
      ]
     },
     "metadata": {},
     "output_type": "display_data"
    },
    {
     "data": {
      "text/html": [
       "Syncing run <strong><a href='https://wandb.ai/fareesahhussain-city-university-of-london/3dcnn-phase4/runs/8uu1szaw' target=\"_blank\">worthy-aardvark-2</a></strong> to <a href='https://wandb.ai/fareesahhussain-city-university-of-london/3dcnn-phase4' target=\"_blank\">Weights & Biases</a> (<a href='https://wandb.me/developer-guide' target=\"_blank\">docs</a>)<br>"
      ],
      "text/plain": [
       "<IPython.core.display.HTML object>"
      ]
     },
     "metadata": {},
     "output_type": "display_data"
    },
    {
     "data": {
      "text/html": [
       " View project at <a href='https://wandb.ai/fareesahhussain-city-university-of-london/3dcnn-phase4' target=\"_blank\">https://wandb.ai/fareesahhussain-city-university-of-london/3dcnn-phase4</a>"
      ],
      "text/plain": [
       "<IPython.core.display.HTML object>"
      ]
     },
     "metadata": {},
     "output_type": "display_data"
    },
    {
     "data": {
      "text/html": [
       " View run at <a href='https://wandb.ai/fareesahhussain-city-university-of-london/3dcnn-phase4/runs/8uu1szaw' target=\"_blank\">https://wandb.ai/fareesahhussain-city-university-of-london/3dcnn-phase4/runs/8uu1szaw</a>"
      ],
      "text/plain": [
       "<IPython.core.display.HTML object>"
      ]
     },
     "metadata": {},
     "output_type": "display_data"
    },
    {
     "name": "stdout",
     "output_type": "stream",
     "text": [
      "\n",
      "Epoch 1\n",
      "Train → Loss: 1.9277 | Acc: 0.2972 | AUC: 0.6831\n",
      "Test  → Loss: 2.1697 | Acc: 0.1077 | AUC: 0.5405\n",
      "\n",
      "Epoch 2\n",
      "Train → Loss: 1.9445 | Acc: 0.2308 | AUC: 0.6737\n",
      "Test  → Loss: 2.2439 | Acc: 0.0769 | AUC: 0.5222\n",
      "\n",
      "Epoch 3\n",
      "Train → Loss: 1.8460 | Acc: 0.3916 | AUC: 0.7201\n",
      "Test  → Loss: 2.0864 | Acc: 0.2154 | AUC: 0.5837\n",
      "\n",
      "Epoch 4\n",
      "Train → Loss: 1.8391 | Acc: 0.2902 | AUC: 0.7431\n",
      "Test  → Loss: 2.1505 | Acc: 0.1077 | AUC: 0.5338\n",
      "\n",
      "Epoch 5\n",
      "Train → Loss: 1.8435 | Acc: 0.4091 | AUC: 0.7465\n",
      "Test  → Loss: 2.2093 | Acc: 0.2615 | AUC: 0.5896\n",
      "\n",
      "Epoch 6\n",
      "Train → Loss: 1.7581 | Acc: 0.4056 | AUC: 0.7803\n",
      "Test  → Loss: 2.1125 | Acc: 0.1692 | AUC: 0.5701\n",
      "\n",
      "Epoch 7\n",
      "Train → Loss: 1.7196 | Acc: 0.4406 | AUC: 0.7878\n",
      "Test  → Loss: 2.1110 | Acc: 0.1846 | AUC: 0.5706\n",
      "\n",
      "Epoch 8\n",
      "Train → Loss: 1.7861 | Acc: 0.2797 | AUC: 0.7812\n",
      "Test  → Loss: 2.1983 | Acc: 0.1692 | AUC: 0.6088\n",
      "\n",
      "Epoch 9\n",
      "Train → Loss: 1.6733 | Acc: 0.4720 | AUC: 0.8008\n",
      "Test  → Loss: 2.0676 | Acc: 0.2308 | AUC: 0.5948\n",
      "\n",
      "Epoch 10\n",
      "Train → Loss: 1.6778 | Acc: 0.4301 | AUC: 0.7984\n",
      "Test  → Loss: 2.1395 | Acc: 0.2154 | AUC: 0.5981\n",
      "\n",
      "Epoch 11\n",
      "Train → Loss: 1.5917 | Acc: 0.4720 | AUC: 0.8129\n",
      "Test  → Loss: 2.0726 | Acc: 0.2462 | AUC: 0.6234\n",
      "\n",
      "Epoch 12\n",
      "Train → Loss: 1.6054 | Acc: 0.5000 | AUC: 0.8168\n",
      "Test  → Loss: 2.0565 | Acc: 0.2462 | AUC: 0.6287\n",
      "\n",
      "Epoch 13\n",
      "Train → Loss: 1.5774 | Acc: 0.5140 | AUC: 0.8358\n",
      "Test  → Loss: 2.1339 | Acc: 0.2769 | AUC: 0.6213\n",
      "\n",
      "Epoch 14\n",
      "Train → Loss: 1.6056 | Acc: 0.4685 | AUC: 0.8238\n",
      "Test  → Loss: 2.2206 | Acc: 0.2308 | AUC: 0.6178\n",
      "\n",
      "Epoch 15\n",
      "Train → Loss: 1.5713 | Acc: 0.4825 | AUC: 0.8344\n",
      "Test  → Loss: 2.0880 | Acc: 0.2615 | AUC: 0.6223\n"
     ]
    }
   ],
   "source": [
    "import wandb\n",
    "from torch.optim import AdamW\n",
    "from torch.optim.lr_scheduler import StepLR\n",
    "\n",
    "model = Simple3DCNNPhase3(num_classes=NUM_CLASSES, dropout=None).to(DEVICE) # init same model from previous phase\n",
    "criterion = nn.CrossEntropyLoss(weight=class_weights.to(DEVICE)) # change added here!!\n",
    "optimizer = AdamW(model.parameters(), lr=1e-4, weight_decay=1e-4)\n",
    "scheduler = StepLR(optimizer, step_size=10, gamma=0.5)\n",
    "\n",
    "# init wandb\n",
    "wandb.init(project=\"3dcnn-phase4\", config={\n",
    "    \"model\": \"Simple3DCNNPhase3\",\n",
    "    \"optimizer\": \"AdamW\",\n",
    "    \"lr\": 1e-4,\n",
    "    \"weight_decay\": 1e-4,\n",
    "    \"scheduler\": \"StepLR (step=10, gamma=0.5)\",\n",
    "    \"epochs\": 15,\n",
    "    \"loss\": \"CrossEntropyLoss (class-weighted)\",\n",
    "    \"dropout\": None\n",
    "})\n",
    "\n",
    "# training loop\n",
    "EPOCHS = 15\n",
    "for epoch in range(EPOCHS):\n",
    "    model.train()\n",
    "    running_loss = 0.0\n",
    "    for x, y in train_loader:\n",
    "        x, y = x.to(DEVICE), y.to(DEVICE)\n",
    "        optimizer.zero_grad()\n",
    "        logits = model(x.permute(0, 2, 1, 3, 4))  # [B, C, T, H, W]\n",
    "        loss = criterion(logits, y)\n",
    "        loss.backward()\n",
    "        optimizer.step()\n",
    "        running_loss += loss.item()\n",
    "\n",
    "    avg_train_loss = running_loss / len(train_loader)\n",
    "    train_loss, train_acc, train_auc = evaluate(model, train_loader, criterion, split='Train', return_metrics=True)\n",
    "    test_loss, test_acc, test_auc = evaluate(model, test_loader, criterion, split='Test', return_metrics=True)\n",
    "\n",
    "    # log\n",
    "    wandb.log({\n",
    "        \"epoch\": epoch + 1,\n",
    "        \"train_loss\": train_loss,\n",
    "        \"train_accuracy\": train_acc,\n",
    "        \"train_auc\": train_auc,\n",
    "        \"test_loss\": test_loss,\n",
    "        \"test_accuracy\": test_acc,\n",
    "        \"test_auc\": test_auc,\n",
    "        \"lr\": scheduler.get_last_lr()[0]\n",
    "    })\n",
    "\n",
    "    # print metrics for current epoch\n",
    "    print(f\"\\nEpoch {epoch+1}\")\n",
    "    print(f\"Train → Loss: {train_loss:.4f} | Acc: {train_acc:.4f} | AUC: {train_auc:.4f}\")\n",
    "    print(f\"Test  → Loss: {test_loss:.4f} | Acc: {test_acc:.4f} | AUC: {test_auc:.4f}\")\n",
    "\n",
    "    scheduler.step()"
   ]
  },
  {
   "cell_type": "markdown",
   "metadata": {
    "id": "cVyYwPDmEP-U"
   },
   "source": [
    "* Phase 4 (class-balanced loss) results:\n",
    "  - **Train AUC** remained similar as before with **train loss** dropping (1.93 to 1.57)\n",
    "  - **Test AUC** remained inconsistent, with **test loss** still high (~2.0–2.2)\n",
    "\n"
   ]
  },
  {
   "cell_type": "markdown",
   "metadata": {
    "id": "kFTihu87R9dL"
   },
   "source": [
    "## Phase 5: Grid Search"
   ]
  },
  {
   "cell_type": "markdown",
   "metadata": {
    "id": "Nx3bvp6se2Eb"
   },
   "source": [
    "* Simple 3D CNN (4 conv blocks + global avg pool + FC): `Simple3DCNNGrid`\n",
    "* Hyperparameter grid search\n",
    "  - Tuned: dropout rate, weight decay, learning rate\n",
    "* Optimizer: AdamW\n",
    "* Scheduler: StepLR\n",
    "* Loss: Class-weighted CrossEntropy\n",
    "* Dataset: Full, single sequence per video\n",
    "* 15 epochs per configuration\n"
   ]
  },
  {
   "cell_type": "code",
   "execution_count": 10,
   "metadata": {
    "id": "EPKmi77yR_Vp"
   },
   "outputs": [],
   "source": [
    "import torch\n",
    "import torch.nn as nn\n",
    "import torch.nn.functional as F\n",
    "from torch.optim import AdamW\n",
    "from torch.optim.lr_scheduler import StepLR\n",
    "from sklearn.metrics import accuracy_score, roc_auc_score\n",
    "import wandb\n",
    "from copy import deepcopy\n",
    "\n",
    "class Simple3DCNNGrid(nn.Module):\n",
    "    def __init__(self, num_classes=8, dropout=None):\n",
    "        super().__init__()\n",
    "        layers = [\n",
    "            nn.Conv3d(3, 32, kernel_size=(3, 5, 5), stride=1, padding=(1, 2, 2)), # channels 3 to 32\n",
    "            nn.BatchNorm3d(32), # batch norm\n",
    "            nn.ReLU(), # activation\n",
    "            nn.MaxPool3d((1, 2, 2)), # pool spatial dims\n",
    "\n",
    "            nn.Conv3d(32, 64, kernel_size=(3, 3, 3), stride=1, padding=1), # channels 32 to 64\n",
    "            nn.BatchNorm3d(64), # batch norm\n",
    "            nn.ReLU(), # activation\n",
    "            nn.MaxPool3d((2, 2, 2)), # pool temporal spatial dims\n",
    "\n",
    "            nn.Conv3d(64, 128, kernel_size=(3, 3, 3), stride=1, padding=1), # channels 64 to 128\n",
    "            nn.BatchNorm3d(128), #batch norm\n",
    "            nn.ReLU(), # activation\n",
    "            nn.MaxPool3d((2, 2, 2)),\n",
    "\n",
    "            nn.Conv3d(128, 256, kernel_size=(3, 3, 3), stride=1, padding=1), # channels 128 to 256\n",
    "            nn.BatchNorm3d(256), # batch norm\n",
    "            nn.ReLU() # activation\n",
    "        ]\n",
    "\n",
    "        # dropout layer to be tuned in grid search\n",
    "        if dropout:\n",
    "            layers.append(nn.Dropout3d(p=dropout))\n",
    "        layers.append(nn.AdaptiveAvgPool3d((1, 1, 1)))\n",
    "\n",
    "        self.model = nn.Sequential(*layers)\n",
    "        self.fc = nn.Linear(256, num_classes)\n",
    "\n",
    "    def forward(self, x):\n",
    "        x = self.model(x) # pass through conv layers\n",
    "        x = x.view(x.size(0), -1) # flatten\n",
    "        return self.fc(x)"
   ]
  },
  {
   "cell_type": "code",
   "execution_count": null,
   "metadata": {
    "colab": {
     "base_uri": "https://localhost:8080/",
     "height": 1000
    },
    "collapsed": true,
    "id": "np_nqAfvSGAi",
    "outputId": "ecd39860-8f17-4b8e-c54c-05d50ca5d05a"
   },
   "outputs": [
    {
     "name": "stdout",
     "output_type": "stream",
     "text": [
      "\n",
      "Starting Sweep: dNone_wd0.0_lr0.0001\n"
     ]
    },
    {
     "data": {
      "text/html": [],
      "text/plain": [
       "<IPython.core.display.HTML object>"
      ]
     },
     "metadata": {},
     "output_type": "display_data"
    },
    {
     "data": {
      "text/html": [
       "<br>    <style><br>        .wandb-row {<br>            display: flex;<br>            flex-direction: row;<br>            flex-wrap: wrap;<br>            justify-content: flex-start;<br>            width: 100%;<br>        }<br>        .wandb-col {<br>            display: flex;<br>            flex-direction: column;<br>            flex-basis: 100%;<br>            flex: 1;<br>            padding: 10px;<br>        }<br>    </style><br><div class=\"wandb-row\"><div class=\"wandb-col\"><h3>Run history:</h3><br/><table class=\"wandb\"><tr><td>epoch</td><td>▁▂▃▄▅▅▆▇█</td></tr><tr><td>lr</td><td>▁▁▁▁▁▁▁▁▁</td></tr><tr><td>test_accuracy</td><td>▂▅▁█▁▆▄▄▅</td></tr><tr><td>test_auc</td><td>▁▇▄▇█▇▄▇█</td></tr><tr><td>test_loss</td><td>▄▁▄▅█▁▄▅▁</td></tr><tr><td>train_accuracy</td><td>▁▄▄▇▅▄██▇</td></tr><tr><td>train_auc</td><td>▁▃▅▅▆▆▇██</td></tr><tr><td>train_loss</td><td>█▅▄▄▃▄▁▁▂</td></tr></table><br/></div><div class=\"wandb-col\"><h3>Run summary:</h3><br/><table class=\"wandb\"><tr><td>epoch</td><td>9</td></tr><tr><td>lr</td><td>0.0001</td></tr><tr><td>test_accuracy</td><td>0.26154</td></tr><tr><td>test_auc</td><td>0.59529</td></tr><tr><td>test_loss</td><td>2.07944</td></tr><tr><td>train_accuracy</td><td>0.40559</td></tr><tr><td>train_auc</td><td>0.79879</td></tr><tr><td>train_loss</td><td>1.69904</td></tr></table><br/></div></div>"
      ],
      "text/plain": [
       "<IPython.core.display.HTML object>"
      ]
     },
     "metadata": {},
     "output_type": "display_data"
    },
    {
     "data": {
      "text/html": [
       " View run <strong style=\"color:#cdcd00\">dNone_wd0.0_lr0.0001_ls0.0</strong> at: <a href='https://wandb.ai/fareesahhussain-city-university-of-london/3dcnn-gridsearch/runs/mi8lkwhv' target=\"_blank\">https://wandb.ai/fareesahhussain-city-university-of-london/3dcnn-gridsearch/runs/mi8lkwhv</a><br> View project at: <a href='https://wandb.ai/fareesahhussain-city-university-of-london/3dcnn-gridsearch' target=\"_blank\">https://wandb.ai/fareesahhussain-city-university-of-london/3dcnn-gridsearch</a><br>Synced 5 W&B file(s), 0 media file(s), 0 artifact file(s) and 0 other file(s)"
      ],
      "text/plain": [
       "<IPython.core.display.HTML object>"
      ]
     },
     "metadata": {},
     "output_type": "display_data"
    },
    {
     "data": {
      "text/html": [
       "Find logs at: <code>./wandb/run-20250421_215250-mi8lkwhv/logs</code>"
      ],
      "text/plain": [
       "<IPython.core.display.HTML object>"
      ]
     },
     "metadata": {},
     "output_type": "display_data"
    },
    {
     "data": {
      "text/html": [
       "Tracking run with wandb version 0.19.9"
      ],
      "text/plain": [
       "<IPython.core.display.HTML object>"
      ]
     },
     "metadata": {},
     "output_type": "display_data"
    },
    {
     "data": {
      "text/html": [
       "Run data is saved locally in <code>/content/wandb/run-20250421_215818-vdei4hng</code>"
      ],
      "text/plain": [
       "<IPython.core.display.HTML object>"
      ]
     },
     "metadata": {},
     "output_type": "display_data"
    },
    {
     "data": {
      "text/html": [
       "Syncing run <strong><a href='https://wandb.ai/fareesahhussain-city-university-of-london/3dcnn-gridsearch/runs/vdei4hng' target=\"_blank\">dNone_wd0.0_lr0.0001</a></strong> to <a href='https://wandb.ai/fareesahhussain-city-university-of-london/3dcnn-gridsearch' target=\"_blank\">Weights & Biases</a> (<a href='https://wandb.me/developer-guide' target=\"_blank\">docs</a>)<br>"
      ],
      "text/plain": [
       "<IPython.core.display.HTML object>"
      ]
     },
     "metadata": {},
     "output_type": "display_data"
    },
    {
     "data": {
      "text/html": [
       " View project at <a href='https://wandb.ai/fareesahhussain-city-university-of-london/3dcnn-gridsearch' target=\"_blank\">https://wandb.ai/fareesahhussain-city-university-of-london/3dcnn-gridsearch</a>"
      ],
      "text/plain": [
       "<IPython.core.display.HTML object>"
      ]
     },
     "metadata": {},
     "output_type": "display_data"
    },
    {
     "data": {
      "text/html": [
       " View run at <a href='https://wandb.ai/fareesahhussain-city-university-of-london/3dcnn-gridsearch/runs/vdei4hng' target=\"_blank\">https://wandb.ai/fareesahhussain-city-university-of-london/3dcnn-gridsearch/runs/vdei4hng</a>"
      ],
      "text/plain": [
       "<IPython.core.display.HTML object>"
      ]
     },
     "metadata": {},
     "output_type": "display_data"
    },
    {
     "data": {
      "text/html": [],
      "text/plain": [
       "<IPython.core.display.HTML object>"
      ]
     },
     "metadata": {},
     "output_type": "display_data"
    },
    {
     "data": {
      "text/html": [
       "<br>    <style><br>        .wandb-row {<br>            display: flex;<br>            flex-direction: row;<br>            flex-wrap: wrap;<br>            justify-content: flex-start;<br>            width: 100%;<br>        }<br>        .wandb-col {<br>            display: flex;<br>            flex-direction: column;<br>            flex-basis: 100%;<br>            flex: 1;<br>            padding: 10px;<br>        }<br>    </style><br><div class=\"wandb-row\"><div class=\"wandb-col\"><h3>Run history:</h3><br/><table class=\"wandb\"><tr><td>epoch</td><td>▁▁▂▃▃▃▄▅▅▅▆▇▇▇█</td></tr><tr><td>lr</td><td>██████████▁▁▁▁▁</td></tr><tr><td>test_accuracy</td><td>▁▂▃▅█▁▂▅▂▅▅▂▅▅▅</td></tr><tr><td>test_auc</td><td>▁▄▆█▅▃▅▆▄▃▅▅▆▅▆</td></tr><tr><td>test_loss</td><td>▇▇▄▄▄▄█▁▄▆▄█▄▅▆</td></tr><tr><td>train_accuracy</td><td>▁▄▄▄▆▃▃▅▃▆█▇▇▇█</td></tr><tr><td>train_auc</td><td>▁▂▃▃▅▄▅▄▅▅▇▇▇▇█</td></tr><tr><td>train_loss</td><td>█▆▆▆▅▅▅▅▄▄▂▂▂▁▁</td></tr></table><br/></div><div class=\"wandb-col\"><h3>Run summary:</h3><br/><table class=\"wandb\"><tr><td>epoch</td><td>15</td></tr><tr><td>lr</td><td>5e-05</td></tr><tr><td>test_accuracy</td><td>0.27692</td></tr><tr><td>test_auc</td><td>0.59259</td></tr><tr><td>test_loss</td><td>2.16671</td></tr><tr><td>train_accuracy</td><td>0.48951</td></tr><tr><td>train_auc</td><td>0.84887</td></tr><tr><td>train_loss</td><td>1.55051</td></tr></table><br/></div></div>"
      ],
      "text/plain": [
       "<IPython.core.display.HTML object>"
      ]
     },
     "metadata": {},
     "output_type": "display_data"
    },
    {
     "data": {
      "text/html": [
       " View run <strong style=\"color:#cdcd00\">dNone_wd0.0_lr0.0001</strong> at: <a href='https://wandb.ai/fareesahhussain-city-university-of-london/3dcnn-gridsearch/runs/vdei4hng' target=\"_blank\">https://wandb.ai/fareesahhussain-city-university-of-london/3dcnn-gridsearch/runs/vdei4hng</a><br> View project at: <a href='https://wandb.ai/fareesahhussain-city-university-of-london/3dcnn-gridsearch' target=\"_blank\">https://wandb.ai/fareesahhussain-city-university-of-london/3dcnn-gridsearch</a><br>Synced 5 W&B file(s), 0 media file(s), 0 artifact file(s) and 0 other file(s)"
      ],
      "text/plain": [
       "<IPython.core.display.HTML object>"
      ]
     },
     "metadata": {},
     "output_type": "display_data"
    },
    {
     "data": {
      "text/html": [
       "Find logs at: <code>./wandb/run-20250421_215818-vdei4hng/logs</code>"
      ],
      "text/plain": [
       "<IPython.core.display.HTML object>"
      ]
     },
     "metadata": {},
     "output_type": "display_data"
    },
    {
     "name": "stdout",
     "output_type": "stream",
     "text": [
      "\n",
      "Sweep dNone_wd0.0_lr0.0001 complete.\n",
      "Last Epoch Summary:\n",
      "  Train → Loss: 1.5505 | Acc: 0.4895 | AUC: 0.8489\n",
      "  Test  → Loss: 2.1667 | Acc: 0.2769 | AUC: 0.5926\n",
      "\n",
      "\n",
      "Starting Sweep: dNone_wd0.0_lr5e-05\n"
     ]
    },
    {
     "data": {
      "text/html": [
       "Tracking run with wandb version 0.19.9"
      ],
      "text/plain": [
       "<IPython.core.display.HTML object>"
      ]
     },
     "metadata": {},
     "output_type": "display_data"
    },
    {
     "data": {
      "text/html": [
       "Run data is saved locally in <code>/content/wandb/run-20250421_220421-amwq65kn</code>"
      ],
      "text/plain": [
       "<IPython.core.display.HTML object>"
      ]
     },
     "metadata": {},
     "output_type": "display_data"
    },
    {
     "data": {
      "text/html": [
       "Syncing run <strong><a href='https://wandb.ai/fareesahhussain-city-university-of-london/3dcnn-gridsearch/runs/amwq65kn' target=\"_blank\">dNone_wd0.0_lr5e-05</a></strong> to <a href='https://wandb.ai/fareesahhussain-city-university-of-london/3dcnn-gridsearch' target=\"_blank\">Weights & Biases</a> (<a href='https://wandb.me/developer-guide' target=\"_blank\">docs</a>)<br>"
      ],
      "text/plain": [
       "<IPython.core.display.HTML object>"
      ]
     },
     "metadata": {},
     "output_type": "display_data"
    },
    {
     "data": {
      "text/html": [
       " View project at <a href='https://wandb.ai/fareesahhussain-city-university-of-london/3dcnn-gridsearch' target=\"_blank\">https://wandb.ai/fareesahhussain-city-university-of-london/3dcnn-gridsearch</a>"
      ],
      "text/plain": [
       "<IPython.core.display.HTML object>"
      ]
     },
     "metadata": {},
     "output_type": "display_data"
    },
    {
     "data": {
      "text/html": [
       " View run at <a href='https://wandb.ai/fareesahhussain-city-university-of-london/3dcnn-gridsearch/runs/amwq65kn' target=\"_blank\">https://wandb.ai/fareesahhussain-city-university-of-london/3dcnn-gridsearch/runs/amwq65kn</a>"
      ],
      "text/plain": [
       "<IPython.core.display.HTML object>"
      ]
     },
     "metadata": {},
     "output_type": "display_data"
    },
    {
     "data": {
      "text/html": [],
      "text/plain": [
       "<IPython.core.display.HTML object>"
      ]
     },
     "metadata": {},
     "output_type": "display_data"
    },
    {
     "data": {
      "text/html": [
       "<br>    <style><br>        .wandb-row {<br>            display: flex;<br>            flex-direction: row;<br>            flex-wrap: wrap;<br>            justify-content: flex-start;<br>            width: 100%;<br>        }<br>        .wandb-col {<br>            display: flex;<br>            flex-direction: column;<br>            flex-basis: 100%;<br>            flex: 1;<br>            padding: 10px;<br>        }<br>    </style><br><div class=\"wandb-row\"><div class=\"wandb-col\"><h3>Run history:</h3><br/><table class=\"wandb\"><tr><td>epoch</td><td>▁▁▂▃▃▃▄▅▅▅▆▇▇▇█</td></tr><tr><td>lr</td><td>██████████▁▁▁▁▁</td></tr><tr><td>test_accuracy</td><td>▃▃▄▄█▁▇▄▄▇▇▅█▄█</td></tr><tr><td>test_auc</td><td>▃▁▆█▄▅▅▅▄█▄▆▃▅▆</td></tr><tr><td>test_loss</td><td>▆▆▃▂▄▆▄▄▇▁▄▃▂█▃</td></tr><tr><td>train_accuracy</td><td>▁▅▄▆▆▅▆▆▃█▇█▇▇█</td></tr><tr><td>train_auc</td><td>▁▂▄▄▅▅▆▆▆▇▇████</td></tr><tr><td>train_loss</td><td>█▇▇▅▅▅▄▄▅▃▂▁▂▂▁</td></tr></table><br/></div><div class=\"wandb-col\"><h3>Run summary:</h3><br/><table class=\"wandb\"><tr><td>epoch</td><td>15</td></tr><tr><td>lr</td><td>3e-05</td></tr><tr><td>test_accuracy</td><td>0.30769</td></tr><tr><td>test_auc</td><td>0.63831</td></tr><tr><td>test_loss</td><td>2.01653</td></tr><tr><td>train_accuracy</td><td>0.49301</td></tr><tr><td>train_auc</td><td>0.85075</td></tr><tr><td>train_loss</td><td>1.51403</td></tr></table><br/></div></div>"
      ],
      "text/plain": [
       "<IPython.core.display.HTML object>"
      ]
     },
     "metadata": {},
     "output_type": "display_data"
    },
    {
     "data": {
      "text/html": [
       " View run <strong style=\"color:#cdcd00\">dNone_wd0.0_lr5e-05</strong> at: <a href='https://wandb.ai/fareesahhussain-city-university-of-london/3dcnn-gridsearch/runs/amwq65kn' target=\"_blank\">https://wandb.ai/fareesahhussain-city-university-of-london/3dcnn-gridsearch/runs/amwq65kn</a><br> View project at: <a href='https://wandb.ai/fareesahhussain-city-university-of-london/3dcnn-gridsearch' target=\"_blank\">https://wandb.ai/fareesahhussain-city-university-of-london/3dcnn-gridsearch</a><br>Synced 5 W&B file(s), 0 media file(s), 0 artifact file(s) and 0 other file(s)"
      ],
      "text/plain": [
       "<IPython.core.display.HTML object>"
      ]
     },
     "metadata": {},
     "output_type": "display_data"
    },
    {
     "data": {
      "text/html": [
       "Find logs at: <code>./wandb/run-20250421_220421-amwq65kn/logs</code>"
      ],
      "text/plain": [
       "<IPython.core.display.HTML object>"
      ]
     },
     "metadata": {},
     "output_type": "display_data"
    },
    {
     "name": "stdout",
     "output_type": "stream",
     "text": [
      "\n",
      "Sweep dNone_wd0.0_lr5e-05 complete.\n",
      "Last Epoch Summary:\n",
      "  Train → Loss: 1.5140 | Acc: 0.4930 | AUC: 0.8508\n",
      "  Test  → Loss: 2.0165 | Acc: 0.3077 | AUC: 0.6383\n",
      "\n",
      "\n",
      "Starting Sweep: dNone_wd0.0001_lr0.0001\n"
     ]
    },
    {
     "data": {
      "text/html": [
       "Tracking run with wandb version 0.19.9"
      ],
      "text/plain": [
       "<IPython.core.display.HTML object>"
      ]
     },
     "metadata": {},
     "output_type": "display_data"
    },
    {
     "data": {
      "text/html": [
       "Run data is saved locally in <code>/content/wandb/run-20250421_221025-nmr077zy</code>"
      ],
      "text/plain": [
       "<IPython.core.display.HTML object>"
      ]
     },
     "metadata": {},
     "output_type": "display_data"
    },
    {
     "data": {
      "text/html": [
       "Syncing run <strong><a href='https://wandb.ai/fareesahhussain-city-university-of-london/3dcnn-gridsearch/runs/nmr077zy' target=\"_blank\">dNone_wd0.0001_lr0.0001</a></strong> to <a href='https://wandb.ai/fareesahhussain-city-university-of-london/3dcnn-gridsearch' target=\"_blank\">Weights & Biases</a> (<a href='https://wandb.me/developer-guide' target=\"_blank\">docs</a>)<br>"
      ],
      "text/plain": [
       "<IPython.core.display.HTML object>"
      ]
     },
     "metadata": {},
     "output_type": "display_data"
    },
    {
     "data": {
      "text/html": [
       " View project at <a href='https://wandb.ai/fareesahhussain-city-university-of-london/3dcnn-gridsearch' target=\"_blank\">https://wandb.ai/fareesahhussain-city-university-of-london/3dcnn-gridsearch</a>"
      ],
      "text/plain": [
       "<IPython.core.display.HTML object>"
      ]
     },
     "metadata": {},
     "output_type": "display_data"
    },
    {
     "data": {
      "text/html": [
       " View run at <a href='https://wandb.ai/fareesahhussain-city-university-of-london/3dcnn-gridsearch/runs/nmr077zy' target=\"_blank\">https://wandb.ai/fareesahhussain-city-university-of-london/3dcnn-gridsearch/runs/nmr077zy</a>"
      ],
      "text/plain": [
       "<IPython.core.display.HTML object>"
      ]
     },
     "metadata": {},
     "output_type": "display_data"
    },
    {
     "data": {
      "text/html": [],
      "text/plain": [
       "<IPython.core.display.HTML object>"
      ]
     },
     "metadata": {},
     "output_type": "display_data"
    },
    {
     "data": {
      "text/html": [
       "<br>    <style><br>        .wandb-row {<br>            display: flex;<br>            flex-direction: row;<br>            flex-wrap: wrap;<br>            justify-content: flex-start;<br>            width: 100%;<br>        }<br>        .wandb-col {<br>            display: flex;<br>            flex-direction: column;<br>            flex-basis: 100%;<br>            flex: 1;<br>            padding: 10px;<br>        }<br>    </style><br><div class=\"wandb-row\"><div class=\"wandb-col\"><h3>Run history:</h3><br/><table class=\"wandb\"><tr><td>epoch</td><td>▁▁▂▃▃▃▄▅▅▅▆▇▇▇█</td></tr><tr><td>lr</td><td>██████████▁▁▁▁▁</td></tr><tr><td>test_accuracy</td><td>▂▃█▁▃▃▃▂▃▃▅▄▃▄▅</td></tr><tr><td>test_auc</td><td>▇█▇▃▅▁▄▅▂▅▅▅▃▅▄</td></tr><tr><td>test_loss</td><td>▂▂▁▆▅█▃▄▇▄▇▄▅▄▆</td></tr><tr><td>train_accuracy</td><td>▁▅▄▁▆▄▅▇▆▇██▇▇▇</td></tr><tr><td>train_auc</td><td>▁▃▄▃▅▄▅▆▆▇▇█▇██</td></tr><tr><td>train_loss</td><td>█▆▅▇▄▅▄▃▃▂▂▁▂▂▁</td></tr></table><br/></div><div class=\"wandb-col\"><h3>Run summary:</h3><br/><table class=\"wandb\"><tr><td>epoch</td><td>15</td></tr><tr><td>lr</td><td>5e-05</td></tr><tr><td>test_accuracy</td><td>0.26154</td></tr><tr><td>test_auc</td><td>0.59267</td></tr><tr><td>test_loss</td><td>2.16245</td></tr><tr><td>train_accuracy</td><td>0.43706</td></tr><tr><td>train_auc</td><td>0.8229</td></tr><tr><td>train_loss</td><td>1.58775</td></tr></table><br/></div></div>"
      ],
      "text/plain": [
       "<IPython.core.display.HTML object>"
      ]
     },
     "metadata": {},
     "output_type": "display_data"
    },
    {
     "data": {
      "text/html": [
       " View run <strong style=\"color:#cdcd00\">dNone_wd0.0001_lr0.0001</strong> at: <a href='https://wandb.ai/fareesahhussain-city-university-of-london/3dcnn-gridsearch/runs/nmr077zy' target=\"_blank\">https://wandb.ai/fareesahhussain-city-university-of-london/3dcnn-gridsearch/runs/nmr077zy</a><br> View project at: <a href='https://wandb.ai/fareesahhussain-city-university-of-london/3dcnn-gridsearch' target=\"_blank\">https://wandb.ai/fareesahhussain-city-university-of-london/3dcnn-gridsearch</a><br>Synced 5 W&B file(s), 0 media file(s), 0 artifact file(s) and 0 other file(s)"
      ],
      "text/plain": [
       "<IPython.core.display.HTML object>"
      ]
     },
     "metadata": {},
     "output_type": "display_data"
    },
    {
     "data": {
      "text/html": [
       "Find logs at: <code>./wandb/run-20250421_221025-nmr077zy/logs</code>"
      ],
      "text/plain": [
       "<IPython.core.display.HTML object>"
      ]
     },
     "metadata": {},
     "output_type": "display_data"
    },
    {
     "name": "stdout",
     "output_type": "stream",
     "text": [
      "\n",
      "Sweep dNone_wd0.0001_lr0.0001 complete.\n",
      "Last Epoch Summary:\n",
      "  Train → Loss: 1.5877 | Acc: 0.4371 | AUC: 0.8229\n",
      "  Test  → Loss: 2.1625 | Acc: 0.2615 | AUC: 0.5927\n",
      "\n",
      "\n",
      "Starting Sweep: dNone_wd0.0001_lr5e-05\n"
     ]
    },
    {
     "data": {
      "text/html": [
       "Tracking run with wandb version 0.19.9"
      ],
      "text/plain": [
       "<IPython.core.display.HTML object>"
      ]
     },
     "metadata": {},
     "output_type": "display_data"
    },
    {
     "data": {
      "text/html": [
       "Run data is saved locally in <code>/content/wandb/run-20250421_221630-1ekwf94z</code>"
      ],
      "text/plain": [
       "<IPython.core.display.HTML object>"
      ]
     },
     "metadata": {},
     "output_type": "display_data"
    },
    {
     "data": {
      "text/html": [
       "Syncing run <strong><a href='https://wandb.ai/fareesahhussain-city-university-of-london/3dcnn-gridsearch/runs/1ekwf94z' target=\"_blank\">dNone_wd0.0001_lr5e-05</a></strong> to <a href='https://wandb.ai/fareesahhussain-city-university-of-london/3dcnn-gridsearch' target=\"_blank\">Weights & Biases</a> (<a href='https://wandb.me/developer-guide' target=\"_blank\">docs</a>)<br>"
      ],
      "text/plain": [
       "<IPython.core.display.HTML object>"
      ]
     },
     "metadata": {},
     "output_type": "display_data"
    },
    {
     "data": {
      "text/html": [
       " View project at <a href='https://wandb.ai/fareesahhussain-city-university-of-london/3dcnn-gridsearch' target=\"_blank\">https://wandb.ai/fareesahhussain-city-university-of-london/3dcnn-gridsearch</a>"
      ],
      "text/plain": [
       "<IPython.core.display.HTML object>"
      ]
     },
     "metadata": {},
     "output_type": "display_data"
    },
    {
     "data": {
      "text/html": [
       " View run at <a href='https://wandb.ai/fareesahhussain-city-university-of-london/3dcnn-gridsearch/runs/1ekwf94z' target=\"_blank\">https://wandb.ai/fareesahhussain-city-university-of-london/3dcnn-gridsearch/runs/1ekwf94z</a>"
      ],
      "text/plain": [
       "<IPython.core.display.HTML object>"
      ]
     },
     "metadata": {},
     "output_type": "display_data"
    },
    {
     "data": {
      "text/html": [],
      "text/plain": [
       "<IPython.core.display.HTML object>"
      ]
     },
     "metadata": {},
     "output_type": "display_data"
    },
    {
     "data": {
      "text/html": [
       "<br>    <style><br>        .wandb-row {<br>            display: flex;<br>            flex-direction: row;<br>            flex-wrap: wrap;<br>            justify-content: flex-start;<br>            width: 100%;<br>        }<br>        .wandb-col {<br>            display: flex;<br>            flex-direction: column;<br>            flex-basis: 100%;<br>            flex: 1;<br>            padding: 10px;<br>        }<br>    </style><br><div class=\"wandb-row\"><div class=\"wandb-col\"><h3>Run history:</h3><br/><table class=\"wandb\"><tr><td>epoch</td><td>▁▁▂▃▃▃▄▅▅▅▆▇▇▇█</td></tr><tr><td>lr</td><td>██████████▁▁▁▁▁</td></tr><tr><td>test_accuracy</td><td>▆▁▄█▇▆▂▆▄▆▄▆▄▇▅</td></tr><tr><td>test_auc</td><td>▅▂▄▄█▄▁▃▄▅▅▇▆▇▅</td></tr><tr><td>test_loss</td><td>▄▄▃▃▁▄█▅▃▃▆▄▃▂▃</td></tr><tr><td>train_accuracy</td><td>▁▁▂▅▄▅▃▅▆▄▆██▇█</td></tr><tr><td>train_auc</td><td>▁▂▃▄▅▅▄▆▆▆▇████</td></tr><tr><td>train_loss</td><td>█▇▆▅▅▄▅▄▃▄▂▁▂▁▁</td></tr></table><br/></div><div class=\"wandb-col\"><h3>Run summary:</h3><br/><table class=\"wandb\"><tr><td>epoch</td><td>15</td></tr><tr><td>lr</td><td>3e-05</td></tr><tr><td>test_accuracy</td><td>0.26154</td></tr><tr><td>test_auc</td><td>0.60188</td></tr><tr><td>test_loss</td><td>2.05149</td></tr><tr><td>train_accuracy</td><td>0.48601</td></tr><tr><td>train_auc</td><td>0.8376</td></tr><tr><td>train_loss</td><td>1.56452</td></tr></table><br/></div></div>"
      ],
      "text/plain": [
       "<IPython.core.display.HTML object>"
      ]
     },
     "metadata": {},
     "output_type": "display_data"
    },
    {
     "data": {
      "text/html": [
       " View run <strong style=\"color:#cdcd00\">dNone_wd0.0001_lr5e-05</strong> at: <a href='https://wandb.ai/fareesahhussain-city-university-of-london/3dcnn-gridsearch/runs/1ekwf94z' target=\"_blank\">https://wandb.ai/fareesahhussain-city-university-of-london/3dcnn-gridsearch/runs/1ekwf94z</a><br> View project at: <a href='https://wandb.ai/fareesahhussain-city-university-of-london/3dcnn-gridsearch' target=\"_blank\">https://wandb.ai/fareesahhussain-city-university-of-london/3dcnn-gridsearch</a><br>Synced 5 W&B file(s), 0 media file(s), 0 artifact file(s) and 0 other file(s)"
      ],
      "text/plain": [
       "<IPython.core.display.HTML object>"
      ]
     },
     "metadata": {},
     "output_type": "display_data"
    },
    {
     "data": {
      "text/html": [
       "Find logs at: <code>./wandb/run-20250421_221630-1ekwf94z/logs</code>"
      ],
      "text/plain": [
       "<IPython.core.display.HTML object>"
      ]
     },
     "metadata": {},
     "output_type": "display_data"
    },
    {
     "name": "stdout",
     "output_type": "stream",
     "text": [
      "\n",
      "Sweep dNone_wd0.0001_lr5e-05 complete.\n",
      "Last Epoch Summary:\n",
      "  Train → Loss: 1.5645 | Acc: 0.4860 | AUC: 0.8376\n",
      "  Test  → Loss: 2.0515 | Acc: 0.2615 | AUC: 0.6019\n",
      "\n",
      "\n",
      "Starting Sweep: d0.2_wd0.0_lr0.0001\n"
     ]
    },
    {
     "data": {
      "text/html": [
       "Tracking run with wandb version 0.19.9"
      ],
      "text/plain": [
       "<IPython.core.display.HTML object>"
      ]
     },
     "metadata": {},
     "output_type": "display_data"
    },
    {
     "data": {
      "text/html": [
       "Run data is saved locally in <code>/content/wandb/run-20250421_222234-cxi3he28</code>"
      ],
      "text/plain": [
       "<IPython.core.display.HTML object>"
      ]
     },
     "metadata": {},
     "output_type": "display_data"
    },
    {
     "data": {
      "text/html": [
       "Syncing run <strong><a href='https://wandb.ai/fareesahhussain-city-university-of-london/3dcnn-gridsearch/runs/cxi3he28' target=\"_blank\">d0.2_wd0.0_lr0.0001</a></strong> to <a href='https://wandb.ai/fareesahhussain-city-university-of-london/3dcnn-gridsearch' target=\"_blank\">Weights & Biases</a> (<a href='https://wandb.me/developer-guide' target=\"_blank\">docs</a>)<br>"
      ],
      "text/plain": [
       "<IPython.core.display.HTML object>"
      ]
     },
     "metadata": {},
     "output_type": "display_data"
    },
    {
     "data": {
      "text/html": [
       " View project at <a href='https://wandb.ai/fareesahhussain-city-university-of-london/3dcnn-gridsearch' target=\"_blank\">https://wandb.ai/fareesahhussain-city-university-of-london/3dcnn-gridsearch</a>"
      ],
      "text/plain": [
       "<IPython.core.display.HTML object>"
      ]
     },
     "metadata": {},
     "output_type": "display_data"
    },
    {
     "data": {
      "text/html": [
       " View run at <a href='https://wandb.ai/fareesahhussain-city-university-of-london/3dcnn-gridsearch/runs/cxi3he28' target=\"_blank\">https://wandb.ai/fareesahhussain-city-university-of-london/3dcnn-gridsearch/runs/cxi3he28</a>"
      ],
      "text/plain": [
       "<IPython.core.display.HTML object>"
      ]
     },
     "metadata": {},
     "output_type": "display_data"
    },
    {
     "data": {
      "text/html": [],
      "text/plain": [
       "<IPython.core.display.HTML object>"
      ]
     },
     "metadata": {},
     "output_type": "display_data"
    },
    {
     "data": {
      "text/html": [
       "<br>    <style><br>        .wandb-row {<br>            display: flex;<br>            flex-direction: row;<br>            flex-wrap: wrap;<br>            justify-content: flex-start;<br>            width: 100%;<br>        }<br>        .wandb-col {<br>            display: flex;<br>            flex-direction: column;<br>            flex-basis: 100%;<br>            flex: 1;<br>            padding: 10px;<br>        }<br>    </style><br><div class=\"wandb-row\"><div class=\"wandb-col\"><h3>Run history:</h3><br/><table class=\"wandb\"><tr><td>epoch</td><td>▁▁▂▃▃▃▄▅▅▅▆▇▇▇█</td></tr><tr><td>lr</td><td>██████████▁▁▁▁▁</td></tr><tr><td>test_accuracy</td><td>▁▄▆▇█▃▄▄▆▄▆▆▆▆▃</td></tr><tr><td>test_auc</td><td>▁▄▆▅▆▂▂▃▇▆▅▆▆█▅</td></tr><tr><td>test_loss</td><td>▅▁▃▃▂▄▄█▄▄▃▄▃▄▂</td></tr><tr><td>train_accuracy</td><td>▁▅▄▆▆▆▆▅▆▆▇▇███</td></tr><tr><td>train_auc</td><td>▁▃▃▅▆▅▆▄▆▆█████</td></tr><tr><td>train_loss</td><td>█▆▆▅▄▄▄█▃▃▂▂▁▁▁</td></tr></table><br/></div><div class=\"wandb-col\"><h3>Run summary:</h3><br/><table class=\"wandb\"><tr><td>epoch</td><td>15</td></tr><tr><td>lr</td><td>5e-05</td></tr><tr><td>test_accuracy</td><td>0.16923</td></tr><tr><td>test_auc</td><td>0.59138</td></tr><tr><td>test_loss</td><td>2.0558</td></tr><tr><td>train_accuracy</td><td>0.45804</td></tr><tr><td>train_auc</td><td>0.81116</td></tr><tr><td>train_loss</td><td>1.63688</td></tr></table><br/></div></div>"
      ],
      "text/plain": [
       "<IPython.core.display.HTML object>"
      ]
     },
     "metadata": {},
     "output_type": "display_data"
    },
    {
     "data": {
      "text/html": [
       " View run <strong style=\"color:#cdcd00\">d0.2_wd0.0_lr0.0001</strong> at: <a href='https://wandb.ai/fareesahhussain-city-university-of-london/3dcnn-gridsearch/runs/cxi3he28' target=\"_blank\">https://wandb.ai/fareesahhussain-city-university-of-london/3dcnn-gridsearch/runs/cxi3he28</a><br> View project at: <a href='https://wandb.ai/fareesahhussain-city-university-of-london/3dcnn-gridsearch' target=\"_blank\">https://wandb.ai/fareesahhussain-city-university-of-london/3dcnn-gridsearch</a><br>Synced 5 W&B file(s), 0 media file(s), 0 artifact file(s) and 0 other file(s)"
      ],
      "text/plain": [
       "<IPython.core.display.HTML object>"
      ]
     },
     "metadata": {},
     "output_type": "display_data"
    },
    {
     "data": {
      "text/html": [
       "Find logs at: <code>./wandb/run-20250421_222234-cxi3he28/logs</code>"
      ],
      "text/plain": [
       "<IPython.core.display.HTML object>"
      ]
     },
     "metadata": {},
     "output_type": "display_data"
    },
    {
     "name": "stdout",
     "output_type": "stream",
     "text": [
      "\n",
      "Sweep d0.2_wd0.0_lr0.0001 complete.\n",
      "Last Epoch Summary:\n",
      "  Train → Loss: 1.6369 | Acc: 0.4580 | AUC: 0.8112\n",
      "  Test  → Loss: 2.0558 | Acc: 0.1692 | AUC: 0.5914\n",
      "\n",
      "\n",
      "Starting Sweep: d0.2_wd0.0_lr5e-05\n"
     ]
    },
    {
     "data": {
      "text/html": [
       "Tracking run with wandb version 0.19.9"
      ],
      "text/plain": [
       "<IPython.core.display.HTML object>"
      ]
     },
     "metadata": {},
     "output_type": "display_data"
    },
    {
     "data": {
      "text/html": [
       "Run data is saved locally in <code>/content/wandb/run-20250421_222838-63rpax61</code>"
      ],
      "text/plain": [
       "<IPython.core.display.HTML object>"
      ]
     },
     "metadata": {},
     "output_type": "display_data"
    },
    {
     "data": {
      "text/html": [
       "Syncing run <strong><a href='https://wandb.ai/fareesahhussain-city-university-of-london/3dcnn-gridsearch/runs/63rpax61' target=\"_blank\">d0.2_wd0.0_lr5e-05</a></strong> to <a href='https://wandb.ai/fareesahhussain-city-university-of-london/3dcnn-gridsearch' target=\"_blank\">Weights & Biases</a> (<a href='https://wandb.me/developer-guide' target=\"_blank\">docs</a>)<br>"
      ],
      "text/plain": [
       "<IPython.core.display.HTML object>"
      ]
     },
     "metadata": {},
     "output_type": "display_data"
    },
    {
     "data": {
      "text/html": [
       " View project at <a href='https://wandb.ai/fareesahhussain-city-university-of-london/3dcnn-gridsearch' target=\"_blank\">https://wandb.ai/fareesahhussain-city-university-of-london/3dcnn-gridsearch</a>"
      ],
      "text/plain": [
       "<IPython.core.display.HTML object>"
      ]
     },
     "metadata": {},
     "output_type": "display_data"
    },
    {
     "data": {
      "text/html": [
       " View run at <a href='https://wandb.ai/fareesahhussain-city-university-of-london/3dcnn-gridsearch/runs/63rpax61' target=\"_blank\">https://wandb.ai/fareesahhussain-city-university-of-london/3dcnn-gridsearch/runs/63rpax61</a>"
      ],
      "text/plain": [
       "<IPython.core.display.HTML object>"
      ]
     },
     "metadata": {},
     "output_type": "display_data"
    },
    {
     "data": {
      "text/html": [],
      "text/plain": [
       "<IPython.core.display.HTML object>"
      ]
     },
     "metadata": {},
     "output_type": "display_data"
    },
    {
     "data": {
      "text/html": [
       "<br>    <style><br>        .wandb-row {<br>            display: flex;<br>            flex-direction: row;<br>            flex-wrap: wrap;<br>            justify-content: flex-start;<br>            width: 100%;<br>        }<br>        .wandb-col {<br>            display: flex;<br>            flex-direction: column;<br>            flex-basis: 100%;<br>            flex: 1;<br>            padding: 10px;<br>        }<br>    </style><br><div class=\"wandb-row\"><div class=\"wandb-col\"><h3>Run history:</h3><br/><table class=\"wandb\"><tr><td>epoch</td><td>▁▁▂▃▃▃▄▅▅▅▆▇▇▇█</td></tr><tr><td>lr</td><td>██████████▁▁▁▁▁</td></tr><tr><td>test_accuracy</td><td>▁▄▃▃▄▄▅▇▃▅█▆▇▃▅</td></tr><tr><td>test_auc</td><td>▁▄▅▅█▆▆▇▄▇██▅██</td></tr><tr><td>test_loss</td><td>█▄▅▄▂▃▃▄▄▂▁▃▃▃▂</td></tr><tr><td>train_accuracy</td><td>▁▄▅▆▅▅▆█▆▇▇▇█▆▇</td></tr><tr><td>train_auc</td><td>▁▃▄▄▅▆▆▆▅▇▇▇█▇█</td></tr><tr><td>train_loss</td><td>█▇▆▅▄▄▄▄▄▃▂▂▂▂▁</td></tr></table><br/></div><div class=\"wandb-col\"><h3>Run summary:</h3><br/><table class=\"wandb\"><tr><td>epoch</td><td>15</td></tr><tr><td>lr</td><td>3e-05</td></tr><tr><td>test_accuracy</td><td>0.24615</td></tr><tr><td>test_auc</td><td>0.63631</td></tr><tr><td>test_loss</td><td>2.023</td></tr><tr><td>train_accuracy</td><td>0.45455</td></tr><tr><td>train_auc</td><td>0.82261</td></tr><tr><td>train_loss</td><td>1.59851</td></tr></table><br/></div></div>"
      ],
      "text/plain": [
       "<IPython.core.display.HTML object>"
      ]
     },
     "metadata": {},
     "output_type": "display_data"
    },
    {
     "data": {
      "text/html": [
       " View run <strong style=\"color:#cdcd00\">d0.2_wd0.0_lr5e-05</strong> at: <a href='https://wandb.ai/fareesahhussain-city-university-of-london/3dcnn-gridsearch/runs/63rpax61' target=\"_blank\">https://wandb.ai/fareesahhussain-city-university-of-london/3dcnn-gridsearch/runs/63rpax61</a><br> View project at: <a href='https://wandb.ai/fareesahhussain-city-university-of-london/3dcnn-gridsearch' target=\"_blank\">https://wandb.ai/fareesahhussain-city-university-of-london/3dcnn-gridsearch</a><br>Synced 5 W&B file(s), 0 media file(s), 0 artifact file(s) and 0 other file(s)"
      ],
      "text/plain": [
       "<IPython.core.display.HTML object>"
      ]
     },
     "metadata": {},
     "output_type": "display_data"
    },
    {
     "data": {
      "text/html": [
       "Find logs at: <code>./wandb/run-20250421_222838-63rpax61/logs</code>"
      ],
      "text/plain": [
       "<IPython.core.display.HTML object>"
      ]
     },
     "metadata": {},
     "output_type": "display_data"
    },
    {
     "name": "stdout",
     "output_type": "stream",
     "text": [
      "\n",
      "Sweep d0.2_wd0.0_lr5e-05 complete.\n",
      "Last Epoch Summary:\n",
      "  Train → Loss: 1.5985 | Acc: 0.4545 | AUC: 0.8226\n",
      "  Test  → Loss: 2.0230 | Acc: 0.2462 | AUC: 0.6363\n",
      "\n",
      "\n",
      "Starting Sweep: d0.2_wd0.0001_lr0.0001\n"
     ]
    },
    {
     "data": {
      "text/html": [
       "Tracking run with wandb version 0.19.9"
      ],
      "text/plain": [
       "<IPython.core.display.HTML object>"
      ]
     },
     "metadata": {},
     "output_type": "display_data"
    },
    {
     "data": {
      "text/html": [
       "Run data is saved locally in <code>/content/wandb/run-20250421_223445-izn4alq0</code>"
      ],
      "text/plain": [
       "<IPython.core.display.HTML object>"
      ]
     },
     "metadata": {},
     "output_type": "display_data"
    },
    {
     "data": {
      "text/html": [
       "Syncing run <strong><a href='https://wandb.ai/fareesahhussain-city-university-of-london/3dcnn-gridsearch/runs/izn4alq0' target=\"_blank\">d0.2_wd0.0001_lr0.0001</a></strong> to <a href='https://wandb.ai/fareesahhussain-city-university-of-london/3dcnn-gridsearch' target=\"_blank\">Weights & Biases</a> (<a href='https://wandb.me/developer-guide' target=\"_blank\">docs</a>)<br>"
      ],
      "text/plain": [
       "<IPython.core.display.HTML object>"
      ]
     },
     "metadata": {},
     "output_type": "display_data"
    },
    {
     "data": {
      "text/html": [
       " View project at <a href='https://wandb.ai/fareesahhussain-city-university-of-london/3dcnn-gridsearch' target=\"_blank\">https://wandb.ai/fareesahhussain-city-university-of-london/3dcnn-gridsearch</a>"
      ],
      "text/plain": [
       "<IPython.core.display.HTML object>"
      ]
     },
     "metadata": {},
     "output_type": "display_data"
    },
    {
     "data": {
      "text/html": [
       " View run at <a href='https://wandb.ai/fareesahhussain-city-university-of-london/3dcnn-gridsearch/runs/izn4alq0' target=\"_blank\">https://wandb.ai/fareesahhussain-city-university-of-london/3dcnn-gridsearch/runs/izn4alq0</a>"
      ],
      "text/plain": [
       "<IPython.core.display.HTML object>"
      ]
     },
     "metadata": {},
     "output_type": "display_data"
    },
    {
     "data": {
      "text/html": [],
      "text/plain": [
       "<IPython.core.display.HTML object>"
      ]
     },
     "metadata": {},
     "output_type": "display_data"
    },
    {
     "data": {
      "text/html": [
       "<br>    <style><br>        .wandb-row {<br>            display: flex;<br>            flex-direction: row;<br>            flex-wrap: wrap;<br>            justify-content: flex-start;<br>            width: 100%;<br>        }<br>        .wandb-col {<br>            display: flex;<br>            flex-direction: column;<br>            flex-basis: 100%;<br>            flex: 1;<br>            padding: 10px;<br>        }<br>    </style><br><div class=\"wandb-row\"><div class=\"wandb-col\"><h3>Run history:</h3><br/><table class=\"wandb\"><tr><td>epoch</td><td>▁▁▂▃▃▃▄▅▅▅▆▇▇▇█</td></tr><tr><td>lr</td><td>██████████▁▁▁▁▁</td></tr><tr><td>test_accuracy</td><td>▄▁█▂▆▅▃▃▆▇▅▅▃▅▅</td></tr><tr><td>test_auc</td><td>▃▁▄▆▆█▅▆▆▇▇▇▇▆█</td></tr><tr><td>test_loss</td><td>▄▆▃▃█▁▃▃▅▁▄▄▅▆▄</td></tr><tr><td>train_accuracy</td><td>▂▂▅▁▄▅▄▅▄▇▇▇▇█▇</td></tr><tr><td>train_auc</td><td>▁▃▅▄▄▅▅▄▆▇▇█▇██</td></tr><tr><td>train_loss</td><td>█▇▅▇▆▅▅▆▅▄▂▂▃▁▂</td></tr></table><br/></div><div class=\"wandb-col\"><h3>Run summary:</h3><br/><table class=\"wandb\"><tr><td>epoch</td><td>15</td></tr><tr><td>lr</td><td>5e-05</td></tr><tr><td>test_accuracy</td><td>0.27692</td></tr><tr><td>test_auc</td><td>0.63009</td></tr><tr><td>test_loss</td><td>2.09657</td></tr><tr><td>train_accuracy</td><td>0.46853</td></tr><tr><td>train_auc</td><td>0.83793</td></tr><tr><td>train_loss</td><td>1.5969</td></tr></table><br/></div></div>"
      ],
      "text/plain": [
       "<IPython.core.display.HTML object>"
      ]
     },
     "metadata": {},
     "output_type": "display_data"
    },
    {
     "data": {
      "text/html": [
       " View run <strong style=\"color:#cdcd00\">d0.2_wd0.0001_lr0.0001</strong> at: <a href='https://wandb.ai/fareesahhussain-city-university-of-london/3dcnn-gridsearch/runs/izn4alq0' target=\"_blank\">https://wandb.ai/fareesahhussain-city-university-of-london/3dcnn-gridsearch/runs/izn4alq0</a><br> View project at: <a href='https://wandb.ai/fareesahhussain-city-university-of-london/3dcnn-gridsearch' target=\"_blank\">https://wandb.ai/fareesahhussain-city-university-of-london/3dcnn-gridsearch</a><br>Synced 5 W&B file(s), 0 media file(s), 0 artifact file(s) and 0 other file(s)"
      ],
      "text/plain": [
       "<IPython.core.display.HTML object>"
      ]
     },
     "metadata": {},
     "output_type": "display_data"
    },
    {
     "data": {
      "text/html": [
       "Find logs at: <code>./wandb/run-20250421_223445-izn4alq0/logs</code>"
      ],
      "text/plain": [
       "<IPython.core.display.HTML object>"
      ]
     },
     "metadata": {},
     "output_type": "display_data"
    },
    {
     "name": "stdout",
     "output_type": "stream",
     "text": [
      "\n",
      "Sweep d0.2_wd0.0001_lr0.0001 complete.\n",
      "Last Epoch Summary:\n",
      "  Train → Loss: 1.5969 | Acc: 0.4685 | AUC: 0.8379\n",
      "  Test  → Loss: 2.0966 | Acc: 0.2769 | AUC: 0.6301\n",
      "\n",
      "\n",
      "Starting Sweep: d0.2_wd0.0001_lr5e-05\n"
     ]
    },
    {
     "data": {
      "text/html": [
       "Tracking run with wandb version 0.19.9"
      ],
      "text/plain": [
       "<IPython.core.display.HTML object>"
      ]
     },
     "metadata": {},
     "output_type": "display_data"
    },
    {
     "data": {
      "text/html": [
       "Run data is saved locally in <code>/content/wandb/run-20250421_224054-45pb8977</code>"
      ],
      "text/plain": [
       "<IPython.core.display.HTML object>"
      ]
     },
     "metadata": {},
     "output_type": "display_data"
    },
    {
     "data": {
      "text/html": [
       "Syncing run <strong><a href='https://wandb.ai/fareesahhussain-city-university-of-london/3dcnn-gridsearch/runs/45pb8977' target=\"_blank\">d0.2_wd0.0001_lr5e-05</a></strong> to <a href='https://wandb.ai/fareesahhussain-city-university-of-london/3dcnn-gridsearch' target=\"_blank\">Weights & Biases</a> (<a href='https://wandb.me/developer-guide' target=\"_blank\">docs</a>)<br>"
      ],
      "text/plain": [
       "<IPython.core.display.HTML object>"
      ]
     },
     "metadata": {},
     "output_type": "display_data"
    },
    {
     "data": {
      "text/html": [
       " View project at <a href='https://wandb.ai/fareesahhussain-city-university-of-london/3dcnn-gridsearch' target=\"_blank\">https://wandb.ai/fareesahhussain-city-university-of-london/3dcnn-gridsearch</a>"
      ],
      "text/plain": [
       "<IPython.core.display.HTML object>"
      ]
     },
     "metadata": {},
     "output_type": "display_data"
    },
    {
     "data": {
      "text/html": [
       " View run at <a href='https://wandb.ai/fareesahhussain-city-university-of-london/3dcnn-gridsearch/runs/45pb8977' target=\"_blank\">https://wandb.ai/fareesahhussain-city-university-of-london/3dcnn-gridsearch/runs/45pb8977</a>"
      ],
      "text/plain": [
       "<IPython.core.display.HTML object>"
      ]
     },
     "metadata": {},
     "output_type": "display_data"
    },
    {
     "data": {
      "text/html": [],
      "text/plain": [
       "<IPython.core.display.HTML object>"
      ]
     },
     "metadata": {},
     "output_type": "display_data"
    },
    {
     "data": {
      "text/html": [
       "<br>    <style><br>        .wandb-row {<br>            display: flex;<br>            flex-direction: row;<br>            flex-wrap: wrap;<br>            justify-content: flex-start;<br>            width: 100%;<br>        }<br>        .wandb-col {<br>            display: flex;<br>            flex-direction: column;<br>            flex-basis: 100%;<br>            flex: 1;<br>            padding: 10px;<br>        }<br>    </style><br><div class=\"wandb-row\"><div class=\"wandb-col\"><h3>Run history:</h3><br/><table class=\"wandb\"><tr><td>epoch</td><td>▁▁▂▃▃▃▄▅▅▅▆▇▇▇█</td></tr><tr><td>lr</td><td>██████████▁▁▁▁▁</td></tr><tr><td>test_accuracy</td><td>▁▁▄▅▅▆█▄▅▇▇▆▇▄▇</td></tr><tr><td>test_auc</td><td>▁▂▄█▇▇▇▆▆█▆▆█▄▆</td></tr><tr><td>test_loss</td><td>▇▇▄▁▃▃▂▃▆▁▂▂▄█▄</td></tr><tr><td>train_accuracy</td><td>▁▄▃▄▅▅▆▆▆▇▇▇▇▇█</td></tr><tr><td>train_auc</td><td>▁▂▃▄▅▅▅▆▇▇▇████</td></tr><tr><td>train_loss</td><td>█▇▇▆▅▅▅▄▃▃▂▂▁▂▁</td></tr></table><br/></div><div class=\"wandb-col\"><h3>Run summary:</h3><br/><table class=\"wandb\"><tr><td>epoch</td><td>15</td></tr><tr><td>lr</td><td>3e-05</td></tr><tr><td>test_accuracy</td><td>0.27692</td></tr><tr><td>test_auc</td><td>0.61485</td></tr><tr><td>test_loss</td><td>2.05948</td></tr><tr><td>train_accuracy</td><td>0.51399</td></tr><tr><td>train_auc</td><td>0.83602</td></tr><tr><td>train_loss</td><td>1.55976</td></tr></table><br/></div></div>"
      ],
      "text/plain": [
       "<IPython.core.display.HTML object>"
      ]
     },
     "metadata": {},
     "output_type": "display_data"
    },
    {
     "data": {
      "text/html": [
       " View run <strong style=\"color:#cdcd00\">d0.2_wd0.0001_lr5e-05</strong> at: <a href='https://wandb.ai/fareesahhussain-city-university-of-london/3dcnn-gridsearch/runs/45pb8977' target=\"_blank\">https://wandb.ai/fareesahhussain-city-university-of-london/3dcnn-gridsearch/runs/45pb8977</a><br> View project at: <a href='https://wandb.ai/fareesahhussain-city-university-of-london/3dcnn-gridsearch' target=\"_blank\">https://wandb.ai/fareesahhussain-city-university-of-london/3dcnn-gridsearch</a><br>Synced 5 W&B file(s), 0 media file(s), 0 artifact file(s) and 0 other file(s)"
      ],
      "text/plain": [
       "<IPython.core.display.HTML object>"
      ]
     },
     "metadata": {},
     "output_type": "display_data"
    },
    {
     "data": {
      "text/html": [
       "Find logs at: <code>./wandb/run-20250421_224054-45pb8977/logs</code>"
      ],
      "text/plain": [
       "<IPython.core.display.HTML object>"
      ]
     },
     "metadata": {},
     "output_type": "display_data"
    },
    {
     "name": "stdout",
     "output_type": "stream",
     "text": [
      "\n",
      "Sweep d0.2_wd0.0001_lr5e-05 complete.\n",
      "Last Epoch Summary:\n",
      "  Train → Loss: 1.5598 | Acc: 0.5140 | AUC: 0.8360\n",
      "  Test  → Loss: 2.0595 | Acc: 0.2769 | AUC: 0.6148\n",
      "\n",
      "\n",
      "Starting Sweep: d0.5_wd0.0_lr0.0001\n"
     ]
    },
    {
     "data": {
      "text/html": [
       "Tracking run with wandb version 0.19.9"
      ],
      "text/plain": [
       "<IPython.core.display.HTML object>"
      ]
     },
     "metadata": {},
     "output_type": "display_data"
    },
    {
     "data": {
      "text/html": [
       "Run data is saved locally in <code>/content/wandb/run-20250421_224702-mdh883sk</code>"
      ],
      "text/plain": [
       "<IPython.core.display.HTML object>"
      ]
     },
     "metadata": {},
     "output_type": "display_data"
    },
    {
     "data": {
      "text/html": [
       "Syncing run <strong><a href='https://wandb.ai/fareesahhussain-city-university-of-london/3dcnn-gridsearch/runs/mdh883sk' target=\"_blank\">d0.5_wd0.0_lr0.0001</a></strong> to <a href='https://wandb.ai/fareesahhussain-city-university-of-london/3dcnn-gridsearch' target=\"_blank\">Weights & Biases</a> (<a href='https://wandb.me/developer-guide' target=\"_blank\">docs</a>)<br>"
      ],
      "text/plain": [
       "<IPython.core.display.HTML object>"
      ]
     },
     "metadata": {},
     "output_type": "display_data"
    },
    {
     "data": {
      "text/html": [
       " View project at <a href='https://wandb.ai/fareesahhussain-city-university-of-london/3dcnn-gridsearch' target=\"_blank\">https://wandb.ai/fareesahhussain-city-university-of-london/3dcnn-gridsearch</a>"
      ],
      "text/plain": [
       "<IPython.core.display.HTML object>"
      ]
     },
     "metadata": {},
     "output_type": "display_data"
    },
    {
     "data": {
      "text/html": [
       " View run at <a href='https://wandb.ai/fareesahhussain-city-university-of-london/3dcnn-gridsearch/runs/mdh883sk' target=\"_blank\">https://wandb.ai/fareesahhussain-city-university-of-london/3dcnn-gridsearch/runs/mdh883sk</a>"
      ],
      "text/plain": [
       "<IPython.core.display.HTML object>"
      ]
     },
     "metadata": {},
     "output_type": "display_data"
    },
    {
     "data": {
      "text/html": [],
      "text/plain": [
       "<IPython.core.display.HTML object>"
      ]
     },
     "metadata": {},
     "output_type": "display_data"
    },
    {
     "data": {
      "text/html": [
       "<br>    <style><br>        .wandb-row {<br>            display: flex;<br>            flex-direction: row;<br>            flex-wrap: wrap;<br>            justify-content: flex-start;<br>            width: 100%;<br>        }<br>        .wandb-col {<br>            display: flex;<br>            flex-direction: column;<br>            flex-basis: 100%;<br>            flex: 1;<br>            padding: 10px;<br>        }<br>    </style><br><div class=\"wandb-row\"><div class=\"wandb-col\"><h3>Run history:</h3><br/><table class=\"wandb\"><tr><td>epoch</td><td>▁▁▂▃▃▃▄▅▅▅▆▇▇▇█</td></tr><tr><td>lr</td><td>██████████▁▁▁▁▁</td></tr><tr><td>test_accuracy</td><td>▁▅▆▇█▆█▇▇▆▆▆▆▇▇</td></tr><tr><td>test_auc</td><td>▁▂▃▇▃▄▅▆█▃▆▆▆▄█</td></tr><tr><td>test_loss</td><td>▆▄▄▁▇▄▄▄▂█▃▅▆▆▄</td></tr><tr><td>train_accuracy</td><td>▁▃▄▄▅▅▄▅▅▆▇█▆▇█</td></tr><tr><td>train_auc</td><td>▁▃▃▃▄▅▄▅▅▆▇████</td></tr><tr><td>train_loss</td><td>█▇▆▆▅▄▆▄▅▄▂▁▂▁▁</td></tr></table><br/></div><div class=\"wandb-col\"><h3>Run summary:</h3><br/><table class=\"wandb\"><tr><td>epoch</td><td>15</td></tr><tr><td>lr</td><td>5e-05</td></tr><tr><td>test_accuracy</td><td>0.27692</td></tr><tr><td>test_auc</td><td>0.64203</td></tr><tr><td>test_loss</td><td>2.05015</td></tr><tr><td>train_accuracy</td><td>0.48951</td></tr><tr><td>train_auc</td><td>0.82208</td></tr><tr><td>train_loss</td><td>1.63137</td></tr></table><br/></div></div>"
      ],
      "text/plain": [
       "<IPython.core.display.HTML object>"
      ]
     },
     "metadata": {},
     "output_type": "display_data"
    },
    {
     "data": {
      "text/html": [
       " View run <strong style=\"color:#cdcd00\">d0.5_wd0.0_lr0.0001</strong> at: <a href='https://wandb.ai/fareesahhussain-city-university-of-london/3dcnn-gridsearch/runs/mdh883sk' target=\"_blank\">https://wandb.ai/fareesahhussain-city-university-of-london/3dcnn-gridsearch/runs/mdh883sk</a><br> View project at: <a href='https://wandb.ai/fareesahhussain-city-university-of-london/3dcnn-gridsearch' target=\"_blank\">https://wandb.ai/fareesahhussain-city-university-of-london/3dcnn-gridsearch</a><br>Synced 5 W&B file(s), 0 media file(s), 0 artifact file(s) and 0 other file(s)"
      ],
      "text/plain": [
       "<IPython.core.display.HTML object>"
      ]
     },
     "metadata": {},
     "output_type": "display_data"
    },
    {
     "data": {
      "text/html": [
       "Find logs at: <code>./wandb/run-20250421_224702-mdh883sk/logs</code>"
      ],
      "text/plain": [
       "<IPython.core.display.HTML object>"
      ]
     },
     "metadata": {},
     "output_type": "display_data"
    },
    {
     "name": "stdout",
     "output_type": "stream",
     "text": [
      "\n",
      "Sweep d0.5_wd0.0_lr0.0001 complete.\n",
      "Last Epoch Summary:\n",
      "  Train → Loss: 1.6314 | Acc: 0.4895 | AUC: 0.8221\n",
      "  Test  → Loss: 2.0501 | Acc: 0.2769 | AUC: 0.6420\n",
      "\n",
      "\n",
      "Starting Sweep: d0.5_wd0.0_lr5e-05\n"
     ]
    },
    {
     "data": {
      "text/html": [
       "Tracking run with wandb version 0.19.9"
      ],
      "text/plain": [
       "<IPython.core.display.HTML object>"
      ]
     },
     "metadata": {},
     "output_type": "display_data"
    },
    {
     "data": {
      "text/html": [
       "Run data is saved locally in <code>/content/wandb/run-20250421_225309-y6jodjn7</code>"
      ],
      "text/plain": [
       "<IPython.core.display.HTML object>"
      ]
     },
     "metadata": {},
     "output_type": "display_data"
    },
    {
     "data": {
      "text/html": [
       "Syncing run <strong><a href='https://wandb.ai/fareesahhussain-city-university-of-london/3dcnn-gridsearch/runs/y6jodjn7' target=\"_blank\">d0.5_wd0.0_lr5e-05</a></strong> to <a href='https://wandb.ai/fareesahhussain-city-university-of-london/3dcnn-gridsearch' target=\"_blank\">Weights & Biases</a> (<a href='https://wandb.me/developer-guide' target=\"_blank\">docs</a>)<br>"
      ],
      "text/plain": [
       "<IPython.core.display.HTML object>"
      ]
     },
     "metadata": {},
     "output_type": "display_data"
    },
    {
     "data": {
      "text/html": [
       " View project at <a href='https://wandb.ai/fareesahhussain-city-university-of-london/3dcnn-gridsearch' target=\"_blank\">https://wandb.ai/fareesahhussain-city-university-of-london/3dcnn-gridsearch</a>"
      ],
      "text/plain": [
       "<IPython.core.display.HTML object>"
      ]
     },
     "metadata": {},
     "output_type": "display_data"
    },
    {
     "data": {
      "text/html": [
       " View run at <a href='https://wandb.ai/fareesahhussain-city-university-of-london/3dcnn-gridsearch/runs/y6jodjn7' target=\"_blank\">https://wandb.ai/fareesahhussain-city-university-of-london/3dcnn-gridsearch/runs/y6jodjn7</a>"
      ],
      "text/plain": [
       "<IPython.core.display.HTML object>"
      ]
     },
     "metadata": {},
     "output_type": "display_data"
    },
    {
     "data": {
      "text/html": [],
      "text/plain": [
       "<IPython.core.display.HTML object>"
      ]
     },
     "metadata": {},
     "output_type": "display_data"
    },
    {
     "data": {
      "text/html": [
       "<br>    <style><br>        .wandb-row {<br>            display: flex;<br>            flex-direction: row;<br>            flex-wrap: wrap;<br>            justify-content: flex-start;<br>            width: 100%;<br>        }<br>        .wandb-col {<br>            display: flex;<br>            flex-direction: column;<br>            flex-basis: 100%;<br>            flex: 1;<br>            padding: 10px;<br>        }<br>    </style><br><div class=\"wandb-row\"><div class=\"wandb-col\"><h3>Run history:</h3><br/><table class=\"wandb\"><tr><td>epoch</td><td>▁▁▂▃▃▃▄▅▅▅▆▇▇▇█</td></tr><tr><td>lr</td><td>██████████▁▁▁▁▁</td></tr><tr><td>test_accuracy</td><td>▇▅█▅▆▂▅▂▅▆▇▃▃▆▁</td></tr><tr><td>test_auc</td><td>▇█▃▁▃▃▄▅▇▁▇▆▆▆▆</td></tr><tr><td>test_loss</td><td>▂▁▃▃▁▄▃▄▁█▂▅▄▄▄</td></tr><tr><td>train_accuracy</td><td>▃▁▅▆▄▄▆▅▇▆█▇▇▇█</td></tr><tr><td>train_auc</td><td>▁▂▃▄▄▅▅▅▆▆▇▇███</td></tr><tr><td>train_loss</td><td>█▇▆▅▅▅▄▄▃▄▂▂▁▂▁</td></tr></table><br/></div><div class=\"wandb-col\"><h3>Run summary:</h3><br/><table class=\"wandb\"><tr><td>epoch</td><td>15</td></tr><tr><td>lr</td><td>3e-05</td></tr><tr><td>test_accuracy</td><td>0.18462</td></tr><tr><td>test_auc</td><td>0.60113</td></tr><tr><td>test_loss</td><td>2.06652</td></tr><tr><td>train_accuracy</td><td>0.46853</td></tr><tr><td>train_auc</td><td>0.82143</td></tr><tr><td>train_loss</td><td>1.62819</td></tr></table><br/></div></div>"
      ],
      "text/plain": [
       "<IPython.core.display.HTML object>"
      ]
     },
     "metadata": {},
     "output_type": "display_data"
    },
    {
     "data": {
      "text/html": [
       " View run <strong style=\"color:#cdcd00\">d0.5_wd0.0_lr5e-05</strong> at: <a href='https://wandb.ai/fareesahhussain-city-university-of-london/3dcnn-gridsearch/runs/y6jodjn7' target=\"_blank\">https://wandb.ai/fareesahhussain-city-university-of-london/3dcnn-gridsearch/runs/y6jodjn7</a><br> View project at: <a href='https://wandb.ai/fareesahhussain-city-university-of-london/3dcnn-gridsearch' target=\"_blank\">https://wandb.ai/fareesahhussain-city-university-of-london/3dcnn-gridsearch</a><br>Synced 5 W&B file(s), 0 media file(s), 0 artifact file(s) and 0 other file(s)"
      ],
      "text/plain": [
       "<IPython.core.display.HTML object>"
      ]
     },
     "metadata": {},
     "output_type": "display_data"
    },
    {
     "data": {
      "text/html": [
       "Find logs at: <code>./wandb/run-20250421_225309-y6jodjn7/logs</code>"
      ],
      "text/plain": [
       "<IPython.core.display.HTML object>"
      ]
     },
     "metadata": {},
     "output_type": "display_data"
    },
    {
     "name": "stdout",
     "output_type": "stream",
     "text": [
      "\n",
      "Sweep d0.5_wd0.0_lr5e-05 complete.\n",
      "Last Epoch Summary:\n",
      "  Train → Loss: 1.6282 | Acc: 0.4685 | AUC: 0.8214\n",
      "  Test  → Loss: 2.0665 | Acc: 0.1846 | AUC: 0.6011\n",
      "\n",
      "\n",
      "Starting Sweep: d0.5_wd0.0001_lr0.0001\n"
     ]
    },
    {
     "data": {
      "text/html": [
       "Tracking run with wandb version 0.19.9"
      ],
      "text/plain": [
       "<IPython.core.display.HTML object>"
      ]
     },
     "metadata": {},
     "output_type": "display_data"
    },
    {
     "data": {
      "text/html": [
       "Run data is saved locally in <code>/content/wandb/run-20250421_225915-dtg8ekj0</code>"
      ],
      "text/plain": [
       "<IPython.core.display.HTML object>"
      ]
     },
     "metadata": {},
     "output_type": "display_data"
    },
    {
     "data": {
      "text/html": [
       "Syncing run <strong><a href='https://wandb.ai/fareesahhussain-city-university-of-london/3dcnn-gridsearch/runs/dtg8ekj0' target=\"_blank\">d0.5_wd0.0001_lr0.0001</a></strong> to <a href='https://wandb.ai/fareesahhussain-city-university-of-london/3dcnn-gridsearch' target=\"_blank\">Weights & Biases</a> (<a href='https://wandb.me/developer-guide' target=\"_blank\">docs</a>)<br>"
      ],
      "text/plain": [
       "<IPython.core.display.HTML object>"
      ]
     },
     "metadata": {},
     "output_type": "display_data"
    },
    {
     "data": {
      "text/html": [
       " View project at <a href='https://wandb.ai/fareesahhussain-city-university-of-london/3dcnn-gridsearch' target=\"_blank\">https://wandb.ai/fareesahhussain-city-university-of-london/3dcnn-gridsearch</a>"
      ],
      "text/plain": [
       "<IPython.core.display.HTML object>"
      ]
     },
     "metadata": {},
     "output_type": "display_data"
    },
    {
     "data": {
      "text/html": [
       " View run at <a href='https://wandb.ai/fareesahhussain-city-university-of-london/3dcnn-gridsearch/runs/dtg8ekj0' target=\"_blank\">https://wandb.ai/fareesahhussain-city-university-of-london/3dcnn-gridsearch/runs/dtg8ekj0</a>"
      ],
      "text/plain": [
       "<IPython.core.display.HTML object>"
      ]
     },
     "metadata": {},
     "output_type": "display_data"
    },
    {
     "data": {
      "text/html": [],
      "text/plain": [
       "<IPython.core.display.HTML object>"
      ]
     },
     "metadata": {},
     "output_type": "display_data"
    },
    {
     "data": {
      "text/html": [
       "<br>    <style><br>        .wandb-row {<br>            display: flex;<br>            flex-direction: row;<br>            flex-wrap: wrap;<br>            justify-content: flex-start;<br>            width: 100%;<br>        }<br>        .wandb-col {<br>            display: flex;<br>            flex-direction: column;<br>            flex-basis: 100%;<br>            flex: 1;<br>            padding: 10px;<br>        }<br>    </style><br><div class=\"wandb-row\"><div class=\"wandb-col\"><h3>Run history:</h3><br/><table class=\"wandb\"><tr><td>epoch</td><td>▁▁▂▃▃▃▄▅▅▅▆▇▇▇█</td></tr><tr><td>lr</td><td>██████████▁▁▁▁▁</td></tr><tr><td>test_accuracy</td><td>▃█▅▃▆▁▅▆▅▅▅▅▆▂▃</td></tr><tr><td>test_auc</td><td>▁▃▃▂▄▃▄▆▅▆▇▇█▇▇</td></tr><tr><td>test_loss</td><td>▅▂▅█▃▄▇▁▇▃▃▂▃▄▃</td></tr><tr><td>train_accuracy</td><td>▁▄▂▂▅▁▅▅▆▄▆▆█▆▇</td></tr><tr><td>train_auc</td><td>▁▃▂▃▅▄▅▆▆▇▇▇███</td></tr><tr><td>train_loss</td><td>█▆▇█▄▅▄▄▃▃▂▂▁▁▁</td></tr></table><br/></div><div class=\"wandb-col\"><h3>Run summary:</h3><br/><table class=\"wandb\"><tr><td>epoch</td><td>15</td></tr><tr><td>lr</td><td>5e-05</td></tr><tr><td>test_accuracy</td><td>0.23077</td></tr><tr><td>test_auc</td><td>0.62338</td></tr><tr><td>test_loss</td><td>2.06467</td></tr><tr><td>train_accuracy</td><td>0.44755</td></tr><tr><td>train_auc</td><td>0.80691</td></tr><tr><td>train_loss</td><td>1.66406</td></tr></table><br/></div></div>"
      ],
      "text/plain": [
       "<IPython.core.display.HTML object>"
      ]
     },
     "metadata": {},
     "output_type": "display_data"
    },
    {
     "data": {
      "text/html": [
       " View run <strong style=\"color:#cdcd00\">d0.5_wd0.0001_lr0.0001</strong> at: <a href='https://wandb.ai/fareesahhussain-city-university-of-london/3dcnn-gridsearch/runs/dtg8ekj0' target=\"_blank\">https://wandb.ai/fareesahhussain-city-university-of-london/3dcnn-gridsearch/runs/dtg8ekj0</a><br> View project at: <a href='https://wandb.ai/fareesahhussain-city-university-of-london/3dcnn-gridsearch' target=\"_blank\">https://wandb.ai/fareesahhussain-city-university-of-london/3dcnn-gridsearch</a><br>Synced 5 W&B file(s), 0 media file(s), 0 artifact file(s) and 0 other file(s)"
      ],
      "text/plain": [
       "<IPython.core.display.HTML object>"
      ]
     },
     "metadata": {},
     "output_type": "display_data"
    },
    {
     "data": {
      "text/html": [
       "Find logs at: <code>./wandb/run-20250421_225915-dtg8ekj0/logs</code>"
      ],
      "text/plain": [
       "<IPython.core.display.HTML object>"
      ]
     },
     "metadata": {},
     "output_type": "display_data"
    },
    {
     "name": "stdout",
     "output_type": "stream",
     "text": [
      "\n",
      "Sweep d0.5_wd0.0001_lr0.0001 complete.\n",
      "Last Epoch Summary:\n",
      "  Train → Loss: 1.6641 | Acc: 0.4476 | AUC: 0.8069\n",
      "  Test  → Loss: 2.0647 | Acc: 0.2308 | AUC: 0.6234\n",
      "\n",
      "\n",
      "Starting Sweep: d0.5_wd0.0001_lr5e-05\n"
     ]
    },
    {
     "data": {
      "text/html": [
       "Tracking run with wandb version 0.19.9"
      ],
      "text/plain": [
       "<IPython.core.display.HTML object>"
      ]
     },
     "metadata": {},
     "output_type": "display_data"
    },
    {
     "data": {
      "text/html": [
       "Run data is saved locally in <code>/content/wandb/run-20250421_230519-7vgtwvc1</code>"
      ],
      "text/plain": [
       "<IPython.core.display.HTML object>"
      ]
     },
     "metadata": {},
     "output_type": "display_data"
    },
    {
     "data": {
      "text/html": [
       "Syncing run <strong><a href='https://wandb.ai/fareesahhussain-city-university-of-london/3dcnn-gridsearch/runs/7vgtwvc1' target=\"_blank\">d0.5_wd0.0001_lr5e-05</a></strong> to <a href='https://wandb.ai/fareesahhussain-city-university-of-london/3dcnn-gridsearch' target=\"_blank\">Weights & Biases</a> (<a href='https://wandb.me/developer-guide' target=\"_blank\">docs</a>)<br>"
      ],
      "text/plain": [
       "<IPython.core.display.HTML object>"
      ]
     },
     "metadata": {},
     "output_type": "display_data"
    },
    {
     "data": {
      "text/html": [
       " View project at <a href='https://wandb.ai/fareesahhussain-city-university-of-london/3dcnn-gridsearch' target=\"_blank\">https://wandb.ai/fareesahhussain-city-university-of-london/3dcnn-gridsearch</a>"
      ],
      "text/plain": [
       "<IPython.core.display.HTML object>"
      ]
     },
     "metadata": {},
     "output_type": "display_data"
    },
    {
     "data": {
      "text/html": [
       " View run at <a href='https://wandb.ai/fareesahhussain-city-university-of-london/3dcnn-gridsearch/runs/7vgtwvc1' target=\"_blank\">https://wandb.ai/fareesahhussain-city-university-of-london/3dcnn-gridsearch/runs/7vgtwvc1</a>"
      ],
      "text/plain": [
       "<IPython.core.display.HTML object>"
      ]
     },
     "metadata": {},
     "output_type": "display_data"
    },
    {
     "data": {
      "text/html": [],
      "text/plain": [
       "<IPython.core.display.HTML object>"
      ]
     },
     "metadata": {},
     "output_type": "display_data"
    },
    {
     "data": {
      "text/html": [
       "<br>    <style><br>        .wandb-row {<br>            display: flex;<br>            flex-direction: row;<br>            flex-wrap: wrap;<br>            justify-content: flex-start;<br>            width: 100%;<br>        }<br>        .wandb-col {<br>            display: flex;<br>            flex-direction: column;<br>            flex-basis: 100%;<br>            flex: 1;<br>            padding: 10px;<br>        }<br>    </style><br><div class=\"wandb-row\"><div class=\"wandb-col\"><h3>Run history:</h3><br/><table class=\"wandb\"><tr><td>epoch</td><td>▁▁▂▃▃▃▄▅▅▅▆▇▇▇█</td></tr><tr><td>lr</td><td>██████████▁▁▁▁▁</td></tr><tr><td>test_accuracy</td><td>▁▃▄▅▇▄▇▆▇▇█▅▇▆▇</td></tr><tr><td>test_auc</td><td>▁▇▃▆▅▅▆█▆█▇▇█▇█</td></tr><tr><td>test_loss</td><td>█▆█▄▅▅▃▁▄▄▂▃▃▄▁</td></tr><tr><td>train_accuracy</td><td>▁▃▃▅▅▅▅▅▆▆▇▇█▇█</td></tr><tr><td>train_auc</td><td>▁▃▂▄▅▅▆▆▆▆▇▇███</td></tr><tr><td>train_loss</td><td>█▇▇▅▅▅▄▄▃▃▂▂▁▁▁</td></tr></table><br/></div><div class=\"wandb-col\"><h3>Run summary:</h3><br/><table class=\"wandb\"><tr><td>epoch</td><td>15</td></tr><tr><td>lr</td><td>3e-05</td></tr><tr><td>test_accuracy</td><td>0.27692</td></tr><tr><td>test_auc</td><td>0.64689</td></tr><tr><td>test_loss</td><td>1.96489</td></tr><tr><td>train_accuracy</td><td>0.47552</td></tr><tr><td>train_auc</td><td>0.82471</td></tr><tr><td>train_loss</td><td>1.62912</td></tr></table><br/></div></div>"
      ],
      "text/plain": [
       "<IPython.core.display.HTML object>"
      ]
     },
     "metadata": {},
     "output_type": "display_data"
    },
    {
     "data": {
      "text/html": [
       " View run <strong style=\"color:#cdcd00\">d0.5_wd0.0001_lr5e-05</strong> at: <a href='https://wandb.ai/fareesahhussain-city-university-of-london/3dcnn-gridsearch/runs/7vgtwvc1' target=\"_blank\">https://wandb.ai/fareesahhussain-city-university-of-london/3dcnn-gridsearch/runs/7vgtwvc1</a><br> View project at: <a href='https://wandb.ai/fareesahhussain-city-university-of-london/3dcnn-gridsearch' target=\"_blank\">https://wandb.ai/fareesahhussain-city-university-of-london/3dcnn-gridsearch</a><br>Synced 5 W&B file(s), 0 media file(s), 0 artifact file(s) and 0 other file(s)"
      ],
      "text/plain": [
       "<IPython.core.display.HTML object>"
      ]
     },
     "metadata": {},
     "output_type": "display_data"
    },
    {
     "data": {
      "text/html": [
       "Find logs at: <code>./wandb/run-20250421_230519-7vgtwvc1/logs</code>"
      ],
      "text/plain": [
       "<IPython.core.display.HTML object>"
      ]
     },
     "metadata": {},
     "output_type": "display_data"
    },
    {
     "name": "stdout",
     "output_type": "stream",
     "text": [
      "\n",
      "Sweep d0.5_wd0.0001_lr5e-05 complete.\n",
      "Last Epoch Summary:\n",
      "  Train → Loss: 1.6291 | Acc: 0.4755 | AUC: 0.8247\n",
      "  Test  → Loss: 1.9649 | Acc: 0.2769 | AUC: 0.6469\n",
      "\n"
     ]
    }
   ],
   "source": [
    "import pandas as pd\n",
    "\n",
    "# define grid\n",
    "dropouts = [None, 0.2, 0.5]\n",
    "weight_decays = [0.0, 1e-4]\n",
    "learning_rates = [1e-4, 5e-5]\n",
    "\n",
    "EPOCHS = 15\n",
    "results = []\n",
    "\n",
    "# grid search loop\n",
    "sweep_idx = 0\n",
    "for dropout in dropouts:\n",
    "    for wd in weight_decays:\n",
    "        for lr in learning_rates:\n",
    "            sweep_id = f\"d{dropout}_wd{wd}_lr{lr}\" # unique id for current sweep (config)\n",
    "\n",
    "            print(f\"\\nStarting Sweep: {sweep_id}\")\n",
    "\n",
    "            # Set up model, loss, optimizer\n",
    "            model = Simple3DCNNGrid(num_classes=NUM_CLASSES, dropout=dropout).to(DEVICE)\n",
    "            criterion = nn.CrossEntropyLoss(weight=class_weights.to(DEVICE))  # class-balanced loss, no label smoothing\n",
    "            optimizer = AdamW(model.parameters(), lr=lr, weight_decay=wd) # AdamW with grid search params\n",
    "            scheduler = StepLR(optimizer, step_size=10, gamma=0.5) # reduce lr after 10 epochs\n",
    "\n",
    "            # init wandb\n",
    "            wandb.init(project=\"3dcnn-gridsearch\", name=sweep_id)\n",
    "            wandb.config.update({\n",
    "                \"dropout\": dropout,\n",
    "                \"weight_decay\": wd,\n",
    "                \"lr\": lr,\n",
    "                \"epochs\": EPOCHS,\n",
    "                \"batch_size\": train_loader.batch_size,\n",
    "            })\n",
    "\n",
    "            # train loop for current sweep\n",
    "            for epoch in range(EPOCHS):\n",
    "                model.train()\n",
    "                running_loss = 0.0\n",
    "\n",
    "                for x, y in train_loader:\n",
    "                    x, y = x.to(DEVICE), y.to(DEVICE)\n",
    "                    optimizer.zero_grad()\n",
    "                    logits = model(x.permute(0, 2, 1, 3, 4))  # permute to (B, 3, T, H, W)\n",
    "                    loss = criterion(logits, y)\n",
    "                    loss.backward()\n",
    "                    optimizer.step()\n",
    "                    running_loss += loss.item()\n",
    "\n",
    "                avg_train_loss = running_loss / len(train_loader)\n",
    "\n",
    "                train_loss, train_acc, train_auc = evaluate(model, train_loader, criterion, return_metrics=True)\n",
    "                test_loss, test_acc, test_auc = evaluate(model, test_loader, criterion, return_metrics=True)\n",
    "\n",
    "                # log to wandb\n",
    "                wandb.log({\n",
    "                    \"epoch\": epoch + 1,\n",
    "                    \"train_loss\": train_loss,\n",
    "                    \"train_accuracy\": train_acc,\n",
    "                    \"train_auc\": train_auc,\n",
    "                    \"test_loss\": test_loss,\n",
    "                    \"test_accuracy\": test_acc,\n",
    "                    \"test_auc\": test_auc,\n",
    "                    \"lr\": scheduler.get_last_lr()[0],\n",
    "                })\n",
    "\n",
    "                # log to results list\n",
    "                results.append({\n",
    "                    \"sweep_id\": sweep_id,\n",
    "                    \"epoch\": epoch + 1,\n",
    "                    \"dropout\": dropout,\n",
    "                    \"weight_decay\": wd,\n",
    "                    \"lr\": lr,\n",
    "                    \"train_loss\": train_loss,\n",
    "                    \"train_acc\": train_acc,\n",
    "                    \"train_auc\": train_auc,\n",
    "                    \"test_loss\": test_loss,\n",
    "                    \"test_acc\": test_acc,\n",
    "                    \"test_auc\": test_auc,\n",
    "                })\n",
    "\n",
    "                scheduler.step() # update lr\n",
    "\n",
    "            wandb.finish()\n",
    "            # print last epoch summary for this sweep\n",
    "            last_epoch_metrics = results[-1]\n",
    "            print(f\"\\nSweep {sweep_id} complete.\")\n",
    "            print(f\"Last Epoch Summary:\")\n",
    "            print(f\"  Train → Loss: {last_epoch_metrics['train_loss']:.4f} | \"\n",
    "                  f\"Acc: {last_epoch_metrics['train_acc']:.4f} | \"\n",
    "                  f\"AUC: {last_epoch_metrics['train_auc']:.4f}\")\n",
    "            print(f\"  Test  → Loss: {last_epoch_metrics['test_loss']:.4f} | \"\n",
    "                  f\"Acc: {last_epoch_metrics['test_acc']:.4f} | \"\n",
    "                  f\"AUC: {last_epoch_metrics['test_auc']:.4f}\\n\")\n",
    "            sweep_idx += 1\n",
    "\n",
    "# save all sweep results in df\n",
    "df_grid_search = pd.DataFrame(results)"
   ]
  },
  {
   "cell_type": "code",
   "execution_count": null,
   "metadata": {
    "colab": {
     "base_uri": "https://localhost:8080/",
     "height": 899
    },
    "id": "iY7l9EQ_shKQ",
    "outputId": "449a9035-be77-4ee4-98a2-41f89d7b1ec6"
   },
   "outputs": [
    {
     "data": {
      "application/vnd.google.colaboratory.intrinsic+json": {
       "summary": "{\n  \"name\": \"df_grid_search\",\n  \"rows\": 180,\n  \"fields\": [\n    {\n      \"column\": \"sweep_id\",\n      \"properties\": {\n        \"dtype\": \"category\",\n        \"num_unique_values\": 12,\n        \"samples\": [\n          \"d0.5_wd0.0001_lr0.0001\",\n          \"d0.5_wd0.0_lr5e-05\",\n          \"dNone_wd0.0_lr0.0001\"\n        ],\n        \"semantic_type\": \"\",\n        \"description\": \"\"\n      }\n    },\n    {\n      \"column\": \"epoch\",\n      \"properties\": {\n        \"dtype\": \"number\",\n        \"std\": 4,\n        \"min\": 1,\n        \"max\": 15,\n        \"num_unique_values\": 15,\n        \"samples\": [\n          10,\n          12,\n          1\n        ],\n        \"semantic_type\": \"\",\n        \"description\": \"\"\n      }\n    },\n    {\n      \"column\": \"dropout\",\n      \"properties\": {\n        \"dtype\": \"number\",\n        \"std\": 0.15062893357603002,\n        \"min\": 0.2,\n        \"max\": 0.5,\n        \"num_unique_values\": 2,\n        \"samples\": [\n          0.5,\n          0.2\n        ],\n        \"semantic_type\": \"\",\n        \"description\": \"\"\n      }\n    },\n    {\n      \"column\": \"weight_decay\",\n      \"properties\": {\n        \"dtype\": \"number\",\n        \"std\": 5.013947028486557e-05,\n        \"min\": 0.0,\n        \"max\": 0.0001,\n        \"num_unique_values\": 2,\n        \"samples\": [\n          0.0001,\n          0.0\n        ],\n        \"semantic_type\": \"\",\n        \"description\": \"\"\n      }\n    },\n    {\n      \"column\": \"lr\",\n      \"properties\": {\n        \"dtype\": \"number\",\n        \"std\": 2.5069735142432846e-05,\n        \"min\": 5e-05,\n        \"max\": 0.0001,\n        \"num_unique_values\": 2,\n        \"samples\": [\n          5e-05,\n          0.0001\n        ],\n        \"semantic_type\": \"\",\n        \"description\": \"\"\n      }\n    },\n    {\n      \"column\": \"train_loss\",\n      \"properties\": {\n        \"dtype\": \"number\",\n        \"std\": 0.12657245132115147,\n        \"min\": 1.5140349831846025,\n        \"max\": 2.023856058716774,\n        \"num_unique_values\": 180,\n        \"samples\": [\n          1.7846969614426296,\n          1.6606961008575227\n        ],\n        \"semantic_type\": \"\",\n        \"description\": \"\"\n      }\n    },\n    {\n      \"column\": \"train_acc\",\n      \"properties\": {\n        \"dtype\": \"number\",\n        \"std\": 0.07065143428030556,\n        \"min\": 0.16433566433566432,\n        \"max\": 0.513986013986014,\n        \"num_unique_values\": 67,\n        \"samples\": [\n          0.36713286713286714,\n          0.4125874125874126\n        ],\n        \"semantic_type\": \"\",\n        \"description\": \"\"\n      }\n    },\n    {\n      \"column\": \"train_auc\",\n      \"properties\": {\n        \"dtype\": \"number\",\n        \"std\": 0.05235075058114158,\n        \"min\": 0.6416832445540803,\n        \"max\": 0.8507521056796294,\n        \"num_unique_values\": 180,\n        \"samples\": [\n          0.7675601530017695,\n          0.809251705516971\n        ],\n        \"semantic_type\": \"\",\n        \"description\": \"\"\n      }\n    },\n    {\n      \"column\": \"test_loss\",\n      \"properties\": {\n        \"dtype\": \"number\",\n        \"std\": 0.06436490084720078,\n        \"min\": 1.9510364041608923,\n        \"max\": 2.3190149174017063,\n        \"num_unique_values\": 180,\n        \"samples\": [\n          2.0255809110753678,\n          2.123694707365597\n        ],\n        \"semantic_type\": \"\",\n        \"description\": \"\"\n      }\n    },\n    {\n      \"column\": \"test_acc\",\n      \"properties\": {\n        \"dtype\": \"number\",\n        \"std\": 0.048540377084226545,\n        \"min\": 0.09230769230769231,\n        \"max\": 0.3384615384615385,\n        \"num_unique_values\": 16,\n        \"samples\": [\n          0.16923076923076924,\n          0.2\n        ],\n        \"semantic_type\": \"\",\n        \"description\": \"\"\n      }\n    },\n    {\n      \"column\": \"test_auc\",\n      \"properties\": {\n        \"dtype\": \"number\",\n        \"std\": 0.028867558867286806,\n        \"min\": 0.4900821454295563,\n        \"max\": 0.6640342412727812,\n        \"num_unique_values\": 180,\n        \"samples\": [\n          0.6168890662016723,\n          0.5859167224022912\n        ],\n        \"semantic_type\": \"\",\n        \"description\": \"\"\n      }\n    }\n  ]\n}",
       "type": "dataframe",
       "variable_name": "df_grid_search"
      },
      "text/html": [
       "\n",
       "  <div id=\"df-141f1511-b030-490e-8259-bce75f75cbbb\" class=\"colab-df-container\">\n",
       "    <div>\n",
       "<style scoped>\n",
       "    .dataframe tbody tr th:only-of-type {\n",
       "        vertical-align: middle;\n",
       "    }\n",
       "\n",
       "    .dataframe tbody tr th {\n",
       "        vertical-align: top;\n",
       "    }\n",
       "\n",
       "    .dataframe thead th {\n",
       "        text-align: right;\n",
       "    }\n",
       "</style>\n",
       "<table border=\"1\" class=\"dataframe\">\n",
       "  <thead>\n",
       "    <tr style=\"text-align: right;\">\n",
       "      <th></th>\n",
       "      <th>sweep_id</th>\n",
       "      <th>epoch</th>\n",
       "      <th>dropout</th>\n",
       "      <th>weight_decay</th>\n",
       "      <th>lr</th>\n",
       "      <th>train_loss</th>\n",
       "      <th>train_acc</th>\n",
       "      <th>train_auc</th>\n",
       "      <th>test_loss</th>\n",
       "      <th>test_acc</th>\n",
       "      <th>test_auc</th>\n",
       "    </tr>\n",
       "  </thead>\n",
       "  <tbody>\n",
       "    <tr>\n",
       "      <th>0</th>\n",
       "      <td>dNone_wd0.0_lr0.0001</td>\n",
       "      <td>1</td>\n",
       "      <td>NaN</td>\n",
       "      <td>0.0000</td>\n",
       "      <td>0.00010</td>\n",
       "      <td>2.013106</td>\n",
       "      <td>0.255245</td>\n",
       "      <td>0.656933</td>\n",
       "      <td>2.213764</td>\n",
       "      <td>0.169231</td>\n",
       "      <td>0.514082</td>\n",
       "    </tr>\n",
       "    <tr>\n",
       "      <th>1</th>\n",
       "      <td>dNone_wd0.0_lr0.0001</td>\n",
       "      <td>2</td>\n",
       "      <td>NaN</td>\n",
       "      <td>0.0000</td>\n",
       "      <td>0.00010</td>\n",
       "      <td>1.907327</td>\n",
       "      <td>0.356643</td>\n",
       "      <td>0.695254</td>\n",
       "      <td>2.224200</td>\n",
       "      <td>0.200000</td>\n",
       "      <td>0.563216</td>\n",
       "    </tr>\n",
       "    <tr>\n",
       "      <th>2</th>\n",
       "      <td>dNone_wd0.0_lr0.0001</td>\n",
       "      <td>3</td>\n",
       "      <td>NaN</td>\n",
       "      <td>0.0000</td>\n",
       "      <td>0.00010</td>\n",
       "      <td>1.868429</td>\n",
       "      <td>0.353147</td>\n",
       "      <td>0.718612</td>\n",
       "      <td>2.093490</td>\n",
       "      <td>0.215385</td>\n",
       "      <td>0.606133</td>\n",
       "    </tr>\n",
       "    <tr>\n",
       "      <th>3</th>\n",
       "      <td>dNone_wd0.0_lr0.0001</td>\n",
       "      <td>4</td>\n",
       "      <td>NaN</td>\n",
       "      <td>0.0000</td>\n",
       "      <td>0.00010</td>\n",
       "      <td>1.884787</td>\n",
       "      <td>0.363636</td>\n",
       "      <td>0.719258</td>\n",
       "      <td>2.088103</td>\n",
       "      <td>0.276923</td>\n",
       "      <td>0.635948</td>\n",
       "    </tr>\n",
       "    <tr>\n",
       "      <th>4</th>\n",
       "      <td>dNone_wd0.0_lr0.0001</td>\n",
       "      <td>5</td>\n",
       "      <td>NaN</td>\n",
       "      <td>0.0000</td>\n",
       "      <td>0.00010</td>\n",
       "      <td>1.803969</td>\n",
       "      <td>0.437063</td>\n",
       "      <td>0.762105</td>\n",
       "      <td>2.088739</td>\n",
       "      <td>0.338462</td>\n",
       "      <td>0.592209</td>\n",
       "    </tr>\n",
       "    <tr>\n",
       "      <th>...</th>\n",
       "      <td>...</td>\n",
       "      <td>...</td>\n",
       "      <td>...</td>\n",
       "      <td>...</td>\n",
       "      <td>...</td>\n",
       "      <td>...</td>\n",
       "      <td>...</td>\n",
       "      <td>...</td>\n",
       "      <td>...</td>\n",
       "      <td>...</td>\n",
       "      <td>...</td>\n",
       "    </tr>\n",
       "    <tr>\n",
       "      <th>175</th>\n",
       "      <td>d0.5_wd0.0001_lr5e-05</td>\n",
       "      <td>11</td>\n",
       "      <td>0.5</td>\n",
       "      <td>0.0001</td>\n",
       "      <td>0.00005</td>\n",
       "      <td>1.675290</td>\n",
       "      <td>0.458042</td>\n",
       "      <td>0.810078</td>\n",
       "      <td>1.996099</td>\n",
       "      <td>0.323077</td>\n",
       "      <td>0.622236</td>\n",
       "    </tr>\n",
       "    <tr>\n",
       "      <th>176</th>\n",
       "      <td>d0.5_wd0.0001_lr5e-05</td>\n",
       "      <td>12</td>\n",
       "      <td>0.5</td>\n",
       "      <td>0.0001</td>\n",
       "      <td>0.00005</td>\n",
       "      <td>1.689997</td>\n",
       "      <td>0.451049</td>\n",
       "      <td>0.811077</td>\n",
       "      <td>1.999040</td>\n",
       "      <td>0.230769</td>\n",
       "      <td>0.616321</td>\n",
       "    </tr>\n",
       "    <tr>\n",
       "      <th>177</th>\n",
       "      <td>d0.5_wd0.0001_lr5e-05</td>\n",
       "      <td>13</td>\n",
       "      <td>0.5</td>\n",
       "      <td>0.0001</td>\n",
       "      <td>0.00005</td>\n",
       "      <td>1.649947</td>\n",
       "      <td>0.489510</td>\n",
       "      <td>0.815069</td>\n",
       "      <td>2.013273</td>\n",
       "      <td>0.292308</td>\n",
       "      <td>0.637862</td>\n",
       "    </tr>\n",
       "    <tr>\n",
       "      <th>178</th>\n",
       "      <td>d0.5_wd0.0001_lr5e-05</td>\n",
       "      <td>14</td>\n",
       "      <td>0.5</td>\n",
       "      <td>0.0001</td>\n",
       "      <td>0.00005</td>\n",
       "      <td>1.651177</td>\n",
       "      <td>0.447552</td>\n",
       "      <td>0.813895</td>\n",
       "      <td>2.043692</td>\n",
       "      <td>0.246154</td>\n",
       "      <td>0.615424</td>\n",
       "    </tr>\n",
       "    <tr>\n",
       "      <th>179</th>\n",
       "      <td>d0.5_wd0.0001_lr5e-05</td>\n",
       "      <td>15</td>\n",
       "      <td>0.5</td>\n",
       "      <td>0.0001</td>\n",
       "      <td>0.00005</td>\n",
       "      <td>1.629121</td>\n",
       "      <td>0.475524</td>\n",
       "      <td>0.824705</td>\n",
       "      <td>1.964885</td>\n",
       "      <td>0.276923</td>\n",
       "      <td>0.646894</td>\n",
       "    </tr>\n",
       "  </tbody>\n",
       "</table>\n",
       "<p>180 rows × 11 columns</p>\n",
       "</div>\n",
       "    <div class=\"colab-df-buttons\">\n",
       "\n",
       "  <div class=\"colab-df-container\">\n",
       "    <button class=\"colab-df-convert\" onclick=\"convertToInteractive('df-141f1511-b030-490e-8259-bce75f75cbbb')\"\n",
       "            title=\"Convert this dataframe to an interactive table.\"\n",
       "            style=\"display:none;\">\n",
       "\n",
       "  <svg xmlns=\"http://www.w3.org/2000/svg\" height=\"24px\" viewBox=\"0 -960 960 960\">\n",
       "    <path d=\"M120-120v-720h720v720H120Zm60-500h600v-160H180v160Zm220 220h160v-160H400v160Zm0 220h160v-160H400v160ZM180-400h160v-160H180v160Zm440 0h160v-160H620v160ZM180-180h160v-160H180v160Zm440 0h160v-160H620v160Z\"/>\n",
       "  </svg>\n",
       "    </button>\n",
       "\n",
       "  <style>\n",
       "    .colab-df-container {\n",
       "      display:flex;\n",
       "      gap: 12px;\n",
       "    }\n",
       "\n",
       "    .colab-df-convert {\n",
       "      background-color: #E8F0FE;\n",
       "      border: none;\n",
       "      border-radius: 50%;\n",
       "      cursor: pointer;\n",
       "      display: none;\n",
       "      fill: #1967D2;\n",
       "      height: 32px;\n",
       "      padding: 0 0 0 0;\n",
       "      width: 32px;\n",
       "    }\n",
       "\n",
       "    .colab-df-convert:hover {\n",
       "      background-color: #E2EBFA;\n",
       "      box-shadow: 0px 1px 2px rgba(60, 64, 67, 0.3), 0px 1px 3px 1px rgba(60, 64, 67, 0.15);\n",
       "      fill: #174EA6;\n",
       "    }\n",
       "\n",
       "    .colab-df-buttons div {\n",
       "      margin-bottom: 4px;\n",
       "    }\n",
       "\n",
       "    [theme=dark] .colab-df-convert {\n",
       "      background-color: #3B4455;\n",
       "      fill: #D2E3FC;\n",
       "    }\n",
       "\n",
       "    [theme=dark] .colab-df-convert:hover {\n",
       "      background-color: #434B5C;\n",
       "      box-shadow: 0px 1px 3px 1px rgba(0, 0, 0, 0.15);\n",
       "      filter: drop-shadow(0px 1px 2px rgba(0, 0, 0, 0.3));\n",
       "      fill: #FFFFFF;\n",
       "    }\n",
       "  </style>\n",
       "\n",
       "    <script>\n",
       "      const buttonEl =\n",
       "        document.querySelector('#df-141f1511-b030-490e-8259-bce75f75cbbb button.colab-df-convert');\n",
       "      buttonEl.style.display =\n",
       "        google.colab.kernel.accessAllowed ? 'block' : 'none';\n",
       "\n",
       "      async function convertToInteractive(key) {\n",
       "        const element = document.querySelector('#df-141f1511-b030-490e-8259-bce75f75cbbb');\n",
       "        const dataTable =\n",
       "          await google.colab.kernel.invokeFunction('convertToInteractive',\n",
       "                                                    [key], {});\n",
       "        if (!dataTable) return;\n",
       "\n",
       "        const docLinkHtml = 'Like what you see? Visit the ' +\n",
       "          '<a target=\"_blank\" href=https://colab.research.google.com/notebooks/data_table.ipynb>data table notebook</a>'\n",
       "          + ' to learn more about interactive tables.';\n",
       "        element.innerHTML = '';\n",
       "        dataTable['output_type'] = 'display_data';\n",
       "        await google.colab.output.renderOutput(dataTable, element);\n",
       "        const docLink = document.createElement('div');\n",
       "        docLink.innerHTML = docLinkHtml;\n",
       "        element.appendChild(docLink);\n",
       "      }\n",
       "    </script>\n",
       "  </div>\n",
       "\n",
       "\n",
       "<div id=\"df-b4900fb9-5969-4635-a710-364caee07371\">\n",
       "  <button class=\"colab-df-quickchart\" onclick=\"quickchart('df-b4900fb9-5969-4635-a710-364caee07371')\"\n",
       "            title=\"Suggest charts\"\n",
       "            style=\"display:none;\">\n",
       "\n",
       "<svg xmlns=\"http://www.w3.org/2000/svg\" height=\"24px\"viewBox=\"0 0 24 24\"\n",
       "     width=\"24px\">\n",
       "    <g>\n",
       "        <path d=\"M19 3H5c-1.1 0-2 .9-2 2v14c0 1.1.9 2 2 2h14c1.1 0 2-.9 2-2V5c0-1.1-.9-2-2-2zM9 17H7v-7h2v7zm4 0h-2V7h2v10zm4 0h-2v-4h2v4z\"/>\n",
       "    </g>\n",
       "</svg>\n",
       "  </button>\n",
       "\n",
       "<style>\n",
       "  .colab-df-quickchart {\n",
       "      --bg-color: #E8F0FE;\n",
       "      --fill-color: #1967D2;\n",
       "      --hover-bg-color: #E2EBFA;\n",
       "      --hover-fill-color: #174EA6;\n",
       "      --disabled-fill-color: #AAA;\n",
       "      --disabled-bg-color: #DDD;\n",
       "  }\n",
       "\n",
       "  [theme=dark] .colab-df-quickchart {\n",
       "      --bg-color: #3B4455;\n",
       "      --fill-color: #D2E3FC;\n",
       "      --hover-bg-color: #434B5C;\n",
       "      --hover-fill-color: #FFFFFF;\n",
       "      --disabled-bg-color: #3B4455;\n",
       "      --disabled-fill-color: #666;\n",
       "  }\n",
       "\n",
       "  .colab-df-quickchart {\n",
       "    background-color: var(--bg-color);\n",
       "    border: none;\n",
       "    border-radius: 50%;\n",
       "    cursor: pointer;\n",
       "    display: none;\n",
       "    fill: var(--fill-color);\n",
       "    height: 32px;\n",
       "    padding: 0;\n",
       "    width: 32px;\n",
       "  }\n",
       "\n",
       "  .colab-df-quickchart:hover {\n",
       "    background-color: var(--hover-bg-color);\n",
       "    box-shadow: 0 1px 2px rgba(60, 64, 67, 0.3), 0 1px 3px 1px rgba(60, 64, 67, 0.15);\n",
       "    fill: var(--button-hover-fill-color);\n",
       "  }\n",
       "\n",
       "  .colab-df-quickchart-complete:disabled,\n",
       "  .colab-df-quickchart-complete:disabled:hover {\n",
       "    background-color: var(--disabled-bg-color);\n",
       "    fill: var(--disabled-fill-color);\n",
       "    box-shadow: none;\n",
       "  }\n",
       "\n",
       "  .colab-df-spinner {\n",
       "    border: 2px solid var(--fill-color);\n",
       "    border-color: transparent;\n",
       "    border-bottom-color: var(--fill-color);\n",
       "    animation:\n",
       "      spin 1s steps(1) infinite;\n",
       "  }\n",
       "\n",
       "  @keyframes spin {\n",
       "    0% {\n",
       "      border-color: transparent;\n",
       "      border-bottom-color: var(--fill-color);\n",
       "      border-left-color: var(--fill-color);\n",
       "    }\n",
       "    20% {\n",
       "      border-color: transparent;\n",
       "      border-left-color: var(--fill-color);\n",
       "      border-top-color: var(--fill-color);\n",
       "    }\n",
       "    30% {\n",
       "      border-color: transparent;\n",
       "      border-left-color: var(--fill-color);\n",
       "      border-top-color: var(--fill-color);\n",
       "      border-right-color: var(--fill-color);\n",
       "    }\n",
       "    40% {\n",
       "      border-color: transparent;\n",
       "      border-right-color: var(--fill-color);\n",
       "      border-top-color: var(--fill-color);\n",
       "    }\n",
       "    60% {\n",
       "      border-color: transparent;\n",
       "      border-right-color: var(--fill-color);\n",
       "    }\n",
       "    80% {\n",
       "      border-color: transparent;\n",
       "      border-right-color: var(--fill-color);\n",
       "      border-bottom-color: var(--fill-color);\n",
       "    }\n",
       "    90% {\n",
       "      border-color: transparent;\n",
       "      border-bottom-color: var(--fill-color);\n",
       "    }\n",
       "  }\n",
       "</style>\n",
       "\n",
       "  <script>\n",
       "    async function quickchart(key) {\n",
       "      const quickchartButtonEl =\n",
       "        document.querySelector('#' + key + ' button');\n",
       "      quickchartButtonEl.disabled = true;  // To prevent multiple clicks.\n",
       "      quickchartButtonEl.classList.add('colab-df-spinner');\n",
       "      try {\n",
       "        const charts = await google.colab.kernel.invokeFunction(\n",
       "            'suggestCharts', [key], {});\n",
       "      } catch (error) {\n",
       "        console.error('Error during call to suggestCharts:', error);\n",
       "      }\n",
       "      quickchartButtonEl.classList.remove('colab-df-spinner');\n",
       "      quickchartButtonEl.classList.add('colab-df-quickchart-complete');\n",
       "    }\n",
       "    (() => {\n",
       "      let quickchartButtonEl =\n",
       "        document.querySelector('#df-b4900fb9-5969-4635-a710-364caee07371 button');\n",
       "      quickchartButtonEl.style.display =\n",
       "        google.colab.kernel.accessAllowed ? 'block' : 'none';\n",
       "    })();\n",
       "  </script>\n",
       "</div>\n",
       "\n",
       "  <div id=\"id_7b2341cb-1f7a-4889-b78f-ece421cbc0d2\">\n",
       "    <style>\n",
       "      .colab-df-generate {\n",
       "        background-color: #E8F0FE;\n",
       "        border: none;\n",
       "        border-radius: 50%;\n",
       "        cursor: pointer;\n",
       "        display: none;\n",
       "        fill: #1967D2;\n",
       "        height: 32px;\n",
       "        padding: 0 0 0 0;\n",
       "        width: 32px;\n",
       "      }\n",
       "\n",
       "      .colab-df-generate:hover {\n",
       "        background-color: #E2EBFA;\n",
       "        box-shadow: 0px 1px 2px rgba(60, 64, 67, 0.3), 0px 1px 3px 1px rgba(60, 64, 67, 0.15);\n",
       "        fill: #174EA6;\n",
       "      }\n",
       "\n",
       "      [theme=dark] .colab-df-generate {\n",
       "        background-color: #3B4455;\n",
       "        fill: #D2E3FC;\n",
       "      }\n",
       "\n",
       "      [theme=dark] .colab-df-generate:hover {\n",
       "        background-color: #434B5C;\n",
       "        box-shadow: 0px 1px 3px 1px rgba(0, 0, 0, 0.15);\n",
       "        filter: drop-shadow(0px 1px 2px rgba(0, 0, 0, 0.3));\n",
       "        fill: #FFFFFF;\n",
       "      }\n",
       "    </style>\n",
       "    <button class=\"colab-df-generate\" onclick=\"generateWithVariable('df_grid_search')\"\n",
       "            title=\"Generate code using this dataframe.\"\n",
       "            style=\"display:none;\">\n",
       "\n",
       "  <svg xmlns=\"http://www.w3.org/2000/svg\" height=\"24px\"viewBox=\"0 0 24 24\"\n",
       "       width=\"24px\">\n",
       "    <path d=\"M7,19H8.4L18.45,9,17,7.55,7,17.6ZM5,21V16.75L18.45,3.32a2,2,0,0,1,2.83,0l1.4,1.43a1.91,1.91,0,0,1,.58,1.4,1.91,1.91,0,0,1-.58,1.4L9.25,21ZM18.45,9,17,7.55Zm-12,3A5.31,5.31,0,0,0,4.9,8.1,5.31,5.31,0,0,0,1,6.5,5.31,5.31,0,0,0,4.9,4.9,5.31,5.31,0,0,0,6.5,1,5.31,5.31,0,0,0,8.1,4.9,5.31,5.31,0,0,0,12,6.5,5.46,5.46,0,0,0,6.5,12Z\"/>\n",
       "  </svg>\n",
       "    </button>\n",
       "    <script>\n",
       "      (() => {\n",
       "      const buttonEl =\n",
       "        document.querySelector('#id_7b2341cb-1f7a-4889-b78f-ece421cbc0d2 button.colab-df-generate');\n",
       "      buttonEl.style.display =\n",
       "        google.colab.kernel.accessAllowed ? 'block' : 'none';\n",
       "\n",
       "      buttonEl.onclick = () => {\n",
       "        google.colab.notebook.generateWithVariable('df_grid_search');\n",
       "      }\n",
       "      })();\n",
       "    </script>\n",
       "  </div>\n",
       "\n",
       "    </div>\n",
       "  </div>\n"
      ],
      "text/plain": [
       "                  sweep_id  epoch  dropout  weight_decay       lr  train_loss  \\\n",
       "0     dNone_wd0.0_lr0.0001      1      NaN        0.0000  0.00010    2.013106   \n",
       "1     dNone_wd0.0_lr0.0001      2      NaN        0.0000  0.00010    1.907327   \n",
       "2     dNone_wd0.0_lr0.0001      3      NaN        0.0000  0.00010    1.868429   \n",
       "3     dNone_wd0.0_lr0.0001      4      NaN        0.0000  0.00010    1.884787   \n",
       "4     dNone_wd0.0_lr0.0001      5      NaN        0.0000  0.00010    1.803969   \n",
       "..                     ...    ...      ...           ...      ...         ...   \n",
       "175  d0.5_wd0.0001_lr5e-05     11      0.5        0.0001  0.00005    1.675290   \n",
       "176  d0.5_wd0.0001_lr5e-05     12      0.5        0.0001  0.00005    1.689997   \n",
       "177  d0.5_wd0.0001_lr5e-05     13      0.5        0.0001  0.00005    1.649947   \n",
       "178  d0.5_wd0.0001_lr5e-05     14      0.5        0.0001  0.00005    1.651177   \n",
       "179  d0.5_wd0.0001_lr5e-05     15      0.5        0.0001  0.00005    1.629121   \n",
       "\n",
       "     train_acc  train_auc  test_loss  test_acc  test_auc  \n",
       "0     0.255245   0.656933   2.213764  0.169231  0.514082  \n",
       "1     0.356643   0.695254   2.224200  0.200000  0.563216  \n",
       "2     0.353147   0.718612   2.093490  0.215385  0.606133  \n",
       "3     0.363636   0.719258   2.088103  0.276923  0.635948  \n",
       "4     0.437063   0.762105   2.088739  0.338462  0.592209  \n",
       "..         ...        ...        ...       ...       ...  \n",
       "175   0.458042   0.810078   1.996099  0.323077  0.622236  \n",
       "176   0.451049   0.811077   1.999040  0.230769  0.616321  \n",
       "177   0.489510   0.815069   2.013273  0.292308  0.637862  \n",
       "178   0.447552   0.813895   2.043692  0.246154  0.615424  \n",
       "179   0.475524   0.824705   1.964885  0.276923  0.646894  \n",
       "\n",
       "[180 rows x 11 columns]"
      ]
     },
     "execution_count": 25,
     "metadata": {},
     "output_type": "execute_result"
    },
    {
     "data": {
      "text/html": [
       "<h4 class=\"colab-quickchart-section-title\">Distributions</h4>\n",
       "<style>\n",
       "  .colab-quickchart-section-title {\n",
       "      clear: both;\n",
       "  }\n",
       "</style>"
      ],
      "text/plain": [
       "<google.colab._quickchart_helpers.SectionTitle at 0x7f382b52b250>"
      ]
     },
     "metadata": {},
     "output_type": "display_data"
    },
    {
     "data": {
      "text/html": [
       "      <div class=\"colab-quickchart-chart-with-code\" id=\"chart-5ddea1f8-8552-4753-99e8-c430c54ffe97\">\n",
       "        <img style=\"width: 180px;\" src=\"data:image/png;base64,iVBORw0KGgoAAAANSUhEUgAAAicAAAGrCAYAAAAbyjfjAAAAOnRFWHRTb2Z0d2FyZQBNYXRwbG90\n",
       "bGliIHZlcnNpb24zLjEwLjAsIGh0dHBzOi8vbWF0cGxvdGxpYi5vcmcvlHJYcgAAAAlwSFlzAAAP\n",
       "YQAAD2EBqD+naQAAHGFJREFUeJzt3X2QVfV9x/HPZTeu0fCgoOJ0edDwoDaIgiJVQ2JTxsFMhaJN\n",
       "R2NH01oINUNtnDSSZhpiDdjGMiF2YoBx0KlTaltIMhNDbHBiGtsENAJFIphFloe6hEQLyySwluX2\n",
       "D8cdt2Kb1d17f7iv18yZYc+evfd77uxc3nPu2XMq1Wq1GgCAQgyo9wAAAK8nTgCAoogTAKAo4gQA\n",
       "KIo4AQCKIk4AgKKIEwCgKOIEACiKOAEAiiJOgBPegw8+mObm5nqPAfQScQIAFEWcAABFESdArzhy\n",
       "5Eg+85nP5L3vfW9OO+20TJs2LRs3bkySLFy4MFdeeWUWLFiQM888M8OHD8+nPvWp/Pd//3fXzz/3\n",
       "3HOZMWNGhg0blubm5sydOzcHDx7s+v7hw4fz2c9+NuPGjcvAgQNz7rnn5qGHHuo2w7JlyzJ69OgM\n",
       "Hjw4v/u7v5v29vba7DzQq8QJ0Cs+/vGPZ8OGDfne976Xn/3sZ/nIRz6Sq6++OgcOHEiSrF+/Po2N\n",
       "jdmzZ0+eeOKJrF69On/913+dJDl06FB+67d+KxdccEF2796dp556Ktu2bcvNN9/c9fh/9Ed/lH/5\n",
       "l3/JN77xjbS3t+fJJ5/MhAkTur6/b9++bNu2Lc8991y2bduWTZs25W/+5m9q+hoAvaNSrVar9R4C\n",
       "OLG99NJLGTZsWLZt25bx48d3rR87dmw+97nPpaWlJffff39efPHFNDQ0JEnuv//+3HvvvdmxY0dW\n",
       "rVqV+fPnp62tLY2NjUmSjRs3ZtKkSV3rzjjjjDz11FO55JJL3vD8Dz74YD7+8Y/n0KFDede73pUk\n",
       "+dSnPpVnn302a9eurcErAPSmxnoPAJz4WlpakiSXXXZZt/WvvPJK9u7dmyQZMWJEV5gkyTnnnJM9\n",
       "e/YkSfbs2ZNRo0Z1hUmSjBkzJkmye/fuVCqVJOkWPv/bsGHDusIkSU499dQcOnTo7ewWUCc+1gHe\n",
       "tuHDhydJ/uM//iMHDhzoWn75y1/mzjvvTPJqgHR2dnb9TGtra9ef/44YMSK7d+/O0aNHu76/Y8eO\n",
       "JMnIkSMzevToJMnzzz9fi90B6kycAG/bqFGjMmvWrNx2223ZtWtXklfPI1m7dm3a2tqSJC+//HLu\n",
       "uuuudHR0ZPv27fniF7+Yj33sY0mSD3/4w2lsbMxnPvOZHD58OPv27cuf/umf5rd/+7czfPjwnHHG\n",
       "Gbnhhhty2223Zfv27UmStra2PPPMM/XZYaBPiROgV/z93/99Jk+enOnTp2fgwIEZP358VqxYkddO\n",
       "a7vsssvyyiuvpLm5OdOmTcusWbO6jqoMGjQo3/nOd7J58+Y0Nzdn8uTJGTNmTLe/xlmxYkU+8IEP\n",
       "ZMaMGXnPe96TK664Ilu3bq3LvgJ9ywmxQJ9buHBh1q1blyeffLLeowAnAEdOAICiiBMAoCg+1gEA\n",
       "iuLICQBQFHECABRFnAAARREnAEBRTsg4Wbp0ab1HAAD6yAkZJ69dHhsAeOc5IeMEAHjnEicAQFHE\n",
       "CQBQFHECABRFnAAARREnAEBRxAkAUBRxAgAURZwAAEURJwBAUcQJAFAUcQIAFKVP42T+/PkZPXp0\n",
       "KpVKNm3alCQ5cuRIZs2alXHjxmXixImZPn16Wlpa+nIMAOAE0qdxcv311+fJJ5/MqFGjuq2fM2dO\n",
       "tm/fns2bN2fmzJm59dZb+3IMAOAE0qdxMm3atDQ3N3dbd/LJJ+eaa65JpVJJkkydOjWtra1v+hgd\n",
       "HR1pb2/vtnR2dvbl2ABAHTXWe4ClS5dm5syZb/r9xYsX5/Of/3y3dVOnTu2zeUbf+WifPfaJpvWe\n",
       "D/fZY5+Ir7PXo7u+ej1OxNeiL3mdu/N61EZfvt/9Kup6QuyiRYvS0tKSxYsXv+k2CxYsyMGDB7st\n",
       "U6ZMqeGUAEAt1e3Iyb333ps1a9Zk3bp1OeWUU950u6ampjQ1NXVb19DQ0NfjAQB1Upc4WbJkSVat\n",
       "WpV169ZlyJAh9RgBAChUn36sM3fu3DQ3N2fv3r25+uqrM2bMmOzduzd33HFHDhw4kKuuuioXXXRR\n",
       "Lrvssr4cAwA4gfTpkZNly5Ydd321Wu3LpwUATmCuEAsAFEWcAABFEScAQFHECQBQFHECABRFnAAA\n",
       "RREnAEBRxAkAUBRxAgAURZwAAEURJwBAUcQJAFAUcQIAFEWcAABFEScAQFHECQBQFHECABRFnAAA\n",
       "RREnAEBRxAkAUBRxAgAURZwAAEURJwBAUcQJAFAUcQIAFEWcAABFEScAQFHECQBQFHECABRFnAAA\n",
       "RREnAEBRxAkAUBRxAgAURZwAAEURJwBAUcQJAFAUcQIAFEWcAABFEScAQFHECQBQFHECABRFnAAA\n",
       "RREnAEBRxAkAUBRxAgAURZwAAEURJwBAUcQJAFAUcQIAFEWcAABF6dM4mT9/fkaPHp1KpZJNmzZ1\n",
       "rf/JT36Syy+/POPGjcull16arVu39uUYAMAJpE/j5Prrr8+TTz6ZUaNGdVs/d+7czJkzJ88//3w+\n",
       "/elP55ZbbunLMQCAE0ifxsm0adPS3Nzcbd3+/fvz9NNP56abbkqSXHfdddmzZ09aWlqO+xgdHR1p\n",
       "b2/vtnR2dvbl2ABAHdX8nJM9e/bk7LPPTmNjY5KkUqlk5MiR2b1793G3X7x4cQYPHtxt2bBhQy1H\n",
       "BgBqqPgTYhcsWJCDBw92W6ZMmVLvsQCAPtJY6yccMWJE2tracvTo0TQ2NqZarWb37t0ZOXLkcbdv\n",
       "ampKU1NTt3UNDQ21GBUAqIOaHzk588wzM2nSpDz88MNJktWrV6e5uTljxoyp9SgAQIH6NE7mzp2b\n",
       "5ubm7N27N1dffXVXgCxbtizLli3LuHHjcs8992TlypV9OQYAcALp0491li1bdtz148ePzw9+8IO+\n",
       "fGoA4ARV/AmxAED/Ik4AgKKIEwCgKOIEACiKOAEAiiJOAICiiBMAoCjiBAAoijgBAIoiTgCAoogT\n",
       "AKAo4gQAKIo4AQCKIk4AgKKIEwCgKOIEACiKOAEAiiJOAICiiBMAoCjiBAAoijgBAIoiTgCAoogT\n",
       "AKAo4gQAKIo4AQCKIk4AgKKIEwCgKOIEACiKOAEAiiJOAICiiBMAoCjiBAAoijgBAIoiTgCAoogT\n",
       "AKAo4gQAKIo4AQCKIk4AgKKIEwCgKOIEACiKOAEAiiJOAICiiBMAoCjiBAAoijgBAIoiTgCAoogT\n",
       "AKAo4gQAKIo4AQCKUrc4+da3vpVJkybloosuyvve97489NBD9RoFAChIYz2etFqt5qabbsoTTzyR\n",
       "Cy+8MK2trTnvvPMye/bsDBw4sB4jAQCFqNuRk0qlkgMHDiRJ2tvbM3To0DQ1NdVrHACgEHU5clKp\n",
       "VPLII49k9uzZOfXUU/Nf//VfWbNmTU466aQ3bNvR0ZGOjo5u6zo7O2s1KgBQY3U5cnL06NHcfffd\n",
       "WbNmTXbt2pXHH388v//7v5+f//znb9h28eLFGTx4cLdlw4YNdZgaAKiFusTJpk2b8uKLL2batGlJ\n",
       "kksvvTTNzc3ZuHHjG7ZdsGBBDh482G2ZMmVKrUcGAGqkLh/rjBgxIm1tbXnuuedy/vnnp6WlJTt2\n",
       "7Mj48ePfsG1TU9MbzkVpaGio1agAQI3VJU7OOuusLF++PB/5yEcyYMCAHDt2LH/7t3+bkSNH1mMc\n",
       "AKAgdYmTJLnhhhtyww031OvpAYBCuUIsAFAUcQIAFEWcAABFEScAQFHECQBQFHECABRFnAAARREn\n",
       "AEBRxAkAUBRxAgAURZwAAEURJwBAUcQJAFAUcQIAFEWcAABFEScAQFHECQBQFHECABRFnAAARelx\n",
       "nDz22GN9MQcAQJK3ECd33XVXxo8fn6VLl6a9vb0vZgIA+rEex8m//du/5R/+4R/y7LPPZty4cfnj\n",
       "P/7j/PjHP+6L2QCAfugtnXNy8cUXZ8WKFfn2t7+db37zm7nwwgszffr0bNmypbfnAwD6mbcUJ+vW\n",
       "rcvMmTMze/bs3Hbbbdm3b1/mzp2b3/md3+nt+QCAfqaxpz9w/vnnZ9iwYZk/f35mz56dhoaGJMn1\n",
       "11+fBx54oNcHBAD6lx7HycMPP5zJkycf93tr16592wMBAP1bjz/W+dGPfpSXX3656+uXXnopK1as\n",
       "6NWhAID+q8dx8pWvfCWnn35619dDhw7NV77ylV4dCgDov3ocJ9Vq9Q3rOjs7e2UYAIAex8nZZ5+d\n",
       "f/zHf+z6+pFHHsnZZ5/dq0MBAP1Xj0+I/dKXvpSZM2fmz/7sz5Ikp5xySr7xjW/0+mAAQP/U4zg5\n",
       "77zz8uMf/zjbt29PkowfP77rz4kBAN6uHsdJklQqlQwZMiRHjx7Nf/7nfyZJRo4c2auDAQD9U4/j\n",
       "5MEHH8z8+fPzrne9KwMGvHrKSqVSyf79+3t9OACg/+lxnPzlX/5lnnrqqYwfP74v5gEA+rke/7XO\n",
       "sGHDhAkA0Gd6HCezZs3Kl770pezfvz/t7e1dCwBAb+jxxzp//ud/niT55Cc/mUqlkmq1mkql4kJs\n",
       "AECv6HGcHDt2rC/mAABI8hY+1klevfnf3/3d3yVJDhw4kLa2tl4dCgDov97Sjf/+4A/+IAsXLkzy\n",
       "6l2Jb7zxxt6eCwDop3ocJ8uXL88Pf/jDDBo0KEny3ve+Nz/72c96fTAAoH/qcZw0NTXl3e9+d7d1\n",
       "jY1v6UKzAABv0OM4OeOMM/L888+nUqkkefWKsS5dDwD0lrd0V+Ibbrgh27Zty4gRIzJo0KB885vf\n",
       "7IvZAIB+qMdxMmbMmKxfvz7bt29PtVp1V2IAoFf1OE52796dJDn11FOTxF2JAYBe1eM4mTx5cteV\n",
       "YY8cOZJf/vKXGTp0qLsSAwC9osdx8r//bHjNmjXZvHlzrw0EAPRvb+kKsa83e/bsPProo70xCwBA\n",
       "z4+cvP4OxJ2dnVm/fv1buitxR0dH7rjjjjz22GM5+eSTM3HixDz88MM9fhwA4J2lx3EyZMiQrnNO\n",
       "GhoaMnbs2Hz5y1/u8RPfeeedqVQqXddM2bdvX48fAwB456nLXYl/8Ytf5IEHHsjevXu7LuY2fPjw\n",
       "427b0dGRjo6Obus6Ozvf9gwAQJne9jknb8WOHTty+umnZ9GiRbnkkkvy/ve/P48//vhxt128eHEG\n",
       "Dx7cbdmwYUONJwYAaqXHcTJgwIA0NDS8YXlt/a/i6NGj2bVrVy644II8/fTT+fKXv5zf+73fy09/\n",
       "+tM3bLtgwYIcPHiw2zJlypSejg0AnCB6/LHOXXfdlcOHD2fevHlJkq9+9at597vfndtvv/1XfoyR\n",
       "I0dmwIAB+ehHP5okufjii3POOedky5YtOeuss7pt29TUlKampm7rXJEWAN65enzk5Gtf+1q+8IUv\n",
       "pLm5Oc3Nzbn77ruzZs2anHrqqV1Xjf3/DBs2LB/60Ify2GOPJUl27tyZnTt35vzzz+/pOADAO0yP\n",
       "4+TQoUPdrga7f//+HDp0qMdP/NWvfjVf/OIXM2HChMyaNSvLli3Lr/3ar/X4cQCAd5Yef6xzxx13\n",
       "ZOLEibnmmmuSJN/+9rezcOHCHj/xueeem+9+97s9/jkA4J2tx3Eyd+7cXHHFFV1h8clPfjK//uu/\n",
       "3uuDAQD9U4/jJEmGDh2aCRMm5IMf/GCOHj2aV155JSeddFJvzwYA9EM9Pufkn//5nzN16tR87GMf\n",
       "S5Js3bo1s2bN6u25AIB+qsdxsnjx4jzzzDMZMmRIkmTixInZtWtXb88FAPRTPY6ThoaGDB06tNs6\n",
       "H+kAAL2lx3EycODA/PSnP+26J87jjz+e008/vdcHAwD6px6fEPtXf/VXmTFjRl544YVceeWV2blz\n",
       "Zx599NG+mA0A6Id6FCfHjh1LZ2dnvvvd7+bf//3fU61Wc/nll3edfwIA8Hb1KE4GDBiQOXPmZPPm\n",
       "zZkxY0ZfzQQA9GM9Pudk7NixaWlp6YtZAAB6fs7Jyy+/nIsuuiiXX3553vOe93StX7NmTa8OBgD0\n",
       "T79ynMyZMyfLly/PzTffnGuvvTannXZaX84FAPRTv3KcPP3000mSm2++OZMmTcozzzzTZ0MBAP1X\n",
       "j885SZJqtdrbcwAAJOnBkZPDhw9ny5YtqVarOXLkSNe/X3PhhRf2yYAAQP/Sozi59tpru75+/b8r\n",
       "lUpeeOGF3p0MAOiXfuU4aW1t7cMxAABe9ZbOOQEA6CviBAAoijgBAIoiTgCAoogTAKAo4gQAKIo4\n",
       "AQCKIk4AgKKIEwCgKOIEACiKOAEAiiJOAICiiBMAoCjiBAAoijgBAIoiTgCAoogTAKAo4gQAKIo4\n",
       "AQCKIk4AgKKIEwCgKOIEACiKOAEAiiJOAICiiBMAoCjiBAAoijgBAIoiTgCAoogTAKAo4gQAKIo4\n",
       "AQCKIk4AgKKIEwCgKHWPk5UrV6ZSqeTrX/96vUcBAApQ1zhpbW3NihUrMnXq1HqOAQAUpG5xcuzY\n",
       "sdx6662577770tTU9KbbdXR0pL29vdvS2dlZw0kBgFqqW5wsWbIkV1xxRSZPnvx/brd48eIMHjy4\n",
       "27Jhw4YaTQkA1Fpd4uTZZ5/N6tWr89nPfvb/3XbBggU5ePBgt2XKlCk1mBIAqIfGejzp97///bS2\n",
       "tmbs2LFJkn379mXOnDlpa2vLvHnzum3b1NT0ho99GhoaajYrAFBbdTlyMm/evLS1taW1tTWtra2Z\n",
       "OnVqli9f/oYwAQD6n7r/KTEAwOvV5WOd/+2JJ56o9wgAQCEcOQEAiiJOAICiiBMAoCjiBAAoijgB\n",
       "AIoiTgCAoogTAKAo4gQAKIo4AQCKIk4AgKKIEwCgKOIEACiKOAEAiiJOAICiiBMAoCjiBAAoijgB\n",
       "AIoiTgCAoogTAKAo4gQAKIo4AQCKIk4AgKKIEwCgKOIEACiKOAEAiiJOAICiiBMAoCjiBAAoijgB\n",
       "AIoiTgCAoogTAKAo4gQAKIo4AQCKIk4AgKKIEwCgKOIEACiKOAEAiiJOAICiiBMAoCjiBAAoijgB\n",
       "AIoiTgCAoogTAKAo4gQAKIo4AQCKIk4AgKKIEwCgKOIEACiKOAEAilKXODly5EhmzZqVcePGZeLE\n",
       "iZk+fXpaWlrqMQoAUJi6HTmZM2dOtm/fns2bN2fmzJm59dZb6zUKAFCQusTJySefnGuuuSaVSiVJ\n",
       "MnXq1LS2ttZjFACgMI31HiBJli5dmpkzZx73ex0dHeno6Oi2rrOzsxZjAQB1UPcTYhctWpSWlpYs\n",
       "Xrz4uN9fvHhxBg8e3G3ZsGFDjacEAGqlrnFy7733Zs2aNVm7dm1OOeWU426zYMGCHDx4sNsyZcqU\n",
       "Gk8KANRK3T7WWbJkSVatWpV169ZlyJAhb7pdU1NTmpqauq1raGjo4+kAgHqpS5zs3bs3d9xxR849\n",
       "99xcddVVSV6NkPXr19djHACgIHWJk+bm5lSr1Xo8NQBQuLqfEAsA8HriBAAoijgBAIoiTgCAoogT\n",
       "AKAo4gQAKIo4AQCKIk4AgKKIEwCgKOIEACiKOAEAiiJOAICiiBMAoCjiBAAoijgBAIoiTgCAoogT\n",
       "AKAo4gQAKIo4AQCKIk4AgKKIEwCgKOIEACiKOAEAiiJOAICiiBMAoCjiBAAoijgBAIoiTgCAoogT\n",
       "AKAo4gQAKIo4AQCKIk4AgKKIEwCgKOIEACiKOAEAiiJOAICiiBMAoCjiBAAoijgBAIoiTgCAoogT\n",
       "AKAo4gQAKIo4AQCKIk4AgKKIEwCgKOIEACiKOAEAiiJOAICiiBMAoCjiBAAoSt3i5Cc/+Ukuv/zy\n",
       "jBs3Lpdeemm2bt1ar1EAgILULU7mzp2bOXPm5Pnnn8+nP/3p3HLLLfUaBQAoSF3iZP/+/Xn66adz\n",
       "0003JUmuu+667NmzJy0tLW/YtqOjI+3t7d2Wzs7OWo8MANRIpVqtVmv9pD/60Y9y4403Zvv27V3r\n",
       "pkyZknvuuSe/+Zu/2W3bhQsX5vOf/3y3deedd15mzJhRk1lrqbOzMxs2bMiUKVPS0NBQ73Fqrr/v\n",
       "f+I16O/7n3gN7P87e/9HjRqVP/mTP/l/tys+Tjo6OtLR0dFtXVNTU5qammoyay21t7dn8ODBOXjw\n",
       "YAYNGlTvcWquv+9/4jXo7/ufeA3sf//e/9c01uNJR4wYkba2thw9ejSNjY2pVqvZvXt3Ro4c+YZt\n",
       "36khAgAcX13OOTnzzDMzadKkPPzww0mS1atXp7m5OWPGjKnHOABAQepy5CRJli1blltuuSWLFi3K\n",
       "oEGDsnLlynqNAgAUpG5xMn78+PzgBz+o19MXqampKZ/73Of67cdY/X3/E69Bf9//xGtg//v3/r+m\n",
       "LifEAgC8GZevBwCKIk4AgKKIEwCgKOIEACiKOCnAkSNHMmvWrIwbNy4TJ07M9OnTj3ufof5g5cqV\n",
       "qVQq+frXv17vUWquo6Mjn/jEJzJ27NhMmDCh695T/cW3vvWtTJo0KRdddFHe97735aGHHqr3SH1u\n",
       "/vz5GT16dCqVSjZt2tS1vr/ctf14+9/f3g/f7HfgNf32PbFK3R0+fLj66KOPVo8dO1atVqvV++67\n",
       "r/qBD3ygvkPVwc6dO6u/8Ru/UZ06dWr1a1/7Wr3Hqbnbb7+9+olPfKLr96Ctra3OE9XOsWPHqqed\n",
       "dlp18+bN1Wr11d+Fpqamant7e50n61vf+973qnv27KmOGjWqunHjxq71V111VXXlypXVarVa/ad/\n",
       "+qfqJZdcUp8B+9jx9r+/vR++2e9Atdq/3xMdOSnAySefnGuuuSaVSiVJMnXq1LS2ttZ3qBo7duxY\n",
       "br311tx333398u/7f/GLX+SBBx7IF77wha7fg+HDh9d5qtqqVCo5cOBAklfvLzJ06NB3/O/CtGnT\n",
       "0tzc3G1dT+7afqI73v73t/fD470GifdEcVKgpUuXZubMmfUeo6aWLFmSK664IpMnT673KHWxY8eO\n",
       "nH766Vm0aFEuueSSvP/978/jjz9e77FqplKp5JFHHsns2bMzatSoXHnllXnooYdy0kkn1Xu0mtuz\n",
       "Z0/OPvvsNDa+eo3MSqWSkSNHZvfu3XWerD764/th4j2xbleI5fgWLVqUlpaWfvUf07PPPpvVq1fn\n",
       "X//1X+s9St0cPXo0u3btygUXXJB77rknGzduzPTp07N169acddZZ9R6vzx09ejR333131qxZk2nT\n",
       "puWpp57Ktddemy1btmTYsGH1Ho866Y/vh4n3xMSRk6Lce++9WbNmTdauXZtTTjml3uPUzPe///20\n",
       "trZm7NixGT16dH74wx9mzpw5uf/+++s9Ws2MHDkyAwYMyEc/+tEkycUXX5xzzjknW7ZsqfNktbFp\n",
       "06a8+OKLmTZtWpLk0ksvTXNzczZu3FjnyWrv9XdtT/J/3rX9nay/vh8m3hMTcVKMJUuWZNWqVfnO\n",
       "d76TIUOG1Hucmpo3b17a2trS2tqa1tbWTJ06NcuXL8+8efPqPVrNDBs2LB/60Ify2GOPJUl27tyZ\n",
       "nTt35vzzz6/zZLXx2n/Izz33XJKkpaUlO3bsyPjx4+s8We25a3v/fj9MvCcm7q1ThL1792bEiBE5\n",
       "99xzM3DgwCSv3vxp/fr1dZ6sPj74wQ/m9ttvz6xZs+o9Sk298MIL+cM//MP8/Oc/z4ABA/IXf/EX\n",
       "ue666+o9Vs2sWrUqixYtyoABA3Ls2LEsWLAgN954Y73H6lNz587No48+mn379mXo0KEZOHBgWlpa\n",
       "sn379txyyy156aWXuu7aPmHChHqP2+uOt/9PPPFEv3o/fLPfgdfrj++J4gQAKIqPdQCAoogTAKAo\n",
       "4gQAKIo4AQCKIk4AgKKIEwCgKOIEACiKOAEAiiJOAICiiBMAoCj/AzfEwId3zDtEAAAAAElFTkSu\n",
       "QmCC\n",
       "\">\n",
       "      </div>\n",
       "      <script type=\"text/javascript\">\n",
       "        (() => {\n",
       "          const chartElement = document.getElementById(\"chart-5ddea1f8-8552-4753-99e8-c430c54ffe97\");\n",
       "          async function getCodeForChartHandler(event) {\n",
       "            const chartCodeResponse =  await google.colab.kernel.invokeFunction(\n",
       "                'getCodeForChart', [\"chart-5ddea1f8-8552-4753-99e8-c430c54ffe97\"], {});\n",
       "            const responseJson = chartCodeResponse.data['application/json'];\n",
       "            await google.colab.notebook.addCell(responseJson.code, 'code');\n",
       "          }\n",
       "          chartElement.onclick = getCodeForChartHandler;\n",
       "        })();\n",
       "      </script>\n",
       "      <style>\n",
       "        .colab-quickchart-chart-with-code  {\n",
       "            display: block;\n",
       "            float: left;\n",
       "            border: 1px solid transparent;\n",
       "        }\n",
       "\n",
       "        .colab-quickchart-chart-with-code:hover {\n",
       "            cursor: pointer;\n",
       "            border: 1px solid #aaa;\n",
       "        }\n",
       "      </style>"
      ],
      "text/plain": [
       "from matplotlib import pyplot as plt\n",
       "df_grid_search['epoch'].plot(kind='hist', bins=20, title='epoch')\n",
       "plt.gca().spines[['top', 'right',]].set_visible(False)"
      ]
     },
     "metadata": {},
     "output_type": "display_data"
    },
    {
     "data": {
      "text/html": [
       "      <div class=\"colab-quickchart-chart-with-code\" id=\"chart-bfb42b3d-8580-41d1-bf35-4269f21d807b\">\n",
       "        <img style=\"width: 180px;\" src=\"data:image/png;base64,iVBORw0KGgoAAAANSUhEUgAAAicAAAGrCAYAAAAbyjfjAAAAOnRFWHRTb2Z0d2FyZQBNYXRwbG90\n",
       "bGliIHZlcnNpb24zLjEwLjAsIGh0dHBzOi8vbWF0cGxvdGxpYi5vcmcvlHJYcgAAAAlwSFlzAAAP\n",
       "YQAAD2EBqD+naQAAIWVJREFUeJzt3Xt00/X9x/FXaCEDsS23YrWEAr0oKJdie/oDmRPnRH8qSL0i\n",
       "SlRsUZjzoIfLpkdxjKKbTmRjFObqcXVKx0UdbopsoLhVW8Sh4oQWCCnYUsalRSyBpt/fHx7zM6Oy\n",
       "BvJNPiXPxzk5h36TfPPO5zTxafJt4rAsyxIAAIAhOkR7AAAAgG8iTgAAgFGIEwAAYBTiBAAAGIU4\n",
       "AQAARiFOAACAUYgTAABgFOIEAAAYhTgBAABGIU4AnJbm5mY5HA6tX78+2qMAOEMQJwBiwvPPP6/U\n",
       "1NRojwGgDYgTALbx+/1qaWmJ9hgA2hniBEBI6uvrNX78eCUlJal///5atmxZ4Lz169fL4XDo5Zdf\n",
       "VmZmprp06aL6+nrt2bNHN910k3r37q3evXvr5ptv1ueffx64ntvt1k033aTJkycrKSlJLpdLTz75\n",
       "ZNDtlpeXa9SoUerWrZv69eunWbNmyefzBc53OBxau3Zt4GePxyOHw6Hq6mpt2LBBU6ZM0eeff66u\n",
       "Xbuqa9euevHFF21cJQCngzgBEJKJEyfqyy+/1I4dO7Rx40a99NJLJ1xm2bJlKi8vV2Njo3r16qVr\n",
       "rrlGcXFx2rZtm7Zu3SrLsnTdddfJ7/cHrrNq1Srl5ORo3759Kisr0/z58wMB4fV69f3vf1/5+fna\n",
       "u3ev1qxZoz/96U+aOXNmm2YeNWqUFi9erHPPPVdffPGFvvjiC912223hWRAAYUecAGizPXv26K23\n",
       "3tLPf/5zde/eXd27d1dRUdEJl5s/f7569Oghp9OpiooKbd68WYsWLVJiYqKSkpL0m9/8Rps2bVJl\n",
       "ZWXgOoMHD1ZhYaE6duyovLw83XPPPfrd734nSXrxxReVmZmpBx54QJ06dVJGRobmzp2rJUuWyLKs\n",
       "iN1/AJFBnABos927d0uS+vXrF9j2zX+3tq2mpkbdu3dXt27dAtt69Oihbt26yev1fut++vXrp5qa\n",
       "msA+BgwYEHR+enq6mpqatG/fvtO4RwBMRJwAaLOv/9rF4/EEtn3z31/r0OH/n1r69OmjgwcP6uDB\n",
       "g4FtBw4c0MGDB+Vyub51Px6PJ3B7ffr00Y4dO4LO3759uzp37qxevXpJkrp27aojR44Ezv/mMS3/\n",
       "ORMAs/FoBdBm5513ni6//HLNmDEjEBw//vGPT3qd3NxcXXjhhZo2bZoaGxvV0NCgqVOnaujQocrJ\n",
       "yQlcbvPmzfrtb3+r5uZmVVRUaOnSpbrzzjslSRMmTNDWrVu1cOFCHTt2TNu3b9cjjzyiyZMny+Fw\n",
       "SJIuvvhiPf/88zp69Kj27t2rOXPmBM1xzjnn6N///rf2798f5lUBEG7ECYCQlJaWqlOnTkpLS1N2\n",
       "drZuvvnmk14+Li5Oq1evls/nU3p6ujIyMtTc3KzXXntNcXFxgctdf/31eu+999SzZ0/l5+froYce\n",
       "0sSJEyVJffv21Zo1a7Rs2TIlJydr9OjRuuqqq4L+oufXv/616urq1LNnT11xxRW6/fbbg+YYPXq0\n",
       "xo4dq8zMTCUlJekPf/hDGFcFQDg5LI4mAxBlbrdbzc3NKi0tjfYoAAzAKycAAMAoxAkAADAKb+sA\n",
       "AACj8MoJAAAwCnECAACMQpwAAACjECcAAMAo7TJOFixYEO0RAACATdplnOzatSvaIwAAAJu0yzgB\n",
       "AABnLuIEAAAYhTgBAABGIU4AAIBRiBMAAGAU4gQAABiFOAEAAEYhTgAAgFGIEwAAYBTiBAAAGIU4\n",
       "AQAARiFOAACAUWyNE5/Pp2nTpikjI0MXXXSRJk6cKEmqqqrSiBEjlJmZqZycHG3ZssXOMQAAQDsS\n",
       "b+fOZ82aJYfDoW3btsnhcKiurk6SVFhYqIKCArndbi1fvlxut1uVlZV2jgIAANoJh2VZlh07PnLk\n",
       "iFJSUrR7924lJCQEttfX1ys9PV0HDhxQfHy8LMtSSkqK3n33XaWnp5+wH5/PJ5/PF7TtkUce0YIF\n",
       "C+wYGwAARJltr5xs375d3bt317x587R27Vp17txZjz32mJKSkpSSkqL4+K9u2uFwyOVyyev1thon\n",
       "RUVFmjNnTtC2vLw8u8ZW2qzXbdmvZ/7/2rJfAEBssuu/V1L0/5tl2zEnzc3N2rVrlwYOHKiNGzfq\n",
       "2Wef1c0336zm5uaQ9jN79mw1NDQEnXJzc22aGgAARJttr5y4XC516NBBt912myRp2LBh6tevn3bt\n",
       "2qXa2lo1NzcH3tbxer1yuVyt7sfpdMrpdAZti4uLs2tsAAAQZba9ctKzZ09dfvnlevPNNyVJO3fu\n",
       "1M6dOzVy5EhlZ2ertLRUkrRixQqlpqa2+pYOAACIPbb+tc7ixYt19913a+bMmerQoYOKi4t13nnn\n",
       "qbi4WG63W/PmzVNCQoJKSkrsHAMAALQjtsZJ//79tW7duhO2Z2Vlqby83M6bBgAA7RSfEAsAAIxC\n",
       "nAAAAKMQJwAAwCjECQAAMApxAgAAjEKcAAAAoxAnAADAKMQJAAAwCnECAACMQpwAAACjECcAAMAo\n",
       "xAkAADAKcQIAAIxCnAAAAKMQJwAAwCjECQAAMApxAgAAjEKcAAAAoxAnAADAKMQJAAAwCnECAACM\n",
       "QpwAAACjECcAAMAoxAkAADAKcQIAAIxCnAAAAKMQJwAAwCjECQAAMApxAgAAjEKcAAAAoxAnAADA\n",
       "KMQJAAAwCnECAACMQpwAAACjECcAAMAoxAkAADAKcQIAAIxCnAAAAKMQJwAAwCjECQAAMApxAgAA\n",
       "jEKcAAAAoxAnAADAKMQJAAAwCnECAACMQpwAAACjECcAAMAoxAkAADAKcQIAAIxCnAAAAKPYGidp\n",
       "aWnKysrS0KFDNXToUC1btkySVFVVpREjRigzM1M5OTnasmWLnWMAAIB2JN7uG1i2bJmGDh0atK2w\n",
       "sFAFBQVyu91avny53G63Kisr7R4FAAC0AxF/W6e+vl4bN27UxIkTJUn5+fmqqalRdXV1q5f3+Xxq\n",
       "bGwMOvn9/kiODAAAIsj2OLnjjjt00UUX6e6779a+fftUU1OjlJQUxcd/9aKNw+GQy+WS1+tt9fpF\n",
       "RUVKTEwMOlVUVNg9NgAAiBJb4+Sdd97RRx99pE2bNqlnz56aNGlSyPuYPXu2Ghoagk65ubk2TAsA\n",
       "AExg6zEnLpdLktSxY0c98MADyszMVJ8+fVRbW6vm5mbFx8fLsix5vd7AZf+T0+mU0+kM2hYXF2fn\n",
       "2AAAIIpse+XkyJEjOnToUODnl156ScOGDVNycrKys7NVWloqSVqxYoVSU1OVnp5u1ygAAKAdse2V\n",
       "k7179yo/P19+v1+WZal///564YUXJEnFxcVyu92aN2+eEhISVFJSYtcYAACgnbEtTvr3768PP/yw\n",
       "1fOysrJUXl5u100DAIB2jE+IBQAARiFOAACAUYgTAABgFOIEAAAYhTgBAABGIU4AAIBRiBMAAGAU\n",
       "4gQAABiFOAEAAEYhTgAAgFGIEwAAYBTiBAAAGIU4AQAARiFOAACAUYgTAABgFOIEAAAYhTgBAABG\n",
       "IU4AAIBRiBMAAGAU4gQAABiFOAEAAEYhTgAAgFGIEwAAYBTiBAAAGIU4AQAARiFOAACAUYgTAABg\n",
       "FOIEAAAYhTgBAABGIU4AAIBRiBMAAGAU4gQAABiFOAEAAEYhTgAAgFGIEwAAYBTiBAAAGIU4AQAA\n",
       "RiFOAACAUYgTAABgFOIEAAAYhTgBAABGIU4AAIBRiBMAAGAU4gQAABiFOAEAAEYhTgAAgFGIEwAA\n",
       "YBTiBAAAGIU4AQAARolInJSUlMjhcOiVV16RJNXX12vMmDHKyMjQhRdeqHfeeScSYwAAgHbA9jjx\n",
       "eDxaunSp8vLyAttmzZqlvLw8VVVVqaSkRBMmTNDx48ftHgUAALQDtsZJS0uLJk+erIULF8rpdAa2\n",
       "l5WVacqUKZKknJwcnXvuuXr77bftHAUAALQT8Xbu/Omnn9bIkSM1fPjwwLb9+/fr+PHjOueccwLb\n",
       "0tLS5PV6W92Hz+eTz+cL2ub3++0ZGAAARJ1tr5x88sknWrFihR5++OHT2k9RUZESExODThUVFWGa\n",
       "EgAAmMa2ONmwYYM8Ho8yMjKUlpam9957TwUFBSorK1N8fLzq6uoCl/V4PHK5XK3uZ/bs2WpoaAg6\n",
       "5ebm2jU2AACIMtvi5N5771Vtba08Ho88Ho/y8vK0ZMkS3Xvvvbrxxhu1ePFiSVJlZaX27NmjSy+9\n",
       "tNX9OJ1OJSQkBJ3i4uLsGhsAAESZrcecfJsnnnhCt99+uzIyMtSpUyeVlpaqY8eO0RgFAAAYJmJx\n",
       "sn79+sC/e/furTVr1kTqpgEAQDvCJ8QCAACjECcAAMAoxAkAADAKcQIAAIxCnAAAAKMQJwAAwCjE\n",
       "CQAAMApxAgAAjEKcAAAAoxAnAADAKMQJAAAwCnECAACMQpwAAACjECcAAMAoxAkAADAKcQIAAIxC\n",
       "nAAAAKMQJwAAwCjECQAAMErIcfLmm2/aMQcAAICkU4iTxx9/XFlZWVqwYIEaGxvtmAkAAMSwkOPk\n",
       "73//u15++WV98sknyszM1H333adPP/3UjtkAAEAMOqVjToYNG6alS5fqjTfe0OrVqzV48GBdccUV\n",
       "+vjjj8M9HwAAiDGnFCdr167V2LFjNX78eE2dOlV1dXUqLCzU9ddfH+75AABAjIkP9QoXXHCBevbs\n",
       "qfvvv1/jx49XXFycJOmGG27Qc889F/YBAQBAbAk5TkpLSzV8+PBWz/vLX/5y2gMBAIDYFvLbOh98\n",
       "8IEOHDgQ+Hn//v1aunRpWIcCAACxK+Q4WbRokbp37x74uUePHlq0aFFYhwIAALEr5DixLOuEbX6/\n",
       "PyzDAAAAhBwnKSkpKisrC/y8bNkypaSkhHUoAAAQu0I+IPaZZ57R2LFjNWPGDElSly5d9Oqrr4Z9\n",
       "MAAAEJtCjpPzzz9fn376qbZu3SpJysrKCvw5MQAAwOkKOU4kyeFwKCkpSc3NzdqzZ48kyeVyhXUw\n",
       "AAAQm0KOk+eff17333+/OnbsqA4dvjpkxeFwqL6+PuzDAQCA2BNynPz0pz9VZWWlsrKy7JgHAADE\n",
       "uJD/Wqdnz56ECQAAsE3IcTJu3Dg988wzqq+vV2NjY+AEAAAQDiG/rfOTn/xEkjR9+nQ5HA5ZliWH\n",
       "w8EHsQEAgLAIOU5aWlrsmAMAAEDSKbytI3315X+///3vJUmHDh1SbW1tWIcCAACx65S++O+uu+7S\n",
       "Y489JumrbyWeMGFCuOcCAAAxKuQ4WbJkid577z0lJCRIkgYMGKB9+/aFfTAAABCbQo4Tp9Opzp07\n",
       "B22Ljz+lD5oFAAA4Qchx0qtXL23btk0Oh0PSV58Yy0fXAwCAcDmlbyW+9dZb9dlnn6lPnz5KSEjQ\n",
       "6tWr7ZgNAADEoJDjJD09Xe+//762bt0qy7L4VmIAABBWIceJ1+uVJJ111lmSxLcSAwCAsAo5ToYP\n",
       "Hx74ZNijR4/qyy+/VI8ePfhWYgAAEBYhx8l//tnwypUrtXnz5rANBAAAYtspfULsN40fP16vv/56\n",
       "OGYBAAAIPU6++U3EBw8e1BtvvPGt30r8gx/8QIMHD9bQoUM1atQoffjhh5KkqqoqjRgxQpmZmcrJ\n",
       "ydGWLVtO714AAIAzRshv6yQlJQWOOYmLi1NGRoaeffbZVi9bVlampKQkSdKqVavkdru1efNmFRYW\n",
       "qqCgQG63W8uXL5fb7VZlZeVp3REAAHBmsPVbib8OE0lqaGiQw+FQfX29Nm7cqDVr1kiS8vPzNW3a\n",
       "NFVXVys9Pf2Effh8Pvl8vqBtfr8/1LEBAEA7Yfvnzt9xxx1at26dJOnPf/6zampqlJKSEvjIe4fD\n",
       "IZfLJa/X22qcFBUVac6cOUHb8vLy7B4bAABEScjHnHTo0EFxcXEnnL7e/p9eeOEF1dTUaO7cuZo5\n",
       "c2bIA86ePVsNDQ1Bp9zc3JD3AwAA2oeQXzl5/PHH1dTUpHvvvVeStHjxYnXu3FkPPPDASa83adIk\n",
       "TZkyRampqaqtrVVzc7Pi4+NlWZa8Xu+3foib0+mU0+kM2sYn0gIAcOYK+ZWTVatW6Wc/+5lSU1OV\n",
       "mpqquXPnauXKlTrrrLMCnxorSYcOHdLnn38e+PmVV15Rjx49lJycrOzsbJWWlkqSVqxYodTU1Fbf\n",
       "0gEAALEn5FdODh8+rPr6eiUnJ0uS6uvrdfjw4RMu19DQoBtvvFFNTU3q0KGDevXqpdWrV8vhcKi4\n",
       "uFhut1vz5s1TQkKCSkpKTv+eAACAM0LIcfLggw9qyJAhuvrqqyVJb7zxhh577LETLte3b19VVFS0\n",
       "uo+srCyVl5eHetMAACAGhBwnhYWFGjlyZOAvcKZPn65BgwaFfTAAABCbTulPiXv06KGLLrpI3/ve\n",
       "99Tc3Kxjx46pU6dO4Z4NAADEoJAPiF2+fLny8vJ05513SpK2bNmicePGhXsuAAAQo0KOk6KiIm3a\n",
       "tCnw6a9DhgzRrl27wj0XAACIUSHHSVxcnHr06BG0jbd0AABAuIQcJ2effbb27t0rh8MhSfrrX/+q\n",
       "7t27h30wAAAQm0I+IPaJJ57QVVddpR07duiSSy7Rzp079frrr9sxGwAAiEEhxUlLS4v8fr/WrVun\n",
       "f/zjH7IsSyNGjAj69mEAAIDTEVKcdOjQQQUFBdq8ebOuuuoqu2YCAAAxLORjTjIyMlRdXW3HLAAA\n",
       "AKEfc3LgwAENHTpUI0aMUNeuXQPbV65cGdbBAABAbGpznBQUFGjJkiWaNGmSrrvuOnXr1s3OuQAA\n",
       "QIxqc5xs3LhRkjRp0iRlZ2dr06ZNtg0FAABiV8jHnEiSZVnhngMAAEBSCK+cNDU16eOPP5ZlWTp6\n",
       "9Gjg318bPHiwLQMCAIDYElKcXHfddYGfv/lvh8OhHTt2hHcyAAAQk9ocJx6Px8YxAAAAvnJKx5wA\n",
       "AADYhTgBAABGIU4AAIBRiBMAAGAU4gQAABiFOAEAAEYhTgAAgFGIEwAAYBTiBAAAGIU4AQAARiFO\n",
       "AACAUYgTAABgFOIEAAAYhTgBAABGIU4AAIBRiBMAAGAU4gQAABiFOAEAAEYhTgAAgFGIEwAAYBTi\n",
       "BAAAGIU4AQAARiFOAACAUYgTAABgFOIEAAAYhTgBAABGIU4AAIBRiBMAAGAU4gQAABiFOAEAAEYh\n",
       "TgAAgFGIEwAAYBTiBAAAGMW2ODl69KjGjRunzMxMDRkyRFdccYWqq6slSfX19RozZowyMjJ04YUX\n",
       "6p133rFrDAAA0M7Y+spJQUGBtm7dqs2bN2vs2LGaPHmyJGnWrFnKy8tTVVWVSkpKNGHCBB0/ftzO\n",
       "UQAAQDthW5x85zvf0dVXXy2HwyFJysvLk8fjkSSVlZVpypQpkqScnByde+65evvtt1vdj8/nU2Nj\n",
       "Y9DJ7/fbNTYAAIiyiB1zsmDBAo0dO1b79+/X8ePHdc455wTOS0tLk9frbfV6RUVFSkxMDDpVVFRE\n",
       "amwAABBhEYmTefPmqbq6WkVFRSFfd/bs2WpoaAg65ebm2jAlAAAwQbzdN/CLX/xCK1eu1Nq1a9Wl\n",
       "Sxd16dJF8fHxqqurC7x64vF45HK5Wr2+0+mU0+kM2hYXF2f32AAAIEpsfeXk6aef1ksvvaS33npL\n",
       "SUlJge033nijFi9eLEmqrKzUnj17dOmll9o5CgAAaCdse+Vk9+7devDBB9W/f39ddtllkr56FeT9\n",
       "99/XE088odtvv10ZGRnq1KmTSktL1bFjR7tGAQAA7YhtcZKamirLslo9r3fv3lqzZo1dNw0AANox\n",
       "PiEWAAAYhTgBAABGIU4AAIBRiBMAAGAU4gQAABiFOAEAAEYhTgAAgFGIEwAAYBTiBAAAGIU4AQAA\n",
       "RiFOAACAUYgTAABgFOIEAAAYhTgBAABGIU4AAIBRiBMAAGAU4gQAABiFOAEAAEYhTgAAgFGIEwAA\n",
       "YBTiBAAAGIU4AQAARiFOAACAUYgTAABgFOIEAAAYhTgBAABGIU4AAIBRiBMAAGAU4gQAABiFOAEA\n",
       "AEYhTgAAgFGIEwAAYBTiBAAAGIU4AQAARiFOAACAUYgTAABgFOIEAAAYhTgBAABGIU4AAIBRiBMA\n",
       "AGAU4gQAABiFOAEAAEYhTgAAgFGIEwAAYBTiBAAAGIU4AQAARiFOAACAUYgTAABgFOIEAAAYxdY4\n",
       "uf/++5WWliaHw6F//vOfge1VVVUaMWKEMjMzlZOToy1bttg5BgAAaEdsjZMbbrhB7777rvr27Ru0\n",
       "vbCwUAUFBdq2bZtmzpwpt9tt5xgAAKAdsTVOvvvd7yo1NTVoW319vTZu3KiJEydKkvLz81VTU6Pq\n",
       "6mo7RwEAAO1EfKRvsKamRikpKYqP/+qmHQ6HXC6XvF6v0tPTT7i8z+eTz+cL2ub3+yMyKwAAiDzj\n",
       "D4gtKipSYmJi0KmioiLaYwEAAJtEPE769Omj2tpaNTc3S5Isy5LX65XL5Wr18rNnz1ZDQ0PQKTc3\n",
       "N5IjAwCACIp4nCQnJys7O1ulpaWSpBUrVig1NbXVt3Qkyel0KiEhIegUFxcXyZEBAEAE2RonhYWF\n",
       "Sk1N1e7du3XllVcGAqS4uFjFxcXKzMzU/PnzVVJSYucYAACgHbH1gNji4uJWt2dlZam8vNzOmwYA\n",
       "AO2U8QfEAgCA2EKcAAAAoxAnAADAKMQJAAAwCnECAACMQpwAAACjECcAAMAoxAkAADAKcQIAAIxC\n",
       "nAAAAKMQJwAAwCjECQAAMApxAgAAjEKcAAAAoxAnAADAKMQJAAAwCnECAACMQpwAAACjECcAAMAo\n",
       "xAkAADAKcQIAAIxCnAAAAKMQJwAAwCjECQAAMApxAgAAjEKcAAAAoxAnAADAKMQJAAAwCnECAACM\n",
       "QpwAAACjECcAAMAoxAkAADAKcQIAAIxCnAAAAKMQJwAAwCjECQAAMApxAgAAjEKcAAAAoxAnAADA\n",
       "KMQJAAAwCnECAACMQpwAAACjECcAAMAoxAkAADAKcQIAAIxCnAAAAKMQJwAAwCjECQAAMApxAgAA\n",
       "jEKcAAAAo0QtTqqqqjRixAhlZmYqJydHW7ZsidYoAADAIFGLk8LCQhUUFGjbtm2aOXOm3G53tEYB\n",
       "AAAGiUqc1NfXa+PGjZo4caIkKT8/XzU1Naqurj7hsj6fT42NjUEnv98f6ZEBAECExEfjRmtqapSS\n",
       "kqL4+K9u3uFwyOVyyev1Kj09PeiyRUVFmjNnTtC2888/X9OnTw/7XH6/XykVFcrNzVVcXFxY9z19\n",
       "+l/Dur9o8/v9qrBprc40rFXbsVZtx1qF5kxcr/E27dfv9+t//meuLWvVt29f/ehHP/qvl3NYlmWF\n",
       "9Zbb4IMPPtCECRO0devWwLbc3FzNnz9fo0ePDrqsz+eTz+cL2uZ0OuV0OsM+V2NjoxITE9XQ0KCE\n",
       "hISw7/9Mwlq1HWvVdqxV27FWoWG92s6EtYrKKyd9+vRRbW2tmpubFR8fL8uy5PV65XK5TrisXSEC\n",
       "AADMFJVjTpKTk5Wdna3S0lJJ0ooVK5SamnrCWzoAACD2ROWVE0kqLi6W2+3WvHnzlJCQoJKSkmiN\n",
       "AgAADBK1OMnKylJ5eXm0br5VTqdTjz76KG8jtQFr1XasVduxVm3HWoWG9Wo7E9YqKgfEAgAAfBs+\n",
       "vh4AABiFOAEAAEYhTgAAgFGIEwAAYJSYiJO2fAPy3/72N+Xm5mrgwIEaNGiQZsyYoZaWlsD5q1ev\n",
       "1vnnn6+MjAyNHz9ejY2NkbwLEXO6a+XxeBQXF6ehQ4cGTtu3b4/03YiYtqxXeXl5YC0GDRqkwsLC\n",
       "oE89fu6555SRkaEBAwbonnvu0fHjxyN5FyLmdNdq/fr16ty5c9DvVlNTU6TvRkSE8q3tlmVp9OjR\n",
       "SkpKCtrOc9aJWlurWHrOasta/bfHWcSer6wYcNlll1klJSWWZVnWH//4R+viiy8+4TKbNm2ytm/f\n",
       "blmWZTU1NVkjR44MXOfw4cNWcnKy9a9//cuyLMuaOnWq9dBDD0Vk9kg73bXauXOnlZiYGKFpo68t\n",
       "63XkyBHr2LFjlmVZlt/vt8aNG2c9/fTTlmVZ1o4dO6yUlBSrtrbWamlpsa699lrrV7/6VcTmj6TT\n",
       "Xat169ZZQ4YMidS4UdWWtfraU089ZU2ePDnoccdzVutaW6tYes5qy1qd7HEWyeerMz5O9u7da519\n",
       "9tnW8ePHLcuyrJaWFqt3795WVVXVSa83depU69FHH7Usy7LKysqsK6+8MnDeli1brPPOO8+2maMl\n",
       "HGsVSw/0U1mvpqYm68orr7R++ctfWpZlWU8++aRVWFgYOP/111+3Ro4caevc0RCOtYqVOAllrT75\n",
       "5BNr1KhRVnV1ddDjjuestq9VrDxntXWtTvY4i+Tz1Rn/ts7JvgH529TV1Wn58uW65pprJEler1d9\n",
       "+/YNnJ+Wlhb4bqAzSTjWSpKOHDminJwcZWdn6/HHH5ff77d99mgIZb08Ho+GDBminj17KjExUffd\n",
       "d5+k1n+3Trbe7VU41kqStm/fruzsbOXk5GjRokURmz+S2rpWx48f1z333KPi4uITvjmW56y2r5UU\n",
       "G89ZoTwGv+1xFsnnqzM+TkLV2Nioa6+9VjNmzNDFF18c7XGM1tpapaSkaM+ePaqsrNTatWu1YcMG\n",
       "PfXUU1GeNPrS0tK0efNm1dXVyefzaeXKldEeyVjftlbZ2dnavXu3Nm3apFWrVmnx4sUqKyuL8rTR\n",
       "M2fOHI0fP14XXHBBtEcx3snWiuesYKY8zs74OPnmNyBLOuk3IB8+fFhjxozR2LFjNX369MB2l8ul\n",
       "Xbt2BX72eDxBBXqmCMdaOZ1OJScnS5K6d++uu+66Sxs2bIjMHYiwUNbra127dtUtt9yiF198UVLr\n",
       "v1snu357FY61SkhIUGJioiQpNTVVt9566xn5u9XWtXr77be1cOFCpaWl6ZJLLlFjY6PS0tK0b98+\n",
       "nrNCWKtYec5q61qd7HEWyeerMz5O2voNyF988YXGjBmjMWPG6OGHHw46b8yYMdq0aZM+++wzSdKi\n",
       "RYt0yy23ROYORFA41qq+vj5w9PbX/9c7bNiwyNyBCGvrelVXVwfW5NixY1q1apUGDx4sScrPz9dr\n",
       "r72muro6WZalxYsXx/Tv1snWqra2NvBXYYcPH9bq1avPyN+ttq7Vhg0btGvXLnk8Hr377rtKSEiQ\n",
       "x+NRr169eM4KYa1i5TmrrWt1ssdZRJ+vbDmSxTCfffaZlZeXZ2VkZFjDhw+3PvroI8uyLOvuu++2\n",
       "Xn31VcuyLGvu3LlWfHy8NWTIkMBp7ty5gX28+uqrVlZWljVgwABr7Nix1qFDh6JyX+x2umu1YsUK\n",
       "a9CgQdbgwYOtgQMHWtOmTbOOHj0atftjt7asV3FxcdCa/PCHP7SampoC+1iyZInVv39/q3///tZd\n",
       "d90V+GuVM83prtXChQutgQMHBs579NFHrZaWlqjdHzu1Za2+qbWDOnnOattaxdJzVlvW6r89ziL1\n",
       "fMUX/wEAAKOc8W/rAACA9oU4AQAARiFOAACAUYgTAABgFOIEAAAYhTgBAABGIU4AAIBRiBMAAGAU\n",
       "4gQAABiFOAEAAEb5P/IzticTGaw3AAAAAElFTkSuQmCC\n",
       "\">\n",
       "      </div>\n",
       "      <script type=\"text/javascript\">\n",
       "        (() => {\n",
       "          const chartElement = document.getElementById(\"chart-bfb42b3d-8580-41d1-bf35-4269f21d807b\");\n",
       "          async function getCodeForChartHandler(event) {\n",
       "            const chartCodeResponse =  await google.colab.kernel.invokeFunction(\n",
       "                'getCodeForChart', [\"chart-bfb42b3d-8580-41d1-bf35-4269f21d807b\"], {});\n",
       "            const responseJson = chartCodeResponse.data['application/json'];\n",
       "            await google.colab.notebook.addCell(responseJson.code, 'code');\n",
       "          }\n",
       "          chartElement.onclick = getCodeForChartHandler;\n",
       "        })();\n",
       "      </script>\n",
       "      <style>\n",
       "        .colab-quickchart-chart-with-code  {\n",
       "            display: block;\n",
       "            float: left;\n",
       "            border: 1px solid transparent;\n",
       "        }\n",
       "\n",
       "        .colab-quickchart-chart-with-code:hover {\n",
       "            cursor: pointer;\n",
       "            border: 1px solid #aaa;\n",
       "        }\n",
       "      </style>"
      ],
      "text/plain": [
       "from matplotlib import pyplot as plt\n",
       "df_grid_search['dropout'].plot(kind='hist', bins=20, title='dropout')\n",
       "plt.gca().spines[['top', 'right',]].set_visible(False)"
      ]
     },
     "metadata": {},
     "output_type": "display_data"
    },
    {
     "data": {
      "text/html": [
       "      <div class=\"colab-quickchart-chart-with-code\" id=\"chart-8ab4fe7b-299c-420c-b548-82832d3a403e\">\n",
       "        <img style=\"width: 180px;\" src=\"data:image/png;base64,iVBORw0KGgoAAAANSUhEUgAAAicAAAGrCAYAAAAbyjfjAAAAOnRFWHRTb2Z0d2FyZQBNYXRwbG90\n",
       "bGliIHZlcnNpb24zLjEwLjAsIGh0dHBzOi8vbWF0cGxvdGxpYi5vcmcvlHJYcgAAAAlwSFlzAAAP\n",
       "YQAAD2EBqD+naQAAIR1JREFUeJzt3Xl0VPX9//HXJIFRNAtbSQiEsIRF2SNpZJEgBoHKFostFBQV\n",
       "WdRjbThFkK9HUA6IB62ox7IciwvairK1LoAgIG0Vwr4oSzALhMSwSBJBAkk+vz84zo+UtGRgbuYz\n",
       "yfNxzpzD3Lm5857PH+bpnZsZlzHGCAAAwBJB/h4AAADgcsQJAACwCnECAACsQpwAAACrECcAAMAq\n",
       "xAkAALAKcQIAAKxCnAAAAKsQJwAAwCrECYBKmTVrlvr161fp/Tdu3CiXy6WSkhIHp5KaNGmit956\n",
       "y9HnAFC1iBMAlfL0009r7dq1Pj1mUlKS/u///s+nxwQQ+IgTAABgFeIEqMb+8Y9/qHHjxp77b7/9\n",
       "tlwul1atWiVJKikpUVhYmDZv3qzz58/r6aefVsuWLVW3bl3dcccd2rlzp+dnp0+frp49e3ruf//9\n",
       "9xo6dKgiIiLUokULvffee3K5XNq4cWO5GVauXKnWrVsrNDRUycnJysnJkSRNmDBBmzdv1osvvqib\n",
       "b75ZN99881Vfz48//qiHH35Y9evXV3R0tObNm3fFPgcOHNA999yjRo0aKTo6Wo8++qjOnj3refz0\n",
       "6dN69NFH1bx5c4WGhqpt27Zas2aNpEtvRXXv3l3169dX3bp1deedd2rXrl2SpLKyMsXGxurtt98u\n",
       "93xz585Vly5drjo7gMojToBqLCkpSSdPntTevXslSWvWrFFcXJzn7Zmvv/5aknT77bdrwoQJ2rp1\n",
       "qzZt2qQTJ07ovvvu0913360zZ85UeOyRI0eqtLRUGRkZ2r59u5YuXVrhfitWrFBaWpqOHTumc+fO\n",
       "6emnn5YkzZ8/X7169dLkyZP1448/6scff7zq60lNTdXOnTu1e/duHTp0SLt27VJeXp7n8ZMnT6pX\n",
       "r17q27evsrOzPfs9+eSTkiRjjIYOHarMzExt2rRJhYWF+vTTT9W0aVNJUq1atTR37lzl5uYqOztb\n",
       "rVq10pAhQ3ThwgUFBQVp3LhxWrhwoef5jDFauHChxo8ff9XZAXjBAKjWevXqZebOnWvKyspMw4YN\n",
       "zbJly0zLli2NMcY888wzZvDgwebkyZNGkjlw4EC5n23VqpV59913jTHGPPvss6ZHjx7GGGOOHj1q\n",
       "JJn9+/d79t27d6+RZDZs2GCMMWbDhg1GksnKyvLs8/rrr5u2bdt67vfu3dtMmzatUq+jtLTUuN1u\n",
       "8/e//92z7cyZM8blcpnFixcbY4x56aWXTGJiYrmf++c//2lq165tSkpKTFpamnG5XCY/P79Sz3n6\n",
       "9GkjyezZs8cYY0xeXp6pXbu22bdvnzHGmPXr15ubb77ZFBYWVup4ACqHMydANdevXz+tXbtWO3fu\n",
       "VEREhIYNG6aioiIdOXJEn3/+ufr166f09HRJ0i9/+UtFRER4bjk5OTp27NgVx/z5rZlmzZp5tsXG\n",
       "xlb4/Je/rXTTTTepqKjoml7HiRMnVFxcrObNm3u2hYeHq169ep77hw8f1vbt28u9hoEDB8rlcikv\n",
       "L08ZGRmqW7euGjZsWOFz7NmzR4MGDVJ0dLTCwsI8z5Wfny9JatSokVJSUrRgwQJJ0oIFCzRy5EiF\n",
       "hoZe02sCUDHiBKjmkpOTtXnzZq1atUp33323XC6XkpOT9cEHHygtLU3JycmKjIyUdOmX85kzZzy3\n",
       "c+fOacqUKVccMzo6WpKUlZXl2Xb5vysrKKjy/wlq2LCh3G63MjMzPdsKCgr0ww8/eO5HRkaqZ8+e\n",
       "5V5DQUGBzp8/r+joaMXGxuqHH37QyZMnK3yO4cOHq2XLltq3b58KCwuVkZEh6dLbNz+bOHGi3n33\n",
       "XWVlZWnFihWaMGGCl68awNUQJ0A1161bN91www2aN2+e53NK+vXrpxdffFFNmzZV69at1axZMw0d\n",
       "OlSPPfaYJzKKior02WefKTc394pjNmnSRElJSZo6daonAq7lT4IjIyN16NChSu0bFBSkUaNGafr0\n",
       "6crJydHZs2c1adIkuVwuzz4PPvigdu7cqTfeeEPnzp2TMUZHjx7VypUrJUm33XabunfvrgcffNBz\n",
       "RigjI0PffvutpEuxExYWpvDwcJ0+fVqTJk26Yo477rhD0dHRSklJUefOnbkYFnAAcQJUc0FBQerb\n",
       "t6/OnTunPn36SLoUJ4WFhUpOTvbs9/777ys+Pl7JyckKDQ1VmzZttGjRonJnDS73/vvvyxijZs2a\n",
       "qUuXLho8eLAk6YYbbqj0bJMmTdLBgwdVt25dRUREXHX/P/3pT+rQoYM6dOig1q1bq0OHDp6zPpIU\n",
       "ExOjr776Sp9//rlatmypiIgI3X333Z4Lgn/+S6WoqCjdfvvtCg0N1cCBA3X06FFJ0l/+8hd9+OGH\n",
       "Cg0NVWJiogYMGFDhHBMnTtSOHTs4awI4xGX+2395AMALu3btUpcuXXT8+HFFRUX5exxHffbZZxox\n",
       "YoSOHz+uOnXq+HscoNohTgBck3379unChQvq3Lmzjh8/rvvvv1+S9MUXX/h5MmedO3dOv/rVr5SQ\n",
       "kKA5c+b4exygWuJtHQDXpKCgQL/97W8VGhqq+Ph4NWjQQO+99951HXPAgAGeD2T7z9vPb83405//\n",
       "/Gc1aNBAkjRt2jQ/TwNUX5w5AQAAVuHMCQAAsApxAgAArEKcAAAAqxAnAADAKgEZJxV9TToAAKge\n",
       "AjJOruU7PAAAQGAIyDgBAADVF3ECAACsQpwAAACrECcAAMAqxAkAALAKcQIAAKxCnAAAAKsQJwAA\n",
       "wCrECQAAsApxAgAArEKcAAAAqxAnAADAKsQJAACwCnECAACsQpwAAACrhPh7ANvETvnEkeNmvvAr\n",
       "R44LAKiZnPp9Jfn/dxZnTgAAgFWIEwAAYBXiBAAAWIU4AQAAViFOAACAVYgTAABgFeIEAABYhTgB\n",
       "AABWIU4AAIBViBMAAGAV4gQAAFiFOAEAAFYhTgAAgFWIEwAAYBXiBAAAWIU4AQAAViFOAACAVYgT\n",
       "AABgFeIEAABYhTgBAABWIU4AAIBViBMAAGAV4gQAAFiFOAEAAFYhTgAAgFWIEwAAYBXiBAAAWIU4\n",
       "AQAAViFOAACAVYgTAABgFeIEAABYhTgBAABWIU4AAIBViBMAAGAV4gQAAFjF0Tj59NNP1bVrV3Xu\n",
       "3Fnt27fX22+/LUnKz89X//79FRcXp/bt2+vLL790cgwAABBAQpw6sDFGo0aN0saNG9WxY0dlZmaq\n",
       "bdu2SklJ0ZQpU5SYmKjVq1crLS1Nw4YNU0ZGhmrVquXUOAAAIEA4FieS5HK5dObMGUlSYWGh6tev\n",
       "L7fbraVLlyo9PV2S1K1bNzVu3FibNm3SXXfddcUxiouLVVxcXG5baWmpk2MDAAA/cixOXC6XPvjg\n",
       "A6WkpOimm27SDz/8oOXLl6uoqEgXL15UZGSkZ9/Y2FhlZ2dXeJzZs2drxowZ5bYlJiY6NTYAAPAz\n",
       "x645KSkp0cyZM7V8+XJlZWVp/fr1Gj16tEpKSrw6ztSpU1VQUFDulpCQ4NDUAADA3xw7c7Jr1y4d\n",
       "P35cd9xxh6RLb980adJEe/bsUUhIiPLy8jxnTzIzMxUTE1Phcdxut9xud7ltwcHBTo0NAAD8zLEz\n",
       "J02bNlVubq6+/fZbSVJ6erqOHDmiNm3aaPjw4Zo/f74kKS0tTTk5Oerdu7dTowAAgADi2JmTRo0a\n",
       "aeHChbrvvvsUFBSksrIyvf7664qJidGcOXM0evRoxcXFqXbt2lqyZAl/qQMAACQ5/Nc6I0aM0IgR\n",
       "I67Y3qhRI61du9bJpwYAAAGKT4gFAABWIU4AAIBViBMAAGAV4gQAAFiFOAEAAFYhTgAAgFWIEwAA\n",
       "YBXiBAAAWIU4AQAAViFOAACAVYgTAABgFeIEAABYhTgBAABWIU4AAIBViBMAAGAV4gQAAFiFOAEA\n",
       "AFYhTgAAgFWIEwAAYBXiBAAAWIU4AQAAViFOAACAVYgTAABgFeIEAABYhTgBAABWIU4AAIBViBMA\n",
       "AGAV4gQAAFiFOAEAAFYhTgAAgFWIEwAAYBXiBAAAWIU4AQAAViFOAACAVYgTAABgFeIEAABYhTgB\n",
       "AABWIU4AAIBViBMAAGAV4gQAAFiFOAEAAFYhTgAAgFWIEwAAYBXiBAAAWIU4AQAAViFOAACAVYgT\n",
       "AABgFeIEAABYhTgBAABWIU4AAIBViBMAAGAV4gQAAFiFOAEAAFYhTgAAgFWIEwAAYBXiBAAAWIU4\n",
       "AQAAViFOAACAVYgTAABgFeIEAABYhTgBAABWIU4AAIBViBMAAGAV4gQAAFiFOAEAAFYhTgAAgFWI\n",
       "EwAAYBXiBAAAWIU4AQAAVnE0ToqLi/X4448rLi5OHTp00KhRoyRJhw8fVvfu3dW6dWt169ZN+/fv\n",
       "d3IMAAAQQEKcPPiUKVPkcrl06NAhuVwu5eXlSZLGjx+vcePGacyYMfroo480ZswYpaWlOTkKAAAI\n",
       "EI7FydmzZ/Xmm2/q2LFjcrlckqTIyEjl5+dr27ZtWrt2rSTp3nvv1eOPP6709HS1atXKqXEAAECA\n",
       "cCxOjhw5onr16mnWrFlat26dbrzxRk2fPl0RERGKiopSSMilp3a5XIqJiVF2dnaFcVJcXKzi4uJy\n",
       "20pLS50aGwAA+Jlj15yUlJQoKytLt9xyi7Zt26ZXX31Vv/nNb1RSUuLVcWbPnq3w8PByt61btzo0\n",
       "NQAA8DfH4iQmJkZBQUH63e9+J0nq0qWLmjdvrqysLOXm5noixRij7OxsxcTEVHicqVOnqqCgoNwt\n",
       "ISHBqbEBAICfORYnDRo0UN++fbVmzRpJUkZGhjIyMtSjRw917dpVS5YskSQtW7ZMTZo0+a/Xm7jd\n",
       "boWFhZW7BQcHOzU2AADwM0f/Wmf+/Pl6+OGH9dRTTykoKEgLFixQdHS0FixYoDFjxmjWrFkKCwvT\n",
       "4sWLnRwDAAAEEEfjpEWLFtqwYcMV29u0aaOvvvrKyacGAAABik+IBQAAViFOAACAVYgTAABgFeIE\n",
       "AABYhTgBAABWIU4AAIBViBMAAGAV4gQAAFiFOAEAAFYhTgAAgFWIEwAAYBXiBAAAWIU4AQAAViFO\n",
       "AACAVYgTAABgFeIEAABYhTgBAABWIU4AAIBViBMAAGAVr+NkzZo1TswBAAAg6Rri5LnnnlObNm00\n",
       "b948FRYWOjETAACowbyOk3/961/629/+pn379ql169Z69NFH9c033zgxGwAAqIGu6ZqTLl26aNGi\n",
       "RVq9erU+/vhjdezYUcnJydq7d6+v5wMAADXMNcXJunXrNGTIEKWkpOixxx5TXl6exo8fr2HDhvl6\n",
       "PgAAUMOEePsD7dq1U4MGDfTEE08oJSVFwcHBkqRf//rXevPNN30+IAAAqFm8jpMlS5YoPj6+wsc+\n",
       "++yz6x4IAADUbF6/rbN9+3adPn3ac//UqVNatGiRT4cCAAA1l9dx8sYbb6hevXqe+/Xr19cbb7zh\n",
       "06EAAEDN5XWcGGOu2FZaWuqTYQAAALyOk6ioKC1dutRz/4MPPlBUVJRPhwIAADWX1xfEvvLKKxoy\n",
       "ZIgmT54sSapTp45WrVrl88EAAEDN5HWctG3bVt98840OHjwoSWrTpo3nz4kBAACul9dxIkkul0sR\n",
       "EREqKSlRTk6OJCkmJsangwEAgJrJ6zh566239MQTT6hWrVoKCrp0yYrL5VJ+fr7PhwMAADWP13Hy\n",
       "/PPPKy0tTW3atHFiHgAAUMN5/dc6DRo0IEwAAIBjvI6ToUOH6pVXXlF+fr4KCws9NwAAAF/w+m2d\n",
       "adOmSZJSU1PlcrlkjJHL5eKD2AAAgE94HSdlZWVOzAEAACDpGt7WkS59+d+7774rSTpz5oxyc3N9\n",
       "OhQAAKi5rumL/x566CFNnz5d0qVvJR45cqSv5wIAADWU13GycOFCff311woLC5MktWzZUidOnPD5\n",
       "YAAAoGbyOk7cbrduvPHGcttCQq7pg2YBAACu4HWcNGzYUIcOHZLL5ZJ06RNj+eh6AADgK9f0rcQj\n",
       "RozQgQMH1LRpU4WFhenjjz92YjYAAFADeR0nrVq10pYtW3Tw4EEZY/hWYgAA4FNex0l2drYk6aab\n",
       "bpIkvpUYAAD4lNdxEh8f7/lk2PPnz+vcuXOqX78+30oMAAB8wus4+c8/G16+fLl2797ts4EAAEDN\n",
       "dk2fEHu5lJQUffLJJ76YBQAAwPszJ5d/A3Fpaam2bNnCtxIDAACf8TpOIiIiPNecBAcHKy4uTq++\n",
       "+qoTswEAgBqIbyUGAABWue5rTgAAAHzJ6zMnQUFBno+uv5wxRi6XS6WlpT4ZDAAA1Exex8lzzz2n\n",
       "n376SRMnTpQkzZ8/XzfeeKOefPJJX88GAABqIK/jZMWKFdq+fbvn/syZMxUfH69p06b5dDAAAFAz\n",
       "eX3NSVFRUblPg83Pz1dRUZFPhwIAADWX12dOJk2apE6dOmngwIGSpNWrV2v69Om+ngsAANRQXsfJ\n",
       "+PHj1aNHD23YsEGSlJqaqltvvdXngwEAgJrJ6ziRpPr166tDhw5KSkpSSUmJLly4oNq1a/t6NgAA\n",
       "UAN5fc3JRx99pMTERD344IOSpP3792vo0KG+ngsAANRQXsfJ7NmztWPHDkVEREiSOnXqpKysLF/P\n",
       "BQAAaiiv4yQ4OFj169cvt423dAAAgK94HSehoaH6/vvvPZ8Su379etWrV8/ngwEAgJrJ6wti58yZ\n",
       "owEDBui7775Tz549lZGRoU8++cSJ2QAAQA3kVZyUlZWptLRUGzZs0L///W8ZY9S9e3fP9ScAAADX\n",
       "y6s4CQoK0rhx47R7924NGDDAqZkAAEAN5vU1J3FxcUpPT3diFgAAAO/j5PTp0+rcubP69eunlJQU\n",
       "z+1/Wbx4sVwul1auXCnp0vfx9O/fX3FxcWrfvr2+/PLLaxoeAABUP5V+W2fcuHFauHChHnjgAQ0e\n",
       "PFh169at1M9lZmZq0aJFSkxM9GybMmWKEhMTtXr1aqWlpWnYsGHKyMhQrVq1vH8FAACgWql0nGzb\n",
       "tk2S9MADD6hr167asWPHVX+mrKxMY8eO1WuvvaZJkyZ5ti9dutTz1lC3bt3UuHFjbdq0SXfddZe3\n",
       "8wMAgGrmmr5bxxhTqf1efvll9ejRQ/Hx8Z5tp06d0sWLFxUZGenZFhsbq+zs7AqPUVxcrOLi4nLb\n",
       "SktLr2FqAAAQCCodJz/99JP27t0rY4zOnz/v+ffPOnbsWG7/ffv2admyZdd9Pcns2bM1Y8aMctsu\n",
       "f4sIAABUL17FyeDBgz33L/+3y+XSd999V27/zZs3KzMzU3FxcZKkvLw8jRs3TjNmzFBISIjy8vI8\n",
       "Z08yMzMVExNT4fNOnTpVqamp5bY988wzlR0bAAAEmErHSWZmplcHnjhxoiZOnOi5n5SUpCeffFJD\n",
       "hw7Vli1bNH/+fE2fPl1paWnKyclR7969KzyO2+2W2+0uty04ONirWQAAQOC4pmtOrtecOXM0evRo\n",
       "xcXFqXbt2lqyZAl/qQMAACRVYZxs3LjR8+9GjRpp7dq1VfXUAAAggHj9IWwAAABOIk4AAIBViBMA\n",
       "AGAV4gQAAFiFOAEAAFYhTgAAgFWIEwAAYBXiBAAAWIU4AQAAViFOAACAVYgTAABgFeIEAABYhTgB\n",
       "AABWIU4AAIBViBMAAGAV4gQAAFiFOAEAAFYhTgAAgFWIEwAAYBXiBAAAWIU4AQAAViFOAACAVYgT\n",
       "AABgFeIEAABYhTgBAABWIU4AAIBViBMAAGAV4gQAAFiFOAEAAFYhTgAAgFWIEwAAYBXiBAAAWIU4\n",
       "AQAAViFOAACAVYgTAABgFeIEAABYhTgBAABWIU4AAIBViBMAAGAV4gQAAFiFOAEAAFYhTgAAgFWI\n",
       "EwAAYBXiBAAAWIU4AQAAViFOAACAVYgTAABgFeIEAABYhTgBAABWIU4AAIBViBMAAGAV4gQAAFiF\n",
       "OAEAAFYhTgAAgFWIEwAAYBXiBAAAWIU4AQAAViFOAACAVYgTAABgFeIEAABYhTgBAABWIU4AAIBV\n",
       "iBMAAGAV4gQAAFiFOAEAAFYhTgAAgFWIEwAAYBXiBAAAWIU4AQAAViFOAACAVRyLk/Pnz2vo0KFq\n",
       "3bq1OnXqpOTkZKWnp0uS8vPz1b9/f8XFxal9+/b68ssvnRoDAAAEGEfPnIwbN04HDx7U7t27NWTI\n",
       "EI0dO1aSNGXKFCUmJurw4cNavHixRo4cqYsXLzo5CgAACBCOxckNN9yggQMHyuVySZISExOVmZkp\n",
       "SVq6dKkmTJggSerWrZsaN26sTZs2VXic4uJiFRYWlruVlpY6NTYAAPCzKrvmZN68eRoyZIhOnTql\n",
       "ixcvKjIy0vNYbGyssrOzK/y52bNnKzw8vNxt69atVTU2AACoYlUSJ7NmzVJ6erpmz57t9c9OnTpV\n",
       "BQUF5W4JCQkOTAkAAGwQ4vQTzJ07V8uXL9e6detUp04d1alTRyEhIcrLy/OcPcnMzFRMTEyFP+92\n",
       "u+V2u8ttCw4OdnpsAADgJ46eOXn55Zf117/+VZ9//rkiIiI824cPH6758+dLktLS0pSTk6PevXs7\n",
       "OQoAAAgQjp05OXbsmCZNmqQWLVqoT58+ki6dBdmyZYvmzJmj0aNHKy4uTrVr19aSJUtUq1Ytp0YB\n",
       "AAABxLE4adKkiYwxFT7WqFEjrV271qmnBgAAAYxPiAUAAFYhTgAAgFWIEwAAYBXiBAAAWIU4AQAA\n",
       "ViFOAACAVYgTAABgFeIEAABYhTgBAABWIU4AAIBViBMAAGAV4gQAAFiFOAEAAFYhTgAAgFWIEwAA\n",
       "YBXiBAAAWIU4AQAAViFOAACAVYgTAABgFeIEAABYhTgBAABWIU4AAIBViBMAAGAV4gQAAFiFOAEA\n",
       "AFYhTgAAgFWIEwAAYBXiBAAAWIU4AQAAViFOAACAVYgTAABgFeIEAABYhTgBAABWIU4AAIBViBMA\n",
       "AGAV4gQAAFiFOAEAAFYhTgAAgFWIEwAAYBXiBAAAWIU4AQAAViFOAACAVYgTAABgFeIEAABYhTgB\n",
       "AABWIU4AAIBViBMAAGAV4gQAAFiFOAEAAFYhTgAAgFWIEwAAYBXiBAAAWIU4AQAAViFOAACAVYgT\n",
       "AABgFeIEAABYhTgBAABWIU4AAIBViBMAAGAV4gQAAFiFOAEAAFYhTgAAgFWIEwAAYBXiBAAAWIU4\n",
       "AQAAViFOAACAVYgTAABgFeIEAABYhTgBAABW8VucHD58WN27d1fr1q3VrVs37d+/31+jAAAAi/gt\n",
       "TsaPH69x48bp0KFDeuqppzRmzBh/jQIAACzilzjJz8/Xtm3bNGrUKEnSvffeq6NHjyo9Pf2KfYuL\n",
       "i1VYWFjuVlpaWtUjAwCAKhLijyc9evSooqKiFBJy6eldLpdiYmKUnZ2tVq1aldt39uzZmjFjRrlt\n",
       "bdu2VWpqqs/nKi0tVdTWrUpISFBwcLBPj52aut6nxwtkpaWl2urQOuP/Y52rButcdVjr8lIcOm5p\n",
       "aaluv32mI+vcrFkz/f73v7/qfi5jjPHpM1fC9u3bNXLkSB08eNCzLSEhQS+88ILuvPPOcvsWFxer\n",
       "uLi43Da32y232+3zuQoLCxUeHq6CggKFhYX5/Pi4hHWuGqxz1WCdqw5rXTVsWGe/nDlp2rSpcnNz\n",
       "VVJSopCQEBljlJ2drZiYmCv2dSpEAACAnfxyzckvfvELde3aVUuWLJEkLVu2TE2aNLniLR0AAFDz\n",
       "+OXMiSQtWLBAY8aM0axZsxQWFqbFixf7axQAAGARv8VJmzZt9NVXX/nr6Svkdrv17LPP8jaSw1jn\n",
       "qsE6Vw3Wueqw1lXDhnX2ywWxAAAA/w0fXw8AAKxCnAAAAKsQJwAAwCrECQAAsEpAx0llv9n4zTff\n",
       "VFxcnFq2bKlHHnlEFy9e9NtjgcjGdf7iiy+UkJCgW265RbfeeqsmT56ssrIyh1agati4zj8zxujO\n",
       "O+9URESEb1+0H9i6znv37lVSUpLatWundu3aafny5Q68+qpj4zqXlZUpNTVVt9xyizp27Kg+ffpU\n",
       "+J1ugcZfa52ZmamkpCSFh4erc+fOXj3fVZkA1qdPH7N48WJjjDEffvihue22267Y57vvvjNRUVEm\n",
       "NzfXlJWVmUGDBpnXX3/dL48FKhvXeceOHebIkSPGGGN++ukn06NHD8+MgcrGdf7ZSy+9ZMaOHWvC\n",
       "w8OdW4AqYuM6nz171jRv3txs3rzZGGNMSUmJyc/Pd3opHGXjOq9YscIkJCSYCxcuGGOMef75583w\n",
       "4cOdXgrH+WutT506ZTZv3mw+/vhj06lTp0o/X2UEbJx8//33JjQ01Fy8eNEYY0xZWZlp1KiROXz4\n",
       "cLn9XnzxRTN+/HjP/U8++cT06NHDL48FIlvX+T899thj5tlnn72OV+pfNq/zvn37TK9evUx6enrA\n",
       "x4mt67xo0SIzYsQIX75Uv7J1nVeuXGk6depkCgsLTVlZmfnjH/9o/vCHP/jypVc5f671zzZs2HBF\n",
       "nFzv78KAfVvnf32z8eWys7PVrFkzz/3Y2FjPPlX9WCCydZ0vl5eXp48++kj33HPP9b5cv7F1nS9e\n",
       "vKhHHnlECxYsqBbfAmvrOn/zzTdyu92655571LlzZ91///06ceKEL196lbJ1nQcNGqSkpCRFRkYq\n",
       "KipK69ev13PPPefLl17l/LnW/8v1/i4M2DgBpEvfnjlo0CBNnjxZt912m7/HqXZmzJihlJQUtWvX\n",
       "zt+jVGslJSVat26dFixYoJ07dyo6OloTJ07091jVzrZt27Rv3z7l5OTo+PHj6tu3ryZMmODvsVCB\n",
       "gI2Ty7/ZWNJ//WbjmJgYZWVlee5nZmZ69qnqxwKRressSUVFRerfv7+GDBmi1NRUX71kv7B1nTdt\n",
       "2qTXXntNsbGx6tmzpwoLCxUbGxuw/1dv6zrHxMSoT58+io6Olsvl0qhRo/T111/78qVXKVvX+Z13\n",
       "3vFc2B0UFKQHHnhAGzZs8OVLr3L+XOv/5bp/F1b6DSAL9e7du9xFQPHx8Vfsc+TIkSsuynnttdf8\n",
       "8ligsnGdi4qKTPfu3c2MGTOqYAWqho3rfLmMjIyAv+bEGDvXOSsry7Rt29YUFBQYYy69Xz9w4ECn\n",
       "l8JRNq7zSy+9ZPr27WuKi4uNMca88MILpl+/fk4vheP8tdY/q+iak+v9XRjQcXLgwAGTmJho4uLi\n",
       "THx8vNmzZ48xxpiHH37YrFq1yrPfwoULTYsWLUyLFi3MQw895LlS2x+PBSIb13nmzJkmJCTEdOrU\n",
       "yXObOXOm00vhKBvX+XLVJU5sXed33nnH3HrrraZDhw6mf//+Jjs728llcJyN63z+/HkzduxY07Zt\n",
       "W9OhQweTnJzs+au/QOavtT579qyJjo42DRo0MLVq1TLR0dFmypQplTrm1fDFfwAAwCoBe80JAACo\n",
       "nogTAABgFeIEAABYhTgBAABWIU4AAIBViBMAAGAV4gQAAFiFOAEAAFYhTgAAgFWIEwAAYJX/B2A/\n",
       "RfOsF5M9AAAAAElFTkSuQmCC\n",
       "\">\n",
       "      </div>\n",
       "      <script type=\"text/javascript\">\n",
       "        (() => {\n",
       "          const chartElement = document.getElementById(\"chart-8ab4fe7b-299c-420c-b548-82832d3a403e\");\n",
       "          async function getCodeForChartHandler(event) {\n",
       "            const chartCodeResponse =  await google.colab.kernel.invokeFunction(\n",
       "                'getCodeForChart', [\"chart-8ab4fe7b-299c-420c-b548-82832d3a403e\"], {});\n",
       "            const responseJson = chartCodeResponse.data['application/json'];\n",
       "            await google.colab.notebook.addCell(responseJson.code, 'code');\n",
       "          }\n",
       "          chartElement.onclick = getCodeForChartHandler;\n",
       "        })();\n",
       "      </script>\n",
       "      <style>\n",
       "        .colab-quickchart-chart-with-code  {\n",
       "            display: block;\n",
       "            float: left;\n",
       "            border: 1px solid transparent;\n",
       "        }\n",
       "\n",
       "        .colab-quickchart-chart-with-code:hover {\n",
       "            cursor: pointer;\n",
       "            border: 1px solid #aaa;\n",
       "        }\n",
       "      </style>"
      ],
      "text/plain": [
       "from matplotlib import pyplot as plt\n",
       "df_grid_search['weight_decay'].plot(kind='hist', bins=20, title='weight_decay')\n",
       "plt.gca().spines[['top', 'right',]].set_visible(False)"
      ]
     },
     "metadata": {},
     "output_type": "display_data"
    },
    {
     "data": {
      "text/html": [
       "      <div class=\"colab-quickchart-chart-with-code\" id=\"chart-b1ea14fa-df1f-469b-af43-cbe8392c8e19\">\n",
       "        <img style=\"width: 180px;\" src=\"data:image/png;base64,iVBORw0KGgoAAAANSUhEUgAAAicAAAGrCAYAAAAbyjfjAAAAOnRFWHRTb2Z0d2FyZQBNYXRwbG90\n",
       "bGliIHZlcnNpb24zLjEwLjAsIGh0dHBzOi8vbWF0cGxvdGxpYi5vcmcvlHJYcgAAAAlwSFlzAAAP\n",
       "YQAAD2EBqD+naQAAG1RJREFUeJzt3XuMVPXd+PHPwOIWrUAFCwiueFlA7kIhPGgKeAv6VEWsbbBS\n",
       "qVrQaqxiWzG2EayPqGmtt1guIbSWpIqCl2irVoOX1Buo9VovIMsqghitrLGysrvn94dxf26lLYNz\n",
       "dr7rvl7JJO6ZmTOf841h35k5O6eQZVkWAACJ6FDuAQAAPkucAABJEScAQFLECQCQFHECACRFnAAA\n",
       "SREnAEBSxAkAkBRxAgAkRZwAZTdhwoT4+c9/Xu4xgESIEwAgKeIESNq2bdvKPQLQysQJkJRCoRC/\n",
       "+c1vYty4cbHbbrvF8uXLyz0S0Moqyj0AwL9asGBBrFixIg488MDYunVruccBWpk4AZJz3nnnxaBB\n",
       "gyIionPnzmWeBmhtPtYBkrPvvvuWewSgjMQJkJwOHfzTBO2ZfwEAgKSIEwAgKYUsy7JyDwEA8Cnv\n",
       "nAAASREnAEBSxAkAkBRxAgAkRZwAAEkRJwBAUsQJAJCUNhkn11xzTblHAABy0ibjZP369eUeAQDI\n",
       "SZuMEwDgy0ucAABJEScAQFLECQCQFHECACRFnAAASREnAEBSxAkAkBRxAgAkRZwAAEkRJwBAUsQJ\n",
       "AJAUcQIAJEWcAABJEScAQFIqyj1AavrNvjuX/dZc/r+57BeA9imv31cR5f+d5Z0TACAp4gQASIo4\n",
       "AQCSIk4AgKSIEwAgKeIEAEiKOAEAkiJOAICkiBMAICniBABIijgBAJIiTgCApIgTACAp4gQASIo4\n",
       "AQCSIk4AgKSIEwAgKeIEAEiKOAEAkiJOAICkiBMAICniBABIijgBAJIiTgCApIgTACAp4gQASIo4\n",
       "AQCSIk4AgKSIEwAgKeIEAEiKOAEAkiJOAICkiBMAICniBABIijgBAJKSa5z86U9/ipEjR8aIESNi\n",
       "yJAh8fvf/z4iIjZv3hyTJk2K6urqGDJkSDz88MN5jgEAtCEVee04y7I4+eST48EHH4xhw4ZFTU1N\n",
       "DBw4MKZMmRKzZ8+OsWPHxj333BOrVq2K448/PtatWxedOnXKaxwAoI3ILU4iIgqFQrz//vsREVFX\n",
       "Vxfdu3ePysrKWLZsWaxZsyYiIkaPHh177bVXPPTQQ3H44Yd/bh/19fVRX1/fYltjY2OeYwMAZZRb\n",
       "nBQKhbj55ptjypQpsdtuu8U//vGPWLFiRXzwwQexbdu26NWrV/Nj+/XrF7W1tdvdz7x582Lu3Lkt\n",
       "to0dOzavsQGAMsvtnJOGhoa49NJLY8WKFbF+/fp44IEHYtq0adHQ0FDUfi688MLYsmVLi9uYMWNy\n",
       "mhoAKLfc3jn529/+Fm+99VZ885vfjIhPPr7p27dvPPfcc1FRURGbNm1qfvekpqYmqqqqtrufysrK\n",
       "qKysbLGtY8eOeY0NAJRZbu+c7L333rFx48b4+9//HhERa9asibVr18aAAQPixBNPjPnz50dExKpV\n",
       "q2LDhg0xfvz4vEYBANqQ3N456dmzZyxcuDC+853vRIcOHaKpqSmuv/76qKqqiiuuuCKmTZsW1dXV\n",
       "scsuu8TSpUv9pQ4AEBE5/7XO1KlTY+rUqZ/b3rNnz7jvvvvyfGkAoI3yDbEAQFLECQCQFHECACRF\n",
       "nAAASREnAEBSxAkAkBRxAgAkRZwAAEkRJwBAUsQJAJAUcQIAJEWcAABJEScAQFLECQCQFHECACRF\n",
       "nAAASREnAEBSxAkAkBRxAgAkRZwAAEkRJwBAUsQJAJAUcQIAJEWcAABJEScAQFLECQCQFHECACRF\n",
       "nAAASREnAEBSxAkAkBRxAgAkRZwAAEkRJwBAUsQJAJAUcQIAJEWcAABJEScAQFLECQCQFHECACRF\n",
       "nAAASREnAEBSxAkAkBRxAgAkRZwAAEkRJwBAUsQJAJAUcQIAJEWcAABJEScAQFLECQCQFHECACRF\n",
       "nAAASREnAEBSxAkAkBRxAgAkRZwAAEkRJwBAUsQJAJAUcQIAJEWcAABJEScAQFLECQCQFHECACRF\n",
       "nAAASREnAEBSxAkAkBRxAgAkRZwAAEkRJwBAUnKNk/r6+jj77LOjuro6hg4dGieffHJERLz22msx\n",
       "bty46N+/f4wePTpefPHFPMcAANqQijx3Pnv27CgUCvHqq69GoVCITZs2RUTEzJkzY8aMGTF9+vS4\n",
       "9dZbY/r06bFq1ao8RwEA2ojc4uTDDz+MxYsXx5tvvhmFQiEiInr16hWbN2+O1atXx3333RcRESec\n",
       "cEKcffbZsWbNmjjggAPyGgcAaCNyi5O1a9fGHnvsEZdddlncf//90blz55gzZ05069YtevfuHRUV\n",
       "n7x0oVCIqqqqqK2t3W6c1NfXR319fYttjY2NeY0NAJRZbuecNDQ0xPr162PQoEGxevXquPbaa+O7\n",
       "3/1uNDQ0FLWfefPmRdeuXVvcnnzyyZymBgDKLbc4qaqqig4dOsT3vve9iIg46KCDYt99943169fH\n",
       "xo0bmyMly7Kora2Nqqqq7e7nwgsvjC1btrS4jRkzJq+xAYAyyy1OevToEYcddljce++9ERGxbt26\n",
       "WLduXRx88MExcuTIWLp0aURELF++PPr27ftvzzeprKyMLl26tLh17Ngxr7EBgDLL9a915s+fH6ed\n",
       "dlpccMEF0aFDh1iwYEH06dMnFixYENOnT4/LLrssunTpEkuWLMlzDACgDck1Tvbbb79YuXLl57YP\n",
       "GDAgHnvssTxfGgBoo3xDLACQFHECACRFnAAASREnAEBSxAkAkBRxAgAkRZwAAEkRJwBAUsQJAJAU\n",
       "cQIAJEWcAABJEScAQFLECQCQFHECACRFnAAASREnAEBSxAkAkBRxAgAkRZwAAEkpOk7uvffePOYA\n",
       "AIiInYiTSy65JAYMGBDXXHNN1NXV5TETANCOFR0nf/3rX+Omm26KF154Ifr37x8/+tGP4qWXXspj\n",
       "NgCgHdqpc04OOuigWLRoUdxzzz1x1113xbBhw+KII46I559/vtTzAQDtzE7Fyf333x/HHXdcTJky\n",
       "Jc4666zYtGlTzJw5M44//vhSzwcAtDMVxT7hwAMPjB49esQ555wTU6ZMiY4dO0ZExLe//e1YvHhx\n",
       "yQcEANqXouNk6dKlMWrUqO3e9+c///kLDwQAtG9Ff6zz1FNPxXvvvdf887vvvhuLFi0q6VAAQPtV\n",
       "dJzccMMNscceezT/3L1797jhhhtKOhQA0H4VHSdZln1uW2NjY0mGAQAoOk569+4dy5Yta/755ptv\n",
       "jt69e5d0KACg/Sr6hNirr746jjvuuPjZz34WERG77rpr3HHHHSUfDABon4qOk4EDB8ZLL70Ur7zy\n",
       "SkREDBgwoPnPiQEAvqii4yQiolAoRLdu3aKhoSE2bNgQERFVVVUlHQwAaJ+KjpPf/e53cc4550Sn\n",
       "Tp2iQ4dPTlkpFAqxefPmkg8HALQ/RcfJL3/5y1i1alUMGDAgj3kAgHau6L/W6dGjhzABAHJTdJxM\n",
       "njw5rr766ti8eXPU1dU13wAASqHoj3UuuuiiiIiYNWtWFAqFyLIsCoWCL2IDAEqi6DhpamrKYw4A\n",
       "gIjYiY91Ij65+N8f/vCHiIh4//33Y+PGjSUdCgBov3bqwn+nnnpqzJkzJyI+uSrxSSedVOq5AIB2\n",
       "qug4WbhwYTz++OPRpUuXiIjYf//945133in5YABA+1R0nFRWVkbnzp1bbKuo2KkvmgUA+Jyi42TP\n",
       "PfeMV199NQqFQkR88o2xvroeACiVnboq8dSpU+Pll1+OvffeO7p06RJ33XVXHrMBAO1Q0XFywAEH\n",
       "xBNPPBGvvPJKZFnmqsQAQEkVHSe1tbUREbHbbrtFRLgqMQBQUkXHyahRo5q/GXbr1q3xz3/+M7p3\n",
       "7+6qxABASRQdJ//6Z8MrVqyIZ599tmQDAQDt2059Q+xnTZkyJe6+++5SzAIAUPw7J5+9AnFjY2M8\n",
       "8cQTrkoMAJRM0XHSrVu35nNOOnbsGNXV1XHttdfmMRsA0A65KjEAkJQvfM4JAEApFf3OSYcOHZq/\n",
       "uv6zsiyLQqEQjY2NJRkMAGifio6TSy65JD766KM488wzIyJi/vz50blz5zj33HNLPRsA0A4VHSe3\n",
       "3XZbPPXUU80/X3rppTFq1Ki46KKLSjoYANA+FX3OyQcffNDi22A3b94cH3zwQUmHAgDar6LfOTn/\n",
       "/PNj+PDhcfTRR0dExD333BNz5swp9VwAQDtVdJzMnDkzDj744Fi5cmVERMyaNSsGDx5c8sEAgPap\n",
       "6DiJiOjevXsMHTo0JkyYEA0NDfHxxx/HLrvsUurZAIB2qOhzTm699dYYO3Zs/OAHP4iIiBdffDEm\n",
       "T55c6rkAgHaq6DiZN29ePP3009GtW7eIiBg+fHisX7++1HMBAO1U0XHSsWPH6N69e4ttPtIBAEql\n",
       "6DjZfffd4+23327+ltgHHngg9thjj5IPBgC0T0WfEHvFFVfEUUcdFa+//noccsghsW7durj77rvz\n",
       "mA0AaIeKipOmpqZobGyMlStXxqOPPhpZlsW4ceOazz8BAPiiioqTDh06xIwZM+LZZ5+No446Kq+Z\n",
       "AIB2rOhzTqqrq2PNmjV5zAIAUHycvPfeezFixIg48sgjY8qUKc23/2TJkiVRKBTi9ttvj4hPrscz\n",
       "adKkqK6ujiFDhsTDDz+8U8MDAF8+O/yxzowZM2LhwoVxyimnxLHHHhtf+9rXduh5NTU1sWjRohg7\n",
       "dmzzttmzZ8fYsWPjnnvuiVWrVsXxxx8f69ati06dOhV/BADAl8oOx8nq1asjIuKUU06JkSNHxtNP\n",
       "P/1fn9PU1BSnn356XHfddXH++ec3b1+2bFnzR0OjR4+OvfbaKx566KE4/PDDi50fAPiS2alr62RZ\n",
       "tkOPu+qqq+Lggw+OUaNGNW979913Y9u2bdGrV6/mbf369Yva2trt7qO+vj7q6+tbbGtsbNyJqQGA\n",
       "tmCH4+Sjjz6K559/PrIsi61btzb/96eGDRvW4vEvvPBCLF++/AufTzJv3ryYO3dui22f/YgIAPhy\n",
       "KSpOjj322OafP/vfhUIhXn/99RaPf+SRR6Kmpiaqq6sjImLTpk0xY8aMmDt3blRUVMSmTZua3z2p\n",
       "qamJqqqq7b7uhRdeGLNmzWqx7Re/+MWOjg0AtDE7HCc1NTVF7fjMM8+MM888s/nnCRMmxLnnnhuT\n",
       "J0+OJ554IubPnx9z5syJVatWxYYNG2L8+PHb3U9lZWVUVla22NaxY8eiZgEA2o6dOufki7riiiti\n",
       "2rRpUV1dHbvsskssXbrUX+oAABHRinHy4IMPNv93z54947777mutlwYA2pCiv4QNACBP4gQASIo4\n",
       "AQCSIk4AgKSIEwAgKeIEAEiKOAEAkiJOAICkiBMAICniBABIijgBAJIiTgCApIgTACAp4gQASIo4\n",
       "AQCSIk4AgKSIEwAgKeIEAEiKOAEAkiJOAICkiBMAICniBABIijgBAJIiTgCApIgTACAp4gQASIo4\n",
       "AQCSIk4AgKSIEwAgKeIEAEiKOAEAkiJOAICkiBMAICniBABIijgBAJIiTgCApIgTACAp4gQASIo4\n",
       "AQCSIk4AgKSIEwAgKeIEAEiKOAEAkiJOAICkiBMAICniBABIijgBAJIiTgCApIgTACAp4gQASIo4\n",
       "AQCSIk4AgKSIEwAgKeIEAEiKOAEAkiJOAICkiBMAICniBABIijgBAJIiTgCApIgTACAp4gQASIo4\n",
       "AQCSIk4AgKSIEwAgKeIEAEiKOAEAkiJOAICkiBMAICniBABISm5xsnXr1pg8eXL0798/hg8fHkcc\n",
       "cUSsWbMmIiI2b94ckyZNiurq6hgyZEg8/PDDeY0BALQxub5zMmPGjHjllVfi2WefjeOOOy5OP/30\n",
       "iIiYPXt2jB07Nl577bVYsmRJnHTSSbFt27Y8RwEA2ojc4uQrX/lKHH300VEoFCIiYuzYsVFTUxMR\n",
       "EcuWLYszzjgjIiJGjx4de+21Vzz00EPb3U99fX3U1dW1uDU2NuY1NgBQZq12zsk111wTxx13XLz7\n",
       "7ruxbdu26NWrV/N9/fr1i9ra2u0+b968edG1a9cWtyeffLK1xgYAWlmrxMlll10Wa9asiXnz5hX9\n",
       "3AsvvDC2bNnS4jZmzJgcpgQAUlCR9wv86le/ihUrVsT9998fu+66a+y6665RUVERmzZtan73pKam\n",
       "Jqqqqrb7/MrKyqisrGyxrWPHjnmPDQCUSa7vnFx11VXxxz/+Mf7yl79Et27dmrefeOKJMX/+/IiI\n",
       "WLVqVWzYsCHGjx+f5ygAQBuR2zsnb775Zpx//vmx3377xcSJEyPik3dBnnjiibjiiiti2rRpUV1d\n",
       "HbvsskssXbo0OnXqlNcoAEAbkluc9O3bN7Is2+59PXv2jPvuuy+vlwYA2jDfEAsAJEWcAABJEScA\n",
       "QFLECQCQFHECACRFnAAASREnAEBSxAkAkBRxAgAkRZwAAEkRJwBAUsQJAJAUcQIAJEWcAABJEScA\n",
       "QFLECQCQFHECACRFnAAASREnAEBSxAkAkBRxAgAkRZwAAEkRJwBAUsQJAJAUcQIAJEWcAABJEScA\n",
       "QFLECQCQFHECACRFnAAASREnAEBSxAkAkBRxAgAkRZwAAEkRJwBAUsQJAJAUcQIAJEWcAABJEScA\n",
       "QFLECQCQFHECACRFnAAASREnAEBSxAkAkBRxAgAkRZwAAEkRJwBAUsQJAJAUcQIAJEWcAABJEScA\n",
       "QFLECQCQFHECACRFnAAASREnAEBSxAkAkBRxAgAkRZwAAEkRJwBAUsQJAJAUcQIAJEWcAABJEScA\n",
       "QFLECQCQFHECACRFnAAASREnAEBSxAkAkBRxAgAkpWxx8tprr8W4ceOif//+MXr06HjxxRfLNQoA\n",
       "kJCyxcnMmTNjxowZ8eqrr8YFF1wQ06dPL9coAEBCyhInmzdvjtWrV8fJJ58cEREnnHBCvPHGG7Fm\n",
       "zZrPPba+vj7q6upa3BobG1t7ZACglVSU40XfeOON6N27d1RUfPLyhUIhqqqqora2Ng444IAWj503\n",
       "b17MnTu3xbaBAwfGrFmzSj5XY2Nj9H7yyRgzZkx07NixpPueNeuBku6vLWtsbIwnc1pn/j/r3Dqs\n",
       "c+ux1i1NyWm/jY2N8T//c2ku67zPPvvEj3/84//6uEKWZVlJX3kHPPXUU3HSSSfFK6+80rxtzJgx\n",
       "cfnll8ehhx7a4rH19fVRX1/fYltlZWVUVlaWfK66urro2rVrbNmyJbp06VLy/fMJ69w6rHPrsM6t\n",
       "x1q3jhTWuSzvnOy9996xcePGaGhoiIqKisiyLGpra6Oqqupzj80rRACANJXlnJOvf/3rMXLkyFi6\n",
       "dGlERCxfvjz69u37uY90AID2pyzvnERELFiwIKZPnx6XXXZZdOnSJZYsWVKuUQCAhJQtTgYMGBCP\n",
       "PfZYuV5+uyorK+Piiy/2MVLOrHPrsM6twzq3HmvdOlJY57KcEAsA8O/4+noAICniBABIijgBAJIi\n",
       "TgCApLTpONnRKxsvXrw4qqurY//9948f/vCHsW3bttzue/DBB6Nz584xYsSI5ttHH32U0wq0jhTX\n",
       "OSLi+eefjwkTJsSBBx4YBx54YKxYsSKHo289Ka7zkiVLWvy/3KNHj5gyJa8vzW4dKa5zU1NTzJo1\n",
       "KwYNGhTDhg2LiRMnbvdaY21Jquv8k5/8JIYMGRIDBw6M0047LT7++OOcVqD1lGuta2pqYsKECdG1\n",
       "a9cYMWJEUa/3X2Vt2MSJE7MlS5ZkWZZlt9xyS/aNb3zjc495/fXXs969e2cbN27MmpqasmOOOSa7\n",
       "/vrrc7tv5cqV2fDhw/M/+FaU4jp/+OGH2b777ps98sgjWZZlWUNDQ7Z58+a8lyJXKa7zvxo8eHB2\n",
       "66235nD0rSfFdb7tttuyMWPGZB9//HGWZVn2y1/+MjvxxBPzXopcpbjOCxcuzCZOnJjV19dnTU1N\n",
       "2emnn55deeWVrbAa+SrXWr/77rvZI488kt11112f+71XzL8r29Nm4+Ttt9/Odt9992zbtm1ZlmVZ\n",
       "U1NT1rNnz+y1115r8bgrr7wymzlzZvPPd999d3bwwQfndt+XLU5SXedFixZlU6dOLeWhllWq6/xZ\n",
       "jz/+eLbnnns2/wJti1Jd59tvvz0bPnx4VldXlzU1NWU//elPs/POO6+Uh96qUl3ns846K/u///u/\n",
       "5vuWL1+eDR06tCTHXC7lXOtPbe/33o7+u/LvtNmPdf7TlY0/q7a2NvbZZ5/mn/v169f8mDzui4hY\n",
       "u3ZtjBw5MkaPHh033HBDqQ65LFJd55deeikqKyvjW9/6VowYMSK+//3vxzvvvFPKQ29Vqa7zZy1e\n",
       "vDimTZsWnTp1+qKHWzaprvMxxxwTEyZMiF69ekXv3r3jgQceiEsuuaSUh96qUl3nUaNGxZ133hl1\n",
       "dXWxbdu2WLZsWdTU1JTwyFtfOdf6P9nZ532qzcZJqkaOHBlvvvlmPP3003HbbbfF/PnzY9myZeUe\n",
       "60unoaEh7r///liwYEE888wz0adPnzjzzDPLPdaX1ocffhg33XRTnHbaaeUe5Utp9erV8cILL8SG\n",
       "DRvirbfeisMOOyzOOOOMco/1pTN9+vSYNGlSjB8/PsaPHx/9+/dv/qVOWtpsnHz2ysYR8W+vbFxV\n",
       "VRXr169v/rmmpqb5MXnc16VLl+jatWtERPTt2zemTp0ajzzySMmOu7Wlus5VVVUxceLE6NOnTxQK\n",
       "hTj55JPj8ccfL+Wht6pU1/lTt9xySwwePDgGDRpUisMtm1TX+cYbb4xDDz00unXrFh06dIhTTjkl\n",
       "Vq5cWcpDb1WprnOhUIg5c+bEM888E48++mgMGjQoBg8eXMpDb3XlXOv/ZGef12yHPwBK0Pjx41uc\n",
       "BDRq1KjPPWbt2rWfOynnuuuuy+2+t956K2tsbMyyLMvq6uqycePGZYsXL857KXKV4jqvX78+Gzhw\n",
       "YLZly5Ysyz75fPPoo4/OeylyleI6f+qQQw7JFi1alOPRt54U1/nXv/51dthhh2X19fVZlmXZ5Zdf\n",
       "nh155JF5L0WuUlznjz76KHvvvfeyLMuyd955Jxs+fHh255135r0UuSvXWn9qe+ec7Mjz/pM2HScv\n",
       "v/xyNnbs2Ky6ujobNWpU9txzz2VZlmWnnXZadscddzQ/buHChdl+++2X7bffftmpp57a4oS+Ut93\n",
       "3XXXZYMGDcqGDRuWDRo0KLv44ouzpqamvJciVymuc5Zl2Y033pgNHjw4Gzp0aDZp0qSstrY2z2XI\n",
       "Xarr/PLLL2df/epXs7q6ujwPv9WkuM5bt27NTj/99GzgwIHZ0KFDsyOOOCJbu3Zt3kuRqxTXedOm\n",
       "TdnAgQOzQYMGZQMHDsx++9vf5r0MraJca/3hhx9mffr0yXr06JF16tQp69OnTzZ79uwd2ud/48J/\n",
       "AEBS2uw5JwDAl5M4AQCSIk4AgKSIEwAgKeIEAEiKOAEAkiJOAICkiBMAICniBABIijgBAJLy/wA6\n",
       "/v7vFL9G9gAAAABJRU5ErkJggg==\n",
       "\">\n",
       "      </div>\n",
       "      <script type=\"text/javascript\">\n",
       "        (() => {\n",
       "          const chartElement = document.getElementById(\"chart-b1ea14fa-df1f-469b-af43-cbe8392c8e19\");\n",
       "          async function getCodeForChartHandler(event) {\n",
       "            const chartCodeResponse =  await google.colab.kernel.invokeFunction(\n",
       "                'getCodeForChart', [\"chart-b1ea14fa-df1f-469b-af43-cbe8392c8e19\"], {});\n",
       "            const responseJson = chartCodeResponse.data['application/json'];\n",
       "            await google.colab.notebook.addCell(responseJson.code, 'code');\n",
       "          }\n",
       "          chartElement.onclick = getCodeForChartHandler;\n",
       "        })();\n",
       "      </script>\n",
       "      <style>\n",
       "        .colab-quickchart-chart-with-code  {\n",
       "            display: block;\n",
       "            float: left;\n",
       "            border: 1px solid transparent;\n",
       "        }\n",
       "\n",
       "        .colab-quickchart-chart-with-code:hover {\n",
       "            cursor: pointer;\n",
       "            border: 1px solid #aaa;\n",
       "        }\n",
       "      </style>"
      ],
      "text/plain": [
       "from matplotlib import pyplot as plt\n",
       "df_grid_search['lr'].plot(kind='hist', bins=20, title='lr')\n",
       "plt.gca().spines[['top', 'right',]].set_visible(False)"
      ]
     },
     "metadata": {},
     "output_type": "display_data"
    },
    {
     "data": {
      "text/html": [
       "<h4 class=\"colab-quickchart-section-title\">2-d distributions</h4>\n",
       "<style>\n",
       "  .colab-quickchart-section-title {\n",
       "      clear: both;\n",
       "  }\n",
       "</style>"
      ],
      "text/plain": [
       "<google.colab._quickchart_helpers.SectionTitle at 0x7f38192331d0>"
      ]
     },
     "metadata": {},
     "output_type": "display_data"
    },
    {
     "data": {
      "text/html": [
       "      <div class=\"colab-quickchart-chart-with-code\" id=\"chart-862e192a-cdcb-447c-9c9f-b44de0bc7dd4\">\n",
       "        <img style=\"width: 180px;\" src=\"data:image/png;base64,iVBORw0KGgoAAAANSUhEUgAAAjEAAAGkCAYAAADALHSZAAAAOnRFWHRTb2Z0d2FyZQBNYXRwbG90\n",
       "bGliIHZlcnNpb24zLjEwLjAsIGh0dHBzOi8vbWF0cGxvdGxpYi5vcmcvlHJYcgAAAAlwSFlzAAAP\n",
       "YQAAD2EBqD+naQAAJbpJREFUeJzt3X1wVOX9/vFr2dSAJQkgRKLJkkKIAkJ2F5Ni9GurVpu2Gh3S\n",
       "B9pSm9aQKNMpbWpBRmkHn0KnEqt2kCAYH2LxgUSaYmnVIm0YpSFilEZrEmTZRRJja02IpYGE8/uD\n",
       "cX8uECSQk7M3+37NnBlz9t79XGfZWa85e5J1WZZlCQAAwDDDnA4AAABwMigxAADASJQYAABgJEoM\n",
       "AAAwEiUGAAAYiRIDAACMRIkBAABGosQAAAAjnfYl5r777nM6AgAAsMFpX2J2797tdAQAAGCD077E\n",
       "AACA0xMlBgAAGIkSAwAAjESJAQAARqLEAAAAI1FiAACAkSgxAADASJQYAABgJEoMAAAwEiUGAAAY\n",
       "iRJzEkIfdOv5N9sV+qA7ZjMwP7bnR0MG5sf2/GjIwHznXwNxjk020MY32vTzdY3qPnAovC8h3q3l\n",
       "3/LqqqnjYyID82N7fjRkYH5sz4+GDMx3/jXwMVvPxLS0tCg3N1eZmZnKzs5WU1PTUWs2b96sESNG\n",
       "yOv1hrf9+/eHb1+zZo0mT56sSZMmad68eTp48KCdkfu18Y023fS77RH/aJK0r6dPxY+9quffbD/t\n",
       "MzA/tudHQwbmx/b8aMjAfOdfA59ka4kpKSlRcXGxmpubtWjRIhUWFh5z3XnnnafGxsbwNmLECEnS\n",
       "rl27tGTJEtXV1am1tVXvvfeeVq1aZWfkfv18XeNxb//ZU8e//XTIwPzYnh8NGZgf2/OjIQPznZ1/\n",
       "JNtKTEdHhxoaGjR37lxJUkFBgUKhkFpbW0/4MdatW6f8/HyNHz9eLpdLN954o9auXdvv+p6eHnV1\n",
       "dUVsfX19p3wsoQ+6j2qdR9rX02fr54JOZ2B+bM+PhgzMj+350ZCB+c6/Bo5kW4kJhUJKSUlRXNzh\n",
       "y25cLpc8Ho+CweBRa3fu3Cm/36/s7GytWLEivD8YDGrChAnhn9PT0495/4+VlZUpKSkpYquvrz/l\n",
       "Y3mr/cT+QU50nYkZmB/b86MhA/Nje340ZGC+86+BIzn+20l+v1979uzR9u3b9eyzz2rlypV6+umn\n",
       "T+qxFi9erM7OzogtJyfnlDNOGT9yUNeZmIH5sT0/GjIwP7bnR0MG5jv/GjiSbSUmLS1NbW1t6u3t\n",
       "lSRZlqVgMCiPxxOxLjExUUlJSZKk1NRUffvb31ZdXZ0kyePxaPfu3eG1gUDgqPt/Unx8vBITEyM2\n",
       "t9t96scyZqRGnnH8pyoh3q20Mfb9wzmdgfmxPT8aMjA/tudHQwbmO/8aOJJtJSY5OVl+v19VVVWS\n",
       "pOrqaqWmpiojIyNiXVtbmw4dOvwZ2759+7Rhwwb5fD5Jh6+jqa2tVXt7uyzL0sqVKzVnzhy7Ih9X\n",
       "+RzfcW9f/i3vaZ+B+bE9PxoyMD+250dDBuY7/xr4JFs/TqqoqFBFRYUyMzO1bNkyVVZWSpKKiopU\n",
       "W1sr6XC5mT59urKysjRr1ixdeeWV+sEPfiBJmjhxopYuXaqLL75YGRkZGjdunEpKSuyM3K+rpo7X\n",
       "qutnKiE+8sxOQrxbq66fOSS/G+90BubH9vxoyMD82J4fDRmY7/xr4JNclmVZQzpxiJWWlqq8vHxQ\n",
       "HzP0Qbfeau/WlPEjh/S0WTRlYH5sz4+GDMyP7fnRkIH5zr8GKDEAAMBIjv92EgAAwMmgxAAAACNR\n",
       "YgAAgJEoMQAAwEiUGAAAYCRKDAAAMBIlBgAAGIkSAwAAjESJAQAARqLEAAAAI1FiAACAkSgxAADA\n",
       "SJQYAABgJEoMAAAwEiUGAAAYiRIDAACMRIkBAABGosQAAAAjUWIAAICRKDEAAMBIlBgAAGAkSgwA\n",
       "ADASJQYAABiJEgMAAIxEiQEAAEaixAAAACNRYgAAgJEoMQAAwEiUGAAAYCRKDAAAMBIlBgAAGIkS\n",
       "AwAAjESJAQAARqLEAAAAI1FiAACAkSgxAADASJQYAABgJEoMAAAwEiUGAAAYiRIDAACMRIkBAABG\n",
       "osQAAAAjUWIAAICRKDEAAMBIlBgAAGAkSgwAADCSrSWmpaVFubm5yszMVHZ2tpqamvpda1mWLr/8\n",
       "co0aNSq8LxAIyO12y+v1hredO3faGRkAABgizs4HLykpUXFxsQoLC7Vu3ToVFhZq27Ztx1x77733\n",
       "atKkSdq+fXvE/oSEBDU2NtoZEwAAGMi2MzEdHR1qaGjQ3LlzJUkFBQUKhUJqbW09am1TU5PWr1+v\n",
       "W2655ZRm9vT0qKurK2Lr6+s7pccEAADRybYSEwqFlJKSori4wyd7XC6XPB6PgsFgxLqDBw9q3rx5\n",
       "qqiokNvtPupxPvroI2VnZ8vv9+v2228/bikpKytTUlJSxFZfXz+4BwYAAKKC4xf2Ll26VLNnz9aU\n",
       "KVOOui0lJUXvvvuutm3bphdffFF1dXVavnx5v4+1ePFidXZ2Rmw5OTl2xgcAAA6xrcSkpaWpra1N\n",
       "vb29kg5fuBsMBuXxeCLW/fWvf9UDDzyg9PR0XXLJJerq6lJ6erref/99xcfHKzk5WZI0ZswY/fCH\n",
       "P1RdXV2/M+Pj45WYmBixHevsDgAAMJ9tJSY5OVl+v19VVVWSpOrqaqWmpiojIyNiXV1dnXbv3q1A\n",
       "IKAtW7YoMTFRgUBA48aNU0dHhw4ePCjp8PUuNTU18vl8dkUGAAAGsfXjpIqKClVUVCgzM1PLli1T\n",
       "ZWWlJKmoqEi1tbWfev8tW7bI5/MpKytLfr9f48eP16233mpnZAAAYAiXZVmW0yHsVFpaqvLycqdj\n",
       "AACAQeb4hb0AAAAngxIDAACMRIkBAABGosQAAAAjUWIAAICRKDEAAMBIlBgAAGAkSgwAADASJQYA\n",
       "ABiJEgMAAIxEiQEAAEaixAAAACNRYgAAgJEoMQAAwEiUGAAAYCRKDAAAMBIlBgAAGIkSAwAAjESJ\n",
       "AQAARqLEAAAAI1FiAACAkSgxAADASJQYAABgJEoMAAAwEiUGAAAYiRIDAACMRIkBAABGosQAAAAj\n",
       "UWIAAICRKDEAAMBIlBgAAGAkSgwAADASJQYAABiJEgMAAIxEiQEAAEaixAAAACNRYgAAgJEoMQAA\n",
       "wEiUGAAAYCRKDAAAMBIlBgAAGIkSAwAAjESJAQAARqLEAAAAI1FiAACAkSgxAADASJQYAABgJFtL\n",
       "TEtLi3Jzc5WZmans7Gw1NTX1u9ayLF1++eUaNWpUxP4NGzbo/PPP1+TJkzV79mx1dXXZGRkAABjC\n",
       "1hJTUlKi4uJiNTc3a9GiRSosLOx37b333qtJkyZF7Ovu7tYNN9yg9evXq6WlReecc47uuOMOOyMD\n",
       "AABD2FZiOjo61NDQoLlz50qSCgoKFAqF1NraetTapqYmrV+/XrfcckvE/o0bN8rn8+n888+XJM2f\n",
       "P19r167td2ZPT4+6uroitr6+vkE8KgAAEC1sKzGhUEgpKSmKi4uTJLlcLnk8HgWDwYh1Bw8e1Lx5\n",
       "81RRUSG32x1xWzAY1IQJE8I/p6enq62tTb29vcecWVZWpqSkpIitvr5+kI8MAABEA8cv7F26dKlm\n",
       "z56tKVOmnPJjLV68WJ2dnRFbTk7OIKQEAADRJs6uB05LSwufNYmLi5NlWQoGg/J4PBHr/vrXvyoY\n",
       "DOq3v/2tent71dXVpfT0dG3btk0ej0cvvPBCeG0gEIg4u3Ok+Ph4xcfHR+w78uwOAAA4Pdh2JiY5\n",
       "OVl+v19VVVWSpOrqaqWmpiojIyNiXV1dnXbv3q1AIKAtW7YoMTFRgUBA48aNU15enrZv365//vOf\n",
       "kqQVK1Zozpw5dkUGAAAGsfXjpIqKClVUVCgzM1PLli1TZWWlJKmoqEi1tbWfev+EhAStXr1a1113\n",
       "nTIyMrRnzx4tWbLEzsgAAMAQLsuyLKdD2Km0tFTl5eVOxwAAAIPM8Qt7AQAATgYlBgAAGIkSAwAA\n",
       "jESJAQAARqLEAAAAI1FiAACAkSgxAADASJQYAABgJEoMAAAwEiUGAAAYiRIDAACMRIkBAABGosQA\n",
       "AAAjUWIAAICRKDEAAMBIlBgAAGAkSgwAADASJQYAABiJEgMAAIxEiQEAAEaixAAAACNRYgAAgJEo\n",
       "MQAAwEiUGAAAYCRKDAAAMBIlBgAAGIkSAwAAjESJAQAARqLEAAAAI1FiAACAkSgxAADASAMuMW+8\n",
       "8cYJ7QMAALDTgEtMYWHhCe0DAACwU9yJLuzo6FB7e7v279+vHTt2yLIsSVJnZ6c++ugj2wICAAAc\n",
       "ywmXmLVr1+o3v/mN9u7dq/z8/PD+pKQkLVy40JZwAAAA/TnhErNgwQItWLBAd9xxh5YsWWJnJgAA\n",
       "gE91wiXmY9///vcVDAaP2u/xeAYlEAAAwIkYcImZOXOmXC6XLMvS//73P/33v//VWWedpY6ODjvy\n",
       "AQAAHNOAS8z7778f8XNNTY1ef/31QQsEAABwIk75j93Nnj1bzz333GBkAQAAOGEDPhPT1dUV/u++\n",
       "vj79/e9/j9gHAAAwFAZcYkaNGhW+Jsbtdmvy5Mm6//777cgGAADQrwGXmEOHDtmRAwAAYEAGXGIk\n",
       "KRQKqa6uTpL0hS98Qeeee+6ghgIAAPg0A76w9/e//718Pp+efvppPfPMM/L5fPrDH/5gRzYAAIB+\n",
       "DfhMzNKlS7V161ZlZGRIklpbW/XNb35T11xzzaCHAwAA6M+Az8T09fWFC4wkZWRkcJ0MAAAYcgMu\n",
       "McnJyVq9erUOHTqkQ4cOac2aNRo3btwx17a0tCg3N1eZmZnKzs5WU1PTUWteeeUVeb1eeb1eTZs2\n",
       "TSUlJerp6ZEkbd68WSNGjAjf7vV6tX///oFGBgAAp6EBl5iVK1dq9erVGj58uEaMGKHVq1eroqLi\n",
       "mGtLSkpUXFys5uZmLVq0SIWFhUetycrK0rZt29TY2KgdO3aoo6NDK1asCN9+3nnnqbGxMbyNGDFi\n",
       "oJEBAMBpaMDXxEyaNElbt25Vd3e3JGnkyJHHXNfR0aGGhgY9//zzkqSCggL96Ec/Umtra8THUWee\n",
       "eWb4vw8cOKD9+/fL5XINNJYkqaenJ3wW52N9fX0n9VgAACC6ndTXDjz55JP6yU9+op/+9Kd6+umn\n",
       "j7kmFAopJSVFcXGHe5LL5ZLH4znmN2AHAgFlZWVp7NixSkpK0vz588O37dy5U36/X9nZ2RFnaI6l\n",
       "rKxMSUlJEVt9ff3JHCIAAIhyAy4xN998s5YvX67p06frggsu0PLly7Vw4cJTCpGenq7XX39d7e3t\n",
       "6unpUU1NjSTJ7/drz5492r59u5599lmtXLmy39IkSYsXL1ZnZ2fElpOTc0rZAABAdBpwiamtrdXf\n",
       "/vY3LViwQAsWLNDmzZu1fv36o9alpaWpra1Nvb29kiTLshQMBuXxePp97JEjR2rOnDl64oknJEmJ\n",
       "iYlKSkqSJKWmpurb3/52+I/sHUt8fLwSExMjNrfbPdBDBAAABhhwiRk1apTi4+PDP3/mM5/R6NGj\n",
       "j1qXnJwsv9+vqqoqSVJ1dbVSU1MjroeRDv+dmYMHD0o6fE3Ms88+qxkzZkiS2trawr++vW/fPm3Y\n",
       "sEE+n2+gkQEAwGlowBf2zpo1S1/+8pd1/fXXS5Kqqqp00UUXqba2VpKUn58fXltRUaHCwkLdfffd\n",
       "SkxMVGVlpSSpqKhI+fn5ys/P16ZNm3T//ffL7Xart7dXV1xxhZYsWSLpcPF58MEHFRcXp97eXn3j\n",
       "G9/QD37wg1M+aAAAYD6XZVnWQO5w2WWX9f9gLpc2bdp0yqEGU2lpqcrLy52OAQAABtmAz8S89NJL\n",
       "duQAAAAYkJP6FutnnnlGL7zwgiTpy1/+sgoKCgY1FAAAwKcZ8IW9t99+u8rKyjR16lRNmzZNZWVl\n",
       "uvPOO+3IBgAA0K8Bn4lZt26dtm7dGv5Lu0VFRbrooot02223DXo4AACA/gz4TIxlWRFfFfDZz35W\n",
       "A7w2GAAA4JQN+ExMdna2vve972nevHmSpDVr1vBXcQEAwJAb8JmYBx54QOeee65KS0tVWlqqlJQU\n",
       "3X///XZkAwAA6NeAzsT09fXpxhtv1OOPP25XHgAAgBMyoDMxbrdbzc3NdmUBAAA4YQO+Juayyy5T\n",
       "cXGxCgsLNXLkyPD+j7/vCAAAYCgMuMQ89dRTkhT+Y3fS4a8beOeddwYvFQAAwKc44RITDAYlSZs3\n",
       "b5bL5Qrvtywr4mcAAIChcMIlZubMmeGy8u9//1tnnHGGJOnAgQMaO3as3nvvPXsSAgAAHMMJl5j3\n",
       "339fkrRo0SJlZGTohhtukCQ9/PDD2rlzpz3pAAAA+jHgvxPz5z//WfPmzdOwYcM0bNgwFRUV6U9/\n",
       "+pMd2QAAAPo14BJz4MABvf322+Gfm5ub1dPTM6ihAAAAPs2Afztp2bJluvjii5WVlSVJeuONN/Tw\n",
       "ww8PejAAAIDjGXCJyc/P11tvvaWtW7dKki666CKNHTt20IMBAAAcz4BLjCSNGzdO11xzzWBnAQAA\n",
       "OGEDviYGAAAgGlBiAACAkSgxAADASJQYAABgJEoMAAAwEiUGAAAYiRIDAACMRIkBAABGosQAAAAj\n",
       "UWIAAICRKDEAAMBIlBgAAGAkSgwAADASJQYAABiJEgMAAIxEiQEAAEaixAAAACNRYgAAgJEoMQAA\n",
       "wEiUGAAAYCRKDAAAMBIlBgAAGIkSAwAAjESJAQAARqLEAAAAI1FiAACAkSgxAADASJQYAABgJFtL\n",
       "TEtLi3Jzc5WZmans7Gw1NTUdteaVV16R1+uV1+vVtGnTVFJSop6envDta9as0eTJkzVp0iTNmzdP\n",
       "Bw8etDMyAAAwhK0lpqSkRMXFxWpubtaiRYtUWFh41JqsrCxt27ZNjY2N2rFjhzo6OrRixQpJ0q5d\n",
       "u7RkyRLV1dWptbVV7733nlatWmVnZAAAYAjbSkxHR4caGho0d+5cSVJBQYFCoZBaW1sj1p155pn6\n",
       "zGc+I0k6cOCA9u/fL5fLJUlat26d8vPzNX78eLlcLt14441au3ZtvzN7enrU1dUVsfX19dl0hAAA\n",
       "wEm2lZhQKKSUlBTFxcVJklwulzwej4LB4FFrA4GAsrKyNHbsWCUlJWn+/PmSpGAwqAkTJoTXpaen\n",
       "H/P+HysrK1NSUlLEVl9fP8hHBgAAokFUXNibnp6u119/Xe3t7erp6VFNTc1JPc7ixYvV2dkZseXk\n",
       "5AxyWgAAEA1sKzFpaWlqa2tTb2+vJMmyLAWDQXk8nn7vM3LkSM2ZM0dPPPGEJMnj8Wj37t3h2wOB\n",
       "wHHvHx8fr8TExIjN7XYP0hEBAIBoYluJSU5Olt/vV1VVlSSpurpaqampysjIiFjX2toa/o2jAwcO\n",
       "6Nlnn9WMGTMkHb6Opra2Vu3t7bIsSytXrtScOXPsigwAAAxi68dJFRUVqqioUGZmppYtW6bKykpJ\n",
       "UlFRkWprayVJmzZtks/nU1ZWlnw+n84++2wtWbJEkjRx4kQtXbpUF198sTIyMjRu3DiVlJTYGRkA\n",
       "ABjCZVmW5XQIO5WWlqq8vNzpGAAAYJBFxYW9AAAAA0WJAQAARqLEAAAAI1FiAACAkSgxAADASJQY\n",
       "AABgJEoMAAAwEiUGAAAYiRIDAACMRIkBAABGosQAAAAjUWIAAICRKDEAAMBIlBgAAGAkSgwAADAS\n",
       "JQYAABiJEgMAAIxEiQEAAEaixAAAACNRYgAAgJEoMQAAwEiUGAAAYCRKDAAAMBIlBgAAGIkSAwAA\n",
       "jESJAQAARqLEAAAAI1FiAACAkSgxAADASJQYAABgJEoMAAAwEiUGAAAYiRIDAACMRIkBAABGosQA\n",
       "AAAjUWIAAICRKDEAAMBIlBgAAGAkSgwAADASJQYAABiJEgMAAIxEiQEAAEaixAAAACNRYgAAgJEo\n",
       "MQAAwEiUGAAAYCRKDAAAMJKtJaalpUW5ubnKzMxUdna2mpqajlqzadMm5eTkaOrUqZo2bZoWLlyo\n",
       "Q4cOSZICgYDcbre8Xm9427lzp52RAQCAIWwtMSUlJSouLlZzc7MWLVqkwsLCo9aMHj1aTz75pN58\n",
       "8029+uqrevnll/XYY4+Fb09ISFBjY2N4mzRpkp2RAQCAIWwrMR0dHWpoaNDcuXMlSQUFBQqFQmpt\n",
       "bY1Y5/P5NHHiREnS8OHD5fV6FQgETmpmT0+Purq6Ira+vr5TOg4AABCdbCsxoVBIKSkpiouLkyS5\n",
       "XC55PB4Fg8F+79Pe3q5169bp6quvDu/76KOPlJ2dLb/fr9tvv/24paSsrExJSUkRW319/eAdFAAA\n",
       "iBpRc2FvV1eXrrnmGi1cuFAXXnihJCklJUXvvvuutm3bphdffFF1dXVavnx5v4+xePFidXZ2Rmw5\n",
       "OTlDdQgAAGAI2VZi0tLS1NbWpt7eXkmSZVkKBoPyeDxHrd23b5/y8vJ07bXXqrS0NLw/Pj5eycnJ\n",
       "kqQxY8bohz/8oerq6vqdGR8fr8TExIjN7XYP8pEBAIBoYFuJSU5Olt/vV1VVlSSpurpaqampysjI\n",
       "iFjX3d2tvLw85eXl6bbbbou4raOjQwcPHpR0+HqXmpoa+Xw+uyIDAACD2PpxUkVFhSoqKpSZmall\n",
       "y5apsrJSklRUVKTa2lpJ0n333af6+nrV1NSEf436rrvukiRt2bJFPp9PWVlZ8vv9Gj9+vG699VY7\n",
       "IwMAAEO4LMuynA5hp9LSUpWXlzsdAwAADLKoubAXAABgICgxAADASJQYAABgJEoMAAAwEiUGAAAY\n",
       "iRIDAACMRIkBAABGosQAAAAjUWIAAICRKDEAAMBIlBgAAGAkSgwAADASJQYAABiJEgMAAIxEiQEA\n",
       "AEaixAAAACNRYgAAgJEoMQAAwEiUGAAAYCRKDAAAMBIlBgAAGIkSAwAAjESJAQAARqLEAAAAI1Fi\n",
       "AACAkSgxAADASJQYAABgJEoMAAAwEiUGAAAYiRIDAACMRIkBAABGosQAAAAjUWIAAICRKDEAAMBI\n",
       "lBgAAGAkSgwAADASJQYAABiJEgMAAIxEiQEAAEaixAAAACNRYgAAgJEoMQAAwEiUGAAAYCRKDAAA\n",
       "MBIlBgAAGIkScxJCH3Tr+TfbFfqgO2YzMD+250dDBubH9vxoyMB8518DcY5NNtDGN9r083WN6j5w\n",
       "KLwvId6t5d/y6qqp42MiA/Nje340ZGB+bM+PhgzMd/418DFbz8S0tLQoNzdXmZmZys7OVlNT01Fr\n",
       "Nm3apJycHE2dOlXTpk3TwoULdejQ/39iNmzYoPPPP1+TJ0/W7Nmz1dXVZWfkfm18o003/W57xD+a\n",
       "JO3r6VPxY6/q+TfbT/sMzI/t+dGQgfmxPT8aMjDf+dfAJ9laYkpKSlRcXKzm5mYtWrRIhYWFR60Z\n",
       "PXq0nnzySb355pt69dVX9fLLL+uxxx6TJHV3d+uGG27Q+vXr1dLSonPOOUd33HGHnZH79fN1jce9\n",
       "/WdPHf/20yED82N7fjRkYH5sz4+GDMx3dv6RbCsxHR0damho0Ny5cyVJBQUFCoVCam1tjVjn8/k0\n",
       "ceJESdLw4cPl9XoVCAQkSRs3bpTP59P5558vSZo/f77Wrl3b78yenh51dXVFbH19fad8LKEPuo9q\n",
       "nUfa19Nn6+eCTmdgfmzPj4YMzI/t+dGQgfnOvwaOZFuJCYVCSklJUVzc4ctuXC6XPB6PgsFgv/dp\n",
       "b2/XunXrdPXVV0uSgsGgJkyYEL49PT1dbW1t6u3tPeb9y8rKlJSUFLHV19ef8rG81X5i/yAnus7E\n",
       "DMyP7fnRkIH5sT0/GjIw3/nXwJGi5reTurq6dM0112jhwoW68MILT+oxFi9erM7OzogtJyfnlLNN\n",
       "GT9yUNeZmIH5sT0/GjIwP7bnR0MG5jv/GjiSbSUmLS0t4qyJZVkKBoPyeDxHrd23b5/y8vJ07bXX\n",
       "qrS0NLzf4/Fo9+7d4Z8DgUDE2Z0jxcfHKzExMWJzu92nfixjRmrkGcd/qhLi3UobY98/nNMZmB/b\n",
       "86MhA/Nje340ZGC+86+BI9lWYpKTk+X3+1VVVSVJqq6uVmpqqjIyMiLWdXd3Ky8vT3l5ebrtttsi\n",
       "bsvLy9P27dv1z3/+U5K0YsUKzZkzx67Ix1U+x3fc25d/y3vaZ2B+bM+PhgzMj+350ZCB+c6/Bj7J\n",
       "1o+TKioqVFFRoczMTC1btkyVlZWSpKKiItXW1kqS7rvvPtXX16umpkZer1der1d33XWXJCkhIUGr\n",
       "V6/Wddddp4yMDO3Zs0dLliyxM3K/rpo6Xquun6mE+MgzOwnxbq26fuaQ/G680xmYH9vzoyED82N7\n",
       "fjRkYL7zr4FPclmWZQ3pxCFWWlqq8vLyQX3M0Afdequ9W1PGjxzS02bRlIH5sT0/GjIwP7bnR0MG\n",
       "5jv/GqDEAAAAI0XNbycBAAAMBCUGAAAYiRIDAACMRIkBAABGosQAAAAjUWIAAICRKDEAAMBIlBgA\n",
       "AGAkSgwAADASJQYAABjptP/agdmzZys9Pd3pGIOur69P9fX1ysnJkdvt/vQ7nGY4/tg+fonnINaP\n",
       "X+I5ON2Pf8KECVqwYMFx15z2JeZ01dXVpaSkJHV2dioxMdHpOEOO44/t45d4DmL9+CWeg1g/fomP\n",
       "kwAAgKEoMQAAwEiUGAAAYCRKjKHi4+P1y1/+UvHx8U5HcQTHH9vHL/EcxPrxSzwHsX78Ehf2AgAA\n",
       "Q3EmBgAAGIkSAwAAjESJAQAARqLEGOZ///ufrrvuOmVmZiorK0tXXnmlWltbnY7liMrKSrlcLq1f\n",
       "v97pKEOup6dHP/rRjzR58mRNnz5dc+fOdTrSkPrjH/8ov98vr9erCy64QI8++qjTkWz14x//WOnp\n",
       "6XK5XGpsbAzvb2lpUW5urjIzM5Wdna2mpibnQtrsWM9BLL0f9vca+Fisvh9SYgxUXFyst99+W6+/\n",
       "/rquvfZaFRUVOR1pyAUCAT300EOaNWuW01Ecccstt8jlcqm5uVk7duzQPffc43SkIWNZlubOnatH\n",
       "HnlEjY2N2rBhg0pKSrRv3z6no9nm61//urZs2aIJEyZE7C8pKVFxcbGam5u1aNEiFRYWOhNwCPT3\n",
       "HMTK+2F/xy/F9vshJcYww4cP11e/+lW5XC5J0qxZsxQIBJwNNcQOHTqkoqIiPfDAAzH5q4UfffSR\n",
       "1qxZo7vuuiv8Ohg/frzDqYaWy+XShx9+KOnwn14/66yzTuvXwqWXXqrU1NSIfR0dHWpoaAifhSso\n",
       "KFAoFDptz0Qc6zmIpffDYx2/xPshJcZw9913n6699lqnYwyp8vJyXXzxxZo5c6bTURyxc+dOjRkz\n",
       "RnfffbcuvPBC/d///Z/+8pe/OB1ryLhcLj311FOaPXu2JkyYoEsuuUSPPvqozjjjDKejDalQKKSU\n",
       "lBTFxcVJOvy8eDweBYNBh5M5h/fD2BPndACcvLvvvlutra0x9T+wf/zjH6qurtbf/vY3p6M4pre3\n",
       "V7t379bUqVO1bNkyvfbaa7ryyivV1NSks88+2+l4tuvt7dWdd96pmpoaXXrppdq2bZvy8/O1Y8cO\n",
       "jR071ul4cAjvh7GJMzGGuueee1RTU6ONGzfqzDPPdDrOkKmrq1MgENDkyZOVnp6urVu3qri4WA8+\n",
       "+KDT0YaMx+PRsGHD9N3vfleS5PP59LnPfU47duxwONnQaGxs1N69e3XppZdKkrKzs5WamqrXXnvN\n",
       "4WRDKy0tTW1tbert7ZV0+FqhYDAoj8fjcLKhx/th7L4fUmIMVF5errVr1+qFF17QqFGjnI4zpG66\n",
       "6Sa1tbUpEAgoEAho1qxZWrVqlW666Sanow2ZsWPH6oorrtCf//xnSdKuXbu0a9cuTZkyxeFkQ+Pj\n",
       "/3m/9dZbkqTW1lbt3LlT5513nsPJhlZycrL8fr+qqqokSdXV1UpNTVVGRobDyYYW74ex/X7I1w4Y\n",
       "Zs+ePUpLS9PEiROVkJAg6fD3Z/z97393OJkzvvjFL+onP/mJrrvuOqejDKl33nlHN9xwg/71r39p\n",
       "2LBh+sUvfqGCggKnYw2ZtWvX6u6779awYcN06NAhLV68WN/5znecjmWbkpISPffcc2pvb9dZZ52l\n",
       "hIQEtba26u2331ZhYaH+/e9/KzExUZWVlZo+fbrTcW1xrOdg8+bNMfN+2N9r4JNi8f2QEgMAAIzE\n",
       "x0kAAMBIlBgAAGAkSgwAADASJQbAaW/z5s3yer1OxwAwyCgxAADASJQYAI7atm2bLr/8cl144YXy\n",
       "+Xx65plnFAgENGrUKN18882aMWOGpk2bphdffDF8n8cff1wzZszQjBkz9LWvfU3vvvtu+LZf/epX\n",
       "mj59urKysjRr1iz997//lXT4L/3Onz9fWVlZmjZtmhoaGob8WAEMMgsAHPKf//zH8nq91t69ey3L\n",
       "sqz333/fSktLs7Zs2WJJslavXm1ZlmW98sor1rhx46yuri5rx44d1tlnn23t2bPHsizLuvPOO628\n",
       "vDzLsizrkUcesbKzs60PP/zQsizL+uCDD6ze3l7rpZdestxut7V161bLsizrwQcftK666qqhPlwA\n",
       "g4wzMQAc8/LLL+udd97RV77yFXm9Xn3pS1+SJL399tuKi4tTYWGhpMPfTnzOOefotdde00svvaS8\n",
       "vDyde+65kqT58+dr06ZN6uvr04YNG3TjjTcqKSlJkjR69Gi53W5JUkZGhj7/+c9Lki666CLt3Llz\n",
       "iI8WwGDjCyABOMayLE2bNk0vv/xyxP5AIHDM9S6X64T2Hcvw4cPD/+12u8PfOQTAXJyJAeCY3Nxc\n",
       "7dq1K+J6l8bGRh04cEC9vb16/PHHJUn19fXau3evvF6vLrvsMv3pT3/S3r17JUkrV67UFVdcIbfb\n",
       "rfz8fK1cuVKdnZ2SpA8//FB9fX1Df2AAhgRnYgA4ZvTo0Xruued0880362c/+5kOHjwoj8ej3/zm\n",
       "N0pKStI//vEPZWVlqbe3V7/73e+UkJCgCy64QL/+9a+Vl5cn6fAXQj700EOSpO9973vau3evcnNz\n",
       "FRcXp89+9rMRBQnA6YXvTgIQdQKBgLxerz788EOnowCIYnycBAAAjMSZGAAAYCTOxAAAACNRYgAA\n",
       "gJEoMQAAwEiUGAAAYCRKDAAAMBIlBgAAGIkSAwAAjESJAQAARvp/RJksNQodDCwAAAAASUVORK5C\n",
       "YII=\n",
       "\">\n",
       "      </div>\n",
       "      <script type=\"text/javascript\">\n",
       "        (() => {\n",
       "          const chartElement = document.getElementById(\"chart-862e192a-cdcb-447c-9c9f-b44de0bc7dd4\");\n",
       "          async function getCodeForChartHandler(event) {\n",
       "            const chartCodeResponse =  await google.colab.kernel.invokeFunction(\n",
       "                'getCodeForChart', [\"chart-862e192a-cdcb-447c-9c9f-b44de0bc7dd4\"], {});\n",
       "            const responseJson = chartCodeResponse.data['application/json'];\n",
       "            await google.colab.notebook.addCell(responseJson.code, 'code');\n",
       "          }\n",
       "          chartElement.onclick = getCodeForChartHandler;\n",
       "        })();\n",
       "      </script>\n",
       "      <style>\n",
       "        .colab-quickchart-chart-with-code  {\n",
       "            display: block;\n",
       "            float: left;\n",
       "            border: 1px solid transparent;\n",
       "        }\n",
       "\n",
       "        .colab-quickchart-chart-with-code:hover {\n",
       "            cursor: pointer;\n",
       "            border: 1px solid #aaa;\n",
       "        }\n",
       "      </style>"
      ],
      "text/plain": [
       "from matplotlib import pyplot as plt\n",
       "df_grid_search.plot(kind='scatter', x='epoch', y='dropout', s=32, alpha=.8)\n",
       "plt.gca().spines[['top', 'right',]].set_visible(False)"
      ]
     },
     "metadata": {},
     "output_type": "display_data"
    },
    {
     "data": {
      "text/html": [
       "      <div class=\"colab-quickchart-chart-with-code\" id=\"chart-f1937aa7-c690-4ae7-ae8f-5ce80d642c46\">\n",
       "        <img style=\"width: 180px;\" src=\"data:image/png;base64,iVBORw0KGgoAAAANSUhEUgAAAkcAAAGkCAYAAAA7e4FGAAAAOnRFWHRTb2Z0d2FyZQBNYXRwbG90\n",
       "bGliIHZlcnNpb24zLjEwLjAsIGh0dHBzOi8vbWF0cGxvdGxpYi5vcmcvlHJYcgAAAAlwSFlzAAAP\n",
       "YQAAD2EBqD+naQAAJkRJREFUeJzt3Xt01OWB//HPmGhqrQlVkyY1TGJuCijESGI2SFeEKp5K6BLU\n",
       "7DarWSCErdKu2V2QLqmNpYtbj0GrUpKziKtBvBArOdrdPQIuxl6M3EwJ0lyaYVJJgHWPCSCEJDy/\n",
       "PzzMeebHxRmZ70wC79c5c+rM82TyfB+SmXfnFpcxxggAAACSpIsivQAAAIDhhDgCAACwEEcAAAAW\n",
       "4ggAAMBCHAEAAFiIIwAAAAtxBAAAYCGOAAAALMTRl/TUU09FegkAAMABxNGXtHfv3kgvAQAAOIA4\n",
       "AgAAsBBHAAAAFuIIAADAQhwBAABYiCMAAAALcQQAAGAhjgAAACzEEQAAgIU4AgAAsBBHAAAAFuJo\n",
       "GFn4YpPGLH1LC19sivRSAACIiOFwX+gyxpiIffcRrKKiQtXV1SG5ruv+5S0dGzr18kujpY+WfSck\n",
       "3wMAgOFsON0XOv7IUVtbmwoKCpSVlaXc3Fy1tLScdt7q1auVmZmp9PR0lZWVaWBg4JzGPB6Pbr31\n",
       "VsXFxSk7Ozuo7xdOZ/phkKSjg9KYpW+Fd0EAAITZcLsvdDyOysvLNX/+fLW2tmrx4sUqLS09ZU5n\n",
       "Z6cqKyvV2Nio9vZ27d+/X7W1tec0Fhsbq2XLlumll14K6vuF25l+GE46OhiedQAAECnD7b7Q0Tg6\n",
       "cOCAtm7dqpKSEklSUVGRurq61N7e7jdv/fr1KiwsVGJiolwulxYsWKB169ad09gVV1yhW265RZdd\n",
       "dtkp6zrb151Of3+/+vr6/E5DQ1/wLxmAQJ9P5TVIAIDz1XC8L3Q0jrq6upSUlKTo6GhJksvlktvt\n",
       "ltfr9Zvn9XqVkpLiO5+amuqb82XHzibYr1u+fLni4uL8Tk1N5/6PtPGPB0M6DwCAkWY43hfybrUA\n",
       "LFmyRL29vX6nvLy8c77eadfGh3QeAAAjzXC8L3Q0jkaPHq3u7m4NDn7+ZKExRl6vV26322+e2+3W\n",
       "3r17fec9Ho9vzpcdO5tgvy4mJkaxsbF+p6ioqC/8Pl/k6b8NLLACnQcAwEgzHO8LHY2jhIQE5eTk\n",
       "qK6uTpJUX1+v5ORkZWRk+M0rKipSQ0ODenp6ZIzRqlWrVFxcfE5jZ/Nlv84Jl0af2zgAACPdcLsv\n",
       "dPxptZqaGtXU1CgrK0uPPfaY1qxZI0maN2+eGhoaJElpaWmqqqrSpEmTlJGRofj4eJWXl5/T2Gef\n",
       "fabk5GTdfffd2r17t5KTk7VkyZIv/Lpw+2jZd874j87nHAEALgTD7b6QD4H8kkL5IZAnLXyxSRv/\n",
       "eFDTro3nqTQAwAVpONwX8qTNMEIQAQAudMPhvpB3qwEAAFiIIwAAAAtxBAAAYCGOAAAALMQRAACA\n",
       "hTgCAACwEEcAAAAW4ggAAMBCHAEAAFiIIwAAAAtxBAAAYCGOAAAALMQRAACAhTgCAACwEEcAAAAW\n",
       "4ggAAMBCHAEAAFiIIwAAAAtxBAAAYCGOAAAALMQRAACAhTgCAACwEEcAAAAW4ggAAMBCHAEAAFiI\n",
       "IwAAAAtxBAAAYCGOAAAALMQRAACAhTgCAACwEEcAAAAW4ggAAMBCHAEAAFiIIwAAAAtxBAAAYCGO\n",
       "AAAALMQRAACAhTgCAACwEEcAAAAW4ggAAMBCHAEAAFiIIwAAAAtxBAAAYCGOAAAALMQRAACAhTgC\n",
       "AACwEEcAAAAW4ggAAMBCHAEAAFiIIwAAAAtxBAAAYCGOAAAALMQRAACAhTgCAACwEEcAAAAW4ggA\n",
       "AMBCHAEAAFgcj6O2tjYVFBQoKytLubm5amlpOe281atXKzMzU+np6SorK9PAwIBjYydOnFBFRYXG\n",
       "jh2r8ePHa8qUKWpvb3doBwAAwEjieByVl5dr/vz5am1t1eLFi1VaWnrKnM7OTlVWVqqxsVHt7e3a\n",
       "v3+/amtrHRtraGjQb37zG3344Ydqbm7W1KlT9aMf/cjprQAAACOAo3F04MABbd26VSUlJZKkoqIi\n",
       "dXV1nfIozfr161VYWKjExES5XC4tWLBA69atc2zM5XKpv79fx44dkzFGfX19Sk5OPuNx9Pf3q6+v\n",
       "z+80NDQU8v0CAACRF+3klXd1dSkpKUnR0Z9/G5fLJbfbLa/Xq4yMDN88r9erlJQU3/nU1FR5vV7H\n",
       "xmbMmKF33nlHiYmJuvzyy3X11Vdry5YtZzyO5cuXq6qqyu+y/Pz84DYDAACMCBfkC7K3bt2qXbt2\n",
       "6eOPP9a+ffs0depULViw4IzzlyxZot7eXr9TXl5eGFcMAADCxdFHjkaPHq3u7m4NDg4qOjpaxhh5\n",
       "vV653W6/eW63Wx0dHb7zHo/HN8eJsRdeeEG33XabRo0aJUm6//77dfvtt5/xOGJiYhQTE+N3WVRU\n",
       "VMD7AAAARg5HHzlKSEhQTk6O6urqJEn19fVKTk72e0pN+vy1SA0NDerp6ZExRqtWrVJxcbFjY2lp\n",
       "adq8ebOOHz8uSXrzzTd1/fXXO7kVAABghHD8abWamhrV1NQoKytLjz32mNasWSNJmjdvnhoaGiR9\n",
       "HitVVVWaNGmSMjIyFB8fr/LycsfGHnjgAV1zzTWaMGGCxo8fr02bNumXv/yl01sBAABGAJcxxkR6\n",
       "ESNRRUWFqqurI70MAAAQYhfkC7IBAADOhDgCAACwEEcAAAAW4ggAAMBCHAEAAFiIIwAAAAtxBAAA\n",
       "YCGOAAAALMQRAACAhTgCAACwEEcAAAAW4ggAAMBCHAEAAFiIIwAAAAtxBAAAYCGOAAAALMQRAACA\n",
       "hTgCAACwEEcAAAAW4ggAAMBCHAEAAFiIIwAAAAtxBAAAYCGOAAAALMQRAACAhTgCAACwEEcAAAAW\n",
       "4ggAAMBCHAEAAFiIIwAAAAtxBAAAYCGOAAAALMQRAACAhTgCAACwEEcAAAAW4ggAAMBCHAEAAFiI\n",
       "IwAAAAtxBAAAYCGOAAAALMQRAACAhTgCAACwEEcAAAAW4ggAAMBCHAEAAFiIIwAAAAtxBAAAYCGO\n",
       "AAAALMQRAACAhTgCAACwEEcAAAAW4ggAAMBCHAEAAFiIIwAAAAtxBAAAYCGOAAAALMQRAACAhTgC\n",
       "AACwOB5HbW1tKigoUFZWlnJzc9XS0nLaeatXr1ZmZqbS09NVVlamgYEBR8f+8Ic/6NZbb9WYMWM0\n",
       "ZswYvf766w4cPQAAGGmCjqOamhp99tlnAc8vLy/X/Pnz1draqsWLF6u0tPSUOZ2dnaqsrFRjY6Pa\n",
       "29u1f/9+1dbWOjb22WefaebMmVq2bJk++ugj7dq1S5MnTw52KwAAwHko6Dh69913lZaWpoceekjt\n",
       "7e1nnXvgwAFt3bpVJSUlkqSioiJ1dXWd8nXr169XYWGhEhMT5XK5tGDBAq1bt86xsZdeekn5+fm6\n",
       "5ZZbJElRUVGKj48/43H09/err6/P7zQ0NBTs1gEAgBEg6Dhau3atPvzwQ1155ZWaOnWq7rzzTv36\n",
       "178+7dyuri4lJSUpOjpakuRyueR2u+X1ev3meb1epaSk+M6npqb65jgxtnv3bsXExOiuu+5Sdna2\n",
       "7rvvPh08ePCMx7x8+XLFxcX5nZqamr54swAAwIjzpV5z9I1vfENLly7Vf/zHf6ilpUUlJSW67rrr\n",
       "tGnTplCvzxGDg4PauHGjampqtGPHDl199dX6+7//+zPOX7JkiXp7e/1OeXl5YVwxAAAIl+hgv+DY\n",
       "sWOqq6vTs88+q69+9at6/PHHNXv2bO3YsUOzZ8+Wx+PxzR09erS6u7s1ODio6OhoGWPk9Xrldrv9\n",
       "rtPtdqujo8N33uPx+OY4NTZlyhRdffXVkqSSkhLdcccdZzzmmJgYxcTE+F0WFRX1xZsFAABGnKAf\n",
       "OUpNTdWWLVtUW1ur3/zmN7r33nsVFRWliRMn6tvf/rbf3ISEBOXk5Kiurk6SVF9fr+TkZGVkZPjN\n",
       "KyoqUkNDg3p6emSM0apVq1RcXOzY2D333KMPPvhAfX19kqRf//rXmjBhQrBbAQAAzkcmSPv27Qtq\n",
       "/p49e0x+fr7JzMw0N910k2lubjbGGDN37lyzYcMG37za2lqTlpZm0tLSzJw5c8zx48cdHXvhhRfM\n",
       "uHHjzA033GCmT59uvF5vUMf10EMPBTUfAACMDC5jjAk2qPbt26ddu3bp2LFjvssKCwtDGm3DXUVF\n",
       "haqrqyO9DAAAEGJBv+boueee06OPPqr/+7//U2Zmpj788EPl5+dfcHEEAADOT0G/5mjFihXasWOH\n",
       "0tPTtW3bNm3evFlZWVlOrA0AACDsgo6jSy65RF//+tc1ODgoSfrWt76lnTt3hnpdAAAAERH002ox\n",
       "MTEyxigrK0tPPvmkUlJSdPjwYSfWBgAAEHZBx9GyZcvU19enn//851qwYIE+/fRTrVy50om1AQAA\n",
       "hF3QcXTbbbdJkuLi4vT222+HfEEAAACRFPRrjubNm6dPPvnEd/5///d/VV5eHtJFAQAARErQcbRt\n",
       "2zZdeeWVvvNXXXWVPvjgg5AuCgAAIFKCjqOT71I7yRij48ePh2xBAAAAkRR0HOXn5+vBBx/U3r17\n",
       "5fF4tHDhQuXn5zuxNgAAgLALOo6eeOIJHTlyRLm5ubr55pvV39+vFStWOLE2AACAsAv63WqxsbFa\n",
       "s2aNE2sBAACIuKAfOert7dWDDz6oGTNmSJJ2796tdevWhXxhAAAAkRB0HJWXlysxMVGdnZ2SpGuu\n",
       "uUb/9m//FvKFAQAARELQcdTa2qqlS5fq4osvliRdeumlMsaEfGEAAACR8KX+8Kzt6NGjxBEAADhv\n",
       "BB1HU6ZM0c9+9jMdO3ZMGzdu1OzZszVr1iwn1gYAABB2QcfRT3/6U1100UWKjY3Vj370I02aNEmV\n",
       "lZVOrA0AACDsXIbnxL6UiooKVVdXR3oZAAAgxAL+nKNHH330rOM//vGPz3kxAAAAkRZwHB06dEiS\n",
       "9Oc//1mbNm1SYWGhXC6XGhoaNHXqVMcWCAAAEE4Bx9Hjjz8uSbr99tu1c+dOffOb35T0+SNKpaWl\n",
       "jiwOAAAg3IJ+Qfa+fft8YSRJSUlJ+vjjj0O6KAAAgEgJOo6Sk5P1yCOPqKurS11dXfrJT36i5ORk\n",
       "J9YGAAAQdkHH0fPPP6+PPvpI2dnZuvHGG7Vnzx49//zzDiwNAAAg/AJ+zdFJiYmJevXVV884/tpr\n",
       "r+nuu+8+p0UBAABEStCPHH2R5cuXh/oqAQAAwibkccRnSgIAgJEs5HHkcrlCfZUAAABhE/I4AgAA\n",
       "GMl4Wg0AAMASdBw999xzZ73sX//1X89tRQAAABEUdBw988wzp1z27LPP+v77zjvvPLcVAQAARFDA\n",
       "n3PU1NSk3/3udzp48KB+8Ytf+C7v7e1Vf3+/I4sDAAAIt4DjqLu7Wzt37tRnn32mHTt2+C6PjY3l\n",
       "E7IBAMB5I+A4mjlzpmbOnKn//M//5KkzAABw3gr6z4fceeedev/999XR0aHBwUHf5ffdd19IFwYA\n",
       "ABAJQcfR97//ff3Xf/2XsrOzFRUVJenzD34kjgAAwPkg6Dh6++23tXv3bn3lK19xYj0AAAARFfRb\n",
       "+ZOSkhQTE+PEWgAAACIu4EeOGhoaJEk333yzZs+erXvvvdfv0aPCwsLQrw4AACDMAo6jFStW+J3/\n",
       "5S9/6ftvl8tFHAEAgPNCwHH0zjvvOLkOAACAYSHoF2S/++67p1w2atQoZWVl8SJtAAAw4gUdRz/4\n",
       "wQ/0hz/8QWlpaXK5XOro6NC1116r3t5e1dXVacqUKU6sEwAAICyCfrfaTTfdpE2bNqmtrU2tra3a\n",
       "vHmz8vPztWHDBv3zP/+zE2sEAAAIm6DjaOvWrbr11lt95//yL/9S27Zt08SJEzUwMBDKtQEAAIRd\n",
       "0HF00UUX+b3u6N1339VFF31+NS6XK3QrAwAAiICgX3P07LPPqri4WBdffLEkaWBgQC+//LIOHz6s\n",
       "hx56KOQLBAAACKeg46igoEAdHR3as2ePJOnaa6/VJZdcIkm6//77Q7s6AACAMAs4jo4cOaLLLrtM\n",
       "fX19kqSUlBRJ0rFjx3Ts2DHFxsY6s0IAAIAwCjiOJk+erO3bt2vUqFFyuVwyxvj979DQkJPrBAAA\n",
       "CIuA42j79u2SpBMnTji2GAAAgEgL+t1qkrRt2za9+OKLkqRPP/1U3d3dIV0UAABApAQdRytXrtSc\n",
       "OXP0k5/8RJL0ySef6G/+5m9CvS4AAICICDqOamtr9fvf/973Auz09HQdPHgw5AsDAACIhKDjKCYm\n",
       "RpdeeqnfZdHRQX8iAAAAwLAUdBzFx8ertbXV92nYzz//vNxud8gXBgAAEAlBx9GTTz6p733ve9qz\n",
       "Z49Gjx6txx9/XE899dQZ57e1tamgoEBZWVnKzc1VS0vLaeetXr1amZmZSk9PV1lZmd/faXNiTJKM\n",
       "Mbrttts0atSoYLcBAACcp4KOo5dfflm/+MUv1NTUpP/+7/9Wc3OzrrnmmjPOLy8v1/z589Xa2qrF\n",
       "ixertLT0lDmdnZ2qrKxUY2Oj2tvbtX//ftXW1jo2dtKKFSuUnp4e7BYAAIDzWNBxZIzR4sWLNWXK\n",
       "FD388MNauXLlGR8NOnDggLZu3aqSkhJJUlFRkbq6utTe3u43b/369SosLFRiYqJcLpcWLFigdevW\n",
       "OTYmSS0tLXrjjTf08MMPB7sFAADgPBZ0HFVWVurdd9+Vx+PR7NmzVV1drfHjx592bldXl5KSknwv\n",
       "2Ha5XHK73fJ6vX7zvF6v78+RSFJqaqpvjhNjAwMDKisrU01NjaKior7wmPv7+9XX1+d34hPBAQA4\n",
       "PwX9NrONGzdq48aN2rx5s06cOKG7775b3/72t51Ym2Oqqqo0a9YsjRkzRh6P5wvnL1++XFVVVX6X\n",
       "5efnO7Q6AAAQSUHH0e23366CggI98cQTmjx58lnnjh49Wt3d3RocHFR0dLSMMfJ6vae8u83tdquj\n",
       "o8N33uPx+OY4MbZlyxZ5vV4988wzGhwcVF9fn1JTU/XBBx8oPj7+lONYsmSJKioq/C6rrKw867ED\n",
       "AICRKein1Xbt2qV77rlHjz/+uMaOHavS0lKtXbv2tHMTEhKUk5Ojuro6SVJ9fb2Sk5OVkZHhN6+o\n",
       "qEgNDQ3q6emRMUarVq1ScXGxY2ONjY3au3evPB6P3nvvPcXGxsrj8Zw2jKTPP9spNjbW7xTI03EA\n",
       "AGAEMl/Sn/70J/Pss8+a1NRUExUVdcZ5e/bsMfn5+SYzM9PcdNNNprm52RhjzNy5c82GDRt882pr\n",
       "a01aWppJS0szc+bMMcePH3d07KTOzk4TFxcX9PE/9NBDQX8NAAAY/lzGGBNMTJWXl2vTpk2SpGnT\n",
       "pmnq1KmaOnWqrrjiCkfibbiqqKhQdXV1pJcBAABCLOjXHE2cOFEPP/zwWT/bCAAAYKQKOo7Kysqc\n",
       "WAcAAMCwEPQLsgEAAM5nxBEAAICFOAIAALAQRwAAABbiCAAAwEIcAQAAWIgjAAAAC3EEAABgIY4A\n",
       "AAAsxBEAAICFOAIAALAQRwAAABbiCAAAwEIcAQAAWIgjAAAAC3EEAABgIY4AAAAsxBEAAICFOAIA\n",
       "ALAQRwAAABbiCAAAwEIcAQAAWIgjAAAAC3EEAABgIY4AAAAsxBEAAICFOAIAALAQRwAAABbiCAAA\n",
       "wEIcAQAAWIgjAAAAC3EEAABgIY4AAAAsxBEAAICFOAIAALAQRwAAABbiCAAAwEIcAQAAWIgjAAAA\n",
       "C3EEAABgIY4AAAAsxBEAAICFOAIAALAQRwAAABbiCAAAwEIcAQAAWIgjAAAAC3EEAABgIY4AAAAs\n",
       "xBEAAICFOAIAALAQRwAAABbiCAAAwEIcAQAAWIgjAAAAC3EEAABgIY4AAAAsjsdRW1ubCgoKlJWV\n",
       "pdzcXLW0tJx23urVq5WZman09HSVlZVpYGDAsbHNmzcrLy9PY8eO1bhx47Ro0SKdOHHCoR0AAAAj\n",
       "ieNxVF5ervnz56u1tVWLFy9WaWnpKXM6OztVWVmpxsZGtbe3a//+/aqtrXVs7Otf/7pefvll7d69\n",
       "W9u2bdNvf/tbvfDCC05vBQAAGAEcjaMDBw5o69atKikpkSQVFRWpq6tL7e3tfvPWr1+vwsJCJSYm\n",
       "yuVyacGCBVq3bp1jYzfeeKPS0tIkSV/5yleUnZ0tj8dzxuPo7+9XX1+f32loaCikewUAAIYHR+Oo\n",
       "q6tLSUlJio6OliS5XC653W55vV6/eV6vVykpKb7zqampvjlOjNl6enq0fv163XXXXWc8juXLlysu\n",
       "Ls7v1NTUFPA+AACAkeOCfkF2X1+fZsyYoUWLFmnixIlnnLdkyRL19vb6nfLy8sK4UgAAEC7RTl75\n",
       "6NGj1d3drcHBQUVHR8sYI6/XK7fb7TfP7Xaro6PDd97j8fjmODEmSYcOHdL06dM1c+ZMVVRUnPU4\n",
       "YmJiFBMT43dZVFRUQHsAAABGFkcfOUpISFBOTo7q6uokSfX19UpOTlZGRobfvKKiIjU0NKinp0fG\n",
       "GK1atUrFxcWOjR0+fFjTp0/X9OnTtXTpUie3AAAAjDCOP61WU1OjmpoaZWVl6bHHHtOaNWskSfPm\n",
       "zVNDQ4MkKS0tTVVVVZo0aZIyMjIUHx+v8vJyx8aeeuopNTU16fXXX1d2drays7P1s5/9zOmtAAAA\n",
       "I4DLGGMivYiRqKKiQtXV1ZFeBgAACLEL+gXZAAAA/z/iCAAAwEIcAQAAWIgjAAAAC3EEAABgIY4A\n",
       "AAAsxBEAAICFOAIAALAQRwAAABbiCAAAwEIcAQAAWIgjAAAAC3EEAABgIY4AAAAsxBEAAICFOAIA\n",
       "ALAQRwAAABbiCAAAwEIcAQAAWIgjAAAAC3EEAABgIY4AAAAsxBEAAICFOAIAALAQRwAAABbiCAAA\n",
       "wEIcAQAAWIgjAAAAC3EEAABgIY4AAAAsxBEAAICFOAIAALAQRwAAABbiCAAAwEIcAQAAWIgjAAAA\n",
       "C3EEAABgIY4AAAAsxBEAAICFOAIAALAQRwAAABbiCAAAwEIcAQAAWIgjAAAAC3EEAABgIY4AAAAs\n",
       "xBEAAICFOAIAALAQRwAAABbiCAAAwEIcAQAAWIgjAAAAC3EEAABgIY4AAAAsxBEAAICFOAIAALAQ\n",
       "R8PIwhebNGbpW1r4YlOklwIAQEQMh/tClzHGROy7j2AVFRWqrq4OyXVd9y9v6djQqZdfGi19tOw7\n",
       "IfkeAAAMZ8PpvtDxR47a2tpUUFCgrKws5ebmqqWl5bTzVq9erczMTKWnp6usrEwDAwMRGwunM/0w\n",
       "SNLRQWnM0rfCuyAAAMJsuN0XOh5H5eXlmj9/vlpbW7V48WKVlpaeMqezs1OVlZVqbGxUe3u79u/f\n",
       "r9ra2oiMhduZfhhOOjoYnnUAABApw+2+0NE4OnDggLZu3aqSkhJJUlFRkbq6utTe3u43b/369Sos\n",
       "LFRiYqJcLpcWLFigdevWRWTsdPr7+9XX1+d3Ghr6gn/JAAT6fCqvQQIAnK+G432ho3HU1dWlpKQk\n",
       "RUdHS5JcLpfcbre8Xq/fPK/Xq5SUFN/51NRU35xwj53O8uXLFRcX53dqajr3f6SNfzwY0nkAAIw0\n",
       "w/G+kHerBWDJkiXq7e31O+Xl5Z3z9U67Nj6k8wAAGGmG432ho3E0evRodXd3a3Dw8ycLjTHyer1y\n",
       "u91+89xut/bu3es77/F4fHPCPXY6MTExio2N9TtFRUUFtxmn8fTfBhZYgc4DAGCkGY73hY7GUUJC\n",
       "gnJyclRXVydJqq+vV3JysjIyMvzmFRUVqaGhQT09PTLGaNWqVSouLo7IWLhdGn1u4wAAjHTD7b7Q\n",
       "8afVampqVFNTo6ysLD322GNas2aNJGnevHlqaGiQJKWlpamqqkqTJk1SRkaG4uPjVV5eHpGxcPto\n",
       "2XfO+I/O5xwBAC4Ew+2+kA+B/JJC+SGQJy18sUkb/3hQ066N56k0AMAFaTjcF/KkzTBCEAEALnTD\n",
       "4b6Qd6sBAABYiCMAAAALcQQAAGAhjgAAACzEEQAAgIU4AgAAsBBHAAAAFuIIAADAQhwBAABYiCMA\n",
       "AAALf1vtS5o1a5ZSU1NDep1DQ0NqampSXl6eoqKiQnrd5xv2KjjsV+DYq8CxV4FjrwLn9F6lpKTo\n",
       "hz/84VnnEEfDSF9fn+Li4tTb26vY2NhIL2dYY6+Cw34Fjr0KHHsVOPYqcMNhr3haDQAAwEIcAQAA\n",
       "WIgjAAAAC3E0jMTExOiRRx5RTExMpJcy7LFXwWG/AsdeBY69Chx7FbjhsFe8IBsAAMDCI0cAAAAW\n",
       "4ggAAMBCHAEAAFiIozBpa2tTQUGBsrKylJubq5aWllPmbN68WXl5eRo7dqzGjRunRYsW6cSJE77x\n",
       "N998U9ddd50yMzM1a9Ys9fX1hfMQwuZc98rj8SgqKkrZ2dm+U0dHR7gPIywC2avf/e53vn0YN26c\n",
       "ysvL1d/f7xtfvXq1MjMzlZ6errKyMg0MDITzEMLmXPfqf/7nf3TppZf6/VwdPXo03IcRFoHs1UnG\n",
       "GN12220aNWqU3+XcXp3qdHt1Id1eSYHt1xf9roXlNssgLKZMmWLWrFljjDHmtddeMxMnTjxlzvbt\n",
       "201HR4cxxpijR4+aSZMm+b7m0KFDJiEhwXz00UfGGGMeeOAB80//9E9hWXu4netedXZ2mri4uDCt\n",
       "NrIC2asjR46Y48ePG2OMGRoaMt/97ndNdXW1McaYP/3pTyYpKcl0d3ebEydOmBkzZphnnnkmbOsP\n",
       "p3Pdq3feecdMmDAhXMuNqED26qQnnnjCzJs3z+93jtur0zvdXl1It1fGBLZfZ/tdC9dtFnEUBvv3\n",
       "7zeXX365GRgYMMYYc+LECfONb3zDtLW1nfXrHnjgAfPII48YY4x59dVXzR133OEba2lpMVdffbVj\n",
       "a46UUOzVhXJj82X26ujRo+aOO+4wK1asMMYY8/Of/9yUl5f7xt966y0zadIkR9cdCaHYqwsljoLZ\n",
       "q127dpnJkyeb9vZ2v985bq8C36sL5fbKmMD362y/a+G6zeJptTDo6upSUlKSoqOjJUkul0tut1te\n",
       "r/eMX9PT06P169frrrvukiR5vV6lpKT4xlNTU9Xd3a3BwUFnFx9modgrSTpy5Ihyc3OVk5OjRx99\n",
       "VENDQ46vPdyC2SuPx6MJEyboqquuUlxcnL7//e9LOv3P1dn2eqQKxV5JUkdHh3JycpSbm6uVK1eG\n",
       "bf3hFOheDQwMqKysTDU1Naf8cVBurwLfK+nCuL2Sgvs9PNPvWrhus4ijYaivr08zZszQokWLNHHi\n",
       "xEgvZ1g73V4lJSXp448/1gcffKCNGzeqsbFRTzzxRIRXGlmpqan68MMP1dPTo/7+fr3++uuRXtKw\n",
       "daa9ysnJ0Z///Gdt375dv/rVr7Rq1Sq9+uqrEV5t5FRVVWnWrFkaM2ZMpJcy7J1tr7i9OtVw+F0j\n",
       "jsJg9OjRfv+vyRgjr9crt9t9ytxDhw5p+vTpmjlzpioqKnyXu91u7d2713fe4/H4Ffj5IhR7FRMT\n",
       "o4SEBEnSFVdcoTlz5qixsTE8BxBGwezVSV/72tdUXFystWvXSjr9z9XZvn6kCsVexcbGKi4uTpKU\n",
       "nJysv/7rv76gf662bNmip59+WqmpqbrlllvU19en1NRUHTx4kNurIPbqQrm9kgLfr7P9roXrNos4\n",
       "CoOEhATl5OSorq5OklRfX6/k5GRlZGT4zTt8+LCmT5+u6dOna+nSpX5j06dP1/bt27Vnzx5J0sqV\n",
       "K1VcXByeAwijUOzVgQMHfO9eOPn//G+88cbwHEAYBbpX7e3tvv04fvy4fvWrX2n8+PGSpKKiIjU0\n",
       "NKinp0fGGK1ateqC/rk62151d3f73hF56NAhvfnmmxf0z1VjY6P27t0rj8ej9957T7GxsfJ4PIqP\n",
       "j+f2Koi9ulBur6TA9+tsv2thu80K+auYcFp79uwx+fn5JjMz09x0002mubnZGGPM3LlzzYYNG4wx\n",
       "xixbtsxER0ebCRMm+E7Lli3zXceGDRvMtddea9LT083MmTPNp59+GpFjcdq57lV9fb0ZN26cGT9+\n",
       "vBk7dqx58MEHzbFjxyJ2PE4KZK9qamr89mPhwoXm6NGjvuuora01aWlpJi0tzcyZM8f3bq3zzbnu\n",
       "1dNPP23Gjh3rG3vkkUfMiRMnInY8Tgpkr2yne1Ext1eB7dWFdHtlTGD79UW/a+G4zeJvqwEAAFh4\n",
       "Wg0AAMBCHAEAAFiIIwAAAAtxBOC8c9VVV8nj8UR6GXryySfV09MT6WUACBJxBOCCEIlPZyaOgJGJ\n",
       "OAIw4jU0NGjMmDEaP368Fi1a5Ls8NTVVixcvVl5enu6//34dPnxYc+bM0fXXX6/rr79eVVVVvrm3\n",
       "3nqrFi5cqNzcXGVkZOgf//EfdfLNvO3t7Zo2bZrGjx+v7OxsvfHGG76vc7lc+vTTT33nTz5q9eij\n",
       "j2rfvn269957lZ2drZ07dzq9DQBChDgCMKIdOHBAf/d3f6f6+no1NzcrIyNDn3zyiW/8k08+0fvv\n",
       "v6+1a9fqpz/9qfr7+9Xc3Kz3339fb7zxhl555RXf3N27d+u3v/2tmpubtWXLFq1bt06S9L3vfU93\n",
       "3323mpub9dprr2nu3Ll+n9J7Oj/+8Y/1zW9+U6+88op27typ7OxsR44fQOgRRwBGtN///vcaP368\n",
       "xo4dK0maO3euLrnkEt94aWmpXC6XJGnjxo0qKyvTRRddpMsuu0z33Xef3n77bd/c++67TxdffLG+\n",
       "+tWvqqSkRBs3btShQ4e0fft2zZ07V5KUmZmpW2655bz9Ew8AiCMA55mTIXTS1772tYDnBjpuXx4V\n",
       "FeX3V9SPHTsWyDIBDGPEEYAR7S/+4i/U3Nzs+ztezz33nI4fP37audOmTdPq1atljNGRI0f04osv\n",
       "6vbbb/eN19XVaWBgQEePHtVLL72kadOm6fLLL1dOTo7WrFkj6fPXH7333nv61re+JUnKyMjQ+++/\n",
       "L0l6/fXXdeTIEd/1xcbGqre315HjBuAc4gjAiBYfH6/nnntOf/VXf6UJEyaora1NV1555WnnVlZW\n",
       "6uKLL9YNN9ygm2++WYWFhbrnnnt842PGjNGkSZN0ww03aPLkyb4/aLl27Vq98sormjBhgmbPnq1/\n",
       "//d/9/0l8BUrVuiHP/yhcnJytGPHDr/v/YMf/EBlZWW8IBsYYfjbagCgz9+t9g//8A/67ne/G+ml\n",
       "AIgwHjkCAACw8MgRAACAhUeOAAAALMQRAACAhTgCAACwEEcAAAAW4ggAAMBCHAEAAFiIIwAAAAtx\n",
       "BAAAYPl/1frRtbHPLBQAAAAASUVORK5CYII=\n",
       "\">\n",
       "      </div>\n",
       "      <script type=\"text/javascript\">\n",
       "        (() => {\n",
       "          const chartElement = document.getElementById(\"chart-f1937aa7-c690-4ae7-ae8f-5ce80d642c46\");\n",
       "          async function getCodeForChartHandler(event) {\n",
       "            const chartCodeResponse =  await google.colab.kernel.invokeFunction(\n",
       "                'getCodeForChart', [\"chart-f1937aa7-c690-4ae7-ae8f-5ce80d642c46\"], {});\n",
       "            const responseJson = chartCodeResponse.data['application/json'];\n",
       "            await google.colab.notebook.addCell(responseJson.code, 'code');\n",
       "          }\n",
       "          chartElement.onclick = getCodeForChartHandler;\n",
       "        })();\n",
       "      </script>\n",
       "      <style>\n",
       "        .colab-quickchart-chart-with-code  {\n",
       "            display: block;\n",
       "            float: left;\n",
       "            border: 1px solid transparent;\n",
       "        }\n",
       "\n",
       "        .colab-quickchart-chart-with-code:hover {\n",
       "            cursor: pointer;\n",
       "            border: 1px solid #aaa;\n",
       "        }\n",
       "      </style>"
      ],
      "text/plain": [
       "from matplotlib import pyplot as plt\n",
       "df_grid_search.plot(kind='scatter', x='dropout', y='weight_decay', s=32, alpha=.8)\n",
       "plt.gca().spines[['top', 'right',]].set_visible(False)"
      ]
     },
     "metadata": {},
     "output_type": "display_data"
    },
    {
     "data": {
      "text/html": [
       "      <div class=\"colab-quickchart-chart-with-code\" id=\"chart-6ecdecce-a085-44c4-b86e-c682404874ed\">\n",
       "        <img style=\"width: 180px;\" src=\"data:image/png;base64,iVBORw0KGgoAAAANSUhEUgAAAkcAAAGlCAYAAADwJ1LjAAAAOnRFWHRTb2Z0d2FyZQBNYXRwbG90\n",
       "bGliIHZlcnNpb24zLjEwLjAsIGh0dHBzOi8vbWF0cGxvdGxpYi5vcmcvlHJYcgAAAAlwSFlzAAAP\n",
       "YQAAD2EBqD+naQAAIhlJREFUeJzt3XtQ1WXix/HPEYqtTXCaNBjwQNxMTCEMUrAR0y7bJjXRxVoy\n",
       "Sm5tO+ssWxnNOobrL52tdJuaTShippxsS8pl3HamvOTSNmWMWYm1gAmHCqU1FywTuTy/P5zOPGe9\n",
       "I1/OOfp+zXxnOjwP5zzfZ5r5vofzPUeXMcYIAAAAkqQR/l4AAABAICGOAAAALMQRAACAhTgCAACw\n",
       "EEcAAAAW4ggAAMBCHAEAAFiIIwAAAAtxNAhPP/20v5cAAAAcQhwNQltbm7+XAAAAHEIcAQAAWIgj\n",
       "AAAAC3EEAABgIY4AAAAsxBEAAICFOAIAALAQRwAAABbiCAAAwEIcAQAAWIgjAAAAS6i/F4DDblj+\n",
       "jnZ0HlLKmHP1Vtk1/l4OAADDLlCuhcSRn8U98nefxzs6D3l/1rrsl/5YEgAAwyrQroWOvq3W3Nys\n",
       "rKwsJScnKyMjQ42NjUedV11draSkJCUkJKioqEi9vb2nNdba2qqcnBxFREQoLS3tlF5vOP3v/wyn\n",
       "Og4AQLALxGuho3FUUlKi4uJiNTU1acGCBSooKDhizq5du7Rw4ULV19erpaVFe/bsUVVV1WmNhYeH\n",
       "a8mSJXrllVdO6fUAAAAci6POzk41NDQoPz9fkpSXl6f29na1tLT4zFuzZo1yc3MVGRkpl8ul0tJS\n",
       "rV69+rTGLrzwQk2bNk0///nPj1jX8X7vaHp6etTd3e1z9Pf3n/b+3LD8nSGdBwBAsAnUa6FjcdTe\n",
       "3q6oqCiFhh6+rcnlcsntdsvj8fjM83g8io2N9T6Oi4vzzhns2PGc6u8tXbpUERERPseWLVtO+Don\n",
       "sqPz0JDOAwAg2ATqtZCP8p9AeXm5urq6fI7MzMzTft6UMecO6TwAAIJNoF4LHYujsWPHqqOjQ319\n",
       "fZIkY4w8Ho/cbrfPPLfbrba2Nu/j1tZW75zBjh3Pqf5eWFiYwsPDfY6QkJATvs6JnOxHFPlYPwDg\n",
       "TBWo10LH4mjMmDFKT0/XqlWrJEm1tbWKiYlRYmKiz7y8vDzV1dVp9+7dMsZo5cqVmjNnzmmNHc9g\n",
       "fw8AAJwdHH1brbKyUpWVlUpOTtayZctUU1MjSSosLFRdXZ0kKT4+XhUVFcrOzlZiYqJGjx6tkpKS\n",
       "0xo7cOCAYmJidNttt2nHjh2KiYlReXn5CX9vuJ3ouxv4niMAwJkuEK+FLmOMGfZXDXJlZWVavnz5\n",
       "kD5noHwrKAAA/hIo10K+ITtAEEQAgLNdoFwL+bQaAACAhTgCAACwEEcAAAAW4ggAAMBCHAEAAFiI\n",
       "IwAAAAtxBAAAYCGOAAAALMQRAACAhTgCAACwEEcAAAAW4ggAAMBCHAEAAFiIIwAAAAtxBAAAYCGO\n",
       "AAAALMQRAACAhTgCAACwEEcAAAAW4ggAAMBCHAEAAFiIIwAAAAtxBAAAYCGOAAAALMQRAACAhTgC\n",
       "AACwEEcAAAAW4ggAAMBCHAEAAFiIIwAAAAtxBAAAYCGOAAAALMQRAACAhTgCAACwEEcAAAAW4ggA\n",
       "AMBCHAEAAFiIIwAAAAtxBAAAYCGOAAAALMQRAACAhTgCAACwEEcAAAAW4ggAAMBCHAEAAFiIIwAA\n",
       "AAtxBAAAYCGOAAAALMQRAACAhTgCAACwEEcAAAAW4ggAAMBCHAEAAFiIIwAAAAtxBAAAYCGOAAAA\n",
       "LMQRAACAxdE4am5uVlZWlpKTk5WRkaHGxsajzquurlZSUpISEhJUVFSk3t5ex8YGBgb04IMP6rLL\n",
       "LtOll16qefPm6dChQw7tAAAACDaOxlFJSYmKi4vV1NSkBQsWqKCg4Ig5u3bt0sKFC1VfX6+Wlhbt\n",
       "2bNHVVVVjo1VV1dr69at2rp1qz7//HONGDFCTz/9tJPbAAAAgohjcdTZ2amGhgbl5+dLkvLy8tTe\n",
       "3q6WlhafeWvWrFFubq4iIyPlcrlUWlqq1atXOzb2ySefaNasWTr33HPlcrn0i1/8Qi+//PIxz6On\n",
       "p0fd3d0+R39//5DvFwAACAyOxVF7e7uioqIUGhoqSXK5XHK73fJ4PD7zPB6PYmNjvY/j4uK8c5wY\n",
       "mzx5surq6tTd3a3e3l699tpram1tPeZ5LF26VBERET7Hli1bBrMlAAAgCJx1N2QXFBTo+uuv1/Tp\n",
       "0zV9+nQlJyd7A+5oysvL1dXV5XNkZmYO44oBAMBwciyOxo4dq46ODvX19UmSjDHyeDxyu90+89xu\n",
       "t9ra2ryPW1tbvXOcGHO5XHrsscf08ccf6/3331dKSoomTJhwzPMICwtTeHi4zxESEjKoPQEAAIHP\n",
       "sTgaM2aM0tPTtWrVKklSbW2tYmJilJiY6DMvLy9PdXV12r17t4wxWrlypebMmePY2MGDB7Vv3z5J\n",
       "0n/+8x8tW7ZMDz/8sFPbAAAAgsyx308aApWVlSooKNDjjz+u8PBw1dTUSJIKCwuVm5ur3NxcxcfH\n",
       "q6KiQtnZ2ZKknJwclZSUSJIjY11dXcrJydGIESM0MDCg+fPna/bs2U5uAwAACCIuY4zx9yKCTVlZ\n",
       "mZYvX+7vZQAAAAecdTdkAwAAHA9xBAAAYCGOAAAALMQRAACAhTgCAACwEEcAAAAW4ggAAMBCHAEA\n",
       "AFiIIwAAAAtxBAAAYCGOAAAALMQRAACAhTgCAACwEEcAAAAW4ggAAMBCHAEAAFiIIwAAAAtxBAAA\n",
       "YCGOAAAALMQRAACAhTgCAACwEEcAAAAW4ggAAMBCHAEAAFiIIwAAAAtxBAAAYCGOAAAALMQRAACA\n",
       "hTgCAACwEEcAAAAW4ggAAMBCHAEAAFiIIwAAAAtxBAAAYCGOAAAALMQRAACAhTgCAACwEEcAAAAW\n",
       "4ggAAMBCHAEAAFiIIwAAAAtxBAAAYCGOAAAALMQRAACAhTgCAACwEEcAAAAW4ggAAMBCHAEAAFiI\n",
       "IwAAAAtxBAAAYCGOAAAALMQRAACAhTgCAACwEEcAAAAW4ggAAMBCHAEAAFiIIwAAAAtxBAAAYHE0\n",
       "jpqbm5WVlaXk5GRlZGSosbHxqPOqq6uVlJSkhIQEFRUVqbe317GxgYEBlZWVKSUlRZMmTdKMGTPU\n",
       "0tLi0A4AAIBg42gclZSUqLi4WE1NTVqwYIEKCgqOmLNr1y4tXLhQ9fX1amlp0Z49e1RVVeXYWF1d\n",
       "nf71r3/pk08+0aeffqqZM2fq0UcfdXIbAABAEHEsjjo7O9XQ0KD8/HxJUl5entrb24/4K82aNWuU\n",
       "m5uryMhIuVwulZaWavXq1Y6NuVwu9fT06ODBgzLGqLu7WzExMU5tAwAACDKhTj1xe3u7oqKiFBp6\n",
       "+CVcLpfcbrc8Ho8SExO98zwej2JjY72P4+Li5PF4HBubPXu2Nm3apMjISI0cOVLR0dHavHnzMc+j\n",
       "p6dHPT09Pj/r7+8/tc0AAABB46y7IbuhoUHbt2/X119/rW+++UYzZ85UaWnpMecvXbpUERERPseW\n",
       "LVuGccUAAGA4ORZHY8eOVUdHh/r6+iRJxhh5PB653W6feW63W21tbd7Hra2t3jlOjL300ku6+uqr\n",
       "NWrUKI0YMUL33HOPNm3adMzzKC8vV1dXl8+RmZk5qD0BAACBz7E4GjNmjNLT07Vq1SpJUm1trWJi\n",
       "YnzeUpMO34tUV1en3bt3yxijlStXas6cOY6NxcfHa+PGjTp06JAkad26dbrsssuOeR5hYWEKDw/3\n",
       "OUJCQoZ2swAAQMBw9G21yspKVVZWKjk5WcuWLVNNTY0kqbCwUHV1dZIOx0pFRYWys7OVmJio0aNH\n",
       "q6SkxLGxBx54QJdccolSU1M1adIkbdiwQc8995yT2wAAAIKIyxhj/L2IYFNWVqbly5f7exkAAMAB\n",
       "Z90N2QAAAMdDHAEAAFiIIwAAAAtxBAAAYCGOAAAALMQRAACAhTgCAACwEEcAAAAW4ggAAMBCHAEA\n",
       "AFiIIwAAAAtxBAAAYCGOAAAALMQRAACAhTgCAACwEEcAAAAW4ggAAMBCHAEAAFiIIwAAAAtxBAAA\n",
       "YCGOAAAALMQRAACAhTgCAACwEEcAAAAW4ggAAMBCHAEAAFiIIwAAAMspxVF/f7/uvvtup9YCAADg\n",
       "d6cURyEhIWpqanJqLQAAAH4Xeqq/MGPGDBUXF6ugoEAXXHCB9+eTJk0a0oUBAAD4wynH0V//+ldJ\n",
       "0jvvvOP9mcvl0pdffjl0qwIAAPCTU46jXbt2ObEOAACAgHDScdTd3X3c8fDw8NNeDAAAgL+ddByN\n",
       "GjVKLpdLxpgjxlwul/r7+4d0YQAAAP5w0nE0MDDg5DoAAAACAl8CCQAAYCGOAAAALMQRAACAhTgC\n",
       "AACwEEcAAAAW4ggAAMBCHAEAAFiIIwAAAAtxBAAAYCGOAAAALMQRAACAhTgCAACwEEcAAAAW4ggA\n",
       "AMBCHAEAAFiIIwAAAAtxBAAAYCGOAAAALMQRAACAhTgCAACwEEcAAAAW4ggAAMBCHAEAAFgcjaPm\n",
       "5mZlZWUpOTlZGRkZamxsPOq86upqJSUlKSEhQUVFRert7XVsrKamRmlpad7joosu0i233OLQDgAA\n",
       "gGDjaByVlJSouLhYTU1NWrBggQoKCo6Ys2vXLi1cuFD19fVqaWnRnj17VFVV5djYvffeq23btnmP\n",
       "yMhI/epXv3JyGwAAQBBxLI46OzvV0NCg/Px8SVJeXp7a29vV0tLiM2/NmjXKzc1VZGSkXC6XSktL\n",
       "tXr1asfGbB9++KE6OzuVm5vr1DYAAIAgE+rUE7e3tysqKkqhoYdfwuVyye12y+PxKDEx0TvP4/Eo\n",
       "NjbW+zguLk4ej8exMVt1dbXuvvtunXPOOcc8j56eHvX09Pj8rL+//8QbAAAAgtJZe0P2Dz/8oFdf\n",
       "fVXz5s077rylS5cqIiLC59iyZcswrRIAAAw3x+Jo7Nix6ujoUF9fnyTJGCOPxyO32+0zz+12q62t\n",
       "zfu4tbXVO8eJsZ+8/vrrmjBhglJSUo57HuXl5erq6vI5MjMzT3ofAABAcHEsjsaMGaP09HStWrVK\n",
       "klRbW6uYmBift9Skw/ci1dXVaffu3TLGaOXKlZozZ45jYz+prq4+4V+NJCksLEzh4eE+R0hIyGnv\n",
       "DwAACEyOvq1WWVmpyspKJScna9myZaqpqZEkFRYWqq6uTpIUHx+viooKZWdnKzExUaNHj1ZJSYlj\n",
       "Y5L073//W9u2bdMdd9zh5OkDAIAg5DLGGH8vItiUlZVp+fLl/l4GAABwwFl7QzYAAMDREEcAAAAW\n",
       "4ggAAMBCHAEAAFiIIwAAAAtxBAAAYCGOAAAALMQRAACAhTgCAACwEEcAAAAW4ggAAMBCHAEAAFiI\n",
       "IwAAAAtxBAAAYCGOAAAALMQRAACAhTgCAACwEEcAAAAW4ggAAMBCHAEAAFiIIwAAAAtxBAAAYCGO\n",
       "AAAALMQRAACAhTgCAACwEEcAAAAW4ggAAMBCHAEAAFiIIwAAAAtxBAAAYCGOAAAALMQRAACAhTgC\n",
       "AACwEEcAAAAW4ggAAMBCHAEAAFiIIwAAAAtxBAAAYCGOAAAALMQRAACAhTgCAACwEEcAAAAW4ggA\n",
       "AMBCHAEAAFiIIwAAAAtxBAAAYCGOAAAALMQRAACAhTgCAACwEEcAAAAW4ggAAMBCHAEAAFiIIwAA\n",
       "AAtxBAAAYCGOAAAALMQRAACAhTgCAACwEEcAAAAW4ggAAMDiaBw1NzcrKytLycnJysjIUGNj41Hn\n",
       "VVdXKykpSQkJCSoqKlJvb6+jY5999plycnI0fvx4jR8/Xm+88YYDZw8AAIKRo3FUUlKi4uJiNTU1\n",
       "acGCBSooKDhizq5du7Rw4ULV19erpaVFe/bsUVVVlWNjBw4c0E033aQlS5bo888/1/bt23XVVVc5\n",
       "uQ0AACCIOBZHnZ2damhoUH5+viQpLy9P7e3tamlp8Zm3Zs0a5ebmKjIyUi6XS6WlpVq9erVjY6+8\n",
       "8oqmTJmiadOmSZJCQkI0evToY55HT0+Puru7fY7+/v6h3SwAABAwHIuj9vZ2RUVFKTQ0VJLkcrnk\n",
       "drvl8Xh85nk8HsXGxnofx8XFeec4MbZjxw6FhYXpxhtvVFpamubOnatvv/32mOexdOlSRURE+Bxb\n",
       "tmwZ1J4AAIDAd9bdkN3X16f169ersrJSH3/8saKjo3X//fcfc355ebm6urp8jszMzGFcMQAAGE6h\n",
       "Tj3x2LFj1dHRob6+PoWGhsoYI4/HI7fb7TPP7XZr586d3setra3eOU6NzZgxQ9HR0ZKk/Px8XXfd\n",
       "dcc8j7CwMIWFhfn8LCQk5OQ3AgAABBXH/nI0ZswYpaena9WqVZKk2tpaxcTEKDEx0WdeXl6e6urq\n",
       "tHv3bhljtHLlSs2ZM8exsdtvv10fffSRuru7JUlvvfWWUlNTndoGAAAQZBz7y5EkVVZWqqCgQI8/\n",
       "/rjCw8NVU1MjSSosLFRubq5yc3MVHx+viooKZWdnS5JycnJUUlIiSY6Mud1uPfroo8rKytKIESMU\n",
       "HR3t/SQbAACAyxhj/L2IYFNWVqbly5f7exkAAMABZ90N2QAAAMdDHAEAAFiIIwAAAAtxBAAAYCGO\n",
       "AAAALMQRAACAhTgCAACwEEcAAAAW4ggAAMBCHAEAAFiIIwAAAAtxBAAAYCGOAAAALMQRAACAhTgC\n",
       "AACwEEcAAAAW4ggAAMBCHAEAAFiIIwAAAAtxBAAAYCGOAAAALMQRAACAhTgCAACwEEcAAAAW4ggA\n",
       "AMBCHAEAAFiIIwAAAAtxBAAAYCGOAAAALMQRAACAhTgCAACwEEcAAAAW4ggAAMBCHAEAAFiIIwAA\n",
       "AAtxBAAAYCGOAAAALMQRAACAhTgCAACwEEcAAAAW4ggAAMBCHAEAAFiIIwAAAAtxBAAAYCGOAAAA\n",
       "LMQRAACAhTgCAACwEEcAAAAW4ggAAMBCHAEAAFiIIwAAAAtxBAAAYCGOAAAALMQRAACAhTgCAACw\n",
       "EEcAAACWUH8vAIfdsPwd7eg8pJQx5+qtsmv8vRwAAIZdoFwLiSM/i3vk7z6Pd3Qe8v6sddkv/bEk\n",
       "AACGVaBdCx19W625uVlZWVlKTk5WRkaGGhsbjzqvurpaSUlJSkhIUFFRkXp7ex0be/fdd3Xeeecp\n",
       "LS3Ne/z4448O7cDx/e//DKc6DgBAsAvEa6GjcVRSUqLi4mI1NTVpwYIFKigoOGLOrl27tHDhQtXX\n",
       "16ulpUV79uxRVVWVY2OSNG7cOG3bts17nHfeeU5uAwAACCKOxVFnZ6caGhqUn58vScrLy1N7e7ta\n",
       "Wlp85q1Zs0a5ubmKjIyUy+VSaWmpVq9e7djYqerp6VF3d7fP0d/fP9ht8bph+TtDOg8AgGATqNdC\n",
       "x+Kovb1dUVFRCg09fFuTy+WS2+2Wx+PxmefxeBQbG+t9HBcX553jxJgk7dy5U+np6crIyNBf/vKX\n",
       "457H0qVLFRER4XNs2bLllPbiaHZ0HhrSeQAABJtAvRaedR/lT09P11dffaWtW7fqzTff1MqVK/Xa\n",
       "a68dc355ebm6urp8jszMzNNeR8qYc4d0HgAAwSZQr4WOxdHYsWPV0dGhvr4+SZIxRh6PR26322ee\n",
       "2+1WW1ub93Fra6t3jhNj4eHhioiIkCTFxMTozjvvVH19/THPIywsTOHh4T5HSEjIqW/I/zjZjyjy\n",
       "sX4AwJkqUK+FjsXRmDFjlJ6erlWrVkmSamtrFRMTo8TERJ95eXl5qqur0+7du2WM0cqVKzVnzhzH\n",
       "xjo6OjQwMCBJ2r9/v9atW6fLL7/cqW0AAABBxtG31SorK1VZWank5GQtW7ZMNTU1kqTCwkLV1dVJ\n",
       "kuLj41VRUaHs7GwlJiZq9OjRKikpcWystrZWEydOVGpqqqZMmaJrrrlG9957r5PbcEwn+u4GvucI\n",
       "AHCmC8RrocsYY4b9VYNcWVmZli9fPqTPGSjfCgoAgL8EyrWQb8gOEAQRAOBsFyjXwrPu02oAAADH\n",
       "QxwBAABYiCMAAAALcQQAAGAhjgAAACzEEQAAgIU4AgAAsBBHAAAAFuIIAADAQhwBAABY+LfVBuGW\n",
       "W25RXFzckD5nf3+/tmzZoszMTIWEhAzpc8MXez082OfhwT4PD/Z5eDi9z7GxsZo/f/4J5xFHAaK7\n",
       "u1sRERHq6upSeHi4v5dzRmOvhwf7PDzY5+HBPg+PQNln3lYDAACwEEcAAAAW4ggAAMBCHAWIsLAw\n",
       "LVq0SGFhYf5eyhmPvR4e7PPwYJ+HB/s8PAJln7khGwAAwMJfjgAAACzEEQAAgIU4AgAAsBBHg9Tc\n",
       "3KysrCwlJycrIyNDjY2NR51XXV2tpKQkJSQkqKioSL29vX4bC0aBuM8bN25UZmamUlJSNGHCBD38\n",
       "8MMaGBhwaAeGTyDu9U+MMbr66qs1atSooT1pPwjUff7ss8+Uk5Oj8ePHa/z48XrjjTccOPvhE4j7\n",
       "PDAwoLKyMqWkpGjSpEmaMWOGWlpaHNqB4eGvfW5tbVVOTo4iIiKUlpZ2Sq93UgwGZcaMGaampsYY\n",
       "Y8zrr79urrjiiiPmfPnllyYqKsp0dHSYgYEBM3v2bPPss8/6ZSxYBeI+b9261ezcudMYY8yPP/5o\n",
       "srOzvWsMZoG41z956qmnTGFhoYmIiHBuA4ZJIO7zDz/8YC655BJTX19vjDGmr6/PdHZ2Or0VjgrE\n",
       "fX7zzTdNZmamOXTokDHGmD/+8Y/mtttuc3orHOWvfd67d6+pr68369atM6mpqSf9eieLOBqEPXv2\n",
       "mJEjR5re3l5jjDEDAwPm4osvNs3NzT7z/vSnP5mSkhLv47///e8mOzvbL2PBKFD3+X898MADZtGi\n",
       "Radxpv4XyHu9fft2c9VVV5mWlpagj6NA3efnn3/e3HnnnUN5qn4VqPu8du1ak5qaarq7u83AwIB5\n",
       "6KGHzO9+97uhPPVh5c99/smmTZuOiKOhuBbyttogtLe3KyoqSqGhoZIkl8slt9stj8fjM8/j8Sg2\n",
       "Ntb7OC4uzjtnuMeCUaDus2337t1as2aNbrzxxtM9Xb8K1L3u7e1VUVGRKisrz4h/7DNQ93nHjh0K\n",
       "CwvTjTfeqLS0NM2dO1fffvvtUJ76sArUfZ49e7ZycnIUGRmpqKgobdiwQYsXLx7KUx9W/tzn4xmK\n",
       "ayFxBAxSd3e3Zs+erYcfflhXXHGFv5dzRqqoqNAtt9yi8ePH+3spZ7S+vj6tX79elZWV+vjjjxUd\n",
       "Ha3777/f38s64zQ0NGj79u36+uuv9c0332jmzJkqLS3197JwFMTRIIwdO1YdHR3q6+uTdPhmUY/H\n",
       "I7fb7TPP7Xarra3N+7i1tdU7Z7jHglGg7rMk7d+/X9dff71uuukmlZWVDdUp+02g7vXmzZv1zDPP\n",
       "KC4uTtOmTVN3d7fi4uKC9q8agbrPbrdbM2bMUHR0tFwul/Lz8/XBBx8M5akPq0Dd55deesn7wYIR\n",
       "I0bonnvu0aZNm4by1IeVP/f5eIbkWnhKb8LBa/r06T43oU2ePPmIOTt37jziprBnnnnGL2PBKhD3\n",
       "ef/+/SYrK8tUVFQMww4Mn0Dca9uuXbuC/p4jYwJzn9va2syll15qurq6jDGH79m44YYbnN4KRwXi\n",
       "Pj/11FNm5syZpqenxxhjzLJly8y1117r9FY4yl/7/JOj3XM0FNdC4miQvvjiCzNlyhSTlJRkJk+e\n",
       "bD799FNjjDHz5s0zf/vb37zzqqqqTHx8vImPjzf33Xef91MK/hgLRoG4z0uWLDGhoaEmNTXVeyxZ\n",
       "ssTprXBcIO617UyJo0Dd55deeslMmDDBTJw40Vx//fXG4/E4uQ2OC8R9PnjwoCksLDSXXnqpmThx\n",
       "ornmmmu8n3wNVv7a5x9++MFER0ebiy66yJxzzjkmOjraPPLIIyf1nCeDf1sNAADAwj1HAAAAFuII\n",
       "AADAQhwBAABYiCMAAAALcQQgKKWlpWn//v0nnJeTk6O1a9cedWzt2rWD+j6fBx98UI899tgp/x6A\n",
       "4EAcAQhK27Zt08iRI0/rOQYbRwDObMQRAL+oqqpScXGxpMP/tpfL5dLbb78tSVq8eLEWL16s5uZm\n",
       "/fKXv1RGRoYmTZqkZ5991vv7LpdL//3vfyVJ77//vtLS0jRx4kTdd999Sk1N1bvvvuud+9577+mq\n",
       "q65SQkKC959reOutt1RXV6cnnnhCaWlpeuGFF4651o6ODl133XVKSUnRrFmz9NVXX3nHent79cgj\n",
       "jygzM1NpaWm6/fbbtW/fPklSV1eXCgsLddlllyk1NVX33XefJGnDhg2aOnWqLr/8ck2YMEHV1dWS\n",
       "pG+++UYXX3yxDhw44H3+u+66S88999xgtxnAYAziO58A4LTt3LnTXHLJJcYYY/785z+bqVOnmoce\n",
       "esgYY8y0adPMe++9ZyZPnmw+//xzY8zhL32bOHGi2bJlizHGGElm3759pqenx8TExJiNGzcaY4zZ\n",
       "uHGjkWQ2bdpkjDn8Db4333yz6e3tNQcOHDBxcXHm/fffN8YYc88995gVK1accK233nqr+cMf/mCM\n",
       "Mearr74yF110kVm0aJExxpj/+7//M4sXL/bOXbx4sfn1r39tjDGmoKDA3H///aa/v98YY0xnZ6cx\n",
       "xpjvvvvO9PX1GWOM2bt3r3G73aa9vd0YY8xdd91lKisrjTHG7N6924wePdrs37//VLYWwGkK9Xec\n",
       "ATg7xcfHS5K+/PJLrV+/XkuXLtXvf/97ff/999qxY4dGjhypxsZGzZkzx/s7+/fv144dO5SRkeH9\n",
       "2RdffKHQ0FDNmDFDkjRjxgwlJCT4vNYdd9yh0NBQhYaGKi0tTTt37tTUqVNPeq0bNmzQk08+KUmK\n",
       "jo5Wbm6ud2zt2rXq6upSbW2tJOnQoUOKi4uTJK1bt04ffvihRow4/Ef60aNHS5L27t2refPmqamp\n",
       "SaGhodq7d6+2b9+umJgYzZ8/X0VFRSouLtbzzz+vO++8UxdccMFJrxXA6SOOAPjNrFmz9I9//EPN\n",
       "zc2aPn26jDGqra3V1KlTFRISogsvvFDbtm075ed1uVw+j3/2s595/zskJMT7D2UOlv38xhg988wz\n",
       "uvbaa0/690tLS3XDDTeotrZWLpdL6enpOnjwoCQpMzNT559/vjZt2qSqqiqtX7/+tNYK4NRxzxEA\n",
       "v5k1a5aeeOIJZWZmSpKuvvpqLVq0SLNmzdK4ceMUHh6umpoa7/yWlhZ99913Ps8xbtw49fb2avPm\n",
       "zZKkzZs3q6Wl5aRePzw8XF1dXSe1zhdffFHS4fuP6urqvGM333yzVqxY4b1P6MCBA2psbJQk5ebm\n",
       "6sknn9TAwIAk6dtvv5Uk7du3T7GxsXK5XPrnP/+pTz75xOf15s+fr7lz52r8+PFKTk4+qXMBMHSI\n",
       "IwB+M3PmTHk8Hs2aNUuSdM0116itrU0zZ85UaGio1q1bpzfeeEOTJk3ShAkTNG/ePP34448+zxEW\n",
       "FqZXX31Vv/3tbzVx4kTV1NRo3LhxGjVq1Alf/+6779Zrr72myy+//Lg3ZD/99NP64IMPlJKSorlz\n",
       "5+rqq6/2ji1YsEAZGRm68sorNWnSJE2ZMsX7164VK1aop6dHEydOVFpamh599FFJ0rJly/TII48o\n",
       "LS1NL774oq688kqf17v11lv1/fff6ze/+c3JbCOAIcY/PAsg6O3fv9/7sf6PPvpIubm52rlzp84/\n",
       "/3w/r2xwGhoadNddd+mLL77w3q8EYPhwzxGAoFdbW6sVK1bIGKPQ0FC9/PLLQRtGhYWFevvtt/XC\n",
       "Cy8QRoCf8JcjANDh7z366W0vW3l5ue644w4/rAiAvxBHAAAAFv5mCwAAYCGOAAAALMQRAACAhTgC\n",
       "AACwEEcAAAAW4ggAAMBCHAEAAFj+H04Abq29vVIQAAAAAElFTkSuQmCC\n",
       "\">\n",
       "      </div>\n",
       "      <script type=\"text/javascript\">\n",
       "        (() => {\n",
       "          const chartElement = document.getElementById(\"chart-6ecdecce-a085-44c4-b86e-c682404874ed\");\n",
       "          async function getCodeForChartHandler(event) {\n",
       "            const chartCodeResponse =  await google.colab.kernel.invokeFunction(\n",
       "                'getCodeForChart', [\"chart-6ecdecce-a085-44c4-b86e-c682404874ed\"], {});\n",
       "            const responseJson = chartCodeResponse.data['application/json'];\n",
       "            await google.colab.notebook.addCell(responseJson.code, 'code');\n",
       "          }\n",
       "          chartElement.onclick = getCodeForChartHandler;\n",
       "        })();\n",
       "      </script>\n",
       "      <style>\n",
       "        .colab-quickchart-chart-with-code  {\n",
       "            display: block;\n",
       "            float: left;\n",
       "            border: 1px solid transparent;\n",
       "        }\n",
       "\n",
       "        .colab-quickchart-chart-with-code:hover {\n",
       "            cursor: pointer;\n",
       "            border: 1px solid #aaa;\n",
       "        }\n",
       "      </style>"
      ],
      "text/plain": [
       "from matplotlib import pyplot as plt\n",
       "df_grid_search.plot(kind='scatter', x='weight_decay', y='lr', s=32, alpha=.8)\n",
       "plt.gca().spines[['top', 'right',]].set_visible(False)"
      ]
     },
     "metadata": {},
     "output_type": "display_data"
    },
    {
     "data": {
      "text/html": [
       "      <div class=\"colab-quickchart-chart-with-code\" id=\"chart-12f5a04d-13bc-454d-9cd8-a8ade338909e\">\n",
       "        <img style=\"width: 180px;\" src=\"data:image/png;base64,iVBORw0KGgoAAAANSUhEUgAAAiwAAAGkCAYAAAASfH7BAAAAOnRFWHRTb2Z0d2FyZQBNYXRwbG90\n",
       "bGliIHZlcnNpb24zLjEwLjAsIGh0dHBzOi8vbWF0cGxvdGxpYi5vcmcvlHJYcgAAAAlwSFlzAAAP\n",
       "YQAAD2EBqD+naQAATiRJREFUeJzt3Xt4XNV5L/7v2pfZM5qtG5J8FZbAF4zvl8RgIBiSULADTUpM\n",
       "zwnHTsKBYOc0oSmhF9qnoWna0NPTcpIDJ4m5nLRBCQnXxCWY5xdyIdBgE7DB2IGAnEi2sawbljQz\n",
       "mtmz917r98do5JEsSzJo9h6Pv5/n2RmPZtm82tOn885a73qXUEopEBEREZUwLewAiIiIiCbChIWI\n",
       "iIhKHhMWIiIiKnlMWIiIiKjkMWEhIiKikseEhYiIiEoeExYiIiIqeUxYiIiIqOSVTcLy9a9/PewQ\n",
       "iIiIqEjKJmFpb28POwQiIiIqkrJJWIiIiKh8MWEhIiKikseEhYiIiEoeExYiIiIqeUxYiIiIqOQx\n",
       "YSEiIqKSx4SFiIiISh4TFiIiIip5TFiIiIio5DFhISIiopLHhIWIiIhOKuP66Ek6yLh+qHEYof7X\n",
       "iYiIqCR1Jxy07GzD0/s6kXZ9xEwd65fMwKa1Tai3rcDj4QwLERERjdCdcPD5h/bgu7sOIuV4MDSB\n",
       "lOOhZVc7Pve9PehJOoHHxISFiIiIRmjZ2YbWrgQabAu18QjiloHaeAQNtoXWrgRaXmgPPCYmLOMo\n",
       "lXU7IiKioGRcH0/v60TU0GHoI9MEQ9dgGTp27D8a+Gcja1jGUGrrdkREREFJOh7Sro+IMfachmVo\n",
       "SGd9JB0PUVMPLC7OsIxSuG6XcFwIASQcN9R1OyIioqDYloGYqSPrSQCAVAqeLyGVAgA4nkQsosO2\n",
       "gp3zYMIySsvONrzZmQAU0JvMoqMvg95kFlDAm53hrNsREREFJWrquGrJdAxmPRzpG0RrVxKt3Um0\n",
       "diXR0ZdGOuth/eIZgc6uAExYRsi4Pp7c24FkxkVf2s1lkyKXXfalXSQzLp7ce4Q1LUREVNY2LJ2J\n",
       "rK/Qm3LheBKur+B4Ej2pLLK+woZlMwOPiQlLgaTjoTvhwJcKhiZgaBp0kXs0NAFfKnQnHCQdL+xQ\n",
       "iYiIiuaRlw6f9Mt5xvXx6EuHAo6ICcsIpiaQGVqzE0KMeC3/PO1JmJo44e8SERGVg4zr44k9b8OT\n",
       "6oTXBABPKjy2++3AVxuYsBRwpUJ0qCpaqZFvVP551NDgjvEmEhERlYPepIO+weyYr+U//foGs+gN\n",
       "eBMKtzUXsC0DDZUWMp6EKxU0oSAgoKAgFaDrGhoqrcAro4mIiAIjAH+C7+W+yo0LEmdYCkRNHVcv\n",
       "mwk7oqM2ZkITuWRFEwK1MRN2RMc1y2YFXhlNREQUlMmWPQRdHsGEZZTNa5txToONQdfP7TuXuf3n\n",
       "g66PcxpsbFrbFHaIRERERdOX9iAmyEWEyI0LEhOWUfKlK0opCCGGr9E1LUREROVoeqU14eyJqQlM\n",
       "rwy28zsTllFadrahvTeF5ro4zptRifnTbJw3oxLNdXG096bYOI6IiMpadUUEK86ugQCgi1ypSv7K\n",
       "P185pxbVFZFA42LCUmD0gU+aECMewzrwiYiIKEj/8EdLURk1IHP9U6ENJSpSAZVRA1/52JLAYypq\n",
       "wpLJZPCxj30MCxYswPLly3HFFVegtbV1zLFPPvkkFi5ciPnz5+Paa6/FwMBAMUMb06kc+ERERFSu\n",
       "FkyvxH2ffB9mVkchkdsVJAHMqonivk+9DwumVwYeU9FnWG6++Wb89re/xauvvoqPfvSjuOmmm04Y\n",
       "k0wmceONN+KHP/wh3nrrLcyaNQtf+cpXih3aCUYf+DRaWAc+ERERBak74eB/P/MWsr7ErOooGmtj\n",
       "mFUdheNJ/O+fvBXKQcBFTVii0Sg2bNgw3CX2wgsvRFtb2wnjduzYgZUrV2LhwoUAgP/xP/4HHnro\n",
       "oZP+u47jYGBgYMTl++99mSZ/4FPGy+0QKuT5Eo7nh3LgExERUZBadrahtSuBBttCnW2htiKCOttC\n",
       "g22htSucg4ADrWH5+te/jo9+9KMn/PzgwYNoajq+Xbi5uRkdHR3wvLGXXu68805UV1ePuF588cUp\n",
       "iXHz2mbMm1aJ7qSDd1JZpBwP76Sy6E46mD+tktuaiYiorI2u5ywUZj1nYAnLV7/6VbS2tuLOO+98\n",
       "z//W7bffjv7+/hHXmjVrpiBKoN62cM/1K7HpgibYUQOeVLCjBjZd0IS7r1+JejvYbVxERERBKtV6\n",
       "zkCKMf7lX/4Fjz/+OJ555hlUVFSc8PqcOXPwk5/8ZPh5W1sbZs6cCcMYOzzLsmBZIxMHXZ+6ZZp6\n",
       "28IXrliArZfNRdLxYFsGl4GIiOiMkK/nTDke4mN8R3c8CTtqBF7PWfQZlrvuugsPPfQQfvKTn6Cm\n",
       "pmbMMVdddRV2796NN954AwDwjW98A//1v/7XYoc2oaipo962mKwQEdEZo1TrOYuaHh0+fBhf/OIX\n",
       "ce655+Lyyy8HkJsd2bVrF770pS9h1qxZ2Lp1KyorK3H//ffjYx/7GDzPw5IlS/Dv//7vxQxtUjKu\n",
       "zxkWIiI642xe24xdvz+G1q4ELEOHZWhwvFyyElY9p1Bl0nP+1ltvxV133TUl/1Z3wkHLzjY8va8T\n",
       "addHzNSxfskMbFrbxBoWIiI6I/QkHbS80I4d+48infURi+hYvzi8z0I2FBmlO+Hg8w/tQWtXAlFD\n",
       "R8TQkHI8tOxqx87fv4N7WHhLRERngFKr52Rr/lEK957XxiOIWwZq45FQ954TERGFpVTqOZmwFCjV\n",
       "vedERERnOiYsBUp17zkREdGZjglLAZ4lREREVJqYsBQo1b3nREREZzpOFYxSinvPiYiIwlIqPcmY\n",
       "sIySP0uo5YV2/HhfBwYdHxWWjutWN7IPCxERnTFKrScZl4TGoBSgoKAUIFXukYiI6EyR70n23V0H\n",
       "kXI8GJoY7kn2ue/tQU/SCTwmJiyjdCccbG15Gff98vdo60mhO+GgrSeFe3/5O2x58OVQ3iQiIqIg\n",
       "FfYkq64wYZkaqivMUHuSMWEZZduzB7D3cB8cz4cQgKYJCAE4no+9h/tw77MHwg6RiIioaPI9yUxN\n",
       "Q28qi9auJA50pdDalURvKgtT10LpScaEpUDG9fHEnrfhSwVT12BoGnQhYGgaTF2DLxUe2/02G8cR\n",
       "EVHZSjoeko6HY4NZvJPKQioFiFyJxDupLI6lskhmvMB7kjFhKdCbdDCQcSEEIIQY8ZoQuZmWgYyL\n",
       "Xi4LERFRmbItAxnXR9aXMDQx4su7oQlkfYmM6wfek4y7hAqJkX8oPMg6l8CIUeOIiIjKjyrB3SZM\n",
       "WArUxS1UWgaODbrIKh+y4P3SBCAVUBOPoC7Orc1ERFSeko6HWMTAYNaHKxU0oSAgoKAgFRDRNURN\n",
       "HUnHC7QvC5eECkRNHeuXzoAC4CtA4fiVf75hCTvdEhFR+bItA7ZloLYigrp4BNpQiYQmBOriEdRU\n",
       "RGBHjcCXhJiwnGCC9R4uBxERURnLH1PjSom6eATzptmY2xDHvGk26uIReFKGckwNE5YCGdfHU691\n",
       "jDvmx3s7uEuIiIjK2ua1zZg3rRLdSQd9gy4cT6Jv0EV30gntmBomLAV6kw760+64Y/rS3CVERETl\n",
       "LX9MzaYLmmBHDXhSwY4a2HRBE+6+fmUorflZdFvA8UcW2o5Fqtw4IiKiclZvW/jCFQuw9bK5PPyw\n",
       "5Ex2F1fp7fYiIiIqiqipl8RmEy4JFbAMfcKaWjE0joiIiILDhKVAnW2hpsIcd0xthYm6ENbuiIiI\n",
       "zmRMWApETR0bVzfC0MQJMy0CgKEJbFzdWBJTY0RERGcSJiyjbFk3F8vPrkEsosPQBHQtl6jEIjqW\n",
       "n12Dm9fNDTtEIiKiMw6Lbkepty1s27waLS+046l9HUg5PuKWjg1LZmLT2qZQtnIRERGd6ZiwjKHU\n",
       "tnIRERGFJeP6JfFZyIRlHKWylYuIiCho3QkHLTvbsGPf0ZJYbWDCQkRERCN0JxxsbXkZrx8ZQNaX\n",
       "wz+/95e/w3OtPdi2eXXgSQuLbomIiGiEbc8ewN7DfXA8H0IAmiYgBOB4PvYe7sO9zx4IPCYmLERE\n",
       "RDQs4/p4Ys/b8KWCqWvQNQENgK4JmLoGXyo8tvvtwA8CZsJCREREw3qTDgYyLgQATyo4roTjSTiu\n",
       "hCcVBICBTPAHAbOGhYiIiI4TgFKArwAoNaKRqjd0QrBQuXFB4gwLERERDauLWzAKswNRcA0xdYG6\n",
       "OItuiYiIKESxyPEFGKWOX3lhtPxgwkJERETDko6HiogBSx/7XD1LF6iIGEg6XqBxsYaFiIiIhtmW\n",
       "AdsyIJUFXyr0DWahFCAEUFMRga4J2NHcmCBxhoWIiIiGRU0dVy2ZDteXqItHMH96JeZNtzF/eiXq\n",
       "4hG4vsT6xTMCXxbiDAsRERGNsHltM3b9/hhauxKIGBpMXcD1FbKexPxpldi0tinwmDjDQkRERCPU\n",
       "2xa+/IeLMbchjp5kFm8fy6AnmcXcBhtf/ujiUM4SYsJCREREI3QnHNyxfT8OdKfQEI9gdk0MDfEI\n",
       "DnQn8aUf7UdPwE3jACYsRERENErLzja0diXQYFs4y7ZQFTNxlm2hwbbQ2pVAywvtgcfEhGUcGddH\n",
       "T9IJ/LwEIiKisGRcH0/v60TU0GHoI9MEQ9dgGTp27D8a+Gcji27H0J1w0LKzDU+9dhSDWR8VER0f\n",
       "WToTm9Y2hbJuR0REFJSk4yHt+ogYY89pWIaGdNZH0vEC3SnEhGWU7oSDLQ++jNc7+uH6x9v6bfvl\n",
       "ATzX2oNtm1czaSEiorJlWwZipo6U4yFuAZ6U8DwJw9BgaBocT7IPSynY9mwr9h7uQ9ZTEALQhIAQ\n",
       "QNZTePVQH+599kDYIRIRERVNvg9L0nHxVucA3uhI4K3uFN7oSKC1K4GU44bSh4UJS4GM6+Px3W9D\n",
       "KgVTFzA0DbqWezR1AakUHtv9NmtaiIiorK09tw4Jx0PGU8ivNSgAaVci4XhYO68u8JiYsBToTTlI\n",
       "OB6EEBBi5AkK+Z8NZFz0poLfzkVERBSUu37yJqQE9FGHCekCkBK46/97M/CYmLAUUif8YewBJ3uZ\n",
       "iIjoNNc/mMUrh/uHDz4sfBQidyDinkN96B/MBhoXE5YCdbaFqqg5dIz2yKxEKQWlgKqoiToW3RIR\n",
       "UZnqTDjwfQkJwFcYsSTkSZX7uS/RmQh2tYEJS4GoqePaVbOhawKuL+FJCV8peFLC9SV0TeDjq2YH\n",
       "XmhEREQUlOmVFuQEKwlqaFyQmLCMsmXdXCxrrIFl6lAKkDI3s2KZOpY11uDmdXPDDpGIiKhoLFOH\n",
       "rolxx2hCwOJpzeGqty1s27waLS+046l9HUg5PuKWjg1L2DiOiIjKX2/SmbBUUw2Nm11bEURIAJiw\n",
       "jKnetvCFKxbghoub0ZlwML3SQnVFJOywiIiIik/kVhfGI6U6Xo0bECYsY8i35t+x7yhnWIiI6Ixi\n",
       "amJSMyzmBMtGU40JyyjdCQdbW17G60cGkPXl8M/v/eXv2JqfiIjKXl/am/S4aVVFDqZAUYtub7nl\n",
       "FjQ3N0MIgVdeeWXMMVJK3HbbbViyZAkWLlyIG2+8EdlssHu7C2179gD2Hu6D4/m51vxarjW/4/nY\n",
       "e5it+YmIqLxNr7Rgju4YN4qpi/LaJbRx40Y8//zzaGpqOumYBx54ALt378bu3bvx+uuvQ9M0fP3r\n",
       "Xy9mWCeVcX08sedt+FLB1HOHPOki35pfgy/Zmp+IiMpbdUUEK8+uATB2p1sAWDWnNvDazqImLJde\n",
       "eikaGxvHHfPqq6/iwx/+MCKRCIQQWL9+PR588MFihnVSvUkHAxkXQuAkrfmRa82fZGt+IiIqX//w\n",
       "R0tRFTUgVS5R0LXco1RAVdTAVz62JPCYQu/Dsnr1amzfvh0DAwNwXRcPP/ww2traxv07juNgYGBg\n",
       "xOX7UzDrIU74w9gDAq6MJiIiCtKC6ZV49LMXYc05Z8EwNAAChqFhzTln4dHPXoQF0ysDjyn0hOXT\n",
       "n/40rrrqKqxbtw7r1q3DggULYBjj1wLfeeedqK6uHnG9+OKL7zmWuriFSssYasM/Vmt+lWvNH2fR\n",
       "LRERlbfaigguPPcszDkrhgbbwpyzYlh7bh3OiofT5iP0hEUIgb/7u7/Dnj178Ktf/QqLFi3C4sWL\n",
       "x/07t99+O/r7+0dca9asec+xRE0dH189G5oQcP1cS35f5lvzK2iCrfmJiKj8dSccfP6hPfjuroPI\n",
       "ZCUqIjoyWYmWXe343Pf2oCeE0ojQE5ZMJoNjx44BAHp6evBP//RP+Iu/+Itx/45lWaiqqhpx6frU\n",
       "JBFb1s3D8rNrEDEEpFTwpYSUChFDYMXZbM1PRETlr2VnG1q7EmiwLVRXmLAMDdUVJhpsC61dCbS8\n",
       "0B54TEVNWLZs2YLGxkYcPnwYV155JebNmwcAuOmmm7B9+3YAQH9/Py666CIsXrwYH/jAB7B161Zc\n",
       "c801xQxrXPW2hT//gwWorTDhKwxfZ8Uj+POrzmMPFiIiKmsZ18fT+zphahp6kg5au5I40J1Ca1cS\n",
       "vaksDE3Djv1HA98xW9TGcdu2bRvz5/fff//wn6dPn47XX3+9mGGckjc6BnDzgy8jkfGgD+0WUkrh\n",
       "SF8Gn/n3l0IrNiIiIgpC0vGQdDwcG8zClQoCCgICUin0prIwNQFdE0g6XqAlEqEvCZWaL/1oHxIZ\n",
       "DxFdwDQ0GEOPEV0gkfHwtz/cF3aIRERERWNbBtJZD44nAaXgS8CTuUcoBceTyLg+bCvYZvlszV+g\n",
       "fzCLVw73QxNDS0Hu8db8uiagCWDPoT70D2Z5GCIREZUtNXT5ow4Vyj+XaqLThqYeZ1gKdCYc+FLB\n",
       "V7lsspA39HNfKnQm2DiOiIjKU9LxkPXkuGNcXyLpTO7MoanChKXA9EoLGMoaRf5/hq7hXnFKBX5+\n",
       "AhERUVBMTUxYUJvO+oGf1syEpYBl6sMHPo2e7Mo/jxgaLPZhISKiMpV0vOHPPAHkjqspeARyn4mc\n",
       "YQlR0vFQU2EN3xSljl9A7mZVxyKBv0lERESBEYAmCr6857MXdfyPWmH2EhAW3RawLQPVMRNSKiSz\n",
       "HtJZHwq59yQW0RGPGKiuMAOvjCYiIgpKXdxCVdRAX9qFQO7AwzxdABJAdSz4Y2o4w1Igauq4asl0\n",
       "SCg0nVWBhTMrMb8hjoUzK9F0VgUUFNYvnsHW/EREVLYKj6kBBHRdwNRzj4CAHtIxNUxYRtm8thnz\n",
       "plWiO+lgIO3BV8BA2kN30sH8aZXYtLYp7BCJiIiKqvCYGqihWRaFUI+p4drGKPW2hXuuX4mWF9qx\n",
       "Y/9RpLM+7KiB6xY3YtPaJrbmJyKisldvW9i2eTVaXmjHj/d1YNDxUWHp+MiSmaF9FgqlQuj+UgS3\n",
       "3nor7rrrrin9NzOuj6TjwbYMLgMREdEZqVQ+CznDMo6oqTNRISIiKgFMWIiIiOgE3QkHLTvb8PS+\n",
       "TqRdHzFTx/olM0JbEmLRLREREY3QnXDw+Yf24Lu7DiLleDA0gZTjoWVXOz73vT3oSQZ/RA0TFiIi\n",
       "IhqhZWcbWrsSaLAtVFeYsAwN1RUmGmwLrV0JtLzQHnhMTFjGkXF99CSdCc9UICIiKhcZ18fT+zph\n",
       "ahp6kg5au5I40J1Ca1cSvaksDE3Djv1HA/9sZA3LGPLrdk+9dhSDWR8VER0fWRreVi4iIqKgJB0P\n",
       "ScfDscEsXKmgCUBAQCqF3lQWpiagawJJxwt0YwoTllG6Ew62PPgyXu/oh+sf3/G97ZcH8FxrD7Zt\n",
       "Xs2khYiIypZtGUhnPWR9iYiu5c6nUQCEgK6ArC+Rcf3Aj6nhktAo255txd7Dfch6augAKAACyHoK\n",
       "rx7qw73PHgg7RCIioqISQkABcKVCxpXIeBIZV8KTCmE1b2PCUiDj+nh899uQKteD2PcVXD/3CChI\n",
       "pfDY7rdZ00JERGUr6XiIGBqUAnw5Mj3xpIJSQMTQkHS8QONiwlKgN+VgIONBKsAfOkY7f/lDZyn0\n",
       "p130poLfzkVERBQE2zIm/GIexpIQa1gKKQzNrpycVEOZDBERUZlKZ4/Pnghx/Of5j8gwVho4w1LA\n",
       "tgzICZIRqRB4VklERBSU3pQDTx5/PlQlgcLv866vAl9tYMJSIJmd3HrcZMcRERGddlRuVkUXI340\n",
       "TBNDsy4BrzYwYSngTHKKa7LjiIiITjd1toWKiA7/JAmJVEA8YqAu4BYfTFgKWIae28Y8Dk3kxhER\n",
       "EZWjqKkjaoyfHkRNLdCmcQATlhHqbAvVMXPEz0bnLzUxM/CskoiIKCj9g1m8M+iOO6Y3lUX/YDag\n",
       "iHKYsBSImjo2rm6EoYnhRCU/IyYAGJrAxtWNgWeVREREQelMOFAK0DWM+DzMfw7qWq4AtzPBottQ\n",
       "bVk3F8vPrkEsog+/MYYmEIvoWH52DW5eNzfsEImIiIpmeqUFTRPD39jzX9yHHxWgaQLTK4NdbeD+\n",
       "3FHqbQvbNq9GywvteGpfB1KOj7ilY8MSHn5IRETlr7oigsUzK7HnUD+g1IjSCG+o98eSWVWorogE\n",
       "GhcTljHU2xa+cMUCbL1sLpKOB9syuAxERERnjMWzqvHKof7hbu+FBIDFM6sCj4kJyziips5EhYiI\n",
       "zigZ18ev246hodJC0vGQzvq5w5oBxCI6bMvAi+3HkHH9QD8jmbAQERHRsKTjIT10VtD0qihc34fj\n",
       "SViGBlPXkRpKYpKOx4SFiIiIwmFbBmKmjoG0i6TjoT/tQioFTQhUx0zomkBVzAz8mBruEhpHxvXR\n",
       "k3RCOeSJiIgoDFFTxwfm16M76aA74cDxJFxfwfEkuhO5n62bXx94yQRnWMbQnXDQsrMNO/Yd5S4h\n",
       "IiI646SzPnypTii4VQB8qZDO8rTm0HUnHGxteRn3/fL3ONCVxNH+NA50JXHvL3+HLQ++jJ5ksI1y\n",
       "iIiIgpRxfTy9/yiA3AGIAsev/IGIT+07GvjqAxOWUbY9ewCvHjqGQdeHrzB8pV0frx46hnufPRB2\n",
       "iEREREXTm3QwkHGhaUDE0GEZ2vAVMXRoGjCQcdEb8Bd4JiwFMq6Px3YfhidPfE0B8CTwyMuHWdNC\n",
       "RETlS4z8gxBi+BoxYILDgqcaE5YCvUkHfRMc+NSfDj6rJCIiCkpd3EKlZUApBaVGVrHkf1YVNVEX\n",
       "D7amkwlLAcf3TygwGk2q3DgiIqJyFDV1fHz1bGhCwPUVPCnhy9yj6+e2N3981ezAdwkxYSlg6ZO7\n",
       "+ZMdR0REdDrasm4elp9dg4ghIKWCLyWkVIgYAitCOgiYCUsB2zKgTbAmpwsE3iyHiIgoSPW2ha/+\n",
       "0RIsm10NXdcAIaDrGpY11uCr1y4NpcUHE5YCrlSIT5CMVFgGXDnRwhEREdHpqzvh4I7tv8GBnhTq\n",
       "4xHMrI6iPh7Bge4kvvSj/aG0+GDCUsC2DNTFIyctfBYA6uwIZ1iIiKistexsw5udCUABvaksugYc\n",
       "9KaygALe7Eyg5YX2wGNiwlIgauqYVpmb5so3ywFGNsuZXhnlCc5ERFS2Mq6PJ/d2IJlx0Td0jhAA\n",
       "SKXQl3aRzLh4cu8RNo4LU8b10ZvKwtQ1SIXhHUMKgARg6hrPFiIiorKWdDx0Jxx4Q635PV/B9SU8\n",
       "P/ep6EmF7oSDpOMFGhcTlgJJx0PGlRBjbW5WgIBCxpWBv0lERERBMTWBjOtDqty5QYU8qSCHur+b\n",
       "E+1SmWIsxihgWwbSWQ+uVLCME3O5rC+RcX3WsBARUdk6YWNJYV6ixhlXZPzkHeV46+GRfx7d7Y+I\n",
       "iKgcmdrIdYaxPv7U0LggMWEpkHQ8RE0dEV2DJ3OVK0KIoWRFIKJriJr68DgiIqJy40qFmKnD9z0I\n",
       "kevwnqeJXAJTYeqcYQmTbRmwLQOuL5HMuBh0FfLzXxURLfd61OCSEBERlS3bMjCt0hquY9GFgoBA\n",
       "rgRXQNeAhkor8M9CFt0WiJo6PjC/Dr1JB4PuyCOb01kfvUkH6+bXc3aFiIjKVtTU8ZFlM1FhGYjo\n",
       "Ap7Mzbp4EojoAnHLwNXLZvEsobClXYmxZrkUctNi6Sy3NBMRUXnbsHQWPF+e8OV90JVwfYkNy2YG\n",
       "HhMTlgIZ18eO1zoAgRO63Yqh/3lq31H2YSEiorL2yEsHkRmVrORlXIlHXzoUcERMWEboTTkYyHhQ\n",
       "Cid0YlHIFRr1p130poI/Q4GIiCgIGdfHoy8fHtp8ciJPKjzy8mF2ug2VwnAL4pORY2UzREREZSL/\n",
       "5X08YXx5P+WE5de//jUGBwcBAA8//DBuu+02HDlyZMyxt9xyC5qbmyGEwCuvvDLmGCklbr31Vixa\n",
       "tAjLli3D5ZdfjtbW1lMNa0rYljHmfvNCSoG7hIiIqGw5J6nlLCRVblyQTjlhuemmm2BZFt566y38\n",
       "zd/8DUzTxA033DDm2I0bN+L5559HU1PTSf+97du34z//8z/x6quvYu/evfjQhz6Ev/7rvz7VsKZE\n",
       "Mju5lvuTHUdERHTaEZNcRpjsuClyylMFuq5D13Xs2LEDn/3sZ3Hrrbdi5cqVY4699NJLJ/z3hBBw\n",
       "HAeZTAaGYWBgYACNjY2nGtbUUICuAd44SaOugUtCRERUvtQkO9hOdtwUOeWExXEcdHZ24j/+4z/w\n",
       "P//n/wQA+P67L7y55ppr8POf/xwzZsxAZWUlZs+ejWeffXbCGBxn5NrZe4khr862UBk1cWzQPemY\n",
       "yqiJOtt6z/8tIiKiklSiMyynvCT0Z3/2ZzjvvPNQXV2NVatW4cCBA6itrX3XAbz00kvYt28f3n77\n",
       "bRw5cgQf+tCHsHXr1nH/zp133onq6uoR14svvviuY8iLmjpm18TGHXN2bYyN44iIqGxZun5Ca4/R\n",
       "hMiNC9K7qmHp6+vDo48+CgA455xz8JOf/ORdB/Cd73wHH/zgB1FTUwNN0/CpT30KP//5z8f9O7ff\n",
       "fjv6+/tHXGvWrHnXMeRlXB9v96XHHXP4WJp9WIiIqGzV2RYmOtdQEwh8teGUE5Zt27ahv78fAPAn\n",
       "f/InWLNmDXbu3PmuAzj33HPxs5/9DNlsFgDw5JNPYsmSJeP+HcuyUFVVNeLSpyDT6006SDoedAEY\n",
       "moAAhi9DE9AFkHA89CbZh4WIiMqT4/rwJ1jt8WVuXJBOOWH5v//3/6K6uhr/+Z//iX379uEf//Ef\n",
       "cdttt405dsuWLWhsbMThw4dx5ZVXYt68eQByszTbt28HkEt6zjnnHCxfvhzLli3DT3/6U3zzm998\n",
       "D7/Se5DPKIWAqWuwTA2WkXs0dS03B1Y4joiIqMwcOjY4peOmyikX3RpG7q/87Gc/wyc/+UlceeWV\n",
       "uP3228ccu23btjF/fv/99w//2bIs3HfffacaRlHUxS1UWgb60i5UYUMWBSgoKKVQFYugLs6iWyIi\n",
       "Kk8VkcmtWEx23FQ55RkWTdPwgx/8AD/4wQ/w4Q9/GACGl3NOd1FTx8dXz4YAkPHkiMvxJASAj6+a\n",
       "zaJbIiIqW7NqKqBPsJJgaAKzaiqCCWjIu1oSeuihh/CZz3wGTU1NePPNN/HBD36wGLGFYuPqs2GN\n",
       "kZAoAJapY+P7zg4+KCIiogDFrfG/mE/0ejGc8pLQBRdcgB/+8IdQKrdEsmDBAvyf//N/ihFbKL7z\n",
       "qzYMZscuJBrM+njwhTZ85WNLA46KiIgoGEnHQ2U0gnQ2jbG675saYFsmko4X6IrDKc+wdHR0YMOG\n",
       "DaioqEBFRQWuvvpqdHR0FCO2wGVcH4/tPjzumEdeCv6ESiIioqDYloGooeHkO0wEoqYW+Ll6p5yw\n",
       "3HzzzbjkkkvQ0dGBjo4OXHLJJbj55puLEVvgjvSlkfHG38uV8SSOTNCrhYiI6HQVNXVUxQy4JzkB\n",
       "0ZUK1TEz8HrOU06PDh06hP/4j/8Yfv5Xf/VXWLFixVTGFJq+cVryv5txREREp5uM66O1KznumLe6\n",
       "Esi4fmkvCSmlcPTo0eHnR48eHbkF+DRWU2FO6TgiIqLTTW/KQcIZv/QhkfHRmwq2ieopz7Dcdttt\n",
       "WLlyJdavXw8AePrpp/G//tf/mvLAwjCrJgZdYNwOf7qWG0dERFSOEmlv8uNqihtLoVNOWDZv3oyV\n",
       "K1fiF7/4BQDgi1/8IhYvXjzVcYUmbhkYyJz8zYoHXGREREQUJE+OsTXoPYybKu/q03fJkiUTnvdz\n",
       "Oko6HiZa3FIKgW/lIiIiCsq0ysl1c5/suKky6YRl5cqVEOLkre927949JQGFydTEhIc5Oa4Pc6Jj\n",
       "LImIiE5TmqbBEMB4m2ZNLTcuSJNOWL72ta8VMYzS4Eo14QxLfhwREVE5si0DcctA/zjlERWWEXgf\n",
       "lkn/19atWzepcZs3b8aDDz74rgMKk6kJ+BOcqe35ijMsRERU1rQJPuf0cVZcimXK53P2798/1f9k\n",
       "YJLZiWtYIHLjiIiIylHS8eBO8OU96ysknWA/C4NdgCp1Cpho8kQMjSMiIipHpiaQnuCLeTrrBb7a\n",
       "wISlQJ1twdTHvyURQ0OdHWxlNBERUVCSjofCUk0hcl/WC1eB1NC4IDFhGSVqjn9LLIPbmYmIqIyJ\n",
       "XJPUPKVyCUphU3tN4ORnIxbJlCcsun76fqAnHW/cLrcA4Kvg1+2IiIiCUhe3UBU1IQDo+dmVoSv/\n",
       "vDoWQV082NWGd5WwSClx5MgRHDx4cPjK+/Wvfz1lwQXN1AQcT0IXgKGJ4eRRIPdcE4DjSe4SIiKi\n",
       "shU1dXx89WzoQ9Moupb7DMzNugjomsDHV80u/dOa/+3f/g233HILTNMcbhojhEBXV9eUBxc0VypE\n",
       "DQ1JX46c+wKGD3iMGhr7sBARUVnbsm4edh/sx2+O9MP183tNBCKGwOJZ1bh53dzAYzrlGZavfOUr\n",
       "+PWvf43e3l50d3eju7u7LJIVINcsp7YiAqVyByDm0xKFoecKqI1HAm+WQ0REFKR628JX/2gJls2u\n",
       "hhC5L+1CAMsaa/DVa5eiPoTNJ6ecsNTX1+O8884rRiyhi5o6KqP6SXctKwDVUYPnCBERUVnrTji4\n",
       "Y/tvcKAnhYZKC41nVaCh0sKB7iS+9KP96Ek6gcd0ygnLxz72MXzta19DV1cXBgYGhq9ykHF9vNWV\n",
       "GnfMm51JZCY4b4iIiOh01rKzDa1dCTTY1nARbl3cQoNtobUrgZYX2gOP6ZQTlr/5m7/Brbfeihkz\n",
       "ZqC2thY1NTWora0tRmyBO9KXhuONf1x2xpM40pcOKCIiIqJgZVwfT+/rRNTQYegapFLwfAmpFAxd\n",
       "g2Xo2LH/aOBf3k+5GEPK8T/QT2d9qezkxzUUORgiIqIQJB0PadeHpgkc7U9jIONBqVzjuOqYiZip\n",
       "I531kXS8QEskWD1aoMY2p3QcERHR6ca2DJiawKG+NHypoAlAQEAqhd5UFromcHZtLPANKJNeEsqf\n",
       "1lxbW4uzzjpr+Mo/LwezqismvCG6yI0jIiIqR1FTR50dgetJGAIwNA26JmBoGgwBuJ5EvW2Vbh+W\n",
       "73//+wCAV155pVixlITKmIH+9Mk72dpRTkoREVH5yrg+3kllYeoCvsqVggghoJSCUoCpC/QmHWRc\n",
       "vzSXhGbOnAkAaGpqKlowYUs6HmzLxGDGgzvG3mZTALZlBr5uR0REFJSk4yHrK8ysiSGd9dGfdiGV\n",
       "giYEqitMxCIasr4q/RqWrq4u3HHHHXj11VeRyWSGf7579+4pDSwMtmUgami5U53GOlRIE4iaGhvH\n",
       "ERFR2bItAzFTx0DaHfP1rKdQFTNKt4Yl78Ybb0RzczN6enrw5S9/GbNmzcJHPvKRYsQWuKipoypm\n",
       "wC1IVgpPDXJ9heqYydkVIiIqW1FTxwfm16Mn5aA36UAqBSGGim6TDnqSDtbNrw/8s/CUE5ZDhw7h\n",
       "L//yL2FZFq655ho8/vjjeOaZZ4oRW+Ayro+23sHh52LUIwC09aTYOI6IiMqaEGroSD2R6/6u1PB5\n",
       "Qiqk4/ROOWGJRCIAgGg0it7eXhiGgZ6enikPLAy9SQdJxxs+mbJQ/qTKhOOhN4SWxEREREHIuD5+\n",
       "+WYvzqqIwDIEfF8h6yv4voJlaqitiODZt3pKv3HcggUL0Nvbi02bNuGCCy5AVVUVVq9eXYzYgieO\n",
       "/8HUNRh64dKQQNaXo8YRERGVl6TjIel4GMi4cKWCruU+AxUUHE9CShcRQyv9otuWlhYAwJ/+6Z/i\n",
       "fe97H44dO4arrrpqygMLQ13cQqVloC/tQimVS0wUgKGTKpVSqIpFUBcP/pRKIiKiINiWgXTWQ9aX\n",
       "iOgahDi+GKOUQtaXyLh+aRfd+r6PRYsWDT+/+OKLcfXVV8MwymPXTNTU8fHVs6EJAceTyLgSmaFH\n",
       "x5PQhMDHV81m0S0REZU1IUpvKeGUEhZd19HQ0IDBwcGJB5+mNq4+G1FTw+iaIgUgamrY+L6zwwiL\n",
       "iIgoEPmlnoiuwZMKnpTwVe7RkwoRXUPU1JF0Tt5ktRhOeWpk3rx5uPjii3HdddfBtu3hn99yyy1T\n",
       "GlhYnnqtAxFDR72hYyDjDh/4VBU1IQE8tbcDC66oDDtMIiKiorCtXI8VqRR8qdCfzn0W5hvH6ZqA\n",
       "HQ2+D8sp/9eOHj2KFStW4K233hr+WXd3d1kkLPkjtStMHbXxCKar6HB3P00IvJPKYsf+o9h62Vwu\n",
       "CxERUVmKmjquWjId3911EA22hXo7AtdXMPXclubupIP1i2eU7llCeR0dHfjxj3884merVq2asoDC\n",
       "lD9SO2LkVsryiUqeZWihHKlNREQUpM1rm/F8ay9e7xhA1pPDP48YGs6fWYVNa4M/pmfSCUs2m0Um\n",
       "k4Hv+0gkErldNAD6+/uRSqWKFmCQ8u2IU46HuAVIpUbMsDieDGUajIiIKEj55nBqVJe40c+DNOlP\n",
       "3jvvvBNf/vKXIYRAdXX18M+rqqrwxS9+sSjBBS0/DfbgzoPI9KWRcLzhGpZKy4AEcN3qRs6uEBFR\n",
       "WWvZ2Yb23hSa6+LQNAEp1fBje28KLS+04wtXLAg0pknvErrjjjsgpcTNN98MKeXw1dfXh7/9278t\n",
       "ZoyB2rB0FjxfojeVhedLSKVGPN+wbGbYIRIRERVNvp4zaugwdA2aECMeLUPHjv1HA+90e8qt+b/5\n",
       "zW8WI46S8dRrR6ANncosFeBJBalyW5o1TeCpvR1hh0hERFQ0o+s5Ryus5wzSKScs5Szj+nhybwcG\n",
       "HQ+un2tHbOq5M4RcX2HQ8fDk3iM8/JCIiMpWvp6zsNi2kONJxCJ6aXe6LXdJx0N3woEvFQxNwNR1\n",
       "GJo29CjgS4XuhBN4VklERBSUfD1nxvPh+SOTFs+XcDz/9NjWXM5MTSAzlFGObkucf572JEyt9FoW\n",
       "ExERTZXNa5ux6/fH0NqVgGXosAwNjpdLVuZPqwxlWzNnWAq4UiE6tGZ3sq1cUUODK8Pb1kVERFRs\n",
       "9baFe65fiU0XNKHC0uF4EhWWjk0XNOHu61ei3g7+EGDOsBSwLQMNlRYynoQrFTShho/UlgrQdQ0N\n",
       "lRb7sBARUdlTClBQyK8phL22wBmWAlFTx9XLZsKO6KiNmcNdbjUhUBszYUd0XLNsFvuwEBFRWetO\n",
       "OPj8Q3vw3V0HMej4sAwNg46Pll3t+Nz39qAn6QQeExOWUTavbcaCGVWAAOriEcysjqIuHgEEcN6M\n",
       "cNoRExERBallZxtauxJosC3UxiOIWwZq4xE02BZauxJoeaE98JiYsIxSuG4XjxrwpEI8aoS6bkdE\n",
       "RBSU0Y3jCp1WjePOBKW2bkdERBQUNo47TZTiuh0REVFQ2DjuNFGK63ZERERBKdXGcUxYCoxet8sf\n",
       "fCiVCnXdjoiIKEib1zZj3rRKdCcdvJPKIuV4eCeVRXfSCa1xHBuKFMiv22mawNH+NAYyHpQChACq\n",
       "YyZipj68bsetzUREVK7yG1BaXmjHjv1Hkc76sKMGrlvciE1rm8qvcdwtt9yC7du3o729HXv27MGK\n",
       "FStOGPPtb38bX//614efHz58GJdeeikef/zxYoY2JtsyYGoCh/rS8KWCJgABAakUelNZ6JrA2bUx\n",
       "No4jIqKyV29b+MIVC7D1srlIOh5sywj1y3pRl4Q2btyI559/Hk1NJ586uuGGG/DKK68MXzNmzMB/\n",
       "+2//rZhhnVTU1FFnR+B6EoYAdE1AG3o0BOB6EvW2xdkVIiI6Y0RNvSQ++4o6VXDppZee0vhdu3ah\n",
       "q6sLf/iHf1ikiMaXcX28k8rC1AWyUkH5x88MEgIwdYHepIOM64f+xhEREQUh4/olMcNSUmsbDzzw\n",
       "ADZv3gzTNMcd5zgOHGfk9mLff++FsLkaFgkh8icIHSeQO7E57UrWsBARUdnrTjho2dmGp/d1Iu36\n",
       "iJk61i+ZEVoNS8nsEkqlUvj+97+PG2+8ccKxd955J6qrq0dcL7744nuOwbYMZFwfri8R0TVETQ2W\n",
       "kXuM6BpcXyLj+qxhISKislbYkyzleDA0gZTj8SwhAHjkkUewePFiLFq0aMKxt99+O/r7+0dca9as\n",
       "mZI4lMrNq+SSEwnHyz26/tgNdIiIiMpNKfYkK5mE5YEHHpjU7AoAWJaFqqqqEZeuv/clmqTjIWLo\n",
       "UArw1cjXfJVr2W/qWuDtiImIiIJSqj3JipqwbNmyBY2NjTh8+DCuvPJKzJs3DwBw0003Yfv27cPj\n",
       "fvvb3+KVV17Bf/kv/6WY4UzItgw4ng91ktcVAMfjkhAREZWv0T3JWruSONCdQmtXEp0DGRiaCOUs\n",
       "oaJ+8m7btm3Mn99///0jnp933nlIJBLFDGXSBid4A9JZdrklIqLyVao9yUpmSagU9KYcuPJk8ys5\n",
       "WV+iN8UDEImIqDyN7klmaFquH5mmhdqTjAlLAceVmCBfgVS5cUREROWosCeZrwBPSvhKDT2O7EkW\n",
       "JCYsBSxTgybGH6OJ3DgiIqJylHQ8ZH2FmTUxnBWPQABQUkEAOCsewcyaKLK+CryGhZ+8BeriFion\n",
       "WJOrjBqoiwffMIeIiCgItmUgZurIuhJKKQghoJBrngoAjqsQi+isYQlT1NRxbkN83DFzG2x2uSUi\n",
       "orIVNXV8YH4dupMOepJZOJ6EJxUcT6I74aAn6WDd/HrWsIQp4/o4NuiOO+adwWzg63ZERERBSrsS\n",
       "vlQntPlQAHypkA7hc5AJS4Gk4+GdVBaaAIxRxSzG0MnNx5JZNo4jIqKylWscdzS3DDTqNYFc0vLU\n",
       "a2XWOO50Y2oCGU8CKteiXwDDFwBAAWlPwpyoMpeIiOg01Zt00J/OAsCYMywA0J/Oojfg84SYsBRw\n",
       "pUJEF5AYasWP45cnFSSAiC4m7NVCRER02hLARMfn+RInTr8UGXvMF7AtY8RSUOF7kU9RTF1ja34i\n",
       "IipbdmRyn3GTHTdVOMMyiq5pECepYREC0ASXg4iIqHwlHW/C2RMhwD4sYUo6HqKmDkvP3RZDFzB1\n",
       "DYaee+csXUPU1Fl0S0RE5UtMcrWHS0LhsS0DtmVAKgVfKvSnXSiVm1WprjChawJ21OCSEBERlS0u\n",
       "CZ0GoqaOq5ZMh+tL1MUjmDfNxtxpccybZqMuHoHrS6xfPION44iIqGy5UqEiMv7nXEVED3wDChOW\n",
       "UTavbca8aZXoTjroG3ThuBJ9gy66kw7mT6vEprVNYYdIRERUNLY18RE0dbbF1vxhq7ct3HP9Smy6\n",
       "oAl21IAnFeyogU0XNOHu61ei3uY5QkREVL6ipo6z4ua4Y+rikcBXG1iMMYZ628IXrliAGy5uRmfC\n",
       "wfRKC9UVkbDDIiIiKrqM66OtJzXumN/3pJBx/UCTFiYsY+hOOGjZ2Yan93Ui7fqImTrWL5mBTWub\n",
       "OMNCRERlrTflIOGM33Y/kfHQm3Iwu6YioKiYsJygO+Hg8w/tQWtXAhFDg6lrSDguWna1Y+fv38E9\n",
       "XBYiIqJypnIHHI7Hl+rEvv1FxhqWUVp2tuHNzgSggN5kFh19GfQms4AC3uxMoOWF9rBDJCIiKhpT\n",
       "FxPmImpoXJCYsBTIuD6e3NuBZMZFX9qFVAoQgFQKfWkXyYyLJ/ceCfyESiIioqD0pSdujiomOW4q\n",
       "MWEpkHQ8dCcc+FLB0AR0TUATgK4JGJqALxW6Ew473RIRUdmaXmnBmCA70LXcuCCxhqWAqQlkvNwR\n",
       "lZ5U8ArW8PJnC6U9CVPjeUJERFSeqisiiOhixGfgaJahBb57ljMsBVypENEFfIUT3ihPKvgqd55Q\n",
       "0N39iIiIgtI/mEXaHf9zLp2V6B/MBhRRDhOWArZlYKLDmIVQPEuIiIjK1qFj6QmLbuXQuCAxYRkl\n",
       "lRm/oDY1wd50IiKi09lE5wid6ripwoSlwJH+QcgJxvgqN46IiKgczaqJITpB1W3U1DCrJhZQRDlM\n",
       "WAp09WemdBwREdHpJmrqmD8tPu6YBdPswM8SYsJSIKJP7uZPdhwREdHpJuP6GHRPviPW1ARSWT/w\n",
       "nmSsHi3QeNbkprcmO46IiOh0k3Q8uL7CrJoY0q6P/rQLXyromkB1zETM1OH6CknH4+GHYdE0DYYG\n",
       "eOMUsphabhwREVE5si0DMVNHyvEwvSqKhkoLUipomoAmBN5JZWFHjcB3zPKTt4BtGWisHf/kydm1\n",
       "FdzWTEREZStq6rhqyXRkPB+eP/IbvOdLOJ6P9YtnsIYlTFFTx4fPn46TneekC+APFk0P/E0iIiIK\n",
       "0ua1zZhzVhxtvSn89mgCb3Ul8dujCbT1ptBcF8emtU2Bx8SpglGEUBBCQAcAoaAh1yAHSkzYVI6I\n",
       "iKgcKAUIAQgIoKCNnMDEJzkXC2dYCmRcH798sxcNtoU6OwJD0yCEBkPTUGdHUG9bePatHp7WTERE\n",
       "Za1lZxvae1NoqqvA/Ok2zqnPPTbVVaC9N4WWF9oDj4kzLAWSjoe06yMW0RG3jBMKjVKOh3TWD7wy\n",
       "moiIKCgZ18fT+zphahp6kg760+7wjEtNRe7L/I79R7H1srncJRSWwsro+BinZjueDKUymoiIKChJ\n",
       "x0PS8fBOyoHjj1wA6k44iOgCuia4rTlM+croB19oR9r1kHR8SKWgCYFKy4BUCtetbuTsChERlS3b\n",
       "MpBy3BOSFSBXzeL4CoNZj9uaw7Zh6UxkfYXelAvHk3B9BceT6EllkfUVNiybGXaIRERERZVxj29n\n",
       "FuL4dfz14Gs5mbCM8shLh0/6RmRcH4++dCjgiIiIiILTm3LgyYLZFVVwDXF9hd6UE2hcTFgKZFwf\n",
       "j+0+PPKNKuBJhUdfPnlCQ0REdNobKrDVNcAYdZ6QoQno2tBsS8D7m5mwFOgdqoYeT1/aRW8y2KyS\n",
       "iIgoKHW2haqoCaVyCYplaogYGixTg6EJKAVURU3U2WPsTikiJiwFHM/HSSZXhkmVG0dERFSOoqaO\n",
       "a1fNhiYEHE8i48oRj5oQ+Piq2WzNH6rJdrJlx1siIipjG1efDcvQTlj1UQAsQ8PG950deExMWApY\n",
       "+sTZopjkOCIiotPVIy8dguP5J3w/F8itMoSxAYUJS4E620JthTnumJqK4NftiIiIgpJxfTyx5234\n",
       "CtBHFd3qmoCvgMd2vx34BhQmLAWipo6NqxthaCeu+ggAhgY2jiMiorLWW9COf/SuWU8qKAX0h7AB\n",
       "hQnLKFvWzcXys2sRi+jQBYavWETH8rNrcfO6uWGHSEREVDwCkGr8HShSqcDrOdmaf5R628K2zavR\n",
       "8kI7ntrXgZTjI27p2LBkJjatbUI9l4OIiKiM2RFjUjtm7UiwKQQTljHU2xa+cMUC3HBxMzoTDqZX\n",
       "WqiuiIQdFhERUdEls96kxwX52ciEZQzdCQctO9vw9L5OpF0fMVPH+iUzOMNCRERlL5GeXMKSSHtA\n",
       "TXFjKcSEZZTuhIPPP7QHrV0JRAwNpq4h4bho2dWOnb9/B/dcv5JJCxERlS1PyokHncK4qcKi21Fa\n",
       "drbhzc4EoIDeZBYdfRn0JrOAAt7sTKDlhfawQyQiIiqaaZWT+1I+2XFThQlLgYzr48m9HUhmXPSl\n",
       "XfhSQkHBlxJ9aRfJjIsn9x7h4YdERFS2NE2bcAOQJnLjgsSEpUDS8dCdcOD5Ckop+BLw/NyjUgqe\n",
       "r9CdcJB0Jre+R0REdLoxNQFjguxAF7lxQWLCUsDUBNKuDwnAV7kzE/KXrwAJYND1A3+TiIiIguJK\n",
       "hVjEgMDYTVQFgIqIAXeivc9TjEW3BVypRrw5QiCXrQgg30NHDI0jIiIqR7ZlYFqlhYzrD/VjURAQ\n",
       "UEMfiJoAGiot2FawKUTRZ1huueUWNDc3QwiBV1555aTjXnvtNVx22WU4//zzcf755+Pxxx8vdmgn\n",
       "GD1zovKzLGr8cUREROUiaur4yLKZsKMmamImNJH7zNOEQE3MhB01cfWyWYEfU1P0hGXjxo14/vnn\n",
       "0dTUdNIxg4OD+OhHP4p/+Id/wOuvv459+/bhAx/4QLFDO4ErFawJ3gDL1DnDQkREZW3z2mY018WR\n",
       "ynqQQ1/epQJSWQ/n1sexae3JP9OLpejzOZdeeumEY773ve/hwgsvxCWXXAIA0HUdDQ0NJx3vOA4c\n",
       "Z+ShS77/3nfu2JYBfYLJE12IwKfBiIiIgqRUrixCIF8bkZNbGgpHSRTd/uY3v4FlWbj66quxYsUK\n",
       "fPKTn0R3d/dJx995552orq4ecb344otTEkt6gi3L3NJMRETlrmVnG9p7U2iqq8B5Myoxf7qN82ZU\n",
       "oqmuAu29qVB6kpVEwuJ5Hp555hls27YNe/bswezZs/HZz372pONvv/129Pf3j7jWrFnznuPoTTrI\n",
       "euPnjo4nAz9Sm4iIKCgZ18fT+zoRNXQYugZNCBja0KOuwTJ07Nh/NPAv8CWxtjFnzhxcfvnlmD17\n",
       "NgBg06ZNuPLKK0863rIsWNbIDnu6/t6LfxzPn3CqSw2NIyIiKkdJx0Pa9REZasYilYJUCpoQ0ISA\n",
       "ZWhIZ30kHS/QwtuSSFj++I//GA888AAGBgZQVVWFp556CsuXLw88DsvUR63WnUgTmLAwl4iI6HRl\n",
       "WwZipo6BtIuk46E/7Q7XtFTHTOiaQFXMLL9tzVu2bEFjYyMOHz6MK6+8EvPmzQMA3HTTTdi+fTuA\n",
       "3AzLX//1X+Oiiy7CsmXL8LOf/Qzf+ta3ih3aCeriFqpj478B1TETdXEefkhEROUpaur4wPx69KQc\n",
       "9CYdyKHeHlIp9CYd9CQdrJtfH/i25qKnR9u2bRvz5/fff/+I55s3b8bmzZuLHc64oqaO697XiP/3\n",
       "fNvwNq48gdzsynWrGwN/k4iIiIIkhIJSua3Mvp/v+T7U6TakbUIlUXRbSrasm4cVc2oRNTVowPAV\n",
       "NTWsnFOLm9fNDTlCIiKi4sm4Pn72ejfESdp8CAH89I2uwItumbCMUm9b+OofLcGy2dUwDA1CEzAM\n",
       "Dcsaa/DVa5ei3uZyEBERla+k46E76UBKBcvQEC24LEODlOEcBMyEZZTuhIM7tv8GB3pSqI9HMLM6\n",
       "ivp4BAe6k/jSj/ajh1uaiYiojJmaQMaTAACR6x6XI4aeA8h4kqc1h61lZxve7EwACuhNZdE5kEFv\n",
       "Kgso4M3ORCjNcoiIiILiSoWooUEByPoSjivheLlH15dQAGKGFvgxNUxYCmRcH0/u7UAy46J3MAvH\n",
       "k3B9lWsWN5hFMuPiyb1H2O2WiIjKlm0ZOCsegVKAL3NnNOcvT+aKcWvtSPltaz6dJB0PXQkHWT/3\n",
       "hggcv5QCsr5CZwjrdkREREGJmjqmVebqNXUx8rMwf97e9Mpo+Z3WfDoxNYHBoWRE5P9n6Mqv1A06\n",
       "XuDrdkREREHJuD56U1mYhgYIAV0XMPXcI4SAaWjoSTrcJRSm5NAx2sCJ3W5VwWMyyxkWIiIqT0nH\n",
       "g+srzKyKoi4egS5y39x1IVAXj2BmVRSurwJfbSiJ1vwlQwG6BgwVR0ONUU+kTdS7n4iI6DSWb82f\n",
       "cjxMr4qiodKClAqaljtL6J1UFnbUYA1LmOpsC9WxyPA63eh1OwGgOhZBHXuxEBFRmYqaOq5aMh0Z\n",
       "z4fny+FTmjUh4PkSjudj/eIZrGEJU9TUce2q2TCGqop0DTB0AX3oLhm6wMdXzWZrfiIiKmub1zZj\n",
       "3rRKdCcdvJPKIuV4eCeVRXfSwfxpldi0tinwmJiwjLJl3Vwsa6wZOpFZDC0LCVimjmWNNWzNT0RE\n",
       "Za/etnDP9Sux6YIm2FEDnlSwowY2XdCEu69fGUrXd6HUWJUap59bb70Vd91115T8Wz1JBy0vtOOp\n",
       "fR1IOT7ilo4NS2Zi09omtuYnIqIzSsb1kXQ82JYR6goDi27HUG9b+MIVC3DDxc3oTDiYXmmhuiIS\n",
       "dlhERESBi5p6SZRCMGEZQ3fCQcvONjy9rxNp10fM1LF+yQzOsBAREYWENSyjdCccfP6hPfjuroNI\n",
       "OR4MTSDleGjZ1Y7PfW8PDz8kIiIKAROWUVp2tqG1K4EG20J1hQnL0FBdYaLBttDaxcMPiYjozJJx\n",
       "/VA6247GJaECGdfH0/s6YWq5tsMDGS93ppAAqmMmDE3Djv1HsfWyuSWxnkdERFQspVYewYSlQNLx\n",
       "kHQ8HBvMwpUKQuSmoHyF3LkKmoCuCSQdjwkLERGVrXx5RGtXAlFDR8TQhssjdv7+HdwTwtZmLgkV\n",
       "sC0D6ayHrC8BpeD7Cq6fe4RSyPoSGdcPvB0xERFRkArLI2rjEcQtA7XxSKjlEUxYRlEApMrNqhTy\n",
       "Ve7nZdK2hoiIaEz58oioocPQR6YJhq7BMnTs2H+UpzWHKel48OT4CYkrgz+hkoiIKChJx0Pa9REx\n",
       "xk4RLENDOusH/lnIhKWAqQk4noQuAEMTI14zNAFNAI4nYY56jYiIqFzkT2vOehIAIJWCJyXk0AqD\n",
       "40nEInrg5REsxijgSoWooSHlSxiayB2CqJA7plkBrp973Z1gFoaIiOh0lT+t+cGdB5HpSyPhHN8x\n",
       "W2kZkACuW93I05rDZFsGGiot6HouKfGlytWzSAVXKui6hoZKi0W3RERU1jYsnQXPl+hNZeH5EhJq\n",
       "xPMNy2YGHhMTlgJRU8fVy2bCjuiojZnQRG7pRxMCtTETdkTHNctmcUszERGVtadeOwJDE6iLR2Do\n",
       "GjQIGLqWe64JPLW3I/CYmLCMsnltMxbMqAIEUBePYGZ1FHXxCCCA82ZUYdPaprBDJCIiKpr8LqGK\n",
       "iIGZNTHMm2ZjbkMc86bZmFkTQyxicJdQKai3Ldxz/UpsuqAJlTETCkBlzMSmC5pwdwiNcoiIiII0\n",
       "epeQJnKzK/lVh7B2CbEYYwz1toUvXLEAN1zcjM6Eg+mVFqorImGHRUREVHT5XUIpx0N8jO/ojidh\n",
       "Rw3uEioFpXZ+AhERUVDyu4S+u+sgPF+OaB7n+RKO5+O6xcHvEmLCMkopnp9AREQUpM1rm7Hr98fQ\n",
       "2pWAZeiwDA2Ol0tW5k+rDKWekzUso5Ti+QlERERBKqzntKMGPKlgR41Q6zk5w1JgsucnbL1sLrc2\n",
       "ExFRWcvXc269bC6SjgfbMkL97GPCUuBUzk9gwkJERGeCqKmXxGcel4QKjD4/YbSwzk8gIiI60zFh\n",
       "KZCvjM54Pjx/ZNKSr4xev3hGSWSaREREZxJOFYxSipXRREREZzrOsIxSipXRREREZzrOsIyh1Cqj\n",
       "iYiIznRMWMZRKpXRREREZzouCREREVHJY8JCREREJY8JCxEREZU8JixERERU8piwEBERUcljwkJE\n",
       "REQljwnLODKuj56kg4zrhx0KERHRGY19WMbQnXDQsrMNT+/rRNr1ETN1rF8yA5vWNrHTLRERUQg4\n",
       "wzJKd8LB5x/ag+/uOoiU48HQBFKOh5Zd7fjc9/agJ+mEHSIREdEZhwnLKC0729DalUCDbaE2HkHc\n",
       "MlAbj6DBttDalUDLC+1hh0hERHTGYcJSIOP6eHpfJ6KGDkMfeWsMXYNl6Nix/yhrWoiIiALGhKVA\n",
       "0vGQdn1EjLFvi2VoSGd9JB0v4MiIiIjObExYCtiWgZipI+vJMV93PIlYRIdtsVaZiIgoSExYCkRN\n",
       "HVctmY6M58PzRyYtni/heD7WL57BE5yJiIgCxqmCUTavbcau3x9Da1cClqHDMjQ4Xi5ZmT+tEpvW\n",
       "NoUdIhER0RmHMyyj1NsW7rl+JTZd0AQ7asCTCnbUwKYLmnD39SvZh4WIiCgEnGEZQ71t4QtXLMDW\n",
       "y+Yi6XiwLYPLQERERCEq+gzLLbfcgubmZggh8Morr4w55he/+AVisRhWrFgxfKXT6WKHNqGoqaPe\n",
       "tpisEBERhazoMywbN27EX/zFX+CSSy4Zd9x555130oSGiIiIzmxFT1guvfTSKf83HceB44xske/7\n",
       "bOZGRERUrkqm6PbAgQNYtWoV3v/+9+Mb3/jGuGPvvPNOVFdXj7hefPHFgCIlIiKioJVEwrJq1Soc\n",
       "PnwYu3fvxhNPPIFvfetbePjhh086/vbbb0d/f/+Ia82aNQFGTEREREEqiYSlqqoK1dXVAIDGxkZ8\n",
       "4hOfwHPPPXfS8ZZloaqqasSl6yyMJSIiKlclkbB0dHRAylxn2UQigSeffBIrV64MOSoiIiIqFUVP\n",
       "WLZs2YLGxkYcPnwYV155JebNmwcAuOmmm7B9+3YAwGOPPYalS5di+fLluPDCC3HFFVfghhtuKHZo\n",
       "REREdJoQSikVdhBT4dZbb8Vdd90VdhhERERUBCWxJEREREQ0HiYsREREVPLKZkno2muvRXNz85T+\n",
       "m77v48UXX8SaNWu4C6mIeJ+Dw3sdDN7nYPA+B6PY97mpqQl/+qd/OuG4sklYimFgYADV1dXo7+9H\n",
       "VVVV2OGULd7n4PBeB4P3ORi8z8EolfvMJSEiIiIqeUxYiIiIqOQxYSEiIqKSx4RlHJZl4Y477oBl\n",
       "WWGHUtZ4n4PDex0M3udg8D4Ho1TuM4tuiYiIqORxhoWIiIhKHhMWIiIiKnlMWIiIiKjklVXC8tZb\n",
       "b+Giiy7CggUL8P73vx/79+8fc9wDDzyA+fPnY+7cufjMZz4D13WL9tovfvELxGIxrFixYvhKp9NF\n",
       "ugPBKMX7DACvvfYaLrvsMpx//vk4//zz8fjjjxfhtw9WKd7rb3/72yP+77m+vh7XXnttke5AMErx\n",
       "Pkspceutt2LRokVYtmwZLr/8crS2thbpDgSjVO/zbbfdhiVLlmDhwoW48cYbkc1mi3QHghHWfW5r\n",
       "a8Nll12G6upqrFix4pT+e5Oiysjll1+uvv3tbyullHrkkUfU+973vhPG/O53v1MzZ85UHR0dSkqp\n",
       "rrnmGnXPPfcU7bWf//znavny5cX/5QNUivc5lUqpc845Rz333HNKKaU8z1NdXV3FvhVFV4r3erTF\n",
       "ixerRx99tAi/fXBK8T4/8cQTas2aNSqbzSqllPrKV76irrvuumLfiqIqxft87733qssvv1w5jqOk\n",
       "lOqmm25S//zP/xzA3SiesO5zb2+veu6559STTz55wufeqfz/lJMpm4Sls7NTVVZWKtd1lVJKSSnV\n",
       "9OnT1VtvvTVi3D//8z+rLVu2DD//8Y9/rC6++OKivVZuCUup3uf77rtPfeITn5jKXzV0pXqvC+3c\n",
       "uVM1NDQMf6iejkr1Pv/whz9Uy5cvVwMDA0pKqf78z/9c/dmf/dlU/uqBKtX7/Cd/8ifqH//xH4df\n",
       "e+yxx9TSpUun5HcOQ5j3OW+sz73J/v+U8ZTNktChQ4cwc+ZMGIYBABBCYM6cOTh48OCIcQcPHkRT\n",
       "U9Pw8+bm5uExxXgNAA4cOIBVq1bh/e9/P77xjW9M1a8cilK9z7/5zW9gWRauvvpqrFixAp/85CfR\n",
       "3d09lb964Er1Xhd64IEHsHnzZpim+V5/3dCU6n2+5pprcNlll2HGjBmYOXMmfvrTn+Lv//7vp/JX\n",
       "D1Sp3ufVq1dj+/btGBgYgOu6ePjhh9HW1jaFv3mwwrzP43m3f69Q2SQspWrVqlU4fPgwdu/ejSee\n",
       "eALf+ta38PDDD4cdVtnxPA/PPPMMtm3bhj179mD27Nn47Gc/G3ZYZS2VSuH73/8+brzxxrBDKUsv\n",
       "vfQS9u3bh7fffhtHjhzBhz70IWzdujXssMrOpz/9aVx11VVYt24d1q1bhwULFgx/2FNpKZuE5eyz\n",
       "z0ZHRwc8zwMAKKVw8OBBzJkzZ8S4OXPmoL29ffh5W1vb8JhivFZVVYXq6moAQGNjIz7xiU/gueee\n",
       "m7LfO2ilep/nzJmDyy+/HLNnz4YQAps2bcLOnTun8lcPXKne67xHHnkEixcvxqJFi6bi1w1Nqd7n\n",
       "73znO/jgBz+ImpoaaJqGT33qU/j5z38+lb96oEr1Pgsh8Hd/93fYs2cPfvWrX2HRokVYvHjxVP7q\n",
       "gQrzPo/n3f69EU5pAanErVu3bkSh0erVq08Yc+DAgRMKf+6+++6ivXbkyBHl+75SSqmBgQF10UUX\n",
       "qQceeKDYt6KoSvE+t7e3q4ULF6r+/n6lVG69dMOGDcW+FUVXivc675JLLlH33XdfEX/74JTiff7X\n",
       "f/1X9aEPfUg5jqOUUuqf/umf1B/8wR8U+1YUVSne53Q6rd555x2llFLd3d1q+fLlavv27cW+FUUV\n",
       "1n3OG6uGZTJ/byJllbC88cYb6sILL1Tz589Xq1evVnv37lVKKXXjjTeqH/3oR8Pj7r33XnXuueeq\n",
       "c889V/33//7fRxQMTvVrd999t1q0aJFatmyZWrRokbrjjjuUlLLYt6KoSvE+K6XUd77zHbV48WK1\n",
       "dOlSddVVV6mDBw8W8zYEolTv9RtvvKFs21YDAwPF/PUDU4r3OZPJqJtuukktXLhQLV26VF1xxRXq\n",
       "wIEDxb4VRVWK9/no0aNq4cKFatGiRWrhwoXqm9/8ZrFvQ9GFdZ9TqZSaPXu2qq+vV6ZpqtmzZ6u/\n",
       "+qu/mtS/ORk8S4iIiIhKXtnUsBAREVH5YsJCREREJY8JCxEREZU8JixEVJKEEOjr6ws7DCIqEUxY\n",
       "iOi0ku8vQURnFiYsRFTympub8Zd/+ZdYs2YNPvWpT4UdDhGFgP2Hiei00Nvbi127dkEIEXYoRBQC\n",
       "zrAQ0Wnh05/+NJMVojMYExYiOi3Yth12CEQUIiYsREREVPKYsBAREVHJ41lCREREVPI4w0JEREQl\n",
       "jwkLERERlTwmLERERFTymLAQERFRyWPCQkRERCWPCQsRERGVPCYsREREVPKYsBAREVHJY8JCRERE\n",
       "JY8JCxEREZW8/x8gD8VPWQF7XAAAAABJRU5ErkJggg==\n",
       "\">\n",
       "      </div>\n",
       "      <script type=\"text/javascript\">\n",
       "        (() => {\n",
       "          const chartElement = document.getElementById(\"chart-12f5a04d-13bc-454d-9cd8-a8ade338909e\");\n",
       "          async function getCodeForChartHandler(event) {\n",
       "            const chartCodeResponse =  await google.colab.kernel.invokeFunction(\n",
       "                'getCodeForChart', [\"chart-12f5a04d-13bc-454d-9cd8-a8ade338909e\"], {});\n",
       "            const responseJson = chartCodeResponse.data['application/json'];\n",
       "            await google.colab.notebook.addCell(responseJson.code, 'code');\n",
       "          }\n",
       "          chartElement.onclick = getCodeForChartHandler;\n",
       "        })();\n",
       "      </script>\n",
       "      <style>\n",
       "        .colab-quickchart-chart-with-code  {\n",
       "            display: block;\n",
       "            float: left;\n",
       "            border: 1px solid transparent;\n",
       "        }\n",
       "\n",
       "        .colab-quickchart-chart-with-code:hover {\n",
       "            cursor: pointer;\n",
       "            border: 1px solid #aaa;\n",
       "        }\n",
       "      </style>"
      ],
      "text/plain": [
       "from matplotlib import pyplot as plt\n",
       "df_grid_search.plot(kind='scatter', x='lr', y='train_loss', s=32, alpha=.8)\n",
       "plt.gca().spines[['top', 'right',]].set_visible(False)"
      ]
     },
     "metadata": {},
     "output_type": "display_data"
    },
    {
     "data": {
      "text/html": [
       "<h4 class=\"colab-quickchart-section-title\">Values</h4>\n",
       "<style>\n",
       "  .colab-quickchart-section-title {\n",
       "      clear: both;\n",
       "  }\n",
       "</style>"
      ],
      "text/plain": [
       "<google.colab._quickchart_helpers.SectionTitle at 0x7f3819231210>"
      ]
     },
     "metadata": {},
     "output_type": "display_data"
    },
    {
     "data": {
      "text/html": [
       "      <div class=\"colab-quickchart-chart-with-code\" id=\"chart-fec44ad5-28b1-44a3-8796-439d4151457f\">\n",
       "        <img style=\"width: 180px;\" src=\"data:image/png;base64,iVBORw0KGgoAAAANSUhEUgAAApcAAAFuCAYAAADUGTPdAAAAOnRFWHRTb2Z0d2FyZQBNYXRwbG90\n",
       "bGliIHZlcnNpb24zLjEwLjAsIGh0dHBzOi8vbWF0cGxvdGxpYi5vcmcvlHJYcgAAAAlwSFlzAAAP\n",
       "YQAAD2EBqD+naQAAhgVJREFUeJztvXuQbGd1H/rb3T3TMz3v13nOmRmNXjaFkEAgFBMLk4SijJ1I\n",
       "hbFdVIidFEQy1y45ia/LyEWVXalcTsoQuTC+ITJFsMtcK8RX2L51Y9kBrnFQ2VjGSMJQkmDOnHmd\n",
       "57wf/e699/1jz+7e3dOP/fge6ztn/apONTpnTmtp8X3rW7+1ft/6LNd1XTAYDAaDwWAwGAKQ0m0A\n",
       "g8FgMBgMBuPWASeXDAaDwWAwGAxh4OSSwWAwGAwGgyEMnFwyGAwGg8FgMISBk0sGg8FgMBgMhjBw\n",
       "cslgMBgMBoPBEAZOLhkMBoPBYDAYwsDJJYPBYDAYDAZDGDi5ZDAYDAaDwWAIAyeXDAaDQQS/+7u/\n",
       "i9nZWd1mMBgMRiJwcslgMBgMBoPBEAZOLhkMBoPBYDAYwsDJJYPBYARQKpXwq7/6q7jzzjsxMTGB\n",
       "Rx55BC+99BIA4Nd//dfxD//hP8RTTz2FU6dO4cyZM/jlX/5lVKvV+t9/9dVX8aM/+qOYnp7G7Ows\n",
       "nnjiCezv79f/vFgs4mMf+xjuuecejIyMYHFxEb/3e7/XZMMzzzyDhYUFjI2N4Sd/8idxcHCg5j+e\n",
       "wWAwBICTSwaDwQjg537u5/Diiy/iL//yL7G5uYmf+qmfwnve8x7s7e0BAP7mb/4GmUwG6+vr+NrX\n",
       "vobnnnsOv/EbvwEAODw8xD/5J/8Eb3jDG7C2toa//du/xWuvvYaf/dmfrX//v/7X/xr/83/+T/zJ\n",
       "n/wJDg4O8MILL+C+++6r//n169fx2muv4dVXX8Vrr72Gl19+Gf/pP/0npT5gMBiMJLBc13V1G8Fg\n",
       "MBgUsL29jenpabz22mu49957679/991349d+7dewtLSEz3zmM7h69SrS6TQA4DOf+Qw++clP4tKl\n",
       "S3j22Wfx5JNP4tq1a8hkMgCAl156CW95y1vqvzczM4O//du/xVvf+tYT//7f/d3fxc/93M/h8PAQ\n",
       "fX19AIBf/uVfxne+8x08//zzCjzAYDAYyZHRbQCDwWBQwdLSEgDg7W9/e9PvVyoVbGxsAAAuXLhQ\n",
       "TywB4I477sD6+joAYH19HfPz8/XEEgDuuusuAMDa2hosywKApsS1FdPT0/XEEgCGhoZweHiY5D+L\n",
       "wWAwlILb4gwGg3GMM2fOAAC+/e1vY29vr/6rUCjgox/9KAAvgbRtu/53VlZW6uODLly4gLW1NdRq\n",
       "tfqfX7p0CQAwNzeHhYUFAMD3vvc9Ff85DAaDoQWcXDIYDMYx5ufn8dhjj+Hnf/7nsbq6CsDTUT7/\n",
       "/PO4du0aAGBnZwf//t//e5TLZbz++uv4xCc+gX/1r/4VAODHfuzHkMlk8Ku/+qsoFou4fv06/u2/\n",
       "/bf4p//0n+LMmTOYmZnBBz7wAfz8z/88Xn/9dQDAtWvX8K1vfUvPfzCDwWBIACeXDAaDEcAf/MEf\n",
       "4MEHH8S73/1ujIyM4N5778VnP/tZ+PL0t7/97ahUKpidncUjjzyCxx57rF7VHB0dxZe//GW88sor\n",
       "mJ2dxYMPPoi77rqr6Tb4Zz/7Wbzzne/Ej/7oj2J4eBjveMc78N3vflfLfyuDwWDIAF/oYTAYjJD4\n",
       "9V//dXzlK1/BCy+8oNsUBoPBIAuuXDIYDAaDwWAwhIGTSwaDwWAwGAyGMHBbnMFgMBgMBoMhDFy5\n",
       "ZDAYDAaDwWAIAyeXDAaDwWAwGAxh4OSSwWAwGAwGgyEMnFwyGAwGg8FgMISBTHL5qU99SrcJDAaD\n",
       "wWAwGIyEIJNc+k+tMRgMBoPBYDDMBZnkksFgMBgMBoNhPji5ZDAYDAaDwWAIAyeXDAaDwWAwGAxh\n",
       "4OSSwWAwGAwGgyEMnFwyGAwGg8FgMISBk0sGg8FgMBgMhjBwcslgMBgMBoPBEAZOLhkMBoPBYDAY\n",
       "wsDJJYPBYDAYDAZDGDi5ZDAYDAaDwWAIAyeXDAaDwWAwGAxh4OTSAPzeX63gY3/893BdV7cpkfHC\n",
       "97fwC3/wLWwdlXWbEhnrOwV85At/h5fWdnWbEhmVmoP//Q9fwZe+taHblFj4z19bwsXnX9VtRiz8\n",
       "+Xev4xf/20s4LFV1mxIZ37txiI984e/w+vVD3aZERr5cw5PPvoQ/+8513abEwm/82Wv49Fe/r9uM\n",
       "WPijlzbwS//9FVRqjm5TIuPl9T38b//X32Ftu6DblMj460vb+LHf+jou/im9WMnJJXHYjov/409f\n",
       "xRe+sYYVAxf///kXS/h/v30N/99rN3WbEhn//ZvreP471/HfXlzXbUpk/PXyNv7vv9vAb//Fkm5T\n",
       "IuOwVMVv/NnreOYvl7Gbr+g2JzJ+88vfw5+8fBXfWN7RbUpk/P5fr+L571w3kpR85dUb+H9euYrP\n",
       "fn1ZtymRcWWviP/8tUt4+ivfg+2YV0T4jT97Hc99awOvbOzpNiUyPvfCZfzp31/H//v3V3WbEhmv\n",
       "XT/Ad68e4PJWXrcpJ8DJJXFs7BbqbLBmm8cKlzaPAAA127yAuXTTs73qGOj3m+b6fXmzEShN873t\n",
       "uFg+DvRG7ld/zRu4bhpr3ly/uy6MSy6PyjVc2y8BAKoG+97EWHnp+Hy969SwZktOgpNL4vAXPgDY\n",
       "hrXF94tVbB567XDTbAcavncMC/ZAw3bTDiqgec0blls2kUEj1/zxYeWYaLu/5g22HTDP95cM3q+2\n",
       "42J509xYeemmR2TvnOHkkhERPjMBzFv8QdtNS9BqtoOVbW/jGkho67437aACWta8YfabvF+byKBh\n",
       "tgMN3xtYPDN63Zi8X6/uFVE+JoMmxkqfDN7JlUtGVPjMBDCPFQYZrWkBc323WG8NmpYYAzCbjRtM\n",
       "Spr2q2GH1bLBSULNdrCy5WnSTVszQEusNMz3Ju/XJYOT+iAZXJwZ0mzNSXBySRxLBgf8oO2mHbRL\n",
       "BifGe4UKto68izCm+R0w2/fNtms0JAaa5Qhm+X19t4iKba4cwegEzeD9anJS75PB06NZjA70abbm\n",
       "JDi5JAzXdQ3fuI0qjnG2G5zUm9xiq9oOVgNTEUz2vWlJwqVNg/erwYlxkAwCBvo+uG54vyqD73eK\n",
       "ekuAk0vS2MlXsF9szMozrQplcpvN5MPK5KR+baeAWsBm43xv8ppn27UgmJwBZtnvkcGgdMsc24HW\n",
       "WKnRkBjwC0+cXDIi40TQMWjjVmoOVncaFSjTgs6tI0fQaEgMBCv1gFm+3z4qY7fQIIMm7VfAbEJl\n",
       "doenec2bpK1f2yk0ja0yab8CZku3KI8hAji5JI3Wg9akgL+6nW8K8iaxQtd1jb6MZLTtmy3JpUH2\n",
       "t5JBkw6rVjJo2oQEs9ub5hKq1sTYpP26k69gJ2+yHIErl4yYaA06Jq39k7abY/zWUQUHpVr9nw0y\n",
       "HUDLQWuY8cE2FWCW70+seYM27NpOMxk0ad24rtuU2BvkdgBmr5tWQmXQsmmSbQFmrflKraFNv/MU\n",
       "vZviACeXpGE0ozW4imNy9axcs7EWlCMY5HfAbN+fqOKYYzqWWpJ6kxKc7RZtuklxEuBYqQsmF0B8\n",
       "MjjUn8aZ0QHd5rQFJ5eEYXJb/IR2zmTbDQo6K1uFpsqNSX5vlSMAZvl+yegK1K2zX03ye7lmN12I\n",
       "Acz2vVH71egz6vim+KlhWJal2Zr24OSSKIoVG1f2igCAC5ODAMxa/P5hVbfdoKDTartJh9UJ210v\n",
       "aTMBm4dlHJZrSFnAuTGPjZvse6PW/M3WdWOQ7Qb7fXXbI4Mj2QzGBr1Zhab43pMjmBwrvQStcb7q\n",
       "tCYaqOstAU4uyeLyVh6uC4zn+jAznAVgTtAMVqDuOTUCwMyg49tuit8BnPA7YI4Gza/8zU3mMNCf\n",
       "BmAOoSpVbWzsemSwvm4MsR1oHFZG2n6zZb8aZXvj+b50yqtAmZLkbB6VcVjyyKCf5BgVK1vWvClJ\n",
       "PdBYN1RvigOcXJLFUoCZ+EHHlATt+kEJ+YqNTMrCHdOe2NiUgAk0Nu7dp81LjP1149sOmHPYXgrM\n",
       "bUsft3pMOayWNz0yODbYh1OjHhk0Zd0EL8T468Yoveimwfs1sOZT/po3xP6lerU7h8E+jwya4vtS\n",
       "1cb6sTa9vuYNsR0IVi5pXuYBIiaXTz75JBYWFmBZFl5++eUTf/75z38elmXhj//4jwWZd/uicdAO\n",
       "NYKOIQetX0mYm8oh2+ctMVNYYaFSq8sR7j1jLhv3bQfM8X39xYlTQUKl06LwCAZ70/brjYMyjso1\n",
       "pFNW/Y1iU5IEoBErTd6vd54aQvr4NDZuv84MI5UyKzFe2c7DcYHRgQxOjxrYGST+Og8QMbl8//vf\n",
       "jxdeeAHz8/Mn/mxlZQWf/exn8fDDDwsz7nZGcEBq2rCNW7c9WIEyxPbl4007OdSPqaHjoGNIguM4\n",
       "bj2xv/uUgZXLwLoxLUFrt19NSdB82+encshmvCPBlDUT1KbfXZfg6LQoGvwkwcRYGWzNNjoNOi0K\n",
       "Dz9Omrhfg2RwfuoWqVw+8sgjmJ2dPfH7juPgwx/+MD796U8jm80KM+52RrBd4i9+Q87Zhu2nGozW\n",
       "HDbeqEA1/G6G7dcOSihWbfSlG3IEwBzfN9ZNw/fG2R5IjA05q9rGGlP87u/XiVwfZkaO5QiG2O44\n",
       "bqByybFSJdrvVzNsr5PByRz6M3SVjUIse/rpp/GOd7wDDz74YKifL5fLODg4aPpl27YIU24J2I6L\n",
       "y1uBloNpjHbzpHbOmI1rsAbKt31+aqgp6JhQyTkq13BtvwSguc1mSjUh2KaqdxpMWfMm79fNNvvV\n",
       "ENuvH5RQONamz03mzEvsTY6VgaTetItUvu2LhFvigIDk8jvf+Q6ee+45fOxjHwv9dy5evIixsbGm\n",
       "Xy+++GJSU24ZXN0rolxz0J9O4cJkDsdr35igGWwRmqbFqbepTg2b6/dAsAfMsP/ysd+nh/sxnutv\n",
       "+N6AdeM4bv21j+C6MScxvrX2q2vI+C3f7wvTQ+hLpwJtcZ1WhUO+XMPVIBk0OlZ6v2dKUh/s8FBG\n",
       "4uTy61//OlZWVnD33XdjYWEB3/jGN/D444/jM5/5TMe/89RTT2F/f7/p10MPPZTUlFsG/u3HO6a9\n",
       "doNJmpDDUhU3DsoAgMXg5QYDAibQUsUxyO9A8+WAVCO3NCJRaGXjJlXQrgTI4OzEoHkJmj+Queky\n",
       "kk6LwqPdfgXM8H3w0iYAWAYRKr+zNjXUj4mhfqNipUcGG5cHTa263nWrVy4/8pGP4Nq1a1hZWcHK\n",
       "ygoefvhh/M7v/A4+8pGPdPw72WwWo6OjTb/S6XRSU24ZXGphJia1e/xKwqmRLEYH+oy6AWk7Lpa3\n",
       "2tyANMB2oFlHZFmWUYw8aDuAQIKmzaTQWKpXoHLIBCtQBvj9sFTF9YPjCtSp4cZ+NeWgDcTKVMqs\n",
       "an1w3BwAo9riJu/Xq/tFFKu21xmcGDTK70CADBKecQlETC6feOIJzM7OYmNjA+95z3tw1113ybLr\n",
       "tkYrMzGJFbYOdzWJFW7sFlCpOchmUjg/MdionhkQMIHmFiEAo6YMBFuzAIxK0FrXvEn7dbmFDJq0\n",
       "X4Nk8K6ZkfqaAczYs8Eby4BZsTKoWQQM26/Ha75OBg2Kk01kkHjlMhPlh5955pmeP/O1r30tri2M\n",
       "Y7QyE5PabK3PUpl0ueFSBzmCCX7fL1axeejLEYKHlWuE/a1DgU1K0FpnzpnVaTC3enZlt4hKzUH/\n",
       "MRmsBspmJvveLNsN3K+tVVeDknqfDM6MZOvPhVIF3XvstzFOtEsM0kEt3TQ36ARHKAFmJglnRgcw\n",
       "nPU4oymJQs12mqYjAIYRqpsdkgQDqmetlwNMmrW4tHkIAFg8JoNNl9iI239QquLmYUObDnCsVAWT\n",
       "5QgmvMzjg5NLYtjJV7CTrwAwM+i0tktMmiHWuNhgXnuzVacLBC/FaDEpNNZ3i6jaLgb6Ujg/PggA\n",
       "SBukF+1Y/aPueJy03aRZi532K0Df9/5+PT2axciAV4EyZT5qzXawsuU9ndiQbnl/Rt3vQOc7DQaY\n",
       "fkLrShmcXBKDP9Lk/Pggcv1eBcqUBK1qO1jdPg46J3R/2swKjRO6P4MuIwVf+vBhSvXPD/aL041L\n",
       "VKZUE3bzFWy3kEFT9ivQWadLfMkAaEdkG39G3fetfgfM0Uhv7BZRsY+16cdk0ChSstnQ6QLm+B04\n",
       "eUZRBieXxOAzk8VA2dtPcqi3HFa3C6g5LnL9aZwZHQBgzkgZ13UD7ZKWW/oGBJ3WNhVgToK2tHnS\n",
       "dlNGWPnB/tzYAIbqcgTvz6jv16rtYKVVjmDimq+P8rGMmbfYrgJlSqxsnFEBMmjIft0vVLF11CpH\n",
       "8P6Mut+Bk/puyuDkkhha21RAoBJCPOAHbbeObTZldttOvoK9QhWW5VXQALPaJctt1433Sd33rfP+\n",
       "AHM0XK3VM8Cc/bq20yCDZ8c8MmjKmgF6xUotJoVGO9tNiZXtdH+mVOt9Ins2QAYtQwiV1xk0YwwR\n",
       "wMklObRrl5gyQ6xdyd6U6pnv9/Pjgxjs92aumtIuqdQcrO40yxEAc6pQXdcNedtPVhJMGUR+6eZJ\n",
       "MmjKft3JV7BbqAJo8b0hN67NjpUnbTdGgtPO74bEybWdAqq2i8G+NM4edwYpg5NLYmjHaE2ZIdba\n",
       "pgLMSdDatalMOahWt/OwHRfD2QxOjWTrv2/CYeW6bnffm7JuDEyMW2UggDmExPd7kAwCgdYyYfsr\n",
       "tYY2vSnOm7bmDTyjWic7AGbESaDzgwFUwcklIZSqNtaPK1BNt34NOay6VnHI295FA2WM7UP1ChRg\n",
       "hu+3jio4KNVgWd58UR+m3BZv2yI0JElovW0NGHTQtpEjAGYkaGs7DTJ4erRBBk3Yr67rto3zptwW\n",
       "79bSp+x3wCy9JcDJJSmsbOfhuMDoQAYzw22CDuGA77oulm/eaq0e75Oy34FA0Olw0FL2ve/3CxM5\n",
       "DPQ1KlAmJGhBMti2zUbY70D31ixlvwOBV5FaDloTLvQsBd5yD5JBE/brdr6C/eKxNt1EQtUmVpoy\n",
       "IcGkMUQAJ5ekEHyZpznoeJ+UWeHmYRmH5RrSKQtzU7n675tyKaYdo/WTBNf1kmeqaNfqAcwImp2G\n",
       "Apswo3N1uwDHBUZayKAJ+9WrQHW5jETXdADBymXLujGgy9OuSwKY4Xs/1sxODDaRQRMIVblmY22n\n",
       "eT4nYM5tcZPGEAGcXJJCJ2Ziwgwx3/a5yRyymUDQMYDRlqo2NnaLANozWoB2wG99ccKHCTd/O615\n",
       "E6o4S20uxABm3JzdPCzjsFRDygLmA2TQhOQM6LzmjSBUbXS6QGCEFWHje/md8JLH6nYBtuNiJJvB\n",
       "zIiJcgSuXDJiohMzMWGGWMcKlAGscHkzD9cFxgb7MDXUX//9oGiaauBxXbfRIjSyitO+pW9Cm61T\n",
       "sG+8Ea3cpNDwk4QTZNCAClQTGexQ/TNj3XTYr4R9306nCxjid38+54nOIP04GSSDC9O53n+BADi5\n",
       "JITe7RK6i79jkmBC0Akk9e0qUABd3984KCNfsZFJWZifaj6sTNDqXmqj0wXMqLp2IoMmzLlsN/IM\n",
       "COiMCdt+eatBBqeH+5v+jHqsDF6I6bRuKPu+85r3PknHms1OOl36cbITGaQMTi6JwHHcjozWhCpO\n",
       "x5a+AQGz3QgloFHFAejaX5cjTOXQl27eztR9X6jUcGWvfQXKhNdKOq0bE/ZrJ50u9eQMaPZ7kAwC\n",
       "9GU4Nw7KOPK16ZMdyCBR24EQMhYTbD/Vye/KTQoN026KA5xcksHV/SJKVQd9aQtzk81lbxNaVb1a\n",
       "hJQPq44V48DuoOr7bjoc6r5fPg6YE7k+TA61VKCIJwmO49btP6GduwX2K1W/A93XPPUJD77t85M5\n",
       "9Geaj1/q+7VYsQNk0EBC1SFBo+53oLNOlzI4uSQCf+EvTA0hk24NOt4nVVZ4VK7h2n4JQJeWA1Hb\n",
       "gc4twmDlkqrvu90gpP6yUzfbqSdo1w5KKFbt9mSQ+H4FOh9WwRvLVCckdNqvAP3ZtJ3mcwL0K2jL\n",
       "W57tE7k+TAWmIwD0Ow3BCzEn4rwBUpBOXU3K4OSSCDq1qQD6rNB/13p6OIuxXF/Tn1G/vWk7btt3\n",
       "uYHm2+JUfd9t9pk/iJyq7d3WPPU2m+/3+amhznIEogdtvlzD1WMy2OlSCUB3z3Zb89RjZdf9Svzy\n",
       "o8l+v7ZfQuFYm95KBo3QSHfQplMGJ5dEsNRhbhtAv4rTjVVRD5hX94oo1xz0p1OYnRhs+jPLsuAX\n",
       "L830vT8ehKrtnXVEKeKk5FIHvSVAPzH22/nTw/0YzzXLEdLEL7E5QTJoYMU7zH6lum667deG35Wa\n",
       "FBp1OUIbbTr1tniQDC5Oc3LJiIhuzIR80LnZuU1FvS3uJ/V3TJ+UIwDBNptSs0LhsFTFjYMygB5t\n",
       "NqJBM1RbnOi6CSVHIO73bppFgKbvrwTI4IUWMggEY6Vqy8IhVKwkvm7MPKO67FfifvfJ4NRQPyZa\n",
       "tOmUwcklEXSt4hB/uSHUpRKixl/qcIPQB+UB9n7QOTWSxehA34k/p3w5w3ZcLG+FqVzSsx3oseYJ\n",
       "ExKgu+6vuS1Oz/e+7QvTubZkkPJt96NyDdcPjitQt1ispL9fu1RdqROSLvuVMji5JID9QhVbR14F\n",
       "ql3QoT5DbKnLTTbqrLDXqweU5y32emuW8kG7sVtApeagP5PC+TYVKMp+B4LvQ3cjg1Rt71K5JD5+\n",
       "q+eaJ3xb3E/OZkayGBs8SQYpx8qeZJD8fu295in6Heh9RlEFJ5cE4Ldmz44NYDibOfHnlBltzXaw\n",
       "sh2mLa7UrNDo1qYCaN+C7PXWLOXb4r7ti9NDTdUyH5T9HiSDbQkV8dunXVv6TRMSlJkUGt1uigO0\n",
       "b4t3GuLtg3KsvLJbrJPB2YmTL8RQ3q9ALxmL90l1v3aap0sdnFwSQM/qGeH25vpuEVXbxWBfGmdH\n",
       "B078OXWxtMm+7zWewr8tTvKgvdl+RqQP0n4/HslyZrQDGSRcCanZDla2CgC6XyoBaNp/S+zXDhIc\n",
       "ypcfe5FByn4/KFVx89DvDHa+MAsQjZU9ighUwcklAXS7eQrQZoU+q1qcGWp6i9sH5Rliu/kKtvMV\n",
       "AN6FnnagnBx3kyMAwTeuCdveIUlIE666dnrpwwflTsP6bhEV28FAXwrnxjrLEQCae7bb+CrAjFhp\n",
       "YmLcc78Svi3ur5nTo1mMdNGmA/RiZTMZ5OSSERG9BLuUg05vzSLdg9a3/dzYAIbaVKCA4K1lZWaF\n",
       "QtV2sLrdPehQvqnfu+pKN0kIXT2jaLtPBqeH25JBy7LqCSY13wfJYLsKFEBdCtL9CT/KExJ67lfC\n",
       "hKqX34P7gJrvNwJk8Pz4STJIGZxcEkBdR2QwK+yogSJc+QtzC49qYr+2U0DNcZHrT+Ps2Ek5AkB7\n",
       "zmVYvSjJdRNWp0sywendYqO6Z/0XYkKRQWK2e2Swx7oxYL+aXADptV8BgJrrl3qQQcrg5FIzyjUb\n",
       "azvHFaheCRrBjbsUsnJJLdgDvVs9AN0KWtB2y2ofdKgG/O2jMnYLVQCdhwJTfl2oV+WS8gioMGue\n",
       "asW7lwwEoBsr13YKqNoeGTzTRpsOmB0rqcZJILwEB6Dne1PHEAGcXGrH6nYBtuNiOJvBqZFs25+h\n",
       "WsVxXbfnnEjKM8Tq7RIDqzhh3pqlWvH2/X5+fBCD/em2P0PV701k0MARUL0ulQB092yv9iZAN1Ze\n",
       "6qFNB+jqjHfylQYZ7ChH8D6p+R0IL90C6BEqE98U98HJpWZcCrDxjhUoolWcraMKDko1pCxgYap7\n",
       "ckmNEQK9R4MAaDz/SMz3vVqzQGPdUKvihGnNWkSrZ2sBMnh6tBMZ9D6pHbSu6/Yc5QPQbS1fClG5\n",
       "pBore0mfALpVV3+/nh8fRK6/vRyBarW7ajtYO9amd5TgBI5dar4P02mgCk4uNSNKBYraYeUv/AuT\n",
       "OQz0ta9AUU3OSlUb63U5QogqDjXfhxisS/ViSSg5AtEqTnDmXCcySPVixtZRBfvFKqwuZBCgu2eX\n",
       "boFY2W3N1/1O1fZQHR4lJoXG6nYeNcfFUH+6Ixmk2hYPSwapgpNLzQilgSKq4QrzcgDVGWIr23k4\n",
       "LjAykMHMcPugA9C8Le66LpbDBHyiSU6o1izRJCHMmqe+Xy9MdCaDAE1CFSSD3ap/VG+Lh9HOUR0A\n",
       "32tUHkC3crkUmKfbiQxallVP7Cn5fjvfIIOdRuVRRqTk8sknn8TCwgIsy8LLL78MACiVSnjsscdw\n",
       "zz334P7778e73/1uLC0tybD1lkS0NpUSk0Ijys1TgBYrDLaVOwUdgGaisHlYxmG5hnTKwvzUydcy\n",
       "fFBvs4VLEqjZHkKna9Gs4oQdxkzxQtLqdqFBBjto0wGaLX2vAhU+VlKyHYgW5ymtGSBcrAForhu/\n",
       "8DQ7MdiVDFJFpOTy/e9/P1544QXMz883/f7jjz+O119/Ha+88goeffRRfPjDHxZq5K2KYNAJ0yKk\n",
       "lyT4AvsujJboDLGw77VSrKD57cG5yRyymc5Bh2JbvFS1sbFbBNCrzeZ9UvI7ELJaT/Wgvdl7vwI0\n",
       "q1BBv3cjgxRj5eZRGYfH2vRuZJCi34FwF6koxkkg/G1rimQ2bGJMFZGSy0ceeQSzs7NNvzcwMID3\n",
       "vve99Q3/8MMPY2VlRZiBtzKu7ZdQqNjI9KhAUVz4QO/XMoCWtjihwBNWKE3R92HaVADNNtvyZh6u\n",
       "C4wN9mFqqL/jz1E8aIPTEe7q0tKnmNQD4XS6AM22uMn71be9Fxmk6PdS1cb6bu8XYqi+zx09Vko3\n",
       "KTQaZNDM5LL91a8E+NSnPoVHH32068+Uy2WUy+Wm37NtW7Qp5OEzk/mpHPrSnfN8iqywUKnhyt5x\n",
       "BSpEFQeg1SYMO+Kh/nwlId+HqSQANEX2Qb+HqkAR8vv1gxLyFRvplIW5yRB6UUqOR7jb1kBwlJJ0\n",
       "k0IjjE4XaMxHpbRuwu7X+hglQgnO5S2PDI4OZDA93JkMUtyvwQsxRhIqg2dcAoIv9Hz84x/H0tIS\n",
       "Ll682PXnLl68iLGxsaZfL774okhTjECYyh9Ac7TJ8vGmnRrqx0SIChRAh9U6jlu3v6f+zKL3akbo\n",
       "Vg9BHVFo3R/hSsL8VA79mc6hk+J+LVbsOhnsqT8jWP0L2yKkOOey1ytmPijq/oL7tSsZJEhIbh6W\n",
       "cVTXpveSgnifpHwfct1QhbDk8pOf/CS+9KUv4fnnn0cu17nFCwBPPfUU9vf3m3499NBDokwxBmGZ\n",
       "CcUWYWjNYrByScT+q/tFFKs2+tIWLkx2X6uNeYsqLAuH0C1Cgjcgw9puETxol24eAgjj98ZBS4WU\n",
       "+Pt1sgcZBOhVcRzHbbQIQ8dK6WaFRvhY6X0avV8J2j4/2Z0MAsGqMQ37g2Twtm6LP/3003j22Wfx\n",
       "la98BePj4z1/PpvNIpttvvGXTpt3GyopwmoqSLY3e7zM4yM4oJZKouC3SuanhrrKEQB6VZyjcg3X\n",
       "9ksATK1ARVvzRtrepDNutGp1IspLH9QGkV87KKFY9bTpcz3IIEUJUfhYSY9QhZmOANC8SOWv+cUQ\n",
       "yRm1qvHylmf7RK4Pkz3IIFVEqlw+8cQTmJ2dxcbGBt7znvfgrrvuwsbGBn7pl34Je3t7eNe73oUH\n",
       "HngAb3/722XZe0shbIuQZuUy3EFLcYZYvd0QIehQOawuH/t9ejiLsVxf15+ldrHEkyOEHYdz/HeI\n",
       "2A5E2K8EJyREGcacIqYZ9ffrwnRvMkjtQk++XMPVYzIYtuJNxXYgfKyklpwB0drK1NaNyS/z+IhU\n",
       "uXzmmWfa/j6V1o9JOChVcfPQu9TU6b1WHxSrOGFebfCRtizUXJdM4FkKeTkAoHcLcmnTb832tp3a\n",
       "xZIre0WUaw760ynMTgx2/VmKB+1S2JunTZfYaNgfVt8N0Ju3GNbvQOACHpF1s1wng/0Yz5knR/Ar\n",
       "aL1H+XifVPwOhHvRyQc1jbfJL/P44Bd6NMEP9qdGshgd6F6BolY9sx0Xl7d6v5XrgxorjHPQUvF9\n",
       "WO0ZQK9y6Qf7hekcMobJEYJksGeLkOAltrC6P4BeYh/FdmqxMkprllqcvLJXRKnqkcELPcggtTgJ\n",
       "RIuV1AhVlDVPFZxcakKkNhUxVrixW0DFdpDNpHB+vHvQAcxmhVQP2igtfSqXG6K0qaglCX4FKgwZ\n",
       "TAWiKoXDynZcLG+FX/PUEoWwcgSAXoIWxXZ6cTICGSQWJ4/KNVw/CCdHAOidsWF1upTByaUmRGLj\n",
       "xIK936ZanBlu0pd1AiX79wtVbB35coQIjJZI0IkkRzje3VRkK5GqZ8QusUXRQDVd6CHwH7CxW0Cl\n",
       "5pHBcyHIILV5i0sRhklT0/5FWjfEdMZRbA/uVwrxxk/OZkayGBvsTgYBWiPnmsjgzIhma+KDk0tN\n",
       "iKQjIsYKo9w8BWjNEPNbs2dGBzCc7S05plRBq9kOVrbDPeEHEKziREkSiN0+DTvEG2jWXFLwvW/7\n",
       "HdNDTbZ1QprQfm0mg+F9T27dhLqlTysxDntpEzg5IUE3Ip9RhGLlld0iKjUH/ZkUzveQI1AGJ5ea\n",
       "0GiX9GYmlkWriuMnCWHFxpQCfpQ2FUDL9+u7RVRtF4N9aZwbC1GBIndYRWhvEkpwgGgTBixqB63J\n",
       "+3WrQQZHesgRAFr7tWY7WNnynk6MJEegYDyi7ldal9iixnlKsdK/tLkYkgxSBSeXGlC1HaxtH7/X\n",
       "GqESQi3ohBUbUxJLR2W0lG6fXqrLEYbCyREI3RbfzVewna8A8CpovUBV6xr2KTZKUpCo+5XSQRtV\n",
       "e0Zpv27sFlGxHQz0pcKRQUJxEkB9bFgUzSJAw/dR3+WmpHeNchGJMji51IDV7Txqjouh/jTOjA70\n",
       "/HlKOiLXdQMjHqJV/2gEHXOThKh+bxxW0kwKDT/BOTc2gKEwcgRChKpqO1j1yWDEw4rCmo+i0wVo\n",
       "JfZR1zwlGUtdmz4dTptO6XWhvUIFW0ceGYwiRwCI+D52rNRv+61wUxzg5FILlgLMpNt7rT4o3WTb\n",
       "yVewV6jCssIFHYAYK4ygIwJoHbRRRigBDe0chQQtauWPUvVsdbuAmuMi15/G2bHeZBCgtWejV+vp\n",
       "JGhRK1CUtHORq92EOg2+7WdDksFgW1y37z0yGK36R+npzaj7lSo4udSAuG1lEsH+ODmbnRjEQF+4\n",
       "JzuptMXLNRtrO+E1UACt2+JRdUS0bI/YpkrRqeIE92sYMgjQqaDt5CvY9cngdNQETaZl4RD2RScf\n",
       "VPwORBsbBgQICQXbY+p0Af1FhPWdAqr2MRkM0RkEaHYaTB6gDnByqQWRKwkEF36Ukj2VKs7qdgG2\n",
       "42I4m8GpkWzvvwA6h5XruoH2ZsQbkAQOq6itWUqEKspkBx9UKmi+7efHBzHYH5IMEql4V2oOVnei\n",
       "yRGo+B1A5P1KqXIZV44A6I83SxG16QCdWOmTQSA8GaQKTi41IGp7k9IMsTh6ECozxC4FkoSwFSgq\n",
       "VZytowoOSjWkLGBhKtphpdvvQJzxVXSSy1hrnkhybLLtq9v5Ohk8PRqSDBLZr67rxq7W6/Y70Bwr\n",
       "wyCYxOlO7KP6HaATK/39GoUMUgUnl4oRDDpRWz2A/hEbUVuzAJ1qQlQNFECncunbfmEyF1qOQMXv\n",
       "paqNdaPlCNHf+aXyOlKUV5F8UNG7BgmJaXKE7XwF+0VPjhBmOgJAp3oGxIyVRJLjqHIEgE4RIWqH\n",
       "hzI4uVSMm4dlHJVrSKcszE3lQv2dFKGbeHHa4lRuu8dr6dNoVSXzuxSTQmNlOw/HBUYGMpgZjihH\n",
       "0Ox313UjTxgAgt0GzesmSeXSwDVPxu/Htl+YCE8GqVx8LFUD2vQY8YaK7+MUEXSfUVHm6VIHJ5eK\n",
       "4S/8uckcspmQFagAaddZySlWbFzZKwKIpj9rHFZSzAqNOO0SKsO849wgTBG5ARm88Ru2AmUR8btP\n",
       "BlMWMB+SDAKBdaPb97HWDY2qcX2/Rqq6ep/6bY/udyrV+tXtgkcGsxnMhNSmA4E9q9F+rzMY/16A\n",
       "9lgZ4SUw6uDkUjGSaKAAvazw8lYergtM5PowFbICBdBoswWDTqT2JpEqTpzWLJUxSsn8LsWk0PAr\n",
       "CfNTQ6HJIECjilOq2tjY9chgrJY+EQmOiXrRqLetARpxEmhuiYclgwCNPbt5VMahr02fjkIGacTK\n",
       "OJ0GquDkUjGivjgB0JkhFne4KwVWeP2ghELFRiZlRaxAEQn4cdriRDRcSZIEOrZHqyRQqP75ZHA8\n",
       "14fJof7Qf8/nsjr3a1COcFeMWKk7STC6ehYj1gA0Wst+Uh+lMwjQiDdxySBVcHKpGEk0UIBeVhhH\n",
       "AwXQGKVUlyNM5dCXDr/sKdw+LVRqATlCDA2UbjYeZ5QPgTUDJFjzBCpoQdujVKAoXCy5flBCvmJ7\n",
       "2vTJOK1lWZaFg8m6v6WYrVkKhCpu5Y9CrPTJ4NhgH6YikEGq4ORSMeK0S6jMEIurB6FwWMVm4wSS\n",
       "hOXjlvjkUD8molSgCPjdcdy6/XFunvrfoQtxdLoAjdvicauuFMigHyfnJ3Poz0QggwTkCM3adIOn\n",
       "ahgYK+NcvgNoxMo40xEog5NLhTgq13D9oAQAuDPCgFQqM8Ti6P4AGjPE4tpOoYIWZ7QGEDxohZsU\n",
       "GtcOSihWbfSlLcxNhpcjNI/f0u/72IeVifs1RWG/muv35S3P9smh/khyhEaclGJWKDiOG6sAAnCs\n",
       "TIpb5WUeH5xcKoT/lNn0cBZjub5If1c3K7Qdt25/dM2l/ipO/Pam96m3ihOvYkzhMtJS4EJMFDlC\n",
       "KvCjuqoJR+Uaru0fk8GY1T8qbfEouBX2Kw2/x9uvOmONTwYzqWhkEOBYmRRxuyRUwcmlQizFEKj7\n",
       "0N2qurpXRLnmoD+TwuxExKBDQEuUtEWot3oWL+hQqOJEfenDBwWdcYMM9mM8F00Dpdv3TgIyaPJ+\n",
       "pVE9S7hfCbSV5yNq0wH9sTJfruFqnQyaHCs5uWRERFwtC9CYIaZr4/pC6cXpoaaDPwx0s8KDUhU3\n",
       "D8sAorfZLBLJZcwWoeY1A8QbQwS0TEjQZH+S/arb91d8MphO4ULkChSFKk6ydWPimqdwqSSu7UAw\n",
       "Vgo1KTQub3lJfSwyqHm/Oo5bl1NwW5wRGcFh0lGhe4ZYElalmxX6tp8ayWJ0IJ4cQVeL0HZcLB8H\n",
       "zbg6Igq39CNXEgiM30ryFJtuGYtPBu+IQQZ1j986KFVx48Ajg4txL5XovEgVW47gfeqsXMbdr4D+\n",
       "tr5ve9Q1A+iPlVf2iihVPTI4OzGoxQbR4ORSIZZiVqAA/a2quG0qQP8rN0m0LLqrOBu7BVRqDrKZ\n",
       "FM6NRws6JNpscW9bE7gtnoQMpjTfFo+rPQP0z7n0pwvMjGQxNhiNDOpOjINkMC6hcl19l6mSVOt1\n",
       "E6pEnQbNsdK3fWE6h0xEOQJV3Br/FQagajtY3Y53Cw+gUP2LPk7Gh+52T5JWj+7Dyrd9cWbYODnC\n",
       "fqGKraN4coSmJ081+z7OutFdxanfFDewApXkfWXdtl/ZLdbJ4PmIFag0gWp93AkDgP6nNxPtV81n\n",
       "VJKKMVVwcqkI6zsFVG0Xg31pnB0diPz3dbPCJM9S6WaFcW9vAoHbp9qDTpwKlGa/H6+ZM6MDGM5m\n",
       "Iv1dy7K0VtBqtoOVbb8CFf8CnrYqToKWvvb9muB9Zd23xZc2DwHElCMER85psH+/WMXmoS9HiON7\n",
       "KglajFipWf6UJKmnCk4uFaGhBxlqCiJhofMW5E6+gp18BUDMoKNZ6B33QgygP0EzWqebIEkAgoRK\n",
       "mEmhsRYgg+fGomugUprHsiRqb2qet5hI361ZO5eowxM4F3T43l8zp0ezGImoTQf0xsqa7WBlqwAg\n",
       "bqz0Pk1s6VMFJ5eKkJSZ6Jwh5o80OT8+iFx/tAoUoJfRVm0Ha9te0DGzvSmg1aO7rRwzYOo8rPz9\n",
       "GpcM6uw07OYr2E5ABrVLcIyWIyRo6Wtui19KOMRbp+83douo2A4G+lI4H1GbDuiPlXHHhlEGJ5eK\n",
       "kJSZ6Fz8SSp/gN7DanW7gJrjItefxhkD5QjJROrep4lVHEAvKUm6X3VW0PyRJrHJoMak3tOmJ6hA\n",
       "ESFU8eQIjf+tk1DFPqM0xsq6Nn16OF5nUOMZtVeoYOsoPhmkCk4uFSHpYaVzhlgSLQsApDXOEAsK\n",
       "peO811r3u4bW8vZRGbuFKizL03BFhe6ZfyYnaEkF9ikC+zXuQaVTZ5yUDOqetZhI3x188tTANa8z\n",
       "ViYZGwbo7pJ4tp8bG8BQRG06ZXByqQCu6yZ+N1RnyyEpo9XJCpOMUAL0VnF8v58fH8Rgfzry39e5\n",
       "Zso1G2s78StQgN4RVsL0orxfI6ExHSGhHEGTNt0ng4vTyTSXOuVP8btr3qfW/RqbUGncrwk7PFQR\n",
       "Kbl88sknsbCwAMuy8PLLL9d///vf/z5+6Id+CPfccw/e9ra34bvf/a5oO43G5lEZh6UaUpb3rFYc\n",
       "UGg5xE6MCbDCpFpXna3ZuLbrrPytbRdgOy6GsxmcHs3G+g5dAd913cT6M62VkKRElsJ+jd2a9T51\n",
       "2h6XDFqWVX+JTbX9lZqD1Z342nSABqFKHiuFmRQaSSaxUEak5PL9738/XnjhBczPzzf9/hNPPIHH\n",
       "H38c3/ve9/Arv/Ir+Jf/8l+KtNF4+MzkwmQOA33Rgw6gb4ZYqWpjPXEFSicrFNSa1dzSjwOdt62D\n",
       "7cE4cgQgUHlV7PvNozIOSjVYFrAwlay1rKWlL0iOYGJr1mQpBRD0vRCTQmN1Ow/bcTHUn45NBnXF\n",
       "ymBnMH6s9D61FG8StvSpIlJy+cgjj2B2drbp927evIlvfvOb+OAHPwgA+Imf+Amsr69jaWlJnJWG\n",
       "YykhGwf0scKV7TwcFxgdyGB6ONp7rT50zRBzXbfRIjRSjiDmEpiJtgP6EoU6GZyITwZ1dRqayGDM\n",
       "ln5jzqUws0JD1H41kcgC+qrGwYtIicmgYt9v5yvYL8bXpgNUYuWtc5kHABKrR9fX13H27FlkMt5X\n",
       "WZaFubk5rK2t4a677mr7d8rlMsrlctPv2bad1BSyEMFMdLFC/6C9K1HQ8T5VH7Q3D8s4KteQTlm3\n",
       "pRwhpZONJ0wSgIbvVZuf1O+AvsR4dbtQJ4MzwzHlCJou4Lmui2WT5Qgi1k0KgK0+OU7yopMPXbHS\n",
       "P1+TkMGURjLoa9OT+J4itFzouXjxIsbGxpp+vfjiizpMUQIRzEQXKxTR6tE1HsS3fW4yh2wmrhxB\n",
       "j99LVRsbu0UAAkTqBrb0AX2+TzodASCwXwVUoFQnODcPyzgsi9Gm69XOJVg3mmOlkAKIYt+b7Hef\n",
       "DI4MZDAzEo8MUkXi5PLChQu4du0aarUaAI99rq2tYW5uruPfeeqpp7C/v9/066GHHkpqClkIaZfo\n",
       "YoUJZ1wC+m6fikzqVWugljfzcF1gPNeHyaF4cgRdrR5PjuBXcQQkaLrWvIGESogcQdd+FUAGdcoR\n",
       "6mTwto+VerprRq75wH6NSwapInFyeerUKbzlLW/BF77wBQDAc889h9nZ2Y4tcQDIZrMYHR1t+pVO\n",
       "xwsm1JEv13B1vwQg2eK3NLHCpLc3AY06IiFs3PvUleDclSDoBGf+uQrtv35QQqFiI5OyMB/zQgwA\n",
       "bW+LLwt451f7fk0iR9CcGCeTI3ifqpOEy1sNMjgVkwwCepJjEdMRAAKx0sSqq4DCE1VESi6feOIJ\n",
       "zM7OYmNjA+95z3vqCeQzzzyDZ555Bvfccw/+43/8j/j85z8vxVgTcXnLO6imhvoxkSToaNBBOY5b\n",
       "P2hFaOd06YiE3N40sAIVnJun0vV+JWFuKoe+dHz+qqOaUKjUcGXPlyMk8b33aeK60VfFuTX2a5IK\n",
       "VFpDknPjoIx8xUY6ZWFuMgkZNLe7pnu/JkmMqSLShZ5nnnmm7e/fe++9+Ou//mshBt1qEMVMdCRo\n",
       "V/eLKFZt9KUtXJiI/l6rD123xYXoRTUlxg0NVHIdEeAlCsFkUyaWbh4CELDmNVS8fTI1mZQMalg3\n",
       "juMGWoTJ143q2+K3xH5NeONXR2Lv2z4/mUN/Jj4Z1OH7YsUWQga1Taa4RW+KA/xCj3SIYFWAnluQ\n",
       "fiVhYWoImSQVKA1V16NyDdcPPDlCkpZ+SpvuT4SOqPG/VfpehO2AHr2rqGCvY79eOyjVyeDcZLwL\n",
       "MUBgyoCugzYBodI2VUPQmtcRKxuvIiW0XUNivLx1BNcFJhJo0wE9+u4mMngLVi45uZQMUYeVjtun\n",
       "InQ4gJ6LJf5TZtPDWYzl+mJ/j442lSdHEKCd0/ScnKhWjxZCJWrNa6ji+LYnJ4Pq9+tRuYZrArTp\n",
       "ui7gmRwrRe1XHRXvpC/z+NCxX0WRQarg5FIyRDETHUJvUc9S6aj+iWpT6Qg6V/aKKNcc9KdTmJ1I\n",
       "UIEKtsXZ96EgbM1rSIxFS3DUyhF8MtiP8Zx5FajlLY6VWvaroDWvg1D5hGR+aiiRNp0qbr3/IkKo\n",
       "2U79Qk/SAak6brNdEqD7AxqMVuWNZZPlCH6Cc8f0UCKdZPDvuorWzUGpipuH3gMJiX2vgVCJGGsC\n",
       "6Jm3KKKtDOjdr4lbsxqShCt7RZSqPhmMr00Hgg8HcKwMAxEX2AA9T+XeynpLgJNLqdjYLaJiO8hm\n",
       "Ujg/LiboKG2z1V9tGEn0PTq0OPWXhQy8SCW6xQaoC/j+hZhTI1mMDsSXIwCNCQmq1o3tuA0yaGCn\n",
       "QZgcQed+FeR3QN2evRQgg0nkCIB6Gc5hqYobB8dkMHGs9D5Nlm4p7QwKsp0qOLmUiCAbTyWoQAHq\n",
       "Z4jtF6rYOvKCzqIwvWhis0JjSRgb9z71sPFkfg9ORFEV8EXObVM92mR9p1Ang+cSkkFLcWIMAEui\n",
       "qq4atHPi2puN/61qz4qY7OBDdWLvFxBmRrIYG0xGBuv7VSEZXN4Ss+Z17FdRVVeq4ORSIkQyE9UH\n",
       "rZ+cnR0bwFA22RP0qllh1Xawup18JAuguTWbcN1YlqX89qmo1iygfoTVJUFyBED9mm8mgwZW60Xd\n",
       "0m+a7ao2QRORJKheN5cE6S2BYKxM/FWhcGW3iErNQX8mhfOC5AgmTtWgCk4uJUKkpkJ1wBc53FU1\n",
       "G1/fKaBquxjsS+PcWMKgU2fjIiwLB5GMVvWUgXqbSuBBq6oCJXLNK9+vWw0yOJyQDKrerzXbwcq2\n",
       "oLZ4oFyvas+aHCuFrnlN+3VRBBlU7Pf9YhWbh2I6g1TByaVEiGQmyoOO0Pam96m6TbU4M5RYjqA6\n",
       "6OzmK9jOVwCICTqqLziIkiMA6hM0GS195a1ZgftVVRVn7ZgMDvSlkpPB4Pgt5dU/c2OlSCKrfL8K\n",
       "7AyqTurPjA5gJKE2nSo4uZQE13XFblzFOiizq64Ck3pNbPz8+CBy/ckqUIDadk/VdrC2XQBgKKES\n",
       "8NSpD9U6Y6H7VflB6/l9cVqENl3tbFfRZFBXh8rkWCk0MVZNSATIh6iCk0tJ2M5XsF+swrJMDTri\n",
       "DlpdrNDI9qbAyh+gNlFY3S6g5rjI9adxdmwg8felFVZxgmRQSEtf9boRdNsaUD9rUcZ+BdT43p9v\n",
       "KYoMqoyVnjbdI4NifO99Gind0kSoblW9JcDJpTT4zGR2YhADfenE36eSFZZrNtZ2joOOUFaY+KtC\n",
       "QSyj9T7VHbRiLiL5UCmyD/rdspJVoAC1M/92AmTwjmmBcgRlI6DEV3FU3W2Q0VYG1PjeT+pF6eZU\n",
       "xsq1nQYZPDOanAxq6zSILN4oWvO3+hgigJNLaRDNTFTOEFvdLsB2XIxkM5gZySb+PpU3IJvkCCJu\n",
       "LKvWLAo8aAG17R5RL334UPlwgG/7+fFBDPYnJ4MqqziVmoPVYzJoYqdhSeCEgaYJCQrsF/Wikw+V\n",
       "sVKkNh1Qe6FnJ1/Bji9HmBZYdTWQDFIFJ5eSILLFBqhts/mVhMVTYipQKhnt5lEZh6UaUpb3xnJS\n",
       "mKyBAtQmCqJtV/mUn2gyqLJyubqdh+24GM5mcEoEGVS4X13XFVq5BBSvG4GXSgAgpbCIIGu/Kjmj\n",
       "NsWSQZVxsokMcnLJiArR2jnLUt/eFJcYe58qWKHfprowmRMqR1Dh91LVxvqOOA0UELh9qiTgi9P9\n",
       "AWqHMovUbwFq100w1giRIyisnm0dVXBQqgmTIwCmx0p1vhf1ipkPpX4X3FZWmVwGyeDp0eRkkCo4\n",
       "uZQE4axQYSVEZFsZULtxRbepVF5uWNnOw3GB0YEMpof7hXynqsOqqQIlrIqjcN3IkiMotV2UTtf7\n",
       "VOn3CxNiyCAQnE0r1/5StaFNNzpWir48qFSCY2BSH5jsIIIMUgUnlxJQrNi4slcEII5ZqW05iNaL\n",
       "KmzNCj5oVR1UQPPLPKKCjqrD6uZhGUdlT44wP5UT8p3+bXHVAV8EVCbGsvariX4H1MWb1e0CHBcY\n",
       "GchgZlhMBUqV7a7rYll4guZ9quw0mJjU3w43xQFOLqVgeesIrgtM5PowOSSmAqVKw+W6rsQWoYHt\n",
       "TYW3xUW32AB1iYKf1M9PDSGbEVOBUpWgSSGDCqs4svarSt2fyFuzqgaRB20XTQZl79fNwzIOj8ng\n",
       "wrQYMqiDUImXIwj5uq4QOfydMji5lAAZzEQVK7y2X0KhYiOTsjA3KSjoqDysRLNxqzGWRfZIHBlB\n",
       "R9Uw7yUZFShFCZpPBscFkkFV+1XGhRilrVnBtgPqujwybFc1IcG3fW4yJ4wMqtqvpaqN9V1x0xEA\n",
       "tdNYREvmqIKTSwmQEnQUsUJ/4c9P5dCXFrM8VLHCfLmGq/slAOJbhIA634s9rLxPVZVLGUmC7OJf\n",
       "kAwKlyNINv76QQn5YzIoTI6gcM7lssDHGnyoui0uY7+quvwox3Y1Sf3lrTxcFxgb7MOU4M6gSm36\n",
       "Xbfw6zwAJ5dSIKPVo4oVir6FB6gLmJe3vINqaqgfE6KCjqK3ih3HrR+0Yn2vJuCLfNHJhzJCJXhs\n",
       "GKBOO+frdIWSQUWxplCpNeQIUqp/6trioqBMxiIh1jQIlbCvbAsZcgRVcfLGQRn5io10ysLcJCeX\n",
       "jIiQ8W6o8iTB4GAvlI0HgpcjsVV17aCEYtVGX9rChYlBYd+rqoIm0/fK1o2M/Wqg31XdFvfJ1KRA\n",
       "MggEY6WwrzwBx3EbF/AESkGMjpWqziiZflckfZqfyqE/c2unX7f2f50G2I5br6CJ3LiW4sUvI+jI\n",
       "DpiiRygBjaADyPW9b/vC1BAygipQgJrD6qhcw7W6HEGk771P2QmajDVvKUoSZOp01SXGYis4KhKF\n",
       "JjIoSJsOmB4rvU/ptkuRD6nRut4uekuAk0vhuLJbRLnmoD+TwuyEwKCjaECt6OHvgLqhzDKrOIBc\n",
       "+2VoFgE1iYL/lNn0cD/Gc+IqUCra4rLIoPL9amLFWNKaTymQ4QSnI4iSIwBqYmUzGRQvYzFZ323i\n",
       "GUUVnFwKhr94FqeHmi6DJIWK26cHpSpuHpYBCK5AKdafyUiMAbm+l6HfAoK+F/q1TZAVMFVo/67u\n",
       "HZPBdEpwBcr7lC9jkTDKJ3ABT+aEBBm6P0DNbFoZY8MANfv18rHfRZNBFYmx47hY3pJ3L0BVxVj0\n",
       "mqcITi4FQ9ZBqyJB8xnh6dEsRgb6hH2viqfwarZTr0DJuJgByPW9jDYV0BhErsZ2SVVXBbbfIZgM\n",
       "qmjNHpSquHHgkcFFCfozQO6elSFHANTESln7VYUUZGnzEACwaKDfr+wVUap6ZHBWgjZdFRkULQWh\n",
       "CE4uBUPaQavgsJL1coAKVrixW0TFdpDNpHBuXFzQsSwL/llrpu/lVxMaAnvzqjgyLvMAahJj/0LM\n",
       "qZEsRgWSwWC1XtaelSVHAFTFSrkyFrlFBNl+F/q1TfD9vjCdE6pNVzG+6jBABm/1AeoAJ5fCIYuZ\n",
       "qDispLVmFbRL6nKEmWGhFSgg2GYT+rV17Beq2Dry5Qjm+l5ae1OF7bISYwW6P/FSisb/luX7jd1C\n",
       "nQyeF1iBAtTcFpfV0jd6vyo5o0z2uxwySBWcXAqGrAqUihlistpUKtubMtoNshMF//bj2bEBDGUz\n",
       "Qr9bdiWkZjtY2RY/GgRQc0FAeqdBYoIj49Ys0CwFkeV7WXIEQL4kYb9YxeahL0fgWOlDqRxBmt+F\n",
       "fm0TZF1gowpOLgViJ1/BTr4CwMwETZpe1OA2FSD/goBU2yUnaGs7BVRtF4N9aZwbE1yBUnBrWboc\n",
       "QYFGWtYoH0Ce72VMpfAh2/e+7WdGBzAsmAzKjpXNZJDlCD5UtMVlSXCogpNLgfAXz/nxQQz2i3mv\n",
       "1YfsGWJV28Hatvdeq6x2iVztnJx2CSDf97LaVEBw3qLwrwbQ8PvizFDTa0YiIPtyQ5AMirwQA0CR\n",
       "TtdfNyNCv7epcilr3dwUf/nOh/T9KvHGr+xYub5bRNV2MdCXwnmB2nQgsF+l6ozl+N6SvGYAeVVX\n",
       "qhCaXP7pn/4p3vKWt+CBBx7AG9/4Rvze7/2eyK8nj0uSWmyA/Bbh6nYeNcfFUH8ap0ezQr9bdvXM\n",
       "dV2pG1e272VVoIDGbXFZAV+F32Un9efHB5HrFyxHkKzhqtoOVo/JoPgJA/IfDliSWLmUvV+XJN74\n",
       "lR0r/f26OD0sngxKtn2vUMHWkUcG75iWt+ZlV7xvhzFEACAsorquiw9+8IP42te+hje96U1YWVnB\n",
       "D/zAD+B973sfRkbEMmuqkDlmQPZhtRSYESnqvVYfsl+J2c5XsF+swrLEV6AA+QFfVmsWkN/uUdHS\n",
       "l1Z19Q9amWtG0ppf3S7UyeCZ0QGh3x1MOmTs2WYyaF6slDFP14fsWClVjiD5XoBv+zmJ2nTAi5Up\n",
       "iD0Dm8ggVy6jw7Is7O3tAQAODg4wNTWFbFZsFYwyZA5IVVXFkdGmkq6BOvb77MQgBvrEyhEAuZcz\n",
       "yjUbazty5AiAusNKSotQdpIg0XbZl8CCSYJoMgjIJVQ7QTI4LTNWCv9qAIHWrJRY6X1Kb+kbGecl\n",
       "JvWSCdXajkcGc/1pnB0TSwapQlj6b1kWvvjFL+J973sfhoaGsLu7iy996Uvo7z/5AkC5XEa5XG76\n",
       "Pdu2RZmiDVIrUIpYoRw27n3KO2jl+R2Qm9ivbRdgOy5GshnMjIgnYjKTBNd1A1IQibf0pSXG8ver\n",
       "NM2i5GfkUhZgQ47vfb/L0KYDci+WVGoOVnd8OYI8MiibUJm5X+Vf2gTk+D4oH5JBBilCWOWyVqvh\n",
       "P/yH/4AvfelLWF1dxVe/+lX8i3/xL7C1tXXiZy9evIixsbGmXy+++KIoU7SgVLWxviuv7K2q+idl\n",
       "lI/0lr7cg1ZmBa2ugZJUgUpJXDebR2UclGqwLGBhSqJe1MB1I3sElMy2MiB3z0rfrxLX/Op2Hrbj\n",
       "YjibwSkJZFCm32Vr0+VLt+RPGADkvEp1O73M40NYcvnyyy/j6tWreOSRRwAAb3vb2zA7O4uXXnrp\n",
       "xM8+9dRT2N/fb/r10EMPiTJFCy5v5eG6wNhgH6aHxb3X6kMmK3RdV4nuz9QqjsxEQXbQkVnx9ttU\n",
       "FyZycuQIEquuTWRQRhVH8lgW2dV6mXtWetVV0X6VKUeQ0dLfOqrUyaDoCzFAY/i+/MqlvP0KSFo3\n",
       "kl5FogxhbfELFy7g2rVrePXVV/GDP/iDWFpawqVLl3Dvvfee+NlsNntCi5lOiz+cVEJ60JF4WN08\n",
       "LOOoXEM6ZWFeRgVKkf5M1i28etCUYL/MEUqA3CqOfL/LSxJWtj0yODqQwcywRDmCJDK4LFHfDciN\n",
       "N7LXjV/xlrlfZT3fp2K/SiODEteMbG168/gtCdX62+ymOCAwuTx9+jR+53d+Bz/1Uz+FVCoFx3Hw\n",
       "27/925ibmxP1ryAN2cxE5gwxv90wP5lDf0b86FOZl0qKFRtX9ooAFLQIJfpe1rqROW9RVWtWRhUn\n",
       "2GKTIkeQ6Pebh2UcHpPBuamc8O8H5Cb2ylr6Bu5XmRVv6X6XmBivbBXguMCIJDIYnMok2vdBMng7\n",
       "vCnuQ+h9/g984AP4wAc+IPIrjYFsZiLz9mnwXW4ZaGWFIuerLW8dwXWB8VwfJofEyxEAeS/FeHIE\n",
       "NXpRuS1C87Su0smgzNbs8UE1N5lDNiOn4yNLktBEBg2OlfLkCN6nzMqliYlx0HYZZNCyLFgW4Lri\n",
       "fb95TAZTFjAviQxSBL/QIwiy3w1tHLTiv1vmixOA3KHM9bayxFt4jeHAYr/3+kEJhYqNTMqSFnRk\n",
       "ttmWJbf0VWjnZK95GUoQ2UkCIK/b4GvTx3N9mJJMBkUvm+B0BGlrXmqCpkqCI/67ZfsdkNfWr3cG\n",
       "p4akkUGK4ORSABzHxfKW3LK3zCRB5osTQEOzCIg/rFQ8qSWrgtYIOjn0peVsRVlVnHy5FpAjSK7i\n",
       "GHxjWWpbWeIbxbLmLS5JrkAB8mLl9YMS8orIoMyKt7QzSuaEARWESpLvb8eb4gAnl0Jwdb+IUtVB\n",
       "fzqFCxNi32v1IbfNJlekHryJJzrwyJzb5kNa0FGZGEuoQAHA5FA/JiRVoGRVz5rIoGT9mdRLJQoq\n",
       "l8L3q2TdHyBzv3p+n5NJBiX5vVCRTwZl3hZXkaDJmk2rYr9SBCeXAuBXEhamc8hICjqyWOFRuYbr\n",
       "ByUA8qs4gPhWlZJ2iaTb4rLbVEBQOyf2e2W+6ORDlu7PJ4N9aQtzk5IqUBIvlah4ozglqbWswnZZ\n",
       "81FVrPmUpNayL2GZHOqXp02XtF8dx60n9mpipazKJSeXjIhQUkmQxAr95GxmJIuxwT6h3+1D1gwx\n",
       "23GxvCXf97ISBRUtfVkaLiWtWUmVhDoZnBqSRgZlja86Ktdwbf+YDEp4OtGHrPaskjUv23YDdX8q\n",
       "K3+i/X7toIRi1UZf2sIFSWQQkDfhQcW6oQhOLgVABTMxOuhImiF2ZbeISs2TI8xOSAw6srU4Cqqu\n",
       "ohNjJZdKJLWWVZDB4IUeV6D9/rvW08NZjOXkkEFAThXHdty6nMLsWGngfjU4qb8UuBAjS44AyNHq\n",
       "NpFB1lwyomJJQWtW1gwxNTdPG/9bZMD3bb9jeqgpgRUNGTqog1IVNw/LAIBFmfozSdUEFS9OSLNd\n",
       "hU5XUrVe1eWAehVHoO1X94oo18mgHG06IG/OpQrfy+o0qNXpiv1edWtevO8vH/t9ergf4zk5cgSq\n",
       "4ORSAJZVjgYRLrCXr2WxLEvKEHgV+i0g2O4R952+Bur0aBajA/IqUDKqf8EKlAqtq6xLJSrIICCY\n",
       "UCnYr4CcKs5SgAzKkiMAwQqauO88LFVx48Ajg3I7DXIJlZJRPgbaDsipvC5tHgK4/fSWACeXibFX\n",
       "qGDrqAJAbgVK1gwxFSMeADlPQMp+ccJHSkKSo0J7BsjRi67vFFCxHWQzKZwbl1+BkjcaRH6SAIid\n",
       "dalq3cggs5cU6HQBOaTEr/ydGpFLBmXJEVRo02XESUBHrBT3nbInsVAGJ5cJ4R9U58YGMJQV+uBR\n",
       "E2TcFq/aDla31Sx+GYmCCs0iICfgq7pBKKNyqUqOIKOK00wG5VdxALPXvJyWvqIkQUZirCqpF+j3\n",
       "jd2Cp03PpHBeohxB3m1rNaN8ZBRAbteb4gAnl4mhipnIuC2+vlNA1XaR60/j7OiAsO9tBxmVV1VB\n",
       "R0pirKA1C8hp6auWI8ioQJ0dG8CwRDLY9HCAIPtrtoOVbcVtcQNb+jLam8rWvJQ4efy8r2wyKCFO\n",
       "7her2DyUL0cA5JyxKu5jUAUnlwmhjI1LCPb+wl+cGRL63nc7iG6z7eQr2MnLlyMAcqo46uQI3qdQ\n",
       "7ZyqKo6MJEFxiw0Q5/u1YzI42CefDFoSSImyNS+hpa9MgiNhHI6qUTjBZ3JFTUjwz9czo3LJICCe\n",
       "zAbJ4O12Uxzg5DIxVG1cGaxQ5csB9Qs9goPO+fFB5PrNCjpV28HadgGAfP1ZSkpLX0213k/qRXbZ\n",
       "VN08DVaIRO1Z3+8qyKDoQeQ6yKCMy4Oq5EMyKsZKCZUg81XpdAHxE1nWd4uo2i4G+lI4NyZPjkAV\n",
       "nFwmhLIxCTJbPQqSS9EBX/Y7uUGIvn26ul1AzXEx1J/GGdlyBMFVHNd1G60eEy+VKGpvWpYFS3AV\n",
       "SpXtgPj9uqyQDIrer5423SODJt7SV33bGhBPqJScUYLjjX9GLU4PSyeDFMHJZQKUazbWdo6DjqKD\n",
       "VuTFWZUvB4gWS6tqUwHiW1VBv1uW3KAjeubfdr6C/WIVluVd6JEJGbMWVbX0gaDvxXyfDttFr3nZ\n",
       "VUtAfJfEJ4M5BWRQ9AU813UDcgQ1+xUQ53uVZ5Tw/aqQDFIEJ5cJsLpdgOMCIwMZzIxkpf67RLfF\n",
       "XddVepNN9KUYlbYLr7qq9Hv9sBLzfT4bPz8+iMH+tJgv7QDRfg+SQSWESnQlRMOaN3K/Sow1ssmg\n",
       "6At4O/kK9gpVAF4FTSZkSEFUzJD2ITqxV6XvpgpOLhMgWEmQXoES/Fbx5lEZh6UaUhawMC3v6UQf\n",
       "om9BqtWLyjqs5Fdx6to5wW0qE6tnPhkczmZwSjIZBAJz/wT43nVdpfoz0RcIVel0AQlJgsr9KpzI\n",
       "en5XQQabXqUS4PtKzcGqTwaVECrvU3gRQcF+pQhOLhNAJTNpXG4Qxaq8oDM3mUM2IzfoAGIThVLV\n",
       "xvquGg0UIO+gVWm76MRYre1ivu+SQjkCIPYi2NZRBQc+GZxS0VoW7HuV+m5LTqxUseZFEyod+xUA\n",
       "XAHrZm0nD9txMZzN4PSofDIosuLdpE3ntjgjKlQyE9GtHlVjQXyITHIub+XhusDoQAbTw/LfaxWZ\n",
       "JDRVoAxs9ajU/YlO6lXqdAGxl/B82y9M5jDQJ58Miqyglao21nfUTEcAxF9+VBkrRVcule5XwZXL\n",
       "4H5VQQZFxkqfDFqKyCBFcHKZAEsK2bjoGWIqb1sDYkX2wbEgSoOOADZ+87CMo3IN6ZSFeQVBR/Tz\n",
       "jypbhCbrdAGxybFq20VeYlvZzje06cMKKlAC96vrulhWeqnE+xTe0leY1ANi9qxKCQ4gNlb6fr8w\n",
       "oYYMUgQnlzHhOK7Sd0NFzxBT2aYCxM4Qq7epVAcdgUn9/GQO/Rn520/knMtixcaVvSIAliOEgcjL\n",
       "GSrbm4DYeYvBtrJpcoTNwzIO62RQvjZd9Fxa1XFeKKFSXQAJFHCS4nZviQOcXMbG9YMSilUbmZSF\n",
       "uUl1QQcQxAoVXg4AxN6cXdrUE3SEtDf9p9gUJ8Yibosvbx3BdYHxXB8mhxTKEQT43XHUTkcA5LTF\n",
       "VbX0RbZnVbZmATl+V6VNb6z55N9VqtrY2PXIoKpYKVK+pVy6JfCMUtnhoQpOLmPCDzoL00PoS8t3\n",
       "Y1AsnZQV5ss1XN0vAdDQIhRRxVF8WKUFvjmrPKkXWTEOtKnUyBG8TxHB/vpBCYWKRwZVVKAAsRW0\n",
       "ZcUtQpEJmnI5gsDWsuokQaQ2fXnT06aPDfZhSgEZBMS9zx3Upt9leKy8XcHJZUyoDjrBAbVJN+7l\n",
       "LW/hTw/3YzynKOgIYoWO42J5y+AWocIXJwA0XokRmBgrk1IIrOL4+3V+KqeEDALihsAXKrW6HEF9\n",
       "FSf5dylv6ctIEhTHGpGJsSo5AiAuVt44KCNfJ4NqzlgpsZLb4oyoUC+wF3cTr/FahrqFL4oVXtkr\n",
       "olR10Je2cGFCzXutIi+WqHxxAhD7MtKS4rltQm3XMNBY1O1Tv2o5NdSPCUUVKFH7tVmOoIqIy5Aj\n",
       "qO7wmCelAMS1xetyBIVkUFS80UEGKYKTy5hQOfsMEDtDTHViDIhrs/m2L0wNIaM46CSN90flGq4f\n",
       "KJYjiLwBqVo7JzBJuKRYpwuIm02rZb8KqqBd3W+QQRXadEDcfgV0TBjwPsW29NXH+aS+12G7qFjp\n",
       "k8FJhWSQIji5jAldYmMgeeBR3aYCxOmgVN/4BcTdgPSfMpsZyWJssC+xXWEgqnpmO25dTqGDUCUN\n",
       "+KonDADibourvjULiNMZ+/tVKRkU1Jo9Ktdw7VibrloKInKUj4mxUscZJSpW8mUeD5xcxsB+sYrN\n",
       "wzIAYFHxQGZAXMtB5eJPCWKFWtqbgls9OtpUieUIu0WUaw760ynMTqi9EAMIkIJoqFyKqtYvaTis\n",
       "jN6vgvzuk8Hp4SzGcorIoCC/246r9F1uH+JjpXmVS9ZbeuDkMgb8TXtmdAAjA2qCDiCGFdZsBytb\n",
       "6t5r9SG8XaLwvVZxVRwNAVOw3++YHmqqKMpEKhCdkqx5HWQQEFdBUzlP18etsF9FVc+UkkFBfr+6\n",
       "FySDarTpgIxYaZ7v+aa4B04uY2BJ8TgZHyLE0hu7RVRsBwN9KZwfVxh0BGm4dLBx4UmCgVUcPUlC\n",
       "sC0e/3v8NXNqJItRhWRQhO+b5Ag6WvqJ17y51TOdSb2oSv3CdE6ZHAEQEysPS1XcOPDIoImdBh1F\n",
       "BIrg5DIGdDETETPE/IW/OD3c1GqXDRG3IPcKFWwdVQCYnaCp1boK1kBpSBKAZIetDu0ZIOZyxsZu\n",
       "ARXbQTajmAwKurWsU/cnbL9yazY0RMRK/0KMajLo3wtIEittx8WyYm06VQhNLsvlMn7hF34Bd999\n",
       "N+677z588IMfFPn1ZKCLmYiYIaZ6FI4PEUHH9/vZsQEMZTNC7AoDEX6v2Q5WtjVUQgTNbtOxbpqS\n",
       "ywT269BvAWL0c8GxYSrJoIjb4vuFKraOfDmC+nWTlFBpWfOCbovfEmeUJtuTdQYLqNQ8MnhOIRmk\n",
       "CKEn9Ec/+lFYloXvfe97sCwL169fF/n1ZKCLFYpoi+u6ySbitriOtjIgphKytlNA1XYx2JfG2dEB\n",
       "Uab1hLgbkOp9L+q2uK41L+Kw0rZffd1iksQ4oE0f1kAGk/i9iQxq0Om6rjfCKu7wc/2xMv536JDg\n",
       "AGJipQ5tOlUI2/H5fB6f+9znsLGxUd8QZ86cEfX1ZFCpOVjdUX8hBhAjstfXIkxexdHRVgaCbDz+\n",
       "dzRe+hgyTo6wk69gJ+/JEVReiGl6lUpAwL/r1EhSkyJBxAUB1fN0fYjsNGiLNQn8vr5brJPBc2Pq\n",
       "5QiA5/tMOmZyqS1Wep9JKpc65AiAGEnCEt8Ur0NYW/zSpUuYnJzExz/+cbz1rW/FD//wD+OrX/1q\n",
       "258tl8s4ODho+mXbtihTpGJtJw/bcTGczeD0aFbpvzvpbXHXdfW3HIS0Swys4hjsdz/Ynx8fRK5f\n",
       "XQXKsqzGYRXT95Wag9XtYzKo6QJeohahpvamiAs9l3TvVwGxZnFGLRlsGjkX0/7dfAXbx2TwjmnV\n",
       "vheXoOmTbsX/Dl0VY4oQllzWajWsrq7iDW94A775zW/it37rt/DTP/3TuHHjxomfvXjxIsbGxpp+\n",
       "vfjii6JMkYqlm41Wiar3Wn0kbfds5yvYL1ZhWWYGHd06IhEJmq42VZLb1pcCB61qJH2SzSeDQ/1p\n",
       "nFEoRwCSX8DTSQaF7ldNnQYxcgQ9ST0Qf8/6tp9TrE0HksfKqh0gg8rXvPcpJM5z5VJccjk3N4dU\n",
       "KoV//s//OQDgzW9+M+644w78/d///Ymffeqpp7C/v9/066GHHhJlilToHDOQdIaYnyRcmMhhoC8t\n",
       "yqxQSNpaLtdsrB3LEXS12YxsEQqonumyHUi+bpYC42RUk8GknYadABlUndhbAqUgytubIvarrtvW\n",
       "weQy5rrRmeAk9f3aTgE1x0WuP42zY2rJYEPval5LnyKEJZfT09P4x//4H+PP//zPAQCXL1/G5cuX\n",
       "8YM/+IMnfjabzWJ0dLTpVzqtNtmJCx1PsflImijoeOnDR1IN18pWAY4LjGQzmBlhOUJYiBhfpct2\n",
       "IHkFTScZTFpB8/0+OzGonAwmbYuXazZWNUxHAMyWIwQfDojrexL7VYDtyjuDCc+o7aMydgt6OoMU\n",
       "IbRm/l/+y3/Bhz70IfzKr/wKUqkUnnnmGZw/f17kv0I7tB5WCRe/Tj1I0hli9fmcGipQSZOEzaMy\n",
       "Dks1pCxgfkrN04k+RLzqpPPFiaQTEnTp/oDkVRytfk+oM17d9sjgcDaDU4rJYNI46bpuoIigR6cL\n",
       "JCFUepJ6IBgr4/19ne9yJyVUvt/Pjw9isN+MYplMCE0uFxcX8Rd/8Rciv5IUXNcN3LbWUP1LyMh1\n",
       "tkuSJ8Yaq65JA+ZxUn9hUp8cIa7fS1Ub67t6LsQAgH/Wxg/4+iuXiferkUS2sV91kcG4xfqtowoO\n",
       "jsngwpQebTqQhJTojJXep4kFkJTBXRKK4Bd6IuDGQRlH5RrSKQtzkzorIfH+vk7tXHJWqNH2hLdP\n",
       "depwkiaXK9t5uC4wOpDBzLDaChSQrC3eTAbNreKYvF/16P68z6TJmQ4yaFlWIkJVqtpY16RNB5J3\n",
       "Sijou+PuVx5D1AxOLiPAX/jzkzn0Z9S7LgkrLFZsXNkrAjBTO6dLAwWI087pFNjHvxDTsF11BQpI\n",
       "dlu8iQwqliMAyW+fktDOJV3zJu9XTRWoxrzF6H93ZTvvadM1kcEkvm+WI5hbRODKpQdOLiNAZ5IA\n",
       "NAJ+nNtsy1tHcF1gIteHyaF+0ab1RJIZYo7j6tWLCmLjWnVEBrapgGSHle/3uckcshn1Gqgk+7WZ\n",
       "DGqUgsQkJXr1oslu/ercr0Cyl2KC+1UnGYwTKzcPyzgs69GmAwJipeZ1Qw2cXEaAbmaSZIaYzvYg\n",
       "kKzNdv2ghGLVRiZl6Qk6CZPLZZ2t2YTVM51tKiDZnE4y+zXGYXV5K18ng1NGyhEItDcTXszQHSvj\n",
       "+J7Mfo3he787NT81pIUMJknqS1UbG7seGeS2uAdOLiNANzNJcvtUd6vHb+nHqSb4ts9P5dCX1iFH\n",
       "iO/3fLlWr0AtTptXxdG/bhIcVppu/PpItF+1J8beZxy/X9svoVDRTwbjX8Az1/dU9msc3+u8tAkk\n",
       "m3O5vOmRwXFNnUGK4OQyAnS98+sjCSvUXsVJcNDqtj1J9ezylrdmpob6MaEh6CRp9TiOi+UtIoTK\n",
       "wDWfZN6i9gRHwH6d00QGk8TJQqWmVZsOiIqVevdrvKqrZgmOoDNKhxyBIji5DInDUhXXD0oAgEWD\n",
       "WaHuVk+SJEGX7cnkCHp1uvXxGm50Rn51v4hS1UFf2sLcpPoKFJDwsNJMBpPojHWveRGJsa5XSpJ0\n",
       "GnwJiy4yCMRPjh3H1SrBAcyOlUkq3vwyz0lwchkS/qadGclibLBPiw1xb4vbjovlLb2sMEmSoL/V\n",
       "432aKUcIPicX7e/6ti9MDSGjoQIFBOZcRjQ+SAbv1CBHAAS1NzW19JNUcZZ0Eyrf7wZ2SYBgtyHa\n",
       "37u6X0SxaqMvbeGCJjJodqz0Pk3crxTByWVIUGAmcRntld0iKjUH/ZkUzk8MyjCtJ5JVcfS9OAGI\n",
       "kiPo1REB0QO+7jYVEL/i7ZPB6eEsxnJ6yGBczaXtuHU5he6Wfpzb4ronDCSSUhBIEuIm9v5+nZ8a\n",
       "0iJHAOLHyqNyDdf2PTJoYsWbQqykBk4uQ4ICM4m7+OtPJ04PNb0AoRJx22z7xSo2D8sACIwGMbI1\n",
       "2/jfUX2vuzULxNe7Nmw3b79e3SuifEwGZycMlCNQkbEYmiTEjZW65QhA/Fh5mRIZjCVH0F/xpgZO\n",
       "LkOCRLskJivUPZ8TSMLGPdtPj2YxMqAp6MR8Tq5mO/orUAmekyNFqOKueQL7NarW1bddJxmMu18P\n",
       "SlXcPCaDi5ovlcQZkEAhVsateDfkCPr2a9xYubR5CEDvjMi4hOqKTwbTKW1yBIrg5DIkdM8+A+In\n",
       "lyQS45hJgu5bs0D8oLOxW0TFdpDNpHB+XJMcIdgWj9xaNtf3FNZ83MSYgu1J9+upkSxGdZHBmBWo\n",
       "oBxBb/Xv2J7bKFbWpRQ6CyAxK95+Un+HRjJIEZxchkDVdrCiuQIFxL8trlv3BzSe1opaxaHQpkqa\n",
       "JCzODNcrQaoRDHZuhHWzV6hg66gCQN90BCB42z3muiFABnm/qkXcJGFjt1Ang+c0kUEg/rxFUr43\n",
       "kVDFfCqXgk6XIji5DIG1nQJqjotcfxpnRge02RG/iqO/6mol1IuSqBibaHvMyqW/Zs6ODWA4mxFu\n",
       "V1ikY9w+rdoOVrf1r/nYnQYCVZxbYb8C0fZskAzqrEDFKSLsF6rYOjrWpmv1vfdp5LqJq3UlcNmX\n",
       "Iji5DAGfmSzODGmrQAHxWOFOvoKd/HEFStNIFiBBFYdEq8f7jK/703/zFIgW8Cn4HYiXoK3tFFC1\n",
       "XQz2pXFWIxlM2maj0RaP9vcorPm4hIqC7UA8vau/Zs6MaiaDMYh4szZdf6yMnBgTIIMUwcllCCwR\n",
       "YSZxZoj5rOr8+CAG+9W/1+ojDius1Bys7hQA6G05xK/i6G9TAfHmt1FozQJB34f/O3TIoPcZZd00\n",
       "kUEDLzfoHoQNAFbgVItGqGjs1zix8hKByzxAYL9GsH19t1gng+fG9MkR4s65pNDSpwhOLkOATNCJ\n",
       "UcXR/TKPjziscG0nD9txMaRbjmBFP2hd161XQnT7Ps7tUwptKiDexRIKMhAg3n5dDpDBXL++ClSc\n",
       "/Vq1Haxte2SQQnsTiJeg6V43cXxPpTUbJ1ZSIYNx4uRuvoJtAmSQIji5DAEKbByI2S6h0t70qzhx\n",
       "2lSn9L7XGuf26Xa+gv1iFZbl3SLUiTjtWTLrJkYFjYrtifyuOzGOUT1b3c6T0qYD4X3vui4JOQIQ\n",
       "T4Zzicq6iRErqfg9zn69RIQMUgQnlz3gui4ZRptOsPh1t0viJAl02srxW7OzE4MY6NMnRwCiV9DK\n",
       "NRtrdTmCeYSKSpsqVqeBiBwhFeNixlKgw6OTDDY9eRpyz+7kK9greGRQdwUqVvXvFoiVum1Psl91\n",
       "rxmK4OSyBzYPyzgs1ZCygPkpvQNS4wwHrrcIdQedOEkCsbZylNEgVPwORCclq9sFOC4wks3g1EhW\n",
       "pmk9EbXiTYoMxnhdiExLP5YcgZbfgfCJgu93CmQwaqwMkkH9vvc+o8VKGusmXuWSxn6lCE4ue8Av\n",
       "2c9N5pDNaA46EQN+qWpjfZdGBSpOm22JSBUnTpuKSmsWiD4rsv5CjGY5AhC94k2JDMaZ7kBl3cTq\n",
       "NFC5bR1YsmF9T8XvQPRYubpdgO24GCZABqMmxkFtOpXuWpQJCZTWDTVwctkDlJhJ1Blil7fycF1g\n",
       "bLAPU0P9Ei3rjVQ9YIb7edd1ybRLkmhxdCf1QPThwFSSBCD6uvEJyYXJnPYKlL9fwyZoTWRQ85q3\n",
       "IvodoCNHsCyrcfM35H8AFduB6Gs+uF+1k8GIhGrrqIKDUg2WBSxM6U4uvc84VVcK64YaOLnsASoJ\n",
       "DhC9mhDUb+kOOlEZ7Y2DMvIVG+mUhXntQSeOBorOuomaHFOyPeoFASraMyB65XJl2yODowMZTA/r\n",
       "JYNRb856cgQ68/6irxs6az6q3pWS7XHPqAsT+slg1DhZqtpYJzAqjyo4uewBShs36gwxf4QSpapr\n",
       "eA2U5/f5yRz6M3qXadQkoVixcWWvCICG76POW6RUrU9FvNxARacLxEjqA/tVNxmM2pq9eVjGUbl2\n",
       "TAb1yhGA6LNpqej+gOgXSygl9ZHPKEJ+j7pfV7bzcI7J4MywXjkCRXBy2QNURjwA0W8RUhnxAETf\n",
       "uHXdHwXbI17MWN46gusCE7k+TGqWIwDRDivHcUkRqqgVbyq3rYHoSQIl/VbU6plvOwVtOhCMlb1/\n",
       "tlS1sbHrkUEK6yZurKSwbhqXB8P9PJVXkYAYSX3gZR7dZJAiOLnsgny5hqv7JQC0Fn/4yiWhoBM3\n",
       "SSDQboiqI6LUmgWiHVbXD0ooVGxkiFSg/Nvi4QM+nTUfOzGmQGQjV8/oJAlAtFi5vOnJEcaJkcEw\n",
       "66Z5OoJ+30fVGVOKlSbLhyiCk8suWD5e+NPD/RjP6Q86UWaIOY6L5S06LYeobTYqL04AMTRQhFqz\n",
       "QLREoS5HmMqhL60/PERJ0JrJoH7fR63iUFrzUcdXUerwANGkIEG/U6hARYmVzWRQf3KZilkAoRAr\n",
       "o158pPICG1XoPz0IozEglcbiiXKb7cpeEaWqg/50CrMT+t5r9RG1ikPlpRKg+Tm5ML6nJEcAgpWQ\n",
       "3j9LqcUGRKsa+2RwaqgfEyQqUN5nmDXTJEcgsOYj71eiaz7UfiW25lMx9uscETIYJTEuVGp1bToF\n",
       "30edxsKVy+7QvxoJg5LYGIgW8H3bF6ZzyBAKOmFmiB2WqrhxUAZAY+NGfU7uEpG5bT7iVHEoJDhA\n",
       "tNun1IJ9lItgV/cbZPACATLYSBLC/fylm3Tam0C0tjglCQ4QjVBRkoEA0farTwYniZDBKG1xx3Hr\n",
       "9lORglCD/qyDMKgx2khBh9CNXyBaJcHftDMjWYwN9km1KwxSweSyh/224+Lylv86z4hUu8Iiiu/r\n",
       "N5aJrPlUhFYV1cQ4XFLv+Z0MGYwgpTgq13D9wJMjkFk3ERIFk2MlNdtTEYoIlGQgQDS/XzsooVi1\n",
       "0Ze2MDepX5tOEfqjGGFQFamHYYXUEmMrQvWM0g1CoLkt3uv26ZXdIso1B/2ZFM4TqEAB0SpoS9QS\n",
       "tAhJArl1EyFBM3m/+tWz6eEsxnL6ySAQ/ulN23GxTKziHS9W0rA9UqeBXIcnQpw8tn1haogEGaQI\n",
       "KV75/Oc/D8uy8Md//Mcyvl4JaraDlS0a77X6iLL4qbUIo1VxaNoO9PZ9Xac7PdT093QirO/3i1Vs\n",
       "HnpyhEUDEzRqlcto1TOaaz6S34msGSB8rLy61yCDsxM0KlDxYiUN30eTbhGVUoTQulKTI1CE8ORy\n",
       "ZWUFn/3sZ/Hwww+L/mqlWN8tomI7GOhL4dwYsQpUiMW/TEwvGkXoTU3rGrxA2itoUktwgOBzct1t\n",
       "99fM6dEsRgdoVKDCVnGayCCRgN8YAN/7ZyndmgWiVYyp7Vcg/ISHJYpkMOR+PShVcfOYDFKJN3V9\n",
       "t8FkMBqRpZHUU4TQ5NJxHHz4wx/Gpz/9aWSzZk+s94P94vRwk+ZOJ8LOENsrVLB1VAEA3DFNY/FH\n",
       "YbTkWj1NbfEehxUx24Hwt08p2h5WZ+yTwWwmhfPjNMhg/fapgZ2GoNa1lwaN8rrplShQrECF3a++\n",
       "7adG6JDBsA992I6L5S1a+u4ot8V5DFFvZER+2dNPP413vOMdePDBB7v+XLlcRrlcbvo927ZFmpIY\n",
       "NNl4uIPWt/3c2ACGskL/L46NsDPEqraD1W3/vVYavo/TFqfSpgIag8h7V11ptamA8BquOhmcoUMG\n",
       "w7bFg2SQjBwhSKjcxhpqB0rPD/oIS2Zp7teQiTHB/Rr2jNrYLaBS88jgOSJkMMpTsxR9Tw3CKpff\n",
       "+c538Nxzz+FjH/tYz5+9ePEixsbGmn69+OKLokwRAtJsvOdBSzDYhzxo13YKqDkuBvvSODs6oMK0\n",
       "nrAsq96e7el7gkEnrH6O4kEbuopD0PbwfvfWzFlCZLBpQkKXNe+RQXojWYyOlVETY0Kt2bByCt/2\n",
       "OyjJEUImxvuFKraOfG06nXVDDcKSy69//etYWVnB3XffjYWFBXzjG9/A448/js985jMnfvapp57C\n",
       "/v5+06+HHnpIlClCQHLjRk4S6Cz8sCL14A1CKhUoINzcv518BTt5rwJFyfdhE/tGtZ7GCCUgShWH\n",
       "bqfBRNuDB343+9d3CqjaHhmkok0HwndKaMZK7zNsrKTSVgaC43y6/1x95BmhNR82Tvo63bNjAxgm\n",
       "QgYpQphnPvKRj+AjH/lI/Z9/5Ed+BP/m3/wbPPbYYyd+NpvNntBkptNpUaYkhvdeK+HF32PjUnrd\n",
       "xoefJPTUbxEM9sBxouC4XVmtf1CdHx/EYD+d9RyGlFRqQTkCHUIVNkGj3GkIq52jaDvQ3fdLdTkC\n",
       "LTIY5rb4br6C7TwtOQIQI1YSivNhq64k92vYxJjoGUUNPKCpDbbzFewXq7Asb44VFYTWnxFsEdZv\n",
       "/fYU2NNrKwPh2mzU3lf2ESa5XNvJw3ZcDPWncYaIHAEI12YLkkFK6+ZW2K9Ad99T9DsQzvdBMpjr\n",
       "p1OBskIkxlXbwZpPBgn5PuwFPGo3xYHwbXGK+5UipO2or33ta7K+Wjp8VnVhIoeBPjoVqDCssFyz\n",
       "sbZDaz4nEH6GGMUWIRCurU/txQkfYUZYLQW0Z5ZFpwJVn5DQJeAHySClClTYWYsUL8Q0tcW7rBuq\n",
       "+zVMrKSY4ADhYuXqtqdNz/WncXaMEBkMOdGEYqwMLR8i2NKnCK5ctgFVZhJmhtjKVgGOC4wMZDAz\n",
       "TGccVJjqmeu6JFuEQLjK6xKxFyd8+OsmTBWHnt97B3zf77MTg7TIYAi/l2t2/UIMpYM22BYPteYJ\n",
       "2Q6Ei5XUXnTyESZWBv1OiQyGqbpuH5WxW/DIIJVReUBjzQBmxkpq4OSyDagyk1Ct2U2aQScMK9w8\n",
       "LOOwXEPK8t5YpoRwbTbaLcKuelHiB223Kg7VYB/G76vbx2Qwm8HMCB0yGOa2uCdHoEmowsVKmvs1\n",
       "TKykWgCJ4neq2nSg854NdgapVbypgZPLNiB9qQThkgRyiXGI5Mz3+9xkDtkMnaAD9NYSlao21nfp\n",
       "yRGAaIcVNdvD3Bavk0Gq+zWkTpcSGQR6V9A2j8o4LB2TQULadCBkrKS65kPcFqdru7l+D0Oo1rYL\n",
       "sB0XI9kMThEigxTByWUbkL2YEaZFSDQxDiP0ptoSB3onCpe38nBdYGywD1ND/SpN64leSQLVCzFA\n",
       "uASN4q1ZIFwVh2pbGegdb+ra9Ela2nSgt+2lqo31HXoXYoCwhIrmugkzl5bqmg8zIaE+HYEgGaQG\n",
       "Ti5bUKzYuLJXBECvEhJmVALVdkmYt34pXmzw0RgP0v7Pg36nFnR6JWg3Dso4KteQTlmYmyImRwih\n",
       "naN60IaZtUi1rQz03rNUCQnQO1aubOfhuMDoQAbTw7TIYK/92kQGicXKMGOUqMtYgG5rnub5ShGc\n",
       "XLbAXzyTQ/2YIFaB6hV0HMcl+eIEYHZiDPS+LU51hBLQewD8JcpyhFT3wypIBqmtmzC3xUknaL0I\n",
       "FVGdLtA7Vl4iOh0B6L1fbx56ZDBlAfPEyGC4IgLNdZNqqly2/xnK+5UaOLlsAdWFD/RuLV87KKFY\n",
       "tdGXtjA3SSzohDhol4jqRYFA0OzULiGqIwJ6612ptqmAEEnCsd8ncn2YIjQdAejtd8dxyerPgN57\n",
       "lrLtvSreSwRft/GRCrlf56eG6JHBENr0jd3jziCxddM8fqvHuiFmO0VwctkCii/z+Og1Q+xSIOj0\n",
       "pWn9X9vrUslRuYZr+yUAwOI0Qd/30M9Rbc0C4ZMEiq3ZXq/cUG2xAYGLGR38fv2ghELFRiZFjwwC\n",
       "Yap/lH3fY78S1ekCEfYrxQJID78vb3ra9PFcHyapdQaDDwe08X3TdASCa54aaGUgBEB58fSaIWZC\n",
       "0AHaB57Lx0n9FEE5AtA9OXYcF8tblA8r77O3joii7d0vN1BuU/Wa0en7fX4qR44MAt0vguXLNVw9\n",
       "JoOkfd8zVtKzPWwRgaLtUfxOTY5gWVZ9nnE73wfJIDU5AkXQi2iaQXnj9qyekW5TdZ8hRrmSAHQf\n",
       "bXJ1v4hS1UF/OoULE4OqTeuJnlUconNdgfBtcYq2h612U7Qd6E6oLm/RJoPdfO84LpYJd6h6Vy5p\n",
       "6uqBYKxp/+cUX+YJoltb34+TVMkgNbCHArAdF8tbdINOrxlitLVzjf/d7rCibDsQPKxO/plv+8J0\n",
       "DhmCQadbYnxYquL6wXEFiqIcocfzj5eIvooEhNivhKtnQPd5i+T3axdScnW/WNemUyaDvUZAUfR9\n",
       "2PFVFPcr0J3MLt08BEDT7xRB7yTUiCu7RVRqDrKZFM6N0ws6vWaIUW4RNrXFu1UuCbb0ge4JGmW/\n",
       "A92rOH4FZ3o4i7Fcn1K7wqBb9SxIBin6PtWrikN4wgDQfd4iZZ0uENyvJ//M368LU0MkyWA3OcJR\n",
       "uVYngxSrf70uPpoTK0/+GeWKMUXQ21kasbTpMZM7poeakiEq6DZDbL9YxeZhGQDNxR8c89AuUaDc\n",
       "3gS6V9Do294tMfZtp5kkdKvi+GSwP5PC7AQ9DVSvYdjU1023Kg5lzSLQuC3eLlaaLEdYPvY7VTLY\n",
       "bXSYJ0eg7ftQsZLomqcGTi4DoDoj0ke3GWL+wj8zOoDhbEalWaHQXLls/rOa7dQ1XHQPq87VP8pt\n",
       "KiB4Kebkn1G3vdusRZ8MLhIlg92qOAelKm4ek8FFotX6bkPgl4i+Yuaja3uTemIcxu9U10yXxPjK\n",
       "XhHlmqdNp0gGgcblx3aEkPqapwZOLgOgzky6i41pt6mantZqCTzru0VUbRcDfSmcJyhHALofVsvk\n",
       "Dyvvs11iTL0C1VWOYEhb2XVPVnL8/Xp6NIuRAXoVKKBz5bVmO1jZ8p5O5FgpHt2IrDEXH7sk9VQ7\n",
       "g0Dny48mkEFq4OQyAOrMpNut3/p8TqLBPjh1ojXg+8F+cXq4HpyoodNBu1eoYOuoAoBu0One3qR7\n",
       "gQ3oXgmhftB2e06Out+Bxp5ttX1jt4iK7WnTqZLBcLFyRKlNYVH3exdCRTXOd3tdiLocAejcFve1\n",
       "6adHsxglSgapgZPLAKhfKuk2Q4x6YmxZVqPl0BJ5lognCUBQB9X8+/6aOTc2gCGCcgSg82iTqu1g\n",
       "ZcsMKUjXNhXx/Qqc9D11OQLQOUHzbV+coUsGrQ77db9QxdYR7QpUN50x9VjZTS9K/XwFOs+mNWG/\n",
       "UgMnl8fYyVewW6jCsmi+EAN0nyFGvTULdGaFlN8o9tFJP0ddpwt0brOt7RRQc1wM9qVxdnRAh2k9\n",
       "Ee6woun75ocDmv+Muu1AZ1JiQpLQ6XUkPzk7S5gMdrotXrUdrG77UhCavu+mMzYrVjb/vgn7lRo4\n",
       "uTyGv3jOjw9isJ/We60+OrUIKzUHqzueBory4u+UKJiwcTtVcUywvZNusS5HmBkiW4HqVMXxySBA\n",
       "uALVpXJpwrrp5HsjbO9AqEywvVOcXN8poGp7ZPDcmIlyBPq+N7kAQg2cXB7DhLJ3J1a4tpOH7bgY\n",
       "zmZwejSrwbJwaFd59d5rpa8/65kYE7a90/vcJvi9k9Y1SAZz/TQrUJ0eDqjaDta2jy/EUPZ9hwqa\n",
       "CeumI6EiPgoH6Nyh8v1Omgx2qHbv5ivYztPWpgOdJ7Is1dcNTZ0uRXByeQyTxMadNFB3zgyRe681\n",
       "iHaBZ+uogv2iJ0e4Y5pu0OnEaKnr/oDOt8XNIFQ9NFCU92uHCQmr23nUHBdD/WnSZLCdzth1XSPW\n",
       "TcfKpQH7tZMcwQS/+/u1dUKCCWQQaE9mg2SQ6oQBiuDk8hhGlOw7VnFoj2TxkWpTCfH9PjsxiIE+\n",
       "mnIEoP0A+3LNxtoO7ZEsQHu/A4as+cBhFYQJSUKnV6mWAtoz0mSwzbrZzjfIIOUKVK+qqwlr3sj9\n",
       "GiRUAfN92ymvGSD4qlaQDBbqZPAMUW06RXByeYwlA0Tqnao4lwyo4gDtK6/UZ4v6aPf05up2AY4L\n",
       "jAxkMDNCtwLVrmLsyRHoV+t7XSqhbLtlWW3Hypiy5ttV//xYQ50MttuvTWSQ8Lrp1GkwYc0H2/V2\n",
       "U5ynL6UA2sfKoPSJMhmkBk4uAZSqNjZ2iwBoJ2idZohRf3HCR6rNQWtCqwdoH3SCtlMOOu2S+s3D\n",
       "Mg5LNaQsYH6K5msZQOdLJaas+Xa3T00hg+0SY+P87jZXoGzHxUiWNhlsN3KuSY5AuDXbuVpvyLpp\n",
       "o3c1xXZq4OQSwOWtPFwXGM/1YWqoX7c5HdHuUonrugG9KN2gA7S3v96mIn7QptpUEy4ZEnQah1Xj\n",
       "9/wk4cJkjnYFqs1s1CYySNz37SqvJozyAdon9tRfRfJRJ7Jt9usi8QpUuwt4m0cNMrgwRXfdBO8Z\n",
       "2W06VNTXTbvE3pT9Sg2cXMKcClS72+I3DsrIV2xkUhbmCQcdoD0rNOEiFdApMTbD9nSbBI36i04+\n",
       "2iVnPhkcG+zD9DBdMgicJCWmTEcA2mv/TFnz7W6LGyNHaCcfOk7q6ZPBk+O3SlUb6wbIEYD2kgRT\n",
       "9is1cHIJc5hJu6DjJ8ZzUzn0pWn/39maKBQqNVzZM6MC1e6gNUGnC3SqQJnRmk230c6ZMh0BODmb\n",
       "9sZBGUflGtIpC3OTtNdNu9viprQI2+lFTWgrA+0JlTFyhKaHAzz7V7bzcFxgdCBDngy27tdgZ5C6\n",
       "76mBdjaiCKYwk65iYwMWfmuS47/XOpHrwyRhOQJwMug4jmvEixNA9yqOKYlxu+qZCWu+1fe+7fOT\n",
       "OfRnaIffVjJbrNgBMkh73bS7/GjCTXGgU+XSkP0arFwe23/JkOkIwMn9evMwQAYJa9MpgnZ0UwRT\n",
       "2Hi7GWImHbStiYJJtrcGnesHJRSrnhxhbpJ20Ol265e6703W6QInE4XGSBb6trdW0Ja3PNvHTSCD\n",
       "Lfs1OB2B+ppv93SlKbY33RY3MM63xko/Ts5N5pDN0JUjUMRtn1w6jmvEu9xA+xliS4ZoFoGTIntT\n",
       "9JZAcM6l98++3xemh+jLEVoO2ny5hqv7JQAGrPkuUhDq2jng5IQHk/ZruuW1kqDfqVegWvfrtf0S\n",
       "CnVtOm0y2JZQGbVu2sdKE2xvjZWmyBEogvapqABX9ooo1xz0p1O4QLwC1W6GmCntTaBd5dKMNhVw\n",
       "ss1mlN9bEhxfjjA11I8J6hWolpEyTWTQpMPKxHVTTxJunf06b4A2vTU5M4kMAiclREZWLo99f8kQ\n",
       "nS5FCNtlpVIJjz32GO655x7cf//9ePe7342lpSVRXy8N/sK/Y3qoSYxMEa0zxA5LVdw4KAMw5KBt\n",
       "mfnXGE5Lf+O2VnGMCpgdWrMm2N46IaGJDE4MarQsHFqTY1N0usDJCppR+7VlRqcpMhDgpN8vb3lr\n",
       "ZtIAMgg0v8/tkUGflBiwbk7ESnMIFTUIpXCPP/44Xn/9dbzyyit49NFH8eEPf1jk10uBKTcIgZMz\n",
       "xPxNe2oki9GBPk1WhUdQw2U7Lpa3/HE4IzrNCoVUhyTBhFZPfRj2iSSBvu2dCMnCdA4Z4hUooFkK\n",
       "clSu4fqBORWoxn71/tmk1mzrM36mXNoETmpdTRmh5CMYK68da9P70vS16UDnWGnCuqEGYdF5YGAA\n",
       "733ve+tanIcffhgrKyuivl4aTJn3B5ycIWbKRSQfQVa4sVtApeagP5PCeQMqUK3VBJO0OK2XG5YM\n",
       "uXkKdLOdvt+BZg2Xn5zNjGQxNkifDAb3a5AMmuD7E/vVoHXTWj0zqQACNLfF69r0qSEjyGAw3hyV\n",
       "a7jmyxGm6a8basjI+uJPfepTePTRR9v+WblcRrlcbvo927ZlmdIVJlVxWmeImdSmApp1UPVbswbI\n",
       "EYDmoLNfrGLz0Fu/iyYkaK03IA1a8ydbs+YkOEBzorCyY057EGiuoF3ZLdbJ4OwE/QpUx8kUBqz5\n",
       "1tviJslYgEDV2MAZkcFY6Wu7p4ezGMvRJ4PUIIVKfPzjH8fS0hIuXrzY9s8vXryIsbGxpl8vvvii\n",
       "DFN6wqTF3zpDzLR2SVAHZZL2DGhOEvygc2Z0ACMmyBECiXHNdrCydfxahgHrphOhMqVNFaziGGd7\n",
       "QDtnHBkM+P2gVMXNYzJoQmJ/glAZGittx7y2clOnoW47/TVDEcKTy09+8pP40pe+hOeffx65XHuG\n",
       "+9RTT2F/f7/p10MPPSTalJ7YzVewna8AMKMC1TpDbMmQV1Z8BBM0k9pUQPNrJaa2qRzHxfpuERXb\n",
       "QTaTwvlx+nKEdIsUxCQyCDQfVqateaP3a93vjQLC6dGsEWQw6Pea7dQv9JhABoHm5NjkWGnamqcG\n",
       "oW3xp59+Gs8++yy+8pWvYHx8vOPPZbNZZLPZpt9Lp9UPKPWHAp8fH0SuX5pCQCjSKQu246JcdbC6\n",
       "7VWgTFn8wTabSSNZgMCbs4G3oU3xe7qN7m9xZriJrFBFKkB/dwwjg0DwsDKvpX9L7FfHvP0a9PtG\n",
       "gAyeM4AMArdIrAy+wGaI7dQgLKPa2NjAL/3SL2FxcRHvete7AHhJ5N/8zd+I+lcIx1L9oDUjYALe\n",
       "YWXDxep2ATXHRa4/jbNjA7rNCoWGDsq8dklwpIxptjduzhro90AC/P0bnu3nxgYwlDWDDPq+r9g2\n",
       "VrfNubEMtN+vpnRJUgbv13Z+X5wZNkKOADRi5W6hgq0jX45ghu9TBp9R1CAsQs/OztaH7ZoC01gV\n",
       "cFzJsYHv3TgE4NlO/bUMH35w3DosY7dQBQAsGnILr+kykmHtkmBibNJNcaB5QkJ9zRsU7P0qzspW\n",
       "AVXbI4NnRs0ggymDW4TBCpSptjf73Yz9CjRipU8GzxpEBv17ARXbwcq2WVpXaqA/G0AiTJrb5sNP\n",
       "FBrJpTlBx2qx/fz4IAb7zXiv1fd7qepgdccwOUKbixmm2B6s1gQJlSlo3a+LM0NGyBGARnK5dRQg\n",
       "g4bEm3adBlPWTX3WooG2A409a+J+9ffmylYeVdvFYF8aZw0hg9RweyeXBm7c1Ink0hzbfVZoYgXK\n",
       "DzqXt45gOy6GsxmcHs32+Fs00KydM6ta37ZyaUiCA5wkVKb4HWhUXYNk0BRtuu/3cs3Bmq9NN+xS\n",
       "ievCuEubQLszygy/AydtN4kMUoMZkUICSlUbaztmBR3gZMvBqKprq+0GHbR+0PFtv3NmyDg5wuZB\n",
       "GYflGizLnApUMK7Xfc9rXglaY42Jfr+8mUfNcTFkkByhnc7YqHVzbL6RZ5Rl7vlKDbdt5XJ1uwDH\n",
       "BUYHMpgZNqMCBTQCz2G5BsCsgO8naA3bzUhwgEYVp267UcG+2e+zE4MY6DNDjmBZVv2w8u036aBN\n",
       "n1jzBttuCCEB2uzXU+Zo04OVMp8M3jFtku9b1405az5lsO3UcNsml8Hbj6YEHaC5TZiygPkp+q9l\n",
       "+Gi97WjSxk21rBGjkgSD/Q402z+SzWBmxBwymGqJsCb53uR1c2K/GmR7usV2k7TpgOmxsvmfTVo3\n",
       "1HDbJpem3SD0EVz881NDyGYMCjoth5VJLQeTD9rWw8qkyh/QfFiZRgaD6yZlAQvT5pDB1iTB5P3K\n",
       "tqtDKxk8ZRAZPBErDfM9Jdy2yaWpM6yCi9+kNhXQbPvYYB+mhvo1WhMNJwO+Ob4/UT0zbc2ngmve\n",
       "LNuDCdrcZM4oMngrESqTYqXJVVeged0sGkYGUylzO4PUcNsnl6Zt3JTBB21zkmDOhRigOeCnUxbm\n",
       "Js05rExOEoAWQmVQUg+YnRgHbR8dyGB62Bwy2NolMcn3pu/X1C1SALkwmTNGm04Rt2Vy6TQ97WTY\n",
       "4g8eVoZVoIK5pHEV44Df56dy6M+Ys3VMb/UEEwXTWvpB35vm99b9ahIZDO7XdMrC/JQ5cb518o1p\n",
       "6yboe6NtNyzWUIM5J6RAXDsooVi10Ze2MDdpVtm7mRWatfjTBtseDPim2R5MCiZyfZg0SI4AtPje\n",
       "sMPKMnjN3yr7dX7SLDJoWVZTYm9aAeRWiZWmxRpqMGfHCYT/Ms/C1BAyrdfDiCNlcNAxuUVodFJv\n",
       "sN+Bhv2ZlHlkMBhejG7pG3bQBvfroolr/tj+cSPJoLnxpmm/Gna+UoNZmZUgmKq3BBoBf3q4H+M5\n",
       "w4KOwYdVq17UJJhcgQIah9X8VA59hpFBkxN7s5MEc3W6QCNW3jljlhwBaCaDpl2IMT1WUoJZkVoQ\n",
       "Gk9qGRh0rEbQMQ3+xu1Pp3BhYlCzNdFgso4oeFvcNNuBhu9NtN3fryaSQaPXfFDranCsNNL2lLlk\n",
       "0OQLs9Rg1v/zgmDqGCKgsXFNq/wBDdsXpnMGyhHMbbMZX8UxmVAd+960NQM0Dtq+tGU0GTQ5VvJ+\n",
       "VQs/qZ8a6seEYXIEajDrhBeES5v+TXEDF3/K3I1rdNA59vvMSBZjg32arYkG01s9Jq/5tMlr/th2\n",
       "E7XpJssRgIa23kTbTS6ApAyONdRgVsQQgP1iFZuHZQBmVhPOjg0AAN4yN67XkBho2D6h2ZLoOGOw\n",
       "30cH+5DrT2NmJIvZCbM0UIDne8sCHjDQ92fHzV03Ju/X6eEsMikLd84MGUcGAeDs2CD60ym88fyY\n",
       "blMi44zB6+bc8X598/y4XkNuAViu67q6jQCAf/fv/h2efvpp6f+ecs3GS2t7WN8p4CffekH6v080\n",
       "DktVXN7K402z47pNiYya7eCVjX28aXbMOC2O67r4zpUDzE3ljDysVrby6MukcH7crPYmAOzmK7i2\n",
       "X8Ibzo3qNiUyyjUb37lygAcujJ8Yjk0druvilY193H1qGEPZjG5zImPp5iFGB/pwanRAtymRcfOw\n",
       "hP1CFXefHtFtSmQUKzZevX6AN18YN+4ykuO4eHljD284O8oD1BPitksuGQwGg8FgMBjyYFb5iMFg\n",
       "MBgMBoNBGpxcMhgMBoPBYDCEgZNLBoPBYDAYDIYwcHLJYDAYDAaDwRAGTi4ZDAaDwWAwGMLAySWD\n",
       "wWAwGAwGQxg4uWQwGAwGg8FgCAMnlwwGg8FgMBgMYeDkksFgMBgMBoMhDJxcMhgMBoPBYDCEgZNL\n",
       "BoPBYDAYDIYwkHlb/H3vex8WFhaU/Lts28aLL76Ihx56COk0P04fBey7eGC/xQf7Lj7Yd/HBvosH\n",
       "9lt8mOK7+fl5/OIv/mLXnyGTXKrEwcEBxsbGsL+/j9HRUd3mGAX2XTyw3+KDfRcf7Lv4YN/FA/st\n",
       "Pm4l33FbnMFgMBgMBoMhDJxcMhgMBoPBYDCEgZNLBoPBYDAYDIYw3JbJZTabxa/92q8hm83qNsU4\n",
       "sO/igf0WH+y7+GDfxQf7Lh7Yb/FxK/nutrzQw2AwGAwGg8GQg9uycslgMBgMBoPBkANOLhkMBoPB\n",
       "YDAYwsDJJYPBYDAYDAZDGG675PL73/8+fuiHfgj33HMP3va2t+G73/2ubpPIolQq4bHHHsM999yD\n",
       "+++/H+9+97uxtLQEAPiRH/kR3HHHHXjggQfwwAMP4Dd/8zc1W0sLCwsLuPfee+v++eIXvwiA118v\n",
       "bG9v1332wAMP4J577kEmk8HOzg6vuTZ48sknsbCwAMuy8PLLL9d/v9s64zXY3m/d4h3AMc9HpzXX\n",
       "KeYBvOZ8tPNdt5gHGLzu3NsM73rXu9zPf/7zruu67h/+4R+6b33rW/UaRBjFYtH9H//jf7iO47iu\n",
       "67qf/vSn3Xe+852u67ruO9/5TveP/uiP9BlHHPPz8+5LL7104vd5/UXDJz7xCffHf/zHXdflNdcO\n",
       "f/mXf+mur6+fWG/d1hmvwfZ+6xbvXJfXn49Oa65TzHNdXnM+OvkuiGDMc11z191tVbm8efMmvvnN\n",
       "b+KDH/wgAOAnfuInsL6+3sROGQ0MDAzgve99LyzLAgA8/PDDWFlZ0WuUweD1Fx2f+9zn8KEPfUi3\n",
       "GWTxyCOPYHZ2tun3uq0zXoMe2vmN4104tPNdN/CaayCM726VmHdbJZfr6+s4e/YsMpkMAMCyLMzN\n",
       "zWFtbU2zZWbgU5/6FB599NH6P3/0ox/Ffffdh5/+6Z/G8vKyRsto4md+5mdw33334UMf+hA2Nzd5\n",
       "/UXEX/3VX2F3dxc//uM/Xv89XnO90W2d8RoMj9Z4B/D664XWmAfwuRsF7WIeYOa6u62SS0Z8fPzj\n",
       "H8fS0hIuXrwIAPj93/99vPbaa/j2t7+NH/7hHz6xGW53/K//9b/w7W9/G9/61rcwPT2Nn/3Zn9Vt\n",
       "knH43Oc+h5/5mZ+pH0q85hiq0BrvAF5/vcAxLzlaYx5g8LrT3ZdXiRs3brgjIyNutVp1Xdd1Hcdx\n",
       "T58+7X7/+9/XbBltfOITn3AffPBBd3d3t+PPZLNZd2trS51RBuHq1avu8PAwr78IODw8dIeHh91X\n",
       "X32148/wmmsgqOHqts54DTajnfYtTLxzXV5/3XSDfsxzXT5326Gd78LEPNc1Z93dVpXLU6dO4S1v\n",
       "eQu+8IUvAACee+45zM7O4q677tJsGV08/fTTePbZZ/HlL38Z4+PjAIBarYYbN27Uf+a5557D6dOn\n",
       "MTU1pclKWsjn89jb26v/87PPPos3v/nNvP4i4Itf/CLuv/9+/MAP/AAAXnNR0G2d8RrsjnbxDuD1\n",
       "1wudYh7A525YtMY8wPB1pzu7VY3XXnvNffjhh927777bffDBB91vf/vbuk0ii/X1dReAu7i46N5/\n",
       "//3u/fff7z700EPu0dGR++CDD7pvfOMb3Te96U3uP/pH/8h9+eWXdZtLBpcuXXIfeOAB97777nPf\n",
       "+MY3uv/sn/0z9/Lly67r8voLi3/wD/6B+1//63+t/zOvufZ4/PHH3fPnz7vpdNo9deqUe+edd7qu\n",
       "232d8Rps77dO8c51ef0F0c533WKe6/Ka89Fpv7ruyZjnumavO35bnMFgMBgMBoMhDLdVW5zBYDAY\n",
       "DAaDIRecXDIYDAaDwWAwhIGTSwaDwWAwGAyGMHByyWAwGAwGg8EQBk4uGQwGg8FgMBjCwMklg8Fg\n",
       "MBgMBkMYOLlkMBgMBoPBYAgDJ5cMBoPBYDAYDGHg5JLBYDAYDAaDIQycXDIYDAaDwWAwhIGTSwaD\n",
       "wWAwGAyGMPz/IJ+KzX541WwAAAAASUVORK5CYII=\n",
       "\">\n",
       "      </div>\n",
       "      <script type=\"text/javascript\">\n",
       "        (() => {\n",
       "          const chartElement = document.getElementById(\"chart-fec44ad5-28b1-44a3-8796-439d4151457f\");\n",
       "          async function getCodeForChartHandler(event) {\n",
       "            const chartCodeResponse =  await google.colab.kernel.invokeFunction(\n",
       "                'getCodeForChart', [\"chart-fec44ad5-28b1-44a3-8796-439d4151457f\"], {});\n",
       "            const responseJson = chartCodeResponse.data['application/json'];\n",
       "            await google.colab.notebook.addCell(responseJson.code, 'code');\n",
       "          }\n",
       "          chartElement.onclick = getCodeForChartHandler;\n",
       "        })();\n",
       "      </script>\n",
       "      <style>\n",
       "        .colab-quickchart-chart-with-code  {\n",
       "            display: block;\n",
       "            float: left;\n",
       "            border: 1px solid transparent;\n",
       "        }\n",
       "\n",
       "        .colab-quickchart-chart-with-code:hover {\n",
       "            cursor: pointer;\n",
       "            border: 1px solid #aaa;\n",
       "        }\n",
       "      </style>"
      ],
      "text/plain": [
       "from matplotlib import pyplot as plt\n",
       "df_grid_search['epoch'].plot(kind='line', figsize=(8, 4), title='epoch')\n",
       "plt.gca().spines[['top', 'right']].set_visible(False)"
      ]
     },
     "metadata": {},
     "output_type": "display_data"
    },
    {
     "data": {
      "text/html": [
       "      <div class=\"colab-quickchart-chart-with-code\" id=\"chart-1980e9dc-8237-425f-bb0c-4405c4d3f42a\">\n",
       "        <img style=\"width: 180px;\" src=\"data:image/png;base64,iVBORw0KGgoAAAANSUhEUgAAAqIAAAFuCAYAAABaw3qhAAAAOnRFWHRTb2Z0d2FyZQBNYXRwbG90\n",
       "bGliIHZlcnNpb24zLjEwLjAsIGh0dHBzOi8vbWF0cGxvdGxpYi5vcmcvlHJYcgAAAAlwSFlzAAAP\n",
       "YQAAD2EBqD+naQAAKHRJREFUeJzt3XFw1OWB//HPsokpFAggBILJJkCyoqJJtiTDRT17WmZyvRY8\n",
       "MlV6TX8Takgsda6dTAeklemh1mTurnQ455BYbdpOKNojwC/H1bmq/LBxSiekCvViLUnKsgsGgq0l\n",
       "YOmyu/n+/iC7YSXB2xJ4Njzv18zO4Hef7+6zX5dnPzzP830el+M4jgAAAIBrbILpCgAAAMBOBFEA\n",
       "AAAYQRAFAACAEQRRAAAAGEEQBQAAgBEEUQAAABhBEAUAAIARBFEAAAAYQRAFAACAEQRRAEhSJBKR\n",
       "y+XSvn37TFcFAMY1gigAXKd+8IMfKCcnx3Q1AGBUBFEAGEPRaFSDg4OmqwEA4wJBFAA+Qn9/v1as\n",
       "WKFp06Zp/vz5evHFF+PP7du3Ty6XSy+88IK8Xq8mTZqk/v5+HT9+XA888IBmz56t2bNn68EHH9S7\n",
       "774bP6+6uloPPPCAampqNG3aNHk8Hv3zP/9zwvvu379fd999t6ZPn6558+bp0UcfVSgUij/vcrn0\n",
       "yiuvxP/b7/fL5XKpp6dH7e3tevjhh/Xuu+9q8uTJmjx5srZt23YVrxIAJI8gCgAfoaqqSn/605/0\n",
       "u9/9Tp2dndq+ffslZV588UXt379fAwMDmjVrlj7zmc/I7Xbr8OHD+u1vfyvHcbRs2TJFo9H4Obt2\n",
       "7VJpaalOnTqln/zkJ2psbIyHxUAgoE996lOqrKzUyZMn9bOf/Uz/+Z//qXXr1v2v6nz33Xdr69at\n",
       "mjt3rs6ePauzZ8/qC1/4wthcEAAYIwRRALiM48eP6+WXX9a//Mu/aMaMGZoxY4YaGhouKdfY2Kgb\n",
       "b7xRGRkZ6ujo0KFDh7RlyxZlZmZq2rRpeuaZZ/TGG2/owIED8XPuuOMO1dXVKT09XUuWLNHq1av1\n",
       "/e9/X5K0bds2eb1efe1rX9MNN9ygwsJCPfnkk3r22WflOM41+/wAcDURRAHgMo4dOyZJmjdvXvzY\n",
       "xX8e6VgwGNSMGTM0ffr0+LEbb7xR06dPVyAQGPV15s2bp2AwGH+NBQsWJDxfUFCgc+fO6dSpU1fw\n",
       "iQAgdRBEAeAyYned+/3++LGL/xwzYcJwc5qbm6v3339f77//fvzYH/7wB73//vvyeDyjvo7f74+/\n",
       "X25urn73u98lPN/b26uJEydq1qxZkqTJkyfrgw8+iD9/8RzUD9cJAFIRrRQAXMZNN92k++67T2vX\n",
       "ro2Hy2984xuXPaesrEyLFi3SI488ooGBAZ0+fVpf+cpXVFxcrNLS0ni5Q4cO6bnnnlMkElFHR4e+\n",
       "973vadWqVZKkf/iHf9Bvf/tbPf300zp//rx6e3u1YcMG1dTUyOVySZIWL16sH/zgB/rzn/+skydP\n",
       "auPGjQn1mDNnjt577z39/ve/H+OrAgBjgyAKAB+hpaVFN9xwg/Lz8+Xz+fTggw9etrzb7daePXsU\n",
       "CoVUUFCgwsJCRSIRtbW1ye12x8v9/d//vX75y19q5syZqqys1Ne//nVVVVVJkvLy8vSzn/1ML774\n",
       "orKysnTvvffqb//2bxPurP/3f/93nThxQjNnztTSpUv1xS9+MaEe9957r5YvXy6v16tp06bpxz/+\n",
       "8RheFQC4ci6HWe8AcM1VV1crEomopaXFdFUAwBh6RAEAAGAEQRQAAABGMDQPAAAAI+gRBQAAgBEE\n",
       "UQAAABhBEAUAAIARBFEAAAAYMe6C6ObNm01XAQAAAGNg3AXRo0ePmq4CAAAAxsC4C6IAAAC4PhBE\n",
       "AQAAYARBFAAAAEYQRAEAAGAEQRQAAABGEEQBAABgBEEUAAAARhBEAQAAYETSQbS7u1vl5eXyer0q\n",
       "LS1VV1fXJWX27duniRMnqri4OP44d+5c/Pnnn39ehYWFWrBggVavXq1wOHxlnwIAAADjTtJBtK6u\n",
       "TrW1tTp8+LDWrVun6urqEcvdfPPNOnjwYPwxceJESdKRI0e0YcMGtbe3q6enRydPntSzzz57RR8C\n",
       "AAAA409SQbS/v1+dnZ2qqqqSJFVWVioYDKqnp+d//Ro7duzQsmXLNGfOHLlcLj388MPavn17crUG\n",
       "AADAuJeWTOFgMKjs7GylpV04zeVyyePxKBAIqKCgIKFsb2+vfD6f3G63Vq1apTVr1kiSAoGA8vLy\n",
       "4uXy8/MVCARGfL9QKKRQKJRwLBqNJlNlABgXooOOvrHzLfWeOmu6KgCuU/VLvSovmGm6GgmSCqL/\n",
       "Wz6fT8eOHVNmZqaOHTumT3/605o5c6YeeOCBpF6noaFBGzduTDi2ZMmSsawqAKSE3/QN6MXOoOlq\n",
       "ALiOvf+n1LsnJ6kgmpubq76+PkUiEaWlpclxHAUCAXk8noRyU6dOjf85JydHn//859Xe3q4HHnhA\n",
       "Ho9Hvb298ef9fv8l58esX79e9fX1Ccc2bNiQTJUBYFwIRQYlSTMnZ+jJ+28zXBsA16Oi3Gmmq3CJ\n",
       "pIJoVlaWfD6fWlpaVF1drdbWVuXk5FwyLN/X16fZs2drwoQJOnPmjPbs2aOHHnpI0oV5pXfddZf+\n",
       "6Z/+SbNnz9bWrVu1cuXKEd8vIyNDGRkZCcfcbncyVQaAcSE66EiSpk5MU8WibMO1AYBrI+m75pua\n",
       "mtTU1CSv16vGxkY1NzdLkmpqatTW1iZJam1t1e23366ioiItWbJES5cu1apVqyRJ8+fP18aNG3Xn\n",
       "nXeqoKBAs2bNUl1d3Rh+JAAYfyLRCz2i6RNY3hmAPVyO4zimK5GM+vp6bdq0yXQ1AGBM/fzwKf2f\n",
       "73fo1uyp+ulX7zZdHQC4JvinNwCkgNjQfJrbZbgmAHDtEEQBIAWEh4bm0yYQRAHYgyAKACkg3iPK\n",
       "HFEAFqHFA4AUEBkKom56RAFYhCAKACkgMjg0NM8cUQAWIYgCQAqIRGND8wRRAPYgiAJACojGh+Zp\n",
       "lgHYgxYPAFJAeCiIpjM0D8AiBFEASAHRoeWbuFkJgE0IogCQAiKDzBEFYB+CKACkgHgQddMsA7AH\n",
       "LR4ApIAoPaIALEQQBYAUEFu+iTmiAGxCEAWAFBBb0D6doXkAFqHFA4AUwBafAGxEEAWAFMAcUQA2\n",
       "IogCQAoIR9lrHoB9CKIAkALY4hOAjWjxACAFsKA9ABsRRAEgBUQYmgdgIYIoAKQAekQB2IggCgAp\n",
       "gDmiAGxEiwcAKSC2s1I6Q/MALEIQBYAUENtZiQXtAdiEIAoAKYAF7QHYiCAKACkgHI0FUZplAPag\n",
       "xQOAFBDvEWWOKACLEEQBIAUwRxSAjQiiAJACIgzNA7AQLR4ApAAWtAdgI4IoAKSA+IL2zBEFYBGC\n",
       "KACkgPDQXvPpDM0DsAgtHgCkgOEtPukRBWAPgigApACWbwJgI4IoAKSA8NDyTdysBMAmBFEASAFR\n",
       "lm8CYCFaPABIARHmiAKwEEEUAFJALIimM0cUgEWSDqLd3d0qLy+X1+tVaWmpurq6Ri3rOI7uvfde\n",
       "TZs2LX7M7/fL7XaruLg4/ujt7f2LKg8A14tIlC0+AdgnLdkT6urqVFtbq+rqau3YsUPV1dU6cODA\n",
       "iGW/+93vasGCBXrjjTcSjk+ZMkUHDx78iyoMANej+F3zzBEFYJGkWrz+/n51dnaqqqpKklRZWalg\n",
       "MKienp5LynZ1dWn37t169NFHx6amAHAdC7N8EwALJRVEg8GgsrOzlZZ2oSPV5XLJ4/EoEAgklAuH\n",
       "w1q9erWamprkdrsveZ0PPvhApaWl8vl8evzxxxWNRkd8v1AopIGBgYTHaGUBYDyLstc8AAtdlTGg\n",
       "jRs3asWKFbrlllsueS47O1vHjx/XgQMH9Morr6i9vV3f+c53RnydhoYGZWZmJjw6OjquRpUBwBjH\n",
       "cdhZCYCVkgqiubm56uvrUyQSkXSh8QwEAvJ4PAnlXnvtNT399NPKz8/XXXfdpYGBAeXn5+vUqVPK\n",
       "yMhQVlaWJGnGjBn60pe+pPb29hHfb/369Tp9+nTCo6ys7C/5nACQsmJ3zEtSmps5ogDskdTNSllZ\n",
       "WfL5fGppaVF1dbVaW1uVk5OjgoKChHIXB0u/36/i4mL5/X5JF+aZTp8+Xenp6QqFQtq5c6dKSkpG\n",
       "fL+MjAxlZGQkHBtpqB8AxrPoxUGUHlEAFkn6n95NTU1qamqS1+tVY2OjmpubJUk1NTVqa2v7yPNf\n",
       "f/11lZSUqKioSD6fT3PmzNE3v/nN5GsOANeJi3tEGZoHYBOX4zjORxdLHfX19dq0aZPpagDAmPnj\n",
       "n86r+PGXJUm9T32aMArAGkxGAgDDLu4RJYMCsAlBFAAMu3jpJpeLJArAHgRRADAsPLS9J4vZA7AN\n",
       "QRQADGN7TwC2otUDAMMiLGYPwFIEUQAwLBK9EETTGZoHYBmCKAAYFhm8MEeUHlEAtiGIAoBhzBEF\n",
       "YCtaPQAwLDw0NM9d8wBsQxAFAMOi3KwEwFIEUQAwLDZHNI0gCsAyBFEAMCx21zxzRAHYhlYPAAyL\n",
       "36zEHFEAliGIAoBhLGgPwFYEUQAwLDK013w6Q/MALEOrBwCG0SMKwFYEUQAwjDmiAGxFEAUAw8JR\n",
       "lm8CYCeCKAAYNrygPU0yALvQ6gGAYZH4XvP0iAKwC0EUAAyL3TXPHFEAtiGIAoBh9IgCsBVBFAAM\n",
       "Y44oAFvR6gGAYbEe0XSG5gFYhiAKAIZFoixoD8BOBFEAMCw6yDqiAOxEEAUAw8LxnZVokgHYhVYP\n",
       "AAyLctc8AEsRRAHAMOaIArAVQRQADIvE5ogyNA/AMrR6AGAYC9oDsBVBFAAMizI0D8BSBFEAMCw8\n",
       "NDTPgvYAbEMQBQDD2OITgK1o9QDAMOaIArAVQRQADItEY3fNE0QB2IUgCgCGsaA9AFsRRAHAsAhz\n",
       "RAFYKulWr7u7W+Xl5fJ6vSotLVVXV9eoZR3H0b333qtp06YlHN+zZ48WLlyowsJCrVixQgMDA0lX\n",
       "HACuF7GdlegRBWCbpINoXV2damtrdfjwYa1bt07V1dWjlv3ud7+rBQsWJBw7e/asHnroIe3evVvd\n",
       "3d2aO3eunnjiiaQrDgDXi+GdlQiiAOySVBDt7+9XZ2enqqqqJEmVlZUKBoPq6em5pGxXV5d2796t\n",
       "Rx99NOH4Sy+9pJKSEi1cuFCStGbNGm3fvv0vrT8AjHvMEQVgq7RkCgeDQWVnZyst7cJpLpdLHo9H\n",
       "gUBABQUF8XLhcFirV6/W888/L7fbnfAagUBAeXl58f/Oz89XX1+fIpFI/HVjQqGQQqFQwrFoNJpM\n",
       "lQEg5YWjzBEFYKer0upt3LhRK1as0C233HJFr9PQ0KDMzMyER0dHxxjVEgBSQ7xHlKF5AJZJKojm\n",
       "5ubGey+lCzcjBQIBeTyehHKvvfaann76aeXn5+uuu+7SwMCA8vPzderUKXk8Hh09ejRe1u/3J/Sy\n",
       "Xmz9+vU6ffp0wqOsrOwv+ZwAkLJY0B6ArZIKollZWfL5fGppaZEktba2KicnJ2FYXpLa29t19OhR\n",
       "+f1+vf7665o6dar8fr9mzZqliooKvfHGG3rnnXckSVu2bNHKlStHfL+MjAxNnTo14fHhoX4AGO9i\n",
       "C9q7CaIALJP00HxTU5Oamprk9XrV2Nio5uZmSVJNTY3a2to+8vwpU6boueee0/3336+CggIdO3ZM\n",
       "GzZsSL7mAHCdiA3Np7uZIwrALkndrCRJN998s/bv33/J8eeee27E8vn5+frjH/+YcGzZsmVatmxZ\n",
       "sm8NANel4QXt6REFYBf++Q0AhsX3mieIArAMQRQADBu+WYkmGYBdaPUAwDCWbwJgK4IoABgW5q55\n",
       "AJYiiAKAYfG75hmaB2AZWj0AMCx+1zxD8wAsQxAFAMPYWQmArQiiAGCQ4zjDNysRRAFYhiAKAAbF\n",
       "QqjE8k0A7EOrBwAGRS4KoswRBWAbgigAGBRJ6BEliAKwC0EUAAyKRgmiAOxFEAUAg8KDg/E/s6A9\n",
       "ANsQRAHAoIvvmHe5CKIA7EIQBQCD4ovZ0xsKwEIEUQAwKDK0zzzzQwHYiCAKAAbFd1Vy0xwDsA8t\n",
       "HwAYxK5KAGxGEAUAg8JDQ/PMEQVgI4IoABgU6xFNZ2gegIVo+QDAIO6aB2AzgigAGBSJMkcUgL0I\n",
       "ogBgUGRoZ6U0N0EUgH0IogBgUDQ+NE9zDMA+tHwAYBBD8wBsRhAFAIOGF7QniAKwD0EUAAyKDrLF\n",
       "JwB7EUQBwKBwlOWbANiLIAoABrGgPQCb0fIBgEEsaA/AZgRRADAoEmWOKAB7EUQBwKD4XfOsIwrA\n",
       "QrR8AGBQfEF7lm8CYCGCKAAYFGZoHoDFCKIAYFCUoXkAFqPlAwCDhueI0iMKwD4EUQAwKLbXPHNE\n",
       "Adgo6SDa3d2t8vJyeb1elZaWqqur65Iy+/fvV3FxsYqLi3Xbbbeprq5OoVBIkrRv3z5NnDgx/nxx\n",
       "cbHOnTt35Z8EAMah2Baf6fSIArBQ0kG0rq5OtbW1Onz4sNatW6fq6upLyhQVFenAgQM6ePCg3nrr\n",
       "LfX392vLli3x52+++WYdPHgw/pg4ceIVfQgAGK+GF7RngAqAfZJq+fr7+9XZ2amqqipJUmVlpYLB\n",
       "oHp6ehLKTZo0Senp6ZKk8+fP69y5c3K5+Nc+AHxYfI4oQ/MALJRUEA0Gg8rOzlZaWpokyeVyyePx\n",
       "KBAIXFLW7/erqKhIM2fOVGZmptasWRN/rre3Vz6fT6WlpQk9pR8WCoU0MDCQ8IhGo8lUGQBSWmyO\n",
       "KDcrAbDRVRsLys/P16FDh3TixAmFQiHt3LlTkuTz+XTs2DG98cYb2rVrl7Zu3aqf/OQnI75GQ0OD\n",
       "MjMzEx4dHR1Xq8oAcM3F5ogSRAHYKKkgmpubq76+PkUiEUmS4zgKBALyeDyjnjN58mStXLlS27Zt\n",
       "kyRNnTpVmZmZkqScnBx9/vOfV3t7+4jnrl+/XqdPn054lJWVJVNlAEhpYeaIArBYUi1fVlaWfD6f\n",
       "WlpaJEmtra3KyclRQUFBQrmenh6Fw2FJF+aI7tq1S3fccYckqa+vT4NDPQBnzpzRnj17VFJSMuL7\n",
       "ZWRkaOrUqQkPt9ud3CcEgBQWjTJHFIC9kv4neFNTk5qamuT1etXY2Kjm5mZJUk1Njdra2iRJe/fu\n",
       "VUlJiYqKilRSUqLZs2drw4YNki6E19tvv11FRUVasmSJli5dqlWrVo3hRwKA8YMF7QHYzOU4jmO6\n",
       "Esmor6/Xpk2bTFcDAMbEV194U//34Lt67O9uUc3d801XBwCuKSYlAYBBsR7RdDfNMQD70PIBgEGx\n",
       "OaJuhuYBWIggCgAGRVi+CYDFCKIAYNDwzko0xwDsQ8sHAAZFuWsegMUIogBgUDh6YWieOaIAbEQQ\n",
       "BQCDovG75gmiAOxDEAUAgyJs8QnAYrR8AGBQJMocUQD2IogCgEHDd80TRAHYhyAKAAZFB7lZCYC9\n",
       "CKIAYNDw0DzNMQD70PIBgEEMzQOwGUEUAAxiQXsANiOIAoBBLGgPwGYEUQAwaHhBe5pjAPah5QMA\n",
       "g4YXtKdHFIB9CKIAYFBkaGieOaIAbEQQBQCDhu+apzkGYB9aPgAwiLvmAdiMIAoAhjiOwxxRAFYj\n",
       "iAKAIbHeUElKZ2clABai5QMAQyIXBVE3OysBsBBBFAAMuTiIMkcUgI0IogBgSDRKEAVgN4IoABgS\n",
       "GRyM/5mblQDYiCAKAIZcfMe8y0UQBWAfgigAGBJhDVEAliOIAoAhsTmiBFEAtiKIAoAh4aE5oswP\n",
       "BWArgigAGBJb0D6dfeYBWIrWDwAMiUTZ3hOA3QiiAGBIbPkm5ogCsBVBFAAMid81z9A8AEvR+gGA\n",
       "IVGWbwJgOYIoABgSjnLXPAC7EUQBwJAoQ/MALEfrBwCGsLMSANslHUS7u7tVXl4ur9er0tJSdXV1\n",
       "XVJm//79Ki4uVnFxsW677TbV1dUpFArFn3/++edVWFioBQsWaPXq1QqHw1f2KQBgHGL5JgC2SzqI\n",
       "1tXVqba2VocPH9a6detUXV19SZmioiIdOHBABw8e1FtvvaX+/n5t2bJFknTkyBFt2LBB7e3t6unp\n",
       "0cmTJ/Xss89e8QcBgPEmOrR8U7qbIArATkkF0f7+fnV2dqqqqkqSVFlZqWAwqJ6enoRykyZNUnp6\n",
       "uiTp/PnzOnfunFyuCw3tjh07tGzZMs2ZM0cul0sPP/ywtm/fPhafBQDGldjQPD2iAGyVVBANBoPK\n",
       "zs5WWlqaJMnlcsnj8SgQCFxS1u/3q6ioSDNnzlRmZqbWrFkjSQoEAsrLy4uXy8/PH/F8SQqFQhoY\n",
       "GEh4RKPRZKoMACkrNjSfNoHp+gDsdNVav/z8fB06dEgnTpxQKBTSzp07k36NhoYGZWZmJjw6Ojqu\n",
       "Qm0B4NobXtCeHlEAdkoqiObm5qqvr0+RSESS5DiOAoGAPB7PqOdMnjxZK1eu1LZt2yRJHo9HR48e\n",
       "jT/v9/tHPX/9+vU6ffp0wqOsrCyZKgNAyoqyxScAyyUVRLOysuTz+dTS0iJJam1tVU5OjgoKChLK\n",
       "9fT0xO+EP3/+vHbt2qU77rhD0oV5pW1tbTpx4oQcx9HWrVu1cuXKEd8vIyNDU6dOTXi43e6kPyQA\n",
       "pKIwd80DsFzSQ/NNTU1qamqS1+tVY2OjmpubJUk1NTVqa2uTJO3du1clJSUqKipSSUmJZs+erQ0b\n",
       "NkiS5s+fr40bN+rOO+9UQUGBZs2apbq6ujH8SAAwPrCgPQDbuRzHcUxXIhn19fXatGmT6WoAwBV7\n",
       "/vUjemLP21pePFebV5aYrg4AXHP8MxwADImw1zwAyxFEAcAQtvgEYDuCKAAYwhxRALaj9QMAQ2JD\n",
       "8/SIArAVQRQADGGLTwC2I4gCgCGxofl0huYBWIrWDwAMYUF7ALYjiAKAIWzxCcB2BFEAMGR4+Saa\n",
       "YgB2ovUDAEMi0djyTfSIArATQRQADOGueQC2I4gCgCHMEQVgO4IoABgSZotPAJYjiAKAIdHY8k2s\n",
       "IwrAUrR+AGBIbI5oOj2iACxFEAUAQyJDc0S5WQmArQiiAGBIbItPlm8CYCuCKAAYEl9HlAXtAViK\n",
       "1g8ADImwfBMAyxFEAcAQFrQHYDuCKAAYEpsjms7yTQAsResHAIaEo/SIArAbQRQADGGLTwC2I4gC\n",
       "gCGR+PJNNMUA7ETrBwCGRBiaB2A5gigAGBJf0J4gCsBSBFEAMCS+jig7KwGwFEEUAAxhZyUAtqP1\n",
       "AwBDWNAegO0IogBgyPCC9gRRAHYiiAKAIeHohTmi9IgCsBVBFAAMGb5rnqYYgJ1o/QDAAMdxLlrQ\n",
       "nh5RAHYiiAKAAbHeUIl1RAHYiyAKAAZELgqizBEFYCuCKAAYcHGPaDp7zQOwFK0fABgQW8xeokcU\n",
       "gL0IogBgQGx7T4k5ogDslXQQ7e7uVnl5ubxer0pLS9XV1XVJmb1796qsrEy33nqrbrvtNq1du1aD\n",
       "Q42u3++X2+1WcXFx/NHb23vlnwQAxpHoRbsquVwEUQB2SjqI1tXVqba2VocPH9a6detUXV19SZnp\n",
       "06frhRde0Ntvv61f/epX+sUvfqEf/ehH8eenTJmigwcPxh8LFiy4og8BAONNmO09ASC5INrf36/O\n",
       "zk5VVVVJkiorKxUMBtXT05NQrqSkRPPnz5ckfexjH1NxcbH8fv/Y1BgArgPRaGwxe4IoAHslFUSD\n",
       "waCys7OVlpYmSXK5XPJ4PAoEAqOec+LECe3YsUOf+cxn4sc++OADlZaWyufz6fHHH1c0Gh3x3FAo\n",
       "pIGBgYTHaGUBYDyJzREliAKw2VW9WWlgYECf/exntXbtWi1evFiSlJ2drePHj+vAgQN65ZVX1N7e\n",
       "ru985zsjnt/Q0KDMzMyER0dHx9WsMgBcE8O7KnHPKAB7JdUC5ubmqq+vT5FIRNKFLeoCgYA8Hs8l\n",
       "Zc+cOaOKigotX75c9fX18eMZGRnKysqSJM2YMUNf+tKX1N7ePuL7rV+/XqdPn054lJWVJVNlAEhJ\n",
       "seWbmCMKwGZJBdGsrCz5fD61tLRIklpbW5WTk6OCgoKEcmfPnlVFRYUqKir02GOPJTzX39+vcDgs\n",
       "6cLQ+86dO1VSUjLi+2VkZGjq1KkJD7fbnUyVASAlxe6aTyeIArBY0mNCTU1NampqktfrVWNjo5qb\n",
       "myVJNTU1amtrkyRt3rxZHR0d2rlzZ3yJpm9/+9uSpNdff10lJSUqKiqSz+fTnDlz9M1vfnMMPxIA\n",
       "pL7w0BxRt5sgCsBeLsdxnI8uljrq6+u1adMm09UAgCtywP8HfW7rfs2b+XH9v69/0nR1AMAIZskD\n",
       "gAERlm8CAIIoAJgQW76Jm5UA2IwgCgAGDC/fRBAFYC+CKAAYMLyzEs0wAHvRAgKAAeysBAAEUQAw\n",
       "IjY0zxxRADYjiAKAAfEF7dniE4DFaAEBwIAwW3wCAEEUAEyIMkcUAAiiAGACyzcBAEEUAIyIsHwT\n",
       "ABBEAcAE7poHAIIoABgRnyPK0DwAixFEAcCAcHxoniAKwF4EUQAwIBofmqcZBmAvWkAAMCASX9Ce\n",
       "HlEA9iKIAoABkeiFOaLcrATAZgRRADAgNjTPHFEANiOIAoABwwva0wwDsBctIAAYEBuap0cUgM0I\n",
       "ogBgAAvaAwBBFACMiMbvmqcZBmAvWkAAMCC2oD09ogBsRhAFAAPiW3wSRAFYjCAKAAZEWL4JAAii\n",
       "AGBCJDY0zxxRABajBQQAA+gRBQCCKAAYwRxRACCIAoARwzsrEUQB2IsgCgAGxOeITqAZBmAvWkAA\n",
       "MCC+oD1D8wAsRhAFAAPCQ3NEWdAegM0IogBgQJQ5ogBAEAUAE2JzRNOYIwrAYrSAAGBAhOWbAIAg\n",
       "CgAmxJZvYo4oAJsRRAHAgOE5ojTDAOyVdAvY3d2t8vJyeb1elZaWqqur65Iye/fuVVlZmW699Vbd\n",
       "dtttWrt2rQaHhqEkac+ePVq4cKEKCwu1YsUKDQwMXNmnAIBxZniOKD2iAOyVdBCtq6tTbW2tDh8+\n",
       "rHXr1qm6uvqSMtOnT9cLL7ygt99+W7/61a/0i1/8Qj/60Y8kSWfPntVDDz2k3bt3q7u7W3PnztUT\n",
       "TzxxxR8EAMaTCMs3AUByQbS/v1+dnZ2qqqqSJFVWVioYDKqnpyehXElJiebPny9J+tjHPqbi4mL5\n",
       "/X5J0ksvvaSSkhItXLhQkrRmzRpt3779Sj8HAIwr8QXtGZoHYLG0ZAoHg0FlZ2crLe3CaS6XSx6P\n",
       "R4FAQAUFBSOec+LECe3YsUN79uyRJAUCAeXl5cWfz8/PV19fnyKRSPx1Y0KhkEKhUMKxaDSaTJWv\n",
       "yKu/Oaln9vVes/cDYI/3/xSWRI8oALslFUSTNTAwoM9+9rNau3atFi9enPT5DQ0N2rhxY8KxJUuW\n",
       "jFX1PtJ7Z0PqPPr+NXs/AHa5wT1BMyffYLoaAGBMUkE0Nzc3offScRwFAgF5PJ5Lyp45c0YVFRVa\n",
       "vny56uvr48c9Ho9efvnl+H/7/f6EXtaLrV+/PuFcSdqwYUMyVb4i5QtmamuV75q9HwC7FGRN1rRJ\n",
       "BFEA9koqiGZlZcnn86mlpUXV1dVqbW1VTk7OJcPyZ8+eVUVFhSoqKvTYY48lPFdRUaGvfOUreued\n",
       "d7Rw4UJt2bJFK1euHPH9MjIylJGRkXDM7XYnU+UrkjtjknJnTLpm7wcAAGCTpGfJNzU1qampSV6v\n",
       "V42NjWpubpYk1dTUqK2tTZK0efNmdXR0aOfOnSouLlZxcbG+/e1vS5KmTJmi5557Tvfff78KCgp0\n",
       "7Nixa9rLCQAAgNTgchzHMV2JZNTX12vTpk2mqwEAAIArxLohAAAAMIIgCgAAACMIogAAADCCIAoA\n",
       "AAAjCKIAAAAwgiAKAAAAIwiiAAAAMIIgCgAAACMIogAAADBi3O2stGLFCuXn51+z94tGo+ro6FBZ\n",
       "Wdk13efedlx3c7j25nDtzeHam8F1N+dqX/u8vDx99atf/chy4y6IXmsDAwPKzMzU6dOnNXXqVNPV\n",
       "sQbX3RyuvTlce3O49mZw3c1JlWvP0DwAAACMIIgCAADACIIoAAAAjCCIfoSMjAx961vfUkZGhumq\n",
       "WIXrbg7X3hyuvTlcezO47uakyrXnZiUAAAAYQY8oAAAAjCCIAgAAwAiCKAAAAIwgiF4kFArpkUce\n",
       "UWFhoW6//XZVVVVJkrq7u1VeXi6v16vS0lJ1dXUZrun156c//al8Pp+Ki4u1aNEi/fCHP5Qk9ff3\n",
       "q6KiQoWFhVq0aJF+/vOfG67p+PeP//iPys/Pl8vl0sGDB+PHL/c95+/AlRvpuv/5z3/W/fffL6/X\n",
       "q6KiIi1dulQ9PT3xc/j+j43RvvMxzc3Ncrlc2r17d/wY135sjHbtR/u9lWhvxspo136031vJ0Pfe\n",
       "QdzXvvY155FHHnEGBwcdx3Gcvr4+x3Ec52/+5m+c5uZmx3Ec5z/+4z+cxYsXm6ridWlwcNCZPn26\n",
       "c+jQIcdxHOfIkSNORkaGMzAw4Kxatcr51re+5TiO43R0dDg33XSTc/78eYO1Hf9ee+01JxgMOnl5\n",
       "ec6bb74ZP3657zl/B67cSNf93Llzzn/913/F25ynn37aueeee+Ln8P0fG6N95x3nQnvzV3/1V86S\n",
       "JUucXbt2xY9z7cfGaNd+tN9bx6G9GSsjXfvL/d46jpnvPUF0yNmzZ50pU6Y4p0+fTjh+8uRJZ8qU\n",
       "KU44HHYc58L/xNmzZzvd3d0mqnldGhwcdGbMmOG89tprjuM4zqFDh5y5c+c6oVDI+fjHP57QQJWW\n",
       "ljovv/yyqapeVy5unC73PefvwNgaKQzFHDhwwMnLy4v/N9//sfXhax+NRp377rvP6ezsdO65556E\n",
       "IMq1H1sXX/vRfm8dh9/cq+HDQXS031vHMfO9Z2h+SG9vr2bMmKGnnnpKixcv1t13361XX31VwWBQ\n",
       "2dnZSktLkyS5XC55PB4FAgHDNb5+uFwuvfjii1qxYoXy8vJ011136Yc//KHOnDmjcDisOXPmxMvm\n",
       "5+dz7a+Cy33P+Ttw7WzevFnLly+XJP3+97/n+3+Vbdq0SXfeeac+8YlPJBzn2l9do/3eSpdvi3Dl\n",
       "Rvu9veGGG4x97wmiQyKRiI4ePapbb71VnZ2d+rd/+zc9+OCDikQipqt23YtEInryySe1c+dOHT16\n",
       "VK+++qq++MUvcu1hlaeeeko9PT1qaGgwXRUr/M///I9aW1v12GOPma6KdUb7vT158qTpql33Rvu9\n",
       "fe+994zViSA6xOPxaMKECfrCF74gSSopKdG8efN09OhR9fX1xUOR4zgKBALyeDwmq3tdOXjwoN59\n",
       "91399V//tSSptLRUOTk5+vWvf620tDSdOHEiXtbv93Ptr4Lc3NxRv+eXew5j41//9V+1c+dOvfTS\n",
       "S5o0aZIk6cYbb+T7fxW1t7fL7/ersLBQ+fn5+uUvf6na2lo988wzXPurbLTf27feeov25iob7ff2\n",
       "zTffNPa9J4gOmTlzpu677z7993//tyTpyJEjOnLkiO688075fD61tLRIklpbW5WTk6OCggKT1b2u\n",
       "xBqe3/zmN5Kknp4e9fb26uabb9bnPvc5bd26VZJ04MABHT9+XPfcc4/J6l6XsrKyRv2eX+45XLlN\n",
       "mzZp+/btevnllzVt2rSE5/j+Xz1f/vKX1dfXJ7/fL7/fryVLlujZZ5/Vl7/8ZUlc+6tptN/bW265\n",
       "hfbmKrvc761k6Ht/VWegjjO9vb3OJz/5SWfRokXOHXfc4ezYscNxHMd55513nCVLljiFhYXOJz7x\n",
       "CefXv/614Zpef3784x/Hr/uiRYucbdu2OY7jOCdOnHCWLl3qFBQUOLfeequzd+9ewzUd/2pra52b\n",
       "brrJcbvdTlZWlrNgwQLHcS7/PefvwJUb6boHg0FHkjN//nynqKjIKSoqcsrKyuLn8P0fG6N95y/2\n",
       "4ZuVuPZjY7RrP9rvrePQ3oyV0a79aL+3jmPme89e8wAAADCCoXkAAAAYQRAFAACAEQRRAAAAGEEQ\n",
       "BQAAgBEEUQAAABhBEAUAAIARBFEAAAAYQRAFAACAEQRRAAAAGEEQBQAAgBEEUQAAABjx/wEf6uA8\n",
       "IBapXwAAAABJRU5ErkJggg==\n",
       "\">\n",
       "      </div>\n",
       "      <script type=\"text/javascript\">\n",
       "        (() => {\n",
       "          const chartElement = document.getElementById(\"chart-1980e9dc-8237-425f-bb0c-4405c4d3f42a\");\n",
       "          async function getCodeForChartHandler(event) {\n",
       "            const chartCodeResponse =  await google.colab.kernel.invokeFunction(\n",
       "                'getCodeForChart', [\"chart-1980e9dc-8237-425f-bb0c-4405c4d3f42a\"], {});\n",
       "            const responseJson = chartCodeResponse.data['application/json'];\n",
       "            await google.colab.notebook.addCell(responseJson.code, 'code');\n",
       "          }\n",
       "          chartElement.onclick = getCodeForChartHandler;\n",
       "        })();\n",
       "      </script>\n",
       "      <style>\n",
       "        .colab-quickchart-chart-with-code  {\n",
       "            display: block;\n",
       "            float: left;\n",
       "            border: 1px solid transparent;\n",
       "        }\n",
       "\n",
       "        .colab-quickchart-chart-with-code:hover {\n",
       "            cursor: pointer;\n",
       "            border: 1px solid #aaa;\n",
       "        }\n",
       "      </style>"
      ],
      "text/plain": [
       "from matplotlib import pyplot as plt\n",
       "df_grid_search['dropout'].plot(kind='line', figsize=(8, 4), title='dropout')\n",
       "plt.gca().spines[['top', 'right']].set_visible(False)"
      ]
     },
     "metadata": {},
     "output_type": "display_data"
    },
    {
     "data": {
      "text/html": [
       "      <div class=\"colab-quickchart-chart-with-code\" id=\"chart-2f3940d1-8f3f-4e6a-b780-6201f2bb36a1\">\n",
       "        <img style=\"width: 180px;\" src=\"data:image/png;base64,iVBORw0KGgoAAAANSUhEUgAAArcAAAFuCAYAAACbRDANAAAAOnRFWHRTb2Z0d2FyZQBNYXRwbG90\n",
       "bGliIHZlcnNpb24zLjEwLjAsIGh0dHBzOi8vbWF0cGxvdGxpYi5vcmcvlHJYcgAAAAlwSFlzAAAP\n",
       "YQAAD2EBqD+naQAAOblJREFUeJzt3X+QVNWd9/FPd5OMm8CAP/iVGWZGZhg0EUEQFgEVtVDj6mjk\n",
       "SZbNQwwpGQaTqv2BVSIaKlKVFTdx42O5z8oQCZtIZF0hGjabVOJGY8iGPIjBoKiBMQw9Kj9kFRBZ\n",
       "R6b7PH/AvX27GYFG53yHe9+vKqqc6Qtz5tbxnO8993u+J+WccwIAAABiIG3dAAAAAOCjQnALAACA\n",
       "2CC4BQAAQGwQ3AIAACA2CG4BAAAQGwS3AAAAiA2CWwAAAMQGwS0AAABig+AWAAAAsUFwCwAe3X33\n",
       "3bryyitP+Ppf/epXSqVS6urq6sFWSdXV1fqXf/mXHv0ZAOADwS0AeHTHHXfoF7/4xUf6b06dOlVf\n",
       "//rXP9J/EwBOVQS3AAAAiA2CWwA4jn//93/Xpz71qfDr73//+0qlUvrxj38sSerq6lJlZaXWrl2r\n",
       "9957T3fccYfq6+t1+umn65JLLtHGjRvDv3vXXXdpypQp4de7du3SDTfcoAEDBmj48OH64Q9/qFQq\n",
       "pV/96ldFbXjiiSfU2Niofv36adq0aXr99dclSXPnztXatWv1rW99S3379lXfvn2P+/scOHBAN998\n",
       "s84880xVVVXp/vvvP+qaV155Rddee60GDx6sqqoqffWrX9W7774bfv7WW2/pq1/9qs4++2z169dP\n",
       "55xzjn7+859LOpxKMWnSJJ155pk6/fTTdfnll+v555+XJOXzedXV1en73/9+0c+79957dcEFFxy3\n",
       "7QBwPAS3AHAcU6dO1Z49e/TCCy9Ikn7+859rxIgRYXrB7373O0nSRRddpLlz52r9+vV65pln9Oab\n",
       "b+oLX/iCrrrqKu3du7fbf/uLX/yicrmctm3bpueee07/9m//1u11jz/+uJ599lm99tprOnjwoO64\n",
       "4w5J0pIlS3TxxRfrtttu04EDB3TgwIHj/j7z5s3Txo0b9Yc//EFbtmzR888/r507d4af79mzRxdf\n",
       "fLGuuOIKZbPZ8Lq//du/lSQ553TDDTeovb1dzzzzjPbv36+f/vSnGjZsmCTpYx/7mO69917t2LFD\n",
       "2WxWDQ0Nuv766/X+++8rnU5rzpw5Wrp0afjznHNaunSpWlpajtt2ADguBwA4rosvvtjde++9Lp/P\n",
       "u4EDB7rVq1e7+vp655xzCxcudE1NTW7Pnj1OknvllVeK/m5DQ4N7+OGHnXPOfeMb33CTJ092zjnX\n",
       "0dHhJLnNmzeH177wwgtOknv66aedc849/fTTTpLbvn17eM0//dM/uXPOOSf8+tJLL3V33nnnCf0e\n",
       "uVzOVVRUuDVr1oTf27t3r0ulUm758uXOOef+8R//0U2cOLHo7/3mN79xH//4x11XV5d79tlnXSqV\n",
       "crt37z6hn/nWW285SW7Tpk3OOed27tzpPv7xj7sXX3zROefcL3/5S9e3b1+3f//+E/r3AOBYWLkF\n",
       "gBNw5ZVX6he/+IU2btyoAQMG6HOf+5zeeecdvfrqq3ryySd15ZVXqq2tTZL053/+5xowYED45/XX\n",
       "X9drr7121L8ZpBbU1taG36urq+v250fTIj75yU/qnXfeOanf480331RnZ6fOPvvs8Hv9+/fXGWec\n",
       "EX69detWPffcc0W/wzXXXKNUKqWdO3dq27ZtOv300zVw4MBuf8amTZt03XXXqaqqSpWVleHP2r17\n",
       "tyRp8ODBuvHGG9Xa2ipJam1t1Re/+EX169fvpH4nAIgiuAWAEzBt2jStXbtWP/7xj3XVVVcplUpp\n",
       "2rRpevTRR/Xss89q2rRpGjJkiKTDwd3evXvDPwcPHtTtt99+1L9ZVVUlSdq+fXv4veh/n6h0+sSH\n",
       "8oEDB6qiokLt7e3h9/bt26e33347/HrIkCGaMmVK0e+wb98+vffee6qqqlJdXZ3efvtt7dmzp9uf\n",
       "8fnPf1719fV68cUXtX//fm3btk3S4fSDwC233KKHH35Y27dv1+OPP665c+eW+VsDQPcIbgHgBIwf\n",
       "P16nnXaa7r///rBO7ZVXXqlvfetbGjZsmBobG1VbW6sbbrhBX/va18Ig9Z133tHPfvYz7dix46h/\n",
       "s7q6WlOnTtWCBQvCIPJkSnoNGTJEW7ZsOaFr0+m0Zs6cqbvuukuvv/663n33Xd16661KpVLhNV/5\n",
       "yle0ceNG/fM//7MOHjwo55w6Ojr0xBNPSJIuvPBCTZo0SV/5ylfCFelt27bp5ZdflnQ4WK6srFT/\n",
       "/v311ltv6dZbbz2qHZdccomqqqp04403asyYMWwmA/CRIbgFgBOQTqd1xRVX6ODBg7rsssskHQ5u\n",
       "9+/fr2nTpoXXPfLIIxo3bpymTZumfv36aeTIkfrud79btGoZ9cgjj8g5p9raWl1wwQVqamqSJJ12\n",
       "2mkn3LZbb71Vf/zjH3X66adrwIABx73+vvvu06hRozRq1Cg1NjZq1KhR4aqzJNXU1GjdunV68skn\n",
       "VV9frwEDBuiqq64KN9QFlSKGDh2qiy66SP369dM111yjjo4OSdL3vvc9PfbYY+rXr58mTpyoz372\n",
       "s92245ZbbtHvf/97Vm0BfKRS7oNGXACAd88//7wuuOACvfHGGxo6dKh1c3rUz372M/3VX/2V3njj\n",
       "DX3iE5+wbg6AmCC4BQBDL774ot5//32NGTNGb7zxhm666SZJ0lNPPWXcsp518OBB/cVf/IUmTJig\n",
       "f/iHf7BuDoAYIS0BAAzt27dPM2bMUL9+/TRu3DidddZZ+uEPf/ih/s3Pfvaz4YEOpX+C1AJLDz74\n",
       "oM466yxJ0p133mncGgBxw8otAAAAYoOVWwAAAMQGwS0AAABig+AWAAAAsUFwCwAAgNgguJV0//33\n",
       "WzcBAAAAHwGCW53cWe4AAADofQhuAQAAEBsEtwAAAIgNglsAAADEBsEtAAAAYoPgFgAAALFBcAsA\n",
       "AIDYILgFAABAbBDcAgAAIDbKDm63bt2qSZMmqbGxUePHj9fmzZu7vW7ZsmUaMWKE6uvr1dzcrEOH\n",
       "Dn2oz9rb2zV16lT1799fY8aMKevnAQAAIBnKDm5bWlo0Z84cbdmyRfPnz9esWbOOumbbtm1auHCh\n",
       "1q5dq7a2Nu3atUtLly79UJ9VVlbqm9/8ph555JGyfh4AAACSo6zgdvfu3dqwYYNmzpwpSZo+fbo6\n",
       "OjrU1tZWdN2qVavU1NSkIUOGKJVKae7cuVq5cuWH+uyMM87QlClT9MlPfvKodh3r7wEAACA5+pRz\n",
       "cUdHh4YOHao+fQ7/tVQqpZqaGmWzWTU0NITXZbNZ1dbWhl/X1dUpm81+qM+OpZy/19nZqc7OzqLv\n",
       "5XK54/4MnPoe/t12/Xjj69bNSIzKP/uY7rruM6o58xPWTUmsB3/1qn758i7rZiTGGZ/8uL75ufM0\n",
       "qN9p1k1JrG///BX9vz+9Zd2MRJk3rVGTGs6ybkaRsoLbOFi8eLEWLVpU9L2JEycatQY+/Z8nt+i/\n",
       "333fuhmJMr7uDN0ytd66GYnknNO9v/ijcnln3ZREufycQZoxoca6GYm0/71D+r9Pv2rdjMR5+2Dv\n",
       "2+NUVnA7bNgw7dixQ11dXerTp4+cc8pms6qpKf4fuaamRq++Wuhg7e3t4TUn+9mxlPP3FixYoHnz\n",
       "5hV9b+HChcf9GTj1vZ/LS5IWNX1GgysrjFsTbz/8f1mt3bpHh47cc/iXdwoD23s/P1p9KzLGLYq3\n",
       "pb/+k36f3UufN3Soq3DvH/zfY5VKGTYmQUYPG2DdhKOUFdwOGjRIY8eO1YoVKzRr1iytXr1a1dXV\n",
       "RSkJ0uFc3ClTpuiuu+7S4MGDtWTJEs2YMeNDfXYs5fy9iooKVVQUBzaZDIN+EuSPTPRTRw5U7ZlH\n",
       "527jo7N26x5JYtXQUPTeTzt3sPp/4mOGrYm/f9+0Q8rupc8byrnD9z6Vkj47aqhxa2Cp7GoJra2t\n",
       "am1tVWNjo+655x4tX75ckjR79mytWbNGkjR8+HAtWrRIkydPVkNDgwYOHKiWlpYP9dnBgwdVXV2t\n",
       "z3/+83rppZdUXV2tBQsWHPfvAYFg4EvzON/jMunD9zjvmOitRO99mormPS5zZFzJ0eXN5I8s3GYY\n",
       "4xOv7JzbkSNHat26dUd9/6GHHir6urm5Wc3Nzd3+Gyfz2Sc+8Qm99tprH9iuY/2bgBQZ+NIMfD0t\n",
       "eIBgFctO9N7T53te+EBHnzcTLmDQ3xOP53kkRjDwMdH3vOAe51i5NRO997yt6HnhAx193kzwYMHK\n",
       "LQhukRjBShYTfc9jFctenpVbrzJHZlPeVtgJ7j39HQS3SAQmer8KaQnGDUmworQEHuh6HA909gr7\n",
       "KowbAnMEt0iE6KtCJvqeF6xisaHMTlFaArN9jyMtwV6elVscQXCLRIiuYrFzvOdl2FBmjg2UfrFy\n",
       "a499FQgwzSMRoosp5Nz2vFSKUmDWgnvPmwo/0mGfN25IggUPdCn6fOIR3CIRitISeKrvcdS5tRes\n",
       "mjPP+0Fagj0e6BAguEUiFKUlMPD1uLAUGMtYZvK8ovUqzDOnz5uhWgICBLdIBKol+EW1BHs5an56\n",
       "leaBzlzhEAfjhsAcXQCJUFzQ3rAhCUG1BHt5TmvyKkNagjkOcUCA4BaJkA8PcGCzgQ8cv2svR7UE\n",
       "r6iWYC88qIc+n3gEt0gESsT4xfG79jiRzy82lNnLsaEMRxDcIhGY6P1iFcteYUOZcUMSorCJ0rgh\n",
       "CUZtZwQY9pAIwWIKg54faercmqMskl/B2OLo82bCPHP6fOIR3CIRWLn1i2oJ9gp1bunzPgS3mTxz\n",
       "O1RLQIAugEQIBz3meS+olmCPOrd+US3BHtUSECC4RSLkKe7tFdUS7FEtwS/yzO1RLQEBglskAtUS\n",
       "/OL4XXu5PG8rfCpUSzBuSIKRZ44AwS0SgZxbvzh+1x5pCX6xcmsveFvByi0IbpEIlIjxi7QEezzQ\n",
       "+cXxu/aoc4sAwS0SIUeJGK9IS7BHKo5fbCizx94KBAhukQg5Bj2vCnVujRuSYI7g1qugQgh1bu2E\n",
       "dW7p84lHcItEcJQC8yq4z7yitRPmH/K2wosUqTjm2ESJAMEtEoESMX6RlmCPid6vDNUSzFEtAQGC\n",
       "WyQCGw38YnONPaol+EW1BHtUS0CA4BaJQLUEvzK8ojVHtQS/eKCzxyIGAgS3SASqJfhFWoI9Vm79\n",
       "olqCPaolIEBwi0Rg0POLOrf2qBDiV1AtgbQEO+ytQIDgFonAoOdXYeXWuCEJRlqCX2lWbs0VNpQZ\n",
       "NwTmCG6RCDkGPa/CVSwmejPBrWfl1g8e6OxR5xYBglskgiPn1itqftojz9yv8OAS+rwZajsjQHCL\n",
       "RKBEjF8ZJnpz1Ln1i2oJ9qhziwDBLRKBEjF+Ba9oyT+0Q7UEv8IHOvq8GfZWIEBwi0SgWoJfhWoJ\n",
       "xg1JMCZ6v9JHZlNWbu0UKoQYNwTm6AJIBCZ6v6hzay+c6Hlb4QV1bu2RloAAwS0SgWoJfmVYxTJH\n",
       "WoJfHL9rj0UMBAhukQikJfjFznF77Bz3K02euTn2ViBAcItEoCySX2wos1dYuTVuSEIUKoQYNyTB\n",
       "WMRAgGEPiZDntCav0uwcN8dE7xd93l7woijFOJ94BLdIhGDQY6L3I51mFcsabyv8olqCPaolIEAX\n",
       "QCKw0cAvdo7b422FX1QIsUe1BAQIbpEIeaoleMUqlr0c1RK8ynDktDkWMRAguEUiMOj5FV05oWKC\n",
       "Daol+MXxu/ZYuUWA4BaJQIkYv6KrhaQm2KBagl+F43eNG5JgLGIgwLCHRGDnuF/RyYWVLBtM9H5l\n",
       "WLk1F7ytYJwHwS0SIXxFy6DnRVFaAiu3Jjh+1y8OcbBHWgICBLdIBNIS/IqunLCQZcOxocyrYGxx\n",
       "BLdmguCWRQyUHdxu3bpVkyZNUmNjo8aPH6/Nmzd3e92yZcs0YsQI1dfXq7m5WYcOHeqxz/L5vObN\n",
       "m6dPf/rTOv/883XZZZepra2t3F8NMebCmp/GDUmI6DMEr2ltUOfWr2Bsob/bCVNx6PKJV3Zw29LS\n",
       "ojlz5mjLli2aP3++Zs2addQ127Zt08KFC7V27Vq1tbVp165dWrp0aY99tmbNGv3Xf/2X/vCHP2jT\n",
       "pk264oordMcdd5zsPUEMkX/oF9US7FEtwa/w4BLH6q2VPG8rcERZwe3u3bu1YcMGzZw5U5I0ffp0\n",
       "dXR0HLVKumrVKjU1NWnIkCFKpVKaO3euVq5c2WOfpVIpdXZ26r333pNzTvv371d1dfWHuzOIFdIS\n",
       "/KJagr08pzV5VZxnbtiQBMtxcAmO6FPOxR0dHRo6dKj69Dn811KplGpqapTNZtXQ0BBel81mVVtb\n",
       "G35dV1enbDbbY59dd911evrppzVkyBD169dPVVVVeuaZZ7r9HTo7O9XZ2Vn0vVwuV85twCmIagl+\n",
       "pVIppVKSc6zcWsmRf+hVaYUQxhr/qJaAQCye6Tds2KAXX3xRr7/+ut544w1dccUVmjt3brfXLl68\n",
       "WP379y/6s379es8thm9US/CPI3ht5amW4FXxJkr6vAWqJSBQVnA7bNgw7dixQ11dXZIO5xVls1nV\n",
       "1NQUXVdTU6Pt27eHX7e3t4fX9MRnP/jBD3T55ZdrwIABSqfT+vKXv6ynn366299hwYIF2rdvX9Gf\n",
       "CRMmlHMbcApi0POPE5tscfyuX9GxhT5vg70VCJQV3A4aNEhjx47VihUrJEmrV69WdXV1UUqCdDgX\n",
       "d82aNdq5c6ecc1qyZIlmzJjRY58NHz5cTz31lN5//31J0k9+8hOdd9553f4OFRUVqqysLPqTyWTK\n",
       "uQ04BTHo+Ree2JQ3bkhCkX/oVzoym/K2wgan8iFQdhdobW1Va2urGhsbdc8992j58uWSpNmzZ2vN\n",
       "mjWSDgebixYt0uTJk9XQ0KCBAweqpaWlxz772te+prPPPlujR4/W+eefr1/+8pd68MEHP/zdQWyw\n",
       "ocy/TLh7nIneQnDbWbn1Izq2OB7oTOQpf4cjytpQJkkjR47UunXrjvr+Qw89VPR1c3Ozmpubu/03\n",
       "PurPKioq9N3vfvd4TUeC5al/6F0wv7CKZYO3FX5FAyr6vA3eViDA4j0SgZNr/AtXbsk/NJHj4BKv\n",
       "SqslwL881RJwBMEtEoESMf5RLcEW1RL8IxXHFqfyIUBwi0SgWoJ/VEuwRZ1b/8IHOvq8iRz1zHEE\n",
       "wS0SgfxD/6iWYCvHyq13QcUEglsbVEtAgC6ARChUSzBuSIIEqyekJdjIU+fWu/CBjj5vgg1lCBDc\n",
       "IhE4ftc/VrFs8bbCP1JxbJGWgADBLRKBid6/YBXLsYplIoivSEvwp7ChzLghCeXo8ziC4BaJQHFv\n",
       "/9JsrjFVeFth3JAESZOWYCpIgUoxzicewx4SgVUs/9Lk3JqiLJJ/PNDZIv0MAYJbJAJpCf5RLcFW\n",
       "ns013mXIMzeVo1oCjqALIBEoEeMfK7e2clRL8I5qCbaoloAAUz0SgUHPv+BBguN3bQSn8vG2wh+q\n",
       "JdgiLQEBglskAiVi/OO0Jlscv+sfx+/aIs8cAYJbJALH7/pHWoKtwvG7xg1JkMIDnXFDEiq47yxi\n",
       "gGEPicCGMv+oc2uLBzr/0qzcmnLkmeMIglskQu7IXMPrKn/SrGKZIv/Qv+BWk2duo5CWYNwQmCO4\n",
       "RSJQ0N6/8PhdVrFMFNISmOl9CR/o6PMm2DiMAFM9EoETyvwLN9ewimUiqC9Mn/cnQ7UEU7ytQIDg\n",
       "FolAtQT/OK3JVo5qCd5RLcEW1RIQILhFIrC5xr8M1RJMUS3BP/LMbeWploAjGPaQCFRL8K9w/C7B\n",
       "rQVe0fpHWoItTuVDgOAWiRDMNQx6/lDn1laOtxXecfyuLTaUIUBwi0Rg0POPlVtbvK3wL6wQQp/3\n",
       "LjrOsIgBglskQiG4NW5IggQTPfO8jWDxkJVbf9Ks3JqJ3nPGeRDcIhHy5GJ5R7UEW1QI8Y9qCXai\n",
       "6U+8rQDBLRKBOrf+MdHb4hAH/6iWYCcfuee8rQDBLRIhR4kY7zKs3JrKk4rjHQeX2Imu3DLOg+AW\n",
       "iUBagn9US7BFtQT/OH7XTvQhmjd0ILhFIlAtwT+qJdhxzoUbykhL8CdDtQQzVEtAFMEtEoGC9v6F\n",
       "K7fkH3oXDa5YufWHPHM7OaolIILgFonAK1r/wlUsJnrv2DlugwohdqI55inG+cQjuEUiFAraGzck\n",
       "QYIHCUdw6130lvO2wp/Cyq1xQxKIUygRxVSPRKAUmH8pVrHMkJZgI02euZngbQWrtpAIbpEQFLT3\n",
       "L0O1BDPFaQmGDUkYqiXYCfdVENxCBLdIiGAhhZVbf6j5aSdPWSQTVEuwwwIGoghuEXuUiLHBaU12\n",
       "SEuwwQOdnfBEPro7RHCLBCg6uYaJ3ptgFYuySP5RLcEGaQl2KPeIKIJbxF7RyTX0eG84ftdOnuOm\n",
       "TbByayfHKZSIYKpH7OU5c9wEx+/aoa6zDVZu7XAKJaIIbhF7nDlugzq3dvLUdTZBnVs7wTDDAgYk\n",
       "glskQD6yoYng1p/C8bvM9L7lWbk1EcRVpCX4x8otoghuEXs50hJMUC3BTuFEPvq7TzzQ2QmrJRDV\n",
       "QAS3SIBozi1zvT9US7CTZ3ONiQw5t2Y4xAFRBLeIvTD/MMXRjD6lqZZgJlgt5xWtX1RLsMPbCkQR\n",
       "3CL2KBFjg+N37ZB/aINqCXaoEIIoglvEHhO9DVax7BTSEowbkjDhAx155t5R2xlRDH2IPQY9G6Ql\n",
       "2MmRf2iCBzo7heN36fM4ieB269atmjRpkhobGzV+/Hht3ry52+uWLVumESNGqL6+Xs3NzTp06FCP\n",
       "fvbCCy9o6tSpOvfcc3XuuefqRz/6Ubm/GmKK11U2qPlpJ+/IP7QQBFZsovSPTZSIKju4bWlp0Zw5\n",
       "c7RlyxbNnz9fs2bNOuqabdu2aeHChVq7dq3a2tq0a9cuLV26tMc+O3jwoK6//np985vf1Msvv6wX\n",
       "X3xRF1988cneE8RMsIpFbOtXWPOTid47Jnobwe0m59a/6MZhoKzgdvfu3dqwYYNmzpwpSZo+fbo6\n",
       "OjrU1tZWdN2qVavU1NSkIUOGKJVKae7cuVq5cmWPffbII49o4sSJmjJliiQpk8lo4MCBH+K2IE6Y\n",
       "6G2QlmAnyPnkbYVfpCXYoVoCosoKbjs6OjR06FD16dNH0uGySjU1Ncpms0XXZbNZ1dbWhl/X1dWF\n",
       "1/TEZy+99JIqKip07bXXasyYMbrpppv05ptvdvs7dHZ2av/+/UV/crlcObcBp5gw/5BBz6tCWgIT\n",
       "vW9M9DYK1RKMG5JAnMqHqFhsKOvq6tJ//ud/qrW1VRs3blRVVZVuueWWbq9dvHix+vfvX/Rn/fr1\n",
       "nlsMn/JsNDCR4bQmM4U+b9yQhGHl1k5Y25lOD5UZ3A4bNkw7duxQV1eXJMk5p2w2q5qamqLrampq\n",
       "tH379vDr9vb28Jqe+uyyyy5TVVWVUqmUZs6cqd/97nfd/g4LFizQvn37iv5MmDChnNuAUwzVEmyQ\n",
       "lmCH8nc2OH7XDhuHEVVWcDto0CCNHTtWK1askCStXr1a1dXVamhoKLpu+vTpWrNmjXbu3CnnnJYs\n",
       "WaIZM2b02Gdf+MIX9Oyzz2r//v2SpJ/+9KcaPXp0t79DRUWFKisri/5kMplybgNOMZSIsUFagh0O\n",
       "LrHB8bt28qSfIaJPuX+htbVVs2bN0t13363KykotX75ckjR79mw1NTWpqalJw4cP16JFizR58mRJ\n",
       "0tSpU9XS0iJJPfJZTU2N7rjjDk2aNEnpdFpVVVVhJQWAnFsbrNzaYaK3ERyaQVqCf+SZI6rs4Hbk\n",
       "yJFat27dUd9/6KGHir5ubm5Wc3Nzt/9GT3z2pS99SV/60peO1XQkFNUSbBSO3zVuSAKRlmCD43ft\n",
       "FNISjBuCXiEWG8qAY6HOrY3gWcIx0XsXLBzyQOdX4RAH44YkkCP9DBEEt4i9PEeRmmBzjR3KItmg\n",
       "WoIdqiUgiuAWscfmGhsZcm7NFPIPjRuSMDzQ2aFaAqIY+hB7wTzD6yq/qJZghzxzG1RLsMMmSkQR\n",
       "3CL2GPRsUC3BDhvKbFAtwQ7VEhBFcIvYY9CzUVi5NW5IAhHc2qBagp081RIQQXCL2KNEjI1gFYuV\n",
       "W/9IS7DBhjI7LGIgiuAWsUdagg3SEuyEO8dZufUq3FDGyq13bChDFMEtYo/jd20EDxPUufWvsHJr\n",
       "3JCECQKrfN64IQkUDDMsYkAiuEUCkH9og/xDO6Ql2Cgc4kCf961wWA99HgS3SAAmehuFtATjhiQQ\n",
       "D3Q20uSZm8nleVuBAroBYo+Ta2xQ59ZOjjxzE9S5tcOpfIgiuEXsUSLGBtUS7OTJMzdBtQQ7VEtA\n",
       "FMEtYo9qCTbC/EMmeu+olmCDagl2qJaAKIJbxB7VEmxkmOjNUC3BBtUS7LCIgSiGPsQeg54N6tza\n",
       "IefWRvhAR5/3jr0ViCK4ReyRi2WjUOfWuCEJRM6tDUqB2WFDGaIIbhF7uSPzDBO9X9S5tcPbChtB\n",
       "KTCCW/8KD3TGDUGvQHCL2AsnegY9r6j5aYc8cxsZUnHM8IYOUQS3iL1womfQ8yr6epCKCX4F+Yes\n",
       "3PqVJufWDGkJiCK4Rewx6NmIBlakJvjFqXw2wmoJdHfvWLlFFMEtYo/8QxvRSYaVLL+C+83znF9U\n",
       "S7DD2wpEEdwi9igRY6MoLYGVW6/CUmBEt15xiIMd3tAhiuAWscfJNTYyrNyaIS3BRoZT+cyQloAo\n",
       "glvEHmkJNtJFK7eGDUkg6tzaoBSYncLKrXFD0CsQ3CL2gpVb5nm/os8SrGT5Rf6hjXRkQ5kjwPUq\n",
       "T1UcRBDcIvby5B+aoFqCHd5W2MjwtsJMmJbAOA8R3CIBckz0JlKpVLhazsqtXxziYIMKIXZ4W4Eo\n",
       "glvEHoc42MlwBK+JwsqtcUMSJhpYkXfrF9USEMXQh9gL5hgGPf84sckGK7c2omMMfd4vqiUgiuAW\n",
       "scegZ6dQGsm4IQlD/qGNdGRG5W2FX4Xyd8YNQa9AN0DsUefWToai9iaoc2ujaEMZK7de8UCHKIJb\n",
       "xB75h3aC2IpXtH7xtsIGB5fYYeMwopjuEXvBoJfiid67ILii5qdfefLMTaQoBWYmGGJYuYVEcIsE\n",
       "yPGK1gzVEmzwtsJOMM5QLcEvNlEiiqEPscchDnaolmCDid5O+EBHn/eKtAREEdwi9nLB6yoGPe+o\n",
       "lmCDid5OUDGB4NYvqiUgim6A2CsU9zZuSAJRLcEG1RLshA909HmvqJaAKIJbxF6eVSwzrGLZYBOl\n",
       "HVJxbPC2AlEEt4g9yiLZYRXLRpAGQp65f2wos8Hxu4giuEXsMejZYRXLRo78QzOFDWXGDUkYFjEQ\n",
       "xdCH2CMXy06alVsTeaolmEnR501Q5xZRBLeIPaol2KFagg3yzO1kyDM3wdsKRNENEHsUtLeTplqC\n",
       "ibDOLcGtd+SZ2+ANHaKY7hF7DHp2ggeKPKtYXuXYUGaGPHMbvK1AFMEtYo/jd+1wWpMNJno7VEuw\n",
       "wal8iCK4Rew5qiWYIS3BRnC/6fL+US3BRvi2ggc66CSC261bt2rSpElqbGzU+PHjtXnz5m6vW7Zs\n",
       "mUaMGKH6+no1Nzfr0KFDPfqZdDiIufzyyzVgwIByfy3EGCVi7BQ2lBHc+hSu3BLdekdagg1O5UNU\n",
       "2cFtS0uL5syZoy1btmj+/PmaNWvWUdds27ZNCxcu1Nq1a9XW1qZdu3Zp6dKlPfZZ4L777lN9fX25\n",
       "vxJiLqiWwETvHyu3NkjFscOGMhvsrUBUWcHt7t27tWHDBs2cOVOSNH36dHV0dKitra3oulWrVqmp\n",
       "qUlDhgxRKpXS3LlztXLlyh77TJI2b96sJ554QrfffvvJ3w3EEvmHdgoTvXFDEiZPtQQzaXJuTbBy\n",
       "i6g+5Vzc0dGhoUOHqk+fw38tlUqppqZG2WxWDQ0N4XXZbFa1tbXh13V1dcpmsz322aFDh9Tc3Kxl\n",
       "y5Ypk8kc83fo7OxUZ2dn0fdyudyJ3wSccoIneh7o/UtTLcEEx+/aCWIr0hL8yocrt8YNQa8Qiw1l\n",
       "ixYt0o033qhzzz33uNcuXrxY/fv3L/qzfv16D62EFZ7o7aSplmAix9sKM1RLsEG1BESVFdwOGzZM\n",
       "O3bsUFdXl6TDG7iy2axqamqKrqupqdH27dvDr9vb28NreuKzZ555Rg888IDq6uo0ZcoU7d+/X3V1\n",
       "dXrzzTeP+h0WLFigffv2Ff2ZMGFCObcBp5gcm2vMZMi5NcFEbydNtQQTeaolIKKs4HbQoEEaO3as\n",
       "VqxYIUlavXq1qquri1ISpMO5uGvWrNHOnTvlnNOSJUs0Y8aMHvts7dq12r59u9rb2/Wb3/xGlZWV\n",
       "am9v18CBA4/6HSoqKlRZWVn053ipDDi1cVqTHaol2CDP3E6Gagkm2ESJqLLTElpbW9Xa2qrGxkbd\n",
       "c889Wr58uSRp9uzZWrNmjSRp+PDhWrRokSZPnqyGhgYNHDhQLS0tPfYZcCzBoiGDnn9US7BRmOiN\n",
       "G5JAVEuwQbUERJW1oUySRo4cqXXr1h31/Yceeqjo6+bmZjU3N3f7b/TEZ4G6ujrt3bv3mNcgWRj0\n",
       "7LBya6OwiZI+71uwiZKVW3+i4wuLGJBisqEMOBY219jhFa0NDnGww4Yy/6JvhujzkAhukQB5jt81\n",
       "U6j5adyQhMmTimMmTVqCd9F7nSaqgQhukQDUubUTxFZM9H6xidIO1RL8y0fuNelnkAhukQDUubWT\n",
       "oc6tCdIS7IRpCfR5b4rSEhjnIYJbJAA5t3aolmCjsHJr3JAECldu6fPeRB+eWbmFRHCLBKBagh2q\n",
       "JfjnnCuUv6PPe5ehWoJ3VEtAKYJbxB6ba+yEK7fkH3qTY6I3RbUE/6Kr5HR5SAS3SACqJdgJV7GY\n",
       "6L2J3mvq3PqXJs/cu3z4do4+j8MIbhF7YVoCvd070hL8i+4cZ+XWP2o7+8fRuyjFdI/Yo1qCnTSv\n",
       "aL3LU9DeVHDP6fL+BM8R7KtAgOAWsceGMjvsHPcvR0F7Uyn6vHd5xniUYOhDrDnneKo3RM1P/4p2\n",
       "jtPnvaNagn+Ue0QpglvEWnR+YeDzj9Oa/KNagi0e6PwL6zrT3XEEwS1iLccqlqlgFYucW3+CiT7F\n",
       "znETpOL4l2flFiUIbhFrefIPTXH8rn9BtQQe5mywcusf1RJQiukesZbnzHFTHL/rX+HoXfq7BVZu\n",
       "/WPTMEoR3CLWOHPcFnVu/YsWtId/GU7l8y58W0GnxxEEt4g1CtrbSlPQ3rtw5zgPcyY4fte/woYy\n",
       "+jwOI7hFrBWfOc7A51twz4lt/cmTlmAqGGZ4W+FPoc8bNwS9Bl0BsVaclmDYkISiWoJ/nMhnK0PO\n",
       "rXd53lagBMEtYi0fqX9IWST/0lRL8C5HtQRTVEvwL9xQxgMdjiC4Raxxco2tDNUSvGOit0W1BP/C\n",
       "UmA80OEIglvEGiVibLGK5V+eid4U1RL8o1oCShHcItaCxRMGPRukJfjH2wpbPND5R7UElCK4Razx\n",
       "usoWZZH8ix6/C/9IS/CP43dRiuAWsUb+oS2O3/WPid5WWCGEPu8N4zxKEdwi1iiLZCsdrtwaNyRB\n",
       "gnvN2wobhdrOdHpfCnnmxg1Br0Fwi1jLcRSpqeC+M9H7wyqWrUJagnFDEiRPzi1KENwi1qiWYCvD\n",
       "8bveUS3BFhvK/AsqU/BAhwDBLWKNtARbVEvwj5VbW2ke6Lxj4zBKEdwi1li5tUW1BP/CiZ7R3QTH\n",
       "7/rHJkqUYvhDrLFya4uVW//CiZ4HOhNUS/CPtxUoRXCLWAt3jjPomSgcv2vckARhordFnVv/clRL\n",
       "QAmCW8Qa1RJssYrlHzvHbbGJ0j/SElCK4BaxxqBni5qf/lHn1lYw1tDl/Qn6PA90CBDcItY4c9wW\n",
       "Obf+FdISjBuSUCn6vHeM8yjF8IdYo1qCLaol+McmSltUS/CPN3QoRXCLWGOit8XKrX880Nkiz9w/\n",
       "NlGiFMEtYo2Ta2wVVm6NG5IgOVaxTFEtwb881RJQguAWsRZO9Ax6JoJVLFZu/eH4XVscv+sfK7co\n",
       "RXCLWHOkJZgiLcE/3lbYCo/fZeXWG47fRSmCW8Qau2htsaHMv0KfN25IQoUbyvLGDUkQNpShFMEt\n",
       "Yo38Q1vUufWPtxW2CnVu6fO+hHVu6fM4guAWscZpTbbSrGJ5R7UEW8FtJxXHH06iRCmCW8Qa+Ye2\n",
       "SEvwj7cVtqhz6x+bKFGK4BaxlqdagimqJfjHRG+Lagn+US0BpQhuEWs58g9NhTm3TPTe8LbCFtUS\n",
       "/KNaAkqVHdxu3bpVkyZNUmNjo8aPH6/Nmzd3e92yZcs0YsQI1dfXq7m5WYcOHeqxz5566ilNmDBB\n",
       "n/70p/WZz3xGt912m/J5kvxA/qG1DBO9d6zc2sqED3TGDUkQqiWgVNnBbUtLi+bMmaMtW7Zo/vz5\n",
       "mjVr1lHXbNu2TQsXLtTatWvV1tamXbt2aenSpT322emnn65//dd/1UsvvaTnnntOv/3tb/WDH/zg\n",
       "ZO8JYoTjd21R59Y/XtHaCh/o6PPe8LYCpcoKbnfv3q0NGzZo5syZkqTp06ero6NDbW1tRdetWrVK\n",
       "TU1NGjJkiFKplObOnauVK1f22GcXXHCBhg8fLkk67bTTNGbMGLW3t5/8XUFs5JnoTbGhzL/ChjLj\n",
       "hiQUx+/6x9sKlOpTzsUdHR0aOnSo+vQ5/NdSqZRqamqUzWbV0NAQXpfNZlVbWxt+XVdXp2w222Of\n",
       "Re3cuVOrVq3ST37yk25/h87OTnV2dhZ9L5fLndgNwCknd2R+YdCzwSqWf5S/s8WGMv94W4FSsXq2\n",
       "379/v6677jrddtttuvDCC7u9ZvHixerfv3/Rn/Xr13tuKXzJU//QVBBfMc/7Q3BrKx32eTq9L3lO\n",
       "5UOJsoLbYcOGaceOHerq6pJ0+ASWbDarmpqaoutqamq0ffv28Ov29vbwmp74TJLeeecdXX311br+\n",
       "+us1b968D/wdFixYoH379hX9mTBhQjm3AaeQ8ChSRj0T0RVzVrL8CPIPyTO3keZthXekJaBUWcHt\n",
       "oEGDNHbsWK1YsUKStHr1alVXVxelJEiHc3HXrFmjnTt3yjmnJUuWaMaMGT322YEDB3T11Vfr6quv\n",
       "1te//vVj/g4VFRWqrKws+pPJZMq5DTiFhPmHDHomogEWOYh+sInSVlgtge7uDWkJKFV2WkJra6ta\n",
       "W1vV2Nioe+65R8uXL5ckzZ49W2vWrJEkDR8+XIsWLdLkyZPV0NCggQMHqqWlpcc+u//++7V+/Xr9\n",
       "6Ec/0pgxYzRmzBj9/d///Ye/OzjlUSLGVnSyYSXLD8rf2SLP3D/eVqBUWRvKJGnkyJFat27dUd9/\n",
       "6KGHir5ubm5Wc3Nzt//GR/3ZnXfeqTvvvPN4TUcCkZZgqygtgZVbL6iWYItDHPwjLQGlGP4Qa3nS\n",
       "EkxlWLn1joneVoZT+bwjLQGlCG4Ra8H8wusqG+miDWWGDUkQJnpb6SOzKiu3/hSO3zVuCHoNglvE\n",
       "Wo6ySKbYUOYfpcBsBSu3zh2uKISex94KlCK4RazlyT80FZ1ryLn1I8/mGlPR+05mgh959lagBFM+\n",
       "Yo2d47ZSqVThIAdmei94W2ErlSLP3LegWgJ9HgGCW8Qa1RLsBa9pSUvwg7cVtopXbunzPrCJEqUY\n",
       "/hBrVEuwx4lNfrFyayvDyq13bKJEKYJbxBort/YKpZGMG5IQOTbXmEpHZlXeVvhROJXPuCHoNegK\n",
       "iLXw5BpWscxkKGrvFcfv2io6uISVWy/YW4FSBLeINfIP7QUxFq9o/WCit8XBJf7xtgKlmPIRa5SI\n",
       "sRdMOGyu8SNHKTBT0QohvK3wgw1lKEVwi1jLMeiZI7j1y4UbyowbkmDRgxzQ84IFchYxECC4Razl\n",
       "eUVrLqj7yStaP6iWYC9Nn/eKVByUIrhFrOV4ojdHtQS/yD+0F1RMILj1g2oJKEVXQKwV6twaNyTB\n",
       "qJbgF9US7IUPdPR5L1i5RSmCW8Qaq1j2WMXyi4neHgeX+MU4j1IEt4g1DnGwxyqWX3mqJZhjE6Vf\n",
       "VEtAKYJbxBrH79pjFcsvNpTZy4QbyowbkhAcv4tSBLeINerc2itsKCO49YFXtPZ4oPMruM30eQQI\n",
       "bhFrQbUEVm7tFF7RGjckIahza49UHL/yvK1ACYJbxFpY55aebiasc8tE7wV55vaCW09w60dhE6Vx\n",
       "Q9BrMOUj1tg5bi+oPUlagh/h8bv0eTOkJfiVJxUHJQhuEWs5an6ay3Bak1dM9PaoluAXmyhRiuAW\n",
       "sUa1BHtpDnHwioneHtUS/MpR/g4lCG4Ra+Qf2qNagl+s3NojLcEvTuVDKYJbxBort/ZYufWrkIpj\n",
       "3JAEo1qCX+ytQCmGP8QaObf2yLn1i4neHiu3fvG2AqUIbhFrwVGkpCXYCSYcFrH8CO4zwa2dsEII\n",
       "nd4Ljt9FKYJbxFqegvbmgvmGVSw/OKHMXpq0BK+CN3TEtggQ3CLWcuTcmsuQc+sV1RLspamW4FWe\n",
       "agkoQXCLWKNagj2qJfhF/qG9DDm3XrG3AqUIbhFrTPT2qJbgF9US7FEtwS82UaIUwx9ijVe09li5\n",
       "9YuJ3l76yMzKym3Pi44rLGIgQHCLWCMXyx6vaP3ibYU9jt/1J/pGiL0VCBDcItbYUGavkJZg3JCE\n",
       "4G2FvTS1nb2J3uM0EQ2OoCsg1sJSYPR0M5kjMRZpCX7wtsIebyv8ia6O0+cRYMpHrOVZxTJHzU+/\n",
       "6PP2gntPl+950ecH+jwCBLeINQra26Nagl853laYC9MS6PM9rigtgeAWRzD8IdbYOW6Pagn+OOfC\n",
       "1ULyzO1kqJbgDdUS0B2CW8RaMO4x6NkJV245ranH5ZjoewWqJfgTXR2nyyNAcItYo1qCvXAVi4m+\n",
       "xxVN9Mz0ZqiW4E8+fDsnpRjncQTBLWKN/EN7pCX4k4+sjvNAZ4dqCf5w9C66w5SPWKOgvT02lPmT\n",
       "oyxSr8Dxu/6wrwLdIbhFrIVP9Qx8Zli59Yed470Deeb+UNcZ3SG4RWxFd46Tf2iHzTX+ODbX9Aqs\n",
       "3PqTZwED3SC4RWxR3Lt3SKVYxfKFagm9Q5Djz9uKnhe8nWOIRxTBLWKraKJn5DMTVEtgFavnRSd6\n",
       "do7b4RAHf9hXge6UHdxu3bpVkyZNUmNjo8aPH6/Nmzd3e92yZcs0YsQI1dfXq7m5WYcOHTL7DMmU\n",
       "LyqLZNiQhMtQFsmbMP+QwNZUmIpDn+9xVEtAd8qe8ltaWjRnzhxt2bJF8+fP16xZs466Ztu2bVq4\n",
       "cKHWrl2rtrY27dq1S0uXLjX5DMnFK9regWoJ/hRK39HfLbFy6w/VEtCdsoLb3bt3a8OGDZo5c6Yk\n",
       "afr06ero6FBbW1vRdatWrVJTU5OGDBmiVCqluXPnauXKlSafIbmKT65h4LNCtQR/8hxa0itkqJbg\n",
       "DdUS0J0+5Vzc0dGhoUOHqk+fw38tlUqppqZG2WxWDQ0N4XXZbFa1tbXh13V1dcpmsyaflers7FRn\n",
       "Z2fR93K5XBl34cP55cu79OCvXvX285Ksi5XbXiFYRfzPl3fpfz34W+PWxFtn1+GZnv5uK7j/j298\n",
       "TRva3zJuTbwd6OySxAIGipUV3MbB4sWLtWjRoqLvTZw40dvP33OgUxu2v+3t50Ea2K9CfZjszVQN\n",
       "+DNJ0p4D72vPgfeNW5MMQ/ufZt2ERAvu/679ndq1v/M4V+Oj8KkB9HkUlBXcDhs2TDt27FBXV5f6\n",
       "9Okj55yy2axqamqKrqupqdGrrxZWJ9vb28NrfH9WasGCBZo3b17R9xYuXHjiN+FDmlR/lpbMHOvt\n",
       "50EaVT2AneOGmkZ/SoMrT9O+/yGw9WVs7enWTUi0L02sVcOgvnr3yKoielpKE84+w7oR6E1cmS69\n",
       "9FK3fPly55xzjz32mBs3btxR17z66qtu6NChbseOHS6fz7vrrrvOPfDAAyafnYi/+7u/K/c2AAAA\n",
       "oBcqu1pCa2urWltb1djYqHvuuUfLly+XJM2ePVtr1qyRJA0fPlyLFi3S5MmT1dDQoIEDB6qlpcXk\n",
       "MwAAACRHyjlqlcybN0/f+c53rJsBAACAD4nS9gAAAIgNglsAAADEBsEtAAAAYoPgFgAAALFBcAsA\n",
       "AIDYILgFAABAbBDcAgAAIDYIbgEAABAbBLcAAACIDU4ok3TjjTeqrq7O28/L5XJav369JkyYoEwm\n",
       "4+3nnuq4byePe3fyuHcnj3t3crhvJ497d/JOhXtXW1urv/mbvznudQS3Bvbv36/+/ftr3759qqys\n",
       "tG7OKYP7dvK4dyePe3fyuHcnh/t28rh3Jy9O9460BAAAAMQGwS0AAABig+AWAAAAsUFwa6CiokLf\n",
       "+MY3VFFRYd2UUwr37eRx704e9+7kce9ODvft5HHvTl6c7h0bygAAABAbrNwCAAAgNghuAQAAEBsE\n",
       "twAAAIgNglvPtm7dqkmTJqmxsVHjx4/X5s2brZvUK7333nu64YYb1NjYqNGjR2vatGlqa2uTJE2d\n",
       "OlVnn322xowZozFjxui+++4zbm3vU1dXp5EjR4b36NFHH5VE/zue//7v/w7v2ZgxY9TY2Kg+ffro\n",
       "rbfeot+V+Ou//mvV1dUplUrp+eefD79/rD5G/zusu3t3rDFPYtwLfFC/+6AxT6LfSd3ft2ONd9Ip\n",
       "3uccvLrsssvc8uXLnXPOPfbYY+7CCy+0bVAv9T//8z/uP/7jP1w+n3fOOffAAw+4Sy+91Dnn3KWX\n",
       "Xuoef/xxu8adAmpra93GjRuP+j79rzzf/va33bXXXuuco9+VeuaZZ1xHR8dRfe1YfYz+d1h39+5Y\n",
       "Y55z9L/AB/W7DxrznKPfOffB9y0qOt45d2r3OVZuPdq9e7c2bNigmTNnSpKmT5+ujo6OoqdzHHba\n",
       "aafpmmuuUSqVkiRNnDhR7e3tto06xdH/yrds2TLdfPPN1s3olS655BJVV1cXfe9YfYz+V9DdvWPM\n",
       "OzHd3btjod8ddiL3LU7jHcGtRx0dHRo6dKj69OkjSUqlUqqpqVE2mzVuWe93//336/rrrw+/vv32\n",
       "2zVq1Cj95V/+pf70pz8Ztqz3uummmzRq1CjdfPPNevPNN+l/Zfrtb3+rt99+W9dee234PfrdsR2r\n",
       "j9H/ylM65kn0v+MpHfMk5t0T1d14J526fY7gFr3e3Xffrba2Ni1evFiS9PDDD+uVV17Rpk2bdPHF\n",
       "Fx/1PyOkX//619q0aZN+//vf66yzztKXv/xl6yadcpYtW6abbropnBTpd/CldMyT6H/Hw5j34ZSO\n",
       "d9Ip3ues8yKSZNeuXa5fv37u0KFDzjnn8vm8Gzx4sNu6datxy3qvb3/7227cuHHu7bff/sBrKioq\n",
       "3J49e/w16hTzxhtvuL59+9L/yvDOO++4vn37updffvkDr6HfHRbN4TtWH6P/Ha27/McTGfOco/8d\n",
       "K3c0GPOcY94t1d19O5HxzrlTq8+xcuvRoEGDNHbsWK1YsUKStHr1alVXV6uhocG4Zb3Td77zHa1c\n",
       "uVJPPvmkBgwYIEnq6urSrl27wmtWr16twYMH68wzzzRqZe/z7rvvau/eveHXK1eu1AUXXED/K8Oj\n",
       "jz6q0aNH65xzzpFEvztRx+pj9L/j627Mk+h/x/NBY57EvHsiSsc7KQZ9zjq6TppXXnnFTZw40Y0Y\n",
       "McKNGzfObdq0ybpJvVJHR4eT5IYPH+5Gjx7tRo8e7SZMmOAOHDjgxo0b58477zx3/vnnu8svv9w9\n",
       "//zz1s3tVV599VU3ZswYN2rUKHfeeee5pqYmt23bNucc/e9EXXTRRe573/te+DX97mhz5sxxVVVV\n",
       "LpPJuEGDBrn6+nrn3LH7GP3vsO7u3QeNec7R/6K6u3fHGvOco98598H/vzp39Hjn3Knf51LOOWcd\n",
       "YAMAAAAfBdISAAAAEBsEtwAAAIgNglsAAADEBsEtAAAAYoPgFgAAALFBcAsAAIDYILgFAABAbBDc\n",
       "AgAAIDYIbgEAABAbBLcAAACIDYJbAAAAxMb/BxURAoRE0h7GAAAAAElFTkSuQmCC\n",
       "\">\n",
       "      </div>\n",
       "      <script type=\"text/javascript\">\n",
       "        (() => {\n",
       "          const chartElement = document.getElementById(\"chart-2f3940d1-8f3f-4e6a-b780-6201f2bb36a1\");\n",
       "          async function getCodeForChartHandler(event) {\n",
       "            const chartCodeResponse =  await google.colab.kernel.invokeFunction(\n",
       "                'getCodeForChart', [\"chart-2f3940d1-8f3f-4e6a-b780-6201f2bb36a1\"], {});\n",
       "            const responseJson = chartCodeResponse.data['application/json'];\n",
       "            await google.colab.notebook.addCell(responseJson.code, 'code');\n",
       "          }\n",
       "          chartElement.onclick = getCodeForChartHandler;\n",
       "        })();\n",
       "      </script>\n",
       "      <style>\n",
       "        .colab-quickchart-chart-with-code  {\n",
       "            display: block;\n",
       "            float: left;\n",
       "            border: 1px solid transparent;\n",
       "        }\n",
       "\n",
       "        .colab-quickchart-chart-with-code:hover {\n",
       "            cursor: pointer;\n",
       "            border: 1px solid #aaa;\n",
       "        }\n",
       "      </style>"
      ],
      "text/plain": [
       "from matplotlib import pyplot as plt\n",
       "df_grid_search['weight_decay'].plot(kind='line', figsize=(8, 4), title='weight_decay')\n",
       "plt.gca().spines[['top', 'right']].set_visible(False)"
      ]
     },
     "metadata": {},
     "output_type": "display_data"
    },
    {
     "data": {
      "text/html": [
       "      <div class=\"colab-quickchart-chart-with-code\" id=\"chart-e5cc2cda-3a38-4b7f-bf6e-ebb7528e9a0d\">\n",
       "        <img style=\"width: 180px;\" src=\"data:image/png;base64,iVBORw0KGgoAAAANSUhEUgAAArcAAAFuCAYAAACbRDANAAAAOnRFWHRTb2Z0d2FyZQBNYXRwbG90\n",
       "bGliIHZlcnNpb24zLjEwLjAsIGh0dHBzOi8vbWF0cGxvdGxpYi5vcmcvlHJYcgAAAAlwSFlzAAAP\n",
       "YQAAD2EBqD+naQAASmRJREFUeJztvX+QnFd1rvv2tGAw2JJjbFmKpZGsHyNsbEuRIx1HMrEMcd2E\n",
       "g0UK3YBzIhtx7ZGU5BQUrlQUcaMKukUhn+IUHIpzCsuxolvBhUJsQUUncOvehABRBYOjg41BGKQR\n",
       "kmaMZYkfRgIbj0fT3/2j3d1fW+OZ7hlN7+9Zep+qqfZMtzx7Vu1v7bXWXvvdpSzLMhljjDHGGBOA\n",
       "rtQDMMYYY4wx5nzh4NYYY4wxxoTBwa0xxhhjjAmDg1tjjDHGGBMGB7fGGGOMMSYMDm6NMcYYY0wY\n",
       "HNwaY4wxxpgwOLg1xhhjjDFhcHBrjDHGGGPC4ODWGGOCsGbNGv3lX/5l6mEYY0xSHNwaY4wxxpgw\n",
       "OLg1xpgLgOHh4dRDMMaYjuDg1hhjAlIqlfSJT3xCq1at0hve8Abt3bs39ZCMMaYjTEs9AGOMMVPD\n",
       "zp079fnPf17XXHONXnzxxdTDMcaYjuDg1hhjgvLBD35Q1157rSTpoosuSjwaY4zpDG5LMMaYoFx9\n",
       "9dWph2CMMR3Hwa0xxgSlq8su3hhz4WHPZ4wxxhhjwuDg1hhjjDHGhKGUZVmWehDGGGOMMcacD1y5\n",
       "NcYYY4wxYXBwa4wxxhhjwuDg1hhjjDHGhMHBrTHGGGOMCYODW2OMMcYYEwYHt8YYY4wxJgwObo0x\n",
       "xhhjTBgc3Er65Cc/mXoIxhhjjDHmPODgVtLx48dTD8EYY4wxxpwHHNwaY4wxxpgwOLg1xhhjjDFh\n",
       "cHBrjDHGGGPC4ODWGGOMMcaEwcGtMcYYY4wJg4NbY4wxxhgTBge3xhhjjDEmDA5ujTHGGGNMGNoO\n",
       "bg8fPqxVq1apt7dXK1as0MGDB0f93K5du7R48WItXLhQfX19Gh4entR7x44d05o1azRjxgwtW7as\n",
       "rd9njDHGGGMuDNoObjdt2qSNGzfq0KFD2rJlizZs2HDOZ44ePapt27Zp//796u/v18mTJ/XAAw9M\n",
       "6r3p06frIx/5iD772c+29fuMMcYYY8yFQ1vB7alTp3TgwAGtX79ekrRu3ToNDg6qv7+/6XOPPPKI\n",
       "1q5dq1mzZqlUKmnz5s3as2fPpN677LLLdPPNN+sNb3jDOeMa698ZY4wxxpgLh2ntfHhwcFCzZ8/W\n",
       "tGnVf1YqldTT06OBgQEtWrSo/rmBgQHNmzev/v38+fM1MDAwqffGop1/NzQ0pKGhoaafjYyMjPs7\n",
       "zhdffuqkPv3VIx37feeDrq6S7r75av1vb56VeiiT4jPfOK5/ePxHqYfRFj2XvV73rbtBr53GbY9/\n",
       "+rkX9Ff/cFCnf8VpFZpWLuk/37pYNy++PPVQJsWnv3pEX37qZOphtEXvrEv0kXdep66uUuqhTJjD\n",
       "J3+hj3zxKT0/dDb1UFqm+zVduve2Jbpx3q+lHsqk+Nj/+31984c/Sz2Mtlg+79f0obdfk3oYoWgr\n",
       "uI3Ajh07tH379qaf3XTTTR37/T/55ZAOHH+uY7/vfFGpZPjg9r/90yH99PmXUg+jLQ4cf07/6T/0\n",
       "6DfnX5Z6KBPmS985oS9//1TqYbTNxd1H0cFtlmX6r//fDzRSyVIPpS0OHH9O/8fq+Vo085LUQ5kw\n",
       "X3j8R/raoR+nHkbbzJo+gA5uz7w4rP/xFVbxSKrO+b63LNAVl3SnHkoY2gpu586dqxMnTujs2bOa\n",
       "Nm2asizTwMCAenp6mj7X09OjI0caE+zYsWP1z0z0vbFo599t3bpV9957b9PPtm3bNu7vOF+sWni5\n",
       "7l+/vGO/b7J850en9T++ckTDI5XUQ5k0L738N2xf+2ZdOb34TuT/+p/f0zOnX6yPm8rwSDW4WrXw\n",
       "jbrrt+aN8+n0fOOHP9P//fVjemmEFRS+kkqmemD7X/9gqS7uLice0fhs2fsdnf7VsF46y7Z9zV/e\n",
       "du2VWrf8qsSjGZ8vP3VKD/+vp/F+fvhsY/yf/qPlKgGK///5s4/rbCXD275otBXczpw5U8uXL9dD\n",
       "Dz2kDRs2aO/evZozZ05TS4JU7cW9+eab9eEPf1hXXnml7r//ft1xxx2Tem8s2vl33d3d6u5uDmzK\n",
       "5c45/bmXvV5zL3t9x37fZOl+TVnSEY1k7MVGqlafJWnNkis0743n9m4Xjf/2z4f1zOkXVYH7vFqA\n",
       "Ne+Nr9fvXjc78WjG58XhqsErsIrnK8lXbG+75krNeP1rEo6mNT6873s6/athVeD+phanLJp5MWLO\n",
       "nzj9ovS/hPfztfGXStLvXV98u0tSuesJna1kuB2WotN2I9/OnTu1c+dO9fb26r777tPu3bslSffc\n",
       "c4/27dsnSVqwYIG2b9+u1atXa9GiRbriiiu0adOmSb33wgsvaM6cOfqDP/gDfe9739OcOXO0devW\n",
       "cf+dmRzll1PfCEllzfF1EdJ5NcaJX3AqMLt31eY82+75ALEL0rJdDmb7MmTO1+xOT+hqhQCK3aWc\n",
       "7eF+vmi03XO7ZMkSPfroo+f8/MEHH2z6vq+vT319faP+Pyby3utf/3o9/fTTrzqusf6fZuJEcXpS\n",
       "zvFBDqpEsX19oafYPVhSIXFsXwvCo9ieciiunkjDfU29gAGxu5QvILFtXzQg+bxJRZTqodT4GzgL\n",
       "fQynR6vcll/2ivSkIv/MYmxfipHQjVArt3A/X5s3FLtLDT9Pt33RcHBrxiRK9VACBlkvD5OeWOCS\n",
       "iiAJXQVZuY2R0NWDLMgKG6V6OFJh+Rop34qTeCDBgDx6JhXlINuExIU+SmJRgS04Ueze1JaASehi\n",
       "JBa4toRagMU2e+5cReKBtEGUlpCi4eDWjEmUBy+/WFIW+igVxFpFglIxbyz0cLs3HShj2L6RWCQe\n",
       "yCThtSVUX+kJHS2RlnK2h/ubouHg1oxJxCqWT453lsaBssQDaZEoCiG0A5RSnISOFmRFK2JQ7C7F\n",
       "aQkpGpDlxqSi5vToz11+rcRUEF8eJ3ydrwe3PLuzDU+To5IaiSe9ilXzlyWI7eMcKKu+UuwuNcZK\n",
       "t33RcHBrxiRKJaWpLQGS1Uc5XEM7yFeXowpid4jZJUVUS0g8kBbpChJgERO6KIlF0XBwa8YkZFsC\n",
       "xPFFUUuwzm0aaHaX4iR0bktIg9USTA0Ht2ZMrJaQjmiJhe3eWep2hyRzUq5yC/c3NLWEcjS1BFBk\n",
       "U5si9MSiaICmgElBmIy+SdA+4UDaIExLiNUSklDvdaZMeOUrt4kHMklo2+Ph1BIgdpfcljBVOLg1\n",
       "YxKlilWp931yDhuEsT1ULQEvRwVUS4jSEkKr3IYpYsDsLsWxfdGALDcmFWGqh+4/TAbtQFkUCTaa\n",
       "3aU4CV1te59SQYxSPaTpC0v5lhC27YuGg1szJmFE1YkLfT2xSDyQSUJLLKIkdLSKuRQnoaMdKIui\n",
       "tUrUdo6S0BUNkNszKYiS0deGT3R6dL3VDBbcRrE7re9TaiiE0P0Nrd+5K4ifp2lqS3G05IuGg1sz\n",
       "JjUfQa9iESu3ddvDvV5Db5Vh+yinl2l2l+LorY7kevwJRAmwrJZgaoCmgElBreqTZexKVt3pQRYb\n",
       "KdLhmuorpYIYZmscVjGXrJaQinKQi0uslmBqOLg1Y5JfGMmOj9YDJ8XpxaL1fpajVLGI/YdhEjpY\n",
       "W0KQnlua3aU4ti8akOXGpCLvJMgLDu1QkxSnikVrCYmnlpB4IG0QJaGzWkIaaBVzKY7ti4aDWzMm\n",
       "eSdBVkygBVhSnCoWbXs82iUOFLtLgVpCYDtFUaqH9QtjIHaX4iTTRcPBrRmTcpDKrSVi0oG7frcU\n",
       "y+6shK76Sq9i0bbHo1QPiTq3URKLouHg1oxJfmEkP3wjYIkYclIh8YKs2klrvN1duU0GbXs8SvWQ\n",
       "VjGX4iQWRcPBrRmTvJMgV7Jo1UMpd9873OnRNIajKITQ9IWlOIf5Gjq3iQfSIlGkwGj6wlIc2xcN\n",
       "yKNnUpH3EeQgK6tXbhMPpA26omyPw2yfrzCTTV/vP4RUD6WIOrcM20drgaL4Gsk6t1OFg1szJqVS\n",
       "KcRFDrQeOMlqCaloUggBLzjIhT7K9jhst6IrgI+XeO0gktsSpgoHt2ZcGgdsEg9kEhAPGpSDVLFo\n",
       "p/abWnHAtqfZXYpzmQAuoQtyqImolhAloSsaDm7NuESQRiKqJURxerSqeTnKIUpYgCXFSehoPf5R\n",
       "qofkIgbZ1xQRB7dmXCJIIxHVEqLo3NYXeojt84eAyLYnVm6jJHS07XGrJaQjSmJRNBzcmnGJ4PiY\n",
       "Tq/6Sk4qJF6Q1XxxCdf2tOqhFC+hI6olkBVCaLtEUr4lJPFAggF59ExKIhw2QDq9AEmFxNseL4c7\n",
       "UMawuxTn1D4uoWvqM084kEnSqJgnHkgbRJF8LBoObs24RFhwRohOL4j+IU3nNq8QQrY9ze5SI6Ej\n",
       "213KqSVAEoum3QpwkEXUuY2wvhYRB7dmXCKITGfAntswmp8wnVsphu2JfeZRND9r4y9BbN/UZw62\n",
       "PVHbuRSkFadoOLg14xJhe9wSMekgtoREOMFM1LmNopZA6/HvCla5pVTMpRgHtouIg1szLhEWHKZE\n",
       "TPWVntHXF3qQ7bsC6K3S+j6lQAkdzN+E6zMHzfn6gW24ny8aDm7NuFgtIQ1RerFGgEFWiISOuNAH\n",
       "sLvEVUuQ4Jf11P184oG0gdUSpgbQFDCpqFexwAsOcaEPU8UC9sFFsD1NX1iKYXeJVzVvqtyC/Tyy\n",
       "LcFqCVOCg1szLhF6gthqCVy7S7yFXoohrE62O72KRUss8lOEnFi4iGFqOLg14xLh4SO2JUSwu8Tc\n",
       "KiwH2CokVswjJHRZltWVZShBVqlUqge4ZNvTep2lGIdXiwhouTGpiHBrEFEWqWH3xAOZJJUKz/YR\n",
       "EotG5TbxQNoght0b/40KsiLYHljEiLBLVERAbs+koq75Ca5iMQOs6iv5OkwpJ6xOsn2AKhZxoQ9h\n",
       "99zYWXOeH2TV4nKKvrDUGCvZ7kXEwa0Zl64AmWX9xiDUQs+vpEhWS0gFcrcigK/JP68UtQQpr86S\n",
       "eCCTwC1QpgZoCphUlK2WkIQI24RSY7Ek2T7E9jhxtyJAQpcPzEkJXVeA9jO0WgJ4zhcRB7dmXCKo\n",
       "JVSslpAM5CGPCBVEYsU8gFpCU+UWNOcjXH1MLGLUE2mwrykiDm7NuESoYqGdHtjuEk/QXoqxVWi1\n",
       "hDTkt/WJiQXa9sREOkDxqIiAlhuTiggLDrJ6GEAtIe+wSbaPkFhYLSEN+Qocac5HaIMiFjF8/e7U\n",
       "AHJ7JhVdAbYKiSfHI1y/OwLtPwyR0CEX+uprBLtLLNtH6HeurVEkXxPB7kXEwa0ZlxA6tz7UlATs\n",
       "Qh/I9qTqYYSFnngznOS2hFREsHsRcXBrxiVSBRHl9AJUD/NDR9k+QAUxAwZZERZ6YoAl5XVuEw9k\n",
       "EtQ1tUFzvi61Cd4ZLSJtB7eHDx/WqlWr1NvbqxUrVujgwYOjfm7Xrl1avHixFi5cqL6+Pg0PD0/Z\n",
       "e5VKRX/2Z3+m6667Tm9605t0991366WXXmr3TzOvQs1Hkxec2kIP8nkhBO3z1X7SwaYIgvZEndsI\n",
       "F8bUqs4gs0sK1nMLsn1dpQLsa4pI28Htpk2btHHjRh06dEhbtmzRhg0bzvnM0aNHtW3bNu3fv1/9\n",
       "/f06efKkHnjggSl7b9euXfrWt76lb33rW3rqqafU1dWlT37ykxO1iXkFoZweyOtF2hqXWGoJXVZL\n",
       "SEIIrVVg36cUI5kmtoRYLWFqaGu5OXXqlA4cOKD169dLktatW6fBwUH19/c3fe6RRx7R2rVrNWvW\n",
       "LJVKJW3evFl79uyZsve+/e1v63d+53f02te+VqVSSb/3e7+nz3zmM5OzjKkTYXsc2ZbQFWCbEKqW\n",
       "ECGhaxyiTDyQNohgd6KvkWIl06iEzmoJU0Jbbm9wcFCzZ8/WtGnTJFXvRO7p6dHAwEDT5wYGBjRv\n",
       "3rz69/Pnz69/Zireu/HGG7Vv3z6dOXNGw8PD+vu//3sdO3Zs1L9haGhIZ86cafoaGRlpxwwXHFZL\n",
       "SEOEwzVWS0jHCLD/MEKvM3GXSIpRQSSqJZQD+PkiAsrpX50NGzbod3/3d3XLLbfolltuUW9vbz0A\n",
       "fyU7duzQjBkzmr4ee+yxDo+YhdUS0hChilXJ9R+WUNWU6msE25MqiBESOuLWuBRDb5V4mC/CIcoi\n",
       "0lZwO3fuXJ04cUJnz56VVD2kMzAwoJ6enqbP9fT06Pjx4/Xvjx07Vv/MVLxXKpX04Q9/WI8//ri+\n",
       "/vWv69prr9Wb3/zmUf+GrVu36vTp001fK1eubMcMFxwR1BKQTi9Q9ZBkdynGgsO+fhdsd+DWuBQj\n",
       "sSBWzSO0gxSRtoLbmTNnavny5XrooYckSXv37tWcOXO0aNGips+tW7dO+/bt07PPPqssy3T//ffr\n",
       "jjvumLL3XnzxRT333HOSpJ/85Ce677779Od//uej/g3d3d2aPn1601e5XG7HDBccER4+ptOrvtru\n",
       "nSfUQg8KskIkdMBeZylGQke8la/RDpJ4IMEYfe9+DHbu3KkNGzboox/9qKZPn67du3dLku655x6t\n",
       "XbtWa9eu1YIFC7R9+3atXr1akrRmzRpt2rRJkqbkvdOnT2vNmjXq6upSpVLRBz7wAd1+++0TNopp\n",
       "phzgFC2xghjhQFltypDsLgWzPSix6Ipkd9icj6C3Wte5Bdk+Qp95EWk7uF2yZIkeffTRc37+4IMP\n",
       "Nn3f19envr6+Uf8f5/u9K6+8Uk899dR4QzcTJEIVq1KvYiUeSBuE0FoF2l3K660GsD3I+CHsntX6\n",
       "zDl2lxpFDHLPLXG3ojZPyHYvIqDivUlFhGoK8uaaAEkF8cS+FENvtXGJQ+KBtEGtioW2O1CZRYqR\n",
       "WBA1hiOoVBQRB7dmXGL0wVVfUU4vwkE+6EJfDtDvbLWENFDVEiLorRJv5YugUlFEHNyacYlwoIys\n",
       "lkB2esReZynG4Rpi1TxCQkdtxYmgt0qsmkfQkS8iDm7NuESoYiH7D233ZESoII6QK7fgpIK7W8FP\n",
       "6NhqCVy7FxHQFDCpCNGWUK8gJh5IG4RYbGrtIKAAS4qht0rcHi8HqGIRt8alGBVE4oGyrgB95kXE\n",
       "wa0ZlxBtCcBqSohtQmCAJQVJ6IBV8wgJHXFrXMpJPpL9DdD2rtxODQ5uzbiE6P0ELvSxVCoSD6RN\n",
       "Yti++kqqmkeQvyPqC0sxEguixnAEuxcR2JJjUtAV4JAHUdw7P1aq7SvAbUKpcRiIXDVv7FYkHkgb\n",
       "RLB7bew0ndsI/c5EjWHr3E4NILdnUtGopiQeyCQgVrHyY6U6PuKhJinIqX1gQhfJ7qT+fimG7ZHt\n",
       "ZwFuhisiDm7NuFgtIQ35rXyq7YlyVFKMKhaxah7J7qQASwqiEAJWSyDbvYiApoBJRYTDNUiJmNzi\n",
       "SLU9XS2BXMUiHuaLUMUiVsyl/CUOiQcyCayWYGqAlnqTighqCUinl29LgNreldt01CSdSLaPcFsT\n",
       "8cS+FEMtgVg1j5BIFxEHt2ZcIlRuiQtOU+UWWskiHmqSYuit+vrdNBD1hSVfv5uKCGpERQS25JgU\n",
       "RKjckq/flbiOD3+gDGp3KV81TzyQNmhO6Ji2r1fMaXM+QGJRsz0psYiwvhYRkNszqYhQxWIeKAvQ\n",
       "cwtvS6AGWBI/oaPPeVKAJTXGm0HtLjXGTrJ9bc6DzV5IHNyacan5CepiIzUOSdCqKXXbQ4Msor6w\n",
       "lNNbBc95Yv9hKa8QArV9Q6Ui8UDaJMT1uxnP9hFacYqIg1szLhEePnzvJ3ShH7FaQjKIh/maKrfQ\n",
       "IIvY9ynF6P1EHhy2WsKUAFvqTQoi9B9yK4jsxILY9ynFUEuoAHs/81Vmqu2JFXOJv0skMW0fIZEu\n",
       "IrAlx6QgQnBLVEuQ+LqfxMVGitVnTqqah5C/A/b3S1ZLSEWEinkRcXBrxoVePZSYh2skvuMjbhNK\n",
       "MaopxKp5CLUE4FXfUk7yEWp3KXdpDCix6Kof5GMf5isaILdnUhGpioWtpkAXHOItWVKUtgSe7fND\n",
       "pdqeaHcp7+eZdpeY/qYcYLeiiDi4NeMS4RKHms8gOT2J3xJCvEhAahw8JFexRoC7FaVSCd/7Sdwa\n",
       "l4K0JQB3iroC9JkXEQe3Zlzo1UOJ6fQkfksI8cS+FKNyS92t4CuEQJVZ4G0J+XGTihgRbqIsIrDH\n",
       "z6QghM4tVXsSbvvaesOze61innggk6A2ZUiVW6lavZW4ts/glVuq3fM+kuRv8mOl+vki4uDWjEuE\n",
       "Xiz6rUHUjJ7ef0itYklghRB4BbF+/S7U7tiKeT64Bdm+SSEEavsi4uDWjEtXiJ5baDWFvuBQ20EC\n",
       "JHTUlhB6Mk3sdZb4feb5AgDJ9hEUQoqIg1szLvTqoZS7KcsLfUfBVszhSYUEvgYWfvUxdbeiFKS/\n",
       "X2LZ3moJU4ODWzMu9OqhBA6y4GoJxIsEJH4VSyJXEOFtCdBdoigH+SSW7a2WMDU4uDXjQq8eSuDt\n",
       "8VoVC2p76tY4PaHLsqx+oIxme3qQVbFaQhKoaglSjN3RogF7/EwK6lUs6GIjcbcK6VUsrs4tO6HL\n",
       "j5tme7z8HVSCraFzm3ggE2QEqpYgxWiDKhoObs240BcbibtFS68gYk+O09tBoCfHJX4Vi+pryvDL\n",
       "M/I95iWY7bsCtEEVDQe3ZlzoVSwpX01JPJA2aQRZiQcyQRq9zokH0iZ1hRBogJWPyWm7FXR1lrq+\n",
       "MMzu9ISOegulFOMW0KIBW3JMCuiLjcSXAqNm9HS7cyvm4LaEl1cluu151UN2EaM2X2h2l2LsjhYN\n",
       "B7dmXCI8eFRBe/yCAz3IR1dLaG5LSDiQCUA/2MRtS2AXMaj9/VL+djim7YsIzO2ZFNQCQvJz17gG\n",
       "luX4an1w2CoWVIKNXrnNB4a0OU9P6KhqCfQiBrWAIeVb/xIPJBCwx8+koAzfJowhEcO2ve3eWcht\n",
       "CfST41ZLSENDXzjxQCYAPbEoIg5uzbjQH7ymm2tgCz29glhXS6DZHa61arWEdGDbEuCtONREWooh\n",
       "t1k0HNyacYlUxcL1H9K3aKFqCfXqITTAqkCvm5b4CR01yIpSxKDZXcr7G6btiwhsyTEpwC820DvH\n",
       "Jb48D/f6XXhCB60eShFsX32l7VbQb4ajHl6V+DtFRcTBrRkXerM79c5xia+3WpcCgyUVdPm7uqA9\n",
       "0MPTT45XoBXEWiKUQe1O1ReW8oe2mbYvIkDXZzoNf6Fv/DcvuK2+UjN6rs5t9ZVud2Lltm57aOU2\n",
       "f1MWCbpKBbpyC2+DKiIObs241NUSqE4vQlsC1fbQ/sModqdVzCW+3irV9g2VisQDmSB1tQRgVENP\n",
       "6IoIcBqYToOv3OZPjrPWG3y/s9US0kDdGpfyFcTEA5kg1Ko5PaEjX+JAP1tRRBzcmnGJ4vS6Sryr\n",
       "GfG2h6slUHudqUmFZJ3bVJTg1UOq3SW+UkURgS05JgX46mGIKhbU9tA+OLoEG9XuEj+hq23r0yqI\n",
       "9OphBIUQ6hpbRBzcmnHBi6qTF/ogfXC0xIKe0FEr5hI/oaPq3NK1VsnazvSErogAXZ/pNPSs0k4v\n",
       "HdiFHm53qr6wJJXhShXU7XF6n/kIVJlFclvCVNB2cHv48GGtWrVKvb29WrFihQ4ePDjq53bt2qXF\n",
       "ixdr4cKF6uvr0/Dw8JS9V6lUdO+99+raa6/VDTfcoFtvvVX9/f3t/mnmVaA/eOTtqiiH+WgLDv06\n",
       "TKq+sMTX/KQfKIOaHX2IstESkngggWg7uN20aZM2btyoQ4cOacuWLdqwYcM5nzl69Ki2bdum/fv3\n",
       "q7+/XydPntQDDzwwZe/t27dP//Zv/6Zvf/vbevLJJ/W2t71NH/rQhyZqE/MK8r6CWMmqBeWwtUYS\n",
       "X2+VerCpBE/oyAt9w/aJBzJBGgld4oG0Cb2IQdUXlhpjpibTRaSt4PbUqVM6cOCA1q9fL0lat26d\n",
       "BgcHz6mSPvLII1q7dq1mzZqlUqmkzZs3a8+ePVP2XqlU0tDQkF588UVlWaYzZ85ozpw5k7OMqZNf\n",
       "IIlBFnmhp2+PU3s/G1qriQcyQWqBIa16KFktIRVhDlHC7C7xE4siMq2dDw8ODmr27NmaNq36z0ql\n",
       "knp6ejQwMKBFixbVPzcwMKB58+bVv58/f74GBgam7L3bb79dX/nKVzRr1ixdcskluuqqq/S1r31t\n",
       "1L9haGhIQ0NDTT8bGRlpxwwXHHlnMVLJ9JpywsFMAOpFAhJf85N6mM8LfTroCR1WLSFICxTN7hJf\n",
       "qaKIwOopo3PgwAF997vf1Y9+9CM988wzetvb3qbNmzeP+tkdO3ZoxowZTV+PPfZYh0fMIu8siM8e\n",
       "te9T4lexqFVz+uEa6ta4ZLWEVPB1bquv5ISOavsi0lZwO3fuXJ04cUJnz56VVG34HxgYUE9PT9Pn\n",
       "enp6dPz48fr3x44dq39mKt7727/9W731rW/VpZdeqq6uLr33ve/VV77ylVH/hq1bt+r06dNNXytX\n",
       "rmzHDBcc+LYEqyUkg1o1b1ziwLY7M6GrvlKrWNSqOb16GOHgsIPb80dbwe3MmTO1fPlyPfTQQ5Kk\n",
       "vXv3as6cOU0tCVK1F3ffvn169tlnlWWZ7r//ft1xxx1T9t6CBQv0L//yL3rppZckSf/4j/+o6667\n",
       "btS/obu7W9OnT2/6Kpdh++wdJr9AEh++EBIx1AUHGmTV7qfH2h1aMZcCVG6hQRa9ekitmEv8xKKI\n",
       "tN2WsHPnTu3cuVO9vb267777tHv3bknSPffco3379kmqBpvbt2/X6tWrtWjRIl1xxRXatGnTlL33\n",
       "p3/6p7r66qu1dOlS3XDDDfryl7+sT3/605O3jpHU7CyIlSxq9VDKSVIB7S5x2xJqgUmWMSWp0At9\n",
       "lIQO1vRHrx5SK+ZS3vaJBxKItg6USdKSJUv06KOPnvPzBx98sOn7vr4+9fX1jfr/ON/vdXd366//\n",
       "+q/HG7qZIHlfQVxwqAGWxK9iUSu3Ta04lUzTyqzxU+0uBWjFgVduoWbP2T3xQCZAGb5TVERguaVJ\n",
       "QalUqh82IC44bJ1b9oJTGzctryjlJgvR9rUxExO6EnzO1+ITWgWRrpaQBWg/I+4SFRUHt6YlyFuF\n",
       "9S1aoNOjLzjUqnlTKw7Q9tS+TylXxYJGt9SqeRfe7tVXWlIh8XfoioiDW9MS5IfPh2vSQe2DK9MP\n",
       "UUL7PiV+Qkft8acfaqK2g0i54hHQ1xQVoOszKcgfsKHR2BoHOz2i4ZVb6GG2zweFRNtTK+YSP6Gj\n",
       "Vs3pARb6ECU8sSgiDm5NS5BlYthOr/pK7HWWuEFWPjAh2p66NS7FSehoVfN8rzOx95O6SyRZLWEq\n",
       "gD1+JhU1f0FccNBOD5xUSNwg65VqCTSodpf4agnYhK6pzzzhQCZIJYBagiu35w8Ht6YlyAsOWiIG\n",
       "XsWintrPK4QQbU8NsKR8Qpd4IBOE2ooTp8+cZXeJvTNaVBzcmpaoP3zEhR7dlsBNKqT84ZrEA5kA\n",
       "jSt4Ew9kAtRPjsMCLCnOgTJakJVvoyDannygjH6BRhEBLjkmBeSHL8L1u0CzS2oskkjbgw95NCq3\n",
       "iQcyAch2lxqHbmlBFl3+LoPuEkmNMRN7nYsK0PWZFHShq1jgAAu8NS41Ks5o2wMzC3RbAtjuEjeZ\n",
       "7grSllCC2V3KFY+gfr6IOLg1LYFuSwAv9Pi2BLLtwdvj5ISObHeJq5bQVLkFFzGQuxVWSzjvAKeB\n",
       "SQH59hrfXJMOcu8n2fbUiwQktt0lbjLddKAMmFhQ9YUlqyVMBQ5uTUs0LnHgPXxoiRh4FYu60Ets\n",
       "YXVyr3PZaglJyA+XmFhQD/JJ/ISuiDi4NS1BfvjIaglku0vsrcIyeKuQXDEnJ3RZljVuRIT5m1Kp\n",
       "VO93JtqerJZAvx2uiACXHJMCst4q9YCHlLd74oFMEPSBMnBiEUEtgWn3xn8jgyyy7cFFDPIuUVEB\n",
       "uj6TgsbBpsQDmQAhnB5wsZF8oCwV5J7bWvsQMpHOPae0yq0El3wkn60A272oOLg1LUGWKonQi0UM\n",
       "sKQYvZ9E20ewO7m/X4ImFnXbJx7IBGAfKGPrmRcRB7emJWpqCcQKYm1Ln7jQ0zU/K+BqSglse/Ju\n",
       "RQlcxcoHt0DTo9vPGgld4oFMgHqvM3DOFxUHt6YlyA3v9YUe6PTIW+MS/JAHuHKL7jMHqyU0tSUA\n",
       "bU/ud46wQ0dMKoqKg1vTEuSHr77Qk50ecLGRuIL2Ugy1BGLllpzQ5c8kIG0PTujQbQn1G0B5di8q\n",
       "wCXHpCCGzi3X6RHVEvKOmmh7cmJB1hcm2z2f/CPnPHiHjly5Jd8AWlQc3JqW6AJvFZL7D8lqCSP0\n",
       "wzXgCmJtoQfGV+jbmvhqCdVXZnBbfSX6GnJSUVQc3JqWIB80QEvEkKtY9IU+gO1dPews5Iq55LaE\n",
       "VJDtXlQc3JqWiFBBRDo9cPWwAt+irVUQiQkdOcgiXyRATiokdmJBbksgJ9JFxcGtaQnyw0duS+gC\n",
       "b9E23dYEtH2EPnPiif2G3RMPZALU7Q5dWcl6q43KbeKBTIBGESPxQAIBfQRNp6n3YgFXnNqYget8\n",
       "iEqKxLR9yWoJSSiBW6Dqus7ECS/29niFrIpjndvzjoNb0xJkqZIKeKsQXUmBqyWQt8fJuxVku5Nb\n",
       "oCT6gTLubgVZarOoOLg1LUF++EbACz26cmu1hGSwL3GoviLtDu77lOBnK8C7FeRLkoqKg1vTEuTK\n",
       "LfkSB3IVqzZXSqXGVjOJWt8k2fZloIcnJ3Tkg3xSzvbAxMJqCSYP0PWZFJC3x2v+Aun0AlQPiXaX\n",
       "2AsOu3LLDW7JW+MSO7EgV83JB7aLioNb0xLkh4/t9KqvtnvnCbHQA4MsdEIHrphL7ISuUTVPPJAJ\n",
       "0NgZTTyQQACngUlBTV6F6PTIFUT0YlPrgQPaXWJXEMnb4+REmrw1LrFvokQndGBN7aLi4Na0BHrB\n",
       "AVdTyAcNRsABlhSjgkismpNboMh2lxpFDKS/8cFhkwO43JsUkA8ajNQPNvGcXqnEXehrQSHQ7JLo\n",
       "tq++EiuIXeBdoprdidVDqREYEi8uycC2r42ZaPei4uDWtEQEtQRiRk+W5iFrrUq5rUK07RMPZAKQ\n",
       "q1jkdhAJXsSIcIgSaPeiAnR9JgXkXiz0JQ4BFhui3SV2v3OEhZ6Y0DX6PhMPZIKQ+8zRbQng9bWo\n",
       "OLg1LUFueB+pbVchnV71lbzYEO0usSuI6IUenNDxdyu4CV0MtQSe3YsKcBqYFJTBPUGNE8yJBzIB\n",
       "0IuN1RKSQd4eL4OrWOSKuZRP6BIPZAKQ1RK6wMWjouLg1rREDLUEntOzWkI6IqglEA9RkhM6csVc\n",
       "yh3mI/obsO1duT3/OLg1LYHu/QRvj3fVF3pe1bxh98QDmSDkPjhy1ZzcDkKumEvsg01kjWGy3YsK\n",
       "dNkxnYZ8yAPt9HJjppmebHcJXrkl9x+CfU0tESJujUvsxCJCEYNo96ICdH0mBSX3YiWhqym4ZTm+\n",
       "CtjuUqPiTAyyKuDeT7bObQy1BNoukRRF5zbxQALh4Na0RK0CRFxwIqglSLysvn64Bmh3yaf2U2G7\n",
       "p4NcQUTvVoAr5kUFOA1MCsgPH1nQPr9I0hILct+nBN8eBycWDbsnHsgEoKslNM5WJB7IBEDv0Fkt\n",
       "4bwDXO5NCrrADe9op5cbMy2xIAdYEruCOAJOLMiHa8gn9iV2QkeumpPtXlQc3JqWIEuVkCWpmiq3\n",
       "sEoWuWIusfVWyQs9+VATXS0BndCBq+ZkNaKiAl12TKdpSFLxHr4MfGo/P2aa46tXsYB2l+B6q1lN\n",
       "5zbxQCZAc0LHsj1fLaH6Skws6rsVwMSC3OtcVNoObg8fPqxVq1apt7dXK1as0MGDB0f93K5du7R4\n",
       "8WItXLhQfX19Gh4enrL3du/erWXLltW/Lr/8cr3rXe9q908zY0CuYkWQiJF4ji9MWwLM7lKucgsM\n",
       "ssgJHbliLrG3x8lVc/LOaFFpO7jdtGmTNm7cqEOHDmnLli3asGHDOZ85evSotm3bpv3796u/v18n\n",
       "T57UAw88MGXvve9979MTTzxR/5o1a5b+6I/+aKI2MaPA1vysvhIXeolbQSQHWFKjnYIY3JJbcUIo\n",
       "hEDnvM9WpIHcZ15U2gpuT506pQMHDmj9+vWSpHXr1mlwcFD9/f1Nn3vkkUe0du1azZo1S6VSSZs3\n",
       "b9aePXum7L083/zmN3Xq1CmtXbu2fWuYV4W8bYKvpkATi9pUoVZua3Ynan5WwFXz/HNKM30FLEcl\n",
       "5X1N4oFMAHLlNn8TpTk/TGvnw4ODg5o9e7amTav+s1KppJ6eHg0MDGjRokX1zw0MDGjevHn17+fP\n",
       "n6+BgYEpey/Prl27dOedd+o1r3nNqH/D0NCQhoaGmn42MjLSmgEuYOq9WLTVRo2AHJjQS2qMm5ZY\n",
       "NKpYiQcyQUrgQx5kGbauAG0JxOqhBG9LqHD9Tf3iEqDdiwo0vxyd559/Xn/3d3+nu++++1U/s2PH\n",
       "Ds2YMaPp67HHHuvgKJmgnR44o5e4up/4inmAPnOi7dHyd+D+fslqCamwWsL5p63gdu7cuTpx4oTO\n",
       "nj0rqbpdNzAwoJ6enqbP9fT06Pjx4/Xvjx07Vv/MVLxX4+GHH9ab3/xmXXvtta/6N2zdulWnT59u\n",
       "+lq5cmU7ZrggIR+uwZ/ahzo+cg+cxE7o0As9WS0B399ffaXZXcrtVgATi1oylGXMNqgi0lZwO3Pm\n",
       "TC1fvlwPPfSQJGnv3r2aM2dOU0uCVO3F3bdvn5599lllWab7779fd9xxx5S9V2PXrl1jVm0lqbu7\n",
       "W9OnT2/6KpfL7ZjhgoR6qEkKcGof2u9MPtQksatY5Kp5fsg025PtLnF9jcT2N2XwbkVRabstYefO\n",
       "ndq5c6d6e3t13333affu3ZKke+65R/v27ZMkLViwQNu3b9fq1au1aNEiXXHFFdq0adOUvSdJP/jB\n",
       "D/TEE0/oPe95z+QsYkaFfNCgtj4SnZ7ETSyiqCUQq1gj4INNpVIJ24NIrphL3F0iib1T1CT5CLR9\n",
       "EWnrQJkkLVmyRI8++ug5P3/wwQebvu/r61NfX9+o/4+peG/JkiX6xS9+MdbQzSRAZ/RgpydxW0Lw\n",
       "FfMAC30JOufLXSVVRjKc7Ru9zokHMkFqc56WVOTHSyxikG+iLCrQR9B0mnoVC7bYSOzDNRJXb5Vf\n",
       "uWUmFRLf9tSELkxbAszP58dLnPPki0uKioNb0xLUxUbKqSUAnZ6U11tNPJA2qU0V6kJf7mLaXbLt\n",
       "U1HXdob7GpqbzxdduoBRTX7MxAJSEQFOA5MCcnDL17mFVlOi2J0456O0hMBsj++5hfaZ57fyibbP\n",
       "j5lm+6Li4Na0BPVQkxRH55a20OPtDk0qpAhtCdVXmu3DtCXAfE1TWwLQ9lZLOP84uDUtQa2kSBF6\n",
       "bpmJBV5fGFrFkvKV28QDmSBUjWF85Raa0OXXJaLtrZZw/oG6PtNp6tVD4HPHV0uovtISizBb47DF\n",
       "JsuyhvwddM6XoQebGpXbxAOZINSkgq6WIHFvoiwq0EfQdBpyFSvK4Rqa7elb49R2kJEACz11pyjO\n",
       "9buJB9Im+SQIanps1byoOLg1LVHXPwQ+eHS1BGoFceTlCgR1oce2g+TGS9a5lXhVrBG8r6m+UhPp\n",
       "rhJ3zneBC0hFxMGtaQlqFUvKV1MSD2SCUG1PviVL4lYP8wEhvnILSyzoB8r4voZpdylXuYXZvqhA\n",
       "lx3TacoRKrdQx0fV/MzgVaxG5TbxQNok/4zybc8yPl3ntst2TwbV9kXFwa1pCbTmJ/xAGdX29Ctg\n",
       "qVu0Tf2HUA9Ptz3V11CLGBW4j5fYrX9FBOr6TKehVrGyLMNn9WWo5id9q5C+NS5xK7dUvVW6WgLV\n",
       "7nS5RynfEpJ4IEGAPoKm09ScNc3p5YdLdXx4tQTbvaNEUEugnhynqyWU4WoJULNL4vb4FxUHt6Yl\n",
       "qA/eSIQqFnahr75SK+b1KhbN7lnj2mNqS4jVEtJATejoibSUk9uE+Zui4uDWtAT3gAe//5B6grkC\n",
       "V0tonF5OPJA2qQWE1ABL4iZ09CAL25YAb4GSrJZwvoEuO6bTUJvdm06OQx0fNbHgX7/LrGLRb4aT\n",
       "yLavvlJ3K/DtIFC7S9ydoqLi4Na0BLXZnX7nuJRvCUk8kDahB1n06iHU7JK4FUR85RaqUlHfrYDa\n",
       "XeImdEXFwa1pCWr1MIKgPdXpRbl+l2Z3esVcAiuEwA+UUauHdAk2yW0J5xsHt6Ylar6a9uA13znO\n",
       "dHz1agpswangK7fVV9u989Se1Yxqe6jpGzq3iQfSJo05n3ggk6BU9zdpxxEF8FQwnaTecwt78prb\n",
       "EhIOZBJQt8etlpAG+o18Ur4tIfFA2qRitYQk0HeJJO7uaFFxcGtaogxf6LtCyCIxbU9XS8DJUQVQ\n",
       "S8AfbIImFtReZ7rdJa7cZlGBLjum01AfvAg31+AXHGiQRZVgi7DQUxO6mloCNbGgXr9L1xeWuAWk\n",
       "ouLg1rQEdcuEHmBJ/FuDqIkFtR2EvjUucRM6vFoC9SZKqyWYV+Dg1rREI7hNPJA2qcUldnqdh77Q\n",
       "U+0eYbfCaglpwLaDBFBLoO6OFhUHt6YlqA9ehO0qagWRXjWv9Qrj7J67fpcKNrGA+5suqN3pibTE\n",
       "3R0tKg5uTUvknQbJ8dErKVIuyALZXeKf2qcmdBEWempC17B94oFMEKrdQ/h56GU9RQX6CJpOk69E\n",
       "kBwfPcCSGmPnaX5WX6lVrIbdEw+kTeh2l7htUBX49nijYp54IG3S6DNPPJBJUOt3duX2/ODg1rRE\n",
       "KTdTSJWsxtZ44oFMghI0o6/ZHrrOYyu3EapYWF3tl4eLDW6hagn0pELKzXmY7YuKg1vTEvkqEOnh\n",
       "o/d9StxDHvSqOf4SB/Cct1pCGqhqCfULY6B2l7jSg0XFwa1pibyzJj189ABLAh+ugS/0ZWr1MEDl\n",
       "tra9TEqkJb7tqYea6Af5JO5OUVFxcGtaIl/5JPVjRajc4g95QG3fBVdLoB5qksCVW3iQVYYGWPSK\n",
       "ucRNLIoK2P2ZTtJUuQU9fDEqt9VXWgWRbvvaQp9lrMN89YUeGmBJ3FacRuU28UAmCDWpoFfMpXzl\n",
       "NvFAggB9BE2nyfsMUmZZPzlOdnr0BQcaZFFbcSIs9NhWnCCVW5jZc3ZPPJBJQNXVLioObk1LlEql\n",
       "eoBLWnAiqCVgq1jwxKILvltBTSqkfEKXeCBtQt8ep/Z90u0ucRO6ouLg1rRM/TQnaaEP5PRAZpfU\n",
       "2Mqn9n7mq28k24fQuYXKItVsT62aU7VW63YHz3lLgZ1foMuOSUEJmNVHuHOcaHcpr3PLtH1+zpBs\n",
       "T+/7lBo7LbSFPkorDs7uAfw8tWpeVMDuz3SahjRS4oG0AX2xkcBtCfCDTfngkGR7+kE+idtnbrWE\n",
       "NETaoaMlFkXFwa1pGWRbQoCF3moJaWi6uARkeyd06aBXzbvqARZLISTCIUqrJZxfoI+gSUHNb5Cy\n",
       "+gg311CrWPQgi66WQE0qJO7hmlAJHcj0lUBqCa7cnh8c3JqWIW6bNLbGEw9kElCrWHQZtlKppNpa\n",
       "T7I9fWtc4qol8Ftx2AkduYjh63fPLw5uTcsQg9sMXkmRuFWsRgUx8UAmAbPPvPqKXuihJ8fpQVbe\n",
       "T5JsT9cXlnyg7HwDXnZMpyE+fKFO0XLMLonfliDlKojAhR4aX0nituLQZdjyc4Zkex8oM6/Ewa1p\n",
       "mUYFMfFA2iBU/yHM6YWompd4VfNQdofNeXrPbVeJWbml6wtL1rk93zi4NS3TBez9DHFbE/BmOClK\n",
       "1bz6SlpwQlTMgXaX8trOiQcyQZraEoBFDHBsa7WE84yDW9MyNXkb0nZVhP5D6hZt3fbUlV5M20fY\n",
       "rSDaXeJXbvPtFMQiBrUdRLJawvnGwa1pGeJWYSWQWgLJ7hJ/oZeYLSExFnpmFctqCWmgH+STuAld\n",
       "UXFwa1qG+PCNBAiwiHaXYqklkIKsCLsVxIQuy7IQvZ/EhC6CWgL1drii0vayc/jwYa1atUq9vb1a\n",
       "sWKFDh48OOrndu3apcWLF2vhwoXq6+vT8PDwlL73ne98R2vWrNE111yja665Rp///Ofb/dPMOBAP\n",
       "10ToPyxD1RIqAWxPTCwiVG6Zdm/8N9n2xCDLagnmlbQd3G7atEkbN27UoUOHtGXLFm3YsOGczxw9\n",
       "elTbtm3T/v371d/fr5MnT+qBBx6YsvdeeOEFvfOd79RHPvIRPfXUU/rud7+rt7zlLRO1iXkVfP1u\n",
       "GrA6txFsD6wgRtiirbURkXxNPhgk295nK9JAlNosMm0Ft6dOndKBAwe0fv16SdK6des0ODio/v7+\n",
       "ps898sgjWrt2rWbNmqVSqaTNmzdrz549U/beZz/7Wd100026+eabJUnlcllXXHHFJMxiRqMhVZJ4\n",
       "IG1QCbDQE6tYUpCqOdD2IdpBgAldPgFyQtdZIuxWuHJ7fmnL/Q0ODmr27NmaNm2apOr1lD09PRoY\n",
       "GGj63MDAgObNm1f/fv78+fXPTMV73/ve99Td3a13vOMdWrZsme666y79+Mc/HvVvGBoa0pkzZ5q+\n",
       "RkZG2jHDBQtxwalt5aOdHlCCTYpRNa9XsUC2DyF/B04qJLa/IVYQQ+xWAOd8kQHn9g3Onj2rf/7n\n",
       "f9bOnTv1+OOP66qrrtIf//Efj/rZHTt2aMaMGU1fjz32WIdHzKTmN0gPX6PvM/FAJkFt7BkowJJy\n",
       "wuoBFnqS7UMEt8RdotwcAZu+HiASbU/287U5Q7J7kWkruJ07d65OnDihs2fPSqo6/IGBAfX09DR9\n",
       "rqenR8ePH69/f+zYsfpnpuq9W2+9VVdddZVKpZLWr1+vb3zjG6P+DVu3btXp06ebvlauXNmOGS5Y\n",
       "0FeRgr0esYol5aspiQcyCchqCeSKOXJrPDdH0LYHbo+HaEsAHtguMm0tOzNnztTy5cv10EMPSZL2\n",
       "7t2rOXPmaNGiRU2fW7dunfbt26dnn31WWZbp/vvv1x133DFl77373e/Wv//7v+vMmTOSpC996Uta\n",
       "unTpqH9Dd3e3pk+f3vRVLpfbMcMFC/Hho+tOSky1hEqULVpgYhGjHYRn93zSj57zbktIAvHAdpGZ\n",
       "1u4/2LlzpzZs2KCPfvSjmj59unbv3i1Juueee7R27VqtXbtWCxYs0Pbt27V69WpJ0po1a7Rp0yZJ\n",
       "mpL3enp69KEPfUirVq1SV1eXrrrqqrqSgjl/ECu3oSRiSIuND9ckI8ZBvuor0e4SPciqvrKC2+or\n",
       "2dcQk4oi03Zwu2TJEj366KPn/PzBBx9s+r6vr099fX2j/j+m4r0777xTd95551hDN5OEqH/otoQ0\n",
       "RFnoybYnqyUQF/oIFXOJmdCFaEsAtoMUGbD7M52G+PBVArUloOweZIu2DFZLYNudF9xGaIGS2Amd\n",
       "E2lTw8GtaZn6KVrQ4ZqanyBXU5ii6sHaEoC2Jy/0xIQuwgFKiVnEaFy/m3ggk4B4eLXIwB9D00mQ\n",
       "twYFkEUi6tzmEyCy7YnVlBBSYGC74yu3wCArxtmK6ispqSgyDm5NyxAPNlUC9B/W7E7yefFua0o8\n",
       "kDaoBDhcg7R7TdcZbHepoRVLCrIqEc5WAHcrigx4yTedpgSsIEY4OV4CHq7JzxHweoNccCLsVnQB\n",
       "q1gRfI3ELGLUqsxk2xMPURYZB7emZZD9hwEyeuLhmtocKZUawTkRYr9zhN0K4kIfRS2hC1jEiNAS\n",
       "Qux1LjJg92c6DTnIQjs9cPWQbHeJueBEqNwSfU20yi3S9uDEgthnXmQc3JqWaVzikHggbRChckus\n",
       "HkZYbCRmBXEkwuEaYkIXoGIuMRO6RtU88UAmQWNnNPFAggCeCqbT1NQSUG0JtcM14GoKcrEJYHeJ\n",
       "WcWKsD1OrGJF2BqXmGoJEarmRE3tIuPg1rQM+/rdxAOZBOSb4cgBlsSuILIXep5aQpTdCmJCF2G3\n",
       "grhLVGTAS77pNMSFPoREDHixAZtdUt72iQfSBiMBpMCIC32EirnE9vPkqjlxh67IOLg1LYOUiIng\n",
       "9Eo8ndvMC30ysoyfWBAX+vptiGBfI1UVTiSm7SMUMUh2LzIObk3LlIC9WJUAW7REaZ4IJ/YlqN5q\n",
       "ANvXLxIgJdI5+Tsy5LYE9pznra9FxsGtaRliw/tIiIy++opcbMB2l5jb46H6D0G+JsIVsBK1ah7n\n",
       "bAUpoSsy4KlgOg3x4Wvo3CYeyCRALjZWS0hGhN7PMrHXOUDFXGJWEENUboHFoyLj4Na0DFEtIUIV\n",
       "y2oJ6SD23EZY6IkJXQRfI0HPVgSwPbF4VGQc3JqWIT58MS5xaMgiZZDFvtGWkHggk4SollCxWkIS\n",
       "IlTMJWhLSISDw8DiUZGBLz2mkyC3aANdvytxdD8jLDYStHIbYHucWT2svpLtLuXOVqBsH6eIQbJ7\n",
       "kXFwa1omX0GkEEnnVuI4vgiLjcRccCJt0ZKqWBHsLjFbQuoybGDbE3dGi4yDW9MyzCpW9ZVcQcw7\n",
       "bIrtw1RugVJgEXRuiRJsWZA5XwIGWZVIuxUcsxcaB7emZWqLJamKVQnQ+5kPUiiLfSXIFm0XcKEP\n",
       "0Wdet3vigbRBze7wKZ+rmiceSBtEuBGxNm9IuxVFBrzkm05DVksgB1n5sVMSiwgBlsQ8XDMSQIaN\n",
       "eLgmXFsCxNdIMTSGiXYvMg5uTcsQe4IiSFI1tSVAKlmNxSbxQCYJUW81wkJvtYR0IBO6CG0JQLsX\n",
       "GfjSYzoJ8XBNNLUEiuMbCWB3iXm4JsRC35TQMWxvtYR0jESQvwOur0XGwa1pGeRWYYDtcaRaQgC7\n",
       "S9AKYoDKLTGhi2B3ibk9HqFqTtwZLTIObk3LEB++CJVbiVdBjGP36ispuG204iQeyCTIHwCl2D5C\n",
       "xVyCtiUEOFtBLB4VGbD7M52mcaAs8UDaIELPrcS7gjdK5RYpfxdooZc4th8J1meOLGKA/U1dRx7U\n",
       "319k4I+h6STll/0GZbGRcpJUYKcn8XQ/66Lq4ABLyl9cwrC7JNWGSg5u82OnxFhZkES6LsMGsbsU\n",
       "Q1ebmEgXGQe3pmW6iBl9AEF7iaf7GUFfWMr33CYeSBtEkKRCyt9Vajq3XLtL0LaEABrDdR15kN2L\n",
       "DHzpMZ2EeLgmzKl92IITYWtcYm7RRuj9RKolBNmtqN/KB7G71Ej60Qndy2PPssYugJk4Dm5Ny9AO\n",
       "NUlxej9pMjFRep2JVawQ/Ye5oVNsH8HuEs/XSDH8TRm4W1FkHNyalqEdapLiLDi0xCKaWgKpihVB\n",
       "LaFUKtUDXIrtI1TMJd4ukRRjp6hJ8hFk+6ICdn+m05DVEshOT+K1hISpmHuhTwZNGslqCWnIj5Nc\n",
       "xCDeRFlk4I+h6STEKlaEXiyJp7cap3LLSiqkOLsVtIQunN0pSUVunGR/Q7y4pMg4uDUtQ1tspHgH\n",
       "yihtCRFO7Eu8dhApzm5Fo4KYeCAtEs3uFIWQ/HpEVmchXlxSZMBTwXQa4kJflwKDz3TaIY9a60qY\n",
       "tgSI3aVAuxWwCmKUyi2uLSEL0paQ13aG2L7IwJd800m6YNVDKa9zy3V6Ek9YPavbPfFAJgnN7lKc\n",
       "OV8bPsXf1OaI7d5Z8s8m2fbNF5cwbF9kHNyaliFWsbw9noYw7SDAPvORILsVtApimLYEWMW8qS0B\n",
       "bHurJZxf4O7PdJIyUS0hyMnx+u01tIUenlTQDtdkWVa/fpefWLBsX7FaQhKiqCVIvD7zIgN/DE0n\n",
       "IVaxakON4/QYtrdaQhpGAi30tJ2ieiIdxe4MszclP3DT46rmRcbBrWkZ2mIjxdkep1UQayet6Qs9\n",
       "rh0kv9BHsT2kilW/PAPua6iJdFepevkHmS5gAamoOLg1LUNb6KV4/YeUxCLCLVkSL6HLB4L0IIuW\n",
       "0EVRS+Aps8Swu8S8BbSowJce00mID16UBYeWWERrS6BVD6U4c57ib3ygLA1RzlVI+VtAGbYvMg5u\n",
       "TcsQH7woW4WNCmLigbSID5SlIcrJcYmX0I1E0ReGbY1H0XWWeC0hRcbBrWmZ2oMHWWuaTo7Tgyza\n",
       "Ql8JklTQ7J4FOlxTGz9loc+CbI/X+lYpcz6Kr5HyN1EmHkgAHNyalqHJUUUR95Z4C30lzMnx6ivF\n",
       "7iHVEiBBVs32cFeTa0tIPJAWqc0Put2lRmJBWWOLjINb0zK0wzVNCz3c8/EW+uorPqmAteLkF3r6\n",
       "yXFqvzPd19C2xqOcq5ByLSEQf1Nk2g5uDx8+rFWrVqm3t1crVqzQwYMHR/3crl27tHjxYi1cuFB9\n",
       "fX0aHh6esve++tWv6qKLLtKyZcvqX7/61a/a/dPMONC2aPPjtFpCZ6kEUUsow3qd6/2H8ABL4iV0\n",
       "UYIsqyWkg3hou6i0vfRs2rRJGzdu1KFDh7RlyxZt2LDhnM8cPXpU27Zt0/79+9Xf36+TJ0/qgQce\n",
       "mLL3JGnJkiV64okn6l8XXXTRROxhxgBduYU7PlpiEUVfmFbFinKQTyLavvpK362wWkI6aDtFRaat\n",
       "4PbUqVM6cOCA1q9fL0lat26dBgcH1d/f3/S5Rx55RGvXrtWsWbNUKpW0efNm7dmzZ8reM50BF2A1\n",
       "Ha5hOz6rJaQBWz2Ez3eJV0GMUrm1WkI6aAldkZnWzocHBwc1e/ZsTZtW/WelUkk9PT0aGBjQokWL\n",
       "6p8bGBjQvHnz6t/Pnz9fAwMDU/aeJB05ckTLly9XuVzW+973Pv3Jn/zJqH/D0NCQhoaGmn42MjLS\n",
       "jhkuWGoP3s9fGNb//umvJx7N+JwNWLn97/9yWH/32MA4n07PsZ++IIkfZNXsPvizFxBzfuhsdaWn\n",
       "z3dJKr/8J+z4f57S/V87knYwLdD/419KipPQPXXiDGLO/3LorCR+AUNq+Mv/8wvf1SWvays8S8q9\n",
       "t/Vq1aLLUw+jCY71xmD58uV6+umnNWPGDD399NN6+9vfrssvv1zvfve7z/nsjh07tH379qaf3XTT\n",
       "TZ0aKprLL+7Wa8olDY9kOnD8udTDaZkrLunWNPiCM3vG6yRVg8Za4Ehg9qXs9qCa3YfOVlBzvjZu\n",
       "MrMvvUga+LmO/Ph5Sc+nHk7L/Drc9r/+8jP7/EsjqDn/65ey7S5Vbf/DnzyvH5z8ReqhtMVzLwyP\n",
       "/6EO01ZwO3fuXJ04cUJnz57VtGnTlGWZBgYG1NPT0/S5np4eHTnSyLSPHTtW/8xUvDd9+vT6z+fM\n",
       "maM//MM/1P79+0cNbrdu3ap777236Wfbtm1rxwwXLJe94bX60vvfoiMvVygoXD/nUvzJ8b/8j9fq\n",
       "rW+aqWFKX4Kk6a97jf7DgjemHsakmHvZ6/XF99+swZ9xEgpJWj7v11IPYdL8l3U36PeXXaURilyC\n",
       "pMve0K0V89m2v+6qGfqHP12tE6dJh7JLWnn1ZakHMWn++3/6DX3z6M+a9KoJLJ17aeohnEvWJrfc\n",
       "cku2e/fuLMuy7OGHH85uvPHGcz5z5MiRbPbs2dmJEyeySqWS3X777dmnPvWpKXvvmWeeyUZGRrIs\n",
       "y7IzZ85kq1atynbt2tXy3/TBD36wXTMYY4wxxpgC0rZaws6dO7Vz50719vbqvvvu0+7duyVJ99xz\n",
       "j/bt2ydJWrBggbZv367Vq1dr0aJFuuKKK7Rp06Ype2/v3r26/vrrtXTpUt1000267bbb9L73vW/y\n",
       "kb8xxhhjjEFRyjJY/XsKuPfee/Xxj3889TCMMcYYY8wkgUusG2OMMcYY08DBrTHGGGOMCYODW2OM\n",
       "McYYEwYHt8YYY4wxJgwObo0xxhhjTBgc3BpjjDHGmDA4uDXGGGOMMWFwcGuMMcYYY8Lg4NYYY4wx\n",
       "xoTBN5RJete73qX58+d37PeNjIzoscce08qVK1Uulzv2e+nYbhPHtps4tt3Ese0mhu02cWy7iUOw\n",
       "3bx58/SBD3xg3M85uE3AmTNnNGPGDJ0+fVrTp09PPRwMttvEse0mjm03cWy7iWG7TRzbbuJEsp3b\n",
       "EowxxhhjTBgc3BpjjDHGmDA4uDXGGGOMMWFwcJuA7u5u/dVf/ZW6u7tTDwWF7TZxbLuJY9tNHNtu\n",
       "YthuE8e2mziRbOcDZcYYY4wxJgyu3BpjjDHGmDA4uDXGGGOMMWFwcGuMMcYYY8Lg4LbDHD58WKtW\n",
       "rVJvb69WrFihgwcPph5SIXnxxRf1+7//++rt7dXSpUt12223qb+/X5K0Zs0aXX311Vq2bJmWLVum\n",
       "T3ziE4lHWzzmz5+vJUuW1G30uc99TpLn33j89Kc/rdts2bJl6u3t1bRp0/Szn/3M8+4VvP/979f8\n",
       "+fNVKpX0xBNP1H8+1hzz/Ksymu3G8nmS/V6NV5t3r+bzJM87aXS7jeXvJPicy0xHufXWW7Pdu3dn\n",
       "WZZlDz/8cPabv/mbaQdUUH71q19lX/ziF7NKpZJlWZZ96lOfym655ZYsy7Lslltuyb7whS+kGxyA\n",
       "efPmZY8//vg5P/f8a4+Pfexj2Tve8Y4syzzvXsnXvva1bHBw8Jy5NtYc8/yrMprtxvJ5Web5V+PV\n",
       "5t2r+bws87zLsle3W568v8sy9pxz5baDnDp1SgcOHND69eslSevWrdPg4GBTdm6qvO51r9Pb3/52\n",
       "lUolSdJNN92kY8eOpR0UHM+/9tm1a5fuvvvu1MMoJL/927+tOXPmNP1srDnm+ddgNNvZ57XGaLYb\n",
       "C8+7Kq3YLZK/c3DbQQYHBzV79mxNmzZNklQqldTT06OBgYHEIys+n/zkJ/XOd76z/v1f/MVf6Prr\n",
       "r9d73vMe/fCHP0w4suJy11136frrr9fdd9+tH//4x55/bfL1r39dzz33nN7xjnfUf+Z5NzZjzTHP\n",
       "v/Z4pc+TPP/G45U+T/K62yqj+TuJO+cc3JrC89GPflT9/f3asWOHJOkzn/mMvv/97+vJJ5/UW97y\n",
       "lnMeRiP967/+q5588kl961vf0uWXX673vve9qYeEY9euXbrrrrvqi6LnnekUr/R5kuffeNjnTY5X\n",
       "+jsJPudS90VcSJw8eTK75JJLsuHh4SzLsqxSqWRXXnlldvjw4cQjKy4f+9jHshtvvDF77rnnXvUz\n",
       "3d3d2U9+8pPODQrGM888k1188cWef23wi1/8Irv44ouzp5566lU/43lXJd/DN9Yc8/w7l9H6H1vx\n",
       "eVnm+TdW72jN52WZ191XMprdWvF3Wcaac67cdpCZM2dq+fLleuihhyRJe/fu1Zw5c7Ro0aLEIysm\n",
       "H//4x7Vnzx790z/9ky699FJJ0tmzZ3Xy5Mn6Z/bu3asrr7xSb3zjGxONsng8//zz+vnPf17/fs+e\n",
       "PfqN3/gNz782+NznPqelS5fqTW96kyTPu1YZa455/o3PaD5P8vwbj1fzeZLX3VZ4pb+TAsy51NH1\n",
       "hcb3v//97KabbsoWL16c3XjjjdmTTz6ZekiFZHBwMJOULViwIFu6dGm2dOnSbOXKldkvf/nL7MYb\n",
       "b8yuu+667IYbbsje+ta3Zk888UTq4RaKI0eOZMuWLcuuv/767LrrrsvWrl2bHT16NMsyz79W+a3f\n",
       "+q3sb/7mb+rfe96dy8aNG7OrrroqK5fL2cyZM7OFCxdmWTb2HPP8qzKa7V7N52WZ51+e0Ww3ls/L\n",
       "Ms+7LHv15zXLzvV3Wcafc6Usy7LUAbYxxhhjjDHnA7clGGOMMcaYMDi4NcYYY4wxYXBwa4wxxhhj\n",
       "wuDg1hhjjDHGhMHBrTHGGGOMCYODW2OMMcYYEwYHt8YYY4wxJgwObo0xxhhjTBgc3BpjjDHGmDA4\n",
       "uDXGGGOMMWFwcGuMMcYYY8Lw/wM1nrGGVtG8/AAAAABJRU5ErkJggg==\n",
       "\">\n",
       "      </div>\n",
       "      <script type=\"text/javascript\">\n",
       "        (() => {\n",
       "          const chartElement = document.getElementById(\"chart-e5cc2cda-3a38-4b7f-bf6e-ebb7528e9a0d\");\n",
       "          async function getCodeForChartHandler(event) {\n",
       "            const chartCodeResponse =  await google.colab.kernel.invokeFunction(\n",
       "                'getCodeForChart', [\"chart-e5cc2cda-3a38-4b7f-bf6e-ebb7528e9a0d\"], {});\n",
       "            const responseJson = chartCodeResponse.data['application/json'];\n",
       "            await google.colab.notebook.addCell(responseJson.code, 'code');\n",
       "          }\n",
       "          chartElement.onclick = getCodeForChartHandler;\n",
       "        })();\n",
       "      </script>\n",
       "      <style>\n",
       "        .colab-quickchart-chart-with-code  {\n",
       "            display: block;\n",
       "            float: left;\n",
       "            border: 1px solid transparent;\n",
       "        }\n",
       "\n",
       "        .colab-quickchart-chart-with-code:hover {\n",
       "            cursor: pointer;\n",
       "            border: 1px solid #aaa;\n",
       "        }\n",
       "      </style>"
      ],
      "text/plain": [
       "from matplotlib import pyplot as plt\n",
       "df_grid_search['lr'].plot(kind='line', figsize=(8, 4), title='lr')\n",
       "plt.gca().spines[['top', 'right']].set_visible(False)"
      ]
     },
     "metadata": {},
     "output_type": "display_data"
    }
   ],
   "source": [
    "df_grid_search"
   ]
  },
  {
   "cell_type": "code",
   "execution_count": null,
   "metadata": {
    "colab": {
     "base_uri": "https://localhost:8080/"
    },
    "id": "jFLmnvRmuDBl",
    "outputId": "99c2bb12-64ef-4be7-88ae-335ed64aa517"
   },
   "outputs": [
    {
     "name": "stdout",
     "output_type": "stream",
     "text": [
      "Total Sweeps: 12\n",
      "Available Sweeps:\n",
      " ['dNone_wd0.0_lr0.0001' 'dNone_wd0.0_lr5e-05' 'dNone_wd0.0001_lr0.0001'\n",
      " 'dNone_wd0.0001_lr5e-05' 'd0.2_wd0.0_lr0.0001' 'd0.2_wd0.0_lr5e-05'\n",
      " 'd0.2_wd0.0001_lr0.0001' 'd0.2_wd0.0001_lr5e-05' 'd0.5_wd0.0_lr0.0001'\n",
      " 'd0.5_wd0.0_lr5e-05' 'd0.5_wd0.0001_lr0.0001' 'd0.5_wd0.0001_lr5e-05']\n"
     ]
    }
   ],
   "source": [
    "# see unique sweep IDs\n",
    "sweep_ids = df_grid_search['sweep_id'].unique()\n",
    "print(f\"Total Sweeps: {len(sweep_ids)}\")\n",
    "print(\"Available Sweeps:\\n\", sweep_ids)\n",
    "\n",
    "# function to display a specific sweep's metrics\n",
    "def view_sweep(sweep_index):\n",
    "    sweep_id = sweep_ids[sweep_index]\n",
    "    sweep_df = df_grid_search[df_grid_search['sweep_id'] == sweep_id].reset_index(drop=True)\n",
    "    print(f\"\\n--- Sweep {sweep_index} → {sweep_id} ---\")\n",
    "    display(sweep_df[['epoch', 'train_loss', 'train_acc', 'train_auc', 'test_loss', 'test_acc', 'test_auc']])"
   ]
  },
  {
   "cell_type": "code",
   "execution_count": null,
   "metadata": {
    "colab": {
     "base_uri": "https://localhost:8080/",
     "height": 555
    },
    "id": "rbqXahBIwnOm",
    "outputId": "d4b0443e-8bf4-4a84-e689-339d2233db48"
   },
   "outputs": [
    {
     "name": "stdout",
     "output_type": "stream",
     "text": [
      "\n",
      "--- Sweep 11 → d0.5_wd0.0001_lr5e-05 ---\n"
     ]
    },
    {
     "data": {
      "application/vnd.google.colaboratory.intrinsic+json": {
       "summary": "{\n  \"name\": \"view_sweep(11)\",\n  \"rows\": 15,\n  \"fields\": [\n    {\n      \"column\": \"epoch\",\n      \"properties\": {\n        \"dtype\": \"number\",\n        \"std\": 4,\n        \"min\": 1,\n        \"max\": 15,\n        \"num_unique_values\": 15,\n        \"samples\": [\n          10,\n          12,\n          1\n        ],\n        \"semantic_type\": \"\",\n        \"description\": \"\"\n      }\n    },\n    {\n      \"column\": \"train_loss\",\n      \"properties\": {\n        \"dtype\": \"number\",\n        \"std\": 0.12437243438502667,\n        \"min\": 1.6291211768984795,\n        \"max\": 2.0179673896895514,\n        \"num_unique_values\": 15,\n        \"samples\": [\n          1.7433504983782768,\n          1.6899965811106894,\n          2.0179673896895514\n        ],\n        \"semantic_type\": \"\",\n        \"description\": \"\"\n      }\n    },\n    {\n      \"column\": \"train_acc\",\n      \"properties\": {\n        \"dtype\": \"number\",\n        \"std\": 0.0810562758633355,\n        \"min\": 0.20279720279720279,\n        \"max\": 0.48951048951048953,\n        \"num_unique_values\": 13,\n        \"samples\": [\n          0.44755244755244755,\n          0.45104895104895104,\n          0.20279720279720279\n        ],\n        \"semantic_type\": \"\",\n        \"description\": \"\"\n      }\n    },\n    {\n      \"column\": \"train_auc\",\n      \"properties\": {\n        \"dtype\": \"number\",\n        \"std\": 0.056715758658587294,\n        \"min\": 0.6416832445540803,\n        \"max\": 0.8247054434406924,\n        \"num_unique_values\": 15,\n        \"samples\": [\n          0.7842874803017992,\n          0.8110773376181342,\n          0.6416832445540803\n        ],\n        \"semantic_type\": \"\",\n        \"description\": \"\"\n      }\n    },\n    {\n      \"column\": \"test_loss\",\n      \"properties\": {\n        \"dtype\": \"number\",\n        \"std\": 0.05792396076322266,\n        \"min\": 1.9541305093204273,\n        \"max\": 2.152818343218635,\n        \"num_unique_values\": 15,\n        \"samples\": [\n          2.036365677328671,\n          1.999039748135735,\n          2.152818343218635\n        ],\n        \"semantic_type\": \"\",\n        \"description\": \"\"\n      }\n    },\n    {\n      \"column\": \"test_acc\",\n      \"properties\": {\n        \"dtype\": \"number\",\n        \"std\": 0.06302240116614193,\n        \"min\": 0.09230769230769231,\n        \"max\": 0.3230769230769231,\n        \"num_unique_values\": 11,\n        \"samples\": [\n          0.2,\n          0.09230769230769231,\n          0.23076923076923078\n        ],\n        \"semantic_type\": \"\",\n        \"description\": \"\"\n      }\n    },\n    {\n      \"column\": \"test_auc\",\n      \"properties\": {\n        \"dtype\": \"number\",\n        \"std\": 0.04270237775248646,\n        \"min\": 0.4900821454295563,\n        \"max\": 0.6468942612518589,\n        \"num_unique_values\": 15,\n        \"samples\": [\n          0.6414693160075163,\n          0.6163208200731545,\n          0.4900821454295563\n        ],\n        \"semantic_type\": \"\",\n        \"description\": \"\"\n      }\n    }\n  ]\n}",
       "type": "dataframe"
      },
      "text/html": [
       "\n",
       "  <div id=\"df-ccf99bea-8f5a-4e66-abc4-9914b073cb24\" class=\"colab-df-container\">\n",
       "    <div>\n",
       "<style scoped>\n",
       "    .dataframe tbody tr th:only-of-type {\n",
       "        vertical-align: middle;\n",
       "    }\n",
       "\n",
       "    .dataframe tbody tr th {\n",
       "        vertical-align: top;\n",
       "    }\n",
       "\n",
       "    .dataframe thead th {\n",
       "        text-align: right;\n",
       "    }\n",
       "</style>\n",
       "<table border=\"1\" class=\"dataframe\">\n",
       "  <thead>\n",
       "    <tr style=\"text-align: right;\">\n",
       "      <th></th>\n",
       "      <th>epoch</th>\n",
       "      <th>train_loss</th>\n",
       "      <th>train_acc</th>\n",
       "      <th>train_auc</th>\n",
       "      <th>test_loss</th>\n",
       "      <th>test_acc</th>\n",
       "      <th>test_auc</th>\n",
       "    </tr>\n",
       "  </thead>\n",
       "  <tbody>\n",
       "    <tr>\n",
       "      <th>0</th>\n",
       "      <td>1</td>\n",
       "      <td>2.017967</td>\n",
       "      <td>0.202797</td>\n",
       "      <td>0.641683</td>\n",
       "      <td>2.152818</td>\n",
       "      <td>0.092308</td>\n",
       "      <td>0.490082</td>\n",
       "    </tr>\n",
       "    <tr>\n",
       "      <th>1</th>\n",
       "      <td>2</td>\n",
       "      <td>1.972486</td>\n",
       "      <td>0.265734</td>\n",
       "      <td>0.690257</td>\n",
       "      <td>2.082174</td>\n",
       "      <td>0.153846</td>\n",
       "      <td>0.624614</td>\n",
       "    </tr>\n",
       "    <tr>\n",
       "      <th>2</th>\n",
       "      <td>3</td>\n",
       "      <td>1.963196</td>\n",
       "      <td>0.290210</td>\n",
       "      <td>0.673729</td>\n",
       "      <td>2.149428</td>\n",
       "      <td>0.184615</td>\n",
       "      <td>0.535800</td>\n",
       "    </tr>\n",
       "    <tr>\n",
       "      <th>3</th>\n",
       "      <td>4</td>\n",
       "      <td>1.859940</td>\n",
       "      <td>0.349650</td>\n",
       "      <td>0.725638</td>\n",
       "      <td>2.040796</td>\n",
       "      <td>0.215385</td>\n",
       "      <td>0.599166</td>\n",
       "    </tr>\n",
       "    <tr>\n",
       "      <th>4</th>\n",
       "      <td>5</td>\n",
       "      <td>1.853896</td>\n",
       "      <td>0.367133</td>\n",
       "      <td>0.734937</td>\n",
       "      <td>2.074236</td>\n",
       "      <td>0.292308</td>\n",
       "      <td>0.578317</td>\n",
       "    </tr>\n",
       "    <tr>\n",
       "      <th>5</th>\n",
       "      <td>6</td>\n",
       "      <td>1.826264</td>\n",
       "      <td>0.374126</td>\n",
       "      <td>0.739636</td>\n",
       "      <td>2.081758</td>\n",
       "      <td>0.200000</td>\n",
       "      <td>0.580886</td>\n",
       "    </tr>\n",
       "    <tr>\n",
       "      <th>6</th>\n",
       "      <td>7</td>\n",
       "      <td>1.778197</td>\n",
       "      <td>0.367133</td>\n",
       "      <td>0.761074</td>\n",
       "      <td>2.021282</td>\n",
       "      <td>0.276923</td>\n",
       "      <td>0.608770</td>\n",
       "    </tr>\n",
       "    <tr>\n",
       "      <th>7</th>\n",
       "      <td>8</td>\n",
       "      <td>1.806375</td>\n",
       "      <td>0.367133</td>\n",
       "      <td>0.781441</td>\n",
       "      <td>1.954131</td>\n",
       "      <td>0.261538</td>\n",
       "      <td>0.639013</td>\n",
       "    </tr>\n",
       "    <tr>\n",
       "      <th>8</th>\n",
       "      <td>9</td>\n",
       "      <td>1.766219</td>\n",
       "      <td>0.412587</td>\n",
       "      <td>0.775248</td>\n",
       "      <td>2.050207</td>\n",
       "      <td>0.292308</td>\n",
       "      <td>0.608340</td>\n",
       "    </tr>\n",
       "    <tr>\n",
       "      <th>9</th>\n",
       "      <td>10</td>\n",
       "      <td>1.743350</td>\n",
       "      <td>0.391608</td>\n",
       "      <td>0.784287</td>\n",
       "      <td>2.036366</td>\n",
       "      <td>0.292308</td>\n",
       "      <td>0.641469</td>\n",
       "    </tr>\n",
       "    <tr>\n",
       "      <th>10</th>\n",
       "      <td>11</td>\n",
       "      <td>1.675290</td>\n",
       "      <td>0.458042</td>\n",
       "      <td>0.810078</td>\n",
       "      <td>1.996099</td>\n",
       "      <td>0.323077</td>\n",
       "      <td>0.622236</td>\n",
       "    </tr>\n",
       "    <tr>\n",
       "      <th>11</th>\n",
       "      <td>12</td>\n",
       "      <td>1.689997</td>\n",
       "      <td>0.451049</td>\n",
       "      <td>0.811077</td>\n",
       "      <td>1.999040</td>\n",
       "      <td>0.230769</td>\n",
       "      <td>0.616321</td>\n",
       "    </tr>\n",
       "    <tr>\n",
       "      <th>12</th>\n",
       "      <td>13</td>\n",
       "      <td>1.649947</td>\n",
       "      <td>0.489510</td>\n",
       "      <td>0.815069</td>\n",
       "      <td>2.013273</td>\n",
       "      <td>0.292308</td>\n",
       "      <td>0.637862</td>\n",
       "    </tr>\n",
       "    <tr>\n",
       "      <th>13</th>\n",
       "      <td>14</td>\n",
       "      <td>1.651177</td>\n",
       "      <td>0.447552</td>\n",
       "      <td>0.813895</td>\n",
       "      <td>2.043692</td>\n",
       "      <td>0.246154</td>\n",
       "      <td>0.615424</td>\n",
       "    </tr>\n",
       "    <tr>\n",
       "      <th>14</th>\n",
       "      <td>15</td>\n",
       "      <td>1.629121</td>\n",
       "      <td>0.475524</td>\n",
       "      <td>0.824705</td>\n",
       "      <td>1.964885</td>\n",
       "      <td>0.276923</td>\n",
       "      <td>0.646894</td>\n",
       "    </tr>\n",
       "  </tbody>\n",
       "</table>\n",
       "</div>\n",
       "    <div class=\"colab-df-buttons\">\n",
       "\n",
       "  <div class=\"colab-df-container\">\n",
       "    <button class=\"colab-df-convert\" onclick=\"convertToInteractive('df-ccf99bea-8f5a-4e66-abc4-9914b073cb24')\"\n",
       "            title=\"Convert this dataframe to an interactive table.\"\n",
       "            style=\"display:none;\">\n",
       "\n",
       "  <svg xmlns=\"http://www.w3.org/2000/svg\" height=\"24px\" viewBox=\"0 -960 960 960\">\n",
       "    <path d=\"M120-120v-720h720v720H120Zm60-500h600v-160H180v160Zm220 220h160v-160H400v160Zm0 220h160v-160H400v160ZM180-400h160v-160H180v160Zm440 0h160v-160H620v160ZM180-180h160v-160H180v160Zm440 0h160v-160H620v160Z\"/>\n",
       "  </svg>\n",
       "    </button>\n",
       "\n",
       "  <style>\n",
       "    .colab-df-container {\n",
       "      display:flex;\n",
       "      gap: 12px;\n",
       "    }\n",
       "\n",
       "    .colab-df-convert {\n",
       "      background-color: #E8F0FE;\n",
       "      border: none;\n",
       "      border-radius: 50%;\n",
       "      cursor: pointer;\n",
       "      display: none;\n",
       "      fill: #1967D2;\n",
       "      height: 32px;\n",
       "      padding: 0 0 0 0;\n",
       "      width: 32px;\n",
       "    }\n",
       "\n",
       "    .colab-df-convert:hover {\n",
       "      background-color: #E2EBFA;\n",
       "      box-shadow: 0px 1px 2px rgba(60, 64, 67, 0.3), 0px 1px 3px 1px rgba(60, 64, 67, 0.15);\n",
       "      fill: #174EA6;\n",
       "    }\n",
       "\n",
       "    .colab-df-buttons div {\n",
       "      margin-bottom: 4px;\n",
       "    }\n",
       "\n",
       "    [theme=dark] .colab-df-convert {\n",
       "      background-color: #3B4455;\n",
       "      fill: #D2E3FC;\n",
       "    }\n",
       "\n",
       "    [theme=dark] .colab-df-convert:hover {\n",
       "      background-color: #434B5C;\n",
       "      box-shadow: 0px 1px 3px 1px rgba(0, 0, 0, 0.15);\n",
       "      filter: drop-shadow(0px 1px 2px rgba(0, 0, 0, 0.3));\n",
       "      fill: #FFFFFF;\n",
       "    }\n",
       "  </style>\n",
       "\n",
       "    <script>\n",
       "      const buttonEl =\n",
       "        document.querySelector('#df-ccf99bea-8f5a-4e66-abc4-9914b073cb24 button.colab-df-convert');\n",
       "      buttonEl.style.display =\n",
       "        google.colab.kernel.accessAllowed ? 'block' : 'none';\n",
       "\n",
       "      async function convertToInteractive(key) {\n",
       "        const element = document.querySelector('#df-ccf99bea-8f5a-4e66-abc4-9914b073cb24');\n",
       "        const dataTable =\n",
       "          await google.colab.kernel.invokeFunction('convertToInteractive',\n",
       "                                                    [key], {});\n",
       "        if (!dataTable) return;\n",
       "\n",
       "        const docLinkHtml = 'Like what you see? Visit the ' +\n",
       "          '<a target=\"_blank\" href=https://colab.research.google.com/notebooks/data_table.ipynb>data table notebook</a>'\n",
       "          + ' to learn more about interactive tables.';\n",
       "        element.innerHTML = '';\n",
       "        dataTable['output_type'] = 'display_data';\n",
       "        await google.colab.output.renderOutput(dataTable, element);\n",
       "        const docLink = document.createElement('div');\n",
       "        docLink.innerHTML = docLinkHtml;\n",
       "        element.appendChild(docLink);\n",
       "      }\n",
       "    </script>\n",
       "  </div>\n",
       "\n",
       "\n",
       "<div id=\"df-ef972aaa-ec22-4edd-9944-f14f4a0a6544\">\n",
       "  <button class=\"colab-df-quickchart\" onclick=\"quickchart('df-ef972aaa-ec22-4edd-9944-f14f4a0a6544')\"\n",
       "            title=\"Suggest charts\"\n",
       "            style=\"display:none;\">\n",
       "\n",
       "<svg xmlns=\"http://www.w3.org/2000/svg\" height=\"24px\"viewBox=\"0 0 24 24\"\n",
       "     width=\"24px\">\n",
       "    <g>\n",
       "        <path d=\"M19 3H5c-1.1 0-2 .9-2 2v14c0 1.1.9 2 2 2h14c1.1 0 2-.9 2-2V5c0-1.1-.9-2-2-2zM9 17H7v-7h2v7zm4 0h-2V7h2v10zm4 0h-2v-4h2v4z\"/>\n",
       "    </g>\n",
       "</svg>\n",
       "  </button>\n",
       "\n",
       "<style>\n",
       "  .colab-df-quickchart {\n",
       "      --bg-color: #E8F0FE;\n",
       "      --fill-color: #1967D2;\n",
       "      --hover-bg-color: #E2EBFA;\n",
       "      --hover-fill-color: #174EA6;\n",
       "      --disabled-fill-color: #AAA;\n",
       "      --disabled-bg-color: #DDD;\n",
       "  }\n",
       "\n",
       "  [theme=dark] .colab-df-quickchart {\n",
       "      --bg-color: #3B4455;\n",
       "      --fill-color: #D2E3FC;\n",
       "      --hover-bg-color: #434B5C;\n",
       "      --hover-fill-color: #FFFFFF;\n",
       "      --disabled-bg-color: #3B4455;\n",
       "      --disabled-fill-color: #666;\n",
       "  }\n",
       "\n",
       "  .colab-df-quickchart {\n",
       "    background-color: var(--bg-color);\n",
       "    border: none;\n",
       "    border-radius: 50%;\n",
       "    cursor: pointer;\n",
       "    display: none;\n",
       "    fill: var(--fill-color);\n",
       "    height: 32px;\n",
       "    padding: 0;\n",
       "    width: 32px;\n",
       "  }\n",
       "\n",
       "  .colab-df-quickchart:hover {\n",
       "    background-color: var(--hover-bg-color);\n",
       "    box-shadow: 0 1px 2px rgba(60, 64, 67, 0.3), 0 1px 3px 1px rgba(60, 64, 67, 0.15);\n",
       "    fill: var(--button-hover-fill-color);\n",
       "  }\n",
       "\n",
       "  .colab-df-quickchart-complete:disabled,\n",
       "  .colab-df-quickchart-complete:disabled:hover {\n",
       "    background-color: var(--disabled-bg-color);\n",
       "    fill: var(--disabled-fill-color);\n",
       "    box-shadow: none;\n",
       "  }\n",
       "\n",
       "  .colab-df-spinner {\n",
       "    border: 2px solid var(--fill-color);\n",
       "    border-color: transparent;\n",
       "    border-bottom-color: var(--fill-color);\n",
       "    animation:\n",
       "      spin 1s steps(1) infinite;\n",
       "  }\n",
       "\n",
       "  @keyframes spin {\n",
       "    0% {\n",
       "      border-color: transparent;\n",
       "      border-bottom-color: var(--fill-color);\n",
       "      border-left-color: var(--fill-color);\n",
       "    }\n",
       "    20% {\n",
       "      border-color: transparent;\n",
       "      border-left-color: var(--fill-color);\n",
       "      border-top-color: var(--fill-color);\n",
       "    }\n",
       "    30% {\n",
       "      border-color: transparent;\n",
       "      border-left-color: var(--fill-color);\n",
       "      border-top-color: var(--fill-color);\n",
       "      border-right-color: var(--fill-color);\n",
       "    }\n",
       "    40% {\n",
       "      border-color: transparent;\n",
       "      border-right-color: var(--fill-color);\n",
       "      border-top-color: var(--fill-color);\n",
       "    }\n",
       "    60% {\n",
       "      border-color: transparent;\n",
       "      border-right-color: var(--fill-color);\n",
       "    }\n",
       "    80% {\n",
       "      border-color: transparent;\n",
       "      border-right-color: var(--fill-color);\n",
       "      border-bottom-color: var(--fill-color);\n",
       "    }\n",
       "    90% {\n",
       "      border-color: transparent;\n",
       "      border-bottom-color: var(--fill-color);\n",
       "    }\n",
       "  }\n",
       "</style>\n",
       "\n",
       "  <script>\n",
       "    async function quickchart(key) {\n",
       "      const quickchartButtonEl =\n",
       "        document.querySelector('#' + key + ' button');\n",
       "      quickchartButtonEl.disabled = true;  // To prevent multiple clicks.\n",
       "      quickchartButtonEl.classList.add('colab-df-spinner');\n",
       "      try {\n",
       "        const charts = await google.colab.kernel.invokeFunction(\n",
       "            'suggestCharts', [key], {});\n",
       "      } catch (error) {\n",
       "        console.error('Error during call to suggestCharts:', error);\n",
       "      }\n",
       "      quickchartButtonEl.classList.remove('colab-df-spinner');\n",
       "      quickchartButtonEl.classList.add('colab-df-quickchart-complete');\n",
       "    }\n",
       "    (() => {\n",
       "      let quickchartButtonEl =\n",
       "        document.querySelector('#df-ef972aaa-ec22-4edd-9944-f14f4a0a6544 button');\n",
       "      quickchartButtonEl.style.display =\n",
       "        google.colab.kernel.accessAllowed ? 'block' : 'none';\n",
       "    })();\n",
       "  </script>\n",
       "</div>\n",
       "\n",
       "    </div>\n",
       "  </div>\n"
      ],
      "text/plain": [
       "    epoch  train_loss  train_acc  train_auc  test_loss  test_acc  test_auc\n",
       "0       1    2.017967   0.202797   0.641683   2.152818  0.092308  0.490082\n",
       "1       2    1.972486   0.265734   0.690257   2.082174  0.153846  0.624614\n",
       "2       3    1.963196   0.290210   0.673729   2.149428  0.184615  0.535800\n",
       "3       4    1.859940   0.349650   0.725638   2.040796  0.215385  0.599166\n",
       "4       5    1.853896   0.367133   0.734937   2.074236  0.292308  0.578317\n",
       "5       6    1.826264   0.374126   0.739636   2.081758  0.200000  0.580886\n",
       "6       7    1.778197   0.367133   0.761074   2.021282  0.276923  0.608770\n",
       "7       8    1.806375   0.367133   0.781441   1.954131  0.261538  0.639013\n",
       "8       9    1.766219   0.412587   0.775248   2.050207  0.292308  0.608340\n",
       "9      10    1.743350   0.391608   0.784287   2.036366  0.292308  0.641469\n",
       "10     11    1.675290   0.458042   0.810078   1.996099  0.323077  0.622236\n",
       "11     12    1.689997   0.451049   0.811077   1.999040  0.230769  0.616321\n",
       "12     13    1.649947   0.489510   0.815069   2.013273  0.292308  0.637862\n",
       "13     14    1.651177   0.447552   0.813895   2.043692  0.246154  0.615424\n",
       "14     15    1.629121   0.475524   0.824705   1.964885  0.276923  0.646894"
      ]
     },
     "metadata": {},
     "output_type": "display_data"
    }
   ],
   "source": [
    "view_sweep(11)"
   ]
  },
  {
   "cell_type": "markdown",
   "metadata": {
    "id": "WUbZFpVcx5vF"
   },
   "source": [
    "We looked through full 15 epoch progression for every sweep/config and selected the best config based on:\n",
    "* Highest test AUC at the final epoch\n",
    "* Stable training curve with controlled/limitted overfitting\n",
    "\n",
    "**Best config:**\n",
    "\n",
    "* Dropout: 0.5\n",
    "* Weight Decay: 0.0001\n",
    "* Learning Rate: 5e-5\n",
    "* Test AUC: 0.6469\n",
    "* Test Loss: 1.9649\n",
    "\n",
    "This configuration showed the best generalisation performance and will be used going forwards.\n",
    "\n"
   ]
  },
  {
   "cell_type": "markdown",
   "metadata": {
    "id": "gdiWBvgQyqtM"
   },
   "source": [
    "## Phase 6: Label Smoothing"
   ]
  },
  {
   "cell_type": "markdown",
   "metadata": {
    "id": "e7tNFnX68uDc"
   },
   "source": [
    "* Simple 3D CNN (4 conv blocks + global avg pool + FC): `Simple3DCNNGrid`\n",
    "* Using best configuration found from grid search\n",
    "* Optimizer: AdamW\n",
    "* Scheduler: StepLR\n",
    "* Loss: Class-weighted CrossEntropy, label smoothing added\n",
    "* Dataset: Full, single sequence per video\n",
    "* 20 epochs"
   ]
  },
  {
   "cell_type": "code",
   "execution_count": null,
   "metadata": {
    "colab": {
     "base_uri": "https://localhost:8080/",
     "height": 1000
    },
    "id": "vicEMBzXyW17",
    "outputId": "a4b18682-43f5-4ee5-bbab-196bbb3b9b5a"
   },
   "outputs": [
    {
     "data": {
      "text/html": [
       "Tracking run with wandb version 0.19.9"
      ],
      "text/plain": [
       "<IPython.core.display.HTML object>"
      ]
     },
     "metadata": {},
     "output_type": "display_data"
    },
    {
     "data": {
      "text/html": [
       "Run data is saved locally in <code>/content/wandb/run-20250422_000024-nfmqf91o</code>"
      ],
      "text/plain": [
       "<IPython.core.display.HTML object>"
      ]
     },
     "metadata": {},
     "output_type": "display_data"
    },
    {
     "data": {
      "text/html": [
       "Syncing run <strong><a href='https://wandb.ai/fareesahhussain-city-university-of-london/3dcnn-phase5/runs/nfmqf91o' target=\"_blank\">bestconfig-labelsmoothing</a></strong> to <a href='https://wandb.ai/fareesahhussain-city-university-of-london/3dcnn-phase5' target=\"_blank\">Weights & Biases</a> (<a href='https://wandb.me/developer-guide' target=\"_blank\">docs</a>)<br>"
      ],
      "text/plain": [
       "<IPython.core.display.HTML object>"
      ]
     },
     "metadata": {},
     "output_type": "display_data"
    },
    {
     "data": {
      "text/html": [
       " View project at <a href='https://wandb.ai/fareesahhussain-city-university-of-london/3dcnn-phase5' target=\"_blank\">https://wandb.ai/fareesahhussain-city-university-of-london/3dcnn-phase5</a>"
      ],
      "text/plain": [
       "<IPython.core.display.HTML object>"
      ]
     },
     "metadata": {},
     "output_type": "display_data"
    },
    {
     "data": {
      "text/html": [
       " View run at <a href='https://wandb.ai/fareesahhussain-city-university-of-london/3dcnn-phase5/runs/nfmqf91o' target=\"_blank\">https://wandb.ai/fareesahhussain-city-university-of-london/3dcnn-phase5/runs/nfmqf91o</a>"
      ],
      "text/plain": [
       "<IPython.core.display.HTML object>"
      ]
     },
     "metadata": {},
     "output_type": "display_data"
    },
    {
     "name": "stdout",
     "output_type": "stream",
     "text": [
      "\n",
      "Epoch 1\n",
      "Train → Loss: 2.0792 | Acc: 0.1503 | AUC: 0.6717\n",
      "Test  → Loss: 2.1495 | Acc: 0.1385 | AUC: 0.6090\n",
      "\n",
      "Epoch 2\n",
      "Train → Loss: 2.0454 | Acc: 0.2657 | AUC: 0.7058\n",
      "Test  → Loss: 2.1546 | Acc: 0.2000 | AUC: 0.6045\n",
      "\n",
      "Epoch 3\n",
      "Train → Loss: 1.9689 | Acc: 0.3566 | AUC: 0.7293\n",
      "Test  → Loss: 2.1231 | Acc: 0.2615 | AUC: 0.5812\n",
      "\n",
      "Epoch 4\n",
      "Train → Loss: 1.9438 | Acc: 0.3497 | AUC: 0.7392\n",
      "Test  → Loss: 2.0954 | Acc: 0.2769 | AUC: 0.6103\n",
      "\n",
      "Epoch 5\n",
      "Train → Loss: 1.9689 | Acc: 0.3636 | AUC: 0.7536\n",
      "Test  → Loss: 2.2046 | Acc: 0.2615 | AUC: 0.6003\n",
      "\n",
      "Epoch 6\n",
      "Train → Loss: 1.9177 | Acc: 0.3776 | AUC: 0.7576\n",
      "Test  → Loss: 2.1105 | Acc: 0.2000 | AUC: 0.6007\n",
      "\n",
      "Epoch 7\n",
      "Train → Loss: 1.9355 | Acc: 0.3287 | AUC: 0.7329\n",
      "Test  → Loss: 2.2256 | Acc: 0.2154 | AUC: 0.5838\n",
      "\n",
      "Epoch 8\n",
      "Train → Loss: 1.9698 | Acc: 0.3252 | AUC: 0.7439\n",
      "Test  → Loss: 2.2733 | Acc: 0.2000 | AUC: 0.5676\n",
      "\n",
      "Epoch 9\n",
      "Train → Loss: 1.9008 | Acc: 0.3322 | AUC: 0.7682\n",
      "Test  → Loss: 2.2040 | Acc: 0.1692 | AUC: 0.5817\n",
      "\n",
      "Epoch 10\n",
      "Train → Loss: 1.8429 | Acc: 0.4161 | AUC: 0.7902\n",
      "Test  → Loss: 2.2038 | Acc: 0.2000 | AUC: 0.5622\n",
      "\n",
      "Epoch 11\n",
      "Train → Loss: 1.8295 | Acc: 0.4615 | AUC: 0.8025\n",
      "Test  → Loss: 2.1587 | Acc: 0.2923 | AUC: 0.6053\n",
      "\n",
      "Epoch 12\n",
      "Train → Loss: 1.8219 | Acc: 0.4545 | AUC: 0.8024\n",
      "Test  → Loss: 2.1212 | Acc: 0.2769 | AUC: 0.6095\n",
      "\n",
      "Epoch 13\n",
      "Train → Loss: 1.8142 | Acc: 0.4301 | AUC: 0.8131\n",
      "Test  → Loss: 2.1420 | Acc: 0.2154 | AUC: 0.5748\n",
      "\n",
      "Epoch 14\n",
      "Train → Loss: 1.8037 | Acc: 0.4371 | AUC: 0.8088\n",
      "Test  → Loss: 2.1496 | Acc: 0.1846 | AUC: 0.5921\n",
      "\n",
      "Epoch 15\n",
      "Train → Loss: 1.8092 | Acc: 0.3916 | AUC: 0.8040\n",
      "Test  → Loss: 2.1646 | Acc: 0.2154 | AUC: 0.5965\n",
      "\n",
      "Epoch 16\n",
      "Train → Loss: 1.7732 | Acc: 0.4336 | AUC: 0.8236\n",
      "Test  → Loss: 2.1569 | Acc: 0.2462 | AUC: 0.5774\n",
      "\n",
      "Epoch 17\n",
      "Train → Loss: 1.7746 | Acc: 0.5105 | AUC: 0.8275\n",
      "Test  → Loss: 2.1179 | Acc: 0.2615 | AUC: 0.6277\n",
      "\n",
      "Epoch 18\n",
      "Train → Loss: 1.7445 | Acc: 0.4860 | AUC: 0.8308\n",
      "Test  → Loss: 2.2118 | Acc: 0.2308 | AUC: 0.5949\n",
      "\n",
      "Epoch 19\n",
      "Train → Loss: 1.7532 | Acc: 0.4545 | AUC: 0.8348\n",
      "Test  → Loss: 2.1537 | Acc: 0.2462 | AUC: 0.6261\n",
      "\n",
      "Epoch 20\n",
      "Train → Loss: 1.7729 | Acc: 0.4266 | AUC: 0.8414\n",
      "Test  → Loss: 2.1459 | Acc: 0.2615 | AUC: 0.5950\n"
     ]
    },
    {
     "data": {
      "text/html": [],
      "text/plain": [
       "<IPython.core.display.HTML object>"
      ]
     },
     "metadata": {},
     "output_type": "display_data"
    },
    {
     "data": {
      "text/html": [
       "<br>    <style><br>        .wandb-row {<br>            display: flex;<br>            flex-direction: row;<br>            flex-wrap: wrap;<br>            justify-content: flex-start;<br>            width: 100%;<br>        }<br>        .wandb-col {<br>            display: flex;<br>            flex-direction: column;<br>            flex-basis: 100%;<br>            flex: 1;<br>            padding: 10px;<br>        }<br>    </style><br><div class=\"wandb-row\"><div class=\"wandb-col\"><h3>Run history:</h3><br/><table class=\"wandb\"><tr><td>epoch</td><td>▁▁▂▂▂▃▃▄▄▄▅▅▅▆▆▇▇▇██</td></tr><tr><td>lr</td><td>██████████▁▁▁▁▁▁▁▁▁▁</td></tr><tr><td>test_accuracy</td><td>▁▄▇▇▇▄▄▄▂▄█▇▄▃▄▆▇▅▆▇</td></tr><tr><td>test_auc</td><td>▆▆▃▆▅▅▃▂▃▁▆▆▂▄▅▃█▄█▄</td></tr><tr><td>test_loss</td><td>▃▃▂▁▅▂▆█▅▅▃▂▃▃▄▃▂▆▃▃</td></tr><tr><td>train_accuracy</td><td>▁▃▅▅▅▅▄▄▅▆▇▇▆▇▆▇██▇▆</td></tr><tr><td>train_auc</td><td>▁▂▃▄▄▅▄▄▅▆▆▆▇▇▆▇▇███</td></tr><tr><td>train_loss</td><td>█▇▆▅▆▅▅▆▄▃▃▃▂▂▂▂▂▁▁▂</td></tr></table><br/></div><div class=\"wandb-col\"><h3>Run summary:</h3><br/><table class=\"wandb\"><tr><td>epoch</td><td>20</td></tr><tr><td>lr</td><td>3e-05</td></tr><tr><td>test_accuracy</td><td>0.26154</td></tr><tr><td>test_auc</td><td>0.59497</td></tr><tr><td>test_loss</td><td>2.1459</td></tr><tr><td>train_accuracy</td><td>0.42657</td></tr><tr><td>train_auc</td><td>0.84136</td></tr><tr><td>train_loss</td><td>1.77292</td></tr></table><br/></div></div>"
      ],
      "text/plain": [
       "<IPython.core.display.HTML object>"
      ]
     },
     "metadata": {},
     "output_type": "display_data"
    },
    {
     "data": {
      "text/html": [
       " View run <strong style=\"color:#cdcd00\">bestconfig-labelsmoothing</strong> at: <a href='https://wandb.ai/fareesahhussain-city-university-of-london/3dcnn-phase5/runs/nfmqf91o' target=\"_blank\">https://wandb.ai/fareesahhussain-city-university-of-london/3dcnn-phase5/runs/nfmqf91o</a><br> View project at: <a href='https://wandb.ai/fareesahhussain-city-university-of-london/3dcnn-phase5' target=\"_blank\">https://wandb.ai/fareesahhussain-city-university-of-london/3dcnn-phase5</a><br>Synced 5 W&B file(s), 0 media file(s), 0 artifact file(s) and 0 other file(s)"
      ],
      "text/plain": [
       "<IPython.core.display.HTML object>"
      ]
     },
     "metadata": {},
     "output_type": "display_data"
    },
    {
     "data": {
      "text/html": [
       "Find logs at: <code>./wandb/run-20250422_000024-nfmqf91o/logs</code>"
      ],
      "text/plain": [
       "<IPython.core.display.HTML object>"
      ]
     },
     "metadata": {},
     "output_type": "display_data"
    }
   ],
   "source": [
    "import torch\n",
    "import torch.nn as nn\n",
    "from torch.optim import AdamW\n",
    "from torch.optim.lr_scheduler import StepLR\n",
    "import wandb\n",
    "\n",
    "# best hyperparams from grid search\n",
    "DROPOUT = 0.5\n",
    "WEIGHT_DECAY = 1e-4\n",
    "LR = 5e-5\n",
    "LABEL_SMOOTHING = 0.1\n",
    "EPOCHS = 20\n",
    "\n",
    "# model setup (using best config)\n",
    "model = Simple3DCNNGrid(num_classes=NUM_CLASSES, dropout=DROPOUT).to(DEVICE)\n",
    "criterion = nn.CrossEntropyLoss(weight=class_weights.to(DEVICE), label_smoothing=LABEL_SMOOTHING) # added label smoothing!!\n",
    "optimizer = AdamW(model.parameters(), lr=LR, weight_decay=WEIGHT_DECAY)\n",
    "scheduler = StepLR(optimizer, step_size=10, gamma=0.5)\n",
    "\n",
    "\n",
    "wandb.init(project=\"3dcnn-phase5\", name=\"bestconfig-labelsmoothing\")\n",
    "wandb.config.update({\n",
    "    \"dropout\": DROPOUT,\n",
    "    \"weight_decay\": WEIGHT_DECAY,\n",
    "    \"lr\": LR,\n",
    "    \"label_smoothing\": LABEL_SMOOTHING,\n",
    "    \"epochs\": EPOCHS,\n",
    "    \"batch_size\": train_loader.batch_size\n",
    "})\n",
    "\n",
    "# training loop\n",
    "for epoch in range(EPOCHS):\n",
    "    model.train()\n",
    "    running_loss = 0.0\n",
    "\n",
    "    for x, y in train_loader:\n",
    "        x, y = x.to(DEVICE), y.to(DEVICE)\n",
    "        optimizer.zero_grad()\n",
    "        logits = model(x.permute(0, 2, 1, 3, 4))  # (B, 3, T, H, W)\n",
    "        loss = criterion(logits, y)\n",
    "        loss.backward()\n",
    "        optimizer.step()\n",
    "        running_loss += loss.item()\n",
    "\n",
    "    avg_train_loss = running_loss / len(train_loader)\n",
    "\n",
    "    train_loss, train_acc, train_auc = evaluate(model, train_loader, criterion, return_metrics=True)\n",
    "    test_loss, test_acc, test_auc = evaluate(model, test_loader, criterion, return_metrics=True)\n",
    "\n",
    "    # log\n",
    "    wandb.log({\n",
    "        \"epoch\": epoch + 1,\n",
    "        \"train_loss\": train_loss,\n",
    "        \"train_accuracy\": train_acc,\n",
    "        \"train_auc\": train_auc,\n",
    "        \"test_loss\": test_loss,\n",
    "        \"test_accuracy\": test_acc,\n",
    "        \"test_auc\": test_auc,\n",
    "        \"lr\": scheduler.get_last_lr()[0],\n",
    "    })\n",
    "\n",
    "    # print metrics\n",
    "    print(f\"\\nEpoch {epoch+1}\")\n",
    "    print(f\"Train → Loss: {train_loss:.4f} | Acc: {train_acc:.4f} | AUC: {train_auc:.4f}\")\n",
    "    print(f\"Test  → Loss: {test_loss:.4f} | Acc: {test_acc:.4f} | AUC: {test_auc:.4f}\")\n",
    "\n",
    "    scheduler.step()\n",
    "\n",
    "wandb.finish()"
   ]
  },
  {
   "cell_type": "markdown",
   "metadata": {
    "id": "UvCUVogsEyg3"
   },
   "source": [
    "* Phase 6 (label smoothing) results:\n",
    "  - **Train AUC** improved steadily (**0.67 to 0.84**), with **train loss** reducing (**2.08 to 1.77**)\n",
    "  - **Test AUC** fluctuated, similar to previous phases\n",
    "  - **Test loss** remained high (~2.1–2.2), showing limited generalisation\n"
   ]
  },
  {
   "cell_type": "markdown",
   "metadata": {
    "id": "a3sCAv5Y3QiX"
   },
   "source": [
    "## Phase 7: Temporal Attention Layers"
   ]
  },
  {
   "cell_type": "markdown",
   "metadata": {
    "id": "eciiatsK_TQj"
   },
   "source": [
    "* 3D CNN with 4 conv blocks + global avg pool + FC, using best configuration found from grid search\n",
    "* Added temporal self-attention (MultiheadAttention over T): `Finetuned3DCNNWithAttention`\n",
    "* Optimizer: AdamW\n",
    "* Scheduler: StepLR\n",
    "* Loss: Class-weighted CrossEntropy, label smoothing\n",
    "* Dataset: Full, single sequence per video\n",
    "* 30 epochs"
   ]
  },
  {
   "cell_type": "code",
   "execution_count": 11,
   "metadata": {
    "id": "8xSXFAax3UG8"
   },
   "outputs": [],
   "source": [
    "import torch\n",
    "import torch.nn as nn\n",
    "\n",
    "class TemporalSelfAttention(nn.Module):\n",
    "    def __init__(self):\n",
    "        super().__init__()\n",
    "        self.attn = nn.MultiheadAttention(embed_dim=256, num_heads=4, batch_first=True)\n",
    "        self.norm = nn.LayerNorm(256)\n",
    "\n",
    "    def forward(self, x):\n",
    "        # x shape: (B, 256, T, 1, 1)\n",
    "        x = x.squeeze(-1).squeeze(-1)     # (B, 256, T)\n",
    "        x = x.permute(0, 2, 1)            # rearrange to (B, T, 256) for attention\n",
    "        attn_out, _ = self.attn(x, x, x)  # self-attention across T\n",
    "        x = self.norm(attn_out + x)       # residual connection + layer normalisation\n",
    "        x = x.mean(dim=1)                 # average pooling over time, (B, 256)\n",
    "        return x\n",
    "\n",
    "\n",
    "class Finetuned3DCNNWithAttention(nn.Module):\n",
    "    def __init__(self, num_classes=8, dropout=0.5):\n",
    "        super().__init__()\n",
    "        self.features = nn.Sequential(\n",
    "            nn.Conv3d(3, 32, kernel_size=(3, 5, 5), stride=1, padding=(1, 2, 2)), # channels 3 to 32\n",
    "            nn.BatchNorm3d(32), # batch norm\n",
    "            nn.ReLU(), # activation\n",
    "            nn.MaxPool3d((1, 2, 2)), # pool spatial dims\n",
    "\n",
    "            nn.Conv3d(32, 64, kernel_size=(3, 3, 3), stride=1, padding=1), # channels 32 to 64\n",
    "            nn.BatchNorm3d(64), # batch norm\n",
    "            nn.ReLU(), # activation\n",
    "            nn.MaxPool3d((2, 2, 2)), # pool temporal or spatial dims\n",
    "\n",
    "            nn.Conv3d(64, 128, kernel_size=(3, 3, 3), stride=1, padding=1), # channels 64 to 128\n",
    "            nn.BatchNorm3d(128), # batch norm\n",
    "            nn.ReLU(), # activation\n",
    "            nn.MaxPool3d((2, 2, 2)),\n",
    "\n",
    "            nn.Conv3d(128, 256, kernel_size=(3, 3, 3), stride=1, padding=1), # channels 128 to 256\n",
    "            nn.BatchNorm3d(256), # batch norm\n",
    "            nn.ReLU(), # activation\n",
    "\n",
    "            # dropout3D for regularisation (or Identity if dropout=None)\n",
    "            nn.Dropout3d(p=dropout) if dropout else nn.Identity(),\n",
    "            # global avg pooling (keep temporal dim T, reduce H and W to 1)\n",
    "            nn.AdaptiveAvgPool3d((None, 1, 1))  # (B, 256, T, 1, 1)\n",
    "        )\n",
    "\n",
    "        # temporal attention block\n",
    "        self.attn = nn.MultiheadAttention(embed_dim=256, num_heads=4, batch_first=True)\n",
    "        self.norm = nn.LayerNorm(256)\n",
    "        self.fc = nn.Linear(256, num_classes)\n",
    "\n",
    "    def forward(self, x):  # x: (B, C, T, H, W)\n",
    "        x = self.features(x)                # (B, 256, T, 1, 1)\n",
    "        x = x.view(x.size(0), 256, -1)      # (B, 256, T)\n",
    "        x = x.permute(0, 2, 1)              # (B, T, 256)\n",
    "\n",
    "        attn_out, _ = self.attn(x, x, x)    # apply self-attention\n",
    "        x = self.norm(attn_out + x)         # residual + norm\n",
    "\n",
    "        x = x.mean(dim=1)                   # temporal avg pooling → (B, 256)\n",
    "        return self.fc(x)                   # (B, num_classes)"
   ]
  },
  {
   "cell_type": "code",
   "execution_count": null,
   "metadata": {
    "colab": {
     "base_uri": "https://localhost:8080/",
     "height": 1000
    },
    "id": "UZfp0iLz35E1",
    "outputId": "5c04b1e8-d14b-4ad7-ee2d-1051ed0df760"
   },
   "outputs": [
    {
     "data": {
      "text/html": [],
      "text/plain": [
       "<IPython.core.display.HTML object>"
      ]
     },
     "metadata": {},
     "output_type": "display_data"
    },
    {
     "data": {
      "text/html": [
       " View run <strong style=\"color:#cdcd00\">finetuned3dcnn-attention</strong> at: <a href='https://wandb.ai/fareesahhussain-city-university-of-london/3dcnn-final-phase/runs/vis9ykwm' target=\"_blank\">https://wandb.ai/fareesahhussain-city-university-of-london/3dcnn-final-phase/runs/vis9ykwm</a><br> View project at: <a href='https://wandb.ai/fareesahhussain-city-university-of-london/3dcnn-final-phase' target=\"_blank\">https://wandb.ai/fareesahhussain-city-university-of-london/3dcnn-final-phase</a><br>Synced 5 W&B file(s), 0 media file(s), 0 artifact file(s) and 0 other file(s)"
      ],
      "text/plain": [
       "<IPython.core.display.HTML object>"
      ]
     },
     "metadata": {},
     "output_type": "display_data"
    },
    {
     "data": {
      "text/html": [
       "Find logs at: <code>./wandb/run-20250422_002308-vis9ykwm/logs</code>"
      ],
      "text/plain": [
       "<IPython.core.display.HTML object>"
      ]
     },
     "metadata": {},
     "output_type": "display_data"
    },
    {
     "data": {
      "text/html": [
       "Tracking run with wandb version 0.19.9"
      ],
      "text/plain": [
       "<IPython.core.display.HTML object>"
      ]
     },
     "metadata": {},
     "output_type": "display_data"
    },
    {
     "data": {
      "text/html": [
       "Run data is saved locally in <code>/content/wandb/run-20250422_002529-hssdtar7</code>"
      ],
      "text/plain": [
       "<IPython.core.display.HTML object>"
      ]
     },
     "metadata": {},
     "output_type": "display_data"
    },
    {
     "data": {
      "text/html": [
       "Syncing run <strong><a href='https://wandb.ai/fareesahhussain-city-university-of-london/3dcnn-final-phase/runs/hssdtar7' target=\"_blank\">finetuned3dcnn-attention</a></strong> to <a href='https://wandb.ai/fareesahhussain-city-university-of-london/3dcnn-final-phase' target=\"_blank\">Weights & Biases</a> (<a href='https://wandb.me/developer-guide' target=\"_blank\">docs</a>)<br>"
      ],
      "text/plain": [
       "<IPython.core.display.HTML object>"
      ]
     },
     "metadata": {},
     "output_type": "display_data"
    },
    {
     "data": {
      "text/html": [
       " View project at <a href='https://wandb.ai/fareesahhussain-city-university-of-london/3dcnn-final-phase' target=\"_blank\">https://wandb.ai/fareesahhussain-city-university-of-london/3dcnn-final-phase</a>"
      ],
      "text/plain": [
       "<IPython.core.display.HTML object>"
      ]
     },
     "metadata": {},
     "output_type": "display_data"
    },
    {
     "data": {
      "text/html": [
       " View run at <a href='https://wandb.ai/fareesahhussain-city-university-of-london/3dcnn-final-phase/runs/hssdtar7' target=\"_blank\">https://wandb.ai/fareesahhussain-city-university-of-london/3dcnn-final-phase/runs/hssdtar7</a>"
      ],
      "text/plain": [
       "<IPython.core.display.HTML object>"
      ]
     },
     "metadata": {},
     "output_type": "display_data"
    },
    {
     "name": "stdout",
     "output_type": "stream",
     "text": [
      "\n",
      "Epoch 1\n",
      "Train → Loss: 2.0941 | Acc: 0.3531 | AUC: 0.6915\n",
      "Test  → Loss: 2.2308 | Acc: 0.2769 | AUC: 0.6072\n",
      "\n",
      "Epoch 2\n",
      "Train → Loss: 1.9938 | Acc: 0.3497 | AUC: 0.7139\n",
      "Test  → Loss: 2.1871 | Acc: 0.2000 | AUC: 0.6211\n",
      "\n",
      "Epoch 3\n",
      "Train → Loss: 1.9461 | Acc: 0.3811 | AUC: 0.7421\n",
      "Test  → Loss: 2.1551 | Acc: 0.2462 | AUC: 0.5976\n",
      "\n",
      "Epoch 4\n",
      "Train → Loss: 1.9950 | Acc: 0.3916 | AUC: 0.7549\n",
      "Test  → Loss: 2.2994 | Acc: 0.3077 | AUC: 0.5989\n",
      "\n",
      "Epoch 5\n",
      "Train → Loss: 1.8952 | Acc: 0.3881 | AUC: 0.7592\n",
      "Test  → Loss: 2.2752 | Acc: 0.2308 | AUC: 0.5615\n",
      "\n",
      "Epoch 6\n",
      "Train → Loss: 1.8495 | Acc: 0.4056 | AUC: 0.7706\n",
      "Test  → Loss: 2.2382 | Acc: 0.2308 | AUC: 0.5995\n",
      "\n",
      "Epoch 7\n",
      "Train → Loss: 1.8711 | Acc: 0.4161 | AUC: 0.7888\n",
      "Test  → Loss: 2.2289 | Acc: 0.2769 | AUC: 0.6444\n",
      "\n",
      "Epoch 8\n",
      "Train → Loss: 1.8345 | Acc: 0.4266 | AUC: 0.7944\n",
      "Test  → Loss: 2.3054 | Acc: 0.2308 | AUC: 0.5969\n",
      "\n",
      "Epoch 9\n",
      "Train → Loss: 1.8371 | Acc: 0.4545 | AUC: 0.8054\n",
      "Test  → Loss: 2.2421 | Acc: 0.3231 | AUC: 0.6377\n",
      "\n",
      "Epoch 10\n",
      "Train → Loss: 1.8291 | Acc: 0.4510 | AUC: 0.8046\n",
      "Test  → Loss: 2.2846 | Acc: 0.2615 | AUC: 0.6217\n",
      "\n",
      "Epoch 11\n",
      "Train → Loss: 1.8430 | Acc: 0.4476 | AUC: 0.8184\n",
      "Test  → Loss: 2.2931 | Acc: 0.2769 | AUC: 0.6267\n",
      "\n",
      "Epoch 12\n",
      "Train → Loss: 1.7225 | Acc: 0.5035 | AUC: 0.8270\n",
      "Test  → Loss: 2.1639 | Acc: 0.3077 | AUC: 0.6357\n",
      "\n",
      "Epoch 13\n",
      "Train → Loss: 1.6904 | Acc: 0.5070 | AUC: 0.8313\n",
      "Test  → Loss: 2.2402 | Acc: 0.2923 | AUC: 0.6202\n",
      "\n",
      "Epoch 14\n",
      "Train → Loss: 1.7165 | Acc: 0.4860 | AUC: 0.8390\n",
      "Test  → Loss: 2.1645 | Acc: 0.3077 | AUC: 0.6242\n",
      "\n",
      "Epoch 15\n",
      "Train → Loss: 1.7329 | Acc: 0.4930 | AUC: 0.8465\n",
      "Test  → Loss: 2.2922 | Acc: 0.3385 | AUC: 0.6299\n",
      "\n",
      "Epoch 16\n",
      "Train → Loss: 1.7080 | Acc: 0.4720 | AUC: 0.8356\n",
      "Test  → Loss: 2.2820 | Acc: 0.3231 | AUC: 0.6279\n",
      "\n",
      "Epoch 17\n",
      "Train → Loss: 1.7146 | Acc: 0.4720 | AUC: 0.8467\n",
      "Test  → Loss: 2.3423 | Acc: 0.2000 | AUC: 0.6131\n",
      "\n",
      "Epoch 18\n",
      "Train → Loss: 1.6666 | Acc: 0.5105 | AUC: 0.8545\n",
      "Test  → Loss: 2.2840 | Acc: 0.2615 | AUC: 0.6406\n",
      "\n",
      "Epoch 19\n",
      "Train → Loss: 1.7959 | Acc: 0.4336 | AUC: 0.8329\n",
      "Test  → Loss: 2.4795 | Acc: 0.2615 | AUC: 0.6369\n",
      "\n",
      "Epoch 20\n",
      "Train → Loss: 1.7149 | Acc: 0.4965 | AUC: 0.8509\n",
      "Test  → Loss: 2.3662 | Acc: 0.2769 | AUC: 0.6531\n",
      "\n",
      "Epoch 21\n",
      "Train → Loss: 1.6291 | Acc: 0.4650 | AUC: 0.8605\n",
      "Test  → Loss: 2.3617 | Acc: 0.2462 | AUC: 0.6195\n",
      "\n",
      "Epoch 22\n",
      "Train → Loss: 1.6340 | Acc: 0.5245 | AUC: 0.8677\n",
      "Test  → Loss: 2.3081 | Acc: 0.2769 | AUC: 0.6383\n",
      "\n",
      "Epoch 23\n",
      "Train → Loss: 1.6025 | Acc: 0.5420 | AUC: 0.8693\n",
      "Test  → Loss: 2.3009 | Acc: 0.2615 | AUC: 0.6326\n",
      "\n",
      "Epoch 24\n",
      "Train → Loss: 1.5820 | Acc: 0.5315 | AUC: 0.8736\n",
      "Test  → Loss: 2.2906 | Acc: 0.2923 | AUC: 0.6421\n",
      "\n",
      "Epoch 25\n",
      "Train → Loss: 1.6013 | Acc: 0.5350 | AUC: 0.8755\n",
      "Test  → Loss: 2.3416 | Acc: 0.2615 | AUC: 0.6347\n",
      "\n",
      "Epoch 26\n",
      "Train → Loss: 1.5518 | Acc: 0.5420 | AUC: 0.8767\n",
      "Test  → Loss: 2.3604 | Acc: 0.2000 | AUC: 0.6367\n",
      "\n",
      "Epoch 27\n",
      "Train → Loss: 1.5479 | Acc: 0.5280 | AUC: 0.8810\n",
      "Test  → Loss: 2.3318 | Acc: 0.2308 | AUC: 0.6512\n",
      "\n",
      "Epoch 28\n",
      "Train → Loss: 1.5474 | Acc: 0.5490 | AUC: 0.8844\n",
      "Test  → Loss: 2.3902 | Acc: 0.2154 | AUC: 0.6357\n",
      "\n",
      "Epoch 29\n",
      "Train → Loss: 1.5611 | Acc: 0.5594 | AUC: 0.8849\n",
      "Test  → Loss: 2.4053 | Acc: 0.2308 | AUC: 0.6265\n",
      "\n",
      "Epoch 30\n",
      "Train → Loss: 1.5618 | Acc: 0.5385 | AUC: 0.8853\n",
      "Test  → Loss: 2.3595 | Acc: 0.2615 | AUC: 0.6365\n"
     ]
    },
    {
     "data": {
      "text/html": [],
      "text/plain": [
       "<IPython.core.display.HTML object>"
      ]
     },
     "metadata": {},
     "output_type": "display_data"
    },
    {
     "data": {
      "text/html": [
       "<br>    <style><br>        .wandb-row {<br>            display: flex;<br>            flex-direction: row;<br>            flex-wrap: wrap;<br>            justify-content: flex-start;<br>            width: 100%;<br>        }<br>        .wandb-col {<br>            display: flex;<br>            flex-direction: column;<br>            flex-basis: 100%;<br>            flex: 1;<br>            padding: 10px;<br>        }<br>    </style><br><div class=\"wandb-row\"><div class=\"wandb-col\"><h3>Run history:</h3><br/><table class=\"wandb\"><tr><td>epoch</td><td>▁▁▁▂▂▂▂▃▃▃▃▄▄▄▄▅▅▅▅▆▆▆▆▇▇▇▇███</td></tr><tr><td>lr</td><td>██████████▃▃▃▃▃▃▃▃▃▃▁▁▁▁▁▁▁▁▁▁</td></tr><tr><td>test_accuracy</td><td>▅▁▃▆▃▃▅▃▇▄▅▆▆▆█▇▁▄▄▅▃▅▄▆▄▁▃▂▃▄</td></tr><tr><td>test_auc</td><td>▄▆▄▄▁▄▇▄▇▆▆▇▅▆▆▆▅▇▇█▅▇▆▇▇▇█▇▆▇</td></tr><tr><td>test_loss</td><td>▃▂▁▄▄▃▃▄▃▄▄▁▃▁▄▄▅▄█▆▅▄▄▄▅▅▅▆▆▅</td></tr><tr><td>train_accuracy</td><td>▁▁▂▂▂▃▃▄▅▄▄▆▆▆▆▅▅▆▄▆▅▇▇▇▇▇▇██▇</td></tr><tr><td>train_auc</td><td>▁▂▃▃▃▄▅▅▅▅▆▆▆▆▇▆▇▇▆▇▇▇▇███████</td></tr><tr><td>train_loss</td><td>█▇▆▇▅▅▅▅▅▅▅▃▃▃▃▃▃▃▄▃▂▂▂▁▂▁▁▁▁▁</td></tr></table><br/></div><div class=\"wandb-col\"><h3>Run summary:</h3><br/><table class=\"wandb\"><tr><td>epoch</td><td>30</td></tr><tr><td>lr</td><td>1e-05</td></tr><tr><td>test_accuracy</td><td>0.26154</td></tr><tr><td>test_auc</td><td>0.63649</td></tr><tr><td>test_loss</td><td>2.35947</td></tr><tr><td>train_accuracy</td><td>0.53846</td></tr><tr><td>train_auc</td><td>0.88527</td></tr><tr><td>train_loss</td><td>1.56178</td></tr></table><br/></div></div>"
      ],
      "text/plain": [
       "<IPython.core.display.HTML object>"
      ]
     },
     "metadata": {},
     "output_type": "display_data"
    },
    {
     "data": {
      "text/html": [
       " View run <strong style=\"color:#cdcd00\">finetuned3dcnn-attention</strong> at: <a href='https://wandb.ai/fareesahhussain-city-university-of-london/3dcnn-final-phase/runs/hssdtar7' target=\"_blank\">https://wandb.ai/fareesahhussain-city-university-of-london/3dcnn-final-phase/runs/hssdtar7</a><br> View project at: <a href='https://wandb.ai/fareesahhussain-city-university-of-london/3dcnn-final-phase' target=\"_blank\">https://wandb.ai/fareesahhussain-city-university-of-london/3dcnn-final-phase</a><br>Synced 5 W&B file(s), 0 media file(s), 0 artifact file(s) and 0 other file(s)"
      ],
      "text/plain": [
       "<IPython.core.display.HTML object>"
      ]
     },
     "metadata": {},
     "output_type": "display_data"
    },
    {
     "data": {
      "text/html": [
       "Find logs at: <code>./wandb/run-20250422_002529-hssdtar7/logs</code>"
      ],
      "text/plain": [
       "<IPython.core.display.HTML object>"
      ]
     },
     "metadata": {},
     "output_type": "display_data"
    }
   ],
   "source": [
    "from torch.optim import AdamW\n",
    "from torch.optim.lr_scheduler import StepLR\n",
    "import wandb\n",
    "\n",
    "# initialise model\n",
    "model = Finetuned3DCNNWithAttention(num_classes=NUM_CLASSES, dropout=0.5).to(DEVICE)\n",
    "criterion = nn.CrossEntropyLoss(weight=class_weights.to(DEVICE), label_smoothing=0.1) # label smoothing added\n",
    "optimizer = AdamW(model.parameters(), lr=5e-5, weight_decay=0.0001)\n",
    "scheduler = StepLR(optimizer, step_size=10, gamma=0.5)\n",
    "\n",
    "# WandB init\n",
    "wandb.init(project=\"3dcnn-final-phase\", name=\"finetuned3dcnn-attention\")\n",
    "wandb.config.update({\n",
    "    \"model\": \"Finetuned3DCNNWithAttention\",\n",
    "    \"dropout\": 0.5,\n",
    "    \"weight_decay\": 0.0001,\n",
    "    \"lr\": 5e-5,\n",
    "    \"label_smoothing\": 0.1,\n",
    "    \"epochs\": 20,\n",
    "    \"batch_size\": train_loader.batch_size\n",
    "})\n",
    "\n",
    "# training loop\n",
    "EPOCHS = 30\n",
    "for epoch in range(EPOCHS):\n",
    "    model.train()\n",
    "    running_loss = 0.0\n",
    "\n",
    "    for x, y in train_loader:\n",
    "        x, y = x.to(DEVICE), y.to(DEVICE)\n",
    "        optimizer.zero_grad()\n",
    "        logits = model(x.permute(0, 2, 1, 3, 4))  # Convert (B, T, C, H, W) → (B, C, T, H, W)\n",
    "        loss = criterion(logits, y)\n",
    "        loss.backward()\n",
    "        optimizer.step()\n",
    "        running_loss += loss.item()\n",
    "\n",
    "    avg_train_loss = running_loss / len(train_loader)\n",
    "    train_loss, train_acc, train_auc = evaluate(model, train_loader, criterion, return_metrics=True)\n",
    "    test_loss, test_acc, test_auc = evaluate(model, test_loader, criterion, return_metrics=True)\n",
    "\n",
    "    wandb.log({\n",
    "        \"epoch\": epoch + 1,\n",
    "        \"train_loss\": train_loss,\n",
    "        \"train_accuracy\": train_acc,\n",
    "        \"train_auc\": train_auc,\n",
    "        \"test_loss\": test_loss,\n",
    "        \"test_accuracy\": test_acc,\n",
    "        \"test_auc\": test_auc,\n",
    "        \"lr\": scheduler.get_last_lr()[0]\n",
    "    })\n",
    "\n",
    "    print(f\"\\nEpoch {epoch+1}\")\n",
    "    print(f\"Train → Loss: {train_loss:.4f} | Acc: {train_acc:.4f} | AUC: {train_auc:.4f}\")\n",
    "    print(f\"Test  → Loss: {test_loss:.4f} | Acc: {test_acc:.4f} | AUC: {test_auc:.4f}\")\n",
    "    scheduler.step()\n",
    "\n",
    "wandb.finish()"
   ]
  },
  {
   "cell_type": "markdown",
   "metadata": {
    "id": "N-zw1WJIFbDD"
   },
   "source": [
    "* Phase 7 (temporal attention) results:\n",
    "  - **Train AUC** steadily improved (**0.69 to 0.89**), with **train loss** decreasing (2.09 to 1.56)\n",
    "  - **Test AUC** still fluctuated and **test loss** remained high\n",
    "  - Attention enhanced temporal modeling (shown in training performance), but generalisation stayed limited\n"
   ]
  },
  {
   "cell_type": "markdown",
   "metadata": {
    "id": "KGpj8v9f9c9H"
   },
   "source": [
    "## Final Model Run on Full Dataset with Multiple Sequences per Video"
   ]
  },
  {
   "cell_type": "markdown",
   "metadata": {
    "id": "4RkG3ZQLAXzv"
   },
   "source": [
    "* 3D CNN with 4 conv blocks + global avg pool + FC, using best configuration found from grid search, and temporal attention:\n",
    "`Finetuned3DCNNWithAttention`\n",
    "* Optimizer: AdamW\n",
    "* Scheduler: StepLR\n",
    "* Loss: Class-weighted CrossEntropy, label smoothing\n",
    "* Dataset: Full, Multiple sequences per video (capped at 10 sequences due to feasibility)\n",
    "* 30 epochs"
   ]
  },
  {
   "cell_type": "code",
   "execution_count": 12,
   "metadata": {
    "colab": {
     "base_uri": "https://localhost:8080/"
    },
    "id": "0Xw-QAxs9ha9",
    "outputId": "627381cf-0a4d-4e27-b769-9153c1c6c1b8"
   },
   "outputs": [
    {
     "name": "stdout",
     "output_type": "stream",
     "text": [
      "Total samples collected: 2531\n",
      "Total samples collected: 607\n"
     ]
    }
   ],
   "source": [
    "# previously we used single sequence per vid for faster iteration, now we do multiple\n",
    "\n",
    "from sklearn.preprocessing import LabelEncoder\n",
    "\n",
    "SEQUENCE_LENGTH = 16\n",
    "IMG_SIZE = 224\n",
    "BATCH_SIZE = 4\n",
    "NUM_CLASSES = 8\n",
    "DEVICE = 'cuda' if torch.cuda.is_available() else 'cpu'\n",
    "use_multi_sequence = True # \"True\" to have multiple sequences from each video\n",
    "\n",
    "def create_dataset(path, multi=True):\n",
    "    base_class = VideoDatasetMulti if multi else VideoDatasetSingle\n",
    "    base_dataset = base_class(path, label_encoder, sequence_length=SEQUENCE_LENGTH, image_size=IMG_SIZE)\n",
    "    return VideoDataset3D(base_dataset)\n",
    "\n",
    "train_path = \"/content/data_trimmed_restructured/Train\"\n",
    "test_path = \"/content/data_trimmed_restructured/Test\"\n",
    "\n",
    "train_dataset_multi = create_dataset(train_path, multi=use_multi_sequence)\n",
    "test_dataset_multi = create_dataset(test_path, multi=use_multi_sequence)\n",
    "\n",
    "train_loader_multi = DataLoader(train_dataset_multi, batch_size=BATCH_SIZE, shuffle=True, num_workers=2)\n",
    "test_loader_multi = DataLoader(test_dataset_multi, batch_size=BATCH_SIZE, shuffle=False, num_workers=2)"
   ]
  },
  {
   "cell_type": "code",
   "execution_count": 13,
   "metadata": {
    "colab": {
     "base_uri": "https://localhost:8080/"
    },
    "id": "XYaDoG959Qo_",
    "outputId": "4174b2f3-b8d8-4e8f-807b-9deb2b329342"
   },
   "outputs": [
    {
     "name": "stdout",
     "output_type": "stream",
     "text": [
      "Class Counts: tensor([294., 195., 276., 379., 156., 337., 672., 222.])\n",
      "Class Weights: tensor([0.9022, 1.3602, 0.9610, 0.6998, 1.7002, 0.7871, 0.3947, 1.1948])\n"
     ]
    }
   ],
   "source": [
    "# calculate class weights again\n",
    "\n",
    "from collections import Counter\n",
    "import torch\n",
    "\n",
    "labels = [int(label) for _, label in train_dataset_multi]\n",
    "label_counts = Counter(labels)\n",
    "\n",
    "class_counts = torch.tensor([label_counts.get(i, 0) for i in range(NUM_CLASSES)], dtype=torch.float)\n",
    "print(\"Class Counts:\", class_counts)\n",
    "\n",
    "class_weights = 1.0 / (class_counts + 1e-6)\n",
    "class_weights = class_weights / class_weights.sum() * NUM_CLASSES\n",
    "print(\"Class Weights:\", class_weights)"
   ]
  },
  {
   "cell_type": "code",
   "execution_count": null,
   "metadata": {
    "colab": {
     "base_uri": "https://localhost:8080/",
     "height": 1000
    },
    "id": "HlkqN4Z0-RhP",
    "outputId": "277dab23-fc9b-44f7-e0fa-ec12ba836803"
   },
   "outputs": [
    {
     "name": "stderr",
     "output_type": "stream",
     "text": [
      "<ipython-input-18-579e44360587>:20: FutureWarning: `torch.cuda.amp.GradScaler(args...)` is deprecated. Please use `torch.amp.GradScaler('cuda', args...)` instead.\n",
      "  scaler = GradScaler()\n"
     ]
    },
    {
     "data": {
      "text/html": [
       "Changes to your `wandb` environment variables will be ignored because your `wandb` session has already started. For more information on how to modify your settings with `wandb.init()` arguments, please refer to <a href='https://wandb.me/wandb-init' target=\"_blank\">the W&B docs</a>."
      ],
      "text/plain": [
       "<IPython.core.display.HTML object>"
      ]
     },
     "metadata": {},
     "output_type": "display_data"
    },
    {
     "data": {
      "text/html": [],
      "text/plain": [
       "<IPython.core.display.HTML object>"
      ]
     },
     "metadata": {},
     "output_type": "display_data"
    },
    {
     "data": {
      "text/html": [
       " View run <strong style=\"color:#cdcd00\">finetuned3dcnn-attention</strong> at: <a href='https://wandb.ai/fareesahhussain-city-university-of-london/3dcnn-final-phase/runs/1rp4wj7p' target=\"_blank\">https://wandb.ai/fareesahhussain-city-university-of-london/3dcnn-final-phase/runs/1rp4wj7p</a><br> View project at: <a href='https://wandb.ai/fareesahhussain-city-university-of-london/3dcnn-final-phase' target=\"_blank\">https://wandb.ai/fareesahhussain-city-university-of-london/3dcnn-final-phase</a><br>Synced 5 W&B file(s), 0 media file(s), 0 artifact file(s) and 0 other file(s)"
      ],
      "text/plain": [
       "<IPython.core.display.HTML object>"
      ]
     },
     "metadata": {},
     "output_type": "display_data"
    },
    {
     "data": {
      "text/html": [
       "Find logs at: <code>./wandb/run-20250422_194454-1rp4wj7p/logs</code>"
      ],
      "text/plain": [
       "<IPython.core.display.HTML object>"
      ]
     },
     "metadata": {},
     "output_type": "display_data"
    },
    {
     "data": {
      "text/html": [
       "Tracking run with wandb version 0.19.9"
      ],
      "text/plain": [
       "<IPython.core.display.HTML object>"
      ]
     },
     "metadata": {},
     "output_type": "display_data"
    },
    {
     "data": {
      "text/html": [
       "Run data is saved locally in <code>/content/wandb/run-20250422_194900-5sw1406p</code>"
      ],
      "text/plain": [
       "<IPython.core.display.HTML object>"
      ]
     },
     "metadata": {},
     "output_type": "display_data"
    },
    {
     "data": {
      "text/html": [
       "Syncing run <strong><a href='https://wandb.ai/fareesahhussain-city-university-of-london/3dcnn-final-phase/runs/5sw1406p' target=\"_blank\">finetuned3dcnn-attention</a></strong> to <a href='https://wandb.ai/fareesahhussain-city-university-of-london/3dcnn-final-phase' target=\"_blank\">Weights & Biases</a> (<a href='https://wandb.me/developer-guide' target=\"_blank\">docs</a>)<br>"
      ],
      "text/plain": [
       "<IPython.core.display.HTML object>"
      ]
     },
     "metadata": {},
     "output_type": "display_data"
    },
    {
     "data": {
      "text/html": [
       " View project at <a href='https://wandb.ai/fareesahhussain-city-university-of-london/3dcnn-final-phase' target=\"_blank\">https://wandb.ai/fareesahhussain-city-university-of-london/3dcnn-final-phase</a>"
      ],
      "text/plain": [
       "<IPython.core.display.HTML object>"
      ]
     },
     "metadata": {},
     "output_type": "display_data"
    },
    {
     "data": {
      "text/html": [
       " View run at <a href='https://wandb.ai/fareesahhussain-city-university-of-london/3dcnn-final-phase/runs/5sw1406p' target=\"_blank\">https://wandb.ai/fareesahhussain-city-university-of-london/3dcnn-final-phase/runs/5sw1406p</a>"
      ],
      "text/plain": [
       "<IPython.core.display.HTML object>"
      ]
     },
     "metadata": {},
     "output_type": "display_data"
    },
    {
     "name": "stdout",
     "output_type": "stream",
     "text": [
      "\n",
      "Epoch 1\n",
      "Train → Loss: 1.9220 | Acc: 0.3789 | AUC: 0.7570\n",
      "Test  → Loss: 2.1971 | Acc: 0.2438 | AUC: 0.6242\n",
      "\n",
      "Epoch 2\n",
      "Train → Loss: 1.8970 | Acc: 0.3809 | AUC: 0.7730\n",
      "Test  → Loss: 2.2444 | Acc: 0.2372 | AUC: 0.6448\n",
      "\n",
      "Epoch 3\n",
      "Train → Loss: 1.8360 | Acc: 0.4251 | AUC: 0.8092\n",
      "Test  → Loss: 2.3028 | Acc: 0.2751 | AUC: 0.6407\n",
      "\n",
      "Epoch 4\n",
      "Train → Loss: 1.7254 | Acc: 0.4654 | AUC: 0.8362\n",
      "Test  → Loss: 2.2922 | Acc: 0.2224 | AUC: 0.6470\n",
      "\n",
      "Epoch 5\n",
      "Train → Loss: 1.7242 | Acc: 0.4931 | AUC: 0.8480\n",
      "Test  → Loss: 2.2982 | Acc: 0.2982 | AUC: 0.6780\n",
      "Checkpoint saved at epoch 5\n",
      "\n",
      "Epoch 6\n",
      "Train → Loss: 1.8276 | Acc: 0.5227 | AUC: 0.8499\n",
      "Test  → Loss: 2.4855 | Acc: 0.2784 | AUC: 0.6741\n",
      "\n",
      "Epoch 7\n",
      "Train → Loss: 1.6936 | Acc: 0.4959 | AUC: 0.8676\n",
      "Test  → Loss: 2.2797 | Acc: 0.2751 | AUC: 0.6489\n",
      "\n",
      "Epoch 8\n",
      "Train → Loss: 1.7221 | Acc: 0.4872 | AUC: 0.8658\n",
      "Test  → Loss: 2.5713 | Acc: 0.2273 | AUC: 0.6469\n",
      "\n",
      "Epoch 9\n",
      "Train → Loss: 1.6637 | Acc: 0.5026 | AUC: 0.8661\n",
      "Test  → Loss: 2.3615 | Acc: 0.2537 | AUC: 0.6737\n",
      "\n",
      "Epoch 10\n",
      "Train → Loss: 1.5683 | Acc: 0.5685 | AUC: 0.8879\n",
      "Test  → Loss: 2.4516 | Acc: 0.2372 | AUC: 0.6688\n",
      "Checkpoint saved at epoch 10\n",
      "\n",
      "Epoch 11\n",
      "Train → Loss: 1.4799 | Acc: 0.6460 | AUC: 0.9138\n",
      "Test  → Loss: 2.5056 | Acc: 0.2867 | AUC: 0.6648\n",
      "\n",
      "Epoch 12\n",
      "Train → Loss: 1.4895 | Acc: 0.5800 | AUC: 0.9066\n",
      "Test  → Loss: 2.5066 | Acc: 0.2702 | AUC: 0.6539\n",
      "\n",
      "Epoch 13\n",
      "Train → Loss: 1.4598 | Acc: 0.6112 | AUC: 0.9211\n",
      "Test  → Loss: 2.7419 | Acc: 0.2290 | AUC: 0.6319\n",
      "\n",
      "Epoch 14\n",
      "Train → Loss: 1.4038 | Acc: 0.6578 | AUC: 0.9256\n",
      "Test  → Loss: 2.6696 | Acc: 0.2998 | AUC: 0.6555\n",
      "\n",
      "Epoch 15\n",
      "Train → Loss: 1.3281 | Acc: 0.6756 | AUC: 0.9384\n",
      "Test  → Loss: 2.5506 | Acc: 0.2603 | AUC: 0.6959\n",
      "Checkpoint saved at epoch 15\n",
      "\n",
      "Epoch 16\n",
      "Train → Loss: 1.3449 | Acc: 0.6590 | AUC: 0.9388\n",
      "Test  → Loss: 2.6124 | Acc: 0.2356 | AUC: 0.6708\n",
      "\n",
      "Epoch 17\n",
      "Train → Loss: 1.3919 | Acc: 0.6551 | AUC: 0.9458\n",
      "Test  → Loss: 2.6682 | Acc: 0.3262 | AUC: 0.6908\n",
      "\n",
      "Epoch 18\n",
      "Train → Loss: 1.3420 | Acc: 0.6586 | AUC: 0.9493\n",
      "Test  → Loss: 2.7922 | Acc: 0.2669 | AUC: 0.6561\n",
      "\n",
      "Epoch 19\n",
      "Train → Loss: 1.2727 | Acc: 0.6503 | AUC: 0.9520\n",
      "Test  → Loss: 2.5586 | Acc: 0.2916 | AUC: 0.6867\n",
      "\n",
      "Epoch 20\n",
      "Train → Loss: 1.2639 | Acc: 0.6954 | AUC: 0.9571\n",
      "Test  → Loss: 2.9229 | Acc: 0.2768 | AUC: 0.6721\n",
      "Checkpoint saved at epoch 20\n",
      "\n",
      "Epoch 21\n",
      "Train → Loss: 1.1236 | Acc: 0.7566 | AUC: 0.9710\n",
      "Test  → Loss: 2.8735 | Acc: 0.2652 | AUC: 0.6565\n",
      "\n",
      "Epoch 22\n",
      "Train → Loss: 1.1399 | Acc: 0.7677 | AUC: 0.9731\n",
      "Test  → Loss: 2.8369 | Acc: 0.2389 | AUC: 0.6666\n",
      "\n",
      "Epoch 23\n",
      "Train → Loss: 1.1172 | Acc: 0.8044 | AUC: 0.9739\n",
      "Test  → Loss: 2.9018 | Acc: 0.2801 | AUC: 0.6770\n",
      "\n",
      "Epoch 24\n",
      "Train → Loss: 1.1875 | Acc: 0.7329 | AUC: 0.9729\n",
      "Test  → Loss: 3.0874 | Acc: 0.2273 | AUC: 0.6731\n",
      "\n",
      "Epoch 25\n",
      "Train → Loss: 1.0715 | Acc: 0.7973 | AUC: 0.9827\n",
      "Test  → Loss: 2.9293 | Acc: 0.2504 | AUC: 0.6847\n",
      "Checkpoint saved at epoch 25\n",
      "\n",
      "Epoch 26\n",
      "Train → Loss: 1.0677 | Acc: 0.7953 | AUC: 0.9798\n",
      "Test  → Loss: 2.8520 | Acc: 0.2735 | AUC: 0.6645\n",
      "\n",
      "Epoch 27\n",
      "Train → Loss: 1.1044 | Acc: 0.7922 | AUC: 0.9801\n",
      "Test  → Loss: 3.1086 | Acc: 0.2257 | AUC: 0.6785\n",
      "\n",
      "Epoch 28\n",
      "Train → Loss: 1.0089 | Acc: 0.8447 | AUC: 0.9885\n",
      "Test  → Loss: 3.1047 | Acc: 0.2768 | AUC: 0.6784\n",
      "\n",
      "Epoch 29\n",
      "Train → Loss: 0.9992 | Acc: 0.8412 | AUC: 0.9878\n",
      "Test  → Loss: 3.0712 | Acc: 0.2570 | AUC: 0.6817\n",
      "\n",
      "Epoch 30\n",
      "Train → Loss: 1.0468 | Acc: 0.8341 | AUC: 0.9858\n",
      "Test  → Loss: 2.9481 | Acc: 0.2916 | AUC: 0.6703\n",
      "Checkpoint saved at epoch 30\n"
     ]
    },
    {
     "data": {
      "text/html": [],
      "text/plain": [
       "<IPython.core.display.HTML object>"
      ]
     },
     "metadata": {},
     "output_type": "display_data"
    },
    {
     "data": {
      "text/html": [
       "<br>    <style><br>        .wandb-row {<br>            display: flex;<br>            flex-direction: row;<br>            flex-wrap: wrap;<br>            justify-content: flex-start;<br>            width: 100%;<br>        }<br>        .wandb-col {<br>            display: flex;<br>            flex-direction: column;<br>            flex-basis: 100%;<br>            flex: 1;<br>            padding: 10px;<br>        }<br>    </style><br><div class=\"wandb-row\"><div class=\"wandb-col\"><h3>Run history:</h3><br/><table class=\"wandb\"><tr><td>epoch</td><td>▁▁▁▂▂▂▂▃▃▃▃▄▄▄▄▅▅▅▅▆▆▆▆▇▇▇▇███</td></tr><tr><td>lr</td><td>██████████▃▃▃▃▃▃▃▃▃▃▁▁▁▁▁▁▁▁▁▁</td></tr><tr><td>test_accuracy</td><td>▂▂▅▁▆▅▅▁▃▂▅▄▁▆▄▂█▄▆▅▄▂▅▁▃▄▁▅▃▆</td></tr><tr><td>test_auc</td><td>▁▃▃▃▆▆▃▃▆▅▅▄▂▄█▆▇▄▇▆▄▅▆▆▇▅▆▆▇▅</td></tr><tr><td>test_loss</td><td>▁▁▂▂▂▃▂▄▂▃▃▃▅▅▄▄▅▆▄▇▆▆▆█▇▆███▇</td></tr><tr><td>train_accuracy</td><td>▁▁▂▂▃▃▃▃▃▄▅▄▄▅▅▅▅▅▅▆▇▇▇▆▇▇▇███</td></tr><tr><td>train_auc</td><td>▁▁▃▃▄▄▄▄▄▅▆▆▆▆▆▆▇▇▇▇▇█████████</td></tr><tr><td>train_loss</td><td>██▇▇▆▇▆▆▆▅▅▅▄▄▃▄▄▄▃▃▂▂▂▂▂▂▂▁▁▁</td></tr></table><br/></div><div class=\"wandb-col\"><h3>Run summary:</h3><br/><table class=\"wandb\"><tr><td>epoch</td><td>30</td></tr><tr><td>lr</td><td>1e-05</td></tr><tr><td>test_accuracy</td><td>0.2916</td></tr><tr><td>test_auc</td><td>0.67032</td></tr><tr><td>test_loss</td><td>2.94811</td></tr><tr><td>train_accuracy</td><td>0.83406</td></tr><tr><td>train_auc</td><td>0.98585</td></tr><tr><td>train_loss</td><td>1.04677</td></tr></table><br/></div></div>"
      ],
      "text/plain": [
       "<IPython.core.display.HTML object>"
      ]
     },
     "metadata": {},
     "output_type": "display_data"
    },
    {
     "data": {
      "text/html": [
       " View run <strong style=\"color:#cdcd00\">finetuned3dcnn-attention</strong> at: <a href='https://wandb.ai/fareesahhussain-city-university-of-london/3dcnn-final-phase/runs/5sw1406p' target=\"_blank\">https://wandb.ai/fareesahhussain-city-university-of-london/3dcnn-final-phase/runs/5sw1406p</a><br> View project at: <a href='https://wandb.ai/fareesahhussain-city-university-of-london/3dcnn-final-phase' target=\"_blank\">https://wandb.ai/fareesahhussain-city-university-of-london/3dcnn-final-phase</a><br>Synced 4 W&B file(s), 0 media file(s), 0 artifact file(s) and 0 other file(s)"
      ],
      "text/plain": [
       "<IPython.core.display.HTML object>"
      ]
     },
     "metadata": {},
     "output_type": "display_data"
    },
    {
     "data": {
      "text/html": [
       "Find logs at: <code>./wandb/run-20250422_194900-5sw1406p/logs</code>"
      ],
      "text/plain": [
       "<IPython.core.display.HTML object>"
      ]
     },
     "metadata": {},
     "output_type": "display_data"
    }
   ],
   "source": [
    "from torch.optim import AdamW\n",
    "from torch.optim.lr_scheduler import StepLR\n",
    "from torch.cuda.amp import autocast, GradScaler\n",
    "import wandb\n",
    "import torch\n",
    "import torch.nn as nn\n",
    "import torch.nn.functional as F\n",
    "from sklearn.metrics import accuracy_score, roc_auc_score\n",
    "import os\n",
    "\n",
    "# checkpoint for later access\n",
    "CHECKPOINT_DIR = \"/content/drive/MyDrive/checkpoints\"\n",
    "os.makedirs(CHECKPOINT_DIR, exist_ok=True)\n",
    "RESUME_PATH = os.path.join(CHECKPOINT_DIR, \"finetuned3dcnn_attention_checkpoint.pth\")\n",
    "\n",
    "# initilaise model using all improvements from previous phases\n",
    "model = Finetuned3DCNNWithAttention(num_classes=NUM_CLASSES, dropout=0.5).to(DEVICE)\n",
    "criterion = nn.CrossEntropyLoss(weight=class_weights.to(DEVICE), label_smoothing=0.1)\n",
    "optimizer = AdamW(model.parameters(), lr=5e-5, weight_decay=0.0001)\n",
    "scheduler = StepLR(optimizer, step_size=10, gamma=0.5)\n",
    "scaler = GradScaler()\n",
    "\n",
    "# resume logic\n",
    "start_epoch = 0\n",
    "if os.path.exists(RESUME_PATH):\n",
    "    checkpoint = torch.load(RESUME_PATH, map_location=DEVICE)\n",
    "    model.load_state_dict(checkpoint['model_state_dict'])\n",
    "    optimizer.load_state_dict(checkpoint['optimizer_state_dict'])\n",
    "    scheduler.load_state_dict(checkpoint['scheduler_state_dict'])\n",
    "    scaler.load_state_dict(checkpoint['scaler_state_dict'])\n",
    "    start_epoch = checkpoint['epoch']\n",
    "    print(f\"Resumed from epoch {start_epoch}\")\n",
    "\n",
    "# wandb init\n",
    "os.environ[\"WANDB_SILENT\"] = \"true\"\n",
    "wandb.init(\n",
    "    project=\"3dcnn-final-phase\",\n",
    "    name=\"finetuned3dcnn-attention\",\n",
    "    resume=\"allow\",\n",
    "    settings=wandb.Settings(console=\"off\")  # silence console logs\n",
    ")\n",
    "wandb.config.update({\n",
    "    \"model\": \"Finetuned3DCNNWithAttention\",\n",
    "    \"dropout\": 0.5,\n",
    "    \"weight_decay\": 0.0001,\n",
    "    \"lr\": 5e-5,\n",
    "    \"label_smoothing\": 0.1,\n",
    "    \"epochs\": 30,\n",
    "    \"batch_size\": train_loader_multi.batch_size\n",
    "})\n",
    "\n",
    "# training loop\n",
    "EPOCHS = 30\n",
    "for epoch in range(start_epoch, EPOCHS):\n",
    "    model.train()\n",
    "    running_loss = 0.0\n",
    "\n",
    "    for x, y in train_loader_multi:\n",
    "        x, y = x.to(DEVICE), y.to(DEVICE)\n",
    "\n",
    "        optimizer.zero_grad()\n",
    "\n",
    "        with torch.amp.autocast(device_type='cuda'):\n",
    "            logits = model(x.permute(0, 2, 1, 3, 4))\n",
    "            loss = criterion(logits, y)\n",
    "\n",
    "        scaler.scale(loss).backward()\n",
    "        scaler.step(optimizer)\n",
    "        scaler.update()\n",
    "\n",
    "        running_loss += loss.item()\n",
    "\n",
    "    avg_train_loss = running_loss / len(train_loader_multi)\n",
    "    train_loss, train_acc, train_auc = evaluate(model, train_loader_multi, criterion, return_metrics=True)\n",
    "    test_loss, test_acc, test_auc = evaluate(model, test_loader_multi, criterion, return_metrics=True)\n",
    "\n",
    "    # log\n",
    "    wandb.log({\n",
    "        \"epoch\": epoch + 1,\n",
    "        \"train_loss\": train_loss,\n",
    "        \"train_accuracy\": train_acc,\n",
    "        \"train_auc\": train_auc,\n",
    "        \"test_loss\": test_loss,\n",
    "        \"test_accuracy\": test_acc,\n",
    "        \"test_auc\": test_auc,\n",
    "        \"lr\": scheduler.get_last_lr()[0]\n",
    "    })\n",
    "\n",
    "    print(f\"\\nEpoch {epoch+1}\")\n",
    "    print(f\"Train → Loss: {train_loss:.4f} | Acc: {train_acc:.4f} | AUC: {train_auc:.4f}\")\n",
    "    print(f\"Test  → Loss: {test_loss:.4f} | Acc: {test_acc:.4f} | AUC: {test_auc:.4f}\")\n",
    "    scheduler.step()\n",
    "\n",
    "    # save checkpoint every 5 epochs\n",
    "    if (epoch + 1) % 5 == 0 or (epoch + 1) == EPOCHS:\n",
    "        torch.save({\n",
    "            'epoch': epoch + 1,\n",
    "            'model_state_dict': model.state_dict(),\n",
    "            'optimizer_state_dict': optimizer.state_dict(),\n",
    "            'scheduler_state_dict': scheduler.state_dict(),\n",
    "            'scaler_state_dict': scaler.state_dict()\n",
    "        }, RESUME_PATH)\n",
    "        print(f\"Checkpoint saved at epoch {epoch+1}\")\n",
    "\n",
    "wandb.finish()"
   ]
  },
  {
   "cell_type": "markdown",
   "metadata": {
    "id": "b0r6Vg3FGDDM"
   },
   "source": [
    "* Final run (multi-sequence per video) results:\n",
    "  - **Train AUC** showed strong growth (**0.76 to 0.98**) with **train loss** dropping significantly compared to previous runs (1.92 to 1.05)\n",
    "  - **Test AUC** improved slightly (0.62 to 0.67 by the last epoch, and peaked at 0.70)\n",
    "  - Using multi-sequences resulted in training performance to increase, showing great potential, but overall test generalisation challenges remain, despite improvement\n"
   ]
  }
 ],
 "metadata": {
  "accelerator": "GPU",
  "colab": {
   "gpuType": "L4",
   "machine_shape": "hm",
   "provenance": []
  },
  "kernelspec": {
   "display_name": "Python 3 (ipykernel)",
   "language": "python",
   "name": "python3"
  },
  "language_info": {
   "codemirror_mode": {
    "name": "ipython",
    "version": 3
   },
   "file_extension": ".py",
   "mimetype": "text/x-python",
   "name": "python",
   "nbconvert_exporter": "python",
   "pygments_lexer": "ipython3",
   "version": "3.9.13"
  },
  
    },
    "130c86486b194550be79a917febcbb75": {
     "model_module": "@jupyter-widgets/controls",
     "model_module_version": "1.5.0",
     "model_name": "DescriptionStyleModel",
     "state": {
      "_model_module": "@jupyter-widgets/controls",
      "_model_module_version": "1.5.0",
      "_model_name": "DescriptionStyleModel",
      "_view_count": null,
      "_view_module": "@jupyter-widgets/base",
      "_view_module_version": "1.2.0",
      "_view_name": "StyleView",
      "description_width": ""
     }
    },
    "1440346eef3a4e06bdce756cd1f7812f": {
     "model_module": "@jupyter-widgets/controls",
     "model_module_version": "1.5.0",
     "model_name": "ProgressStyleModel",
     "state": {
      "_model_module": "@jupyter-widgets/controls",
      "_model_module_version": "1.5.0",
      "_model_name": "ProgressStyleModel",
      "_view_count": null,
      "_view_module": "@jupyter-widgets/base",
      "_view_module_version": "1.2.0",
      "_view_name": "StyleView",
      "bar_color": null,
      "description_width": ""
     }
    },
    "29e64a819f2f49028e3a45a416d5f76a": {
     "model_module": "@jupyter-widgets/base",
     "model_module_version": "1.2.0",
     "model_name": "LayoutModel",
     "state": {
      "_model_module": "@jupyter-widgets/base",
      "_model_module_version": "1.2.0",
      "_model_name": "LayoutModel",
      "_view_count": null,
      "_view_module": "@jupyter-widgets/base",
      "_view_module_version": "1.2.0",
      "_view_name": "LayoutView",
      "align_content": null,
      "align_items": null,
      "align_self": null,
      "border": null,
      "bottom": null,
      "display": null,
      "flex": null,
      "flex_flow": null,
      "grid_area": null,
      "grid_auto_columns": null,
      "grid_auto_flow": null,
      "grid_auto_rows": null,
      "grid_column": null,
      "grid_gap": null,
      "grid_row": null,
      "grid_template_areas": null,
      "grid_template_columns": null,
      "grid_template_rows": null,
      "height": null,
      "justify_content": null,
      "justify_items": null,
      "left": null,
      "margin": null,
      "max_height": null,
      "max_width": null,
      "min_height": null,
      "min_width": null,
      "object_fit": null,
      "object_position": null,
      "order": null,
      "overflow": null,
      "overflow_x": null,
      "overflow_y": null,
      "padding": null,
      "right": null,
      "top": null,
      "visibility": null,
      "width": null
     }
    },
    "30308b2b3d0b4562b1a04cf3ee7cb878": {
     "model_module": "@jupyter-widgets/controls",
     "model_module_version": "1.5.0",
     "model_name": "HBoxModel",
     "state": {
      "_dom_classes": [],
      "_model_module": "@jupyter-widgets/controls",
      "_model_module_version": "1.5.0",
      "_model_name": "HBoxModel",
      "_view_count": null,
      "_view_module": "@jupyter-widgets/controls",
      "_view_module_version": "1.5.0",
      "_view_name": "HBoxView",
      "box_style": "",
      "children": [
       "IPY_MODEL_951eb1177c544dd29b56b8b135ab9a18",
       "IPY_MODEL_7aa42947d17e4b8f9cfdf2b80964f723",
       "IPY_MODEL_7676e95bdcfc49a3b3ced91e8bfbaa04"
      ],
      "layout": "IPY_MODEL_29e64a819f2f49028e3a45a416d5f76a"
     }
    },
    "4fa94660c0004f07a718913ff40844ff": {
     "model_module": "@jupyter-widgets/controls",
     "model_module_version": "1.5.0",
     "model_name": "DescriptionStyleModel",
     "state": {
      "_model_module": "@jupyter-widgets/controls",
      "_model_module_version": "1.5.0",
      "_model_name": "DescriptionStyleModel",
      "_view_count": null,
      "_view_module": "@jupyter-widgets/base",
      "_view_module_version": "1.2.0",
      "_view_name": "StyleView",
      "description_width": ""
     }
    },
    "52192a7fabe54b9680877a0b81ad55ca": {
     "model_module": "@jupyter-widgets/base",
     "model_module_version": "1.2.0",
     "model_name": "LayoutModel",
     "state": {
      "_model_module": "@jupyter-widgets/base",
      "_model_module_version": "1.2.0",
      "_model_name": "LayoutModel",
      "_view_count": null,
      "_view_module": "@jupyter-widgets/base",
      "_view_module_version": "1.2.0",
      "_view_name": "LayoutView",
      "align_content": null,
      "align_items": null,
      "align_self": null,
      "border": null,
      "bottom": null,
      "display": null,
      "flex": null,
      "flex_flow": null,
      "grid_area": null,
      "grid_auto_columns": null,
      "grid_auto_flow": null,
      "grid_auto_rows": null,
      "grid_column": null,
      "grid_gap": null,
      "grid_row": null,
      "grid_template_areas": null,
      "grid_template_columns": null,
      "grid_template_rows": null,
      "height": null,
      "justify_content": null,
      "justify_items": null,
      "left": null,
      "margin": null,
      "max_height": null,
      "max_width": null,
      "min_height": null,
      "min_width": null,
      "object_fit": null,
      "object_position": null,
      "order": null,
      "overflow": null,
      "overflow_x": null,
      "overflow_y": null,
      "padding": null,
      "right": null,
      "top": null,
      "visibility": null,
      "width": null
     }
    },
    "7676e95bdcfc49a3b3ced91e8bfbaa04": {
     "model_module": "@jupyter-widgets/controls",
     "model_module_version": "1.5.0",
     "model_name": "HTMLModel",
     "state": {
      "_dom_classes": [],
      "_model_module": "@jupyter-widgets/controls",
      "_model_module_version": "1.5.0",
      "_model_name": "HTMLModel",
      "_view_count": null,
      "_view_module": "@jupyter-widgets/controls",
      "_view_module_version": "1.5.0",
      "_view_name": "HTMLView",
      "description": "",
      "description_tooltip": null,
      "layout": "IPY_MODEL_52192a7fabe54b9680877a0b81ad55ca",
      "placeholder": "​",
      "style": "IPY_MODEL_130c86486b194550be79a917febcbb75",
      "value": " 436/436 [00:00&lt;00:00, 51.8kB/s]"
     }
    },
    "7aa42947d17e4b8f9cfdf2b80964f723": {
     "model_module": "@jupyter-widgets/controls",
     "model_module_version": "1.5.0",
     "model_name": "FloatProgressModel",
     "state": {
      "_dom_classes": [],
      "_model_module": "@jupyter-widgets/controls",
      "_model_module_version": "1.5.0",
      "_model_name": "FloatProgressModel",
      "_view_count": null,
      "_view_module": "@jupyter-widgets/controls",
      "_view_module_version": "1.5.0",
      "_view_name": "ProgressView",
      "bar_style": "success",
      "description": "",
      "description_tooltip": null,
      "layout": "IPY_MODEL_12fd2175e5c34a018e435ffc60962057",
      "max": 436,
      "min": 0,
      "orientation": "horizontal",
      "style": "IPY_MODEL_1440346eef3a4e06bdce756cd1f7812f",
      "value": 436
     }
    },
    "951eb1177c544dd29b56b8b135ab9a18": {
     "model_module": "@jupyter-widgets/controls",
     "model_module_version": "1.5.0",
     "model_name": "HTMLModel",
     "state": {
      "_dom_classes": [],
      "_model_module": "@jupyter-widgets/controls",
      "_model_module_version": "1.5.0",
      "_model_name": "HTMLModel",
      "_view_count": null,
      "_view_module": "@jupyter-widgets/controls",
      "_view_module_version": "1.5.0",
      "_view_name": "HTMLView",
      "description": "",
      "description_tooltip": null,
      "layout": "IPY_MODEL_f63287f607524c1d934d7cdc2a477d83",
      "placeholder": "​",
      "style": "IPY_MODEL_4fa94660c0004f07a718913ff40844ff",
      "value": "preprocessor_config.json: 100%"
     }
    },
    "f63287f607524c1d934d7cdc2a477d83": {
     "model_module": "@jupyter-widgets/base",
     "model_module_version": "1.2.0",
     "model_name": "LayoutModel",
     "state": {
      "_model_module": "@jupyter-widgets/base",
      "_model_module_version": "1.2.0",
      "_model_name": "LayoutModel",
      "_view_count": null,
      "_view_module": "@jupyter-widgets/base",
      "_view_module_version": "1.2.0",
      "_view_name": "LayoutView",
      "align_content": null,
      "align_items": null,
      "align_self": null,
      "border": null,
      "bottom": null,
      "display": null,
      "flex": null,
      "flex_flow": null,
      "grid_area": null,
      "grid_auto_columns": null,
      "grid_auto_flow": null,
      "grid_auto_rows": null,
      "grid_column": null,
      "grid_gap": null,
      "grid_row": null,
      "grid_template_areas": null,
      "grid_template_columns": null,
      "grid_template_rows": null,
      "height": null,
      "justify_content": null,
      "justify_items": null,
      "left": null,
      "margin": null,
      "max_height": null,
      "max_width": null,
      "min_height": null,
      "min_width": null,
      "object_fit": null,
      "object_position": null,
      "order": null,
      "overflow": null,
      "overflow_x": null,
      "overflow_y": null,
      "padding": null,
      "right": null,
      "top": null,
      "visibility": null,
      "width": null
     }
    }
   }
  }
 },
 "nbformat": 4,
 "nbformat_minor": 1
}
