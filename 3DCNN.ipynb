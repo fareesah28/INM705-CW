{
  "nbformat": 4,
  "nbformat_minor": 0,
  "metadata": {
    "colab": {
      "provenance": [],
      "machine_shape": "hm",
      "gpuType": "L4"
    },
    "kernelspec": {
      "name": "python3",
      "display_name": "Python 3"
    },
    "language_info": {
      "name": "python"
    },
    "accelerator": "GPU"
  },
  "cells": [
    {
      "cell_type": "markdown",
      "source": [
        "## Mount + Unzip + Subset (if required)"
      ],
      "metadata": {
        "id": "eWSwu37rkwao"
      }
    },
    {
      "cell_type": "code",
      "execution_count": 1,
      "metadata": {
        "colab": {
          "base_uri": "https://localhost:8080/"
        },
        "id": "-t4k5fXsitWa",
        "outputId": "6ef28cf9-d7f4-46bf-b739-6c85c88354f2"
      },
      "outputs": [
        {
          "output_type": "stream",
          "name": "stdout",
          "text": [
            "Mounted at /content/drive\n"
          ]
        }
      ],
      "source": [
        "from google.colab import drive\n",
        "drive.mount('/content/drive')"
      ]
    },
    {
      "cell_type": "code",
      "source": [
        "import zipfile\n",
        "with zipfile.ZipFile(\"/content/drive/MyDrive/data_trimmed_clean.zip\", 'r') as zip_ref:\n",
        "    zip_ref.extractall(\"/content\")"
      ],
      "metadata": {
        "id": "Xy1urj7Tk-4H"
      },
      "execution_count": 2,
      "outputs": []
    },
    {
      "cell_type": "code",
      "source": [
        "# ONLY USED FOR TESTING AND DEBUGGING - for final model we will use the whole dataset\n",
        "\n",
        "import os\n",
        "import shutil\n",
        "\n",
        "def create_debug_subset_sequential(source_dir, dest_dir, train_limit=6000, test_limit=2000):\n",
        "    if os.path.exists(dest_dir):\n",
        "        shutil.rmtree(dest_dir)\n",
        "    os.makedirs(dest_dir, exist_ok=True)\n",
        "\n",
        "    for split, limit in [(\"Train\", train_limit), (\"Test\", test_limit)]:\n",
        "        src_split_path = os.path.join(source_dir, split)\n",
        "        dst_split_path = os.path.join(dest_dir, split)\n",
        "        os.makedirs(dst_split_path, exist_ok=True)\n",
        "\n",
        "        for class_name in os.listdir(src_split_path):\n",
        "            class_src = os.path.join(src_split_path, class_name)\n",
        "            class_dst = os.path.join(dst_split_path, class_name)\n",
        "            os.makedirs(class_dst, exist_ok=True)\n",
        "\n",
        "            valid_images = sorted([f for f in os.listdir(class_src) if f.endswith(\".png\") and not f.startswith(\"._\")])\n",
        "            selected_images = valid_images[:limit]\n",
        "\n",
        "            for img in selected_images:\n",
        "                shutil.copy(os.path.join(class_src, img), os.path.join(class_dst, img))\n",
        "\n",
        "create_debug_subset_sequential(\"/content/data_trimmed\", \"/content/data_trimmed_subset\", train_limit=6000, test_limit=2000)\n",
        "\n",
        "# paths\n",
        "train_dir = \"/content/data_trimmed_subset/Train\"\n",
        "test_dir = \"/content/data_trimmed_subset/Test\""
      ],
      "metadata": {
        "id": "sehIvrO8wheb"
      },
      "execution_count": 3,
      "outputs": []
    },
    {
      "cell_type": "markdown",
      "source": [
        "## Restructure Dataset"
      ],
      "metadata": {
        "id": "HhD1gSOVlBL3"
      }
    },
    {
      "cell_type": "code",
      "source": [
        "import os, shutil\n",
        "from collections import defaultdict\n",
        "\n",
        "def extract_video_id(filename):\n",
        "    parts = filename.rsplit(\"_\", 1)\n",
        "    return parts[0] if len(parts) == 2 else filename.split(\"_frame\")[0]\n",
        "\n",
        "def restructure_dataset(src_dir, dst_dir):\n",
        "    os.makedirs(dst_dir, exist_ok=True)\n",
        "    for class_name in os.listdir(src_dir):\n",
        "        class_path = os.path.join(src_dir, class_name)\n",
        "        if not os.path.isdir(class_path): continue\n",
        "        video_frame_dict = defaultdict(list)\n",
        "        for fname in os.listdir(class_path):\n",
        "            if fname.endswith(\".png\"):\n",
        "                vid = extract_video_id(fname)\n",
        "                video_frame_dict[vid].append(fname)\n",
        "        for vid, frames in video_frame_dict.items():\n",
        "            out_folder = os.path.join(dst_dir, class_name, vid)\n",
        "            os.makedirs(out_folder, exist_ok=True)\n",
        "            for f in frames:\n",
        "                shutil.copy2(os.path.join(class_path, f), os.path.join(out_folder, f))\n",
        "\n",
        "# Run restructure\n",
        "# full dataset:\n",
        "restructure_dataset(\"/content/data_trimmed/Train\", \"/content/data_trimmed_restructured/Train\")\n",
        "restructure_dataset(\"/content/data_trimmed/Test\", \"/content/data_trimmed_restructured/Test\")\n",
        "\n",
        "# subsetted dataset\n",
        "restructure_dataset(\"/content/data_trimmed_subset/Train\", \"/content/data_trimmed_subset_restructured/Train\")\n",
        "restructure_dataset(\"/content/data_trimmed_subset/Test\", \"/content/data_trimmed_subset_restructured/Test\")"
      ],
      "metadata": {
        "id": "yb7PGfIolvTK"
      },
      "execution_count": 4,
      "outputs": []
    },
    {
      "cell_type": "markdown",
      "source": [
        "## Data Loading & Pre-processing + Configs"
      ],
      "metadata": {
        "id": "sUxuB1rYmH6Y"
      }
    },
    {
      "cell_type": "code",
      "source": [
        "import torch\n",
        "from torch.utils.data import Dataset, DataLoader\n",
        "from transformers import AutoImageProcessor\n",
        "from PIL import Image\n",
        "from sklearn.preprocessing import LabelEncoder\n",
        "from glob import glob\n",
        "import os\n",
        "import torch\n",
        "import torch.nn as nn\n",
        "import torch.nn.functional as F\n",
        "from torch.utils.data import Dataset, DataLoader\n",
        "from torchvision import transforms\n",
        "import os\n",
        "import random\n",
        "import wandb\n",
        "\n",
        "CLASS_NAMES = ['Arrest','Arson','Assault','Burglary','Explosion','Fighting','NormalVideos','Shooting']\n",
        "label_encoder = LabelEncoder()\n",
        "label_encoder.fit(CLASS_NAMES)\n",
        "\n",
        "from torch.utils.data import Dataset\n",
        "from transformers import AutoImageProcessor\n",
        "from glob import glob\n",
        "from PIL import Image\n",
        "import torch\n",
        "import os\n",
        "\n",
        "class VideoDatasetSingle(Dataset):\n",
        "    \"\"\"\n",
        "    One sequence per video – takes first `sequence_length` frames.\n",
        "    \"\"\"\n",
        "    def __init__(self, base_dir, label_encoder, sequence_length=16, image_size=224):\n",
        "        self.sequence_length = sequence_length\n",
        "        self.image_size = image_size\n",
        "        self.samples = []\n",
        "        self.processor = AutoImageProcessor.from_pretrained('facebook/dinov2-base')\n",
        "\n",
        "        for class_name in os.listdir(base_dir):\n",
        "            class_path = os.path.join(base_dir, class_name)\n",
        "            if not os.path.isdir(class_path): continue\n",
        "            for video_folder in os.listdir(class_path):\n",
        "                video_path = os.path.join(class_path, video_folder)\n",
        "                frame_paths = sorted(glob(os.path.join(video_path, '*.png')))\n",
        "                if len(frame_paths) >= sequence_length:\n",
        "                    label = label_encoder.transform([class_name])[0]\n",
        "                    clip = frame_paths[:sequence_length]\n",
        "                    self.samples.append((clip, label))\n",
        "\n",
        "    def __len__(self):\n",
        "        return len(self.samples)\n",
        "\n",
        "    def __getitem__(self, idx):\n",
        "        paths, label = self.samples[idx]\n",
        "        imgs = [Image.open(p).convert(\"RGB\").resize((224, 224)) for p in paths]\n",
        "        processed = self.processor(images=imgs, return_tensors=\"pt\")\n",
        "        return processed['pixel_values'].squeeze(0).permute(1, 0, 2, 3), torch.tensor(label)\n",
        "\n",
        "\n",
        "class VideoDatasetMulti(Dataset):\n",
        "    \"\"\"\n",
        "    Multiple sequences per video – extracted with stride.\n",
        "    \"\"\"\n",
        "    def __init__(self, base_dir, label_encoder, sequence_length=16, image_size=224, stride=8):\n",
        "        self.sequence_length = sequence_length\n",
        "        self.image_size = image_size\n",
        "        self.samples = []\n",
        "        self.processor = AutoImageProcessor.from_pretrained('facebook/dinov2-base')\n",
        "\n",
        "        for class_name in os.listdir(base_dir):\n",
        "            class_path = os.path.join(base_dir, class_name)\n",
        "            if not os.path.isdir(class_path): continue\n",
        "            for video_folder in os.listdir(class_path):\n",
        "                video_path = os.path.join(class_path, video_folder)\n",
        "                frame_paths = sorted(glob(os.path.join(video_path, '*.png')))\n",
        "                label = label_encoder.transform([class_name])[0]\n",
        "                for i in range(0, len(frame_paths) - sequence_length + 1, stride):\n",
        "                    clip = frame_paths[i:i+sequence_length]\n",
        "                    if len(clip) == sequence_length:\n",
        "                        self.samples.append((clip, label))\n",
        "\n",
        "    def __len__(self):\n",
        "        return len(self.samples)\n",
        "\n",
        "    def __getitem__(self, idx):\n",
        "        paths, label = self.samples[idx]\n",
        "        imgs = [Image.open(p).convert(\"RGB\").resize((224, 224)) for p in paths]\n",
        "        processed = self.processor(images=imgs, return_tensors=\"pt\")\n",
        "        return processed['pixel_values'].squeeze(0).permute(1, 0, 2, 3), torch.tensor(label)\n",
        "\n",
        "class VideoDataset3D(Dataset):\n",
        "    \"\"\"\n",
        "    Wrapper for any video dataset to convert shape to (C, T, H, W) for 3D CNNs.\n",
        "    \"\"\"\n",
        "    def __init__(self, base_dataset):\n",
        "        self.base_dataset = base_dataset\n",
        "\n",
        "    def __len__(self):\n",
        "        return len(self.base_dataset)\n",
        "\n",
        "    def __getitem__(self, idx):\n",
        "        pixel_values, label = self.base_dataset[idx]  # (T, C, H, W)\n",
        "        pixel_values = pixel_values.permute(1, 0, 2, 3)  # (C, T, H, W)\n",
        "        return pixel_values, label"
      ],
      "metadata": {
        "id": "lMP8hN9-mLrZ"
      },
      "execution_count": 5,
      "outputs": []
    },
    {
      "cell_type": "code",
      "source": [
        "from sklearn.preprocessing import LabelEncoder\n",
        "\n",
        "SEQUENCE_LENGTH = 16\n",
        "IMG_SIZE = 224\n",
        "BATCH_SIZE = 4\n",
        "NUM_CLASSES = 8\n",
        "DEVICE = 'cuda' if torch.cuda.is_available() else 'cpu'\n",
        "use_multi_sequence = False  # change to 'True' this to switch dataset type\n",
        "\n",
        "def create_dataset(path, multi=True):\n",
        "    base_class = VideoDatasetMulti if multi else VideoDatasetSingle\n",
        "    base_dataset = base_class(path, label_encoder, sequence_length=SEQUENCE_LENGTH, image_size=IMG_SIZE)\n",
        "    return VideoDataset3D(base_dataset)\n",
        "\n",
        "# full dataset\n",
        "train_path = \"/content/data_trimmed_restructured/Train\"\n",
        "test_path = \"/content/data_trimmed_restructured/Test\"\n",
        "\n",
        "train_dataset = create_dataset(train_path, multi=use_multi_sequence)\n",
        "test_dataset = create_dataset(test_path, multi=use_multi_sequence)\n",
        "\n",
        "train_loader = DataLoader(train_dataset, batch_size=BATCH_SIZE, shuffle=True, num_workers=2)\n",
        "test_loader = DataLoader(test_dataset, batch_size=BATCH_SIZE, shuffle=False, num_workers=2)\n",
        "\n",
        "# subsetted dataset\n",
        "train_subset_path = \"/content/data_trimmed_subset_restructured/Train\"\n",
        "test_subset_path = \"/content/data_trimmed_subset_restructured/Test\"\n",
        "\n",
        "train_subset_dataset = create_dataset(train_subset_path, multi=use_multi_sequence)\n",
        "test_subset_dataset = create_dataset(test_subset_path, multi=use_multi_sequence)\n",
        "\n",
        "train_subset_loader = DataLoader(train_subset_dataset, batch_size=BATCH_SIZE, shuffle=True, num_workers=2)\n",
        "test_subset_loader = DataLoader(test_subset_dataset, batch_size=BATCH_SIZE, shuffle=False, num_workers=2)"
      ],
      "metadata": {
        "id": "b5tthCHpmOiN"
      },
      "execution_count": 14,
      "outputs": []
    },
    {
      "cell_type": "markdown",
      "source": [
        "## Phase 1: Initial Model Setup"
      ],
      "metadata": {
        "id": "kJzEp8xiyMtw"
      }
    },
    {
      "cell_type": "markdown",
      "source": [
        "* Simple 3D CNN (3 conv blocks + global avg pool + FC)\n",
        "* Optimizer: Adam\n",
        "* Loss: CrossEntropy\n",
        "* Dataset: Full, single sequence per video (for faster iteration)\n",
        "* 15 epochs\n"
      ],
      "metadata": {
        "id": "DNLycgxBE1QP"
      }
    },
    {
      "cell_type": "code",
      "source": [
        "# RUN JUST ONCE ON COLAB\n",
        "!pip install -q wandb"
      ],
      "metadata": {
        "id": "xsX1PYwtnZCY"
      },
      "execution_count": 15,
      "outputs": []
    },
    {
      "cell_type": "code",
      "source": [
        "import torch\n",
        "import torch.nn as nn\n",
        "import torch.nn.functional as F\n",
        "from torch.utils.data import DataLoader\n",
        "from sklearn.metrics import accuracy_score, roc_auc_score\n",
        "import wandb\n",
        "\n",
        "class Simple3DCNN(nn.Module):\n",
        "    def __init__(self, num_classes=8):\n",
        "        super().__init__()\n",
        "        self.model = nn.Sequential(\n",
        "            nn.Conv3d(3, 32, kernel_size=(3, 5, 5), stride=1, padding=(1, 2, 2)),\n",
        "            nn.BatchNorm3d(32),\n",
        "            nn.ReLU(),\n",
        "            nn.MaxPool3d((1, 2, 2)),\n",
        "\n",
        "            nn.Conv3d(32, 64, kernel_size=(3, 3, 3), stride=1, padding=1),\n",
        "            nn.BatchNorm3d(64),\n",
        "            nn.ReLU(),\n",
        "            nn.MaxPool3d((2, 2, 2)),\n",
        "\n",
        "            nn.Conv3d(64, 128, kernel_size=(3, 3, 3), stride=1, padding=1),\n",
        "            nn.BatchNorm3d(128),\n",
        "            nn.ReLU(),\n",
        "            nn.AdaptiveAvgPool3d((1, 1, 1)),\n",
        "        )\n",
        "        self.fc = nn.Linear(128, num_classes)\n",
        "\n",
        "    def forward(self, x):\n",
        "        x = self.model(x)\n",
        "        x = x.view(x.size(0), -1)\n",
        "        return self.fc(x)"
      ],
      "metadata": {
        "id": "vx5HIumYzJef"
      },
      "execution_count": 8,
      "outputs": []
    },
    {
      "cell_type": "code",
      "source": [
        "# evaluation function\n",
        "def evaluate(model, loader, criterion, split='Test', return_metrics=False):\n",
        "    model.eval()\n",
        "    total_loss = 0.0\n",
        "    total_preds, total_probs, total_labels = [], [], []\n",
        "\n",
        "    with torch.no_grad():\n",
        "        for x, y in loader:\n",
        "            x, y = x.to(DEVICE), y.to(DEVICE)\n",
        "\n",
        "            # Fix: permute input to match model's expected shape\n",
        "            x = x.permute(0, 2, 1, 3, 4)  # [B, T, 3, H, W] → [B, 3, T, H, W]\n",
        "\n",
        "            logits = model(x)\n",
        "            probs = F.softmax(logits, dim=1)\n",
        "            loss = criterion(logits, y)\n",
        "\n",
        "            total_loss += loss.item()\n",
        "            total_probs.append(probs.cpu())\n",
        "            total_preds.append(torch.argmax(probs, dim=1).cpu())\n",
        "            total_labels.append(y.cpu())\n",
        "\n",
        "    y_true = torch.cat(total_labels).numpy()\n",
        "    y_pred = torch.cat(total_preds).numpy()\n",
        "    y_probs = torch.cat(total_probs).numpy()\n",
        "\n",
        "    acc = accuracy_score(y_true, y_pred)\n",
        "    try:\n",
        "        auc = roc_auc_score(y_true, y_probs, multi_class='ovr', average='macro')\n",
        "    except ValueError:\n",
        "        auc = 0.0\n",
        "\n",
        "    avg_loss = total_loss / len(loader)\n",
        "\n",
        "    if return_metrics:\n",
        "        return avg_loss, acc, auc\n",
        "    else:\n",
        "        print(f\"{split} Loss: {avg_loss:.4f} | Accuracy: {acc:.4f} | AUC: {auc:.4f}\")"
      ],
      "metadata": {
        "id": "knNgckFZnjWr"
      },
      "execution_count": 7,
      "outputs": []
    },
    {
      "cell_type": "code",
      "source": [
        "model = Simple3DCNN(num_classes=NUM_CLASSES).to(DEVICE)\n",
        "criterion = nn.CrossEntropyLoss()\n",
        "optimizer = torch.optim.Adam(model.parameters(), lr=1e-4)\n",
        "\n",
        "# init wandb\n",
        "wandb.init(project=\"3dcnn-phase1\", name=\"simple3dcnn-baseline\")\n",
        "wandb.config.update({\n",
        "    \"architecture\": \"Simple3DCNN\",\n",
        "    \"optimizer\": \"Adam\",\n",
        "    \"learning_rate\": 1e-4,\n",
        "    \"loss\": \"CrossEntropyLoss\",\n",
        "    \"batch_size\": train_loader.batch_size,\n",
        "    \"device\": DEVICE\n",
        "})\n",
        "\n",
        "# training loop\n",
        "EPOCHS = 15\n",
        "for epoch in range(EPOCHS):\n",
        "    model.train()\n",
        "    running_loss = 0.0\n",
        "\n",
        "    for x, y in train_loader:\n",
        "        x, y = x.to(DEVICE), y.to(DEVICE)\n",
        "        optimizer.zero_grad()\n",
        "        logits = model(x.permute(0, 2, 1, 3, 4))\n",
        "        loss = criterion(logits, y)\n",
        "        loss.backward()\n",
        "        optimizer.step()\n",
        "        running_loss += loss.item()\n",
        "\n",
        "    avg_train_loss = running_loss / len(train_loader)\n",
        "    train_loss, train_acc, train_auc = evaluate(model, train_loader, criterion, split='Train', return_metrics=True)\n",
        "    test_loss, test_acc, test_auc = evaluate(model, test_loader, criterion, split='Test', return_metrics=True)\n",
        "\n",
        "    # log to wandb\n",
        "    wandb.log({\n",
        "        \"epoch\": epoch + 1,\n",
        "        \"train_loss\": train_loss,\n",
        "        \"train_accuracy\": train_acc,\n",
        "        \"train_auc\": train_auc,\n",
        "        \"test_loss\": test_loss,\n",
        "        \"test_accuracy\": test_acc,\n",
        "        \"test_auc\": test_auc\n",
        "    })\n",
        "\n",
        "    # print summary\n",
        "    print(f\"\\nEpoch {epoch+1}\")\n",
        "    print(f\"Train → Loss: {train_loss:.4f} | Acc: {train_acc:.4f} | AUC: {train_auc:.4f}\")\n",
        "    print(f\"Test  → Loss: {test_loss:.4f} | Acc: {test_acc:.4f} | AUC: {test_auc:.4f}\")"
      ],
      "metadata": {
        "colab": {
          "base_uri": "https://localhost:8080/",
          "height": 1000
        },
        "id": "JzYvAMaz0GuL",
        "outputId": "9d2507b4-e893-4e88-8b02-0b1658f1b5b9"
      },
      "execution_count": 16,
      "outputs": [
        {
          "output_type": "display_data",
          "data": {
            "text/plain": [
              "<IPython.core.display.HTML object>"
            ],
            "text/html": []
          },
          "metadata": {}
        },
        {
          "output_type": "display_data",
          "data": {
            "text/plain": [
              "<IPython.core.display.HTML object>"
            ],
            "text/html": [
              " View run <strong style=\"color:#cdcd00\">simple3dcnn-baseline</strong> at: <a href='https://wandb.ai/fareesahhussain-city-university-of-london/3dcnn-phase1/runs/o5xrpno4' target=\"_blank\">https://wandb.ai/fareesahhussain-city-university-of-london/3dcnn-phase1/runs/o5xrpno4</a><br> View project at: <a href='https://wandb.ai/fareesahhussain-city-university-of-london/3dcnn-phase1' target=\"_blank\">https://wandb.ai/fareesahhussain-city-university-of-london/3dcnn-phase1</a><br>Synced 5 W&B file(s), 0 media file(s), 0 artifact file(s) and 0 other file(s)"
            ]
          },
          "metadata": {}
        },
        {
          "output_type": "display_data",
          "data": {
            "text/plain": [
              "<IPython.core.display.HTML object>"
            ],
            "text/html": [
              "Find logs at: <code>./wandb/run-20250421_202032-o5xrpno4/logs</code>"
            ]
          },
          "metadata": {}
        },
        {
          "output_type": "display_data",
          "data": {
            "text/plain": [
              "<IPython.core.display.HTML object>"
            ],
            "text/html": [
              "Tracking run with wandb version 0.19.9"
            ]
          },
          "metadata": {}
        },
        {
          "output_type": "display_data",
          "data": {
            "text/plain": [
              "<IPython.core.display.HTML object>"
            ],
            "text/html": [
              "Run data is saved locally in <code>/content/wandb/run-20250421_202249-eojb1ahg</code>"
            ]
          },
          "metadata": {}
        },
        {
          "output_type": "display_data",
          "data": {
            "text/plain": [
              "<IPython.core.display.HTML object>"
            ],
            "text/html": [
              "Syncing run <strong><a href='https://wandb.ai/fareesahhussain-city-university-of-london/3dcnn-phase1/runs/eojb1ahg' target=\"_blank\">simple3dcnn-baseline</a></strong> to <a href='https://wandb.ai/fareesahhussain-city-university-of-london/3dcnn-phase1' target=\"_blank\">Weights & Biases</a> (<a href='https://wandb.me/developer-guide' target=\"_blank\">docs</a>)<br>"
            ]
          },
          "metadata": {}
        },
        {
          "output_type": "display_data",
          "data": {
            "text/plain": [
              "<IPython.core.display.HTML object>"
            ],
            "text/html": [
              " View project at <a href='https://wandb.ai/fareesahhussain-city-university-of-london/3dcnn-phase1' target=\"_blank\">https://wandb.ai/fareesahhussain-city-university-of-london/3dcnn-phase1</a>"
            ]
          },
          "metadata": {}
        },
        {
          "output_type": "display_data",
          "data": {
            "text/plain": [
              "<IPython.core.display.HTML object>"
            ],
            "text/html": [
              " View run at <a href='https://wandb.ai/fareesahhussain-city-university-of-london/3dcnn-phase1/runs/eojb1ahg' target=\"_blank\">https://wandb.ai/fareesahhussain-city-university-of-london/3dcnn-phase1/runs/eojb1ahg</a>"
            ]
          },
          "metadata": {}
        },
        {
          "output_type": "stream",
          "name": "stdout",
          "text": [
            "\n",
            "Epoch 1\n",
            "Train → Loss: 1.8922 | Acc: 0.3462 | AUC: 0.6682\n",
            "Test  → Loss: 2.0284 | Acc: 0.2308 | AUC: 0.5935\n",
            "\n",
            "Epoch 2\n",
            "Train → Loss: 1.8660 | Acc: 0.3531 | AUC: 0.6644\n",
            "Test  → Loss: 1.9466 | Acc: 0.3077 | AUC: 0.6314\n",
            "\n",
            "Epoch 3\n",
            "Train → Loss: 1.8110 | Acc: 0.3741 | AUC: 0.6994\n",
            "Test  → Loss: 1.9394 | Acc: 0.2923 | AUC: 0.6284\n",
            "\n",
            "Epoch 4\n",
            "Train → Loss: 1.7728 | Acc: 0.3636 | AUC: 0.7073\n",
            "Test  → Loss: 1.9418 | Acc: 0.3077 | AUC: 0.6330\n",
            "\n",
            "Epoch 5\n",
            "Train → Loss: 1.7466 | Acc: 0.3951 | AUC: 0.7257\n",
            "Test  → Loss: 1.9630 | Acc: 0.3231 | AUC: 0.6305\n",
            "\n",
            "Epoch 6\n",
            "Train → Loss: 1.8084 | Acc: 0.3881 | AUC: 0.7267\n",
            "Test  → Loss: 1.9369 | Acc: 0.2769 | AUC: 0.6290\n",
            "\n",
            "Epoch 7\n",
            "Train → Loss: 1.7893 | Acc: 0.3741 | AUC: 0.7261\n",
            "Test  → Loss: 1.9841 | Acc: 0.2923 | AUC: 0.6241\n",
            "\n",
            "Epoch 8\n",
            "Train → Loss: 1.7259 | Acc: 0.4126 | AUC: 0.7191\n",
            "Test  → Loss: 1.9767 | Acc: 0.3077 | AUC: 0.6367\n",
            "\n",
            "Epoch 9\n",
            "Train → Loss: 1.7306 | Acc: 0.4021 | AUC: 0.7359\n",
            "Test  → Loss: 1.9961 | Acc: 0.2462 | AUC: 0.6324\n",
            "\n",
            "Epoch 10\n",
            "Train → Loss: 1.7139 | Acc: 0.4266 | AUC: 0.7372\n",
            "Test  → Loss: 1.9896 | Acc: 0.2923 | AUC: 0.6386\n",
            "\n",
            "Epoch 11\n",
            "Train → Loss: 1.7245 | Acc: 0.4231 | AUC: 0.7456\n",
            "Test  → Loss: 1.9603 | Acc: 0.3077 | AUC: 0.6245\n",
            "\n",
            "Epoch 12\n",
            "Train → Loss: 1.6766 | Acc: 0.4161 | AUC: 0.7501\n",
            "Test  → Loss: 1.9912 | Acc: 0.3231 | AUC: 0.6261\n",
            "\n",
            "Epoch 13\n",
            "Train → Loss: 1.6845 | Acc: 0.3741 | AUC: 0.7618\n",
            "Test  → Loss: 1.9741 | Acc: 0.2769 | AUC: 0.6392\n",
            "\n",
            "Epoch 14\n",
            "Train → Loss: 1.7222 | Acc: 0.4196 | AUC: 0.7387\n",
            "Test  → Loss: 2.0267 | Acc: 0.3077 | AUC: 0.6452\n",
            "\n",
            "Epoch 15\n",
            "Train → Loss: 1.6906 | Acc: 0.4126 | AUC: 0.7423\n",
            "Test  → Loss: 2.0400 | Acc: 0.2769 | AUC: 0.6457\n"
          ]
        }
      ]
    },
    {
      "cell_type": "markdown",
      "source": [
        "## Phase 2: Base model with AdamW, weight decay, and learning rate scheduler"
      ],
      "metadata": {
        "id": "kvzYyfY-5giD"
      }
    },
    {
      "cell_type": "markdown",
      "source": [
        "* Same model\n",
        "* Optimizer: AdamW with weight decay\n",
        "* Scheduler: StepLR\n",
        "* Dataset: Full, single sequence per video (for faster iteration)\n",
        "* 15 epochs"
      ],
      "metadata": {
        "id": "vpIHn_oxE-MU"
      }
    },
    {
      "cell_type": "code",
      "source": [
        "from torch.optim import AdamW\n",
        "from torch.optim.lr_scheduler import StepLR\n",
        "\n",
        "model = Simple3DCNN(num_classes=NUM_CLASSES).to(DEVICE)\n",
        "criterion = nn.CrossEntropyLoss()\n",
        "optimizer = AdamW(model.parameters(), lr=1e-4, weight_decay=1e-4)\n",
        "scheduler = StepLR(optimizer, step_size=10, gamma=0.5)\n",
        "\n",
        "# init wandb\n",
        "wandb.init(project=\"3d-cnn-phase2\", name=\"phase2-single-seq-full\", config={\n",
        "    \"model\": \"Simple3DCNN\",\n",
        "    \"optimizer\": \"AdamW\",\n",
        "    \"lr\": 1e-4,\n",
        "    \"weight_decay\": 1e-4,\n",
        "    \"scheduler\": \"StepLR (step=10, gamma=0.5)\",\n",
        "    \"epochs\": 15,\n",
        "    \"batch_size\": BATCH_SIZE,\n",
        "    \"sequence_type\": \"single\",\n",
        "    \"dataset\": \"full\"\n",
        "})\n",
        "\n",
        "# training loop\n",
        "EPOCHS = 15\n",
        "for epoch in range(EPOCHS):\n",
        "    model.train()\n",
        "    running_loss = 0.0\n",
        "    for x, y in train_loader:\n",
        "        x, y = x.to(DEVICE), y.to(DEVICE)\n",
        "        optimizer.zero_grad()\n",
        "        logits = model(x.permute(0, 2, 1, 3, 4))\n",
        "        loss = criterion(logits, y)\n",
        "        loss.backward()\n",
        "        optimizer.step()\n",
        "        running_loss += loss.item()\n",
        "\n",
        "    avg_train_loss = running_loss / len(train_loader)\n",
        "    train_loss, train_acc, train_auc = evaluate(model, train_loader, criterion, split='Train', return_metrics=True)\n",
        "    test_loss, test_acc, test_auc = evaluate(model, test_loader, criterion, split='Test', return_metrics=True)\n",
        "\n",
        "    # log\n",
        "    wandb.log({\n",
        "        \"epoch\": epoch + 1,\n",
        "        \"train_loss\": train_loss,\n",
        "        \"train_accuracy\": train_acc,\n",
        "        \"train_auc\": train_auc,\n",
        "        \"test_loss\": test_loss,\n",
        "        \"test_accuracy\": test_acc,\n",
        "        \"test_auc\": test_auc,\n",
        "        \"lr\": scheduler.get_last_lr()[0]\n",
        "    })\n",
        "\n",
        "    print(f\"\\nEpoch {epoch+1}\")\n",
        "    print(f\"Train → Loss: {train_loss:.4f} | Acc: {train_acc:.4f} | AUC: {train_auc:.4f}\")\n",
        "    print(f\"Test  → Loss: {test_loss:.4f} | Acc: {test_acc:.4f} | AUC: {test_auc:.4f}\")\n",
        "\n",
        "    scheduler.step()"
      ],
      "metadata": {
        "colab": {
          "base_uri": "https://localhost:8080/",
          "height": 1000
        },
        "id": "IY5LdQmF5p1j",
        "outputId": "0e5b8842-7469-4863-b283-9a29360cb157"
      },
      "execution_count": 18,
      "outputs": [
        {
          "output_type": "display_data",
          "data": {
            "text/plain": [
              "<IPython.core.display.HTML object>"
            ],
            "text/html": []
          },
          "metadata": {}
        },
        {
          "output_type": "display_data",
          "data": {
            "text/plain": [
              "<IPython.core.display.HTML object>"
            ],
            "text/html": [
              " View run <strong style=\"color:#cdcd00\">phase2-single-seq-full</strong> at: <a href='https://wandb.ai/fareesahhussain-city-university-of-london/3d-cnn-phase2/runs/kvgu5o2f' target=\"_blank\">https://wandb.ai/fareesahhussain-city-university-of-london/3d-cnn-phase2/runs/kvgu5o2f</a><br> View project at: <a href='https://wandb.ai/fareesahhussain-city-university-of-london/3d-cnn-phase2' target=\"_blank\">https://wandb.ai/fareesahhussain-city-university-of-london/3d-cnn-phase2</a><br>Synced 5 W&B file(s), 0 media file(s), 0 artifact file(s) and 0 other file(s)"
            ]
          },
          "metadata": {}
        },
        {
          "output_type": "display_data",
          "data": {
            "text/plain": [
              "<IPython.core.display.HTML object>"
            ],
            "text/html": [
              "Find logs at: <code>./wandb/run-20250421_202858-kvgu5o2f/logs</code>"
            ]
          },
          "metadata": {}
        },
        {
          "output_type": "display_data",
          "data": {
            "text/plain": [
              "<IPython.core.display.HTML object>"
            ],
            "text/html": [
              "Tracking run with wandb version 0.19.9"
            ]
          },
          "metadata": {}
        },
        {
          "output_type": "display_data",
          "data": {
            "text/plain": [
              "<IPython.core.display.HTML object>"
            ],
            "text/html": [
              "Run data is saved locally in <code>/content/wandb/run-20250421_203008-tw4mo1f3</code>"
            ]
          },
          "metadata": {}
        },
        {
          "output_type": "display_data",
          "data": {
            "text/plain": [
              "<IPython.core.display.HTML object>"
            ],
            "text/html": [
              "Syncing run <strong><a href='https://wandb.ai/fareesahhussain-city-university-of-london/3d-cnn-phase2/runs/tw4mo1f3' target=\"_blank\">phase2-single-seq-full</a></strong> to <a href='https://wandb.ai/fareesahhussain-city-university-of-london/3d-cnn-phase2' target=\"_blank\">Weights & Biases</a> (<a href='https://wandb.me/developer-guide' target=\"_blank\">docs</a>)<br>"
            ]
          },
          "metadata": {}
        },
        {
          "output_type": "display_data",
          "data": {
            "text/plain": [
              "<IPython.core.display.HTML object>"
            ],
            "text/html": [
              " View project at <a href='https://wandb.ai/fareesahhussain-city-university-of-london/3d-cnn-phase2' target=\"_blank\">https://wandb.ai/fareesahhussain-city-university-of-london/3d-cnn-phase2</a>"
            ]
          },
          "metadata": {}
        },
        {
          "output_type": "display_data",
          "data": {
            "text/plain": [
              "<IPython.core.display.HTML object>"
            ],
            "text/html": [
              " View run at <a href='https://wandb.ai/fareesahhussain-city-university-of-london/3d-cnn-phase2/runs/tw4mo1f3' target=\"_blank\">https://wandb.ai/fareesahhussain-city-university-of-london/3d-cnn-phase2/runs/tw4mo1f3</a>"
            ]
          },
          "metadata": {}
        },
        {
          "output_type": "stream",
          "name": "stdout",
          "text": [
            "\n",
            "Epoch 1\n",
            "Train → Loss: 1.9199 | Acc: 0.3252 | AUC: 0.6700\n",
            "Test  → Loss: 2.0497 | Acc: 0.2308 | AUC: 0.5822\n",
            "\n",
            "Epoch 2\n",
            "Train → Loss: 1.8026 | Acc: 0.3566 | AUC: 0.7111\n",
            "Test  → Loss: 1.9851 | Acc: 0.3077 | AUC: 0.6112\n",
            "\n",
            "Epoch 3\n",
            "Train → Loss: 1.7898 | Acc: 0.3636 | AUC: 0.7132\n",
            "Test  → Loss: 1.9625 | Acc: 0.3385 | AUC: 0.6063\n",
            "\n",
            "Epoch 4\n",
            "Train → Loss: 1.8295 | Acc: 0.3357 | AUC: 0.6746\n",
            "Test  → Loss: 2.0562 | Acc: 0.2769 | AUC: 0.6092\n",
            "\n",
            "Epoch 5\n",
            "Train → Loss: 1.7592 | Acc: 0.3741 | AUC: 0.7212\n",
            "Test  → Loss: 2.0010 | Acc: 0.3231 | AUC: 0.6084\n",
            "\n",
            "Epoch 6\n",
            "Train → Loss: 1.7527 | Acc: 0.3776 | AUC: 0.7295\n",
            "Test  → Loss: 2.0291 | Acc: 0.2769 | AUC: 0.6338\n",
            "\n",
            "Epoch 7\n",
            "Train → Loss: 1.7258 | Acc: 0.3811 | AUC: 0.7445\n",
            "Test  → Loss: 1.9944 | Acc: 0.3077 | AUC: 0.6323\n",
            "\n",
            "Epoch 8\n",
            "Train → Loss: 1.6967 | Acc: 0.3951 | AUC: 0.7475\n",
            "Test  → Loss: 1.9895 | Acc: 0.3077 | AUC: 0.6278\n",
            "\n",
            "Epoch 9\n",
            "Train → Loss: 1.7317 | Acc: 0.3776 | AUC: 0.7315\n",
            "Test  → Loss: 1.9815 | Acc: 0.3077 | AUC: 0.6444\n",
            "\n",
            "Epoch 10\n",
            "Train → Loss: 1.6719 | Acc: 0.4056 | AUC: 0.7603\n",
            "Test  → Loss: 1.9742 | Acc: 0.3231 | AUC: 0.6251\n",
            "\n",
            "Epoch 11\n",
            "Train → Loss: 1.6571 | Acc: 0.4126 | AUC: 0.7704\n",
            "Test  → Loss: 1.9826 | Acc: 0.3077 | AUC: 0.6307\n",
            "\n",
            "Epoch 12\n",
            "Train → Loss: 1.6739 | Acc: 0.4336 | AUC: 0.7734\n",
            "Test  → Loss: 1.9738 | Acc: 0.3231 | AUC: 0.6188\n",
            "\n",
            "Epoch 13\n",
            "Train → Loss: 1.6372 | Acc: 0.4336 | AUC: 0.7752\n",
            "Test  → Loss: 1.9748 | Acc: 0.3231 | AUC: 0.6263\n",
            "\n",
            "Epoch 14\n",
            "Train → Loss: 1.6453 | Acc: 0.4371 | AUC: 0.7835\n",
            "Test  → Loss: 1.9547 | Acc: 0.3385 | AUC: 0.6327\n",
            "\n",
            "Epoch 15\n",
            "Train → Loss: 1.6236 | Acc: 0.4371 | AUC: 0.7806\n",
            "Test  → Loss: 1.9873 | Acc: 0.2923 | AUC: 0.6302\n"
          ]
        }
      ]
    },
    {
      "cell_type": "markdown",
      "source": [
        "## Phase 3: Added Conv layer"
      ],
      "metadata": {
        "id": "ssxOgHEzFLF6"
      }
    },
    {
      "cell_type": "code",
      "source": [
        "import torch\n",
        "import torch.nn as nn\n",
        "\n",
        "class Simple3DCNNPhase3(nn.Module):\n",
        "    def __init__(self, num_classes=8, dropout=None):\n",
        "        super().__init__()\n",
        "        layers = [\n",
        "            nn.Conv3d(3, 32, kernel_size=(3, 5, 5), stride=1, padding=(1, 2, 2)),\n",
        "            nn.BatchNorm3d(32),\n",
        "            nn.ReLU(),\n",
        "            nn.MaxPool3d((1, 2, 2)),\n",
        "\n",
        "            nn.Conv3d(32, 64, kernel_size=(3, 3, 3), stride=1, padding=1),\n",
        "            nn.BatchNorm3d(64),\n",
        "            nn.ReLU(),\n",
        "            nn.MaxPool3d((2, 2, 2)),\n",
        "\n",
        "            nn.Conv3d(64, 128, kernel_size=(3, 3, 3), stride=1, padding=1),\n",
        "            nn.BatchNorm3d(128),\n",
        "            nn.ReLU(),\n",
        "            nn.MaxPool3d((2, 2, 2)),\n",
        "\n",
        "            # Extra Conv Block (Phase 3 addition)\n",
        "            nn.Conv3d(128, 256, kernel_size=(3, 3, 3), stride=1, padding=1),\n",
        "            nn.BatchNorm3d(256),\n",
        "            nn.ReLU(),\n",
        "        ]\n",
        "\n",
        "        if dropout:\n",
        "            layers.append(nn.Dropout3d(p=dropout))\n",
        "\n",
        "        layers.append(nn.AdaptiveAvgPool3d((1, 1, 1)))\n",
        "        self.model = nn.Sequential(*layers)\n",
        "        self.fc = nn.Linear(256, num_classes)\n",
        "\n",
        "    def forward(self, x):\n",
        "        x = self.model(x)  # (B, 256, 1, 1, 1)\n",
        "        x = x.view(x.size(0), -1)  # (B, 256)\n",
        "        return self.fc(x)"
      ],
      "metadata": {
        "id": "bRjrgbl2FnQ_"
      },
      "execution_count": 9,
      "outputs": []
    },
    {
      "cell_type": "code",
      "source": [
        "model = Simple3DCNNPhase3(num_classes=NUM_CLASSES, dropout=None).to(DEVICE)\n",
        "criterion = nn.CrossEntropyLoss()\n",
        "optimizer = AdamW(model.parameters(), lr=1e-4, weight_decay=1e-4)\n",
        "scheduler = StepLR(optimizer, step_size=10, gamma=0.5)\n",
        "\n",
        "wandb.init(project=\"3dcnn-phase3\", name=\"phase3-extra-conv\", config={\n",
        "    \"architecture\": \"Simple3DCNNPhase3\",\n",
        "    \"dropout\": None,\n",
        "    \"optimizer\": \"AdamW\",\n",
        "    \"learning_rate\": 1e-4,\n",
        "    \"weight_decay\": 1e-4,\n",
        "    \"scheduler\": \"StepLR (step=10, gamma=0.5)\",\n",
        "    \"epochs\": 15,\n",
        "    \"batch_size\": train_loader.batch_size,\n",
        "    \"dataset\": \"full-single-sequence\"\n",
        "})\n",
        "\n",
        "EPOCHS = 15\n",
        "for epoch in range(EPOCHS):\n",
        "    model.train()\n",
        "    running_loss = 0.0\n",
        "\n",
        "    for x, y in train_loader:  # full dataset, single sequence per video\n",
        "        x, y = x.to(DEVICE), y.to(DEVICE)\n",
        "        optimizer.zero_grad()\n",
        "        logits = model(x.permute(0, 2, 1, 3, 4))  # (B, 3, T, H, W)\n",
        "        loss = criterion(logits, y)\n",
        "        loss.backward()\n",
        "        optimizer.step()\n",
        "        running_loss += loss.item()\n",
        "\n",
        "    avg_train_loss = running_loss / len(train_loader)\n",
        "    train_loss, train_acc, train_auc = evaluate(model, train_loader, criterion, split='Train', return_metrics=True)\n",
        "    test_loss, test_acc, test_auc = evaluate(model, test_loader, criterion, split='Test', return_metrics=True)\n",
        "\n",
        "    wandb.log({\n",
        "        \"epoch\": epoch + 1,\n",
        "        \"train_loss\": train_loss,\n",
        "        \"train_accuracy\": train_acc,\n",
        "        \"train_auc\": train_auc,\n",
        "        \"test_loss\": test_loss,\n",
        "        \"test_accuracy\": test_acc,\n",
        "        \"test_auc\": test_auc,\n",
        "        \"lr\": scheduler.get_last_lr()[0]\n",
        "    })\n",
        "\n",
        "    print(f\"\\nEpoch {epoch+1}\")\n",
        "    print(f\"Train → Loss: {train_loss:.4f} | Acc: {train_acc:.4f} | AUC: {train_auc:.4f}\")\n",
        "    print(f\"Test  → Loss: {test_loss:.4f} | Acc: {test_acc:.4f} | AUC: {test_auc:.4f}\")\n",
        "    scheduler.step()"
      ],
      "metadata": {
        "colab": {
          "base_uri": "https://localhost:8080/",
          "height": 1000
        },
        "id": "txK58yWWF-oQ",
        "outputId": "4109cce6-1d94-4705-8ab3-83761befbcaf"
      },
      "execution_count": 20,
      "outputs": [
        {
          "output_type": "display_data",
          "data": {
            "text/plain": [
              "<IPython.core.display.HTML object>"
            ],
            "text/html": []
          },
          "metadata": {}
        },
        {
          "output_type": "display_data",
          "data": {
            "text/plain": [
              "<IPython.core.display.HTML object>"
            ],
            "text/html": [
              "<br>    <style><br>        .wandb-row {<br>            display: flex;<br>            flex-direction: row;<br>            flex-wrap: wrap;<br>            justify-content: flex-start;<br>            width: 100%;<br>        }<br>        .wandb-col {<br>            display: flex;<br>            flex-direction: column;<br>            flex-basis: 100%;<br>            flex: 1;<br>            padding: 10px;<br>        }<br>    </style><br><div class=\"wandb-row\"><div class=\"wandb-col\"><h3>Run history:</h3><br/><table class=\"wandb\"><tr><td>epoch</td><td>▁▁▂▃▃▃▄▅▅▅▆▇▇▇█</td></tr><tr><td>lr</td><td>██████████▁▁▁▁▁</td></tr><tr><td>test_accuracy</td><td>▁▆█▄▇▄▆▆▆▇▆▇▇█▅</td></tr><tr><td>test_auc</td><td>▁▄▄▄▄▇▇▆█▆▆▅▆▇▆</td></tr><tr><td>test_loss</td><td>█▃▂█▄▆▄▃▃▂▃▂▂▁▃</td></tr><tr><td>train_accuracy</td><td>▁▃▃▂▄▄▅▅▄▆▆████</td></tr><tr><td>train_auc</td><td>▁▄▄▁▄▅▆▆▅▇▇▇▇██</td></tr><tr><td>train_loss</td><td>█▅▅▆▄▄▃▃▄▂▂▂▁▂▁</td></tr></table><br/></div><div class=\"wandb-col\"><h3>Run summary:</h3><br/><table class=\"wandb\"><tr><td>epoch</td><td>15</td></tr><tr><td>lr</td><td>5e-05</td></tr><tr><td>test_accuracy</td><td>0.29231</td></tr><tr><td>test_auc</td><td>0.63017</td></tr><tr><td>test_loss</td><td>1.98735</td></tr><tr><td>train_accuracy</td><td>0.43706</td></tr><tr><td>train_auc</td><td>0.7806</td></tr><tr><td>train_loss</td><td>1.62363</td></tr></table><br/></div></div>"
            ]
          },
          "metadata": {}
        },
        {
          "output_type": "display_data",
          "data": {
            "text/plain": [
              "<IPython.core.display.HTML object>"
            ],
            "text/html": [
              " View run <strong style=\"color:#cdcd00\">phase2-single-seq-full</strong> at: <a href='https://wandb.ai/fareesahhussain-city-university-of-london/3d-cnn-phase2/runs/tw4mo1f3' target=\"_blank\">https://wandb.ai/fareesahhussain-city-university-of-london/3d-cnn-phase2/runs/tw4mo1f3</a><br> View project at: <a href='https://wandb.ai/fareesahhussain-city-university-of-london/3d-cnn-phase2' target=\"_blank\">https://wandb.ai/fareesahhussain-city-university-of-london/3d-cnn-phase2</a><br>Synced 5 W&B file(s), 0 media file(s), 0 artifact file(s) and 0 other file(s)"
            ]
          },
          "metadata": {}
        },
        {
          "output_type": "display_data",
          "data": {
            "text/plain": [
              "<IPython.core.display.HTML object>"
            ],
            "text/html": [
              "Find logs at: <code>./wandb/run-20250421_203008-tw4mo1f3/logs</code>"
            ]
          },
          "metadata": {}
        },
        {
          "output_type": "display_data",
          "data": {
            "text/plain": [
              "<IPython.core.display.HTML object>"
            ],
            "text/html": [
              "Tracking run with wandb version 0.19.9"
            ]
          },
          "metadata": {}
        },
        {
          "output_type": "display_data",
          "data": {
            "text/plain": [
              "<IPython.core.display.HTML object>"
            ],
            "text/html": [
              "Run data is saved locally in <code>/content/wandb/run-20250421_204428-m62a10za</code>"
            ]
          },
          "metadata": {}
        },
        {
          "output_type": "display_data",
          "data": {
            "text/plain": [
              "<IPython.core.display.HTML object>"
            ],
            "text/html": [
              "Syncing run <strong><a href='https://wandb.ai/fareesahhussain-city-university-of-london/3dcnn-phase3/runs/m62a10za' target=\"_blank\">phase3-extra-conv</a></strong> to <a href='https://wandb.ai/fareesahhussain-city-university-of-london/3dcnn-phase3' target=\"_blank\">Weights & Biases</a> (<a href='https://wandb.me/developer-guide' target=\"_blank\">docs</a>)<br>"
            ]
          },
          "metadata": {}
        },
        {
          "output_type": "display_data",
          "data": {
            "text/plain": [
              "<IPython.core.display.HTML object>"
            ],
            "text/html": [
              " View project at <a href='https://wandb.ai/fareesahhussain-city-university-of-london/3dcnn-phase3' target=\"_blank\">https://wandb.ai/fareesahhussain-city-university-of-london/3dcnn-phase3</a>"
            ]
          },
          "metadata": {}
        },
        {
          "output_type": "display_data",
          "data": {
            "text/plain": [
              "<IPython.core.display.HTML object>"
            ],
            "text/html": [
              " View run at <a href='https://wandb.ai/fareesahhussain-city-university-of-london/3dcnn-phase3/runs/m62a10za' target=\"_blank\">https://wandb.ai/fareesahhussain-city-university-of-london/3dcnn-phase3/runs/m62a10za</a>"
            ]
          },
          "metadata": {}
        },
        {
          "output_type": "stream",
          "name": "stdout",
          "text": [
            "\n",
            "Epoch 1\n",
            "Train → Loss: 1.8836 | Acc: 0.3462 | AUC: 0.6775\n",
            "Test  → Loss: 2.0515 | Acc: 0.2308 | AUC: 0.6006\n",
            "\n",
            "Epoch 2\n",
            "Train → Loss: 1.8030 | Acc: 0.3287 | AUC: 0.6928\n",
            "Test  → Loss: 2.0253 | Acc: 0.2154 | AUC: 0.5900\n",
            "\n",
            "Epoch 3\n",
            "Train → Loss: 1.7203 | Acc: 0.3846 | AUC: 0.7339\n",
            "Test  → Loss: 2.0430 | Acc: 0.3231 | AUC: 0.6309\n",
            "\n",
            "Epoch 4\n",
            "Train → Loss: 1.7407 | Acc: 0.3427 | AUC: 0.7345\n",
            "Test  → Loss: 2.1026 | Acc: 0.2923 | AUC: 0.6167\n",
            "\n",
            "Epoch 5\n",
            "Train → Loss: 1.7221 | Acc: 0.3846 | AUC: 0.7324\n",
            "Test  → Loss: 2.0567 | Acc: 0.3385 | AUC: 0.6316\n",
            "\n",
            "Epoch 6\n",
            "Train → Loss: 1.6295 | Acc: 0.4371 | AUC: 0.7612\n",
            "Test  → Loss: 2.0172 | Acc: 0.2769 | AUC: 0.6341\n",
            "\n",
            "Epoch 7\n",
            "Train → Loss: 1.6201 | Acc: 0.4336 | AUC: 0.7786\n",
            "Test  → Loss: 1.9558 | Acc: 0.2769 | AUC: 0.6390\n",
            "\n",
            "Epoch 8\n",
            "Train → Loss: 1.6247 | Acc: 0.4231 | AUC: 0.7723\n",
            "Test  → Loss: 2.0037 | Acc: 0.2769 | AUC: 0.6430\n",
            "\n",
            "Epoch 9\n",
            "Train → Loss: 1.5841 | Acc: 0.4161 | AUC: 0.7846\n",
            "Test  → Loss: 2.1543 | Acc: 0.2769 | AUC: 0.6257\n",
            "\n",
            "Epoch 10\n",
            "Train → Loss: 1.5689 | Acc: 0.4545 | AUC: 0.7898\n",
            "Test  → Loss: 2.1006 | Acc: 0.2923 | AUC: 0.6089\n",
            "\n",
            "Epoch 11\n",
            "Train → Loss: 1.5153 | Acc: 0.4930 | AUC: 0.8125\n",
            "Test  → Loss: 2.0189 | Acc: 0.2923 | AUC: 0.6117\n",
            "\n",
            "Epoch 12\n",
            "Train → Loss: 1.5470 | Acc: 0.4755 | AUC: 0.8165\n",
            "Test  → Loss: 2.0434 | Acc: 0.2769 | AUC: 0.6043\n",
            "\n",
            "Epoch 13\n",
            "Train → Loss: 1.4985 | Acc: 0.5175 | AUC: 0.8148\n",
            "Test  → Loss: 2.0888 | Acc: 0.2769 | AUC: 0.6294\n",
            "\n",
            "Epoch 14\n",
            "Train → Loss: 1.5003 | Acc: 0.4930 | AUC: 0.8227\n",
            "Test  → Loss: 2.0250 | Acc: 0.3077 | AUC: 0.6219\n",
            "\n",
            "Epoch 15\n",
            "Train → Loss: 1.4622 | Acc: 0.5000 | AUC: 0.8303\n",
            "Test  → Loss: 2.0458 | Acc: 0.2923 | AUC: 0.6163\n"
          ]
        }
      ]
    },
    {
      "cell_type": "markdown",
      "source": [
        "## Phase 4: Class-balanced Loss"
      ],
      "metadata": {
        "id": "apneslBHIKI-"
      }
    },
    {
      "cell_type": "code",
      "source": [
        "from collections import Counter\n",
        "import torch\n",
        "\n",
        "labels = [int(label) for _, label in train_dataset]\n",
        "label_counts = Counter(labels)\n",
        "\n",
        "class_counts = torch.tensor([label_counts.get(i, 0) for i in range(NUM_CLASSES)], dtype=torch.float)\n",
        "print(\"Class Counts:\", class_counts)\n",
        "\n",
        "class_weights = 1.0 / (class_counts + 1e-6)\n",
        "class_weights = class_weights / class_weights.sum() * NUM_CLASSES\n",
        "print(\"Class Weights:\", class_weights)"
      ],
      "metadata": {
        "colab": {
          "base_uri": "https://localhost:8080/"
        },
        "id": "V_L7dGKHIJc4",
        "outputId": "0d6a4387-b10c-4897-cede-14b522dd1f38"
      },
      "execution_count": 12,
      "outputs": [
        {
          "output_type": "stream",
          "name": "stdout",
          "text": [
            "Class Counts: tensor([30., 20., 34., 40., 20., 35., 80., 27.])\n",
            "Class Weights: tensor([1.0031, 1.5046, 0.8851, 0.7523, 1.5046, 0.8598, 0.3761, 1.1145])\n"
          ]
        }
      ]
    },
    {
      "cell_type": "code",
      "source": [
        "import wandb\n",
        "from torch.optim import AdamW\n",
        "from torch.optim.lr_scheduler import StepLR\n",
        "\n",
        "model = Simple3DCNNPhase3(num_classes=NUM_CLASSES, dropout=None).to(DEVICE)\n",
        "criterion = nn.CrossEntropyLoss(weight=class_weights.to(DEVICE)) # change added here!!!\n",
        "optimizer = AdamW(model.parameters(), lr=1e-4, weight_decay=1e-4)\n",
        "scheduler = StepLR(optimizer, step_size=10, gamma=0.5)\n",
        "\n",
        "# Init wandb\n",
        "wandb.init(project=\"3dcnn-phase4\", config={\n",
        "    \"model\": \"Simple3DCNNPhase3\",\n",
        "    \"optimizer\": \"AdamW\",\n",
        "    \"lr\": 1e-4,\n",
        "    \"weight_decay\": 1e-4,\n",
        "    \"scheduler\": \"StepLR (step=10, gamma=0.5)\",\n",
        "    \"epochs\": 15,\n",
        "    \"loss\": \"CrossEntropyLoss (class-weighted)\",\n",
        "    \"dropout\": None\n",
        "})\n",
        "\n",
        "EPOCHS = 15\n",
        "for epoch in range(EPOCHS):\n",
        "    model.train()\n",
        "    running_loss = 0.0\n",
        "    for x, y in train_loader:\n",
        "        x, y = x.to(DEVICE), y.to(DEVICE)\n",
        "        optimizer.zero_grad()\n",
        "        logits = model(x.permute(0, 2, 1, 3, 4))  # [B, C, T, H, W]\n",
        "        loss = criterion(logits, y)\n",
        "        loss.backward()\n",
        "        optimizer.step()\n",
        "        running_loss += loss.item()\n",
        "\n",
        "    avg_train_loss = running_loss / len(train_loader)\n",
        "    train_loss, train_acc, train_auc = evaluate(model, train_loader, criterion, split='Train', return_metrics=True)\n",
        "    test_loss, test_acc, test_auc = evaluate(model, test_loader, criterion, split='Test', return_metrics=True)\n",
        "\n",
        "    wandb.log({\n",
        "        \"epoch\": epoch + 1,\n",
        "        \"train_loss\": train_loss,\n",
        "        \"train_accuracy\": train_acc,\n",
        "        \"train_auc\": train_auc,\n",
        "        \"test_loss\": test_loss,\n",
        "        \"test_accuracy\": test_acc,\n",
        "        \"test_auc\": test_auc,\n",
        "        \"lr\": scheduler.get_last_lr()[0]\n",
        "    })\n",
        "\n",
        "    print(f\"\\nEpoch {epoch+1}\")\n",
        "    print(f\"Train → Loss: {train_loss:.4f} | Acc: {train_acc:.4f} | AUC: {train_auc:.4f}\")\n",
        "    print(f\"Test  → Loss: {test_loss:.4f} | Acc: {test_acc:.4f} | AUC: {test_auc:.4f}\")\n",
        "\n",
        "    scheduler.step()"
      ],
      "metadata": {
        "colab": {
          "base_uri": "https://localhost:8080/",
          "height": 1000
        },
        "id": "g6gfNCKRKLnI",
        "outputId": "4b4d50f8-4fc6-4a0c-bbad-ea89c7ee7096"
      },
      "execution_count": 16,
      "outputs": [
        {
          "output_type": "display_data",
          "data": {
            "text/plain": [
              "<IPython.core.display.HTML object>"
            ],
            "text/html": []
          },
          "metadata": {}
        },
        {
          "output_type": "display_data",
          "data": {
            "text/plain": [
              "<IPython.core.display.HTML object>"
            ],
            "text/html": [
              " View run <strong style=\"color:#cdcd00\">silvery-water-1</strong> at: <a href='https://wandb.ai/fareesahhussain-city-university-of-london/3dcnn-phase4/runs/mm82zm6m' target=\"_blank\">https://wandb.ai/fareesahhussain-city-university-of-london/3dcnn-phase4/runs/mm82zm6m</a><br> View project at: <a href='https://wandb.ai/fareesahhussain-city-university-of-london/3dcnn-phase4' target=\"_blank\">https://wandb.ai/fareesahhussain-city-university-of-london/3dcnn-phase4</a><br>Synced 5 W&B file(s), 0 media file(s), 0 artifact file(s) and 0 other file(s)"
            ]
          },
          "metadata": {}
        },
        {
          "output_type": "display_data",
          "data": {
            "text/plain": [
              "<IPython.core.display.HTML object>"
            ],
            "text/html": [
              "Find logs at: <code>./wandb/run-20250421_211356-mm82zm6m/logs</code>"
            ]
          },
          "metadata": {}
        },
        {
          "output_type": "display_data",
          "data": {
            "text/plain": [
              "<IPython.core.display.HTML object>"
            ],
            "text/html": [
              "Tracking run with wandb version 0.19.9"
            ]
          },
          "metadata": {}
        },
        {
          "output_type": "display_data",
          "data": {
            "text/plain": [
              "<IPython.core.display.HTML object>"
            ],
            "text/html": [
              "Run data is saved locally in <code>/content/wandb/run-20250421_211442-8uu1szaw</code>"
            ]
          },
          "metadata": {}
        },
        {
          "output_type": "display_data",
          "data": {
            "text/plain": [
              "<IPython.core.display.HTML object>"
            ],
            "text/html": [
              "Syncing run <strong><a href='https://wandb.ai/fareesahhussain-city-university-of-london/3dcnn-phase4/runs/8uu1szaw' target=\"_blank\">worthy-aardvark-2</a></strong> to <a href='https://wandb.ai/fareesahhussain-city-university-of-london/3dcnn-phase4' target=\"_blank\">Weights & Biases</a> (<a href='https://wandb.me/developer-guide' target=\"_blank\">docs</a>)<br>"
            ]
          },
          "metadata": {}
        },
        {
          "output_type": "display_data",
          "data": {
            "text/plain": [
              "<IPython.core.display.HTML object>"
            ],
            "text/html": [
              " View project at <a href='https://wandb.ai/fareesahhussain-city-university-of-london/3dcnn-phase4' target=\"_blank\">https://wandb.ai/fareesahhussain-city-university-of-london/3dcnn-phase4</a>"
            ]
          },
          "metadata": {}
        },
        {
          "output_type": "display_data",
          "data": {
            "text/plain": [
              "<IPython.core.display.HTML object>"
            ],
            "text/html": [
              " View run at <a href='https://wandb.ai/fareesahhussain-city-university-of-london/3dcnn-phase4/runs/8uu1szaw' target=\"_blank\">https://wandb.ai/fareesahhussain-city-university-of-london/3dcnn-phase4/runs/8uu1szaw</a>"
            ]
          },
          "metadata": {}
        },
        {
          "output_type": "stream",
          "name": "stdout",
          "text": [
            "\n",
            "Epoch 1\n",
            "Train → Loss: 1.9277 | Acc: 0.2972 | AUC: 0.6831\n",
            "Test  → Loss: 2.1697 | Acc: 0.1077 | AUC: 0.5405\n",
            "\n",
            "Epoch 2\n",
            "Train → Loss: 1.9445 | Acc: 0.2308 | AUC: 0.6737\n",
            "Test  → Loss: 2.2439 | Acc: 0.0769 | AUC: 0.5222\n",
            "\n",
            "Epoch 3\n",
            "Train → Loss: 1.8460 | Acc: 0.3916 | AUC: 0.7201\n",
            "Test  → Loss: 2.0864 | Acc: 0.2154 | AUC: 0.5837\n",
            "\n",
            "Epoch 4\n",
            "Train → Loss: 1.8391 | Acc: 0.2902 | AUC: 0.7431\n",
            "Test  → Loss: 2.1505 | Acc: 0.1077 | AUC: 0.5338\n",
            "\n",
            "Epoch 5\n",
            "Train → Loss: 1.8435 | Acc: 0.4091 | AUC: 0.7465\n",
            "Test  → Loss: 2.2093 | Acc: 0.2615 | AUC: 0.5896\n",
            "\n",
            "Epoch 6\n",
            "Train → Loss: 1.7581 | Acc: 0.4056 | AUC: 0.7803\n",
            "Test  → Loss: 2.1125 | Acc: 0.1692 | AUC: 0.5701\n",
            "\n",
            "Epoch 7\n",
            "Train → Loss: 1.7196 | Acc: 0.4406 | AUC: 0.7878\n",
            "Test  → Loss: 2.1110 | Acc: 0.1846 | AUC: 0.5706\n",
            "\n",
            "Epoch 8\n",
            "Train → Loss: 1.7861 | Acc: 0.2797 | AUC: 0.7812\n",
            "Test  → Loss: 2.1983 | Acc: 0.1692 | AUC: 0.6088\n",
            "\n",
            "Epoch 9\n",
            "Train → Loss: 1.6733 | Acc: 0.4720 | AUC: 0.8008\n",
            "Test  → Loss: 2.0676 | Acc: 0.2308 | AUC: 0.5948\n",
            "\n",
            "Epoch 10\n",
            "Train → Loss: 1.6778 | Acc: 0.4301 | AUC: 0.7984\n",
            "Test  → Loss: 2.1395 | Acc: 0.2154 | AUC: 0.5981\n",
            "\n",
            "Epoch 11\n",
            "Train → Loss: 1.5917 | Acc: 0.4720 | AUC: 0.8129\n",
            "Test  → Loss: 2.0726 | Acc: 0.2462 | AUC: 0.6234\n",
            "\n",
            "Epoch 12\n",
            "Train → Loss: 1.6054 | Acc: 0.5000 | AUC: 0.8168\n",
            "Test  → Loss: 2.0565 | Acc: 0.2462 | AUC: 0.6287\n",
            "\n",
            "Epoch 13\n",
            "Train → Loss: 1.5774 | Acc: 0.5140 | AUC: 0.8358\n",
            "Test  → Loss: 2.1339 | Acc: 0.2769 | AUC: 0.6213\n",
            "\n",
            "Epoch 14\n",
            "Train → Loss: 1.6056 | Acc: 0.4685 | AUC: 0.8238\n",
            "Test  → Loss: 2.2206 | Acc: 0.2308 | AUC: 0.6178\n",
            "\n",
            "Epoch 15\n",
            "Train → Loss: 1.5713 | Acc: 0.4825 | AUC: 0.8344\n",
            "Test  → Loss: 2.0880 | Acc: 0.2615 | AUC: 0.6223\n"
          ]
        }
      ]
    },
    {
      "cell_type": "markdown",
      "source": [
        "## Phase 5: Grid Search"
      ],
      "metadata": {
        "id": "kFTihu87R9dL"
      }
    },
    {
      "cell_type": "code",
      "source": [
        "import torch\n",
        "import torch.nn as nn\n",
        "import torch.nn.functional as F\n",
        "from torch.optim import AdamW\n",
        "from torch.optim.lr_scheduler import StepLR\n",
        "from sklearn.metrics import accuracy_score, roc_auc_score\n",
        "import wandb\n",
        "from copy import deepcopy\n",
        "\n",
        "class Simple3DCNNGrid(nn.Module):\n",
        "    def __init__(self, num_classes=8, dropout=None):\n",
        "        super().__init__()\n",
        "        layers = [\n",
        "            nn.Conv3d(3, 32, kernel_size=(3, 5, 5), stride=1, padding=(1, 2, 2)),\n",
        "            nn.BatchNorm3d(32),\n",
        "            nn.ReLU(),\n",
        "            nn.MaxPool3d((1, 2, 2)),\n",
        "\n",
        "            nn.Conv3d(32, 64, kernel_size=(3, 3, 3), stride=1, padding=1),\n",
        "            nn.BatchNorm3d(64),\n",
        "            nn.ReLU(),\n",
        "            nn.MaxPool3d((2, 2, 2)),\n",
        "\n",
        "            nn.Conv3d(64, 128, kernel_size=(3, 3, 3), stride=1, padding=1),\n",
        "            nn.BatchNorm3d(128),\n",
        "            nn.ReLU(),\n",
        "            nn.MaxPool3d((2, 2, 2)),\n",
        "\n",
        "            nn.Conv3d(128, 256, kernel_size=(3, 3, 3), stride=1, padding=1),\n",
        "            nn.BatchNorm3d(256),\n",
        "            nn.ReLU()\n",
        "        ]\n",
        "        if dropout:\n",
        "            layers.append(nn.Dropout3d(p=dropout))\n",
        "        layers.append(nn.AdaptiveAvgPool3d((1, 1, 1)))\n",
        "\n",
        "        self.model = nn.Sequential(*layers)\n",
        "        self.fc = nn.Linear(256, num_classes)\n",
        "\n",
        "    def forward(self, x):\n",
        "        x = self.model(x)\n",
        "        x = x.view(x.size(0), -1)\n",
        "        return self.fc(x)"
      ],
      "metadata": {
        "id": "EPKmi77yR_Vp"
      },
      "execution_count": 17,
      "outputs": []
    },
    {
      "cell_type": "code",
      "source": [
        "import pandas as pd\n",
        "\n",
        "# define grid\n",
        "dropouts = [None, 0.2, 0.5]\n",
        "weight_decays = [0.0, 1e-4]\n",
        "learning_rates = [1e-4, 5e-5]\n",
        "\n",
        "EPOCHS = 15\n",
        "results = []\n",
        "\n",
        "# grid search loop\n",
        "sweep_idx = 0\n",
        "for dropout in dropouts:\n",
        "    for wd in weight_decays:\n",
        "        for lr in learning_rates:\n",
        "            sweep_id = f\"d{dropout}_wd{wd}_lr{lr}\"\n",
        "\n",
        "            print(f\"\\nStarting Sweep: {sweep_id}\")\n",
        "\n",
        "            # Set up model, loss, optimizer\n",
        "            model = Simple3DCNNGrid(num_classes=NUM_CLASSES, dropout=dropout).to(DEVICE)\n",
        "            criterion = nn.CrossEntropyLoss(weight=class_weights.to(DEVICE))  # no label smoothing\n",
        "            optimizer = AdamW(model.parameters(), lr=lr, weight_decay=wd)\n",
        "            scheduler = StepLR(optimizer, step_size=10, gamma=0.5)\n",
        "\n",
        "            wandb.init(project=\"3dcnn-gridsearch\", name=sweep_id)\n",
        "            wandb.config.update({\n",
        "                \"dropout\": dropout,\n",
        "                \"weight_decay\": wd,\n",
        "                \"lr\": lr,\n",
        "                \"epochs\": EPOCHS,\n",
        "                \"batch_size\": train_loader.batch_size,\n",
        "            })\n",
        "\n",
        "            for epoch in range(EPOCHS):\n",
        "                model.train()\n",
        "                running_loss = 0.0\n",
        "\n",
        "                for x, y in train_loader:\n",
        "                    x, y = x.to(DEVICE), y.to(DEVICE)\n",
        "                    optimizer.zero_grad()\n",
        "                    logits = model(x.permute(0, 2, 1, 3, 4))  # (B, 3, T, H, W)\n",
        "                    loss = criterion(logits, y)\n",
        "                    loss.backward()\n",
        "                    optimizer.step()\n",
        "                    running_loss += loss.item()\n",
        "\n",
        "                avg_train_loss = running_loss / len(train_loader)\n",
        "\n",
        "                train_loss, train_acc, train_auc = evaluate(model, train_loader, criterion, return_metrics=True)\n",
        "                test_loss, test_acc, test_auc = evaluate(model, test_loader, criterion, return_metrics=True)\n",
        "\n",
        "                # Log to wandb\n",
        "                wandb.log({\n",
        "                    \"epoch\": epoch + 1,\n",
        "                    \"train_loss\": train_loss,\n",
        "                    \"train_accuracy\": train_acc,\n",
        "                    \"train_auc\": train_auc,\n",
        "                    \"test_loss\": test_loss,\n",
        "                    \"test_accuracy\": test_acc,\n",
        "                    \"test_auc\": test_auc,\n",
        "                    \"lr\": scheduler.get_last_lr()[0],\n",
        "                })\n",
        "\n",
        "                # Log to results df\n",
        "                results.append({\n",
        "                    \"sweep_id\": sweep_id,\n",
        "                    \"epoch\": epoch + 1,\n",
        "                    \"dropout\": dropout,\n",
        "                    \"weight_decay\": wd,\n",
        "                    \"lr\": lr,\n",
        "                    \"train_loss\": train_loss,\n",
        "                    \"train_acc\": train_acc,\n",
        "                    \"train_auc\": train_auc,\n",
        "                    \"test_loss\": test_loss,\n",
        "                    \"test_acc\": test_acc,\n",
        "                    \"test_auc\": test_auc,\n",
        "                })\n",
        "\n",
        "                scheduler.step()\n",
        "\n",
        "            wandb.finish()\n",
        "            # print last epoch summary for this sweep\n",
        "            last_epoch_metrics = results[-1]\n",
        "            print(f\"\\nSweep {sweep_id} complete.\")\n",
        "            print(f\"Last Epoch Summary:\")\n",
        "            print(f\"  Train → Loss: {last_epoch_metrics['train_loss']:.4f} | \"\n",
        "                  f\"Acc: {last_epoch_metrics['train_acc']:.4f} | \"\n",
        "                  f\"AUC: {last_epoch_metrics['train_auc']:.4f}\")\n",
        "            print(f\"  Test  → Loss: {last_epoch_metrics['test_loss']:.4f} | \"\n",
        "                  f\"Acc: {last_epoch_metrics['test_acc']:.4f} | \"\n",
        "                  f\"AUC: {last_epoch_metrics['test_auc']:.4f}\\n\")\n",
        "            sweep_idx += 1\n",
        "\n",
        "# Save all sweep results\n",
        "df_grid_search = pd.DataFrame(results)"
      ],
      "metadata": {
        "colab": {
          "base_uri": "https://localhost:8080/",
          "height": 1000
        },
        "id": "np_nqAfvSGAi",
        "outputId": "ecd39860-8f17-4b8e-c54c-05d50ca5d05a"
      },
      "execution_count": null,
      "outputs": [
        {
          "output_type": "stream",
          "name": "stdout",
          "text": [
            "\n",
            "Starting Sweep: dNone_wd0.0_lr0.0001\n"
          ]
        },
        {
          "output_type": "display_data",
          "data": {
            "text/plain": [
              "<IPython.core.display.HTML object>"
            ],
            "text/html": []
          },
          "metadata": {}
        },
        {
          "output_type": "display_data",
          "data": {
            "text/plain": [
              "<IPython.core.display.HTML object>"
            ],
            "text/html": [
              "<br>    <style><br>        .wandb-row {<br>            display: flex;<br>            flex-direction: row;<br>            flex-wrap: wrap;<br>            justify-content: flex-start;<br>            width: 100%;<br>        }<br>        .wandb-col {<br>            display: flex;<br>            flex-direction: column;<br>            flex-basis: 100%;<br>            flex: 1;<br>            padding: 10px;<br>        }<br>    </style><br><div class=\"wandb-row\"><div class=\"wandb-col\"><h3>Run history:</h3><br/><table class=\"wandb\"><tr><td>epoch</td><td>▁▂▃▄▅▅▆▇█</td></tr><tr><td>lr</td><td>▁▁▁▁▁▁▁▁▁</td></tr><tr><td>test_accuracy</td><td>▂▅▁█▁▆▄▄▅</td></tr><tr><td>test_auc</td><td>▁▇▄▇█▇▄▇█</td></tr><tr><td>test_loss</td><td>▄▁▄▅█▁▄▅▁</td></tr><tr><td>train_accuracy</td><td>▁▄▄▇▅▄██▇</td></tr><tr><td>train_auc</td><td>▁▃▅▅▆▆▇██</td></tr><tr><td>train_loss</td><td>█▅▄▄▃▄▁▁▂</td></tr></table><br/></div><div class=\"wandb-col\"><h3>Run summary:</h3><br/><table class=\"wandb\"><tr><td>epoch</td><td>9</td></tr><tr><td>lr</td><td>0.0001</td></tr><tr><td>test_accuracy</td><td>0.26154</td></tr><tr><td>test_auc</td><td>0.59529</td></tr><tr><td>test_loss</td><td>2.07944</td></tr><tr><td>train_accuracy</td><td>0.40559</td></tr><tr><td>train_auc</td><td>0.79879</td></tr><tr><td>train_loss</td><td>1.69904</td></tr></table><br/></div></div>"
            ]
          },
          "metadata": {}
        },
        {
          "output_type": "display_data",
          "data": {
            "text/plain": [
              "<IPython.core.display.HTML object>"
            ],
            "text/html": [
              " View run <strong style=\"color:#cdcd00\">dNone_wd0.0_lr0.0001_ls0.0</strong> at: <a href='https://wandb.ai/fareesahhussain-city-university-of-london/3dcnn-gridsearch/runs/mi8lkwhv' target=\"_blank\">https://wandb.ai/fareesahhussain-city-university-of-london/3dcnn-gridsearch/runs/mi8lkwhv</a><br> View project at: <a href='https://wandb.ai/fareesahhussain-city-university-of-london/3dcnn-gridsearch' target=\"_blank\">https://wandb.ai/fareesahhussain-city-university-of-london/3dcnn-gridsearch</a><br>Synced 5 W&B file(s), 0 media file(s), 0 artifact file(s) and 0 other file(s)"
            ]
          },
          "metadata": {}
        },
        {
          "output_type": "display_data",
          "data": {
            "text/plain": [
              "<IPython.core.display.HTML object>"
            ],
            "text/html": [
              "Find logs at: <code>./wandb/run-20250421_215250-mi8lkwhv/logs</code>"
            ]
          },
          "metadata": {}
        },
        {
          "output_type": "display_data",
          "data": {
            "text/plain": [
              "<IPython.core.display.HTML object>"
            ],
            "text/html": [
              "Tracking run with wandb version 0.19.9"
            ]
          },
          "metadata": {}
        },
        {
          "output_type": "display_data",
          "data": {
            "text/plain": [
              "<IPython.core.display.HTML object>"
            ],
            "text/html": [
              "Run data is saved locally in <code>/content/wandb/run-20250421_215818-vdei4hng</code>"
            ]
          },
          "metadata": {}
        },
        {
          "output_type": "display_data",
          "data": {
            "text/plain": [
              "<IPython.core.display.HTML object>"
            ],
            "text/html": [
              "Syncing run <strong><a href='https://wandb.ai/fareesahhussain-city-university-of-london/3dcnn-gridsearch/runs/vdei4hng' target=\"_blank\">dNone_wd0.0_lr0.0001</a></strong> to <a href='https://wandb.ai/fareesahhussain-city-university-of-london/3dcnn-gridsearch' target=\"_blank\">Weights & Biases</a> (<a href='https://wandb.me/developer-guide' target=\"_blank\">docs</a>)<br>"
            ]
          },
          "metadata": {}
        },
        {
          "output_type": "display_data",
          "data": {
            "text/plain": [
              "<IPython.core.display.HTML object>"
            ],
            "text/html": [
              " View project at <a href='https://wandb.ai/fareesahhussain-city-university-of-london/3dcnn-gridsearch' target=\"_blank\">https://wandb.ai/fareesahhussain-city-university-of-london/3dcnn-gridsearch</a>"
            ]
          },
          "metadata": {}
        },
        {
          "output_type": "display_data",
          "data": {
            "text/plain": [
              "<IPython.core.display.HTML object>"
            ],
            "text/html": [
              " View run at <a href='https://wandb.ai/fareesahhussain-city-university-of-london/3dcnn-gridsearch/runs/vdei4hng' target=\"_blank\">https://wandb.ai/fareesahhussain-city-university-of-london/3dcnn-gridsearch/runs/vdei4hng</a>"
            ]
          },
          "metadata": {}
        },
        {
          "output_type": "display_data",
          "data": {
            "text/plain": [
              "<IPython.core.display.HTML object>"
            ],
            "text/html": []
          },
          "metadata": {}
        },
        {
          "output_type": "display_data",
          "data": {
            "text/plain": [
              "<IPython.core.display.HTML object>"
            ],
            "text/html": [
              "<br>    <style><br>        .wandb-row {<br>            display: flex;<br>            flex-direction: row;<br>            flex-wrap: wrap;<br>            justify-content: flex-start;<br>            width: 100%;<br>        }<br>        .wandb-col {<br>            display: flex;<br>            flex-direction: column;<br>            flex-basis: 100%;<br>            flex: 1;<br>            padding: 10px;<br>        }<br>    </style><br><div class=\"wandb-row\"><div class=\"wandb-col\"><h3>Run history:</h3><br/><table class=\"wandb\"><tr><td>epoch</td><td>▁▁▂▃▃▃▄▅▅▅▆▇▇▇█</td></tr><tr><td>lr</td><td>██████████▁▁▁▁▁</td></tr><tr><td>test_accuracy</td><td>▁▂▃▅█▁▂▅▂▅▅▂▅▅▅</td></tr><tr><td>test_auc</td><td>▁▄▆█▅▃▅▆▄▃▅▅▆▅▆</td></tr><tr><td>test_loss</td><td>▇▇▄▄▄▄█▁▄▆▄█▄▅▆</td></tr><tr><td>train_accuracy</td><td>▁▄▄▄▆▃▃▅▃▆█▇▇▇█</td></tr><tr><td>train_auc</td><td>▁▂▃▃▅▄▅▄▅▅▇▇▇▇█</td></tr><tr><td>train_loss</td><td>█▆▆▆▅▅▅▅▄▄▂▂▂▁▁</td></tr></table><br/></div><div class=\"wandb-col\"><h3>Run summary:</h3><br/><table class=\"wandb\"><tr><td>epoch</td><td>15</td></tr><tr><td>lr</td><td>5e-05</td></tr><tr><td>test_accuracy</td><td>0.27692</td></tr><tr><td>test_auc</td><td>0.59259</td></tr><tr><td>test_loss</td><td>2.16671</td></tr><tr><td>train_accuracy</td><td>0.48951</td></tr><tr><td>train_auc</td><td>0.84887</td></tr><tr><td>train_loss</td><td>1.55051</td></tr></table><br/></div></div>"
            ]
          },
          "metadata": {}
        },
        {
          "output_type": "display_data",
          "data": {
            "text/plain": [
              "<IPython.core.display.HTML object>"
            ],
            "text/html": [
              " View run <strong style=\"color:#cdcd00\">dNone_wd0.0_lr0.0001</strong> at: <a href='https://wandb.ai/fareesahhussain-city-university-of-london/3dcnn-gridsearch/runs/vdei4hng' target=\"_blank\">https://wandb.ai/fareesahhussain-city-university-of-london/3dcnn-gridsearch/runs/vdei4hng</a><br> View project at: <a href='https://wandb.ai/fareesahhussain-city-university-of-london/3dcnn-gridsearch' target=\"_blank\">https://wandb.ai/fareesahhussain-city-university-of-london/3dcnn-gridsearch</a><br>Synced 5 W&B file(s), 0 media file(s), 0 artifact file(s) and 0 other file(s)"
            ]
          },
          "metadata": {}
        },
        {
          "output_type": "display_data",
          "data": {
            "text/plain": [
              "<IPython.core.display.HTML object>"
            ],
            "text/html": [
              "Find logs at: <code>./wandb/run-20250421_215818-vdei4hng/logs</code>"
            ]
          },
          "metadata": {}
        },
        {
          "output_type": "stream",
          "name": "stdout",
          "text": [
            "\n",
            "Sweep dNone_wd0.0_lr0.0001 complete.\n",
            "Last Epoch Summary:\n",
            "  Train → Loss: 1.5505 | Acc: 0.4895 | AUC: 0.8489\n",
            "  Test  → Loss: 2.1667 | Acc: 0.2769 | AUC: 0.5926\n",
            "\n",
            "\n",
            "Starting Sweep: dNone_wd0.0_lr5e-05\n"
          ]
        },
        {
          "output_type": "display_data",
          "data": {
            "text/plain": [
              "<IPython.core.display.HTML object>"
            ],
            "text/html": [
              "Tracking run with wandb version 0.19.9"
            ]
          },
          "metadata": {}
        },
        {
          "output_type": "display_data",
          "data": {
            "text/plain": [
              "<IPython.core.display.HTML object>"
            ],
            "text/html": [
              "Run data is saved locally in <code>/content/wandb/run-20250421_220421-amwq65kn</code>"
            ]
          },
          "metadata": {}
        },
        {
          "output_type": "display_data",
          "data": {
            "text/plain": [
              "<IPython.core.display.HTML object>"
            ],
            "text/html": [
              "Syncing run <strong><a href='https://wandb.ai/fareesahhussain-city-university-of-london/3dcnn-gridsearch/runs/amwq65kn' target=\"_blank\">dNone_wd0.0_lr5e-05</a></strong> to <a href='https://wandb.ai/fareesahhussain-city-university-of-london/3dcnn-gridsearch' target=\"_blank\">Weights & Biases</a> (<a href='https://wandb.me/developer-guide' target=\"_blank\">docs</a>)<br>"
            ]
          },
          "metadata": {}
        },
        {
          "output_type": "display_data",
          "data": {
            "text/plain": [
              "<IPython.core.display.HTML object>"
            ],
            "text/html": [
              " View project at <a href='https://wandb.ai/fareesahhussain-city-university-of-london/3dcnn-gridsearch' target=\"_blank\">https://wandb.ai/fareesahhussain-city-university-of-london/3dcnn-gridsearch</a>"
            ]
          },
          "metadata": {}
        },
        {
          "output_type": "display_data",
          "data": {
            "text/plain": [
              "<IPython.core.display.HTML object>"
            ],
            "text/html": [
              " View run at <a href='https://wandb.ai/fareesahhussain-city-university-of-london/3dcnn-gridsearch/runs/amwq65kn' target=\"_blank\">https://wandb.ai/fareesahhussain-city-university-of-london/3dcnn-gridsearch/runs/amwq65kn</a>"
            ]
          },
          "metadata": {}
        }
      ]
    }
  ]
}